{
 "cells": [
  {
   "cell_type": "code",
   "execution_count": 1,
   "metadata": {},
   "outputs": [],
   "source": [
    "%load_ext autoreload\n",
    "%autoreload 2\n",
    "%matplotlib inline"
   ]
  },
  {
   "cell_type": "code",
   "execution_count": 2,
   "metadata": {},
   "outputs": [],
   "source": [
    "from tqdm.auto import tqdm\n",
    "from rl_analysis.plotting import setup_plotting_env, savefig, clean_ticks, plot_pval\n",
    "\n",
    "import pandas as pd\n",
    "import matplotlib.pyplot as plt\n",
    "import numpy as np\n",
    "import os\n",
    "import seaborn as sns"
   ]
  },
  {
   "cell_type": "code",
   "execution_count": 3,
   "metadata": {},
   "outputs": [],
   "source": [
    "import toml\n",
    "\n",
    "with open(\"../analysis_configuration.toml\", \"r\") as f:\n",
    "    analysis_config = toml.load(f)"
   ]
  },
  {
   "cell_type": "code",
   "execution_count": 4,
   "metadata": {},
   "outputs": [],
   "source": [
    "data_dirs = analysis_config[\"data_dirs\"]\n",
    "proc_dirs = analysis_config[\"intermediate_results\"]\n",
    "lagged_cfg = analysis_config[\"dlight_lagged_correlations\"]\n",
    "figure_cfg = analysis_config[\"figures\"]"
   ]
  },
  {
   "cell_type": "code",
   "execution_count": 5,
   "metadata": {},
   "outputs": [],
   "source": [
    "file_suffix = \"offline\" if lagged_cfg[\"use_offline\"] else \"online\"\n",
    "load_file = os.path.join(proc_dirs[\"dlight\"], f\"dlight_snippets_{file_suffix}.parquet\")"
   ]
  },
  {
   "cell_type": "code",
   "execution_count": 6,
   "metadata": {},
   "outputs": [],
   "source": [
    "file, ext = os.path.splitext(load_file)\n",
    "features_save_file = f\"{file}_features{ext}\"\n",
    "\n",
    "if lagged_cfg[\"use_renormalized\"]:\n",
    "    file, ext = os.path.splitext(features_save_file)\n",
    "    features_save_file = f\"{file}_renormalize{ext}\"\n",
    "\n",
    "rle_save_file = features_save_file.replace(\"snippet\", \"usage\")\n",
    "\n",
    "dirname, filename = os.path.split(features_save_file)\n",
    "file, ext = os.path.splitext(filename)\n",
    "file = os.path.join(proc_dirs[\"dlight\"], file)\n",
    "if lagged_cfg[\"estimate_within_bin\"]:\n",
    "    file = f\"{file}_withinbin\"\n",
    "results_file = f\"{file}_lag_usage_and_scalars_shifted.parquet\"\n",
    "results_tm_file = f\"{file}_lag_usage_and_scalars_shifted.npy\"\n",
    "corr_file = f\"{file}_lag_usage_and_scalars_shifted_correlations.parquet\"\n",
    "shuffle_file = f\"{file}_lag_usage_and_scalars_shifted_shuffle.parquet\""
   ]
  },
  {
   "cell_type": "code",
   "execution_count": 7,
   "metadata": {},
   "outputs": [],
   "source": [
    "use_features = []\n",
    "for _use_win in lagged_cfg[\"use_windows\"]:\n",
    "    use_features += [f\"{_}_{_use_win}\" for _ in lagged_cfg[\"use_neural_features\"]]\n",
    "scalar_keys = lagged_cfg[\"usage_and_scalars\"][\"scalars\"]"
   ]
  },
  {
   "cell_type": "markdown",
   "metadata": {},
   "source": [
    "# Plot it!"
   ]
  },
  {
   "cell_type": "code",
   "execution_count": 8,
   "metadata": {},
   "outputs": [],
   "source": [
    "agg_keys = [\"feature\", \"lag\", \"time_bin\"]\n",
    "final_agg_keys = [\"feature\", \"lag\"]"
   ]
  },
  {
   "cell_type": "code",
   "execution_count": 9,
   "metadata": {},
   "outputs": [],
   "source": [
    "obs_corrs = pd.read_parquet(corr_file)\n",
    "shuffle_df = pd.read_parquet(shuffle_file)"
   ]
  },
  {
   "cell_type": "code",
   "execution_count": 10,
   "metadata": {},
   "outputs": [],
   "source": [
    "obs_corrs_raw = obs_corrs.copy()"
   ]
  },
  {
   "cell_type": "code",
   "execution_count": 11,
   "metadata": {},
   "outputs": [],
   "source": [
    "obs_corrs = obs_corrs.groupby(agg_keys).mean()\n",
    "shuffle_mus = shuffle_df.groupby(obs_corrs.index.names).mean()\n",
    "shuffle_sigs = shuffle_df.groupby(obs_corrs.index.names).std()\n",
    "obs_mu = ((obs_corrs - shuffle_mus) / shuffle_sigs).groupby(final_agg_keys).mean()"
   ]
  },
  {
   "cell_type": "code",
   "execution_count": 12,
   "metadata": {},
   "outputs": [],
   "source": [
    "use_features = obs_mu.filter(regex=\"dff\").columns\n",
    "use_features = [_ for _ in use_features if \"bin\" not in _]"
   ]
  },
  {
   "cell_type": "code",
   "execution_count": 13,
   "metadata": {},
   "outputs": [],
   "source": [
    "shuffle_mu = (\n",
    "    shuffle_df.reset_index().set_index(agg_keys + [\"idx\"])[use_features]\n",
    "    - shuffle_mus[use_features]\n",
    ") / shuffle_sigs[use_features]"
   ]
  },
  {
   "cell_type": "code",
   "execution_count": 14,
   "metadata": {},
   "outputs": [],
   "source": [
    "shuffle_compare = shuffle_mu.groupby(final_agg_keys + [\"idx\"]).mean()[use_features]\n",
    "shuffle_compare.index = shuffle_compare.index.droplevel(\"idx\")\n",
    "obs_compare = obs_mu[use_features]\n",
    "\n",
    "dfs = []\n",
    "for _feature in use_features:\n",
    "    _pval = obs_compare.groupby([\"feature\", \"lag\"])[_feature].apply(\n",
    "        lambda x: (x.values < shuffle_compare.loc[x.name][_feature].abs().values).mean()\n",
    "    )\n",
    "    dfs.append(_pval)\n",
    "pval_df = pd.concat(dfs, axis=1)\n",
    "\n",
    "from statsmodels.stats.multitest import multipletests\n",
    "\n",
    "pval_df.values[:] = multipletests(pval_df.values.ravel(), method=\"holm\")[1].reshape(\n",
    "    pval_df.shape\n",
    ")"
   ]
  },
  {
   "cell_type": "code",
   "execution_count": 15,
   "metadata": {},
   "outputs": [],
   "source": [
    "use_bin = 10\n",
    "use_beh_feature = \"count\"\n",
    "neural_feature = use_features[0]"
   ]
  },
  {
   "cell_type": "code",
   "execution_count": 16,
   "metadata": {},
   "outputs": [],
   "source": [
    "zshuffles = (\n",
    "    shuffle_df.xs(use_beh_feature, level=\"feature\")[neural_feature]\n",
    "    - shuffle_mus.xs(use_beh_feature, level=\"feature\")[neural_feature]\n",
    ") / shuffle_sigs.xs(use_beh_feature, level=\"feature\")[neural_feature]"
   ]
  },
  {
   "cell_type": "code",
   "execution_count": 17,
   "metadata": {},
   "outputs": [],
   "source": [
    "cutoff = zshuffles.abs().groupby(\"lag\").quantile(0.95).median()"
   ]
  },
  {
   "cell_type": "code",
   "execution_count": 18,
   "metadata": {},
   "outputs": [],
   "source": [
    "setup_plotting_env()"
   ]
  },
  {
   "cell_type": "code",
   "execution_count": 19,
   "metadata": {},
   "outputs": [],
   "source": [
    "use_color = np.array([31.0, 119.0, 180.0]) / 255.0\n",
    "# use_colors = np.array([44., 160., 44.]) / 255"
   ]
  },
  {
   "cell_type": "code",
   "execution_count": 20,
   "metadata": {},
   "outputs": [],
   "source": [
    "alpha_thresh = 0.05\n",
    "continuity_thresh = 0"
   ]
  },
  {
   "cell_type": "code",
   "execution_count": 21,
   "metadata": {},
   "outputs": [],
   "source": [
    "from statsmodels.stats.multitest import multipletests\n",
    "\n",
    "pval_df.values[:] = multipletests(pval_df.values.ravel(), method=\"holm\")[1].reshape(\n",
    "    pval_df.shape\n",
    ")"
   ]
  },
  {
   "cell_type": "code",
   "execution_count": 22,
   "metadata": {},
   "outputs": [],
   "source": [
    "syllable_stats = toml.load(\n",
    "    os.path.join(proc_dirs[\"dlight\"], \"syllable_stats_photometry_offline.toml\")\n",
    ")\n",
    "duration = np.around(float(syllable_stats[\"duration\"][\"median\"]), 1)"
   ]
  },
  {
   "cell_type": "code",
   "execution_count": 23,
   "metadata": {},
   "outputs": [
    {
     "data": {
      "application/vnd.jupyter.widget-view+json": {
       "model_id": "1b7d1ee125cf4148b55f69ebe0198393",
       "version_major": 2,
       "version_minor": 0
      },
      "text/plain": [
       "  0%|          | 0/1 [00:00<?, ?it/s]"
      ]
     },
     "metadata": {},
     "output_type": "display_data"
    },
    {
     "data": {
      "image/png": "[encoded data removed]",
      "text/plain": [
       "<Figure size 250x250 with 1 Axes>"
      ]
     },
     "metadata": {},
     "output_type": "display_data"
    }
   ],
   "source": [
    "for neural_feature in tqdm(use_features):\n",
    "    fig, ax = plt.subplots(1, figsize=(1.25, 1.25))\n",
    "    ax.plot(\n",
    "        obs_mu.xs(use_beh_feature, level=\"feature\")[neural_feature],\n",
    "        marker=\"o\",\n",
    "        ms=3.5,\n",
    "        color=use_color,\n",
    "    )\n",
    "    ax.set_ylabel(\"Correlation between dLight\\n and counts\")\n",
    "    # ax.set_xlabel(\"n(syllables) from dLight window\")\n",
    "    ax.fill_between(ax.get_xlim(), -cutoff, +cutoff, zorder=-150, facecolor=[0.75] * 3)\n",
    "    ax.set_ylim(-3, 6)\n",
    "    ax.set_xlim(-5.5, 5.5)\n",
    "    ax.axvline(x=0, color=plt.rcParams[\"axes.edgecolor\"], zorder=-100)\n",
    "    ax.axhline(y=0, color=plt.rcParams[\"axes.edgecolor\"], zorder=-100)\n",
    "    clean_ticks(ax, \"y\", precision=0, dtype=int, zero_symmetry=False)\n",
    "    clean_ticks(ax, \"x\", precision=0, dtype=int)\n",
    "\n",
    "    offset = ax.get_ylim()[1] * 0.9\n",
    "    height = (ax.get_ylim()[1] - ax.get_ylim()[0]) * 0.0\n",
    "\n",
    "    keys = [use_beh_feature]\n",
    "    key_level = \"feature\"\n",
    "    plot_pval(\n",
    "        pval_df[neural_feature],\n",
    "        keys,\n",
    "        key_level,\n",
    "        ax=ax,\n",
    "        colors=[use_color],\n",
    "        offset=1.0,\n",
    "        height=0.05,\n",
    "        spacing=1.3,\n",
    "        min_width=0,\n",
    "        alpha_threshold=alpha_thresh,\n",
    "        continuity_threshold=continuity_thresh,\n",
    "    )\n",
    "\n",
    "    syllables_to_time = lambda x: x * duration\n",
    "    time_to_syllables = lambda x: x / duration\n",
    "\n",
    "    # ax[0].set_xticks([0,25,50])\n",
    "    secax_x = ax.secondary_xaxis(-0.2, functions=(syllables_to_time, time_to_syllables))\n",
    "    secax_x.set_ticks([-2.4, 0, 2.4])\n",
    "    sns.despine()\n",
    "    ax.set_title(neural_feature, fontsize=7)\n",
    "    savefig(\n",
    "        fig,\n",
    "        os.path.join(figure_cfg[\"store_dir\"], f\"endo_usage_stdp_{neural_feature}\"),\n",
    "        bbox_inches=\"tight\",\n",
    "    )"
   ]
  },
  {
   "cell_type": "code",
   "execution_count": 24,
   "metadata": {},
   "outputs": [],
   "source": [
    "import json"
   ]
  },
  {
   "cell_type": "code",
   "execution_count": 25,
   "metadata": {},
   "outputs": [],
   "source": [
    "with open(\n",
    "    os.path.join(proc_dirs[\"dlight\"], \"stats_lagged_usage_shifted_lags.toml\"), \"w\"\n",
    ") as f:\n",
    "    plt_json = json.loads(\n",
    "        pval_df.loc[\"count\", \"signal_reref_dff_z_max_(0.0, 0.3)\"].to_json()\n",
    "    )\n",
    "    plt_json[\"stat_type\"] = \"Pearson correlation\"\n",
    "    plt_json[\"p_type\"] = \"Comparison to shuffle\"\n",
    "    toml.dump(plt_json, f)"
   ]
  },
  {
   "cell_type": "code",
   "execution_count": null,
   "metadata": {},
   "outputs": [],
   "source": []
  },
  {
   "cell_type": "code",
   "execution_count": null,
   "metadata": {},
   "outputs": [],
   "source": []
  }
 ],
 "metadata": {
  "kernelspec": {
   "display_name": "Python [conda env:spont-da]",
   "language": "python",
   "name": "conda-env-spont-da-py"
  },
  "language_info": {
   "codemirror_mode": {
    "name": "ipython",
    "version": 3
   },
   "file_extension": ".py",
   "mimetype": "text/x-python",
   "name": "python",
   "nbconvert_exporter": "python",
   "pygments_lexer": "ipython3",
   "version": "3.10.8"
  },
  "widgets": {
   "application/vnd.jupyter.widget-state+json": {
    "state": {
     "015bf6f85aa04633a7dda0daff5612bd": {
      "model_module": "@jupyter-widgets/controls",
      "model_module_version": "1.5.0",
      "model_name": "ProgressStyleModel",
      "state": {
       "description_width": "initial"
      }
     },
     "0188fa3b32884bd58c54d1a0dcfd94c6": {
      "model_module": "@jupyter-widgets/controls",
      "model_module_version": "1.5.0",
      "model_name": "HBoxModel",
      "state": {
       "children": [
        "IPY_MODEL_e454c6c2890c4084acc85983dce47fc4",
        "IPY_MODEL_9cbd5d01284748c49f2a5bfe4ae97d31"
       ],
       "layout": "IPY_MODEL_74ffb9908c62431bb196de0795f6645a"
      }
     },
     "026a1bcdae5346699365e48aa6cace58": {
      "model_module": "@jupyter-widgets/controls",
      "model_module_version": "1.5.0",
      "model_name": "HBoxModel",
      "state": {
       "children": [
        "IPY_MODEL_45956762fdd24175b0bd279598057b39",
        "IPY_MODEL_bb4fd7b1f691458b81bf0e582f236f4f"
       ],
       "layout": "IPY_MODEL_6d0eb327a9884d028714d4f9f799cc9c"
      }
     },
     "05cd2d8f5b15457fbeb14dda0bfc2e46": {
      "model_module": "@jupyter-widgets/base",
      "model_module_version": "1.2.0",
      "model_name": "LayoutModel",
      "state": {}
     },
     "0b132e4db48a4409bd54ed95b919c314": {
      "model_module": "@jupyter-widgets/base",
      "model_module_version": "1.2.0",
      "model_name": "LayoutModel",
      "state": {}
     },
     "0e4df3dad9214540af92b992cd72eeea": {
      "model_module": "@jupyter-widgets/controls",
      "model_module_version": "1.5.0",
      "model_name": "DescriptionStyleModel",
      "state": {
       "description_width": ""
      }
     },
     "116a29c654a74edf82fb4dd362d55764": {
      "model_module": "@jupyter-widgets/controls",
      "model_module_version": "1.5.0",
      "model_name": "DescriptionStyleModel",
      "state": {
       "description_width": ""
      }
     },
     "1628a141025c4f8aadb39d8ecfb72d73": {
      "model_module": "@jupyter-widgets/base",
      "model_module_version": "1.2.0",
      "model_name": "LayoutModel",
      "state": {}
     },
     "1d5cb71772c0454fa805233742191477": {
      "model_module": "@jupyter-widgets/base",
      "model_module_version": "1.2.0",
      "model_name": "LayoutModel",
      "state": {}
     },
     "1fd56e9ad55a4f1499e43591c86fcc66": {
      "model_module": "@jupyter-widgets/controls",
      "model_module_version": "1.5.0",
      "model_name": "HBoxModel",
      "state": {
       "children": [
        "IPY_MODEL_31d89422cbd44fe99dd87f02d05710f8",
        "IPY_MODEL_b1b0f0d12602417e9f2576ec69a9ce43"
       ],
       "layout": "IPY_MODEL_b0c404ba9e534008a062bc1df73e00e2"
      }
     },
     "28a919f2abbc48fcaf8b76eed040e97f": {
      "model_module": "@jupyter-widgets/controls",
      "model_module_version": "1.5.0",
      "model_name": "FloatProgressModel",
      "state": {
       "bar_style": "success",
       "description": "100%",
       "layout": "IPY_MODEL_930f1462cb034ad8baf8752382ec8eab",
       "max": 54404,
       "style": "IPY_MODEL_015bf6f85aa04633a7dda0daff5612bd",
       "value": 54404
      }
     },
     "2a05def7df604aefb1063c42a442a9cc": {
      "model_module": "@jupyter-widgets/controls",
      "model_module_version": "1.5.0",
      "model_name": "HTMLModel",
      "state": {
       "layout": "IPY_MODEL_6d904ec8d96a4c6c8e816d5d6a4b7222",
       "style": "IPY_MODEL_116a29c654a74edf82fb4dd362d55764",
       "value": " 1080/1080 [01:05&lt;00:00, 16.42it/s]"
      }
     },
     "2d52003cf5e64a319d8b3f8395672374": {
      "model_module": "@jupyter-widgets/controls",
      "model_module_version": "1.5.0",
      "model_name": "FloatProgressModel",
      "state": {
       "bar_style": "success",
       "description": "100%",
       "layout": "IPY_MODEL_5398069d757043e0b218cd9540132242",
       "max": 54404,
       "style": "IPY_MODEL_ea85ab1c5e99411c8b72c69f140fcf63",
       "value": 54404
      }
     },
     "30ecdd1e161145f3b0cea2da2b5ed087": {
      "model_module": "@jupyter-widgets/controls",
      "model_module_version": "1.5.0",
      "model_name": "DescriptionStyleModel",
      "state": {
       "description_width": ""
      }
     },
     "3111470fa018471d94ccda8b2b65e951": {
      "model_module": "@jupyter-widgets/controls",
      "model_module_version": "1.5.0",
      "model_name": "HBoxModel",
      "state": {
       "children": [
        "IPY_MODEL_b88c6de73384477abb6afd2e93eed85d",
        "IPY_MODEL_89a07ff193214c5d9374f03786bd1c98"
       ],
       "layout": "IPY_MODEL_dfcfb5b728e64d50938fb47cda7c18dd"
      }
     },
     "3181571a0f5d4473b487a05a5b0d229e": {
      "model_module": "@jupyter-widgets/controls",
      "model_module_version": "1.5.0",
      "model_name": "HBoxModel",
      "state": {
       "children": [
        "IPY_MODEL_2d52003cf5e64a319d8b3f8395672374",
        "IPY_MODEL_f766ce281f2b439c9f477a1fd9375542"
       ],
       "layout": "IPY_MODEL_3b2d57676262459690f598d5808383eb"
      }
     },
     "31d89422cbd44fe99dd87f02d05710f8": {
      "model_module": "@jupyter-widgets/controls",
      "model_module_version": "1.5.0",
      "model_name": "FloatProgressModel",
      "state": {
       "bar_style": "success",
       "description": "100%",
       "layout": "IPY_MODEL_d92bf18225aa4456be58160b521f607f",
       "max": 54404,
       "style": "IPY_MODEL_601bdf1dea7f4c58b70d501d27d161b2",
       "value": 54404
      }
     },
     "339b4b8e25d94e36bf24c329900ca9dd": {
      "model_module": "@jupyter-widgets/controls",
      "model_module_version": "1.5.0",
      "model_name": "HBoxModel",
      "state": {
       "children": [
        "IPY_MODEL_f201d480ab45492894affaa7dacc71e6",
        "IPY_MODEL_2a05def7df604aefb1063c42a442a9cc"
       ],
       "layout": "IPY_MODEL_cf2e01f46e4648719127f85aa3cc9857"
      }
     },
     "3509b38326ff44d9880d3c56978a67b1": {
      "model_module": "@jupyter-widgets/controls",
      "model_module_version": "1.5.0",
      "model_name": "ProgressStyleModel",
      "state": {
       "description_width": "initial"
      }
     },
     "366d29ede43645aba4c8946cd9553dca": {
      "model_module": "@jupyter-widgets/base",
      "model_module_version": "1.2.0",
      "model_name": "LayoutModel",
      "state": {}
     },
     "3b2d57676262459690f598d5808383eb": {
      "model_module": "@jupyter-widgets/base",
      "model_module_version": "1.2.0",
      "model_name": "LayoutModel",
      "state": {}
     },
     "3c845b383ebb400a8870b7723735df43": {
      "model_module": "@jupyter-widgets/controls",
      "model_module_version": "1.5.0",
      "model_name": "FloatProgressModel",
      "state": {
       "bar_style": "success",
       "description": "100%",
       "layout": "IPY_MODEL_1628a141025c4f8aadb39d8ecfb72d73",
       "max": 1080,
       "style": "IPY_MODEL_3509b38326ff44d9880d3c56978a67b1",
       "value": 1080
      }
     },
     "401964b01792439f923bfad8b3a96923": {
      "model_module": "@jupyter-widgets/controls",
      "model_module_version": "1.5.0",
      "model_name": "ProgressStyleModel",
      "state": {
       "description_width": "initial"
      }
     },
     "45956762fdd24175b0bd279598057b39": {
      "model_module": "@jupyter-widgets/controls",
      "model_module_version": "1.5.0",
      "model_name": "FloatProgressModel",
      "state": {
       "bar_style": "success",
       "description": "100%",
       "layout": "IPY_MODEL_1d5cb71772c0454fa805233742191477",
       "max": 54404,
       "style": "IPY_MODEL_8ef6d764628f4e64b399545ab6527759",
       "value": 54404
      }
     },
     "4b0431f5fd4d4122b15c6a719d4cbe2a": {
      "model_module": "@jupyter-widgets/controls",
      "model_module_version": "1.5.0",
      "model_name": "DescriptionStyleModel",
      "state": {
       "description_width": ""
      }
     },
     "4e5cc1bc2777405dbd8829fce162fca1": {
      "model_module": "@jupyter-widgets/controls",
      "model_module_version": "1.5.0",
      "model_name": "HTMLModel",
      "state": {
       "layout": "IPY_MODEL_5c89955369cb4da2b1b4cceaf9ce2ccb",
       "style": "IPY_MODEL_c654f16f8c2143b7a45125b4b8b6f7b6",
       "value": " 1080/1080 [00:12&lt;00:00, 88.77it/s]"
      }
     },
     "5398069d757043e0b218cd9540132242": {
      "model_module": "@jupyter-widgets/base",
      "model_module_version": "1.2.0",
      "model_name": "LayoutModel",
      "state": {}
     },
     "56f1fdaa4d0a45ef903bdd0c2934fa96": {
      "model_module": "@jupyter-widgets/base",
      "model_module_version": "1.2.0",
      "model_name": "LayoutModel",
      "state": {}
     },
     "5c89955369cb4da2b1b4cceaf9ce2ccb": {
      "model_module": "@jupyter-widgets/base",
      "model_module_version": "1.2.0",
      "model_name": "LayoutModel",
      "state": {}
     },
     "601bdf1dea7f4c58b70d501d27d161b2": {
      "model_module": "@jupyter-widgets/controls",
      "model_module_version": "1.5.0",
      "model_name": "ProgressStyleModel",
      "state": {
       "description_width": "initial"
      }
     },
     "606d96232d354b0fa8b740c7ea160fb8": {
      "model_module": "@jupyter-widgets/base",
      "model_module_version": "1.2.0",
      "model_name": "LayoutModel",
      "state": {}
     },
     "67c2f837fd494a209cd1149005350c08": {
      "model_module": "@jupyter-widgets/base",
      "model_module_version": "1.2.0",
      "model_name": "LayoutModel",
      "state": {}
     },
     "6ae9d298b1944e37ac0ac7760c4454bd": {
      "model_module": "@jupyter-widgets/base",
      "model_module_version": "1.2.0",
      "model_name": "LayoutModel",
      "state": {}
     },
     "6d0eb327a9884d028714d4f9f799cc9c": {
      "model_module": "@jupyter-widgets/base",
      "model_module_version": "1.2.0",
      "model_name": "LayoutModel",
      "state": {}
     },
     "6d904ec8d96a4c6c8e816d5d6a4b7222": {
      "model_module": "@jupyter-widgets/base",
      "model_module_version": "1.2.0",
      "model_name": "LayoutModel",
      "state": {}
     },
     "6f00736114674d6fa4235fab7ea66987": {
      "model_module": "@jupyter-widgets/controls",
      "model_module_version": "1.5.0",
      "model_name": "HTMLModel",
      "state": {
       "layout": "IPY_MODEL_0b132e4db48a4409bd54ed95b919c314",
       "style": "IPY_MODEL_f2d2ce28af8445e6b6997326e9585282",
       "value": " 54404/54404 [01:12&lt;00:00, 747.23it/s]"
      }
     },
     "72865a63c24b4e6c957091bd4f17ff36": {
      "model_module": "@jupyter-widgets/controls",
      "model_module_version": "1.5.0",
      "model_name": "FloatProgressModel",
      "state": {
       "bar_style": "success",
       "description": "100%",
       "layout": "IPY_MODEL_dd953a20354a43cd92f2e445d5394dbf",
       "max": 1080,
       "style": "IPY_MODEL_b757ed952a9d486fa7a37bc574536832",
       "value": 1080
      }
     },
     "72e679171ac746b08570af95b76fd259": {
      "model_module": "@jupyter-widgets/controls",
      "model_module_version": "1.5.0",
      "model_name": "HBoxModel",
      "state": {
       "children": [
        "IPY_MODEL_72865a63c24b4e6c957091bd4f17ff36",
        "IPY_MODEL_9fb7a3e3bddb4a6e8575c0f84be76682"
       ],
       "layout": "IPY_MODEL_bb8945d47283432184c4bb9ec975abfc"
      }
     },
     "736c15b2871647a2a556f64f4277a4d4": {
      "model_module": "@jupyter-widgets/base",
      "model_module_version": "1.2.0",
      "model_name": "LayoutModel",
      "state": {}
     },
     "74ffb9908c62431bb196de0795f6645a": {
      "model_module": "@jupyter-widgets/base",
      "model_module_version": "1.2.0",
      "model_name": "LayoutModel",
      "state": {}
     },
     "78e8e4b82eaf466bafdd8e7d39b1010c": {
      "model_module": "@jupyter-widgets/base",
      "model_module_version": "1.2.0",
      "model_name": "LayoutModel",
      "state": {}
     },
     "89a07ff193214c5d9374f03786bd1c98": {
      "model_module": "@jupyter-widgets/controls",
      "model_module_version": "1.5.0",
      "model_name": "HTMLModel",
      "state": {
       "layout": "IPY_MODEL_e267c04e84be44409271ece8c0e4c19a",
       "style": "IPY_MODEL_0e4df3dad9214540af92b992cd72eeea",
       "value": " 54404/54404 [01:19&lt;00:00, 687.67it/s]"
      }
     },
     "8ab41df5d90d45fbbb292d7d052e94c2": {
      "model_module": "@jupyter-widgets/controls",
      "model_module_version": "1.5.0",
      "model_name": "FloatProgressModel",
      "state": {
       "bar_style": "success",
       "description": "100%",
       "layout": "IPY_MODEL_ac8002e8ac0d43f5984985f22a70f7b4",
       "max": 54404,
       "style": "IPY_MODEL_e213006180a442b2af5d8284633ddfef",
       "value": 54404
      }
     },
     "8ef6d764628f4e64b399545ab6527759": {
      "model_module": "@jupyter-widgets/controls",
      "model_module_version": "1.5.0",
      "model_name": "ProgressStyleModel",
      "state": {
       "description_width": "initial"
      }
     },
     "930f1462cb034ad8baf8752382ec8eab": {
      "model_module": "@jupyter-widgets/base",
      "model_module_version": "1.2.0",
      "model_name": "LayoutModel",
      "state": {}
     },
     "9cbd5d01284748c49f2a5bfe4ae97d31": {
      "model_module": "@jupyter-widgets/controls",
      "model_module_version": "1.5.0",
      "model_name": "HTMLModel",
      "state": {
       "layout": "IPY_MODEL_56f1fdaa4d0a45ef903bdd0c2934fa96",
       "style": "IPY_MODEL_f74323266cd5439e8889fca892c515cd",
       "value": " 1080/1080 [00:53&lt;00:00, 20.12it/s]"
      }
     },
     "9f19ffec020c4fd6ad815eac4ad621f1": {
      "model_module": "@jupyter-widgets/controls",
      "model_module_version": "1.5.0",
      "model_name": "HTMLModel",
      "state": {
       "layout": "IPY_MODEL_6ae9d298b1944e37ac0ac7760c4454bd",
       "style": "IPY_MODEL_e614c7eaf1a04d999c8d84c258c24a91",
       "value": " 54404/54404 [01:13&lt;00:00, 736.24it/s]"
      }
     },
     "9fb7a3e3bddb4a6e8575c0f84be76682": {
      "model_module": "@jupyter-widgets/controls",
      "model_module_version": "1.5.0",
      "model_name": "HTMLModel",
      "state": {
       "layout": "IPY_MODEL_af95d8679dfc4241a5595af6b78fb191",
       "style": "IPY_MODEL_cacd6c27bf0140d29288188068ba36c8",
       "value": " 1080/1080 [00:41&lt;00:00, 25.99it/s]"
      }
     },
     "a8d5cb51111245dc852cf6d82ec65af3": {
      "model_module": "@jupyter-widgets/controls",
      "model_module_version": "1.5.0",
      "model_name": "ProgressStyleModel",
      "state": {
       "description_width": "initial"
      }
     },
     "a9aac78aa4e1403a88722f19bbaf3736": {
      "model_module": "@jupyter-widgets/base",
      "model_module_version": "1.2.0",
      "model_name": "LayoutModel",
      "state": {}
     },
     "aa038197b9ea48078ee208b4866cc9b2": {
      "model_module": "@jupyter-widgets/base",
      "model_module_version": "1.2.0",
      "model_name": "LayoutModel",
      "state": {}
     },
     "ac8002e8ac0d43f5984985f22a70f7b4": {
      "model_module": "@jupyter-widgets/base",
      "model_module_version": "1.2.0",
      "model_name": "LayoutModel",
      "state": {}
     },
     "ae719a9e1d1144b88977c2ca24524149": {
      "model_module": "@jupyter-widgets/base",
      "model_module_version": "1.2.0",
      "model_name": "LayoutModel",
      "state": {}
     },
     "af95d8679dfc4241a5595af6b78fb191": {
      "model_module": "@jupyter-widgets/base",
      "model_module_version": "1.2.0",
      "model_name": "LayoutModel",
      "state": {}
     },
     "b0c404ba9e534008a062bc1df73e00e2": {
      "model_module": "@jupyter-widgets/base",
      "model_module_version": "1.2.0",
      "model_name": "LayoutModel",
      "state": {}
     },
     "b1b0f0d12602417e9f2576ec69a9ce43": {
      "model_module": "@jupyter-widgets/controls",
      "model_module_version": "1.5.0",
      "model_name": "HTMLModel",
      "state": {
       "layout": "IPY_MODEL_a9aac78aa4e1403a88722f19bbaf3736",
       "style": "IPY_MODEL_4b0431f5fd4d4122b15c6a719d4cbe2a",
       "value": " 54404/54404 [01:13&lt;00:00, 735.43it/s]"
      }
     },
     "b757ed952a9d486fa7a37bc574536832": {
      "model_module": "@jupyter-widgets/controls",
      "model_module_version": "1.5.0",
      "model_name": "ProgressStyleModel",
      "state": {
       "description_width": "initial"
      }
     },
     "b789ad9feeb9492abd21750cbf13485d": {
      "model_module": "@jupyter-widgets/controls",
      "model_module_version": "1.5.0",
      "model_name": "HBoxModel",
      "state": {
       "children": [
        "IPY_MODEL_eae6a738366042a48364ea05b6d99522",
        "IPY_MODEL_e900bb482cdf4ca38dbf1adf057790be"
       ],
       "layout": "IPY_MODEL_78e8e4b82eaf466bafdd8e7d39b1010c"
      }
     },
     "b7f930c9c92946cd81d7d70cd4769616": {
      "model_module": "@jupyter-widgets/controls",
      "model_module_version": "1.5.0",
      "model_name": "ProgressStyleModel",
      "state": {
       "description_width": "initial"
      }
     },
     "b88c6de73384477abb6afd2e93eed85d": {
      "model_module": "@jupyter-widgets/controls",
      "model_module_version": "1.5.0",
      "model_name": "FloatProgressModel",
      "state": {
       "bar_style": "success",
       "description": "100%",
       "layout": "IPY_MODEL_736c15b2871647a2a556f64f4277a4d4",
       "max": 54404,
       "style": "IPY_MODEL_a8d5cb51111245dc852cf6d82ec65af3",
       "value": 54404
      }
     },
     "bb4fd7b1f691458b81bf0e582f236f4f": {
      "model_module": "@jupyter-widgets/controls",
      "model_module_version": "1.5.0",
      "model_name": "HTMLModel",
      "state": {
       "layout": "IPY_MODEL_c99f6e30edb44f4f8f1c2c3a09ec9a3c",
       "style": "IPY_MODEL_ca52366a77e84ba2bdfbf81ad09dd976",
       "value": " 54404/54404 [01:13&lt;00:00, 739.45it/s]"
      }
     },
     "bb8945d47283432184c4bb9ec975abfc": {
      "model_module": "@jupyter-widgets/base",
      "model_module_version": "1.2.0",
      "model_name": "LayoutModel",
      "state": {}
     },
     "c13b400ad0c04eeeb4b58492d35f1613": {
      "model_module": "@jupyter-widgets/controls",
      "model_module_version": "1.5.0",
      "model_name": "HBoxModel",
      "state": {
       "children": [
        "IPY_MODEL_3c845b383ebb400a8870b7723735df43",
        "IPY_MODEL_e1ecdd903368458c972bd552e14a2664"
       ],
       "layout": "IPY_MODEL_f336973b98114fd991c9159dea600047"
      }
     },
     "c14d02e408e64ec49cfb25d075018c82": {
      "model_module": "@jupyter-widgets/controls",
      "model_module_version": "1.5.0",
      "model_name": "DescriptionStyleModel",
      "state": {
       "description_width": ""
      }
     },
     "c1711f38c0f649ea93f0455ddcee731f": {
      "model_module": "@jupyter-widgets/controls",
      "model_module_version": "1.5.0",
      "model_name": "ProgressStyleModel",
      "state": {
       "description_width": "initial"
      }
     },
     "c654f16f8c2143b7a45125b4b8b6f7b6": {
      "model_module": "@jupyter-widgets/controls",
      "model_module_version": "1.5.0",
      "model_name": "DescriptionStyleModel",
      "state": {
       "description_width": ""
      }
     },
     "c99f6e30edb44f4f8f1c2c3a09ec9a3c": {
      "model_module": "@jupyter-widgets/base",
      "model_module_version": "1.2.0",
      "model_name": "LayoutModel",
      "state": {}
     },
     "ca52366a77e84ba2bdfbf81ad09dd976": {
      "model_module": "@jupyter-widgets/controls",
      "model_module_version": "1.5.0",
      "model_name": "DescriptionStyleModel",
      "state": {
       "description_width": ""
      }
     },
     "cacd6c27bf0140d29288188068ba36c8": {
      "model_module": "@jupyter-widgets/controls",
      "model_module_version": "1.5.0",
      "model_name": "DescriptionStyleModel",
      "state": {
       "description_width": ""
      }
     },
     "cf2e01f46e4648719127f85aa3cc9857": {
      "model_module": "@jupyter-widgets/base",
      "model_module_version": "1.2.0",
      "model_name": "LayoutModel",
      "state": {}
     },
     "d433ec3ab57445959373132679e4a7de": {
      "model_module": "@jupyter-widgets/base",
      "model_module_version": "1.2.0",
      "model_name": "LayoutModel",
      "state": {}
     },
     "d4c925fe864448f3b3b6b1c829021618": {
      "model_module": "@jupyter-widgets/controls",
      "model_module_version": "1.5.0",
      "model_name": "ProgressStyleModel",
      "state": {
       "description_width": "initial"
      }
     },
     "d92bf18225aa4456be58160b521f607f": {
      "model_module": "@jupyter-widgets/base",
      "model_module_version": "1.2.0",
      "model_name": "LayoutModel",
      "state": {}
     },
     "dd953a20354a43cd92f2e445d5394dbf": {
      "model_module": "@jupyter-widgets/base",
      "model_module_version": "1.2.0",
      "model_name": "LayoutModel",
      "state": {}
     },
     "dfcfb5b728e64d50938fb47cda7c18dd": {
      "model_module": "@jupyter-widgets/base",
      "model_module_version": "1.2.0",
      "model_name": "LayoutModel",
      "state": {}
     },
     "e1ecdd903368458c972bd552e14a2664": {
      "model_module": "@jupyter-widgets/controls",
      "model_module_version": "1.5.0",
      "model_name": "HTMLModel",
      "state": {
       "layout": "IPY_MODEL_e7fa4dffcfe9416582dd66c2fc9b9785",
       "style": "IPY_MODEL_e783ed588e524b9abf889f85634e96d5",
       "value": " 1080/1080 [03:31&lt;00:00,  5.10it/s]"
      }
     },
     "e213006180a442b2af5d8284633ddfef": {
      "model_module": "@jupyter-widgets/controls",
      "model_module_version": "1.5.0",
      "model_name": "ProgressStyleModel",
      "state": {
       "description_width": "initial"
      }
     },
     "e267c04e84be44409271ece8c0e4c19a": {
      "model_module": "@jupyter-widgets/base",
      "model_module_version": "1.2.0",
      "model_name": "LayoutModel",
      "state": {}
     },
     "e454c6c2890c4084acc85983dce47fc4": {
      "model_module": "@jupyter-widgets/controls",
      "model_module_version": "1.5.0",
      "model_name": "FloatProgressModel",
      "state": {
       "bar_style": "success",
       "description": "100%",
       "layout": "IPY_MODEL_366d29ede43645aba4c8946cd9553dca",
       "max": 1080,
       "style": "IPY_MODEL_c1711f38c0f649ea93f0455ddcee731f",
       "value": 1080
      }
     },
     "e614c7eaf1a04d999c8d84c258c24a91": {
      "model_module": "@jupyter-widgets/controls",
      "model_module_version": "1.5.0",
      "model_name": "DescriptionStyleModel",
      "state": {
       "description_width": ""
      }
     },
     "e783ed588e524b9abf889f85634e96d5": {
      "model_module": "@jupyter-widgets/controls",
      "model_module_version": "1.5.0",
      "model_name": "DescriptionStyleModel",
      "state": {
       "description_width": ""
      }
     },
     "e7fa4dffcfe9416582dd66c2fc9b9785": {
      "model_module": "@jupyter-widgets/base",
      "model_module_version": "1.2.0",
      "model_name": "LayoutModel",
      "state": {}
     },
     "e900bb482cdf4ca38dbf1adf057790be": {
      "model_module": "@jupyter-widgets/controls",
      "model_module_version": "1.5.0",
      "model_name": "HTMLModel",
      "state": {
       "layout": "IPY_MODEL_67c2f837fd494a209cd1149005350c08",
       "style": "IPY_MODEL_c14d02e408e64ec49cfb25d075018c82",
       "value": " 54404/54404 [01:14&lt;00:00, 726.27it/s]"
      }
     },
     "ea85ab1c5e99411c8b72c69f140fcf63": {
      "model_module": "@jupyter-widgets/controls",
      "model_module_version": "1.5.0",
      "model_name": "ProgressStyleModel",
      "state": {
       "description_width": "initial"
      }
     },
     "eaae4616cb964353ae71d232acaf04a5": {
      "model_module": "@jupyter-widgets/controls",
      "model_module_version": "1.5.0",
      "model_name": "HBoxModel",
      "state": {
       "children": [
        "IPY_MODEL_8ab41df5d90d45fbbb292d7d052e94c2",
        "IPY_MODEL_6f00736114674d6fa4235fab7ea66987"
       ],
       "layout": "IPY_MODEL_ed2264d38f794ccfaa7373cf282e12e7"
      }
     },
     "eae6a738366042a48364ea05b6d99522": {
      "model_module": "@jupyter-widgets/controls",
      "model_module_version": "1.5.0",
      "model_name": "FloatProgressModel",
      "state": {
       "bar_style": "success",
       "description": "100%",
       "layout": "IPY_MODEL_05cd2d8f5b15457fbeb14dda0bfc2e46",
       "max": 54404,
       "style": "IPY_MODEL_b7f930c9c92946cd81d7d70cd4769616",
       "value": 54404
      }
     },
     "ecc71ceb48c249ca9735b32b3fae40c9": {
      "model_module": "@jupyter-widgets/controls",
      "model_module_version": "1.5.0",
      "model_name": "HBoxModel",
      "state": {
       "children": [
        "IPY_MODEL_f61bc90e20114d0c97eb08ddeb057ad6",
        "IPY_MODEL_4e5cc1bc2777405dbd8829fce162fca1"
       ],
       "layout": "IPY_MODEL_d433ec3ab57445959373132679e4a7de"
      }
     },
     "ed2264d38f794ccfaa7373cf282e12e7": {
      "model_module": "@jupyter-widgets/base",
      "model_module_version": "1.2.0",
      "model_name": "LayoutModel",
      "state": {}
     },
     "f201d480ab45492894affaa7dacc71e6": {
      "model_module": "@jupyter-widgets/controls",
      "model_module_version": "1.5.0",
      "model_name": "FloatProgressModel",
      "state": {
       "bar_style": "success",
       "description": "100%",
       "layout": "IPY_MODEL_ae719a9e1d1144b88977c2ca24524149",
       "max": 1080,
       "style": "IPY_MODEL_d4c925fe864448f3b3b6b1c829021618",
       "value": 1080
      }
     },
     "f2d2ce28af8445e6b6997326e9585282": {
      "model_module": "@jupyter-widgets/controls",
      "model_module_version": "1.5.0",
      "model_name": "DescriptionStyleModel",
      "state": {
       "description_width": ""
      }
     },
     "f336973b98114fd991c9159dea600047": {
      "model_module": "@jupyter-widgets/base",
      "model_module_version": "1.2.0",
      "model_name": "LayoutModel",
      "state": {}
     },
     "f61bc90e20114d0c97eb08ddeb057ad6": {
      "model_module": "@jupyter-widgets/controls",
      "model_module_version": "1.5.0",
      "model_name": "FloatProgressModel",
      "state": {
       "bar_style": "success",
       "description": "100%",
       "layout": "IPY_MODEL_f99856ae41ee4d53aab555edf95cb659",
       "max": 1080,
       "style": "IPY_MODEL_401964b01792439f923bfad8b3a96923",
       "value": 1080
      }
     },
     "f74323266cd5439e8889fca892c515cd": {
      "model_module": "@jupyter-widgets/controls",
      "model_module_version": "1.5.0",
      "model_name": "DescriptionStyleModel",
      "state": {
       "description_width": ""
      }
     },
     "f766ce281f2b439c9f477a1fd9375542": {
      "model_module": "@jupyter-widgets/controls",
      "model_module_version": "1.5.0",
      "model_name": "HTMLModel",
      "state": {
       "layout": "IPY_MODEL_606d96232d354b0fa8b740c7ea160fb8",
       "style": "IPY_MODEL_30ecdd1e161145f3b0cea2da2b5ed087",
       "value": " 54404/54404 [01:20&lt;00:00, 671.68it/s]"
      }
     },
     "f99856ae41ee4d53aab555edf95cb659": {
      "model_module": "@jupyter-widgets/base",
      "model_module_version": "1.2.0",
      "model_name": "LayoutModel",
      "state": {}
     },
     "f9ad36f7b07b41559ec3fa99d3a27589": {
      "model_module": "@jupyter-widgets/controls",
      "model_module_version": "1.5.0",
      "model_name": "HBoxModel",
      "state": {
       "children": [
        "IPY_MODEL_28a919f2abbc48fcaf8b76eed040e97f",
        "IPY_MODEL_9f19ffec020c4fd6ad815eac4ad621f1"
       ],
       "layout": "IPY_MODEL_aa038197b9ea48078ee208b4866cc9b2"
      }
     }
    },
    "version_major": 2,
    "version_minor": 0
   }
  }
 },
 "nbformat": 4,
 "nbformat_minor": 4
}
