{
 "cells": [
  {
   "cell_type": "code",
   "execution_count": 1,
   "id": "bf2d8062-4ce8-4a72-b712-ec43d6b19f63",
   "metadata": {},
   "outputs": [],
   "source": [
    "import toml\n",
    "import numba\n",
    "import joblib\n",
    "import random\n",
    "import warnings\n",
    "import numpy as np\n",
    "import pandas as pd\n",
    "import colorcet as cc\n",
    "import seaborn as sns\n",
    "import matplotlib.pyplot as plt\n",
    "\n",
    "from scipy import signal\n",
    "from toolz import get, partial\n",
    "from os.path import join\n",
    "from tqdm.auto import tqdm\n",
    "from rl_analysis.bootstraps import bootstrap_ci\n",
    "from tqdm.contrib.concurrent import process_map\n",
    "from rl_analysis.io.df import NONSYLL_COLS, dlight_exclude_toml\n",
    "from rl_analysis.behavior.moseq import syll_onset, add_onset_and_duration\n",
    "from rl_analysis.photometry.windowing import (\n",
    "    window_trials_as_df,\n",
    "    window_trials_as_mtx,\n",
    "    window_trials_for_decoder,\n",
    ")\n",
    "from rl_analysis.plotting import (\n",
    "    save_factory,\n",
    "    add_legend,\n",
    "    bootstrap_lineplot,\n",
    "    setup_plotting_env,\n",
    "    clean_ticks,\n",
    "    COLORS,\n",
    "    fg,\n",
    ")\n",
    "from sklearn.svm import LinearSVC\n",
    "from sklearn.model_selection import StratifiedKFold\n",
    "from sklearn.metrics import accuracy_score, f1_score\n",
    "\n",
    "numba.set_num_threads(6)\n",
    "warnings.simplefilter(\"ignore\")"
   ]
  },
  {
   "cell_type": "code",
   "execution_count": 2,
   "id": "d4e9818d-a32f-49e6-b61e-7118d370e8c5",
   "metadata": {},
   "outputs": [],
   "source": [
    "with open(\"../analysis_configuration.toml\", \"r\") as f:\n",
    "    config = toml.load(f)\n",
    "\n",
    "setup_plotting_env()\n",
    "\n",
    "saver = save_factory(join(config['figures']['store_dir'], 'turning-syllables'), tight_layout=False)"
   ]
  },
  {
   "cell_type": "code",
   "execution_count": 3,
   "id": "ede4c662-c187-4296-bd0a-263668c93190",
   "metadata": {},
   "outputs": [],
   "source": [
    "color_map = {\n",
    "    \"Turn right\": cc.glasbey[3],\n",
    "    \"Turn left 2\": cc.glasbey[6],\n",
    "}\n",
    "\n",
    "syllable_map = {\n",
    "    \"Turn right\": 25,\n",
    "    \"Turn left 2\": 72,\n",
    "}\n",
    "dlight_key = config['dlight_basic_analysis']['dlight_key']"
   ]
  },
  {
   "cell_type": "markdown",
   "id": "fd7b5b9c-8869-49ce-9ea3-0d30ef352952",
   "metadata": {
    "tags": []
   },
   "source": [
    "## Load data"
   ]
  },
  {
   "cell_type": "code",
   "execution_count": 4,
   "id": "13c2e2ea-2a2d-4360-8d8f-947b50ea47b8",
   "metadata": {},
   "outputs": [],
   "source": [
    "def dlight_filter(ser):\n",
    "    soscoeffs = signal.bessel(1, 1 / (30 / 2.), btype=\"high\", output=\"sos\")\n",
    "    sig = ser.dropna()\n",
    "    new_ser = pd.Series(index=ser.index)\n",
    "    new_ser.loc[sig.index] = signal.sosfiltfilt(soscoeffs, sig)\n",
    "    return new_ser"
   ]
  },
  {
   "cell_type": "code",
   "execution_count": 5,
   "id": "2df23f44-229e-4985-a8a7-46d4d8017500",
   "metadata": {},
   "outputs": [],
   "source": [
    "use_dct = dlight_exclude_toml(\n",
    "    join(config['raw_data']['dlight'], 'dlight_photometry_processed_full.toml'),\n",
    "    **config[\"dlight_common\"]\n",
    ")\n",
    "\n",
    "df = pd.read_parquet(\n",
    "    join(config['raw_data']['dlight'], 'dlight_photometry_processed_full.parquet'),\n",
    "    filters=[(\"uuid\", \"in\", list(use_dct)), (\"area\", \"=\", \"dls\")],\n",
    ")\n",
    "\n",
    "df = df[~df['session_number'].isin([3, 4])]\n",
    "df = df.drop(columns=NONSYLL_COLS[3:])\n",
    "df = df.sort_index()\n",
    "\n",
    "df['offline onset'] = False\n",
    "df.loc[df.index[syll_onset(df['predicted_syllable (offline)'])], 'offline onset'] = True\n",
    "df['velocity_2d_mm'] = df['velocity_2d_mm'].astype(float)\n",
    "df = add_onset_and_duration(df, syll_key='predicted_syllable (offline)')\n",
    "\n",
    "df[\"dlight filtered\"] = df.groupby(\"uuid\", sort=False, observed=True)[\n",
    "    \"signal_reref_dff_z\"\n",
    "].transform(dlight_filter)"
   ]
  },
  {
   "cell_type": "code",
   "execution_count": 6,
   "id": "f21c9c78-a5ec-42e4-8545-bbba5bc01bea",
   "metadata": {},
   "outputs": [],
   "source": [
    "time_window = (-1.5, 1.5)"
   ]
  },
  {
   "cell_type": "code",
   "execution_count": 7,
   "id": "12988415-dbce-40d7-8824-9b952e2adb73",
   "metadata": {},
   "outputs": [],
   "source": [
    "def shuffle(i, val, inds):\n",
    "    time, trials = window_trials_as_mtx(\n",
    "        pd.DataFrame(val, columns=[dlight_key]),\n",
    "        inds + np.array(list(map(lambda v: random.randint(-60, 60), range(len(inds))))),\n",
    "        dlight_key,\n",
    "        truncation_window=time_window,\n",
    "    )\n",
    "    return np.nanmean(trials, axis=0)\n",
    "\n",
    "\n",
    "def zscore_re_shuffle(trial_df, shuffle):\n",
    "    mu = np.nanmean(shuffle, axis=0)\n",
    "    sig = np.nanstd(shuffle, axis=0)\n",
    "\n",
    "    trial_df[\"z_dlight\"] = trial_df.groupby(\"trials\")[\"dlight\"].transform(lambda d: (d - mu) / sig)\n",
    "    return trial_df"
   ]
  },
  {
   "cell_type": "code",
   "execution_count": 8,
   "id": "69ea2f6e-f76d-4447-99a1-f0fa28ac0a55",
   "metadata": {},
   "outputs": [],
   "source": [
    "n_shuffles = 1_000\n",
    "syll_key = \"predicted_syllable (offline)\"\n",
    "dlight_key = \"dlight filtered\""
   ]
  },
  {
   "cell_type": "code",
   "execution_count": 9,
   "id": "2c4a3d67-fef3-4857-a243-a4c95c80c03a",
   "metadata": {},
   "outputs": [
    {
     "data": {
      "application/vnd.jupyter.widget-view+json": {
       "model_id": "1abf1ab381934c4d9fca6fe871d38266",
       "version_major": 2,
       "version_minor": 0
      },
      "text/plain": [
       "  0%|          | 0/2 [00:00<?, ?it/s]"
      ]
     },
     "metadata": {},
     "output_type": "display_data"
    },
    {
     "data": {
      "application/vnd.jupyter.widget-view+json": {
       "model_id": "01ad8b6649ea4bb199b0e374db62037b",
       "version_major": 2,
       "version_minor": 0
      },
      "text/plain": [
       "  0%|          | 0/1000 [00:00<?, ?it/s]"
      ]
     },
     "metadata": {},
     "output_type": "display_data"
    },
    {
     "data": {
      "application/vnd.jupyter.widget-view+json": {
       "model_id": "5143dbf4b11d4a9cb5a060ead496d912",
       "version_major": 2,
       "version_minor": 0
      },
      "text/plain": [
       "  0%|          | 0/1000 [00:00<?, ?it/s]"
      ]
     },
     "metadata": {},
     "output_type": "display_data"
    },
    {
     "data": {
      "text/plain": [
       "['/n/groups/datta/win/dopamine-data-release/zenodo-test/dlight_intermediate_results/turning-syllable-filtered-waveforms-panel.p']"
      ]
     },
     "execution_count": 9,
     "metadata": {},
     "output_type": "execute_result"
    }
   ],
   "source": [
    "datas = {}\n",
    "\n",
    "for syll_name, syll in tqdm(syllable_map.items()):\n",
    "    inds = np.where(df[\"offline onset\"] & (df[syll_key] == syll))[0]\n",
    "\n",
    "    shuff = np.array(process_map(\n",
    "        partial(shuffle, val=df[dlight_key], inds=inds),\n",
    "        range(n_shuffles),\n",
    "        max_workers=6,\n",
    "    ))\n",
    "\n",
    "    # dLight\n",
    "    _, trial_df = window_trials_as_df(\n",
    "        df,\n",
    "        inds,\n",
    "        dlight_key,\n",
    "        truncation_window=time_window,\n",
    "    )\n",
    "    trial_df = zscore_re_shuffle(trial_df, shuff)\n",
    "    trial_df[\"type\"] = syll_name\n",
    "\n",
    "    # velocity\n",
    "    _, vel_trial_df = window_trials_as_df(\n",
    "        df,\n",
    "        np.where(df[\"offline onset\"] & (df[syll_key] == syll))[0],\n",
    "        \"velocity_2d_mm\",\n",
    "        syll_key,\n",
    "        truncation_window=time_window,\n",
    "    )\n",
    "\n",
    "    bootstraps = {}\n",
    "    # bootstrap\n",
    "    for key in (\"dlight\", \"z_dlight\"):\n",
    "        b1 = trial_df.pivot_table(index=\"trials\", columns=\"time\", values=key)\n",
    "        mu = b1.mean()\n",
    "        b1 = bootstrap_ci(b1.to_numpy(), n_shuffles)\n",
    "        b1 = pd.DataFrame(b1.T, index=mu.index)\n",
    "        b1 = b1.reset_index().melt(var_name=\"boot\", id_vars=\"time\", value_name=\"dlight\")\n",
    "        b1[\"type\"] = syll_name\n",
    "        prefix = \"z_\" if \"z_\" in key else \"\"\n",
    "        bootstraps[f\"{prefix}bootstrap\"] = b1\n",
    "        bootstraps[f\"{prefix}mean\"] = mu\n",
    "\n",
    "    v = vel_trial_df.pivot_table(index=\"trials\", columns=\"time\", values=\"dlight\")\n",
    "    v = bootstrap_ci(v.to_numpy(), n_shuffles)\n",
    "    v = pd.DataFrame(v.T, index=mu.index)\n",
    "    v = v.reset_index().melt(var_name=\"boot\", id_vars=\"time\", value_name=\"velocity\")\n",
    "    v[\"type\"] = syll_name\n",
    "\n",
    "    # save output\n",
    "    datas[syll] = {\n",
    "        \"syllable name\": syll_name,\n",
    "        \"syllable id\": syll,\n",
    "        \"shuffles\": shuff,\n",
    "        \"aligned dlight\": trial_df,\n",
    "        \"aligned velocity\": vel_trial_df,\n",
    "        \"n_shuffs\": n_shuffles,\n",
    "        \"velocity_bootstrap\": v,\n",
    "        **bootstraps,\n",
    "    }\n",
    "\n",
    "joblib.dump(\n",
    "    datas,\n",
    "    join(config['intermediate_results']['dlight'], \"turning-syllable-filtered-waveforms-panel.p\"),\n",
    ")"
   ]
  },
  {
   "cell_type": "code",
   "execution_count": 10,
   "id": "2eae056c-efcf-456d-831a-2b09b62929f1",
   "metadata": {},
   "outputs": [],
   "source": [
    "# instead of re-running calculation above, load in previous one\n",
    "# datas = joblib.load(\n",
    "#     join(config['intermediate_results']['dlight'], \"turning-syllable-filtered-waveforms-panel.p\"),\n",
    "# )"
   ]
  },
  {
   "cell_type": "code",
   "execution_count": 11,
   "id": "9a569aa9-b152-4aac-a5c5-48d3bbbd3dcb",
   "metadata": {},
   "outputs": [
    {
     "data": {
      "text/plain": [
       "[('Turn right', 25), ('Turn left 2', 72)]"
      ]
     },
     "execution_count": 11,
     "metadata": {},
     "output_type": "execute_result"
    }
   ],
   "source": [
    "list((x['syllable name'], x['syllable id']) for x in datas.values())"
   ]
  },
  {
   "cell_type": "markdown",
   "id": "b3c923e2-851f-4a37-80f6-f207525b6ff3",
   "metadata": {},
   "source": [
    "## Panel: different dLight similar kinematics - dLight"
   ]
  },
  {
   "cell_type": "code",
   "execution_count": 12,
   "id": "1d4878cc-4550-49b8-b646-f12c173999e1",
   "metadata": {},
   "outputs": [],
   "source": [
    "different_da_sylls = [25, 72]"
   ]
  },
  {
   "cell_type": "code",
   "execution_count": 13,
   "id": "d3e9809d-937e-441f-83d0-efce53b4433a",
   "metadata": {},
   "outputs": [],
   "source": [
    "shuff_line = []\n",
    "for _data in get(different_da_sylls, datas):\n",
    "    shuffs = _data['shuffles']\n",
    "    shuff_line.append(\n",
    "        (shuffs - np.nanmean(shuffs, 0, keepdims=True)) / np.nanstd(shuffs, 0, keepdims=True)\n",
    "    )\n",
    "shuff_line = pd.DataFrame(np.concatenate(shuff_line, axis=0).T, index=_data['mean'].index)\n",
    "shuff_line = shuff_line.reset_index().melt(var_name='boot', id_vars='time', value_name='dlight')"
   ]
  },
  {
   "cell_type": "code",
   "execution_count": 14,
   "id": "f4d7a91a-575f-48df-abfc-4c43c29dde0a",
   "metadata": {},
   "outputs": [
    {
     "data": {
      "image/png": "[encoded data removed]",
      "text/plain": [
       "<Figure size 150x150 with 1 Axes>"
      ]
     },
     "metadata": {
      "image/png": {
       "height": 222,
       "width": 344
      }
     },
     "output_type": "display_data"
    }
   ],
   "source": [
    "fig = fg(0.75, 0.75)\n",
    "fig.dpi = 200\n",
    "for _data in get(different_da_sylls, datas):\n",
    "    ax = bootstrap_lineplot(\n",
    "        _data[\"z_bootstrap\"],\n",
    "        \"time\",\n",
    "        \"dlight\",\n",
    "        ci=95,\n",
    "        color=color_map[_data[\"syllable name\"]],\n",
    "        label=_data[\"syllable name\"],\n",
    "        alpha=0.4,\n",
    "    )\n",
    "\n",
    "bootstrap_lineplot(\n",
    "    shuff_line, \"time\", \"dlight\", ci=95, color=(0.4,) * 3, label=\"Shuffle\", alpha=0.4, zorder=-2\n",
    ")\n",
    "\n",
    "add_legend(ax)\n",
    "plt.ylabel(\"dF/F0 (z re: shuff.)\")\n",
    "plt.xlabel(\"Time from onset (s)\")\n",
    "plt.xlim(-1.5, 1.5)\n",
    "plt.ylim(-25, 15)\n",
    "clean_ticks(ax, \"y\", dtype=int, precision=0, zero_symmetry=False)\n",
    "clean_ticks(ax, \"x\", dtype=float)\n",
    "sns.despine()\n",
    "saver(fig, \"turning-syllables-z-re-shuffle\");"
   ]
  },
  {
   "cell_type": "code",
   "execution_count": 15,
   "id": "4171ec02-c488-4d86-9224-42a4a2391bef",
   "metadata": {},
   "outputs": [
    {
     "data": {
      "image/png": "[encoded data removed]",
      "text/plain": [
       "<Figure size 800x200 with 1 Axes>"
      ]
     },
     "metadata": {
      "image/png": {
       "height": 204,
       "width": 670
      }
     },
     "output_type": "display_data"
    }
   ],
   "source": [
    "cmap = sns.blend_palette(['#fff', COLORS['green'], '#000'], 10)\n",
    "cmap = np.array(cmap)[[2, 3, 5, 7]]\n",
    "\n",
    "sns.palplot(cmap)"
   ]
  },
  {
   "cell_type": "code",
   "execution_count": 16,
   "id": "c0170653-f8a0-49b3-bb6f-31b04ae7bdfb",
   "metadata": {},
   "outputs": [
    {
     "data": {
      "application/vnd.jupyter.widget-view+json": {
       "model_id": "543239884e4241baa9404b232f2ff50c",
       "version_major": 2,
       "version_minor": 0
      },
      "text/plain": [
       "  0%|          | 0/2 [00:00<?, ?it/s]"
      ]
     },
     "metadata": {},
     "output_type": "display_data"
    },
    {
     "data": {
      "image/png": "[encoded data removed]",
      "text/plain": [
       "<Figure size 150x150 with 1 Axes>"
      ]
     },
     "metadata": {
      "image/png": {
       "height": 222,
       "width": 241
      }
     },
     "output_type": "display_data"
    },
    {
     "data": {
      "image/png": "[encoded data removed]",
      "text/plain": [
       "<Figure size 150x150 with 1 Axes>"
      ]
     },
     "metadata": {
      "image/png": {
       "height": 222,
       "width": 241
      }
     },
     "output_type": "display_data"
    }
   ],
   "source": [
    "for _data in tqdm(get(different_da_sylls, datas)):\n",
    "    pos_dlight = (\n",
    "        _data[\"aligned dlight\"]\n",
    "        .groupby(\"trials\", sort=False)\n",
    "        .apply(lambda v: v.query(\"time > 0 & time < 0.3\")[\"z_dlight\"].max())\n",
    "    )\n",
    "    qs = pd.qcut(pos_dlight, 4, labels=False).astype(\"Int8\")\n",
    "\n",
    "    fig = fg(0.75, 0.75)\n",
    "    fig.dpi = 200\n",
    "\n",
    "    for q, _df in _data[\"aligned dlight\"].groupby(\n",
    "        _data[\"aligned dlight\"][\"trials\"].map(qs), sort=False, dropna=True\n",
    "    ):\n",
    "        b1 = _df.query(\"time >= -1.5 & time <= 1.5\").pivot_table(\n",
    "            index=\"trials\", columns=\"time\", values='z_dlight'\n",
    "        )\n",
    "        mu = b1.mean()\n",
    "        b1 = bootstrap_ci(b1.to_numpy(), n_shuffles)\n",
    "        b1 = pd.DataFrame(b1.T, index=mu.index)\n",
    "        b1 = b1.reset_index().melt(var_name=\"boot\", id_vars=\"time\", value_name=\"dlight\")\n",
    "        ax = bootstrap_lineplot(\n",
    "            b1, \"time\", \"dlight\", ci=95, color=cmap[q], label=_data[\"syllable name\"], alpha=0.4\n",
    "        )\n",
    "    sns.despine()\n",
    "    plt.ylabel(\"dF/F0 (z re: shuff.)\")\n",
    "    plt.xlabel(\"Time from onset (s)\")\n",
    "    plt.xlim(-1.5, 1.5)\n",
    "    plt.ylim(-115, 115)\n",
    "    clean_ticks(ax, \"y\", dtype=int, precision=0, zero_symmetry=False)\n",
    "    clean_ticks(ax, \"x\", dtype=float)\n",
    "    sns.despine()\n",
    "    saver(fig, f\"turning-syllable-{_data['syllable id']}-quartiles\");"
   ]
  },
  {
   "cell_type": "markdown",
   "id": "d1345c84-0f8c-4eb3-ad41-3a58f55ef79d",
   "metadata": {},
   "source": [
    "## Decode turning?"
   ]
  },
  {
   "cell_type": "code",
   "execution_count": 17,
   "id": "b555be4f-ff66-491d-aaf4-386dcbc7b74a",
   "metadata": {},
   "outputs": [],
   "source": [
    "turning_sylls = {\n",
    "    95: \"left\",\n",
    "    72: \"left\",\n",
    "    71: \"left\",\n",
    "    22: \"left\",\n",
    "    19: \"right\",\n",
    "    8:  \"right\",\n",
    "    25: \"right\",\n",
    "    33: \"right\",\n",
    "}"
   ]
  },
  {
   "cell_type": "code",
   "execution_count": 18,
   "id": "c156e294-22fc-42c6-85a6-7f15c23f168b",
   "metadata": {},
   "outputs": [],
   "source": [
    "dlight_key = \"signal_reref_dff_z\"\n",
    "\n",
    "trial_df = window_trials_for_decoder(\n",
    "    df,\n",
    "    np.where(\n",
    "        df[\"offline onset\"]\n",
    "        & (df[\"predicted_syllable (offline)\"].isin(list(turning_sylls)))\n",
    "        & (df[\"dur\"] > 4)\n",
    "    )[0],\n",
    "    dlight_key,\n",
    "    \"predicted_syllable (offline)\",\n",
    "    truncation_window=(0, 0.3),\n",
    ")\n",
    "trial_df[\"syllable\"] = trial_df[\"syllable\"].map(turning_sylls)\n",
    "trial_df = trial_df.dropna()"
   ]
  },
  {
   "cell_type": "code",
   "execution_count": 19,
   "id": "a57ceafd-ff8c-4eb1-9437-8e9a64609414",
   "metadata": {},
   "outputs": [],
   "source": [
    "max_sample_size = trial_df['syllable'].value_counts().min() // 3"
   ]
  },
  {
   "cell_type": "code",
   "execution_count": 20,
   "id": "7f1207c8-fc21-48eb-8df1-15595d02b18d",
   "metadata": {},
   "outputs": [
    {
     "data": {
      "application/vnd.jupyter.widget-view+json": {
       "model_id": "62fe0d98ac2440c99a10da56a58aea37",
       "version_major": 2,
       "version_minor": 0
      },
      "text/plain": [
       "  0%|          | 0/10 [00:00<?, ?it/s]"
      ]
     },
     "metadata": {},
     "output_type": "display_data"
    }
   ],
   "source": [
    "n_splits = 5\n",
    "folds = StratifiedKFold(n_splits=n_splits)\n",
    "\n",
    "metrics = []\n",
    "\n",
    "pbar = tqdm(range(10))\n",
    "for i in pbar:\n",
    "    sample = trial_df.groupby(\"syllable\").apply(\n",
    "        lambda v: v.sample(n=max_sample_size, replace=False)\n",
    "    )\n",
    "    for j, (train_idx, test_idx) in enumerate(folds.split(sample, sample[\"syllable\"])):\n",
    "        train = sample.iloc[train_idx]\n",
    "        test = sample.iloc[test_idx]\n",
    "\n",
    "        mdl = LinearSVC()\n",
    "        mdl.fit(train.drop(columns=[\"syllable\"]), train[\"syllable\"])\n",
    "        pred = mdl.predict(test.drop(columns=[\"syllable\"]))\n",
    "\n",
    "        metrics.append(\n",
    "            {\n",
    "                \"accuracy\": accuracy_score(test[\"syllable\"], pred),\n",
    "                \"f1\": f1_score(test[\"syllable\"], pred, average=\"macro\"),\n",
    "                \"fold\": j,\n",
    "                \"repeat\": i,\n",
    "            }\n",
    "        )\n",
    "    tmp = pd.DataFrame(metrics)[\"accuracy\"].mean()\n",
    "    pbar.set_description(f\"accuracy: {tmp:0.2f}\")"
   ]
  },
  {
   "cell_type": "code",
   "execution_count": 21,
   "id": "b707176b-e4bf-40af-ad2c-c89a67a9c52b",
   "metadata": {},
   "outputs": [
    {
     "data": {
      "text/html": [
       "<div>\n",
       "<style scoped>\n",
       "    .dataframe tbody tr th:only-of-type {\n",
       "        vertical-align: middle;\n",
       "    }\n",
       "\n",
       "    .dataframe tbody tr th {\n",
       "        vertical-align: top;\n",
       "    }\n",
       "\n",
       "    .dataframe thead th {\n",
       "        text-align: right;\n",
       "    }\n",
       "</style>\n",
       "<table border=\"1\" class=\"dataframe\">\n",
       "  <thead>\n",
       "    <tr style=\"text-align: right;\">\n",
       "      <th></th>\n",
       "      <th>accuracy</th>\n",
       "      <th>f1</th>\n",
       "      <th>fold</th>\n",
       "      <th>repeat</th>\n",
       "    </tr>\n",
       "  </thead>\n",
       "  <tbody>\n",
       "    <tr>\n",
       "      <th>0</th>\n",
       "      <td>0.516659</td>\n",
       "      <td>0.515992</td>\n",
       "      <td>0</td>\n",
       "      <td>0</td>\n",
       "    </tr>\n",
       "    <tr>\n",
       "      <th>1</th>\n",
       "      <td>0.511030</td>\n",
       "      <td>0.509817</td>\n",
       "      <td>1</td>\n",
       "      <td>0</td>\n",
       "    </tr>\n",
       "    <tr>\n",
       "      <th>2</th>\n",
       "      <td>0.518411</td>\n",
       "      <td>0.517439</td>\n",
       "      <td>2</td>\n",
       "      <td>0</td>\n",
       "    </tr>\n",
       "    <tr>\n",
       "      <th>3</th>\n",
       "      <td>0.519629</td>\n",
       "      <td>0.519035</td>\n",
       "      <td>3</td>\n",
       "      <td>0</td>\n",
       "    </tr>\n",
       "    <tr>\n",
       "      <th>4</th>\n",
       "      <td>0.509434</td>\n",
       "      <td>0.508653</td>\n",
       "      <td>4</td>\n",
       "      <td>0</td>\n",
       "    </tr>\n",
       "  </tbody>\n",
       "</table>\n",
       "</div>"
      ],
      "text/plain": [
       "   accuracy        f1  fold  repeat\n",
       "0  0.516659  0.515992     0       0\n",
       "1  0.511030  0.509817     1       0\n",
       "2  0.518411  0.517439     2       0\n",
       "3  0.519629  0.519035     3       0\n",
       "4  0.509434  0.508653     4       0"
      ]
     },
     "execution_count": 21,
     "metadata": {},
     "output_type": "execute_result"
    }
   ],
   "source": [
    "metrics = pd.DataFrame(metrics)\n",
    "metrics.head()"
   ]
  },
  {
   "cell_type": "code",
   "execution_count": null,
   "id": "dfdcbcb6-696c-4854-99a5-26a74b3f5f3b",
   "metadata": {},
   "outputs": [
    {
     "data": {
      "application/vnd.jupyter.widget-view+json": {
       "model_id": "5364d5472af742d3aff109909a48c3e5",
       "version_major": 2,
       "version_minor": 0
      },
      "text/plain": [
       "  0%|          | 0/100 [00:00<?, ?it/s]"
      ]
     },
     "metadata": {},
     "output_type": "display_data"
    }
   ],
   "source": [
    "# shuffle\n",
    "n_splits = 5\n",
    "folds = StratifiedKFold(n_splits=n_splits)\n",
    "\n",
    "shuff_metrics = []\n",
    "\n",
    "pbar = tqdm(range(100))\n",
    "for i in pbar:\n",
    "    sample = trial_df.groupby(\"syllable\").apply(\n",
    "        lambda v: v.sample(n=max_sample_size, replace=False)\n",
    "    )\n",
    "    sample[\"syllable\"] = np.random.permutation(sample[\"syllable\"])\n",
    "    for j, (train_idx, test_idx) in enumerate(folds.split(sample, sample[\"syllable\"])):\n",
    "        train = sample.iloc[train_idx]\n",
    "        test = sample.iloc[test_idx]\n",
    "\n",
    "        mdl = LinearSVC()\n",
    "        mdl.fit(train.drop(columns=[\"syllable\"]), train[\"syllable\"])\n",
    "        pred = mdl.predict(test.drop(columns=[\"syllable\"]))\n",
    "\n",
    "        shuff_metrics.append(\n",
    "            {\n",
    "                \"accuracy\": accuracy_score(test[\"syllable\"], pred),\n",
    "                \"f1\": f1_score(test[\"syllable\"], pred, average=\"macro\"),\n",
    "                \"fold\": j,\n",
    "                \"repeat\": i,\n",
    "            }\n",
    "        )\n",
    "    tmp = pd.DataFrame(shuff_metrics)[\"accuracy\"].mean()\n",
    "    pbar.set_description(f\"accuracy: {tmp:0.2f}\")"
   ]
  },
  {
   "cell_type": "code",
   "execution_count": null,
   "id": "3f95e623-296a-44b7-acf9-de8d8400c020",
   "metadata": {},
   "outputs": [],
   "source": [
    "shuff_metrics = pd.DataFrame(shuff_metrics)\n",
    "shuff_metrics.head()"
   ]
  },
  {
   "cell_type": "code",
   "execution_count": null,
   "id": "735cc381-18ac-4d49-b8cf-1a3b77251eeb",
   "metadata": {},
   "outputs": [],
   "source": [
    "fig = fg(0.5, 0.8)\n",
    "fig.dpi = 200\n",
    "ax = sns.boxplot(\n",
    "    data=[metrics[\"accuracy\"], shuff_metrics[\"accuracy\"]], showfliers=False, showcaps=False\n",
    ")\n",
    "ax.set(ylabel=\"Accuracy\", xticklabels=[\"Observed\", \"Shuffle\"], ylim=(0, 1))\n",
    "clean_ticks(ax, axis=\"y\", dtype=int)\n",
    "plt.xticks(rotation=90)\n",
    "sns.despine()\n",
    "saver(fig, \"turning-classifier\");"
   ]
  },
  {
   "cell_type": "code",
   "execution_count": null,
   "id": "f47b0078-f67c-4ef8-a64a-411ecea8d31c",
   "metadata": {},
   "outputs": [],
   "source": []
  }
 ],
 "metadata": {
  "kernelspec": {
   "display_name": "dopamine-paper",
   "language": "python",
   "name": "dopamine-paper"
  },
  "language_info": {
   "codemirror_mode": {
    "name": "ipython",
    "version": 3
   },
   "file_extension": ".py",
   "mimetype": "text/x-python",
   "name": "python",
   "nbconvert_exporter": "python",
   "pygments_lexer": "ipython3",
   "version": "3.9.13"
  },
  "widgets": {
   "application/vnd.jupyter.widget-state+json": {
    "state": {
     "01ad8b6649ea4bb199b0e374db62037b": {
      "model_module": "@jupyter-widgets/controls",
      "model_module_version": "2.0.0",
      "model_name": "HBoxModel",
      "state": {
       "children": [
        "IPY_MODEL_c0f023438691424ca03963d972af5e83",
        "IPY_MODEL_4163190cef6c46dd96ac727e6dcc66c5",
        "IPY_MODEL_f1cd441c2baf4391a841ad2fc07bcdcb"
       ],
       "layout": "IPY_MODEL_2af22fefa9144402b69268e73fc6210b"
      }
     },
     "02ef1e6a1ca64d15947c7d9e64a6e50d": {
      "model_module": "@jupyter-widgets/controls",
      "model_module_version": "2.0.0",
      "model_name": "HTMLStyleModel",
      "state": {
       "description_width": "",
       "font_size": null,
       "text_color": null
      }
     },
     "04bf3da01f5c4f4087ddab40878af4d0": {
      "model_module": "@jupyter-widgets/controls",
      "model_module_version": "2.0.0",
      "model_name": "ProgressStyleModel",
      "state": {
       "description_width": ""
      }
     },
     "054d1e39dc6f45798aae5dee953b4b3b": {
      "model_module": "@jupyter-widgets/controls",
      "model_module_version": "2.0.0",
      "model_name": "HTMLStyleModel",
      "state": {
       "description_width": "",
       "font_size": null,
       "text_color": null
      }
     },
     "0988aab7e93847079a11a9757a833441": {
      "model_module": "@jupyter-widgets/controls",
      "model_module_version": "2.0.0",
      "model_name": "HTMLModel",
      "state": {
       "layout": "IPY_MODEL_fb7d6e13b2dc4f748ab92ed6d505a9f9",
       "style": "IPY_MODEL_f0fea40bf4654638b20d356a97953038",
       "value": "accuracy: 0.52: 100%"
      }
     },
     "1abf1ab381934c4d9fca6fe871d38266": {
      "model_module": "@jupyter-widgets/controls",
      "model_module_version": "2.0.0",
      "model_name": "HBoxModel",
      "state": {
       "children": [
        "IPY_MODEL_454d388ccddb427b995bd57183afe343",
        "IPY_MODEL_f43d0f5534a144d6802d6fa625187662",
        "IPY_MODEL_ce52d0dae216481386073aab9edc2384"
       ],
       "layout": "IPY_MODEL_d4c051394bc14b88a430c5ced34f56b7"
      }
     },
     "1ca807cfc8a9420bbdc0ed26f26f711a": {
      "model_module": "@jupyter-widgets/controls",
      "model_module_version": "2.0.0",
      "model_name": "HTMLModel",
      "state": {
       "layout": "IPY_MODEL_69d020ea540e473282472dcbe3a0e30e",
       "style": "IPY_MODEL_e5dd4bf7c9fc480bb44621cd756b9444",
       "value": "100%"
      }
     },
     "202931e3ecb1477ca5ff761b4ee38fa0": {
      "model_module": "@jupyter-widgets/controls",
      "model_module_version": "2.0.0",
      "model_name": "HTMLModel",
      "state": {
       "layout": "IPY_MODEL_b4a6be787f7b4995a9367bad73e95ccd",
       "style": "IPY_MODEL_94de1259b99e47779bea1779c50cd9fb",
       "value": "100%"
      }
     },
     "22a9ec3d252b43e39c2b786436094efa": {
      "model_module": "@jupyter-widgets/base",
      "model_module_version": "2.0.0",
      "model_name": "LayoutModel",
      "state": {}
     },
     "27bccdea04f14a2687a9066c8e883279": {
      "model_module": "@jupyter-widgets/controls",
      "model_module_version": "2.0.0",
      "model_name": "HTMLModel",
      "state": {
       "layout": "IPY_MODEL_325e9621dc9b4faeafffc6494cb39f88",
       "style": "IPY_MODEL_a53640a07ba442e1a23c96bc5524f6db",
       "value": "accuracy: 0.50:   2%"
      }
     },
     "2a3f261ae72c444bad91ff20f0a9eec3": {
      "model_module": "@jupyter-widgets/controls",
      "model_module_version": "2.0.0",
      "model_name": "ProgressStyleModel",
      "state": {
       "description_width": ""
      }
     },
     "2af22fefa9144402b69268e73fc6210b": {
      "model_module": "@jupyter-widgets/base",
      "model_module_version": "2.0.0",
      "model_name": "LayoutModel",
      "state": {}
     },
     "2b6483139ffb42b6b62f3ef79e24ede7": {
      "model_module": "@jupyter-widgets/controls",
      "model_module_version": "2.0.0",
      "model_name": "HTMLModel",
      "state": {
       "layout": "IPY_MODEL_f7f250b78ee44de1b8c41bf7ec67b261",
       "style": "IPY_MODEL_02ef1e6a1ca64d15947c7d9e64a6e50d",
       "value": " 2/2 [04:08&lt;00:00, 117.48s/it]"
      }
     },
     "325e9621dc9b4faeafffc6494cb39f88": {
      "model_module": "@jupyter-widgets/base",
      "model_module_version": "2.0.0",
      "model_name": "LayoutModel",
      "state": {}
     },
     "36b2ca2f7d01415b8c91cdd903a44426": {
      "model_module": "@jupyter-widgets/controls",
      "model_module_version": "2.0.0",
      "model_name": "FloatProgressModel",
      "state": {
       "bar_style": "success",
       "layout": "IPY_MODEL_7e6e8a973f5a4057bbc4e096d399b83a",
       "max": 1000,
       "style": "IPY_MODEL_2a3f261ae72c444bad91ff20f0a9eec3",
       "value": 1000
      }
     },
     "375a83a6039f43abae89b516ed2f5253": {
      "model_module": "@jupyter-widgets/base",
      "model_module_version": "2.0.0",
      "model_name": "LayoutModel",
      "state": {}
     },
     "3de994b6fcfb4e5ca4d6b216d12c31d2": {
      "model_module": "@jupyter-widgets/controls",
      "model_module_version": "2.0.0",
      "model_name": "HTMLStyleModel",
      "state": {
       "description_width": "",
       "font_size": null,
       "text_color": null
      }
     },
     "4163190cef6c46dd96ac727e6dcc66c5": {
      "model_module": "@jupyter-widgets/controls",
      "model_module_version": "2.0.0",
      "model_name": "FloatProgressModel",
      "state": {
       "bar_style": "success",
       "layout": "IPY_MODEL_aa3e775e9e7a46ab8a21cbc3c951e949",
       "max": 1000,
       "style": "IPY_MODEL_47ad74ae0d4c4f128a62c17fd28d1eb2",
       "value": 1000
      }
     },
     "41712a00678f49eaba0ac21a7be7e2bf": {
      "model_module": "@jupyter-widgets/controls",
      "model_module_version": "2.0.0",
      "model_name": "FloatProgressModel",
      "state": {
       "bar_style": "success",
       "layout": "IPY_MODEL_a84bf3212d0b4d72864c7c4c653c6ce8",
       "max": 10,
       "style": "IPY_MODEL_72f553c520354cb186be0370d79d625d",
       "value": 10
      }
     },
     "420c53f5d6514ab587dc81f968fe3b16": {
      "model_module": "@jupyter-widgets/base",
      "model_module_version": "2.0.0",
      "model_name": "LayoutModel",
      "state": {}
     },
     "454d388ccddb427b995bd57183afe343": {
      "model_module": "@jupyter-widgets/controls",
      "model_module_version": "2.0.0",
      "model_name": "HTMLModel",
      "state": {
       "layout": "IPY_MODEL_65ff38d58d0f4da3805b22bc1ae4b02f",
       "style": "IPY_MODEL_3de994b6fcfb4e5ca4d6b216d12c31d2",
       "value": "100%"
      }
     },
     "468df4b24860433491331bbca33ad8c2": {
      "model_module": "@jupyter-widgets/controls",
      "model_module_version": "2.0.0",
      "model_name": "HTMLStyleModel",
      "state": {
       "description_width": "",
       "font_size": null,
       "text_color": null
      }
     },
     "47ad74ae0d4c4f128a62c17fd28d1eb2": {
      "model_module": "@jupyter-widgets/controls",
      "model_module_version": "2.0.0",
      "model_name": "ProgressStyleModel",
      "state": {
       "description_width": ""
      }
     },
     "4db17ff54a954db6a827cb4eb98d2b7d": {
      "model_module": "@jupyter-widgets/base",
      "model_module_version": "2.0.0",
      "model_name": "LayoutModel",
      "state": {}
     },
     "5117d91fd9424e85b89adbd0348f9b36": {
      "model_module": "@jupyter-widgets/base",
      "model_module_version": "2.0.0",
      "model_name": "LayoutModel",
      "state": {}
     },
     "5143dbf4b11d4a9cb5a060ead496d912": {
      "model_module": "@jupyter-widgets/controls",
      "model_module_version": "2.0.0",
      "model_name": "HBoxModel",
      "state": {
       "children": [
        "IPY_MODEL_1ca807cfc8a9420bbdc0ed26f26f711a",
        "IPY_MODEL_36b2ca2f7d01415b8c91cdd903a44426",
        "IPY_MODEL_8619d44207c744c2b931f0c756c92096"
       ],
       "layout": "IPY_MODEL_693e4bf0038d4a3daacbbb0852c0257d"
      }
     },
     "5364d5472af742d3aff109909a48c3e5": {
      "model_module": "@jupyter-widgets/controls",
      "model_module_version": "2.0.0",
      "model_name": "HBoxModel",
      "state": {
       "children": [
        "IPY_MODEL_27bccdea04f14a2687a9066c8e883279",
        "IPY_MODEL_bfee55c10a60422ca475e626046946a7",
        "IPY_MODEL_82eacaf719d1494aa03f53fb5c3224bb"
       ],
       "layout": "IPY_MODEL_cd9b1476e02349a9844dfdb10486c18f"
      }
     },
     "543239884e4241baa9404b232f2ff50c": {
      "model_module": "@jupyter-widgets/controls",
      "model_module_version": "2.0.0",
      "model_name": "HBoxModel",
      "state": {
       "children": [
        "IPY_MODEL_202931e3ecb1477ca5ff761b4ee38fa0",
        "IPY_MODEL_7a14a1d9ea2c488ca98ddd87e5779fc6",
        "IPY_MODEL_2b6483139ffb42b6b62f3ef79e24ede7"
       ],
       "layout": "IPY_MODEL_420c53f5d6514ab587dc81f968fe3b16"
      }
     },
     "5d13eadc55724f838c80e50b9cef67bd": {
      "model_module": "@jupyter-widgets/controls",
      "model_module_version": "2.0.0",
      "model_name": "HTMLStyleModel",
      "state": {
       "description_width": "",
       "font_size": null,
       "text_color": null
      }
     },
     "62fe0d98ac2440c99a10da56a58aea37": {
      "model_module": "@jupyter-widgets/controls",
      "model_module_version": "2.0.0",
      "model_name": "HBoxModel",
      "state": {
       "children": [
        "IPY_MODEL_0988aab7e93847079a11a9757a833441",
        "IPY_MODEL_41712a00678f49eaba0ac21a7be7e2bf",
        "IPY_MODEL_cf9c9839dba2452b815fcc5194fb0bf3"
       ],
       "layout": "IPY_MODEL_76382e479d174bd48ad140371f86da5e"
      }
     },
     "65abacb20e7e4f56ada2b0b298a5f181": {
      "model_module": "@jupyter-widgets/controls",
      "model_module_version": "2.0.0",
      "model_name": "HTMLStyleModel",
      "state": {
       "description_width": "",
       "font_size": null,
       "text_color": null
      }
     },
     "65ff38d58d0f4da3805b22bc1ae4b02f": {
      "model_module": "@jupyter-widgets/base",
      "model_module_version": "2.0.0",
      "model_name": "LayoutModel",
      "state": {}
     },
     "693e4bf0038d4a3daacbbb0852c0257d": {
      "model_module": "@jupyter-widgets/base",
      "model_module_version": "2.0.0",
      "model_name": "LayoutModel",
      "state": {}
     },
     "69d020ea540e473282472dcbe3a0e30e": {
      "model_module": "@jupyter-widgets/base",
      "model_module_version": "2.0.0",
      "model_name": "LayoutModel",
      "state": {}
     },
     "6be72cbf72664aadb6666a9d4c294ecf": {
      "model_module": "@jupyter-widgets/base",
      "model_module_version": "2.0.0",
      "model_name": "LayoutModel",
      "state": {}
     },
     "6e1bcdc7e3f94d0a8855b52e3f946205": {
      "model_module": "@jupyter-widgets/base",
      "model_module_version": "2.0.0",
      "model_name": "LayoutModel",
      "state": {}
     },
     "72f553c520354cb186be0370d79d625d": {
      "model_module": "@jupyter-widgets/controls",
      "model_module_version": "2.0.0",
      "model_name": "ProgressStyleModel",
      "state": {
       "description_width": ""
      }
     },
     "76382e479d174bd48ad140371f86da5e": {
      "model_module": "@jupyter-widgets/base",
      "model_module_version": "2.0.0",
      "model_name": "LayoutModel",
      "state": {}
     },
     "7a14a1d9ea2c488ca98ddd87e5779fc6": {
      "model_module": "@jupyter-widgets/controls",
      "model_module_version": "2.0.0",
      "model_name": "FloatProgressModel",
      "state": {
       "bar_style": "success",
       "layout": "IPY_MODEL_6be72cbf72664aadb6666a9d4c294ecf",
       "max": 2,
       "style": "IPY_MODEL_800c865b99564fd88d76119e9b0d597b",
       "value": 2
      }
     },
     "7e6e8a973f5a4057bbc4e096d399b83a": {
      "model_module": "@jupyter-widgets/base",
      "model_module_version": "2.0.0",
      "model_name": "LayoutModel",
      "state": {}
     },
     "800c865b99564fd88d76119e9b0d597b": {
      "model_module": "@jupyter-widgets/controls",
      "model_module_version": "2.0.0",
      "model_name": "ProgressStyleModel",
      "state": {
       "description_width": ""
      }
     },
     "82eacaf719d1494aa03f53fb5c3224bb": {
      "model_module": "@jupyter-widgets/controls",
      "model_module_version": "2.0.0",
      "model_name": "HTMLModel",
      "state": {
       "layout": "IPY_MODEL_4db17ff54a954db6a827cb4eb98d2b7d",
       "style": "IPY_MODEL_5d13eadc55724f838c80e50b9cef67bd",
       "value": " 2/100 [00:38&lt;31:13, 19.11s/it]"
      }
     },
     "8619d44207c744c2b931f0c756c92096": {
      "model_module": "@jupyter-widgets/controls",
      "model_module_version": "2.0.0",
      "model_name": "HTMLModel",
      "state": {
       "layout": "IPY_MODEL_f33f73b4210b4342975d1f73639f1435",
       "style": "IPY_MODEL_c651def542504d15bfdc4da8741fb7f2",
       "value": " 1000/1000 [36:06&lt;00:00,  1.40s/it]"
      }
     },
     "90be46a5a8934b988def4840fd14d41d": {
      "model_module": "@jupyter-widgets/controls",
      "model_module_version": "2.0.0",
      "model_name": "ProgressStyleModel",
      "state": {
       "description_width": ""
      }
     },
     "94de1259b99e47779bea1779c50cd9fb": {
      "model_module": "@jupyter-widgets/controls",
      "model_module_version": "2.0.0",
      "model_name": "HTMLStyleModel",
      "state": {
       "description_width": "",
       "font_size": null,
       "text_color": null
      }
     },
     "9ea5c4235e5d46f185a1d54e4f2d6c02": {
      "model_module": "@jupyter-widgets/base",
      "model_module_version": "2.0.0",
      "model_name": "LayoutModel",
      "state": {}
     },
     "a3879d9910eb4e37b941e90943bfa20c": {
      "model_module": "@jupyter-widgets/controls",
      "model_module_version": "2.0.0",
      "model_name": "HTMLStyleModel",
      "state": {
       "description_width": "",
       "font_size": null,
       "text_color": null
      }
     },
     "a53640a07ba442e1a23c96bc5524f6db": {
      "model_module": "@jupyter-widgets/controls",
      "model_module_version": "2.0.0",
      "model_name": "HTMLStyleModel",
      "state": {
       "description_width": "",
       "font_size": null,
       "text_color": null
      }
     },
     "a84bf3212d0b4d72864c7c4c653c6ce8": {
      "model_module": "@jupyter-widgets/base",
      "model_module_version": "2.0.0",
      "model_name": "LayoutModel",
      "state": {}
     },
     "aa3e775e9e7a46ab8a21cbc3c951e949": {
      "model_module": "@jupyter-widgets/base",
      "model_module_version": "2.0.0",
      "model_name": "LayoutModel",
      "state": {}
     },
     "b4a6be787f7b4995a9367bad73e95ccd": {
      "model_module": "@jupyter-widgets/base",
      "model_module_version": "2.0.0",
      "model_name": "LayoutModel",
      "state": {}
     },
     "bf9513904b63409abc6b6ab4e528ddf1": {
      "model_module": "@jupyter-widgets/base",
      "model_module_version": "2.0.0",
      "model_name": "LayoutModel",
      "state": {}
     },
     "bfee55c10a60422ca475e626046946a7": {
      "model_module": "@jupyter-widgets/controls",
      "model_module_version": "2.0.0",
      "model_name": "FloatProgressModel",
      "state": {
       "layout": "IPY_MODEL_5117d91fd9424e85b89adbd0348f9b36",
       "style": "IPY_MODEL_90be46a5a8934b988def4840fd14d41d",
       "value": 2
      }
     },
     "c0f023438691424ca03963d972af5e83": {
      "model_module": "@jupyter-widgets/controls",
      "model_module_version": "2.0.0",
      "model_name": "HTMLModel",
      "state": {
       "layout": "IPY_MODEL_22a9ec3d252b43e39c2b786436094efa",
       "style": "IPY_MODEL_054d1e39dc6f45798aae5dee953b4b3b",
       "value": "100%"
      }
     },
     "c651def542504d15bfdc4da8741fb7f2": {
      "model_module": "@jupyter-widgets/controls",
      "model_module_version": "2.0.0",
      "model_name": "HTMLStyleModel",
      "state": {
       "description_width": "",
       "font_size": null,
       "text_color": null
      }
     },
     "cd9b1476e02349a9844dfdb10486c18f": {
      "model_module": "@jupyter-widgets/base",
      "model_module_version": "2.0.0",
      "model_name": "LayoutModel",
      "state": {}
     },
     "ce52d0dae216481386073aab9edc2384": {
      "model_module": "@jupyter-widgets/controls",
      "model_module_version": "2.0.0",
      "model_name": "HTMLModel",
      "state": {
       "layout": "IPY_MODEL_bf9513904b63409abc6b6ab4e528ddf1",
       "style": "IPY_MODEL_65abacb20e7e4f56ada2b0b298a5f181",
       "value": " 2/2 [1:12:09&lt;00:00, 2176.16s/it]"
      }
     },
     "cf9c9839dba2452b815fcc5194fb0bf3": {
      "model_module": "@jupyter-widgets/controls",
      "model_module_version": "2.0.0",
      "model_name": "HTMLModel",
      "state": {
       "layout": "IPY_MODEL_6e1bcdc7e3f94d0a8855b52e3f946205",
       "style": "IPY_MODEL_468df4b24860433491331bbca33ad8c2",
       "value": " 10/10 [05:26&lt;00:00, 21.77s/it]"
      }
     },
     "d4c051394bc14b88a430c5ced34f56b7": {
      "model_module": "@jupyter-widgets/base",
      "model_module_version": "2.0.0",
      "model_name": "LayoutModel",
      "state": {}
     },
     "e5dd4bf7c9fc480bb44621cd756b9444": {
      "model_module": "@jupyter-widgets/controls",
      "model_module_version": "2.0.0",
      "model_name": "HTMLStyleModel",
      "state": {
       "description_width": "",
       "font_size": null,
       "text_color": null
      }
     },
     "f0fea40bf4654638b20d356a97953038": {
      "model_module": "@jupyter-widgets/controls",
      "model_module_version": "2.0.0",
      "model_name": "HTMLStyleModel",
      "state": {
       "description_width": "",
       "font_size": null,
       "text_color": null
      }
     },
     "f1cd441c2baf4391a841ad2fc07bcdcb": {
      "model_module": "@jupyter-widgets/controls",
      "model_module_version": "2.0.0",
      "model_name": "HTMLModel",
      "state": {
       "layout": "IPY_MODEL_375a83a6039f43abae89b516ed2f5253",
       "style": "IPY_MODEL_a3879d9910eb4e37b941e90943bfa20c",
       "value": " 1000/1000 [31:40&lt;00:00,  1.67s/it]"
      }
     },
     "f33f73b4210b4342975d1f73639f1435": {
      "model_module": "@jupyter-widgets/base",
      "model_module_version": "2.0.0",
      "model_name": "LayoutModel",
      "state": {}
     },
     "f43d0f5534a144d6802d6fa625187662": {
      "model_module": "@jupyter-widgets/controls",
      "model_module_version": "2.0.0",
      "model_name": "FloatProgressModel",
      "state": {
       "bar_style": "success",
       "layout": "IPY_MODEL_9ea5c4235e5d46f185a1d54e4f2d6c02",
       "max": 2,
       "style": "IPY_MODEL_04bf3da01f5c4f4087ddab40878af4d0",
       "value": 2
      }
     },
     "f7f250b78ee44de1b8c41bf7ec67b261": {
      "model_module": "@jupyter-widgets/base",
      "model_module_version": "2.0.0",
      "model_name": "LayoutModel",
      "state": {}
     },
     "fb7d6e13b2dc4f748ab92ed6d505a9f9": {
      "model_module": "@jupyter-widgets/base",
      "model_module_version": "2.0.0",
      "model_name": "LayoutModel",
      "state": {}
     }
    },
    "version_major": 2,
    "version_minor": 0
   }
  }
 },
 "nbformat": 4,
 "nbformat_minor": 5
}
