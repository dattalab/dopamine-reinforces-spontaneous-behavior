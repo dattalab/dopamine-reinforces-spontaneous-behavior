{
 "cells": [
  {
   "cell_type": "code",
   "execution_count": 1,
   "metadata": {
    "scrolled": true
   },
   "outputs": [],
   "source": [
    "%load_ext autoreload\n",
    "%autoreload 2\n",
    "%matplotlib inline"
   ]
  },
  {
   "cell_type": "code",
   "execution_count": 2,
   "metadata": {},
   "outputs": [],
   "source": [
    "from tqdm.auto import tqdm\n",
    "from rl_analysis.plotting import setup_plotting_env, geno_palette, savefig, clean_ticks\n",
    "from rl_analysis.util import rle\n",
    "import pandas as pd\n",
    "\n",
    "import os\n",
    "import seaborn as sns\n",
    "import numpy as np"
   ]
  },
  {
   "cell_type": "markdown",
   "metadata": {},
   "source": [
    "# Load in raw data and normalize"
   ]
  },
  {
   "cell_type": "code",
   "execution_count": 3,
   "metadata": {},
   "outputs": [],
   "source": [
    "import toml\n",
    "\n",
    "with open(\"../analysis_configuration.toml\", \"r\") as f:\n",
    "    analysis_config = toml.load(f)"
   ]
  },
  {
   "cell_type": "code",
   "execution_count": 4,
   "metadata": {},
   "outputs": [],
   "source": [
    "raw_dirs = analysis_config[\"raw_data\"]\n",
    "proc_dirs = analysis_config[\"intermediate_results\"]\n",
    "closed_loop_cfg = analysis_config[\"closed_loop_behavior\"]\n",
    "figure_cfg = analysis_config[\"figures\"]"
   ]
  },
  {
   "cell_type": "code",
   "execution_count": 5,
   "metadata": {},
   "outputs": [],
   "source": [
    "learner_dct = toml.load(\n",
    "    os.path.join(proc_dirs[\"closed_loop_behavior\"], \"closed_loop_learners.toml\")\n",
    ")\n",
    "learners = []\n",
    "for k, v in learner_dct.items():\n",
    "    learners += v[\"learners\"]"
   ]
  },
  {
   "cell_type": "code",
   "execution_count": 6,
   "metadata": {},
   "outputs": [],
   "source": [
    "feedback_df = pd.read_parquet(\n",
    "    os.path.join(raw_dirs[\"closed_loop_behavior\"], \"closed_loop_behavior.parquet\"),\n",
    "    filters=[\n",
    "        (\"experiment_type\", \"in\", [\"reinforcement\"]),\n",
    "        (\"area\", \"in\", [\"snc (axon)\", \"ctrl\"]),\n",
    "    ],\n",
    ")\n",
    "\n",
    "feedback_df = feedback_df.loc[\n",
    "    (feedback_df[\"area\"].isin([\"snc (axon)\", \"ctrl\"]))\n",
    "    & (feedback_df[\"opsin\"].isin([\"chr2\", \"ctrl\"]))\n",
    "].copy()\n",
    "\n",
    "feedback_df.rename(\n",
    "    columns={\"predicted_syllable_number\": \"syllable_number\"}, inplace=True\n",
    ")"
   ]
  },
  {
   "cell_type": "code",
   "execution_count": 7,
   "metadata": {},
   "outputs": [],
   "source": [
    "# get feedback status..."
   ]
  },
  {
   "cell_type": "code",
   "execution_count": 8,
   "metadata": {},
   "outputs": [],
   "source": [
    "rle_df = feedback_df.groupby(\"uniq_id\")[\"predicted_syllable\"].apply(rle)\n",
    "rle_df.index = rle_df.index.droplevel(0)"
   ]
  },
  {
   "cell_type": "code",
   "execution_count": 9,
   "metadata": {},
   "outputs": [],
   "source": [
    "rle_df = feedback_df.loc[rle_df.index]"
   ]
  },
  {
   "cell_type": "code",
   "execution_count": 10,
   "metadata": {},
   "outputs": [],
   "source": [
    "all_duration = rle_df.groupby(\"uniq_id\")[\"timestamp\"].shift(-1) - rle_df[\"timestamp\"]\n",
    "rle_df[\"duration\"] = (\n",
    "    rle_df.groupby(\"uniq_id\")[\"timestamp\"].shift(-1) - rle_df[\"timestamp\"]\n",
    ")"
   ]
  },
  {
   "cell_type": "code",
   "execution_count": 11,
   "metadata": {},
   "outputs": [],
   "source": [
    "feedback_df[\"is_stim\"] = (feedback_df[\"session_number\"].isin([1, 2])) & (\n",
    "    feedback_df[\"feedback_status\"] == 1\n",
    ")\n",
    "feedback_df[\"is_catch\"] = (feedback_df[\"session_number\"].isin([1, 2])) & (\n",
    "    feedback_df[\"feedback_status\"] == 0\n",
    ")"
   ]
  },
  {
   "cell_type": "code",
   "execution_count": 12,
   "metadata": {},
   "outputs": [],
   "source": [
    "fbacks = feedback_df.groupby([\"uniq_id\", \"syllable_number\"])[\"is_stim\"].any()\n",
    "catches = feedback_df.groupby([\"uniq_id\", \"syllable_number\"])[\"is_catch\"].any()"
   ]
  },
  {
   "cell_type": "code",
   "execution_count": 13,
   "metadata": {},
   "outputs": [],
   "source": [
    "try:\n",
    "    rle_df = rle_df.set_index([\"uniq_id\", \"syllable_number\"]).sort_index()\n",
    "except KeyError:\n",
    "    pass"
   ]
  },
  {
   "cell_type": "code",
   "execution_count": 14,
   "metadata": {},
   "outputs": [],
   "source": [
    "rle_df[\"is_feedback\"] = fbacks\n",
    "rle_df[\"is_catch\"] = catches"
   ]
  },
  {
   "cell_type": "code",
   "execution_count": 15,
   "metadata": {},
   "outputs": [],
   "source": [
    "rle_df = rle_df.reset_index()"
   ]
  },
  {
   "cell_type": "code",
   "execution_count": 16,
   "metadata": {},
   "outputs": [],
   "source": [
    "baseline_feedbacks = rle_df.loc[rle_df[\"session_number\"] <= 0, \"is_feedback\"]\n",
    "baseline_fback_idx = baseline_feedbacks.loc[baseline_feedbacks].index.tolist()"
   ]
  },
  {
   "cell_type": "code",
   "execution_count": 17,
   "metadata": {},
   "outputs": [],
   "source": [
    "catch_prob = 0.25"
   ]
  },
  {
   "cell_type": "code",
   "execution_count": 18,
   "metadata": {},
   "outputs": [],
   "source": [
    "nchoose = np.round(catch_prob * len(baseline_fback_idx)).astype(\"int\")\n",
    "rle_df.loc[np.random.choice(baseline_fback_idx, nchoose), \"is_catch\"] = True\n",
    "rle_df.loc[np.random.choice(baseline_fback_idx, nchoose), \"is_feedback\"] = False"
   ]
  },
  {
   "cell_type": "code",
   "execution_count": 19,
   "metadata": {},
   "outputs": [],
   "source": [
    "rle_df[\"status\"] = np.nan\n",
    "rle_df.loc[rle_df[\"is_feedback\"], \"status\"] = \"feedback\"\n",
    "rle_df.loc[rle_df[\"is_catch\"], \"status\"] = \"catch\"\n",
    "rle_df[\"status\"] = rle_df[\"status\"].fillna(\"n/a\")"
   ]
  },
  {
   "cell_type": "code",
   "execution_count": 20,
   "metadata": {},
   "outputs": [],
   "source": [
    "rle_df[\"session_type\"] = \"baseline\"\n",
    "rle_df.loc[rle_df[\"session_number\"].isin([1, 2]), \"session_type\"] = \"stim\""
   ]
  },
  {
   "cell_type": "code",
   "execution_count": 21,
   "metadata": {},
   "outputs": [],
   "source": [
    "try:\n",
    "    rle_df = rle_df.set_index([\"uniq_id\", \"syllable_number\"]).sort_index()\n",
    "except KeyError:\n",
    "    pass"
   ]
  },
  {
   "cell_type": "code",
   "execution_count": 22,
   "metadata": {},
   "outputs": [],
   "source": [
    "use_scalars = [\n",
    "    \"velocity_2d_mm\",\n",
    "    \"acceleration_2d_mm\",\n",
    "    \"velocity_angle\",\n",
    "    \"velocity_height\",\n",
    "]"
   ]
  },
  {
   "cell_type": "code",
   "execution_count": 23,
   "metadata": {},
   "outputs": [],
   "source": [
    "agg_scalars = feedback_df.groupby([\"uniq_id\", \"syllable_number\"])[use_scalars].mean()\n",
    "rle_df = rle_df.drop(agg_scalars.columns, axis=1, errors=\"ignore\")\n",
    "rle_df = rle_df.join(agg_scalars)\n",
    "\n",
    "z_mu = rle_df.groupby([\"session_type\", \"mouse_id\"])[use_scalars].mean().loc[\"baseline\"]\n",
    "z_sig = rle_df.groupby([\"session_type\", \"mouse_id\"])[use_scalars].std().loc[\"baseline\"]\n",
    "rle_df = rle_df.set_index([\"mouse_id\"])\n",
    "rle_df[use_scalars] = (rle_df[use_scalars] - z_mu.loc[rle_df.index]) / z_sig.loc[\n",
    "    rle_df.index\n",
    "]"
   ]
  },
  {
   "cell_type": "code",
   "execution_count": 24,
   "metadata": {},
   "outputs": [],
   "source": [
    "rle_df = rle_df.reset_index()"
   ]
  },
  {
   "cell_type": "code",
   "execution_count": 25,
   "metadata": {},
   "outputs": [],
   "source": [
    "syllable_norm_scalars = [f\"{_}_syll_z\" for _ in use_scalars]"
   ]
  },
  {
   "cell_type": "code",
   "execution_count": 26,
   "metadata": {},
   "outputs": [],
   "source": [
    "z_mu = (\n",
    "    rle_df.groupby([\"session_type\", \"mouse_id\", \"predicted_syllable\"])[use_scalars]\n",
    "    .mean()\n",
    "    .loc[\"baseline\"]\n",
    ")\n",
    "z_sig = (\n",
    "    rle_df.groupby([\"session_type\", \"mouse_id\", \"predicted_syllable\"])[use_scalars]\n",
    "    .std()\n",
    "    .loc[\"baseline\"]\n",
    ")\n",
    "rle_df = rle_df.set_index([\"mouse_id\", \"predicted_syllable\"])\n",
    "\n",
    "z_mu = z_mu.reindex(rle_df.index)\n",
    "z_sig = z_sig.reindex(rle_df.index)"
   ]
  },
  {
   "cell_type": "code",
   "execution_count": 27,
   "metadata": {},
   "outputs": [
    {
     "data": {
      "application/vnd.jupyter.widget-view+json": {
       "model_id": "3beaf21f68ea4ff5b82b38016dc2dd0e",
       "version_major": 2,
       "version_minor": 0
      },
      "text/plain": [
       "0it [00:00, ?it/s]"
      ]
     },
     "metadata": {},
     "output_type": "display_data"
    }
   ],
   "source": [
    "for _new_scalar, _scalar in tqdm(zip(syllable_norm_scalars, use_scalars)):\n",
    "    rle_df[_new_scalar] = (rle_df[_scalar] - z_mu[_scalar]) / z_sig[_scalar]"
   ]
  },
  {
   "cell_type": "code",
   "execution_count": 28,
   "metadata": {},
   "outputs": [],
   "source": [
    "rle_df = rle_df.reset_index()"
   ]
  },
  {
   "cell_type": "code",
   "execution_count": 29,
   "metadata": {},
   "outputs": [],
   "source": [
    "rle_df[\"learner\"] = rle_df[\"mouse_id\"].isin(learners)\n",
    "rle_df[\"learner\"] = rle_df[\"learner\"].map({True: \"yes\", False: \"no\"})\n",
    "rle_df.loc[rle_df[\"area\"] == \"ctrl\", \"learner\"] = \"ctrl\""
   ]
  },
  {
   "cell_type": "code",
   "execution_count": 30,
   "metadata": {},
   "outputs": [],
   "source": [
    "# fold in scalars..."
   ]
  },
  {
   "cell_type": "code",
   "execution_count": 31,
   "metadata": {},
   "outputs": [],
   "source": [
    "target_rle_df = rle_df.loc[\n",
    "    rle_df[\"predicted_syllable\"] == rle_df[\"target_syllable\"]\n",
    "].copy()"
   ]
  },
  {
   "cell_type": "code",
   "execution_count": 32,
   "metadata": {},
   "outputs": [],
   "source": [
    "target_rle_df[\"duration_z\"] = target_rle_df.groupby([\"mouse_id\", \"predicted_syllable\"])[\n",
    "    \"duration\"\n",
    "].transform(lambda x: (x - x.mean()) / x.std())"
   ]
  },
  {
   "cell_type": "code",
   "execution_count": 33,
   "metadata": {},
   "outputs": [],
   "source": [
    "target_rle_df.loc[target_rle_df[\"session_number\"] <= 0, \"session_type\"] = \"baseline\"\n",
    "target_rle_df[\"session_type\"].fillna(\"stim\", inplace=True)"
   ]
  },
  {
   "cell_type": "code",
   "execution_count": 34,
   "metadata": {},
   "outputs": [
    {
     "name": "stderr",
     "output_type": "stream",
     "text": [
      "/home/markowitzmeister_gmail_com/miniconda3/envs/spont-da/lib/python3.10/site-packages/pandas/core/arraylike.py:405: RuntimeWarning: invalid value encountered in log\n",
      "  result = getattr(ufunc, method)(*inputs, **kwargs)\n"
     ]
    }
   ],
   "source": [
    "target_rle_df[\"log(duration)\"] = np.log(target_rle_df[\"duration\"])"
   ]
  },
  {
   "cell_type": "code",
   "execution_count": 35,
   "metadata": {},
   "outputs": [],
   "source": [
    "dur_mu = target_rle_df.groupby(\n",
    "    [\"mouse_id\", \"area\", \"learner\", \"predicted_syllable\", \"session_type\"]\n",
    ")[\"duration\"].mean()\n",
    "dur_sig = target_rle_df.groupby(\n",
    "    [\"mouse_id\", \"area\", \"learner\", \"predicted_syllable\", \"session_type\"]\n",
    ")[\"duration\"].std()\n",
    "\n",
    "diff_z = (\n",
    "    dur_mu.xs(\"stim\", level=\"session_type\")\n",
    "    - dur_mu.xs(\"baseline\", level=\"session_type\")\n",
    ") / dur_mu.xs(\"baseline\", level=\"session_type\")"
   ]
  },
  {
   "cell_type": "code",
   "execution_count": 36,
   "metadata": {},
   "outputs": [],
   "source": [
    "from scipy.stats import mannwhitneyu, kstest"
   ]
  },
  {
   "cell_type": "code",
   "execution_count": 37,
   "metadata": {},
   "outputs": [],
   "source": [
    "dur_means = target_rle_df.groupby(\n",
    "    [\"learner\", \"session_number\", \"mouse_id\", \"target_syllable\", \"status\"]\n",
    ")[\"duration\"].mean()"
   ]
  },
  {
   "cell_type": "code",
   "execution_count": 38,
   "metadata": {},
   "outputs": [],
   "source": [
    "setup_plotting_env()\n",
    "sns.set_context(\"paper\")"
   ]
  },
  {
   "cell_type": "code",
   "execution_count": 39,
   "metadata": {},
   "outputs": [
    {
     "data": {
      "image/png": "[encoded data removed]",
      "text/plain": [
       "<Figure size 438.5x250 with 1 Axes>"
      ]
     },
     "metadata": {},
     "output_type": "display_data"
    }
   ],
   "source": [
    "g = sns.catplot(\n",
    "    data=(\n",
    "        (\n",
    "            dur_means.xs(\"feedback\", level=\"status\")\n",
    "            - dur_means.xs(\"catch\", level=\"status\")\n",
    "        ).dropna()\n",
    "    )\n",
    "    .groupby([\"learner\", \"target_syllable\", \"mouse_id\", \"session_number\"])\n",
    "    .mean()\n",
    "    .reset_index(),\n",
    "    x=\"session_number\",\n",
    "    hue=\"learner\",\n",
    "    hue_order=[\"yes\", \"ctrl\"],\n",
    "    palette=[geno_palette.snc, geno_palette.ctrl],\n",
    "    y=\"duration\",\n",
    "    kind=\"box\",\n",
    "    height=1.25,\n",
    "    aspect=1.25,\n",
    "    showfliers=False,\n",
    "    showcaps=False,\n",
    ")\n",
    "clean_ticks(g.axes.flat[0], \"y\", precision=1)\n",
    "g.set(ylim=(-0.5, 0.5))\n",
    "g.refline(y=0)\n",
    "g.set_axis_labels(\"\", \"Duration (s, stim-catch)\")\n",
    "savefig(\n",
    "    g.fig,\n",
    "    os.path.join(figure_cfg[\"store_dir\"], \"target_duration_catch-stim\"),\n",
    "    bbox_inches=\"tight\",\n",
    ")"
   ]
  },
  {
   "cell_type": "code",
   "execution_count": 40,
   "metadata": {},
   "outputs": [],
   "source": [
    "scalar_means = target_rle_df.groupby(\n",
    "    [\"learner\", \"session_number\", \"mouse_id\", \"target_syllable\", \"status\"]\n",
    ")[use_scalars + syllable_norm_scalars].mean()"
   ]
  },
  {
   "cell_type": "code",
   "execution_count": 41,
   "metadata": {},
   "outputs": [],
   "source": [
    "scalar_diff = (\n",
    "    scalar_means.xs(\"feedback\", level=\"status\")\n",
    "    - scalar_means.xs(\"catch\", level=\"status\")\n",
    ").dropna()\n",
    "scalar_diff = scalar_diff.melt(ignore_index=False)"
   ]
  },
  {
   "cell_type": "code",
   "execution_count": 42,
   "metadata": {},
   "outputs": [],
   "source": [
    "setup_plotting_env()"
   ]
  },
  {
   "cell_type": "code",
   "execution_count": 43,
   "metadata": {},
   "outputs": [],
   "source": [
    "aliases = {\n",
    "    \"velocity_2d_mm\": \"vel.\",\n",
    "    \"acceleration_2d_mm\": \"acc.\",\n",
    "    \"velocity_angle\": \"vel. ang.\",\n",
    "    \"velocity_height\": \"vel. z\",\n",
    "    \"_syll_z\": \"\",\n",
    "}"
   ]
  },
  {
   "cell_type": "code",
   "execution_count": 44,
   "metadata": {},
   "outputs": [],
   "source": [
    "compare_groups = [\"yes\", \"ctrl\"]\n",
    "compare_variables = syllable_norm_scalars"
   ]
  },
  {
   "cell_type": "code",
   "execution_count": 45,
   "metadata": {},
   "outputs": [],
   "source": [
    "use_data = (\n",
    "    scalar_diff.groupby(\n",
    "        [\"learner\", \"mouse_id\", \"session_number\", \"target_syllable\", \"variable\"]\n",
    "    )\n",
    "    .mean()\n",
    "    .dropna()\n",
    ")"
   ]
  },
  {
   "cell_type": "code",
   "execution_count": 46,
   "metadata": {},
   "outputs": [],
   "source": [
    "from scipy.stats import mannwhitneyu\n",
    "from statsmodels.stats.multitest import multipletests"
   ]
  },
  {
   "cell_type": "code",
   "execution_count": 47,
   "metadata": {},
   "outputs": [],
   "source": [
    "use_test = mannwhitneyu"
   ]
  },
  {
   "cell_type": "code",
   "execution_count": 48,
   "metadata": {},
   "outputs": [],
   "source": [
    "stats = []"
   ]
  },
  {
   "cell_type": "code",
   "execution_count": 49,
   "metadata": {},
   "outputs": [],
   "source": [
    "import itertools"
   ]
  },
  {
   "cell_type": "code",
   "execution_count": 50,
   "metadata": {},
   "outputs": [],
   "source": [
    "for _variable in compare_variables:\n",
    "    for (_group1, _group2) in itertools.combinations(compare_groups, 2):\n",
    "        for _sess in [1, 2]:\n",
    "            dat1 = use_data.xs(\n",
    "                (_group1, _variable, _sess),\n",
    "                level=(\"learner\", \"variable\", \"session_number\"),\n",
    "            )\n",
    "            dat2 = use_data.xs(\n",
    "                (_group2, _variable, _sess),\n",
    "                level=(\"learner\", \"variable\", \"session_number\"),\n",
    "            )\n",
    "            comparison = f\"{_group1}-{_group2}-{_sess}\"\n",
    "            stat, p = use_test(dat1, dat2)\n",
    "            dct = {}\n",
    "            dct[\"type\"] = \"catch-stim withinsyllable\"\n",
    "            dct[\"comparison\"] = comparison\n",
    "            dct[\"variable\"] = _variable\n",
    "            dct[\"stat\"] = stat[0]\n",
    "            dct[\"p\"] = p[0]\n",
    "            dct[\"n1\"] = len(dat1)\n",
    "            dct[\"n2\"] = len(dat2)\n",
    "            dct[\"f\"] = stat[0] / (len(dat1) * len(dat2))\n",
    "            dct[\"n_definition\"] = \"mouse-session-target triplets\"\n",
    "            stats.append(dct)"
   ]
  },
  {
   "cell_type": "code",
   "execution_count": 51,
   "metadata": {},
   "outputs": [
    {
     "data": {
      "image/png": "[encoded data removed]",
      "text/plain": [
       "<Figure size 594.361x250 with 4 Axes>"
      ]
     },
     "metadata": {},
     "output_type": "display_data"
    }
   ],
   "source": [
    "g = sns.catplot(\n",
    "    data=use_data.reset_index(),\n",
    "    x=\"session_number\",\n",
    "    y=\"value\",\n",
    "    col=\"variable\",\n",
    "    col_wrap=4,\n",
    "    col_order=syllable_norm_scalars,\n",
    "    height=1.25,\n",
    "    aspect=0.5,\n",
    "    hue=\"learner\",\n",
    "    hue_order=[\"yes\", \"ctrl\"],\n",
    "    palette=[geno_palette.snc, geno_palette.ctrl],\n",
    "    kind=\"box\",\n",
    "    showfliers=False,\n",
    "    showcaps=False,\n",
    "    sharex=True,\n",
    "    sharey=True,\n",
    ")\n",
    "clean_ticks(g.axes.flat[0], \"y\", precision=0, dtype=int)\n",
    "g.refline(y=0)\n",
    "g.set(ylim=(-1, 1))\n",
    "g.set_titles(row_template=\"{row_name}\", col_template=\"{col_name}\")\n",
    "for _ax in g.axes.flat:\n",
    "    title = _ax.get_title()\n",
    "    for k, v in aliases.items():\n",
    "        title = title.replace(k, v)\n",
    "    _ax.set_title(title)\n",
    "g.set_axis_labels(\"\", \"\")\n",
    "g.fig.supxlabel(\"Session number\", fontsize=7)\n",
    "g.fig.supylabel(\"Value (z, stim-catch)\", fontsize=7)\n",
    "savefig(\n",
    "    g.fig,\n",
    "    os.path.join(figure_cfg[\"store_dir\"], \"target_scalars_catch-stim_withinsyll-norm\"),\n",
    "    bbox_inches=\"tight\",\n",
    ")"
   ]
  },
  {
   "cell_type": "code",
   "execution_count": 52,
   "metadata": {},
   "outputs": [],
   "source": [
    "use_data = (\n",
    "    (\n",
    "        target_rle_df.groupby(\n",
    "            [\"learner\", \"session_number\", \"mouse_id\", \"target_syllable\"]\n",
    "        )[use_scalars + syllable_norm_scalars]\n",
    "        .mean()\n",
    "        .melt(ignore_index=False)\n",
    "    )\n",
    "    .set_index(\"variable\", append=True)\n",
    "    .dropna()\n",
    ")"
   ]
  },
  {
   "cell_type": "code",
   "execution_count": 53,
   "metadata": {},
   "outputs": [],
   "source": [
    "for _variable in compare_variables:\n",
    "    for (_group1, _group2) in itertools.combinations(compare_groups, 2):\n",
    "        for _sess in [1, 2]:\n",
    "            dat1 = use_data.xs(\n",
    "                (_group1, _variable, _sess),\n",
    "                level=(\"learner\", \"variable\", \"session_number\"),\n",
    "            )\n",
    "            dat2 = use_data.xs(\n",
    "                (_group2, _variable, _sess),\n",
    "                level=(\"learner\", \"variable\", \"session_number\"),\n",
    "            )\n",
    "            comparison = f\"{_group1}-{_group2}-{_sess}\"\n",
    "            stat, p = use_test(dat1, dat2)\n",
    "            dct = {}\n",
    "            dct[\"type\"] = \"target scalars all withinsyllable\"\n",
    "            dct[\"variable\"] = _variable\n",
    "            dct[\"comparison\"] = comparison\n",
    "            dct[\"stat\"] = stat[0]\n",
    "            dct[\"p\"] = p[0]\n",
    "            dct[\"n1\"] = len(dat1)\n",
    "            dct[\"n2\"] = len(dat2)\n",
    "            dct[\"f\"] = stat[0] / (len(dat1) * len(dat2))\n",
    "            dct[\"n_definition\"] = \"mouse-session-target triplets\"\n",
    "            stats.append(dct)"
   ]
  },
  {
   "cell_type": "code",
   "execution_count": 54,
   "metadata": {},
   "outputs": [
    {
     "data": {
      "image/png": "[encoded data removed]",
      "text/plain": [
       "<Figure size 844.361x250 with 4 Axes>"
      ]
     },
     "metadata": {},
     "output_type": "display_data"
    }
   ],
   "source": [
    "g = sns.catplot(\n",
    "    data=use_data.reset_index()\n",
    "    .groupby([\"learner\", \"mouse_id\", \"session_number\", \"target_syllable\", \"variable\"])\n",
    "    .mean()\n",
    "    .reset_index(),\n",
    "    x=\"session_number\",\n",
    "    order=[-1, 0, 1, 2],\n",
    "    y=\"value\",\n",
    "    col=\"variable\",\n",
    "    col_order=syllable_norm_scalars,\n",
    "    col_wrap=4,\n",
    "    height=1.25,\n",
    "    aspect=0.75,\n",
    "    hue=\"learner\",\n",
    "    hue_order=[\"yes\", \"ctrl\"],\n",
    "    palette=[geno_palette.snc, geno_palette.ctrl],\n",
    "    kind=\"box\",\n",
    "    showfliers=False,\n",
    "    showcaps=False,\n",
    "    sharex=True,\n",
    "    sharey=True,\n",
    ")\n",
    "g.refline(y=0)\n",
    "g.set(ylim=(-1, 1))\n",
    "g.set_titles(row_template=\"{row_name}\", col_template=\"{col_name}\")\n",
    "for _ax in g.axes.flat:\n",
    "    title = _ax.get_title()\n",
    "    for k, v in aliases.items():\n",
    "        title = title.replace(k, v)\n",
    "    _ax.set_title(title)\n",
    "g.set_axis_labels(\"\", \"\")\n",
    "g.fig.supxlabel(\"Session number\", fontsize=7)\n",
    "g.fig.supylabel(\"Value (z)\", fontsize=7)\n",
    "savefig(\n",
    "    g.fig,\n",
    "    os.path.join(figure_cfg[\"store_dir\"], \"target_scalars_all_withinsyll-norm\"),\n",
    "    bbox_inches=\"tight\",\n",
    ")"
   ]
  },
  {
   "cell_type": "code",
   "execution_count": 55,
   "metadata": {},
   "outputs": [],
   "source": [
    "use_data = (\n",
    "    (\n",
    "        rle_df.groupby([\"learner\", \"mouse_id\", \"target_syllable\", \"session_number\"])[\n",
    "            use_scalars + syllable_norm_scalars\n",
    "        ]\n",
    "        .mean()\n",
    "        .melt(ignore_index=False)\n",
    "    )\n",
    "    .set_index(\"variable\", append=True)\n",
    "    .dropna()\n",
    ")"
   ]
  },
  {
   "cell_type": "code",
   "execution_count": 56,
   "metadata": {},
   "outputs": [],
   "source": [
    "for _variable in compare_variables:\n",
    "    for (_group1, _group2) in itertools.combinations(compare_groups, 2):\n",
    "        for _sess in [1, 2]:\n",
    "            dat1 = use_data.xs(\n",
    "                (_group1, _variable, _sess),\n",
    "                level=(\"learner\", \"variable\", \"session_number\"),\n",
    "            )\n",
    "            dat2 = use_data.xs(\n",
    "                (_group2, _variable, _sess),\n",
    "                level=(\"learner\", \"variable\", \"session_number\"),\n",
    "            )\n",
    "            comparison = f\"{_group1}-{_group2}-{_sess}\"\n",
    "            stat, p = use_test(dat1, dat2)\n",
    "            dct = {}\n",
    "            dct[\"type\"] = \"global scalars\"\n",
    "            dct[\"variable\"] = _variable\n",
    "            dct[\"comparison\"] = comparison\n",
    "            dct[\"stat\"] = stat[0]\n",
    "            dct[\"p\"] = p[0]\n",
    "            dct[\"n1\"] = len(dat1)\n",
    "            dct[\"n2\"] = len(dat2)\n",
    "            dct[\"f\"] = stat[0] / (len(dat1) * len(dat2))\n",
    "            dct[\"n_definition\"] = \"mouse-session-target triplets\"\n",
    "            stats.append(dct)"
   ]
  },
  {
   "cell_type": "code",
   "execution_count": 57,
   "metadata": {},
   "outputs": [
    {
     "data": {
      "image/png": "[encoded data removed]",
      "text/plain": [
       "<Figure size 844.361x250 with 4 Axes>"
      ]
     },
     "metadata": {},
     "output_type": "display_data"
    }
   ],
   "source": [
    "g = sns.catplot(\n",
    "    data=use_data.reset_index()\n",
    "    .groupby([\"learner\", \"mouse_id\", \"session_number\", \"target_syllable\", \"variable\"])\n",
    "    .mean()\n",
    "    .reset_index(),\n",
    "    x=\"session_number\",\n",
    "    order=[-1, 0, 1, 2],\n",
    "    y=\"value\",\n",
    "    col=\"variable\",\n",
    "    col_wrap=4,\n",
    "    col_order=syllable_norm_scalars,\n",
    "    height=1.25,\n",
    "    aspect=0.75,\n",
    "    hue=\"learner\",\n",
    "    hue_order=[\"yes\", \"ctrl\"],\n",
    "    palette=[geno_palette.snc, geno_palette.ctrl],\n",
    "    kind=\"box\",\n",
    "    showfliers=False,\n",
    "    showcaps=False,\n",
    "    sharex=True,\n",
    "    sharey=False,\n",
    ")\n",
    "g.refline(y=0)\n",
    "g.set_titles(row_template=\"{row_name}\", col_template=\"{col_name}\")\n",
    "for _ax in g.axes.flat:\n",
    "    title = _ax.get_title()\n",
    "    for k, v in aliases.items():\n",
    "        title = title.replace(k, v)\n",
    "    _ax.set_title(title)\n",
    "g.set_axis_labels(\"\", \"\")\n",
    "g.fig.supxlabel(\"Session number\", fontsize=7)\n",
    "g.fig.supylabel(\"Value (z)\", fontsize=7)\n",
    "g.fig.subplots_adjust(wspace=0.5)\n",
    "savefig(\n",
    "    g.fig,\n",
    "    os.path.join(figure_cfg[\"store_dir\"], \"global_scalars_average\"),\n",
    "    bbox_inches=\"tight\",\n",
    ")"
   ]
  },
  {
   "cell_type": "code",
   "execution_count": 58,
   "metadata": {},
   "outputs": [],
   "source": [
    "_tmp = (\n",
    "    dur_means.xs(\"feedback\", level=\"status\")\n",
    "    - dur_means.xs(\"catch\", level=\"status\")\n",
    "    .groupby(\n",
    "        [\"learner\", \"target_syllable\", \"mouse_id\", \"session_number\"], observed=True\n",
    "    )\n",
    "    .mean()\n",
    ").dropna()"
   ]
  },
  {
   "cell_type": "code",
   "execution_count": 59,
   "metadata": {},
   "outputs": [],
   "source": [
    "for (_group1, _group2) in itertools.combinations(compare_groups, 2):\n",
    "    for _sess in [1, 2]:\n",
    "        dat1 = _tmp.xs((_group1, _sess), level=(\"learner\", \"session_number\"))\n",
    "        dat2 = _tmp.xs((_group2, _sess), level=(\"learner\", \"session_number\"))\n",
    "        comparison = f\"{_group1}-{_group2}-{_sess}\"\n",
    "        stat, p = use_test(dat1, dat2)\n",
    "        dct = {}\n",
    "        dct[\"type\"] = \"within syllable duration\"\n",
    "        dct[\"variable\"] = \"duration\"\n",
    "        dct[\"comparison\"] = comparison\n",
    "        dct[\"stat\"] = stat\n",
    "        dct[\"p\"] = p\n",
    "        dct[\"n1\"] = len(dat1)\n",
    "        dct[\"n2\"] = len(dat2)\n",
    "        dct[\"f\"] = stat / (len(dat1) * len(dat2))\n",
    "        dct[\"n_definition\"] = \"mouse-session-target triplets\"\n",
    "        stats.append(dct)"
   ]
  },
  {
   "cell_type": "code",
   "execution_count": 60,
   "metadata": {},
   "outputs": [],
   "source": [
    "pval_df = pd.DataFrame(stats)"
   ]
  },
  {
   "cell_type": "code",
   "execution_count": 61,
   "metadata": {},
   "outputs": [],
   "source": [
    "pval_df[\"p\"] = pval_df.groupby(\"type\")[\"p\"].transform(\n",
    "    lambda x: multipletests(x, method=\"holm\")[1]\n",
    ")"
   ]
  },
  {
   "cell_type": "code",
   "execution_count": 62,
   "metadata": {},
   "outputs": [],
   "source": [
    "import json"
   ]
  },
  {
   "cell_type": "code",
   "execution_count": 63,
   "metadata": {},
   "outputs": [],
   "source": [
    "with open(\n",
    "    os.path.join(proc_dirs[\"closed_loop_behavior\"], \"stats_duration_and_scalars.toml\"),\n",
    "    \"w\",\n",
    ") as f:\n",
    "    toml.dump(json.loads(pval_df.to_json()), f)"
   ]
  }
 ],
 "metadata": {
  "kernelspec": {
   "display_name": "Python [conda env:spont-da]",
   "language": "python",
   "name": "conda-env-spont-da-py"
  },
  "language_info": {
   "codemirror_mode": {
    "name": "ipython",
    "version": 3
   },
   "file_extension": ".py",
   "mimetype": "text/x-python",
   "name": "python",
   "nbconvert_exporter": "python",
   "pygments_lexer": "ipython3",
   "version": "3.10.8"
  },
  "toc": {
   "base_numbering": 1,
   "nav_menu": {},
   "number_sections": true,
   "sideBar": true,
   "skip_h1_title": false,
   "title_cell": "Table of Contents",
   "title_sidebar": "Contents",
   "toc_cell": false,
   "toc_position": {
    "height": "calc(100% - 180px)",
    "left": "10px",
    "top": "150px",
    "width": "287px"
   },
   "toc_section_display": true,
   "toc_window_display": true
  }
 },
 "nbformat": 4,
 "nbformat_minor": 4
}
