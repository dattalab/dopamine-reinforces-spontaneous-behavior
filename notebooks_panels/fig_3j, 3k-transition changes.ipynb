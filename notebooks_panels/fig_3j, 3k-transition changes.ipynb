{
 "cells": [
  {
   "cell_type": "code",
   "execution_count": 1,
   "metadata": {
    "scrolled": true
   },
   "outputs": [],
   "source": [
    "%load_ext autoreload\n",
    "%autoreload 2\n",
    "%matplotlib inline"
   ]
  },
  {
   "cell_type": "code",
   "execution_count": 2,
   "metadata": {},
   "outputs": [],
   "source": [
    "from tqdm.auto import tqdm\n",
    "from rl_analysis.plotting import (\n",
    "    setup_plotting_env,\n",
    "    clean_ticks,\n",
    "    syllable_aliases,\n",
    "    savefig\n",
    ")\n",
    "from rl_analysis.util import rle, count_transitions\n",
    "from rl_analysis.io.df import get_closed_loop_parquet_columns\n",
    "import pandas as pd\n",
    "\n",
    "import os\n",
    "import seaborn as sns\n",
    "import numpy as np\n",
    "import matplotlib.pyplot as plt"
   ]
  },
  {
   "cell_type": "code",
   "execution_count": 3,
   "metadata": {},
   "outputs": [],
   "source": [
    "import toml\n",
    "\n",
    "with open(\"../analysis_configuration.toml\", \"r\") as f:\n",
    "    analysis_config = toml.load(f)"
   ]
  },
  {
   "cell_type": "code",
   "execution_count": 4,
   "metadata": {},
   "outputs": [],
   "source": [
    "raw_dirs = analysis_config[\"raw_data\"]\n",
    "proc_dirs = analysis_config[\"intermediate_results\"]\n",
    "figure_cfg = analysis_config[\"figures\"]\n",
    "closed_loop_cfg = analysis_config[\"closed_loop_behavior\"]"
   ]
  },
  {
   "cell_type": "code",
   "execution_count": 5,
   "metadata": {},
   "outputs": [],
   "source": [
    "learners = toml.load(\n",
    "    os.path.join(proc_dirs[\"closed_loop_behavior\"], \"closed_loop_learners.toml\")\n",
    ")[\"snc (axon)\"][\"learners\"]"
   ]
  },
  {
   "cell_type": "markdown",
   "metadata": {},
   "source": [
    "# Load in raw data and normalize"
   ]
  },
  {
   "cell_type": "code",
   "execution_count": 7,
   "metadata": {},
   "outputs": [],
   "source": [
    "fname = os.path.join(raw_dirs[\"closed_loop_behavior\"], \"closed_loop_behavior.parquet\")\n",
    "cols = get_closed_loop_parquet_columns(fname, pcs=False, likes=False) "
   ]
  },
  {
   "cell_type": "code",
   "execution_count": 8,
   "metadata": {},
   "outputs": [],
   "source": [
    "feedback_df = pd.read_parquet(\n",
    "    fname,\n",
    "    filters=[\n",
    "        (\"experiment_type\", \"=\", \"reinforcement\"),\n",
    "        (\"area\", \"in\", [\"snc (axon)\", \"ctrl\"]),\n",
    "    ],\n",
    "    columns=cols,\n",
    ").sort_index()\n",
    "feedback_df = feedback_df.loc[\n",
    "    (feedback_df[\"opsin\"].isin([\"chr2\", \"ctrl\"]))\n",
    "    & (feedback_df[\"stim_duration\"] == 0.25)\n",
    "].copy()"
   ]
  },
  {
   "cell_type": "code",
   "execution_count": 9,
   "metadata": {},
   "outputs": [],
   "source": [
    "feedback_df[\"syllable_number\"] = feedback_df.groupby(\"uniq_id\")[\n",
    "    \"predicted_syllable\"\n",
    "].transform(lambda x: (x.diff() != 0).cumsum())\n",
    "\n",
    "feedback_df[\"is_feedback\"] = (feedback_df[\"feedback_status\"] > 0) & (\n",
    "    feedback_df[\"session_number\"].isin([1, 2])\n",
    ")\n",
    "feedback_df[\"is_catch\"] = (feedback_df[\"feedback_status\"] == 0) & (\n",
    "    feedback_df[\"session_number\"].isin([1, 2])\n",
    ")\n",
    "is_feedback = feedback_df.groupby([\"uniq_id\", \"syllable_number\"])[\"is_feedback\"].any()\n",
    "is_catch = feedback_df.groupby([\"uniq_id\", \"syllable_number\"])[\"is_catch\"].any()"
   ]
  },
  {
   "cell_type": "code",
   "execution_count": 10,
   "metadata": {},
   "outputs": [],
   "source": [
    "rle_df = feedback_df.groupby(\"uniq_id\")[\"predicted_syllable\"].apply(rle)\n",
    "rle_df.index = rle_df.index.droplevel(0)"
   ]
  },
  {
   "cell_type": "code",
   "execution_count": 11,
   "metadata": {},
   "outputs": [],
   "source": [
    "rle_df = feedback_df.loc[rle_df.index]"
   ]
  },
  {
   "cell_type": "code",
   "execution_count": 12,
   "metadata": {},
   "outputs": [],
   "source": [
    "all_duration = rle_df.groupby(\"uniq_id\")[\"timestamp\"].shift(-1) - rle_df[\"timestamp\"]\n",
    "rle_df[\"duration\"] = (\n",
    "    rle_df.groupby(\"uniq_id\")[\"timestamp\"].shift(-1) - rle_df[\"timestamp\"]\n",
    ")"
   ]
  },
  {
   "cell_type": "code",
   "execution_count": 13,
   "metadata": {},
   "outputs": [],
   "source": [
    "rle_df[\"learner\"] = rle_df[\"mouse_id\"].isin(learners)\n",
    "rle_df[\"learner\"] = rle_df[\"learner\"].map({True: \"yes\", False: \"no\"})\n",
    "rle_df.loc[rle_df[\"area\"] == \"ctrl\", \"learner\"] = \"ctrl\""
   ]
  },
  {
   "cell_type": "code",
   "execution_count": 14,
   "metadata": {},
   "outputs": [],
   "source": [
    "rle_df.loc[rle_df[\"mouse_id\"].str.contains(\"dls-ai32jr\"), \"area\"] = \"snc (axon)\""
   ]
  },
  {
   "cell_type": "code",
   "execution_count": 15,
   "metadata": {},
   "outputs": [],
   "source": [
    "rle_df = rle_df.set_index(is_feedback.index.names)"
   ]
  },
  {
   "cell_type": "code",
   "execution_count": 16,
   "metadata": {},
   "outputs": [],
   "source": [
    "rle_df = rle_df.sort_index()\n",
    "is_feedback = is_feedback.sort_index()\n",
    "is_catch = is_catch.sort_index()"
   ]
  },
  {
   "cell_type": "code",
   "execution_count": 17,
   "metadata": {},
   "outputs": [],
   "source": [
    "rle_df = rle_df.reset_index()"
   ]
  },
  {
   "cell_type": "code",
   "execution_count": 18,
   "metadata": {},
   "outputs": [],
   "source": [
    "# 1: count transitions\n",
    "# 2: rank transitions at baseline\n",
    "# 3: show transition change above baseline values..."
   ]
  },
  {
   "cell_type": "code",
   "execution_count": 19,
   "metadata": {},
   "outputs": [],
   "source": [
    "tms = rle_df.groupby(\n",
    "    [\"area\", \"mouse_id\", \"learner\", \"target_syllable\", \"session_number\", \"uuid\"],\n",
    "    observed=True,\n",
    ")[\"predicted_syllable\"].apply(lambda x: count_transitions(x, K=100))"
   ]
  },
  {
   "cell_type": "code",
   "execution_count": 20,
   "metadata": {},
   "outputs": [],
   "source": [
    "tms = tms.loc[tms.index.get_level_values(\"area\").isin([\"ctrl\", \"snc (axon)\"])]"
   ]
  },
  {
   "cell_type": "code",
   "execution_count": 21,
   "metadata": {},
   "outputs": [],
   "source": [
    "def slice_tm(tm, idx, axis=1):\n",
    "    if axis == 1:\n",
    "        return tm[idx].ravel()\n",
    "    else:\n",
    "        return tm[:, idx].ravel()"
   ]
  },
  {
   "cell_type": "code",
   "execution_count": 22,
   "metadata": {},
   "outputs": [],
   "source": [
    "def reorder_vec(vec, order):\n",
    "    return vec[order]"
   ]
  },
  {
   "cell_type": "code",
   "execution_count": 23,
   "metadata": {},
   "outputs": [],
   "source": [
    "usage = rle_df[\"predicted_syllable\"].value_counts(normalize=True)"
   ]
  },
  {
   "cell_type": "code",
   "execution_count": 24,
   "metadata": {},
   "outputs": [],
   "source": [
    "chk_syllables = usage.index[:36]\n",
    "chk_syllables = list(syllable_aliases.keys())"
   ]
  },
  {
   "cell_type": "code",
   "execution_count": 25,
   "metadata": {},
   "outputs": [
    {
     "data": {
      "application/vnd.jupyter.widget-view+json": {
       "model_id": "896021d4d8d1445fb020c498f698f53b",
       "version_major": 2,
       "version_minor": 0
      },
      "text/plain": [
       "  0%|          | 0/6 [00:00<?, ?it/s]"
      ]
     },
     "metadata": {},
     "output_type": "display_data"
    }
   ],
   "source": [
    "trans_lst = []\n",
    "for _target in tqdm(chk_syllables):\n",
    "    out_trans = (\n",
    "        tms.apply(lambda x: slice_tm(x, _target, axis=1)).rename(\"p\").reset_index()\n",
    "    )\n",
    "    out_trans[\"type\"] = \"out\"\n",
    "    in_trans = (\n",
    "        tms.apply(lambda x: slice_tm(x, _target, axis=0)).rename(\"p\").reset_index()\n",
    "    )\n",
    "    in_trans[\"type\"] = \"in\"\n",
    "\n",
    "    # the following line reorders HERE\n",
    "    all_trans = pd.concat([out_trans, in_trans])\n",
    "    all_trans[\"syllable\"] = _target\n",
    "    all_trans[\"is_target\"] = all_trans[\"syllable\"] == all_trans[\"target_syllable\"]\n",
    "    trans_lst.append(all_trans)"
   ]
  },
  {
   "cell_type": "code",
   "execution_count": 26,
   "metadata": {},
   "outputs": [],
   "source": [
    "trans_df = pd.concat(trans_lst).reset_index()\n",
    "trans_df = trans_df.loc[trans_df[\"is_target\"]].copy().drop(\"syllable\", axis=1)\n",
    "exclude_target_vec = np.ones((100,))\n",
    "# exclude_target_vec[list(syllable_aliases.keys())] = 0\n",
    "baseline_sorting = (\n",
    "    trans_df.loc[trans_df[\"session_number\"].isin([-1, 0])]\n",
    "    .groupby([\"mouse_id\", \"target_syllable\", \"type\"])[\"p\"]\n",
    "    .sum()\n",
    "    .apply(lambda x: np.argsort(x * exclude_target_vec)[::-1])\n",
    "    .rename(\"order\")\n",
    ")\n",
    "trans_df = (\n",
    "    trans_df.set_index(baseline_sorting.index.names)\n",
    "    .join(baseline_sorting)\n",
    "    .reset_index()\n",
    ")\n",
    "trans_df[\"p\"] = trans_df.apply(lambda x: x[\"p\"][x[\"order\"]], axis=1)"
   ]
  },
  {
   "cell_type": "code",
   "execution_count": 27,
   "metadata": {},
   "outputs": [],
   "source": [
    "trans_df[\"session_type\"] = \"n/a\"\n",
    "trans_df.loc[trans_df[\"session_number\"].isin([-1, 0]), \"session_type\"] = \"baseline\"\n",
    "trans_df.loc[trans_df[\"session_number\"].isin([1, 2]), \"session_type\"] = \"stim\"\n",
    "trans_df.loc[trans_df[\"session_number\"].isin([3, 4]), \"session_type\"] = \"post-stim\""
   ]
  },
  {
   "cell_type": "code",
   "execution_count": 28,
   "metadata": {},
   "outputs": [],
   "source": [
    "try:\n",
    "    trans_df_split = trans_df[\"p\"].apply(pd.Series)\n",
    "except KeyError:\n",
    "    pass\n",
    "\n",
    "index_df = trans_df.drop([\"p\", \"order\"], axis=1)\n",
    "new_index_keys = [\n",
    "    _ for _ in index_df.columns.tolist() if (\"p_\" not in _) and (\"order\" not in _)\n",
    "]\n",
    "trans_df = index_df.join(trans_df_split)"
   ]
  },
  {
   "cell_type": "code",
   "execution_count": 29,
   "metadata": {},
   "outputs": [],
   "source": [
    "trans_df = trans_df.set_index(new_index_keys)"
   ]
  },
  {
   "cell_type": "code",
   "execution_count": 30,
   "metadata": {},
   "outputs": [],
   "source": [
    "trans_df = trans_df.melt(ignore_index=False, var_name=\"transition_rank\")"
   ]
  },
  {
   "cell_type": "code",
   "execution_count": 31,
   "metadata": {},
   "outputs": [],
   "source": [
    "use_df = trans_df.groupby(\n",
    "    [\n",
    "        \"area\",\n",
    "        \"mouse_id\",\n",
    "        \"learner\",\n",
    "        \"type\",\n",
    "        \"session_number\",\n",
    "        \"session_type\",\n",
    "        \"is_target\",\n",
    "        \"target_syllable\",\n",
    "        \"transition_rank\",\n",
    "    ]\n",
    ")[\"value\"].sum()"
   ]
  },
  {
   "cell_type": "code",
   "execution_count": 32,
   "metadata": {},
   "outputs": [],
   "source": [
    "from sklearn.utils import resample"
   ]
  },
  {
   "cell_type": "code",
   "execution_count": 33,
   "metadata": {},
   "outputs": [],
   "source": [
    "setup_plotting_env()"
   ]
  },
  {
   "cell_type": "code",
   "execution_count": 35,
   "metadata": {},
   "outputs": [],
   "source": [
    "syllable_stats = toml.load(\n",
    "    os.path.join(proc_dirs[\"closed_loop_behavior\"], \"syllable_stats_online.toml\")\n",
    ")\n",
    "\n",
    "post_mean = (\n",
    "    trans_df.loc[trans_df[\"transition_rank\"] <= syllable_stats[\"truncate\"]]\n",
    "    .groupby([\"type\", \"mouse_id\", \"learner\", \"session_type\", \"transition_rank\"])\n",
    "    .mean()\n",
    ")\n",
    "post_mean_norm = post_mean.groupby(\"mouse_id\").transform(lambda x: x / x.sum())"
   ]
  },
  {
   "cell_type": "code",
   "execution_count": 36,
   "metadata": {},
   "outputs": [],
   "source": [
    "use_stat = \"fold\""
   ]
  },
  {
   "cell_type": "code",
   "execution_count": 37,
   "metadata": {},
   "outputs": [
    {
     "data": {
      "application/vnd.jupyter.widget-view+json": {
       "model_id": "5cf5a357f2914c81b05fc91edf4b96e2",
       "version_major": 2,
       "version_minor": 0
      },
      "text/plain": [
       "  0%|          | 0/1000 [00:00<?, ?it/s]"
      ]
     },
     "metadata": {},
     "output_type": "display_data"
    },
    {
     "data": {
      "application/vnd.jupyter.widget-view+json": {
       "model_id": "83234bab57ce4179b612fba40b429f91",
       "version_major": 2,
       "version_minor": 0
      },
      "text/plain": [
       "  0%|          | 0/1000 [00:00<?, ?it/s]"
      ]
     },
     "metadata": {},
     "output_type": "display_data"
    },
    {
     "data": {
      "application/vnd.jupyter.widget-view+json": {
       "model_id": "cdf691e80c7447cc874c3d867e518e35",
       "version_major": 2,
       "version_minor": 0
      },
      "text/plain": [
       "  0%|          | 0/1000 [00:00<?, ?it/s]"
      ]
     },
     "metadata": {},
     "output_type": "display_data"
    },
    {
     "data": {
      "application/vnd.jupyter.widget-view+json": {
       "model_id": "75600aa6c8ed4fa8b2decedd3fd548ed",
       "version_major": 2,
       "version_minor": 0
      },
      "text/plain": [
       "  0%|          | 0/1000 [00:00<?, ?it/s]"
      ]
     },
     "metadata": {},
     "output_type": "display_data"
    },
    {
     "data": {
      "image/png": "[encoded data removed]",
      "text/plain": [
       "<Figure size 280x760 with 2 Axes>"
      ]
     },
     "metadata": {},
     "output_type": "display_data"
    }
   ],
   "source": [
    "eps = 1.\n",
    "nboots = 1000\n",
    "\n",
    "fig, ax = plt.subplots(2, 1, figsize=(1.4, 3.8), sharex=True, sharey=True)\n",
    "colors = [sns.color_palette()[0], sns.color_palette()[2]]\n",
    "for _learner, _ax in zip([\"yes\", \"no\"], ax):\n",
    "    handles = []\n",
    "    zorder = 0\n",
    "    for _diff, _color in zip([\"in\", \"out\"], colors):\n",
    "        use_colors = sns.dark_palette(_color)\n",
    "        fc, lc = use_colors[-1], use_colors[-3]\n",
    "        diffs = []\n",
    "        for _boot in tqdm(range(nboots)):\n",
    "            _tmp1 = (\n",
    "                post_mean.xs(\n",
    "                    (_diff, _learner, \"post-stim\"),\n",
    "                    level=(\"type\", \"learner\", \"session_type\"),\n",
    "                )\n",
    "                + eps\n",
    "            )\n",
    "            _tmp1 = _tmp1.groupby(\"mouse_id\").rolling(5, 1, True).mean()\n",
    "            _tmp2 = (\n",
    "                post_mean.xs(\n",
    "                    (_diff, \"ctrl\", \"post-stim\"),\n",
    "                    level=(\"type\", \"learner\", \"session_type\"),\n",
    "                )\n",
    "                + eps\n",
    "            )\n",
    "            _tmp2 = _tmp2.groupby(\"mouse_id\").rolling(5, 1, True).mean()\n",
    "            _tmp2 = _tmp2.groupby(\"transition_rank\").mean()\n",
    "\n",
    "            if use_stat == \"fold\":\n",
    "                _tmp_diff = np.log2(\n",
    "                    resample(_tmp1).groupby(\"transition_rank\").mean() / _tmp2\n",
    "                )\n",
    "            elif use_stat == \"diff\":\n",
    "                _tmp_diff = resample(_tmp1).groupby(\"transition_rank\").mean() - _tmp2\n",
    "            diffs.append(_tmp_diff.rolling(1, 1, True).mean().values.ravel())\n",
    "            # diffs.append(pd.Series(_tmp_diff).rolling(3, 1, True).mean())\n",
    "        mu_diff = np.nanmean(np.array(diffs), axis=0)\n",
    "        ci = np.nanstd(np.array(diffs), axis=0)\n",
    "\n",
    "        _df = pd.DataFrame(mu_diff)\n",
    "        _df[\"ci\"] = ci\n",
    "        _df[\"rank\"] = np.arange(len(mu_diff))\n",
    "        _df[\"rank_bin\"] = pd.cut(_df[\"rank\"], np.arange(0, len(mu_diff) + 1, 2))\n",
    "\n",
    "        binned_df = _df.groupby(\"rank_bin\").mean()\n",
    "\n",
    "        _ax.fill_between(\n",
    "            np.arange(len(mu_diff)),\n",
    "            mu_diff - ci,\n",
    "            mu_diff + ci,\n",
    "            fc=fc,\n",
    "            ec=\"k\",\n",
    "            alpha=1,\n",
    "            zorder=zorder,\n",
    "        )\n",
    "        zorder += 1\n",
    "        (_h,) = _ax.plot(np.arange(len(mu_diff)), mu_diff, color=lc, zorder=zorder)\n",
    "        zorder += 1\n",
    "        handles.append(_h)\n",
    "        _ax.set_title(f\"Learner: {_learner}\")\n",
    "    _ax.axhline(y=0, zorder=500, color=plt.rcParams[\"axes.edgecolor\"])\n",
    "    _ax.set_xlim(0, 40)\n",
    "    clean_ticks(_ax, \"y\", precision=1)\n",
    "    clean_ticks(_ax, \"x\", precision=0, dtype=int, zero_symmetry=False)\n",
    "\n",
    "\n",
    "# plt.xlim(0, 25)\n",
    "plt.legend(handles, [\"in\", \"out\"])\n",
    "fig.supxlabel(\"Transition number\\n(ranked)\")\n",
    "\n",
    "if use_stat == \"fold\":\n",
    "    fig.supylabel(\"Change in counts log2(stim/control)\", fontsize=7)\n",
    "elif use_stat == \"diff\":\n",
    "    ax[0].supylabel(\"Change in counts (stim - control)\", fontsize=7)\n",
    "\n",
    "# ax[0].set_ylim(-.1, .1)\n",
    "# clean_ticks(ax, \"y\", precision=0, dtype=float, zero_symmetry=False)\n",
    "# clean_ticks(ax, \"x\", precision=0, dtype=int)\n",
    "sns.despine(offset=5)\n",
    "fig.tight_layout()\n",
    "savefig(\n",
    "    fig,\n",
    "    os.path.join(figure_cfg[\"store_dir\"], f\"transition_changes_post_stim_{use_stat}\"),\n",
    "    bbox_inches=\"tight\",\n",
    ")\n",
    "# plt.plot(post_mean.loc[(\"out\", \"yes\", \"baseline\")].mean() - post_mean.loc[(\"out\", \"ctrl\", \"baseline\")].mean())"
   ]
  },
  {
   "cell_type": "markdown",
   "metadata": {},
   "source": [
    "# Graph out examples"
   ]
  },
  {
   "cell_type": "code",
   "execution_count": 38,
   "metadata": {},
   "outputs": [],
   "source": [
    "use_df = trans_df.groupby(\n",
    "    [\n",
    "        \"area\",\n",
    "        \"mouse_id\",\n",
    "        \"learner\",\n",
    "        \"type\",\n",
    "        \"session_type\",\n",
    "        \"is_target\",\n",
    "        \"target_syllable\",\n",
    "        \"transition_rank\",\n",
    "    ]\n",
    ")[\"value\"].sum()"
   ]
  },
  {
   "cell_type": "code",
   "execution_count": 39,
   "metadata": {},
   "outputs": [],
   "source": [
    "transition_cutoff = 36\n",
    "norm_df = (\n",
    "    use_df.loc[use_df.index.get_level_values(\"transition_rank\") < transition_cutoff]\n",
    "    / use_df.loc[use_df.index.get_level_values(\"transition_rank\") < transition_cutoff]\n",
    "    .groupby(use_df.index.names[:-1])\n",
    "    .sum()\n",
    ")"
   ]
  },
  {
   "cell_type": "code",
   "execution_count": 40,
   "metadata": {},
   "outputs": [],
   "source": [
    "# turn into graphs..."
   ]
  },
  {
   "cell_type": "code",
   "execution_count": 41,
   "metadata": {},
   "outputs": [],
   "source": [
    "max_plt_transition = 10"
   ]
  },
  {
   "cell_type": "code",
   "execution_count": 42,
   "metadata": {},
   "outputs": [],
   "source": [
    "use_norm_df = norm_df.xs(True, level=\"is_target\")\n",
    "use_norm_df = (\n",
    "    use_norm_df.loc[\n",
    "        use_norm_df.index.get_level_values(\"transition_rank\") < max_plt_transition\n",
    "    ]\n",
    "    .groupby(use_norm_df.index.names.difference([\"area\", \"learner\"]))\n",
    "    .mean()\n",
    ")"
   ]
  },
  {
   "cell_type": "code",
   "execution_count": 43,
   "metadata": {},
   "outputs": [],
   "source": [
    "import networkx as nx\n",
    "from collections import defaultdict"
   ]
  },
  {
   "cell_type": "code",
   "execution_count": 44,
   "metadata": {},
   "outputs": [],
   "source": [
    "learners = [\n",
    "    _ for _ in learners if _ in use_norm_df.index.get_level_values(\"mouse_id\").unique()\n",
    "]"
   ]
  },
  {
   "cell_type": "code",
   "execution_count": 45,
   "metadata": {},
   "outputs": [],
   "source": [
    "ebunch = defaultdict(dict)\n",
    "g = defaultdict(dict)\n",
    "\n",
    "chk_fieldnames = learners\n",
    "chk_field = \"mouse_id\"\n",
    "\n",
    "for _fieldname in chk_fieldnames:\n",
    "    for _target in syllable_aliases.keys():\n",
    "\n",
    "        base_key = (_fieldname, _target)\n",
    "\n",
    "        for _session_type in [\"baseline\", \"post-stim\"]:\n",
    "\n",
    "            _in_key = (_fieldname, _target, _session_type, \"in\")\n",
    "            _out_key = (_fieldname, _target, _session_type, \"out\")\n",
    "            _level = (chk_field, \"target_syllable\", \"session_type\", \"type\")\n",
    "\n",
    "            in_trans = use_norm_df.xs(_in_key, level=_level)\n",
    "            out_trans = use_norm_df.xs(_out_key, level=_level)\n",
    "\n",
    "            graph_key = (_fieldname, _target, _session_type)\n",
    "\n",
    "            ebunch[base_key][_session_type] = [\n",
    "                (int(k) + 1, 0, v) for k, v in in_trans.items()\n",
    "            ]\n",
    "            ebunch[base_key][_session_type] += [\n",
    "                (0, int(k) + 201, v) for k, v in out_trans.items()\n",
    "            ]\n",
    "\n",
    "            g[base_key][_session_type] = nx.DiGraph()\n",
    "            g[base_key][_session_type].add_weighted_edges_from(\n",
    "                ebunch[base_key][_session_type]\n",
    "            )"
   ]
  },
  {
   "cell_type": "code",
   "execution_count": 47,
   "metadata": {},
   "outputs": [],
   "source": [
    "key = (\"240\", 59)\n",
    "grp = g[key]"
   ]
  },
  {
   "cell_type": "code",
   "execution_count": 48,
   "metadata": {
    "tags": []
   },
   "outputs": [
    {
     "name": "stderr",
     "output_type": "stream",
     "text": [
      "/tmp/ipykernel_1381703/2977420877.py:27: UserWarning: \n",
      "\n",
      "The arrowsize keyword argument is not applicable when drawing edges\n",
      "with LineCollection.\n",
      "\n",
      "To make this warning go away, either specify `arrows=True` to\n",
      "force FancyArrowPatches or use the default value for arrowsize.\n",
      "Note that using FancyArrowPatches may be slow for large graphs.\n",
      "\n",
      "  nx.draw_networkx_edges(\n"
     ]
    },
    {
     "data": {
      "image/png": "[encoded data removed]",
      "text/plain": [
       "<Figure size 160x400 with 2 Axes>"
      ]
     },
     "metadata": {},
     "output_type": "display_data"
    }
   ],
   "source": [
    "node_size = 15\n",
    "weight_transform = lambda x: (x**2) * 25\n",
    "\n",
    "fig, ax = plt.subplots(len(grp), 1, figsize=(0.8, 1 * len(grp)))\n",
    "\n",
    "for _ax, (_session_type, use_g) in zip(ax, grp.items()):\n",
    "    weights = np.array([use_g[u][v][\"weight\"] for (u, v) in use_g.edges()])\n",
    "    in_nodes = [_ for _ in use_g.nodes() if (_ < 200) and (_ > 0)]\n",
    "    out_nodes = [_ for _ in use_g.nodes() if _ >= 200]\n",
    "\n",
    "    start_y = 0\n",
    "    dist = 5\n",
    "\n",
    "    in_coords = {\n",
    "        node: (-5, start_y - (i * dist)) for i, node in enumerate(in_nodes)\n",
    "    }\n",
    "    out_coords = {\n",
    "        node: (+5, start_y - (i * dist)) for i, node in enumerate(out_nodes)\n",
    "    }\n",
    "    new_pos = {**in_coords, **out_coords}\n",
    "\n",
    "    all_coords = np.array(\n",
    "        [_ for _ in list(in_coords.values()) + list(out_coords.values())]\n",
    "    )\n",
    "    new_pos[0] = (0, all_coords.min(axis=0)[1] / 2)\n",
    "\n",
    "    nx.draw_networkx_edges(\n",
    "        use_g,\n",
    "        new_pos,\n",
    "        width=weight_transform(weights),\n",
    "        ax=_ax,\n",
    "        arrows=False,\n",
    "        arrowsize=1,\n",
    "    )\n",
    "    nx.draw_networkx_nodes(use_g, new_pos, node_size=node_size, ax=_ax)\n",
    "\n",
    "    _ax.set_ylabel(_session_type)\n",
    "\n",
    "# make a legend\n",
    "ylimits = _ax.get_ylim()\n",
    "xlimits = _ax.get_xlim()\n",
    "\n",
    "# show levels\n",
    "levels = [0.025, 0.05, 0.1]\n",
    "\n",
    "xedge = xlimits[1] * 1.5\n",
    "xlen = (xlimits[1] - xedge) * 0.5\n",
    "\n",
    "yrange = ylimits[1] - ylimits[0]\n",
    "ypos = ylimits[0] + (yrange) * 0.05\n",
    "yinc = yrange * 0.06\n",
    "\n",
    "for _level in levels:\n",
    "    _ax.plot(\n",
    "        [xedge, xedge + xlen],\n",
    "        [ypos, ypos],\n",
    "        lw=weight_transform(_level),\n",
    "        clip_on=False,\n",
    "        color=\"k\",\n",
    "    )\n",
    "    ypos += yinc\n",
    "_ax.set_xlim(xlimits)\n",
    "_ax.set_ylim(ylimits)\n",
    "fig.suptitle(key, fontsize=7)\n",
    "plt.show()\n",
    "savefig(\n",
    "    fig,\n",
    "    os.path.join(\n",
    "        os.path.join(figure_cfg[\"store_dir\"], \"transition_examples\"),\n",
    "        f\"learning_graph_inout_change_{key}\",\n",
    "    ),\n",
    "    bbox_inches=\"tight\",\n",
    ")"
   ]
  },
  {
   "cell_type": "code",
   "execution_count": null,
   "metadata": {},
   "outputs": [],
   "source": []
  },
  {
   "cell_type": "code",
   "execution_count": null,
   "metadata": {},
   "outputs": [],
   "source": []
  },
  {
   "cell_type": "code",
   "execution_count": null,
   "metadata": {},
   "outputs": [],
   "source": []
  }
 ],
 "metadata": {
  "kernelspec": {
   "display_name": "Python [conda env:spont-da]",
   "language": "python",
   "name": "conda-env-spont-da-py"
  },
  "language_info": {
   "codemirror_mode": {
    "name": "ipython",
    "version": 3
   },
   "file_extension": ".py",
   "mimetype": "text/x-python",
   "name": "python",
   "nbconvert_exporter": "python",
   "pygments_lexer": "ipython3",
   "version": "3.10.8"
  },
  "toc": {
   "base_numbering": 1,
   "nav_menu": {},
   "number_sections": true,
   "sideBar": true,
   "skip_h1_title": false,
   "title_cell": "Table of Contents",
   "title_sidebar": "Contents",
   "toc_cell": false,
   "toc_position": {
    "height": "calc(100% - 180px)",
    "left": "10px",
    "top": "150px",
    "width": "287px"
   },
   "toc_section_display": true,
   "toc_window_display": true
  }
 },
 "nbformat": 4,
 "nbformat_minor": 4
}
