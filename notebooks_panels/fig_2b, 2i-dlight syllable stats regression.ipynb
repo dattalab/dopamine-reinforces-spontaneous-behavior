{
 "cells": [
  {
   "cell_type": "code",
   "execution_count": 1,
   "metadata": {},
   "outputs": [],
   "source": [
    "%load_ext autoreload\n",
    "%autoreload 2\n",
    "%matplotlib inline"
   ]
  },
  {
   "cell_type": "code",
   "execution_count": 2,
   "metadata": {},
   "outputs": [],
   "source": [
    "from tqdm.auto import tqdm\n",
    "from rl_analysis.plotting import (\n",
    "    setup_plotting_env,\n",
    "    clean_ticks,\n",
    "    clean_plot_labels,\n",
    "    format_pval,\n",
    "    savefig\n",
    ")\n",
    "from rl_analysis.regression import model_fit\n",
    "from rl_analysis.io.df import dlight_exclude\n",
    "from rl_analysis.util import count_transitions, pd_zscore\n",
    "from sklearn import model_selection, linear_model\n",
    "from joblib import Parallel, delayed\n",
    "from copy import deepcopy\n",
    "\n",
    "import pandas as pd\n",
    "import matplotlib.pyplot as plt\n",
    "import numpy as np\n",
    "import os\n",
    "import seaborn as sns"
   ]
  },
  {
   "cell_type": "markdown",
   "metadata": {
    "tags": []
   },
   "source": [
    "# Helper functions"
   ]
  },
  {
   "cell_type": "code",
   "execution_count": 3,
   "metadata": {},
   "outputs": [],
   "source": [
    "def split_array(x, mapping=None, index_name=\"syllable\"):\n",
    "    index = pd.Series(np.arange(len(x)))\n",
    "    rows = pd.Series(data=x.tolist(), index=index.map(mapping))\n",
    "    rows.index.name = index_name\n",
    "    return rows"
   ]
  },
  {
   "cell_type": "code",
   "execution_count": 4,
   "metadata": {},
   "outputs": [],
   "source": [
    "import toml\n",
    "\n",
    "with open(\"../analysis_configuration.toml\", \"r\") as f:\n",
    "    analysis_config = toml.load(f)"
   ]
  },
  {
   "cell_type": "code",
   "execution_count": 5,
   "metadata": {},
   "outputs": [],
   "source": [
    "raw_dirs = analysis_config[\"raw_data\"]\n",
    "proc_dirs = analysis_config[\"intermediate_results\"]\n",
    "dlight_cfg = analysis_config[\"dlight_common\"]\n",
    "regression_cfg = analysis_config[\"dlight_regression\"]\n",
    "lagged_cfg = analysis_config[\"dlight_lagged_correlations\"]\n",
    "figure_cfg = analysis_config[\"figures\"]"
   ]
  },
  {
   "cell_type": "code",
   "execution_count": 6,
   "metadata": {},
   "outputs": [],
   "source": [
    "file_suffix = \"offline\" if lagged_cfg[\"use_offline\"] else \"online\"\n",
    "load_file = os.path.join(raw_dirs[\"dlight\"], f\"dlight_snippets_{file_suffix}.parquet\")"
   ]
  },
  {
   "cell_type": "code",
   "execution_count": 7,
   "metadata": {},
   "outputs": [],
   "source": [
    "file, ext = os.path.splitext(load_file)\n",
    "features_save_file = f\"{file}_features{ext}\"\n",
    "\n",
    "if lagged_cfg[\"use_renormalized\"]:\n",
    "    file, ext = os.path.splitext(features_save_file)\n",
    "    features_save_file = f\"{file}_renormalize{ext}\"\n",
    "\n",
    "rle_save_file = features_save_file.replace(\"snippet\", \"usage\")"
   ]
  },
  {
   "cell_type": "code",
   "execution_count": 8,
   "metadata": {},
   "outputs": [],
   "source": [
    "use_neural_features = lagged_cfg[\"use_neural_features\"]\n",
    "use_windows = lagged_cfg[\"use_windows\"]"
   ]
  },
  {
   "cell_type": "code",
   "execution_count": 9,
   "metadata": {},
   "outputs": [],
   "source": [
    "use_features = []\n",
    "for _use_win in use_windows:\n",
    "    use_features += [f\"{_}_{_use_win}\" for _ in use_neural_features]\n",
    "scalar_keys = lagged_cfg[\"usage_and_scalars\"][\"scalars\"]"
   ]
  },
  {
   "cell_type": "markdown",
   "metadata": {
    "tags": []
   },
   "source": [
    "# Loading in features for correlation"
   ]
  },
  {
   "cell_type": "code",
   "execution_count": 10,
   "metadata": {},
   "outputs": [],
   "source": [
    "partition_cols = [\"area\", \"mouse_id\", \"uuid\"]\n",
    "\n",
    "feature_df = pd.read_parquet(features_save_file)\n",
    "rle_df = pd.read_parquet(rle_save_file)\n",
    "\n",
    "feature_df[partition_cols] = feature_df[partition_cols].astype(\"str\")\n",
    "rle_df[partition_cols] = rle_df[partition_cols].astype(\"str\")"
   ]
  },
  {
   "cell_type": "code",
   "execution_count": 12,
   "metadata": {},
   "outputs": [],
   "source": [
    "use_area = \"dls\"\n",
    "\n",
    "dlight_df = pd.read_parquet(\n",
    "    os.path.join(raw_dirs[\"dlight\"], \"dlight_photometry_processed_full.parquet\"),\n",
    "    filters=[(\"area\", \"=\", use_area)],\n",
    ")\n",
    "dlight_df = dlight_df.drop_duplicates(\"uuid\")"
   ]
  },
  {
   "cell_type": "code",
   "execution_count": 13,
   "metadata": {},
   "outputs": [],
   "source": [
    "feature_df = feature_df.loc[feature_df[\"area\"] == use_area].copy()\n",
    "feature_df = feature_df.loc[feature_df[\"duration\"] > 0.3].copy()\n",
    "\n",
    "feature_df = dlight_exclude(\n",
    "    feature_df, exclude_3s=False, syllable_key=\"syllable\", **dlight_cfg\n",
    ")\n",
    "rle_df = rle_df.loc[rle_df[\"uuid\"].isin(feature_df[\"uuid\"])].copy()"
   ]
  },
  {
   "cell_type": "code",
   "execution_count": 14,
   "metadata": {},
   "outputs": [],
   "source": [
    "try:\n",
    "    feature_df = feature_df.set_index(\"window_tup\", append=True)\n",
    "except KeyError:\n",
    "    pass"
   ]
  },
  {
   "cell_type": "code",
   "execution_count": 15,
   "metadata": {},
   "outputs": [],
   "source": [
    "wins = feature_df.index.get_level_values(-1).unique()"
   ]
  },
  {
   "cell_type": "code",
   "execution_count": 16,
   "metadata": {},
   "outputs": [],
   "source": [
    "idx = pd.IndexSlice"
   ]
  },
  {
   "cell_type": "code",
   "execution_count": 17,
   "metadata": {},
   "outputs": [],
   "source": [
    "use_scalars = [\n",
    "    \"velocity_2d_mm_mean\",\n",
    "    \"acceleration_2d_mm_mean\",\n",
    "    \"velocity_angle_mean\",\n",
    "    \"velocity_height_mean\",\n",
    "    \"jerk_2d_mm_mean\",\n",
    "]"
   ]
  },
  {
   "cell_type": "code",
   "execution_count": 18,
   "metadata": {},
   "outputs": [
    {
     "data": {
      "application/vnd.jupyter.widget-view+json": {
       "model_id": "697f7693cc764d0e935b392c8a12d39e",
       "version_major": 2,
       "version_minor": 0
      },
      "text/plain": [
       "  0%|          | 0/8 [00:00<?, ?it/s]"
      ]
     },
     "metadata": {},
     "output_type": "display_data"
    }
   ],
   "source": [
    "dfs = []\n",
    "for _idx in tqdm(wins):\n",
    "    use_vals = feature_df.loc[\n",
    "        idx[:, _idx],\n",
    "        use_neural_features + [\"signal_reref_dff_z_idxmax\"] + use_scalars,\n",
    "    ]\n",
    "    use_vals.columns = [f\"{_}_{_idx}\" for _ in use_vals.columns]\n",
    "    use_vals.index = use_vals.index.droplevel(-1)\n",
    "    dfs.append(use_vals)\n",
    "\n",
    "meta_cols = feature_df.columns.difference(feature_df.filter(regex=\"dff\").columns)\n",
    "\n",
    "meta_df = feature_df[meta_cols].loc[idx[:, _idx], :]\n",
    "meta_df.index = meta_df.index.droplevel(-1)"
   ]
  },
  {
   "cell_type": "code",
   "execution_count": 19,
   "metadata": {},
   "outputs": [],
   "source": [
    "feature_df = pd.concat(dfs, axis=1).join(meta_df)"
   ]
  },
  {
   "cell_type": "markdown",
   "metadata": {},
   "source": [
    "## Merge in entropy, usage and duration"
   ]
  },
  {
   "cell_type": "code",
   "execution_count": 20,
   "metadata": {},
   "outputs": [],
   "source": [
    "feature_df = pd.merge(\n",
    "    feature_df,\n",
    "    dlight_df[dlight_df.columns.difference(feature_df.columns).tolist() + [\"uuid\"]],\n",
    "    on=\"uuid\",\n",
    "    how=\"left\",\n",
    ")"
   ]
  },
  {
   "cell_type": "code",
   "execution_count": 21,
   "metadata": {},
   "outputs": [],
   "source": [
    "syllable_stats = toml.load(\n",
    "    os.path.join(proc_dirs[\"dlight\"], \"syllable_stats_photometry_offline.toml\")\n",
    ")\n",
    "\n",
    "mapping = {int(k): int(v) for k, v in syllable_stats[\"syllable_to_sorted_idx\"].items()}\n",
    "reverse_mapping = {\n",
    "    int(k): int(v) for k, v in syllable_stats[\"sorted_idx_to_syllable\"].items()\n",
    "}"
   ]
  },
  {
   "cell_type": "code",
   "execution_count": 22,
   "metadata": {},
   "outputs": [],
   "source": [
    "rle_df = rle_df.loc[rle_df[\"syllable\"] >= 0].copy()\n",
    "rle_df[\"syllable_sorted\"] = rle_df[\"syllable\"].map(mapping)\n",
    "tm_df = rle_df.groupby(\"uuid\")[\"syllable_sorted\"].apply(\n",
    "    lambda x: count_transitions(x, K=len(mapping))\n",
    ")\n",
    "\n",
    "tm_df_rows = tm_df.apply(lambda x: split_array(x, mapping=reverse_mapping)).stack()\n",
    "tm_df_rows = tm_df_rows.apply(lambda x: np.array(x))\n",
    "\n",
    "tm_df_rows = tm_df_rows.rename(\"tm_row\")"
   ]
  },
  {
   "cell_type": "code",
   "execution_count": 23,
   "metadata": {},
   "outputs": [],
   "source": [
    "feature_df = pd.merge(feature_df, tm_df_rows, how=\"left\", on=[\"uuid\", \"syllable\"])"
   ]
  },
  {
   "cell_type": "code",
   "execution_count": 24,
   "metadata": {},
   "outputs": [],
   "source": [
    "all_channel_features = use_features\n",
    "all_scalars = feature_df.filter(regex=\"^(vel|acc|jerk)\").columns.tolist()\n",
    "feature_df[all_scalars] = feature_df.groupby(\"uuid\")[all_scalars].transform(\n",
    "    lambda x: (x - x.mean()) / x.std()\n",
    ")"
   ]
  },
  {
   "cell_type": "code",
   "execution_count": 25,
   "metadata": {},
   "outputs": [
    {
     "name": "stderr",
     "output_type": "stream",
     "text": [
      "/tmp/ipykernel_1342178/793529411.py:1: FutureWarning: Not prepending group keys to the result index of transform-like apply. In the future, the group keys will be included in the index, regardless of whether the applied function returns a like-indexed object.\n",
      "To preserve the previous behavior, use\n",
      "\n",
      "\t>>> .groupby(..., group_keys=False)\n",
      "\n",
      "To adopt the future behavior and silence this warning, use \n",
      "\n",
      "\t>>> .groupby(..., group_keys=True)\n",
      "  durations = rle_df.groupby([\"uuid\", \"session_number\", \"mouse_id\"])[\"timestamp\"].apply(\n"
     ]
    }
   ],
   "source": [
    "durations = rle_df.groupby([\"uuid\", \"session_number\", \"mouse_id\"])[\"timestamp\"].apply(\n",
    "    lambda x: x.shift(-1) - x\n",
    ")\n",
    "rle_df[\"duration\"] = durations"
   ]
  },
  {
   "cell_type": "code",
   "execution_count": 26,
   "metadata": {},
   "outputs": [
    {
     "data": {
      "text/plain": [
       "mouse_id\n",
       "dlight-chrimson-1    44\n",
       "dlight-chrimson-2    37\n",
       "dlight-chrimson-3    50\n",
       "dlight-chrimson-4    17\n",
       "dlight-chrimson-5    50\n",
       "dlight-chrimson-6    46\n",
       "dlight-chrimson-8    15\n",
       "dlight-chrimson-9    16\n",
       "dls-dlight-1         18\n",
       "dls-dlight-2         19\n",
       "dls-dlight-3         20\n",
       "dls-dlight-4         17\n",
       "dls-dlight-5         17\n",
       "dls-dlight-7         13\n",
       "dtype: int64"
      ]
     },
     "execution_count": 26,
     "metadata": {},
     "output_type": "execute_result"
    }
   ],
   "source": [
    "feature_df.drop_duplicates(\"uuid\").groupby([\"mouse_id\"]).size()"
   ]
  },
  {
   "cell_type": "markdown",
   "metadata": {},
   "source": [
    "# Averaging prior to regression"
   ]
  },
  {
   "cell_type": "code",
   "execution_count": 27,
   "metadata": {},
   "outputs": [],
   "source": [
    "group_keys = [\"uuid\", \"session_number\", \"mouse_id\", \"syllable\"]\n",
    "# group_keys = [\"mouse_id\", \"syllable\"]\n",
    "ave_usages = rle_df.groupby(group_keys[:-1])[\"syllable\"].value_counts().rename(\"count\")\n",
    "ave_durations = rle_df.groupby(group_keys)[\"duration\"].mean().rename(\"duration\")\n",
    "total_durations = rle_df.groupby(group_keys)[\"duration\"].sum().rename(\"total_duration\")\n",
    "\n",
    "ave_syll_features = pd.concat([ave_usages, ave_durations, total_durations], axis=1)\n",
    "ave_neural_features = feature_df.groupby(group_keys, observed=True)[\n",
    "    all_channel_features + all_scalars\n",
    "].mean()\n",
    "\n",
    "ave_neural_features = ave_neural_features.drop(\n",
    "    ave_syll_features.columns, axis=1, errors=\"ignore\"\n",
    ")\n",
    "ave_features = ave_neural_features.join(ave_syll_features)\n",
    "\n",
    "ave_features = ave_features.reset_index()"
   ]
  },
  {
   "cell_type": "code",
   "execution_count": 28,
   "metadata": {},
   "outputs": [],
   "source": [
    "entropy_group_keys = [\"mouse_id\", \"syllable\", \"uuid\"]\n",
    "# entropy_group_keys = [\"mouse_id\",\"syllable\"]\n",
    "if \"uuid\" not in entropy_group_keys:\n",
    "    tm_df = feature_df.groupby(entropy_group_keys)[\"tm_row\"].sum()\n",
    "else:\n",
    "    tm_df = feature_df.set_index(entropy_group_keys)[\"tm_row\"]"
   ]
  },
  {
   "cell_type": "code",
   "execution_count": 29,
   "metadata": {},
   "outputs": [],
   "source": [
    "tqdm.pandas()"
   ]
  },
  {
   "cell_type": "code",
   "execution_count": 30,
   "metadata": {},
   "outputs": [],
   "source": [
    "tm_df = tm_df.loc[~tm_df.apply(np.isscalar)]"
   ]
  },
  {
   "cell_type": "code",
   "execution_count": 31,
   "metadata": {},
   "outputs": [
    {
     "data": {
      "text/plain": [
       "37"
      ]
     },
     "execution_count": 31,
     "metadata": {},
     "output_type": "execute_result"
    }
   ],
   "source": [
    "syllable_stats[\"truncate\"]"
   ]
  },
  {
   "cell_type": "code",
   "execution_count": 32,
   "metadata": {},
   "outputs": [
    {
     "data": {
      "application/vnd.jupyter.widget-view+json": {
       "model_id": "e6672915f76b4d2e94a38b140849920a",
       "version_major": 2,
       "version_minor": 0
      },
      "text/plain": [
       "  0%|          | 0/793362 [00:00<?, ?it/s]"
      ]
     },
     "metadata": {},
     "output_type": "display_data"
    }
   ],
   "source": [
    "from rl_analysis.info.util import dm_entropy\n",
    "\n",
    "truncate = lagged_cfg[\"entropy\"][\"tm_truncate\"]\n",
    "ents = tm_df.progress_apply(\n",
    "    lambda x: dm_entropy(\n",
    "        x[: syllable_stats[\"truncate\"]],\n",
    "        alpha=1.0 / truncate,\n",
    "        marginalize=False,\n",
    "        axis=None,\n",
    "    )\n",
    ").rename(\"entropy_out\")"
   ]
  },
  {
   "cell_type": "code",
   "execution_count": 33,
   "metadata": {},
   "outputs": [],
   "source": [
    "ave_features = ave_features.drop(ents.name, axis=1, errors=\"ignore\")\n",
    "ave_features = pd.merge(\n",
    "    ave_features, ents.reset_index(), how=\"left\", on=entropy_group_keys\n",
    ")"
   ]
  },
  {
   "cell_type": "markdown",
   "metadata": {},
   "source": [
    "# Normalization"
   ]
  },
  {
   "cell_type": "code",
   "execution_count": 34,
   "metadata": {},
   "outputs": [],
   "source": [
    "sorted_usages = ave_usages.groupby(\"syllable\").mean().sort_values()[::-1]\n",
    "sorted_usages /= sorted_usages.sum()\n",
    "use_syllables = sorted_usages[sorted_usages > 0.01].index"
   ]
  },
  {
   "cell_type": "code",
   "execution_count": 35,
   "metadata": {},
   "outputs": [],
   "source": [
    "z_keys = [\"mouse_id\"]\n",
    "z_features = all_channel_features + all_scalars\n",
    "\n",
    "ave_features_z_between = ave_features.dropna(subset=[\"count\"]).copy().reset_index()\n",
    "\n",
    "if z_keys is not None:\n",
    "    ave_features_z_between[z_features] = ave_features_z_between.groupby(z_keys)[\n",
    "        z_features\n",
    "    ].transform(\n",
    "        pd_zscore,\n",
    "    )\n",
    "\n",
    "try:\n",
    "    ave_features_z_between = ave_features_z_between.reset_index()\n",
    "except ValueError:\n",
    "    pass"
   ]
  },
  {
   "cell_type": "code",
   "execution_count": 36,
   "metadata": {},
   "outputs": [],
   "source": [
    "z_features = sorted(\n",
    "    list(\n",
    "        set(\n",
    "            all_channel_features\n",
    "            + [\"count\", \"duration\", \"total_duration\", \"entropy_out\"]\n",
    "            + all_scalars\n",
    "        )\n",
    "    )\n",
    ")\n",
    "z_keys = [\"mouse_id\", \"syllable\"]\n",
    "\n",
    "ave_features_z_within = ave_features.dropna(subset=[\"count\"]).copy().reset_index()\n",
    "\n",
    "if z_keys is not None:\n",
    "    ave_features_z_within[z_features] = ave_features_z_within.groupby(z_keys)[\n",
    "        z_features\n",
    "    ].transform(\n",
    "        pd_zscore,\n",
    "    )\n",
    "ave_features_z_within = ave_features_z_within.reset_index()"
   ]
  },
  {
   "cell_type": "markdown",
   "metadata": {
    "tags": []
   },
   "source": [
    "# Preparing features for between regression"
   ]
  },
  {
   "cell_type": "code",
   "execution_count": 37,
   "metadata": {},
   "outputs": [],
   "source": [
    "xs = []\n",
    "for _use_window in use_windows:\n",
    "    xs += [\n",
    "        f\"signal_reref_dff_z_max_{_use_window}\",\n",
    "    ]\n",
    "ys = [\n",
    "    \"count\",\n",
    "    \"entropy_out\",\n",
    "]"
   ]
  },
  {
   "cell_type": "code",
   "execution_count": 38,
   "metadata": {},
   "outputs": [],
   "source": [
    "xs = [_ for _ in xs if _ in feature_df.keys()]"
   ]
  },
  {
   "cell_type": "code",
   "execution_count": 39,
   "metadata": {},
   "outputs": [],
   "source": [
    "usage = (\n",
    "    rle_df.loc[rle_df[\"uuid\"].isin(feature_df[\"uuid\"].unique().tolist())]\n",
    "    .groupby([\"mouse_id\"], observed=True)[\"syllable\"]\n",
    "    .value_counts(normalize=False)\n",
    ")\n",
    "\n",
    "usage = usage[usage.index.get_level_values(\"syllable\") != -5]\n",
    "use_syllables = usage.index"
   ]
  },
  {
   "cell_type": "code",
   "execution_count": 40,
   "metadata": {},
   "outputs": [
    {
     "name": "stderr",
     "output_type": "stream",
     "text": [
      "/tmp/ipykernel_1342178/2577574489.py:5: FutureWarning: The default value of numeric_only in DataFrameGroupBy.mean is deprecated. In a future version, numeric_only will default to False. Either specify numeric_only or select only columns which should be valid for the function.\n",
      "  ).mean()\n"
     ]
    }
   ],
   "source": [
    "final_group_keys = [\"mouse_id\", \"syllable\"]\n",
    "# final groupby prior to running the regression\n",
    "use_features_z_between = ave_features_z_between.groupby(\n",
    "    final_group_keys, observed=True\n",
    ").mean()"
   ]
  },
  {
   "cell_type": "markdown",
   "metadata": {
    "tags": []
   },
   "source": [
    "# Preparing features for within regression..."
   ]
  },
  {
   "cell_type": "code",
   "execution_count": 41,
   "metadata": {},
   "outputs": [],
   "source": [
    "final_group_keys = [\"syllable\", \"uuid\", \"mouse_id\"]\n",
    "use_features_z_within = (ave_features_z_within.groupby(final_group_keys).mean()).dropna(\n",
    "    subset=use_features\n",
    ")\n",
    "\n",
    "plt_features_within = use_features_z_within\n",
    "\n",
    "usage_mean = (\n",
    "    rle_df.groupby([\"mouse_id\", \"uuid\"])[\"syllable\"]\n",
    "    .value_counts(normalize=False)\n",
    "    .groupby([\"syllable\", \"mouse_id\"])\n",
    "    .mean()\n",
    ")\n",
    "\n",
    "usage_mean = usage_mean[usage_mean.index.get_level_values(\"syllable\") != -5]"
   ]
  },
  {
   "cell_type": "markdown",
   "metadata": {
    "tags": []
   },
   "source": [
    "# Model based estimate (between)"
   ]
  },
  {
   "cell_type": "code",
   "execution_count": 42,
   "metadata": {},
   "outputs": [],
   "source": [
    "ci = 0.95\n",
    "nshuffles = 1000\n",
    "partial_vars = None"
   ]
  },
  {
   "cell_type": "code",
   "execution_count": 43,
   "metadata": {},
   "outputs": [],
   "source": [
    "kwargs = {\n",
    "    \"ci\": 68,\n",
    "    \"x_ci\": 68,\n",
    "    \"x_estimator\": np.nanmean,\n",
    "    \"scatter_kws\": {\"s\": 6},\n",
    "}"
   ]
  },
  {
   "cell_type": "code",
   "execution_count": 44,
   "metadata": {},
   "outputs": [],
   "source": [
    "line_ax_kwargs = {\n",
    "    \"xlim\": (-3, 3),\n",
    "    #     \"ylim\": (-.7, .7)\n",
    "}\n",
    "\n",
    "fig_kwargs = {\n",
    "    \"figsize\": (2.5, 1.1 * len(ys)),\n",
    "    \"sharex\": \"col\",\n",
    "    \"sharey\": False,\n",
    "    \"gridspec_kw\": {\"width_ratios\": [2, 1]},\n",
    "}"
   ]
  },
  {
   "cell_type": "code",
   "execution_count": 45,
   "metadata": {},
   "outputs": [],
   "source": [
    "# shuffle splits are repeated nshuffles times\n",
    "shuffle_splits = model_selection.RepeatedKFold(n_splits=5, n_repeats=5, random_state=0)\n",
    "\n",
    "# this is done once to estimate a CI for the fit we show and the r (computed over held-out data)\n",
    "# one potential issue is that we're repeating datapoints, so we could reduce the number of repeats\n",
    "obs_splits = model_selection.RepeatedKFold(n_splits=5, n_repeats=100, random_state=0)"
   ]
  },
  {
   "cell_type": "code",
   "execution_count": 46,
   "metadata": {},
   "outputs": [],
   "source": [
    "# model features are average to mouse/syllable pairs first...\n",
    "model_features_z = (\n",
    "    use_features_z_between.loc[usage[usage >= 100].index].copy().reset_index()\n",
    ")"
   ]
  },
  {
   "cell_type": "code",
   "execution_count": 47,
   "metadata": {},
   "outputs": [
    {
     "data": {
      "text/plain": [
       "mouse_id\n",
       "dlight-chrimson-1    56\n",
       "dlight-chrimson-2    54\n",
       "dlight-chrimson-3    57\n",
       "dlight-chrimson-4    53\n",
       "dlight-chrimson-5    56\n",
       "dlight-chrimson-6    57\n",
       "dlight-chrimson-8    56\n",
       "dlight-chrimson-9    54\n",
       "dls-dlight-1         50\n",
       "dls-dlight-2         54\n",
       "dls-dlight-3         53\n",
       "dls-dlight-4         51\n",
       "dls-dlight-5         56\n",
       "dls-dlight-7         53\n",
       "dtype: int64"
      ]
     },
     "execution_count": 47,
     "metadata": {},
     "output_type": "execute_result"
    }
   ],
   "source": [
    "model_features_z.groupby(\"mouse_id\").size()"
   ]
  },
  {
   "cell_type": "code",
   "execution_count": 48,
   "metadata": {},
   "outputs": [],
   "source": [
    "model_features_z[\"velocity_2d_mm\"] = model_features_z[\"velocity_2d_mm_mean_(0.0, 0.3)\"]\n",
    "model_features_z[\"acceleration_2d_mm\"] = model_features_z[\n",
    "    \"acceleration_2d_mm_mean_(0.0, 0.3)\"\n",
    "]\n",
    "model_features_z[\"velocity_angle\"] = model_features_z[\"velocity_angle_mean_(0.0, 0.3)\"]\n",
    "model_features_z[\"velocity_height\"] = model_features_z[\n",
    "    \"velocity_height_mean_(0.0, 0.3)\"\n",
    "]\n",
    "model_features_z[\"jerk_2d_mm\"] = model_features_z[\"jerk_2d_mm_mean_(0.0, 0.3)\"]"
   ]
  },
  {
   "cell_type": "code",
   "execution_count": 49,
   "metadata": {},
   "outputs": [],
   "source": [
    "ylimits = {\n",
    "    \"count\": [-25, 300],\n",
    "    \"total_duration\": [-50, 150],\n",
    "    \"duration\": [0, 1.5],\n",
    "    \"entropy_out\": [2, 4.5],\n",
    "    \"velocity_2d_mm\": [-2, 4],\n",
    "    \"velocity_angle\": [-5, 5],\n",
    "    \"acceleration_2d_mm\": [-2, 2],\n",
    "    \"velocity_height\": [-2, 2],\n",
    "    \"jerk_2d_mm\": [-2, 2],\n",
    "}"
   ]
  },
  {
   "cell_type": "code",
   "execution_count": 50,
   "metadata": {},
   "outputs": [],
   "source": [
    "aliases = {\n",
    "    \"count\": \"Syll. counts\",\n",
    "    \"total_duration\": \"Time in syll. (s)\",\n",
    "    \"duration\": \"Syll. duration (s)\",\n",
    "    \"entropy_out\": \"Entropy (nats)\",\n",
    "    \"velocity_2d_mm\": \"Vel. (z)\",\n",
    "    \"acceleration_2d_mm\": \"Acc.\",\n",
    "    \"velocity_height\": \"Z Vel.\",\n",
    "    \"velocity_angle\": \"Ang. Vel.\",\n",
    "    \"jerk_2d_mm\": \"Jerk\",\n",
    "}"
   ]
  },
  {
   "cell_type": "code",
   "execution_count": 51,
   "metadata": {},
   "outputs": [],
   "source": [
    "color = sns.color_palette()[1]"
   ]
  },
  {
   "cell_type": "code",
   "execution_count": 52,
   "metadata": {},
   "outputs": [],
   "source": [
    "partial_vars = None\n",
    "shuffle_bins = np.arange(-0.4, 0.4, 0.025)"
   ]
  },
  {
   "cell_type": "code",
   "execution_count": 53,
   "metadata": {},
   "outputs": [],
   "source": [
    "def get_z(x, y, bw_adjust=1):\n",
    "    from scipy.stats import gaussian_kde\n",
    "\n",
    "    xy = np.vstack([x, y])\n",
    "    kernel = gaussian_kde(xy)\n",
    "    kernel.set_bandwidth(kernel.scotts_factor() * bw_adjust)\n",
    "    z = kernel(xy)\n",
    "    return z"
   ]
  },
  {
   "cell_type": "code",
   "execution_count": 54,
   "metadata": {},
   "outputs": [],
   "source": [
    "stats = {}\n",
    "stats[\"between\"] = {}\n",
    "stats[\"between\"][\"n_syllable_mouse_pairs\"] = len(model_features_z)"
   ]
  },
  {
   "cell_type": "code",
   "execution_count": 55,
   "metadata": {},
   "outputs": [
    {
     "data": {
      "application/vnd.jupyter.widget-view+json": {
       "model_id": "900a241bb5464ae2a719592e59e2933e",
       "version_major": 2,
       "version_minor": 0
      },
      "text/plain": [
       "  0%|          | 0/1 [00:00<?, ?it/s]"
      ]
     },
     "metadata": {},
     "output_type": "display_data"
    },
    {
     "data": {
      "application/vnd.jupyter.widget-view+json": {
       "model_id": "c91bbc22d06a46529972161a6f20b6f1",
       "version_major": 2,
       "version_minor": 0
      },
      "text/plain": [
       "  0%|          | 0/2 [00:00<?, ?it/s]"
      ]
     },
     "metadata": {},
     "output_type": "display_data"
    }
   ],
   "source": [
    "plt_models = {}\n",
    "plt_points = {}\n",
    "\n",
    "dcts = []\n",
    "for _x in tqdm(xs):\n",
    "    for _y in tqdm(ys):\n",
    "        clf = linear_model.HuberRegressor(fit_intercept=True, epsilon=1.05)\n",
    "        delays = [\n",
    "            delayed(model_fit)(\n",
    "                model_features_z,\n",
    "                clf=clf,\n",
    "                shuffle_x=True,\n",
    "                random_state=i,\n",
    "                partial_x=partial_vars,\n",
    "                y=_y,\n",
    "                x=_x,\n",
    "                splits=shuffle_splits,\n",
    "            )\n",
    "            for i in range(nshuffles)\n",
    "        ]\n",
    "\n",
    "        results = Parallel(n_jobs=-1, verbose=0)(delays)\n",
    "        obs_r, models, (plt_x, plt_y) = model_fit(\n",
    "            model_features_z,\n",
    "            clf=clf,\n",
    "            return_models=True,\n",
    "            partial_x=partial_vars,\n",
    "            y=_y,\n",
    "            x=_x,\n",
    "            return_input=True,\n",
    "            splits=obs_splits,\n",
    "        )\n",
    "\n",
    "        p = (obs_r < results).mean()\n",
    "        plt_models[(_x, _y)] = models\n",
    "        plt_points[(_x, _y)] = (plt_x, plt_y)\n",
    "\n",
    "        dct = {\"r\": obs_r, \"p\": p, \"x\": _x, \"y\": _y}\n",
    "        dcts.append(dct)"
   ]
  },
  {
   "cell_type": "code",
   "execution_count": 56,
   "metadata": {},
   "outputs": [],
   "source": [
    "from statsmodels.stats.multitest import multipletests\n",
    "\n",
    "between_pval_df = pd.DataFrame(dcts)\n",
    "between_pval_df[\"p\"] = between_pval_df.groupby(\"x\")[\"p\"].transform(\n",
    "    lambda x: multipletests(x.to_list(), method=\"holm\")[1]\n",
    ")\n",
    "between_pval_df = between_pval_df.set_index([\"x\", \"y\"])"
   ]
  },
  {
   "cell_type": "code",
   "execution_count": 58,
   "metadata": {
    "tags": []
   },
   "outputs": [
    {
     "data": {
      "application/vnd.jupyter.widget-view+json": {
       "model_id": "e642e7cec5294100b2883edafdf47549",
       "version_major": 2,
       "version_minor": 0
      },
      "text/plain": [
       "  0%|          | 0/2 [00:00<?, ?it/s]"
      ]
     },
     "metadata": {},
     "output_type": "display_data"
    },
    {
     "data": {
      "image/png": "[encoded data removed]",
      "text/plain": [
       "<Figure size 500x440 with 4 Axes>"
      ]
     },
     "metadata": {},
     "output_type": "display_data"
    }
   ],
   "source": [
    "setup_plotting_env()\n",
    "for _x in xs:\n",
    "    fig, ax = plt.subplots(len(ys), 2, **fig_kwargs)\n",
    "    xvals = np.linspace(-3, 3, 100)\n",
    "\n",
    "    for rax, _y in tqdm(zip(ax, ys), total=len(ax)):\n",
    "\n",
    "        obs_r = between_pval_df.loc[_x, _y][\"r\"]\n",
    "        p = between_pval_df.loc[_x, _y][\"p\"]\n",
    "        models = plt_models[(_x, _y)]\n",
    "        plt_x, plt_y = plt_points[(_x, _y)]\n",
    "\n",
    "        stats[\"between\"][f\"{_x}-{_y}\"] = {}\n",
    "        stats[\"between\"][f\"{_x}-{_y}\"][\"r\"] = obs_r\n",
    "        stats[\"between\"][f\"{_x}-{_y}\"][\"p\"] = p\n",
    "        predictions = np.array([_.predict(xvals.reshape(-1, 1)) for _ in models])\n",
    "        x = plt_x.values.ravel()\n",
    "        y = plt_y.values.ravel()\n",
    "\n",
    "        z = get_z(x, y, 1)\n",
    "        z /= z.max()\n",
    "\n",
    "        rax[0].scatter(\n",
    "            x,\n",
    "            y,\n",
    "            c=z,\n",
    "            s=5,\n",
    "            cmap=\"inferno\",\n",
    "            alpha=np.clip(z, 0.15, 0.8),\n",
    "            rasterized=True,\n",
    "            clip_on=True,\n",
    "        )\n",
    "\n",
    "        rax[0].set_ylim(ylimits[_y])\n",
    "        rax[0].set_ylabel(aliases[_y] if _y in aliases.keys() else _y)\n",
    "        ci_hi = np.quantile(predictions, (1 - (1 - ci) / 2), axis=0)\n",
    "        ci_lo = np.quantile(predictions, (1 - ci) / 2, axis=0)\n",
    "        mu = np.mean(predictions, axis=0)\n",
    "\n",
    "        rax[0].fill_between(xvals, ci_lo, ci_hi, zorder=-200, alpha=0.25, color=color)\n",
    "        rax[0].plot(xvals, mu, zorder=+150, alpha=1, color=color, lw=1.5)\n",
    "        rax[0].text(\n",
    "            0.5,\n",
    "            1.05,\n",
    "            f\"r={obs_r:.2f}, {format_pval(p)[0]}\",\n",
    "            horizontalalignment=\"center\",\n",
    "            verticalalignment=\"center\",\n",
    "            transform=rax[0].transAxes,\n",
    "            zorder=+300,\n",
    "        )\n",
    "\n",
    "        sns.histplot(\n",
    "            results,\n",
    "            ax=rax[1],\n",
    "            bins=shuffle_bins,\n",
    "            color=[0.4, 0.4, 0.4],\n",
    "            element=\"step\",\n",
    "            fill=True,\n",
    "            ec=None,\n",
    "            lw=0,\n",
    "        )\n",
    "        rax[1].axvline(x=obs_r)\n",
    "        rax[0].set_ylabel(rax[0].get_ylabel(), labelpad=0)\n",
    "        rax[1].set_ylabel(\"n(shuffles)\")\n",
    "\n",
    "    plt.setp(ax, xlabel=\"\")\n",
    "    ax[-1, 0].set_xlabel(\"dLight (z)\")\n",
    "    ax[-1, 1].set_xlabel(\"Correlation\")\n",
    "\n",
    "    plt.setp(ax[:, 1], ylim=(0, 300), xlim=(-0.35, +0.5))\n",
    "    for _ax in ax[:, 1]:\n",
    "        _ax.set_xlim(-0.35, 0.35)\n",
    "        clean_ticks(_ax, \"x\", zero_symmetry=True, precision=2)\n",
    "        clean_ticks(_ax, \"y\", zero_symmetry=False, precision=-2, dtype=int)\n",
    "\n",
    "    if len(line_ax_kwargs.keys()) > 0:\n",
    "        plt.setp(ax[:, 0], **line_ax_kwargs)\n",
    "\n",
    "    for _ax in ax[:, 0]:\n",
    "        clean_ticks(_ax, \"y\", zero_symmetry=False, precision=1, dtype=float)\n",
    "        clean_ticks(_ax, \"x\", zero_symmetry=True, precision=0, dtype=int)\n",
    "\n",
    "    sns.despine()\n",
    "    fig.suptitle(_x)\n",
    "    fig.tight_layout()\n",
    "    plt.show()\n",
    "\n",
    "    savefig(\n",
    "        fig,\n",
    "        os.path.join(\n",
    "            figure_cfg[\"store_dir\"],\n",
    "            f\"correlation_heldout_mouse_syllable_pairs_between-syllable_{_x}-{use_area}\",\n",
    "        ),\n",
    "        bbox_inches=\"tight\",\n",
    "        dpi=300,\n",
    "    )"
   ]
  },
  {
   "cell_type": "markdown",
   "metadata": {
    "tags": []
   },
   "source": [
    "# Model estimate (within)"
   ]
  },
  {
   "cell_type": "code",
   "execution_count": 59,
   "metadata": {},
   "outputs": [],
   "source": [
    "use_syllables = usage_mean[(usage_mean > 50)].index\n",
    "model_features_z = plt_features_within.reset_index().set_index(\n",
    "    [\"syllable\", \"mouse_id\"]\n",
    ")\n",
    "model_features_z = (\n",
    "    model_features_z.loc[use_syllables.intersection(model_features_z.index)]\n",
    "    .groupby([\"uuid\"])\n",
    "    .mean()\n",
    "    .reset_index()\n",
    ")"
   ]
  },
  {
   "cell_type": "code",
   "execution_count": 60,
   "metadata": {},
   "outputs": [],
   "source": [
    "kwargs = {\n",
    "    #     \"x_bins\": np.linspace(-10,10,10)[:-1],\n",
    "    \"x_bins\": 8,\n",
    "    \"ci\": 68,\n",
    "    \"x_ci\": 68,\n",
    "    \"x_estimator\": np.nanmean,\n",
    "    \"scatter_kws\": {\"s\": 6},\n",
    "}\n",
    "line_ax_kwargs_within = {\n",
    "    #     \"xlim\": (-1.15, 1.15),\n",
    "    #     \"ylim\": (-.7, .7)\n",
    "}\n",
    "\n",
    "fig_kwargs = {\n",
    "    \"figsize\": (2.5, 1.1 * len(ys)),\n",
    "    \"sharex\": \"col\",\n",
    "    \"sharey\": False,\n",
    "    \"gridspec_kw\": {\"width_ratios\": [2, 1]},\n",
    "}"
   ]
  },
  {
   "cell_type": "code",
   "execution_count": 61,
   "metadata": {},
   "outputs": [],
   "source": [
    "ylimits = {\n",
    "    \"count\": [-1.25, 0.5],\n",
    "    \"total_duration\": [-1.25, 0.5],\n",
    "    \"duration\": [-1.5, 1.5],\n",
    "    \"entropy_out\": [-1, 1],\n",
    "    \"velocity_2d_mm\": [-2, 2],\n",
    "    \"jerk_2d_mm\": [-1, 1],\n",
    "    \"acceleration_2d_mm\": [-1, 1],\n",
    "    \"velocity_angle\": [-1, 1],\n",
    "    \"velocity_height\": [-1, 1],\n",
    "}"
   ]
  },
  {
   "cell_type": "code",
   "execution_count": 62,
   "metadata": {},
   "outputs": [],
   "source": [
    "model_features_z[\"velocity_2d_mm\"] = model_features_z[\"velocity_2d_mm_mean_(0.0, 0.3)\"]\n",
    "model_features_z[\"acceleration_2d_mm\"] = model_features_z[\n",
    "    \"acceleration_2d_mm_mean_(0.0, 0.3)\"\n",
    "]\n",
    "model_features_z[\"velocity_angle\"] = model_features_z[\"velocity_angle_mean_(0.0, 0.3)\"]\n",
    "model_features_z[\"velocity_height\"] = model_features_z[\n",
    "    \"velocity_height_mean_(0.0, 0.3)\"\n",
    "]"
   ]
  },
  {
   "cell_type": "code",
   "execution_count": 63,
   "metadata": {},
   "outputs": [],
   "source": [
    "stats[\"within\"] = {}"
   ]
  },
  {
   "cell_type": "code",
   "execution_count": 64,
   "metadata": {},
   "outputs": [],
   "source": [
    "stats[\"within\"][\"n_sessions\"] = len(model_features_z)"
   ]
  },
  {
   "cell_type": "code",
   "execution_count": 65,
   "metadata": {},
   "outputs": [
    {
     "data": {
      "application/vnd.jupyter.widget-view+json": {
       "model_id": "0a301f263e7e4eba914b69516f3fb776",
       "version_major": 2,
       "version_minor": 0
      },
      "text/plain": [
       "  0%|          | 0/1 [00:00<?, ?it/s]"
      ]
     },
     "metadata": {},
     "output_type": "display_data"
    },
    {
     "data": {
      "application/vnd.jupyter.widget-view+json": {
       "model_id": "f494516954964627a4a8596fa1d8d996",
       "version_major": 2,
       "version_minor": 0
      },
      "text/plain": [
       "  0%|          | 0/2 [00:00<?, ?it/s]"
      ]
     },
     "metadata": {},
     "output_type": "display_data"
    }
   ],
   "source": [
    "plt_models = {}\n",
    "plt_points = {}\n",
    "\n",
    "dcts = []\n",
    "for _x in tqdm(xs):\n",
    "    for _y in tqdm(ys):\n",
    "        clf = linear_model.HuberRegressor(fit_intercept=True, epsilon=1.05)\n",
    "        delays = [\n",
    "            delayed(model_fit)(\n",
    "                model_features_z,\n",
    "                clf=clf,\n",
    "                shuffle_x=True,\n",
    "                partial_x=partial_vars,\n",
    "                y=_y,\n",
    "                x=_x,\n",
    "                random_state=i,\n",
    "                splits=shuffle_splits,\n",
    "            )\n",
    "            for i in range(nshuffles)\n",
    "        ]\n",
    "\n",
    "        results = Parallel(n_jobs=-1, verbose=0)(delays)\n",
    "        obs_r, models, (plt_x, plt_y) = model_fit(\n",
    "            model_features_z,\n",
    "            clf=clf,\n",
    "            return_models=True,\n",
    "            partial_x=partial_vars,\n",
    "            y=_y,\n",
    "            x=_x,\n",
    "            return_input=True,\n",
    "            splits=obs_splits,\n",
    "        )\n",
    "\n",
    "        p = (obs_r < results).mean()\n",
    "        plt_models[(_x, _y)] = models\n",
    "        plt_points[(_x, _y)] = (plt_x, plt_y)\n",
    "\n",
    "        dct = {\"r\": obs_r, \"p\": p, \"x\": _x, \"y\": _y}\n",
    "        dcts.append(dct)"
   ]
  },
  {
   "cell_type": "code",
   "execution_count": 66,
   "metadata": {},
   "outputs": [],
   "source": [
    "within_pval_df = pd.DataFrame(dcts)\n",
    "within_pval_df[\"p\"] = within_pval_df.groupby(\"x\")[\"p\"].transform(\n",
    "    lambda x: multipletests(x.to_list(), method=\"holm\")[1]\n",
    ")\n",
    "within_pval_df = within_pval_df.set_index([\"x\", \"y\"])"
   ]
  },
  {
   "cell_type": "code",
   "execution_count": 67,
   "metadata": {
    "tags": []
   },
   "outputs": [
    {
     "data": {
      "application/vnd.jupyter.widget-view+json": {
       "model_id": "081da47553b44e80ac4c7097eeea1602",
       "version_major": 2,
       "version_minor": 0
      },
      "text/plain": [
       "  0%|          | 0/2 [00:00<?, ?it/s]"
      ]
     },
     "metadata": {},
     "output_type": "display_data"
    },
    {
     "data": {
      "image/png": "[encoded data removed]",
      "text/plain": [
       "<Figure size 500x440 with 4 Axes>"
      ]
     },
     "metadata": {},
     "output_type": "display_data"
    }
   ],
   "source": [
    "setup_plotting_env()\n",
    "\n",
    "for _x in xs:\n",
    "    fig, ax = plt.subplots(len(ys), 2, **fig_kwargs)\n",
    "    xvals = np.linspace(-3, 3, 100)\n",
    "\n",
    "    for rax, _y in tqdm(zip(ax, ys), total=len(ax)):\n",
    "\n",
    "        obs_r = within_pval_df.loc[_x, _y][\"r\"]\n",
    "        p = within_pval_df.loc[_x, _y][\"p\"]\n",
    "        models = plt_models[(_x, _y)]\n",
    "        plt_x, plt_y = plt_points[(_x, _y)]\n",
    "\n",
    "        stats[\"within\"][f\"{_x}-{_y}\"] = {}\n",
    "        stats[\"within\"][f\"{_x}-{_y}\"][\"r\"] = obs_r\n",
    "        stats[\"within\"][f\"{_x}-{_y}\"][\"p\"] = p\n",
    "        predictions = np.array([_.predict(xvals.reshape(-1, 1)) for _ in models])\n",
    "\n",
    "        x = plt_x.values.ravel()\n",
    "        y = plt_y.values.ravel()\n",
    "\n",
    "        z = get_z(x, y, 1)\n",
    "        z /= z.max()\n",
    "\n",
    "        rax[0].scatter(\n",
    "            x, y, c=z, s=5, cmap=\"inferno\", alpha=np.clip(z, 0.15, 0.8), rasterized=True\n",
    "        )\n",
    "        rax[0].set_ylim(ylimits[_y])\n",
    "        rax[0].set_ylabel(aliases[_y] if _y in aliases.keys() else _y)\n",
    "\n",
    "        ci_hi = np.quantile(predictions, (1 - (1 - ci) / 2), axis=0)\n",
    "        ci_lo = np.quantile(predictions, (1 - ci) / 2, axis=0)\n",
    "        mu = np.mean(predictions, axis=0)\n",
    "        rax[0].fill_between(xvals, ci_lo, ci_hi, zorder=+200, alpha=0.25, color=color)\n",
    "        rax[0].plot(xvals, mu, zorder=+250, alpha=1, color=color, lw=1.5)\n",
    "        rax[0].text(\n",
    "            0.5,\n",
    "            0.975,\n",
    "            f\"r={obs_r:.2f}, {format_pval(p)[0]}\",\n",
    "            horizontalalignment=\"center\",\n",
    "            verticalalignment=\"center\",\n",
    "            transform=rax[0].transAxes,\n",
    "            zorder=+300,\n",
    "        )\n",
    "\n",
    "        sns.histplot(\n",
    "            results,\n",
    "            ax=rax[1],\n",
    "            bins=shuffle_bins,\n",
    "            color=[0.4, 0.4, 0.4],\n",
    "            element=\"step\",\n",
    "            fill=True,\n",
    "            ec=None,\n",
    "            lw=0,\n",
    "        )\n",
    "        rax[1].axvline(x=obs_r)\n",
    "\n",
    "        rax[0].set_ylabel(rax[0].get_ylabel(), labelpad=0)\n",
    "        rax[1].set_ylabel(\"n(shuffles)\")\n",
    "\n",
    "    plt.setp(ax, xlabel=\"\")\n",
    "    ax[-1, 0].set_xlabel(\"dLight (z)\")\n",
    "    ax[-1, 1].set_xlabel(\"Correlation\")\n",
    "\n",
    "    plt.setp(ax[:, 1], ylim=(0, 300), xlim=(-0.35, +0.35))\n",
    "    for _ax in ax[:, 1]:\n",
    "        _ax.set_xlim(-0.45, 0.45)\n",
    "        clean_ticks(_ax, \"x\", zero_symmetry=True, precision=2)\n",
    "        clean_ticks(_ax, \"y\", zero_symmetry=False, precision=-2, dtype=int)\n",
    "\n",
    "    # plt.setp(ax[:, 0], xlim=(-1, 1))\n",
    "    for _ax in ax[:, 0]:\n",
    "        _ax.set_xlim(-1, 1)\n",
    "        clean_ticks(_ax, \"x\", zero_symmetry=True, precision=1)\n",
    "        clean_ticks(_ax, \"y\", zero_symmetry=False, precision=2)\n",
    "\n",
    "    plt.setp(ax, xlabel=\"\")\n",
    "    ax[0][-1].set_xlabel(\"dLight (z)\")\n",
    "    ax[1][-1].set_xlabel(\"Correlation\")\n",
    "\n",
    "    sns.despine()\n",
    "    fig.suptitle(_x)\n",
    "    fig.tight_layout()\n",
    "\n",
    "    savefig(\n",
    "        fig,\n",
    "        os.path.join(\n",
    "            figure_cfg[\"store_dir\"],\n",
    "            f\"correlation_heldout_mouse_syllable_pairs_within-syllable_{_x}-{use_area}\",\n",
    "        ),\n",
    "        bbox_inches=\"tight\",\n",
    "        dpi=300,\n",
    "    )"
   ]
  },
  {
   "cell_type": "code",
   "execution_count": null,
   "metadata": {},
   "outputs": [],
   "source": []
  }
 ],
 "metadata": {
  "kernelspec": {
   "display_name": "Python [conda env:spont-da]",
   "language": "python",
   "name": "conda-env-spont-da-py"
  },
  "language_info": {
   "codemirror_mode": {
    "name": "ipython",
    "version": 3
   },
   "file_extension": ".py",
   "mimetype": "text/x-python",
   "name": "python",
   "nbconvert_exporter": "python",
   "pygments_lexer": "ipython3",
   "version": "3.10.8"
  },
  "widgets": {
   "application/vnd.jupyter.widget-state+json": {
    "state": {
     "015bf6f85aa04633a7dda0daff5612bd": {
      "model_module": "@jupyter-widgets/controls",
      "model_module_version": "1.5.0",
      "model_name": "ProgressStyleModel",
      "state": {
       "description_width": "initial"
      }
     },
     "0188fa3b32884bd58c54d1a0dcfd94c6": {
      "model_module": "@jupyter-widgets/controls",
      "model_module_version": "1.5.0",
      "model_name": "HBoxModel",
      "state": {
       "children": [
        "IPY_MODEL_e454c6c2890c4084acc85983dce47fc4",
        "IPY_MODEL_9cbd5d01284748c49f2a5bfe4ae97d31"
       ],
       "layout": "IPY_MODEL_74ffb9908c62431bb196de0795f6645a"
      }
     },
     "026a1bcdae5346699365e48aa6cace58": {
      "model_module": "@jupyter-widgets/controls",
      "model_module_version": "1.5.0",
      "model_name": "HBoxModel",
      "state": {
       "children": [
        "IPY_MODEL_45956762fdd24175b0bd279598057b39",
        "IPY_MODEL_bb4fd7b1f691458b81bf0e582f236f4f"
       ],
       "layout": "IPY_MODEL_6d0eb327a9884d028714d4f9f799cc9c"
      }
     },
     "05cd2d8f5b15457fbeb14dda0bfc2e46": {
      "model_module": "@jupyter-widgets/base",
      "model_module_version": "1.2.0",
      "model_name": "LayoutModel",
      "state": {}
     },
     "0b132e4db48a4409bd54ed95b919c314": {
      "model_module": "@jupyter-widgets/base",
      "model_module_version": "1.2.0",
      "model_name": "LayoutModel",
      "state": {}
     },
     "0e4df3dad9214540af92b992cd72eeea": {
      "model_module": "@jupyter-widgets/controls",
      "model_module_version": "1.5.0",
      "model_name": "DescriptionStyleModel",
      "state": {
       "description_width": ""
      }
     },
     "116a29c654a74edf82fb4dd362d55764": {
      "model_module": "@jupyter-widgets/controls",
      "model_module_version": "1.5.0",
      "model_name": "DescriptionStyleModel",
      "state": {
       "description_width": ""
      }
     },
     "1628a141025c4f8aadb39d8ecfb72d73": {
      "model_module": "@jupyter-widgets/base",
      "model_module_version": "1.2.0",
      "model_name": "LayoutModel",
      "state": {}
     },
     "1d5cb71772c0454fa805233742191477": {
      "model_module": "@jupyter-widgets/base",
      "model_module_version": "1.2.0",
      "model_name": "LayoutModel",
      "state": {}
     },
     "1fd56e9ad55a4f1499e43591c86fcc66": {
      "model_module": "@jupyter-widgets/controls",
      "model_module_version": "1.5.0",
      "model_name": "HBoxModel",
      "state": {
       "children": [
        "IPY_MODEL_31d89422cbd44fe99dd87f02d05710f8",
        "IPY_MODEL_b1b0f0d12602417e9f2576ec69a9ce43"
       ],
       "layout": "IPY_MODEL_b0c404ba9e534008a062bc1df73e00e2"
      }
     },
     "28a919f2abbc48fcaf8b76eed040e97f": {
      "model_module": "@jupyter-widgets/controls",
      "model_module_version": "1.5.0",
      "model_name": "FloatProgressModel",
      "state": {
       "bar_style": "success",
       "description": "100%",
       "layout": "IPY_MODEL_930f1462cb034ad8baf8752382ec8eab",
       "max": 54404,
       "style": "IPY_MODEL_015bf6f85aa04633a7dda0daff5612bd",
       "value": 54404
      }
     },
     "2a05def7df604aefb1063c42a442a9cc": {
      "model_module": "@jupyter-widgets/controls",
      "model_module_version": "1.5.0",
      "model_name": "HTMLModel",
      "state": {
       "layout": "IPY_MODEL_6d904ec8d96a4c6c8e816d5d6a4b7222",
       "style": "IPY_MODEL_116a29c654a74edf82fb4dd362d55764",
       "value": " 1080/1080 [01:05&lt;00:00, 16.42it/s]"
      }
     },
     "2d52003cf5e64a319d8b3f8395672374": {
      "model_module": "@jupyter-widgets/controls",
      "model_module_version": "1.5.0",
      "model_name": "FloatProgressModel",
      "state": {
       "bar_style": "success",
       "description": "100%",
       "layout": "IPY_MODEL_5398069d757043e0b218cd9540132242",
       "max": 54404,
       "style": "IPY_MODEL_ea85ab1c5e99411c8b72c69f140fcf63",
       "value": 54404
      }
     },
     "30ecdd1e161145f3b0cea2da2b5ed087": {
      "model_module": "@jupyter-widgets/controls",
      "model_module_version": "1.5.0",
      "model_name": "DescriptionStyleModel",
      "state": {
       "description_width": ""
      }
     },
     "3111470fa018471d94ccda8b2b65e951": {
      "model_module": "@jupyter-widgets/controls",
      "model_module_version": "1.5.0",
      "model_name": "HBoxModel",
      "state": {
       "children": [
        "IPY_MODEL_b88c6de73384477abb6afd2e93eed85d",
        "IPY_MODEL_89a07ff193214c5d9374f03786bd1c98"
       ],
       "layout": "IPY_MODEL_dfcfb5b728e64d50938fb47cda7c18dd"
      }
     },
     "3181571a0f5d4473b487a05a5b0d229e": {
      "model_module": "@jupyter-widgets/controls",
      "model_module_version": "1.5.0",
      "model_name": "HBoxModel",
      "state": {
       "children": [
        "IPY_MODEL_2d52003cf5e64a319d8b3f8395672374",
        "IPY_MODEL_f766ce281f2b439c9f477a1fd9375542"
       ],
       "layout": "IPY_MODEL_3b2d57676262459690f598d5808383eb"
      }
     },
     "31d89422cbd44fe99dd87f02d05710f8": {
      "model_module": "@jupyter-widgets/controls",
      "model_module_version": "1.5.0",
      "model_name": "FloatProgressModel",
      "state": {
       "bar_style": "success",
       "description": "100%",
       "layout": "IPY_MODEL_d92bf18225aa4456be58160b521f607f",
       "max": 54404,
       "style": "IPY_MODEL_601bdf1dea7f4c58b70d501d27d161b2",
       "value": 54404
      }
     },
     "339b4b8e25d94e36bf24c329900ca9dd": {
      "model_module": "@jupyter-widgets/controls",
      "model_module_version": "1.5.0",
      "model_name": "HBoxModel",
      "state": {
       "children": [
        "IPY_MODEL_f201d480ab45492894affaa7dacc71e6",
        "IPY_MODEL_2a05def7df604aefb1063c42a442a9cc"
       ],
       "layout": "IPY_MODEL_cf2e01f46e4648719127f85aa3cc9857"
      }
     },
     "3509b38326ff44d9880d3c56978a67b1": {
      "model_module": "@jupyter-widgets/controls",
      "model_module_version": "1.5.0",
      "model_name": "ProgressStyleModel",
      "state": {
       "description_width": "initial"
      }
     },
     "366d29ede43645aba4c8946cd9553dca": {
      "model_module": "@jupyter-widgets/base",
      "model_module_version": "1.2.0",
      "model_name": "LayoutModel",
      "state": {}
     },
     "3b2d57676262459690f598d5808383eb": {
      "model_module": "@jupyter-widgets/base",
      "model_module_version": "1.2.0",
      "model_name": "LayoutModel",
      "state": {}
     },
     "3c845b383ebb400a8870b7723735df43": {
      "model_module": "@jupyter-widgets/controls",
      "model_module_version": "1.5.0",
      "model_name": "FloatProgressModel",
      "state": {
       "bar_style": "success",
       "description": "100%",
       "layout": "IPY_MODEL_1628a141025c4f8aadb39d8ecfb72d73",
       "max": 1080,
       "style": "IPY_MODEL_3509b38326ff44d9880d3c56978a67b1",
       "value": 1080
      }
     },
     "401964b01792439f923bfad8b3a96923": {
      "model_module": "@jupyter-widgets/controls",
      "model_module_version": "1.5.0",
      "model_name": "ProgressStyleModel",
      "state": {
       "description_width": "initial"
      }
     },
     "45956762fdd24175b0bd279598057b39": {
      "model_module": "@jupyter-widgets/controls",
      "model_module_version": "1.5.0",
      "model_name": "FloatProgressModel",
      "state": {
       "bar_style": "success",
       "description": "100%",
       "layout": "IPY_MODEL_1d5cb71772c0454fa805233742191477",
       "max": 54404,
       "style": "IPY_MODEL_8ef6d764628f4e64b399545ab6527759",
       "value": 54404
      }
     },
     "4b0431f5fd4d4122b15c6a719d4cbe2a": {
      "model_module": "@jupyter-widgets/controls",
      "model_module_version": "1.5.0",
      "model_name": "DescriptionStyleModel",
      "state": {
       "description_width": ""
      }
     },
     "4e5cc1bc2777405dbd8829fce162fca1": {
      "model_module": "@jupyter-widgets/controls",
      "model_module_version": "1.5.0",
      "model_name": "HTMLModel",
      "state": {
       "layout": "IPY_MODEL_5c89955369cb4da2b1b4cceaf9ce2ccb",
       "style": "IPY_MODEL_c654f16f8c2143b7a45125b4b8b6f7b6",
       "value": " 1080/1080 [00:12&lt;00:00, 88.77it/s]"
      }
     },
     "5398069d757043e0b218cd9540132242": {
      "model_module": "@jupyter-widgets/base",
      "model_module_version": "1.2.0",
      "model_name": "LayoutModel",
      "state": {}
     },
     "56f1fdaa4d0a45ef903bdd0c2934fa96": {
      "model_module": "@jupyter-widgets/base",
      "model_module_version": "1.2.0",
      "model_name": "LayoutModel",
      "state": {}
     },
     "5c89955369cb4da2b1b4cceaf9ce2ccb": {
      "model_module": "@jupyter-widgets/base",
      "model_module_version": "1.2.0",
      "model_name": "LayoutModel",
      "state": {}
     },
     "601bdf1dea7f4c58b70d501d27d161b2": {
      "model_module": "@jupyter-widgets/controls",
      "model_module_version": "1.5.0",
      "model_name": "ProgressStyleModel",
      "state": {
       "description_width": "initial"
      }
     },
     "606d96232d354b0fa8b740c7ea160fb8": {
      "model_module": "@jupyter-widgets/base",
      "model_module_version": "1.2.0",
      "model_name": "LayoutModel",
      "state": {}
     },
     "67c2f837fd494a209cd1149005350c08": {
      "model_module": "@jupyter-widgets/base",
      "model_module_version": "1.2.0",
      "model_name": "LayoutModel",
      "state": {}
     },
     "6ae9d298b1944e37ac0ac7760c4454bd": {
      "model_module": "@jupyter-widgets/base",
      "model_module_version": "1.2.0",
      "model_name": "LayoutModel",
      "state": {}
     },
     "6d0eb327a9884d028714d4f9f799cc9c": {
      "model_module": "@jupyter-widgets/base",
      "model_module_version": "1.2.0",
      "model_name": "LayoutModel",
      "state": {}
     },
     "6d904ec8d96a4c6c8e816d5d6a4b7222": {
      "model_module": "@jupyter-widgets/base",
      "model_module_version": "1.2.0",
      "model_name": "LayoutModel",
      "state": {}
     },
     "6f00736114674d6fa4235fab7ea66987": {
      "model_module": "@jupyter-widgets/controls",
      "model_module_version": "1.5.0",
      "model_name": "HTMLModel",
      "state": {
       "layout": "IPY_MODEL_0b132e4db48a4409bd54ed95b919c314",
       "style": "IPY_MODEL_f2d2ce28af8445e6b6997326e9585282",
       "value": " 54404/54404 [01:12&lt;00:00, 747.23it/s]"
      }
     },
     "72865a63c24b4e6c957091bd4f17ff36": {
      "model_module": "@jupyter-widgets/controls",
      "model_module_version": "1.5.0",
      "model_name": "FloatProgressModel",
      "state": {
       "bar_style": "success",
       "description": "100%",
       "layout": "IPY_MODEL_dd953a20354a43cd92f2e445d5394dbf",
       "max": 1080,
       "style": "IPY_MODEL_b757ed952a9d486fa7a37bc574536832",
       "value": 1080
      }
     },
     "72e679171ac746b08570af95b76fd259": {
      "model_module": "@jupyter-widgets/controls",
      "model_module_version": "1.5.0",
      "model_name": "HBoxModel",
      "state": {
       "children": [
        "IPY_MODEL_72865a63c24b4e6c957091bd4f17ff36",
        "IPY_MODEL_9fb7a3e3bddb4a6e8575c0f84be76682"
       ],
       "layout": "IPY_MODEL_bb8945d47283432184c4bb9ec975abfc"
      }
     },
     "736c15b2871647a2a556f64f4277a4d4": {
      "model_module": "@jupyter-widgets/base",
      "model_module_version": "1.2.0",
      "model_name": "LayoutModel",
      "state": {}
     },
     "74ffb9908c62431bb196de0795f6645a": {
      "model_module": "@jupyter-widgets/base",
      "model_module_version": "1.2.0",
      "model_name": "LayoutModel",
      "state": {}
     },
     "78e8e4b82eaf466bafdd8e7d39b1010c": {
      "model_module": "@jupyter-widgets/base",
      "model_module_version": "1.2.0",
      "model_name": "LayoutModel",
      "state": {}
     },
     "89a07ff193214c5d9374f03786bd1c98": {
      "model_module": "@jupyter-widgets/controls",
      "model_module_version": "1.5.0",
      "model_name": "HTMLModel",
      "state": {
       "layout": "IPY_MODEL_e267c04e84be44409271ece8c0e4c19a",
       "style": "IPY_MODEL_0e4df3dad9214540af92b992cd72eeea",
       "value": " 54404/54404 [01:19&lt;00:00, 687.67it/s]"
      }
     },
     "8ab41df5d90d45fbbb292d7d052e94c2": {
      "model_module": "@jupyter-widgets/controls",
      "model_module_version": "1.5.0",
      "model_name": "FloatProgressModel",
      "state": {
       "bar_style": "success",
       "description": "100%",
       "layout": "IPY_MODEL_ac8002e8ac0d43f5984985f22a70f7b4",
       "max": 54404,
       "style": "IPY_MODEL_e213006180a442b2af5d8284633ddfef",
       "value": 54404
      }
     },
     "8ef6d764628f4e64b399545ab6527759": {
      "model_module": "@jupyter-widgets/controls",
      "model_module_version": "1.5.0",
      "model_name": "ProgressStyleModel",
      "state": {
       "description_width": "initial"
      }
     },
     "930f1462cb034ad8baf8752382ec8eab": {
      "model_module": "@jupyter-widgets/base",
      "model_module_version": "1.2.0",
      "model_name": "LayoutModel",
      "state": {}
     },
     "9cbd5d01284748c49f2a5bfe4ae97d31": {
      "model_module": "@jupyter-widgets/controls",
      "model_module_version": "1.5.0",
      "model_name": "HTMLModel",
      "state": {
       "layout": "IPY_MODEL_56f1fdaa4d0a45ef903bdd0c2934fa96",
       "style": "IPY_MODEL_f74323266cd5439e8889fca892c515cd",
       "value": " 1080/1080 [00:53&lt;00:00, 20.12it/s]"
      }
     },
     "9f19ffec020c4fd6ad815eac4ad621f1": {
      "model_module": "@jupyter-widgets/controls",
      "model_module_version": "1.5.0",
      "model_name": "HTMLModel",
      "state": {
       "layout": "IPY_MODEL_6ae9d298b1944e37ac0ac7760c4454bd",
       "style": "IPY_MODEL_e614c7eaf1a04d999c8d84c258c24a91",
       "value": " 54404/54404 [01:13&lt;00:00, 736.24it/s]"
      }
     },
     "9fb7a3e3bddb4a6e8575c0f84be76682": {
      "model_module": "@jupyter-widgets/controls",
      "model_module_version": "1.5.0",
      "model_name": "HTMLModel",
      "state": {
       "layout": "IPY_MODEL_af95d8679dfc4241a5595af6b78fb191",
       "style": "IPY_MODEL_cacd6c27bf0140d29288188068ba36c8",
       "value": " 1080/1080 [00:41&lt;00:00, 25.99it/s]"
      }
     },
     "a8d5cb51111245dc852cf6d82ec65af3": {
      "model_module": "@jupyter-widgets/controls",
      "model_module_version": "1.5.0",
      "model_name": "ProgressStyleModel",
      "state": {
       "description_width": "initial"
      }
     },
     "a9aac78aa4e1403a88722f19bbaf3736": {
      "model_module": "@jupyter-widgets/base",
      "model_module_version": "1.2.0",
      "model_name": "LayoutModel",
      "state": {}
     },
     "aa038197b9ea48078ee208b4866cc9b2": {
      "model_module": "@jupyter-widgets/base",
      "model_module_version": "1.2.0",
      "model_name": "LayoutModel",
      "state": {}
     },
     "ac8002e8ac0d43f5984985f22a70f7b4": {
      "model_module": "@jupyter-widgets/base",
      "model_module_version": "1.2.0",
      "model_name": "LayoutModel",
      "state": {}
     },
     "ae719a9e1d1144b88977c2ca24524149": {
      "model_module": "@jupyter-widgets/base",
      "model_module_version": "1.2.0",
      "model_name": "LayoutModel",
      "state": {}
     },
     "af95d8679dfc4241a5595af6b78fb191": {
      "model_module": "@jupyter-widgets/base",
      "model_module_version": "1.2.0",
      "model_name": "LayoutModel",
      "state": {}
     },
     "b0c404ba9e534008a062bc1df73e00e2": {
      "model_module": "@jupyter-widgets/base",
      "model_module_version": "1.2.0",
      "model_name": "LayoutModel",
      "state": {}
     },
     "b1b0f0d12602417e9f2576ec69a9ce43": {
      "model_module": "@jupyter-widgets/controls",
      "model_module_version": "1.5.0",
      "model_name": "HTMLModel",
      "state": {
       "layout": "IPY_MODEL_a9aac78aa4e1403a88722f19bbaf3736",
       "style": "IPY_MODEL_4b0431f5fd4d4122b15c6a719d4cbe2a",
       "value": " 54404/54404 [01:13&lt;00:00, 735.43it/s]"
      }
     },
     "b757ed952a9d486fa7a37bc574536832": {
      "model_module": "@jupyter-widgets/controls",
      "model_module_version": "1.5.0",
      "model_name": "ProgressStyleModel",
      "state": {
       "description_width": "initial"
      }
     },
     "b789ad9feeb9492abd21750cbf13485d": {
      "model_module": "@jupyter-widgets/controls",
      "model_module_version": "1.5.0",
      "model_name": "HBoxModel",
      "state": {
       "children": [
        "IPY_MODEL_eae6a738366042a48364ea05b6d99522",
        "IPY_MODEL_e900bb482cdf4ca38dbf1adf057790be"
       ],
       "layout": "IPY_MODEL_78e8e4b82eaf466bafdd8e7d39b1010c"
      }
     },
     "b7f930c9c92946cd81d7d70cd4769616": {
      "model_module": "@jupyter-widgets/controls",
      "model_module_version": "1.5.0",
      "model_name": "ProgressStyleModel",
      "state": {
       "description_width": "initial"
      }
     },
     "b88c6de73384477abb6afd2e93eed85d": {
      "model_module": "@jupyter-widgets/controls",
      "model_module_version": "1.5.0",
      "model_name": "FloatProgressModel",
      "state": {
       "bar_style": "success",
       "description": "100%",
       "layout": "IPY_MODEL_736c15b2871647a2a556f64f4277a4d4",
       "max": 54404,
       "style": "IPY_MODEL_a8d5cb51111245dc852cf6d82ec65af3",
       "value": 54404
      }
     },
     "bb4fd7b1f691458b81bf0e582f236f4f": {
      "model_module": "@jupyter-widgets/controls",
      "model_module_version": "1.5.0",
      "model_name": "HTMLModel",
      "state": {
       "layout": "IPY_MODEL_c99f6e30edb44f4f8f1c2c3a09ec9a3c",
       "style": "IPY_MODEL_ca52366a77e84ba2bdfbf81ad09dd976",
       "value": " 54404/54404 [01:13&lt;00:00, 739.45it/s]"
      }
     },
     "bb8945d47283432184c4bb9ec975abfc": {
      "model_module": "@jupyter-widgets/base",
      "model_module_version": "1.2.0",
      "model_name": "LayoutModel",
      "state": {}
     },
     "c13b400ad0c04eeeb4b58492d35f1613": {
      "model_module": "@jupyter-widgets/controls",
      "model_module_version": "1.5.0",
      "model_name": "HBoxModel",
      "state": {
       "children": [
        "IPY_MODEL_3c845b383ebb400a8870b7723735df43",
        "IPY_MODEL_e1ecdd903368458c972bd552e14a2664"
       ],
       "layout": "IPY_MODEL_f336973b98114fd991c9159dea600047"
      }
     },
     "c14d02e408e64ec49cfb25d075018c82": {
      "model_module": "@jupyter-widgets/controls",
      "model_module_version": "1.5.0",
      "model_name": "DescriptionStyleModel",
      "state": {
       "description_width": ""
      }
     },
     "c1711f38c0f649ea93f0455ddcee731f": {
      "model_module": "@jupyter-widgets/controls",
      "model_module_version": "1.5.0",
      "model_name": "ProgressStyleModel",
      "state": {
       "description_width": "initial"
      }
     },
     "c654f16f8c2143b7a45125b4b8b6f7b6": {
      "model_module": "@jupyter-widgets/controls",
      "model_module_version": "1.5.0",
      "model_name": "DescriptionStyleModel",
      "state": {
       "description_width": ""
      }
     },
     "c99f6e30edb44f4f8f1c2c3a09ec9a3c": {
      "model_module": "@jupyter-widgets/base",
      "model_module_version": "1.2.0",
      "model_name": "LayoutModel",
      "state": {}
     },
     "ca52366a77e84ba2bdfbf81ad09dd976": {
      "model_module": "@jupyter-widgets/controls",
      "model_module_version": "1.5.0",
      "model_name": "DescriptionStyleModel",
      "state": {
       "description_width": ""
      }
     },
     "cacd6c27bf0140d29288188068ba36c8": {
      "model_module": "@jupyter-widgets/controls",
      "model_module_version": "1.5.0",
      "model_name": "DescriptionStyleModel",
      "state": {
       "description_width": ""
      }
     },
     "cf2e01f46e4648719127f85aa3cc9857": {
      "model_module": "@jupyter-widgets/base",
      "model_module_version": "1.2.0",
      "model_name": "LayoutModel",
      "state": {}
     },
     "d433ec3ab57445959373132679e4a7de": {
      "model_module": "@jupyter-widgets/base",
      "model_module_version": "1.2.0",
      "model_name": "LayoutModel",
      "state": {}
     },
     "d4c925fe864448f3b3b6b1c829021618": {
      "model_module": "@jupyter-widgets/controls",
      "model_module_version": "1.5.0",
      "model_name": "ProgressStyleModel",
      "state": {
       "description_width": "initial"
      }
     },
     "d92bf18225aa4456be58160b521f607f": {
      "model_module": "@jupyter-widgets/base",
      "model_module_version": "1.2.0",
      "model_name": "LayoutModel",
      "state": {}
     },
     "dd953a20354a43cd92f2e445d5394dbf": {
      "model_module": "@jupyter-widgets/base",
      "model_module_version": "1.2.0",
      "model_name": "LayoutModel",
      "state": {}
     },
     "dfcfb5b728e64d50938fb47cda7c18dd": {
      "model_module": "@jupyter-widgets/base",
      "model_module_version": "1.2.0",
      "model_name": "LayoutModel",
      "state": {}
     },
     "e1ecdd903368458c972bd552e14a2664": {
      "model_module": "@jupyter-widgets/controls",
      "model_module_version": "1.5.0",
      "model_name": "HTMLModel",
      "state": {
       "layout": "IPY_MODEL_e7fa4dffcfe9416582dd66c2fc9b9785",
       "style": "IPY_MODEL_e783ed588e524b9abf889f85634e96d5",
       "value": " 1080/1080 [03:31&lt;00:00,  5.10it/s]"
      }
     },
     "e213006180a442b2af5d8284633ddfef": {
      "model_module": "@jupyter-widgets/controls",
      "model_module_version": "1.5.0",
      "model_name": "ProgressStyleModel",
      "state": {
       "description_width": "initial"
      }
     },
     "e267c04e84be44409271ece8c0e4c19a": {
      "model_module": "@jupyter-widgets/base",
      "model_module_version": "1.2.0",
      "model_name": "LayoutModel",
      "state": {}
     },
     "e454c6c2890c4084acc85983dce47fc4": {
      "model_module": "@jupyter-widgets/controls",
      "model_module_version": "1.5.0",
      "model_name": "FloatProgressModel",
      "state": {
       "bar_style": "success",
       "description": "100%",
       "layout": "IPY_MODEL_366d29ede43645aba4c8946cd9553dca",
       "max": 1080,
       "style": "IPY_MODEL_c1711f38c0f649ea93f0455ddcee731f",
       "value": 1080
      }
     },
     "e614c7eaf1a04d999c8d84c258c24a91": {
      "model_module": "@jupyter-widgets/controls",
      "model_module_version": "1.5.0",
      "model_name": "DescriptionStyleModel",
      "state": {
       "description_width": ""
      }
     },
     "e783ed588e524b9abf889f85634e96d5": {
      "model_module": "@jupyter-widgets/controls",
      "model_module_version": "1.5.0",
      "model_name": "DescriptionStyleModel",
      "state": {
       "description_width": ""
      }
     },
     "e7fa4dffcfe9416582dd66c2fc9b9785": {
      "model_module": "@jupyter-widgets/base",
      "model_module_version": "1.2.0",
      "model_name": "LayoutModel",
      "state": {}
     },
     "e900bb482cdf4ca38dbf1adf057790be": {
      "model_module": "@jupyter-widgets/controls",
      "model_module_version": "1.5.0",
      "model_name": "HTMLModel",
      "state": {
       "layout": "IPY_MODEL_67c2f837fd494a209cd1149005350c08",
       "style": "IPY_MODEL_c14d02e408e64ec49cfb25d075018c82",
       "value": " 54404/54404 [01:14&lt;00:00, 726.27it/s]"
      }
     },
     "ea85ab1c5e99411c8b72c69f140fcf63": {
      "model_module": "@jupyter-widgets/controls",
      "model_module_version": "1.5.0",
      "model_name": "ProgressStyleModel",
      "state": {
       "description_width": "initial"
      }
     },
     "eaae4616cb964353ae71d232acaf04a5": {
      "model_module": "@jupyter-widgets/controls",
      "model_module_version": "1.5.0",
      "model_name": "HBoxModel",
      "state": {
       "children": [
        "IPY_MODEL_8ab41df5d90d45fbbb292d7d052e94c2",
        "IPY_MODEL_6f00736114674d6fa4235fab7ea66987"
       ],
       "layout": "IPY_MODEL_ed2264d38f794ccfaa7373cf282e12e7"
      }
     },
     "eae6a738366042a48364ea05b6d99522": {
      "model_module": "@jupyter-widgets/controls",
      "model_module_version": "1.5.0",
      "model_name": "FloatProgressModel",
      "state": {
       "bar_style": "success",
       "description": "100%",
       "layout": "IPY_MODEL_05cd2d8f5b15457fbeb14dda0bfc2e46",
       "max": 54404,
       "style": "IPY_MODEL_b7f930c9c92946cd81d7d70cd4769616",
       "value": 54404
      }
     },
     "ecc71ceb48c249ca9735b32b3fae40c9": {
      "model_module": "@jupyter-widgets/controls",
      "model_module_version": "1.5.0",
      "model_name": "HBoxModel",
      "state": {
       "children": [
        "IPY_MODEL_f61bc90e20114d0c97eb08ddeb057ad6",
        "IPY_MODEL_4e5cc1bc2777405dbd8829fce162fca1"
       ],
       "layout": "IPY_MODEL_d433ec3ab57445959373132679e4a7de"
      }
     },
     "ed2264d38f794ccfaa7373cf282e12e7": {
      "model_module": "@jupyter-widgets/base",
      "model_module_version": "1.2.0",
      "model_name": "LayoutModel",
      "state": {}
     },
     "f201d480ab45492894affaa7dacc71e6": {
      "model_module": "@jupyter-widgets/controls",
      "model_module_version": "1.5.0",
      "model_name": "FloatProgressModel",
      "state": {
       "bar_style": "success",
       "description": "100%",
       "layout": "IPY_MODEL_ae719a9e1d1144b88977c2ca24524149",
       "max": 1080,
       "style": "IPY_MODEL_d4c925fe864448f3b3b6b1c829021618",
       "value": 1080
      }
     },
     "f2d2ce28af8445e6b6997326e9585282": {
      "model_module": "@jupyter-widgets/controls",
      "model_module_version": "1.5.0",
      "model_name": "DescriptionStyleModel",
      "state": {
       "description_width": ""
      }
     },
     "f336973b98114fd991c9159dea600047": {
      "model_module": "@jupyter-widgets/base",
      "model_module_version": "1.2.0",
      "model_name": "LayoutModel",
      "state": {}
     },
     "f61bc90e20114d0c97eb08ddeb057ad6": {
      "model_module": "@jupyter-widgets/controls",
      "model_module_version": "1.5.0",
      "model_name": "FloatProgressModel",
      "state": {
       "bar_style": "success",
       "description": "100%",
       "layout": "IPY_MODEL_f99856ae41ee4d53aab555edf95cb659",
       "max": 1080,
       "style": "IPY_MODEL_401964b01792439f923bfad8b3a96923",
       "value": 1080
      }
     },
     "f74323266cd5439e8889fca892c515cd": {
      "model_module": "@jupyter-widgets/controls",
      "model_module_version": "1.5.0",
      "model_name": "DescriptionStyleModel",
      "state": {
       "description_width": ""
      }
     },
     "f766ce281f2b439c9f477a1fd9375542": {
      "model_module": "@jupyter-widgets/controls",
      "model_module_version": "1.5.0",
      "model_name": "HTMLModel",
      "state": {
       "layout": "IPY_MODEL_606d96232d354b0fa8b740c7ea160fb8",
       "style": "IPY_MODEL_30ecdd1e161145f3b0cea2da2b5ed087",
       "value": " 54404/54404 [01:20&lt;00:00, 671.68it/s]"
      }
     },
     "f99856ae41ee4d53aab555edf95cb659": {
      "model_module": "@jupyter-widgets/base",
      "model_module_version": "1.2.0",
      "model_name": "LayoutModel",
      "state": {}
     },
     "f9ad36f7b07b41559ec3fa99d3a27589": {
      "model_module": "@jupyter-widgets/controls",
      "model_module_version": "1.5.0",
      "model_name": "HBoxModel",
      "state": {
       "children": [
        "IPY_MODEL_28a919f2abbc48fcaf8b76eed040e97f",
        "IPY_MODEL_9f19ffec020c4fd6ad815eac4ad621f1"
       ],
       "layout": "IPY_MODEL_aa038197b9ea48078ee208b4866cc9b2"
      }
     }
    },
    "version_major": 2,
    "version_minor": 0
   }
  }
 },
 "nbformat": 4,
 "nbformat_minor": 4
}
