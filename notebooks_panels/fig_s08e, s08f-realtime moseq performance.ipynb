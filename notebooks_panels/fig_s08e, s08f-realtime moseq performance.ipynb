{
 "cells": [
  {
   "cell_type": "code",
   "execution_count": 31,
   "metadata": {},
   "outputs": [],
   "source": [
    "import matplotlib.pyplot as plt\n",
    "import numpy as np\n",
    "import os\n",
    "import pandas as pd\n",
    "import seaborn as sns\n",
    "\n",
    "from rl_analysis.plotting import (\n",
    "    setup_plotting_env,\n",
    "    syllable_aliases,\n",
    "    clean_ticks,\n",
    "    savefig\n",
    ")\n",
    "\n",
    "from rl_analysis.util import rle, count_transitions\n",
    "from rl_analysis.io.df import get_closed_loop_parquet_columns"
   ]
  },
  {
   "cell_type": "code",
   "execution_count": 2,
   "metadata": {},
   "outputs": [],
   "source": [
    "targets = [20, 27, 59, 76, 17, 30]\n",
    "force = False\n",
    "\n",
    "nlags = 3\n",
    "eps = 1e-9\n",
    "burn_in = 0"
   ]
  },
  {
   "cell_type": "code",
   "execution_count": 3,
   "metadata": {},
   "outputs": [],
   "source": [
    "import toml\n",
    "\n",
    "with open(\"../analysis_configuration.toml\", \"r\") as f:\n",
    "    analysis_config = toml.load(f)"
   ]
  },
  {
   "cell_type": "code",
   "execution_count": 9,
   "metadata": {},
   "outputs": [],
   "source": [
    "raw_dirs = analysis_config[\"raw_data\"]\n",
    "proc_dirs = analysis_config[\"intermediate_results\"]\n",
    "dlight_cfg = analysis_config[\"dlight_basic_analysis\"]\n",
    "dlight_common_cfg = analysis_config[\"dlight_common\"]\n",
    "figure_cfg = analysis_config[\"figures\"]\n",
    "# dask_address = analysis_config[\"dask\"].get(\"address\")"
   ]
  },
  {
   "cell_type": "markdown",
   "metadata": {},
   "source": [
    "# Use actual calls..."
   ]
  },
  {
   "cell_type": "code",
   "execution_count": 10,
   "metadata": {},
   "outputs": [],
   "source": [
    "save_file = os.path.join(\n",
    "    raw_dirs[\"misc\"], \"f1_scores_estimates_actual_calls.parquet\"\n",
    ")"
   ]
  },
  {
   "cell_type": "code",
   "execution_count": 11,
   "metadata": {},
   "outputs": [],
   "source": [
    "call_df = pd.read_parquet(save_file)"
   ]
  },
  {
   "cell_type": "code",
   "execution_count": 12,
   "metadata": {},
   "outputs": [],
   "source": [
    "rle_call_df = call_df.drop_duplicates([\"uuid\", \"syllable_num\"]).copy()\n",
    "rle_call_df.index = range(len(rle_call_df))\n",
    "any_feedback_calls = (\n",
    "    call_df.groupby([\"uuid\", \"syllable_num\"])[\"feedback_call\"]\n",
    "    .any()\n",
    "    .rename(\"is_feedback\")\n",
    ")"
   ]
  },
  {
   "cell_type": "code",
   "execution_count": 13,
   "metadata": {},
   "outputs": [],
   "source": [
    "# allow ourselves a little slop...\n",
    "rle_call_df[\"is_prev_target\"] = rle_call_df.groupby(\"uuid\")[\"is_target\"].shift(\n",
    "    +1, fill_value=False\n",
    ")\n",
    "rle_call_df[\"is_target\"] = rle_call_df[\"is_target\"] | rle_call_df[\"is_prev_target\"]"
   ]
  },
  {
   "cell_type": "code",
   "execution_count": 14,
   "metadata": {},
   "outputs": [],
   "source": [
    "# turn into RLE, group by mouse etc. etc.\n",
    "# count everything on RLE basis"
   ]
  },
  {
   "cell_type": "code",
   "execution_count": 15,
   "metadata": {},
   "outputs": [],
   "source": [
    "rle_call_df = pd.concat(\n",
    "    [rle_call_df.set_index([\"uuid\", \"syllable_num\"]), any_feedback_calls], axis=1\n",
    ")\n",
    "rle_call_df = rle_call_df.reset_index()\n",
    "feedback_counts = rle_call_df.groupby(\n",
    "    [\"is_feedback\", \"area\", \"mouse_id\", \"opsin\", \"target_syllable\"]\n",
    ")[\"is_target\"].value_counts()"
   ]
  },
  {
   "cell_type": "code",
   "execution_count": 16,
   "metadata": {},
   "outputs": [],
   "source": [
    "true_positives = feedback_counts.xs((True, True), level=(\"is_feedback\", \"is_target\"))\n",
    "false_positives = feedback_counts.xs((True, False), level=(\"is_feedback\", \"is_target\"))\n",
    "true_negatives = feedback_counts.xs((False, False), level=(\"is_feedback\", \"is_target\"))\n",
    "false_negatives = feedback_counts.xs((False, True), level=(\"is_feedback\", \"is_target\"))"
   ]
  },
  {
   "cell_type": "code",
   "execution_count": 17,
   "metadata": {},
   "outputs": [],
   "source": [
    "precision = true_positives / (true_positives + false_positives)\n",
    "recall = true_positives / (true_positives + false_negatives)\n",
    "false_discovery = false_positives / (false_positives + true_positives)"
   ]
  },
  {
   "cell_type": "code",
   "execution_count": 18,
   "metadata": {},
   "outputs": [],
   "source": [
    "f1_score = lambda p, r: (2 * (p * r)) / (p + r + 0.01)\n",
    "f1_score_df = f1_score(precision, recall).rename(\"f1_score\")"
   ]
  },
  {
   "cell_type": "code",
   "execution_count": 19,
   "metadata": {},
   "outputs": [],
   "source": [
    "learner_dct = toml.load(\n",
    "    os.path.join(proc_dirs[\"closed_loop_behavior\"], \"closed_loop_learners.toml\")\n",
    ")\n",
    "learners = []\n",
    "for k, v in learner_dct.items():\n",
    "    learners += v[\"learners\"]"
   ]
  },
  {
   "cell_type": "code",
   "execution_count": 20,
   "metadata": {},
   "outputs": [],
   "source": [
    "x = \"precision\"\n",
    "learning_y = \"log2_fold_change_count\""
   ]
  },
  {
   "cell_type": "code",
   "execution_count": 21,
   "metadata": {},
   "outputs": [],
   "source": [
    "norm_df = pd.read_parquet(\n",
    "    os.path.join(\n",
    "        raw_dirs[\"closed_loop_behavior\"], \"learning_aggregate.parquet\"\n",
    "    )\n",
    ")"
   ]
  },
  {
   "cell_type": "code",
   "execution_count": 22,
   "metadata": {},
   "outputs": [
    {
     "name": "stderr",
     "output_type": "stream",
     "text": [
      "/tmp/ipykernel_1598940/3293482174.py:8: FutureWarning: The default value of numeric_only in DataFrameGroupBy.mean is deprecated. In a future version, numeric_only will default to False. Either specify numeric_only or select only columns which should be valid for the function.\n",
      "  .mean()[learning_y]\n"
     ]
    }
   ],
   "source": [
    "learning_norm_df = (\n",
    "    norm_df.loc[\n",
    "        (norm_df[\"session_number\"].isin([1, 2]))\n",
    "    ]\n",
    "    .groupby(\n",
    "        [\"area\", \"target_syllable\", \"syllable\", \"mouse_id\", \"opsin\", \"session_number\"]\n",
    "    )\n",
    "    .mean()[learning_y]\n",
    ")"
   ]
  },
  {
   "cell_type": "code",
   "execution_count": 23,
   "metadata": {},
   "outputs": [],
   "source": [
    "group_keys = [\"area\", \"target_syllable\", \"mouse_id\", \"opsin\"]"
   ]
  },
  {
   "cell_type": "code",
   "execution_count": 24,
   "metadata": {},
   "outputs": [],
   "source": [
    "on_target_learning = learning_norm_df.loc[\n",
    "    learning_norm_df.index.get_level_values(\"syllable\")\n",
    "    == learning_norm_df.index.get_level_values(\"target_syllable\")\n",
    "]\n",
    "on_target_learning.index = on_target_learning.index.droplevel(\"syllable\")"
   ]
  },
  {
   "cell_type": "code",
   "execution_count": 25,
   "metadata": {},
   "outputs": [],
   "source": [
    "compare_df = pd.concat(\n",
    "    [\n",
    "        f1_score_df.groupby(group_keys).mean(),\n",
    "        false_positives.groupby(group_keys).mean().rename(\"false_positives\"),\n",
    "        false_discovery.groupby(group_keys).mean().rename(\"false_discovery\"),\n",
    "        precision.groupby(group_keys).mean().rename(\"precision\"),\n",
    "        recall.groupby(group_keys).mean().rename(\"recall\"),\n",
    "    ],\n",
    "    axis=1,\n",
    ").dropna()"
   ]
  },
  {
   "cell_type": "code",
   "execution_count": 26,
   "metadata": {},
   "outputs": [],
   "source": [
    "compare_df = compare_df.join(on_target_learning)"
   ]
  },
  {
   "cell_type": "code",
   "execution_count": 27,
   "metadata": {},
   "outputs": [],
   "source": [
    "compare_df.loc[\n",
    "    compare_df.index.get_level_values(\"mouse_id\").isin(learners), \"learner\"\n",
    "] = True\n",
    "compare_df[\"learner\"] = compare_df[\"learner\"].fillna(False)\n",
    "compare_df = compare_df.set_index(\"learner\", append=True)"
   ]
  },
  {
   "cell_type": "code",
   "execution_count": 28,
   "metadata": {},
   "outputs": [],
   "source": [
    "aliases = {\n",
    "    \"f1_score\": \"F1 score\",\n",
    "    \"precision\": \"precision\",\n",
    "    \"recall\": \"recall\",\n",
    "    \"false_discovery\": \"False discovery rate\",\n",
    "    \"false_positives\": \"False positives\",\n",
    "}"
   ]
  },
  {
   "cell_type": "code",
   "execution_count": 32,
   "metadata": {},
   "outputs": [],
   "source": [
    "fname = os.path.join(raw_dirs[\"closed_loop_behavior\"], \"closed_loop_behavior.parquet\")\n",
    "cols = get_closed_loop_parquet_columns(fname, pcs=False, likes=False)"
   ]
  },
  {
   "cell_type": "code",
   "execution_count": 33,
   "metadata": {},
   "outputs": [],
   "source": [
    "feedback_df = pd.read_parquet(\n",
    "    fname,\n",
    "    filters=[\n",
    "        (\"experiment_type\", \"=\", \"reinforcement\"),\n",
    "        (\"area\", \"in\", [\"ctrl\", \"snc (axon)\"]),\n",
    "    ],\n",
    ").sort_index()\n",
    "# filters out any sessions that where prematurely cut off"
   ]
  },
  {
   "cell_type": "code",
   "execution_count": 34,
   "metadata": {},
   "outputs": [],
   "source": [
    "feedback_df = feedback_df[feedback_df[\"date\"].dt.dayofweek == 0].copy()"
   ]
  },
  {
   "cell_type": "code",
   "execution_count": 35,
   "metadata": {},
   "outputs": [],
   "source": [
    "rle_df = feedback_df.groupby(\"uniq_id\")[\"predicted_syllable\"].apply(rle)"
   ]
  },
  {
   "cell_type": "code",
   "execution_count": 36,
   "metadata": {},
   "outputs": [],
   "source": [
    "rle_df = feedback_df.loc[rle_df.index.get_level_values(-1)]"
   ]
  },
  {
   "cell_type": "code",
   "execution_count": 37,
   "metadata": {},
   "outputs": [],
   "source": [
    "tms = rle_df.groupby([\"mouse_id\", \"uniq_id\"], observed=True)[\n",
    "    \"predicted_syllable\"\n",
    "].apply(lambda x: count_transitions(x, K=100))"
   ]
  },
  {
   "cell_type": "code",
   "execution_count": 38,
   "metadata": {},
   "outputs": [],
   "source": [
    "tm = tms.groupby(\"mouse_id\", observed=True).apply(np.mean)"
   ]
  },
  {
   "cell_type": "code",
   "execution_count": 39,
   "metadata": {},
   "outputs": [],
   "source": [
    "tm_p_out = tm.apply(lambda x: x / (x.sum(axis=1, keepdims=True) + 0.01))\n",
    "tm_p_in = tm.apply(lambda x: x / (x.sum(axis=0, keepdims=True) + 0.01))"
   ]
  },
  {
   "cell_type": "code",
   "execution_count": 40,
   "metadata": {},
   "outputs": [],
   "source": [
    "# build out TMs..."
   ]
  },
  {
   "cell_type": "markdown",
   "metadata": {},
   "source": [
    "## Build a confusion matrix among targets"
   ]
  },
  {
   "cell_type": "code",
   "execution_count": 41,
   "metadata": {},
   "outputs": [],
   "source": [
    "rle_call_df.dropna(subset=[\"true_labels\", \"target_syllable\"], inplace=True)\n",
    "rle_call_df = rle_call_df.loc[rle_call_df[\"true_labels\"].astype(\"int\") > 0].copy()"
   ]
  },
  {
   "cell_type": "code",
   "execution_count": 42,
   "metadata": {},
   "outputs": [],
   "source": [
    "rle_call_df[\"true_labels\"] = rle_call_df[\"true_labels\"].astype(\"int\").astype(\"category\")\n",
    "rle_call_df[\"target_syllable\"] = (\n",
    "    rle_call_df[\"target_syllable\"].astype(\"int\").astype(\"category\")\n",
    ")\n",
    "rle_call_df[\"in_targets\"] = rle_call_df[\"true_labels\"].isin(targets)"
   ]
  },
  {
   "cell_type": "code",
   "execution_count": 43,
   "metadata": {},
   "outputs": [],
   "source": [
    "rle_call_df[\"true_labels_censored\"] = rle_call_df[\"true_labels\"].copy()"
   ]
  },
  {
   "cell_type": "code",
   "execution_count": 44,
   "metadata": {},
   "outputs": [],
   "source": [
    "mask = rle_call_df[\"is_prev_target\"] & rle_call_df[\"is_feedback\"]"
   ]
  },
  {
   "cell_type": "code",
   "execution_count": 45,
   "metadata": {},
   "outputs": [],
   "source": [
    "rle_call_df.loc[mask, \"true_labels_censored\"] = np.nan\n",
    "rle_call_df.loc[mask, \"true_labels_censored\"] = rle_call_df.groupby(\"uuid\")[\n",
    "    \"true_labels\"\n",
    "].shift(+1)[mask]"
   ]
  },
  {
   "cell_type": "code",
   "execution_count": 46,
   "metadata": {},
   "outputs": [],
   "source": [
    "all_syllables = rle_call_df[\"true_labels\"].cat.categories"
   ]
  },
  {
   "cell_type": "code",
   "execution_count": 47,
   "metadata": {},
   "outputs": [],
   "source": [
    "feedback_counts = (\n",
    "    rle_call_df.groupby(\n",
    "        [\"is_feedback\", \"area\", \"mouse_id\", \"opsin\", \"target_syllable\"]\n",
    "    )[\"true_labels_censored\"]\n",
    "    .value_counts(dropna=False)\n",
    "    .rename(\"count\")\n",
    ")"
   ]
  },
  {
   "cell_type": "code",
   "execution_count": 48,
   "metadata": {},
   "outputs": [],
   "source": [
    "feedback_counts.index = feedback_counts.index.set_names(\"true_labels\", level=-1)"
   ]
  },
  {
   "cell_type": "code",
   "execution_count": 49,
   "metadata": {},
   "outputs": [],
   "source": [
    "feedback_counts = feedback_counts.xs(True, level=\"is_feedback\")"
   ]
  },
  {
   "cell_type": "code",
   "execution_count": 50,
   "metadata": {},
   "outputs": [],
   "source": [
    "feedback_counts = feedback_counts.reindex(\n",
    "    all_syllables, level=\"true_labels\", fill_value=0\n",
    ")"
   ]
  },
  {
   "cell_type": "code",
   "execution_count": 51,
   "metadata": {},
   "outputs": [],
   "source": [
    "target_counts = feedback_counts.loc[\n",
    "    feedback_counts.index.get_level_values(\"true_labels\").isin(targets)\n",
    "]\n",
    "nontarget_counts = feedback_counts.loc[\n",
    "    ~feedback_counts.index.get_level_values(\"true_labels\").isin(targets)\n",
    "]"
   ]
  },
  {
   "cell_type": "code",
   "execution_count": 52,
   "metadata": {},
   "outputs": [],
   "source": [
    "all_counts = feedback_counts.loc[\n",
    "    feedback_counts.index.get_level_values(\"true_labels\").astype(\"int\")\n",
    "    != feedback_counts.index.get_level_values(\"target_syllable\").astype(\"int\")\n",
    "]"
   ]
  },
  {
   "cell_type": "code",
   "execution_count": 53,
   "metadata": {},
   "outputs": [],
   "source": [
    "all_counts = all_counts.reset_index().set_index(\n",
    "    [\"target_syllable\", \"true_labels\", \"opsin\", \"mouse_id\", \"area\"]\n",
    ")"
   ]
  },
  {
   "cell_type": "code",
   "execution_count": 55,
   "metadata": {},
   "outputs": [],
   "source": [
    "ave_tm_p_out = tm_p_out.mean()\n",
    "ave_tm_p_in = tm_p_in.mean()"
   ]
  },
  {
   "cell_type": "code",
   "execution_count": 56,
   "metadata": {},
   "outputs": [
    {
     "name": "stdout",
     "output_type": "stream",
     "text": [
      "[74, 27, 12]\n",
      "[20, 5, 22]\n",
      "[8, 43, 76, 45, 13, 85]\n",
      "[8, 59, 43, 27]\n",
      "[41, 27, 5, 22]\n",
      "[67]\n"
     ]
    },
    {
     "name": "stderr",
     "output_type": "stream",
     "text": [
      "/tmp/ipykernel_1598940/1818967230.py:7: PerformanceWarning: indexing past lexsort depth may impact performance.\n",
      "  all_counts.loc[_target, _exclude] = np.nan\n"
     ]
    }
   ],
   "source": [
    "for _target in targets:\n",
    "\n",
    "    exclude_out = np.flatnonzero(ave_tm_p_out[_target] > 0.1)\n",
    "    exclude_in = np.flatnonzero(ave_tm_p_in[:, _target] > 0.1)\n",
    "    exclude = list(set(list(exclude_out) + list(exclude_in)))\n",
    "    for _exclude in exclude:\n",
    "        all_counts.loc[_target, _exclude] = np.nan\n",
    "    print(exclude)"
   ]
  },
  {
   "cell_type": "code",
   "execution_count": 57,
   "metadata": {},
   "outputs": [],
   "source": [
    "average_off_target_count = all_counts.groupby([\"target_syllable\", \"true_labels\"]).sum()[\n",
    "    \"count\"\n",
    "]"
   ]
  },
  {
   "cell_type": "code",
   "execution_count": 58,
   "metadata": {},
   "outputs": [],
   "source": [
    "average_off_target_rank = (\n",
    "    average_off_target_count.groupby(\"target_syllable\")\n",
    "    .apply(lambda x: x.loc[x > 0].dropna().rank(ascending=False, method=\"dense\"))\n",
    "    .rename(\"rank\")\n",
    ")\n",
    "average_off_target_rank.index = average_off_target_rank.index.droplevel(0)"
   ]
  },
  {
   "cell_type": "code",
   "execution_count": 59,
   "metadata": {},
   "outputs": [],
   "source": [
    "syllable_confusion_df = pd.concat(\n",
    "    [average_off_target_rank, average_off_target_count], axis=1\n",
    ")"
   ]
  },
  {
   "cell_type": "code",
   "execution_count": 60,
   "metadata": {},
   "outputs": [],
   "source": [
    "most_confused_syllables = syllable_confusion_df[\"rank\"]"
   ]
  },
  {
   "cell_type": "code",
   "execution_count": 61,
   "metadata": {},
   "outputs": [],
   "source": [
    "nontarget_counts = (\n",
    "    nontarget_counts.groupby([\"mouse_id\", \"target_syllable\"])\n",
    "    .sum()\n",
    "    .groupby(\"target_syllable\")\n",
    "    .mean()\n",
    "    .rename(\"all_others\")\n",
    ")"
   ]
  },
  {
   "cell_type": "code",
   "execution_count": 62,
   "metadata": {},
   "outputs": [],
   "source": [
    "confusion_matrix = (\n",
    "    target_counts.groupby([\"target_syllable\", \"true_labels\"]).mean().unstack()\n",
    ")\n",
    "confusion_matrix = confusion_matrix.loc[targets, targets]\n",
    "confusion_matrix.columns = confusion_matrix.columns.map(syllable_aliases)\n",
    "\n",
    "confusion_matrix[\"others (ave.)\"] = nontarget_counts\n",
    "confusion_matrix.index = confusion_matrix.index.map(syllable_aliases)"
   ]
  },
  {
   "cell_type": "code",
   "execution_count": 63,
   "metadata": {},
   "outputs": [],
   "source": [
    "confusion_matrix.columns.name = \"Offline syllable call\"\n",
    "confusion_matrix.index.name = \"Online syllable call\""
   ]
  },
  {
   "cell_type": "code",
   "execution_count": 64,
   "metadata": {},
   "outputs": [],
   "source": [
    "setup_plotting_env()"
   ]
  },
  {
   "cell_type": "code",
   "execution_count": 67,
   "metadata": {},
   "outputs": [],
   "source": [
    "norm_matrix = confusion_matrix / confusion_matrix.to_numpy().sum(axis=1, keepdims=True)\n",
    "norm_matrix[norm_matrix < 1e-3] = 0"
   ]
  },
  {
   "cell_type": "code",
   "execution_count": 68,
   "metadata": {},
   "outputs": [],
   "source": [
    "target_colors = sns.color_palette(\"bright\", n_colors=len(targets))"
   ]
  },
  {
   "cell_type": "code",
   "execution_count": 70,
   "metadata": {},
   "outputs": [
    {
     "data": {
      "image/png": "[encoded data removed]",
      "text/plain": [
       "<Figure size 450x350 with 2 Axes>"
      ]
     },
     "metadata": {},
     "output_type": "display_data"
    }
   ],
   "source": [
    "fig, ax = plt.subplots(1, figsize=(2.25, 1.75))\n",
    "sns.heatmap(\n",
    "    norm_matrix,\n",
    "    annot=True,\n",
    "    fmt=\".2g\",\n",
    "    vmin=0,\n",
    "    vmax=1,\n",
    "    annot_kws={\"size\": 5},\n",
    "    cbar_kws={\"label\": \"Precision\"},\n",
    ")\n",
    "plt.xticks(rotation=45, ha=\"right\")\n",
    "plt.yticks(rotation=45, va=\"top\")\n",
    "[_.set_color(_color) for _, _color in zip(ax.get_xticklabels(), target_colors)]\n",
    "[_.set_color(_color) for _, _color in zip(ax.get_yticklabels(), target_colors)]\n",
    "\n",
    "savefig(\n",
    "    fig, os.path.join(figure_cfg[\"store_dir\"], \"online_syllable_call_precision_matrix\")\n",
    ")"
   ]
  },
  {
   "cell_type": "code",
   "execution_count": 71,
   "metadata": {},
   "outputs": [],
   "source": [
    "on_target_learning = learning_norm_df.loc[\n",
    "    learning_norm_df.index.get_level_values(\"syllable\")\n",
    "    == learning_norm_df.index.get_level_values(\"target_syllable\")\n",
    "]\n",
    "on_target_learning.index = on_target_learning.index.droplevel(\"syllable\")"
   ]
  },
  {
   "cell_type": "code",
   "execution_count": 73,
   "metadata": {},
   "outputs": [],
   "source": [
    "indices = on_target_learning.index.names\n",
    "on_target_learning = on_target_learning.reset_index()\n",
    "on_target_learning[\"rank\"] = 0\n",
    "on_target_learning = on_target_learning.set_index(list(indices) + [\"rank\"])\n",
    "on_target_learning = on_target_learning[learning_y]"
   ]
  },
  {
   "cell_type": "code",
   "execution_count": 74,
   "metadata": {},
   "outputs": [
    {
     "name": "stderr",
     "output_type": "stream",
     "text": [
      "/tmp/ipykernel_1598940/628585002.py:2: FutureWarning: iteritems is deprecated and will be removed in a future version. Use .items instead.\n",
      "  for tup in most_confused_syllables.iteritems():\n"
     ]
    }
   ],
   "source": [
    "dfs = []\n",
    "for tup in most_confused_syllables.iteritems():\n",
    "    # print(tup)\n",
    "    _df = learning_norm_df.xs(tup[0], level=(\"target_syllable\", \"syllable\"))\n",
    "    _df = _df.reset_index()\n",
    "    _df[\"target_syllable\"] = tup[0][0]\n",
    "    _df[\"rank\"] = tup[1]\n",
    "    _df = _df.set_index(on_target_learning.index.names)\n",
    "    dfs.append(_df)"
   ]
  },
  {
   "cell_type": "code",
   "execution_count": 75,
   "metadata": {},
   "outputs": [],
   "source": [
    "off_target_learning = pd.concat(dfs)[learning_y]"
   ]
  },
  {
   "cell_type": "code",
   "execution_count": 76,
   "metadata": {},
   "outputs": [],
   "source": [
    "compare_df = pd.concat(\n",
    "    [\n",
    "        f1_score_df.groupby(group_keys).mean(),\n",
    "        false_positives.groupby(group_keys).mean().rename(\"false_positives\"),\n",
    "        false_discovery.groupby(group_keys).mean().rename(\"false_discovery\"),\n",
    "        precision.groupby(group_keys).mean().rename(\"precision\"),\n",
    "        recall.groupby(group_keys).mean().rename(\"recall\"),\n",
    "    ],\n",
    "    axis=1,\n",
    ")"
   ]
  },
  {
   "cell_type": "code",
   "execution_count": 77,
   "metadata": {},
   "outputs": [],
   "source": [
    "compare_df = compare_df.join(pd.concat([on_target_learning, off_target_learning]))"
   ]
  },
  {
   "cell_type": "code",
   "execution_count": 78,
   "metadata": {},
   "outputs": [],
   "source": [
    "compare_df.loc[\n",
    "    compare_df.index.get_level_values(\"mouse_id\").isin(learners), \"learner\"\n",
    "] = True\n",
    "compare_df[\"learner\"] = compare_df[\"learner\"].fillna(False)\n",
    "compare_df = compare_df.set_index(\"learner\", append=True)"
   ]
  },
  {
   "cell_type": "code",
   "execution_count": 79,
   "metadata": {},
   "outputs": [],
   "source": [
    "dat = compare_df.xs(\"chr2\", level=\"opsin\").loc[\"snc (axon)\"]"
   ]
  },
  {
   "cell_type": "code",
   "execution_count": 81,
   "metadata": {},
   "outputs": [],
   "source": [
    "nmice = dat.index.get_level_values(\"mouse_id\").nunique()\n",
    "nsyllables = dat.index.get_level_values(\"target_syllable\").nunique()"
   ]
  },
  {
   "cell_type": "code",
   "execution_count": 82,
   "metadata": {},
   "outputs": [],
   "source": [
    "x = \"precision\"\n",
    "y = \"target_learning\""
   ]
  },
  {
   "cell_type": "code",
   "execution_count": 83,
   "metadata": {},
   "outputs": [],
   "source": [
    "show_syllables = 10"
   ]
  },
  {
   "cell_type": "code",
   "execution_count": 84,
   "metadata": {},
   "outputs": [],
   "source": [
    "plt_df = (\n",
    "    compare_df.xs((\"snc (axon)\", \"chr2\", True), level=(\"area\", \"opsin\", \"learner\"))\n",
    "    .groupby([\"mouse_id\", \"rank\", \"session_number\"])[\"log2_fold_change_count\"]\n",
    "    .mean()\n",
    ")"
   ]
  },
  {
   "cell_type": "code",
   "execution_count": 85,
   "metadata": {},
   "outputs": [],
   "source": [
    "plt_df = plt_df.loc[:, :show_syllables]"
   ]
  },
  {
   "cell_type": "code",
   "execution_count": 86,
   "metadata": {},
   "outputs": [],
   "source": [
    "ref = plt_df.groupby(\"mouse_id\").first()"
   ]
  },
  {
   "cell_type": "code",
   "execution_count": 87,
   "metadata": {},
   "outputs": [
    {
     "name": "stderr",
     "output_type": "stream",
     "text": [
      "/tmp/ipykernel_1598940/2107458566.py:5: FutureWarning: Not prepending group keys to the result index of transform-like apply. In the future, the group keys will be included in the index, regardless of whether the applied function returns a like-indexed object.\n",
      "To preserve the previous behavior, use\n",
      "\n",
      "\t>>> .groupby(..., group_keys=False)\n",
      "\n",
      "To adopt the future behavior and silence this warning, use \n",
      "\n",
      "\t>>> .groupby(..., group_keys=True)\n",
      "  .apply(lambda x: x.rolling(3, 1, True).mean())\n"
     ]
    }
   ],
   "source": [
    "plt_df = plt_df.sort_index()\n",
    "plt_df.loc[:, 1:] = (\n",
    "    plt_df.loc[:, 1:]\n",
    "    .groupby([\"mouse_id\", \"session_number\"])\n",
    "    .apply(lambda x: x.rolling(3, 1, True).mean())\n",
    ")"
   ]
  },
  {
   "cell_type": "code",
   "execution_count": 88,
   "metadata": {},
   "outputs": [],
   "source": [
    "plt_df = plt_df.reset_index()"
   ]
  },
  {
   "cell_type": "code",
   "execution_count": 89,
   "metadata": {},
   "outputs": [
    {
     "data": {
      "image/png": "[encoded data removed]",
      "text/plain": [
       "<Figure size 360x500 with 2 Axes>"
      ]
     },
     "metadata": {},
     "output_type": "display_data"
    }
   ],
   "source": [
    "g = sns.relplot(\n",
    "    data=plt_df,\n",
    "    x=\"rank\",\n",
    "    marker=\"o\",\n",
    "    row=\"session_number\",\n",
    "    y=\"log2_fold_change_count\",\n",
    "    kind=\"line\",\n",
    "    facet_kws={\"margin_titles\": True},\n",
    ")\n",
    "g.refline(y=0)\n",
    "g.fig.set_size_inches(1.8, 2.5)\n",
    "# g.axes.flat[0].set_ylim(-.5,.7)\n",
    "for _ax in g.axes.flat:\n",
    "    clean_ticks(_ax, \"y\", precision=1, zero_symmetry=False)\n",
    "# plt.xticks(rotation=45)\n",
    "plt.xlim(-0.5, show_syllables + 0.5)\n",
    "plt.xticks(\n",
    "    range(show_syllables + 1),\n",
    "    labels=[\"target\"] + list(range(1, show_syllables + 1)),\n",
    "    rotation=45,\n",
    "    ha=\"center\",\n",
    ")\n",
    "g.set_axis_labels(\"False positive rank\", \"\")\n",
    "g.fig.supylabel(\"Opto-DA learning (log2(fold change in counts))\", fontsize=7)\n",
    "g.fig.tight_layout()\n",
    "savefig(\n",
    "    g.fig,\n",
    "    os.path.join(figure_cfg[\"store_dir\"], f\"false_positive_ranked_optodalearning\"),\n",
    ")"
   ]
  },
  {
   "cell_type": "code",
   "execution_count": null,
   "metadata": {},
   "outputs": [],
   "source": []
  },
  {
   "cell_type": "code",
   "execution_count": null,
   "metadata": {},
   "outputs": [],
   "source": []
  }
 ],
 "metadata": {
  "kernelspec": {
   "display_name": "Python [conda env:spont-da]",
   "language": "python",
   "name": "conda-env-spont-da-py"
  },
  "language_info": {
   "codemirror_mode": {
    "name": "ipython",
    "version": 3
   },
   "file_extension": ".py",
   "mimetype": "text/x-python",
   "name": "python",
   "nbconvert_exporter": "python",
   "pygments_lexer": "ipython3",
   "version": "3.10.8"
  },
  "toc": {
   "base_numbering": 1,
   "nav_menu": {},
   "number_sections": true,
   "sideBar": true,
   "skip_h1_title": false,
   "title_cell": "Table of Contents",
   "title_sidebar": "Contents",
   "toc_cell": false,
   "toc_position": {},
   "toc_section_display": true,
   "toc_window_display": false
  }
 },
 "nbformat": 4,
 "nbformat_minor": 4
}
