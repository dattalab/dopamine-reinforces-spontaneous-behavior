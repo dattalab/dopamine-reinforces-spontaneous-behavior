{
 "cells": [
  {
   "cell_type": "code",
   "execution_count": 28,
   "metadata": {},
   "outputs": [],
   "source": [
    "from tqdm.auto import tqdm\n",
    "from rl_analysis.plotting import setup_plotting_env, geno_palette\n",
    "from rl_analysis.maya.process import (\n",
    "    TARGETS,\n",
    "    add_area,\n",
    "    add_trial_count,\n",
    "    add_onset_and_duration,\n",
    ")\n",
    "from rl_analysis.io.df import exclude_uuids\n",
    "import pandas as pd\n",
    "import matplotlib.pyplot as plt\n",
    "import numpy as np\n",
    "import seaborn as sns\n",
    "import os"
   ]
  },
  {
   "cell_type": "code",
   "execution_count": 2,
   "metadata": {},
   "outputs": [],
   "source": [
    "setup_plotting_env()"
   ]
  },
  {
   "cell_type": "code",
   "execution_count": 4,
   "metadata": {},
   "outputs": [],
   "source": [
    "import toml\n",
    "\n",
    "with open(\"../analysis_configuration.toml\", \"r\") as f:\n",
    "    analysis_config = toml.load(f)"
   ]
  },
  {
   "cell_type": "code",
   "execution_count": 5,
   "metadata": {},
   "outputs": [],
   "source": [
    "raw_dirs = analysis_config[\"raw_data\"]\n",
    "figure_cfg = analysis_config[\"figures\"]"
   ]
  },
  {
   "cell_type": "code",
   "execution_count": 3,
   "metadata": {},
   "outputs": [],
   "source": [
    "sim_files = os.path.join(\n",
    "    raw_dirs[\"closed_loop_behavior\"], \"closed_loop_behavior.parquet\"\n",
    ")"
   ]
  },
  {
   "cell_type": "code",
   "execution_count": 4,
   "metadata": {},
   "outputs": [],
   "source": [
    "load_keys = [\n",
    "    \"mouse_id\",\n",
    "    \"predicted_syllable\",\n",
    "    \"predicted_syllable (offline)\",\n",
    "    \"area (pooled)\",\n",
    "    \"date\",\n",
    "    \"uuid\",\n",
    "    \"genotype\",\n",
    "    \"target_syllable\",\n",
    "    \"syllable_group\",\n",
    "    \"timestamp\",\n",
    "    \"session_number\",\n",
    "    \"velocity_3d_mm\",\n",
    "    \"feedback_status\",\n",
    "    \"centroid_x_mm\",\n",
    "    \"centroid_y_mm\",\n",
    "]"
   ]
  },
  {
   "cell_type": "code",
   "execution_count": 5,
   "metadata": {},
   "outputs": [],
   "source": [
    "feedback_df = pd.read_parquet(sim_files, columns=load_keys)"
   ]
  },
  {
   "cell_type": "code",
   "execution_count": 6,
   "metadata": {},
   "outputs": [
    {
     "data": {
      "text/plain": [
       "Index(['mouse_id', 'predicted_syllable', 'predicted_syllable (offline)',\n",
       "       'area (pooled)', 'date', 'uuid', 'genotype', 'target_syllable',\n",
       "       'syllable_group', 'timestamp', 'session_number', 'velocity_3d_mm',\n",
       "       'feedback_status', 'centroid_x_mm', 'centroid_y_mm'],\n",
       "      dtype='object')"
      ]
     },
     "execution_count": 6,
     "metadata": {},
     "output_type": "execute_result"
    }
   ],
   "source": [
    "feedback_df.keys()"
   ]
  },
  {
   "cell_type": "code",
   "execution_count": 7,
   "metadata": {},
   "outputs": [
    {
     "data": {
      "text/plain": [
       "'/home/markowitzmeister_gmail_com/jeff_win_share/reinforcement_data/_final_test/_data/_to_upload_zenodo/optoda_raw_data/closed_loop_behavior_transfer.parquet'"
      ]
     },
     "execution_count": 7,
     "metadata": {},
     "output_type": "execute_result"
    }
   ],
   "source": [
    "sim_files"
   ]
  },
  {
   "cell_type": "code",
   "execution_count": 8,
   "metadata": {},
   "outputs": [],
   "source": [
    "def recenter_grid(gb):  # need to translate/ flip image to center from kinect\n",
    "    xc = (gb.centroid_x_mm.max() - gb.centroid_x_mm.min()) / 2\n",
    "    yc = (gb.centroid_y_mm.max() + gb.centroid_y_mm.min()) / 2\n",
    "\n",
    "    gb[\"centroid_x_mm\"] = gb.centroid_x_mm + xc\n",
    "    gb[\"centroid_y_mm\"] = gb.centroid_y_mm - yc\n",
    "\n",
    "    return gb"
   ]
  },
  {
   "cell_type": "code",
   "execution_count": 9,
   "metadata": {},
   "outputs": [],
   "source": [
    "feedback_df = add_area(feedback_df)\n",
    "feedback_df = feedback_df[~feedback_df.uuid.isin(exclude_uuids)]\n",
    "feedback_df = add_onset_and_duration(feedback_df)"
   ]
  },
  {
   "cell_type": "code",
   "execution_count": 10,
   "metadata": {},
   "outputs": [],
   "source": [
    "# Final submission mouse_ids\n",
    "ctrls = [\n",
    "    \"10\",\n",
    "    \"1527\",\n",
    "    \"1561\",\n",
    "    \"197\",\n",
    "    \"200\",\n",
    "    \"208\",\n",
    "    \"209\",\n",
    "    \"211\",\n",
    "    \"snc-dls-ctrl-6\",\n",
    "    \"snc-dls-ctrl-7\",\n",
    "    \"vta-nacc-ctrl-6\",\n",
    "    \"vta-nacc-ctrl-7\",\n",
    "]\n",
    "sncs = [\n",
    "    \"1546\",\n",
    "    \"1528\",\n",
    "    \"1529\",\n",
    "    \"1544\",\n",
    "    \"15822\",\n",
    "    \"15823\",\n",
    "    \"15847\",\n",
    "    \"410\",\n",
    "    \"240\",\n",
    "    \"242\",\n",
    "    \"239\",\n",
    "    \"241\",\n",
    "    \"3441\",\n",
    "    \"3440\",\n",
    "    \"3442\",\n",
    "    \"dls-ai32jr-1\",\n",
    "    \"dls-ai32jr-3\",\n",
    "    \"dls-ai32jr-5\",\n",
    "    \"dls-ai32jr-2\",\n",
    "    \"dls-ai32jr-4\",\n",
    "]"
   ]
  },
  {
   "cell_type": "code",
   "execution_count": 11,
   "metadata": {},
   "outputs": [],
   "source": [
    "feedback_df = feedback_df[\n",
    "    feedback_df.mouse_id.isin(ctrls) | feedback_df.mouse_id.isin(sncs)\n",
    "]"
   ]
  },
  {
   "cell_type": "code",
   "execution_count": 12,
   "metadata": {},
   "outputs": [
    {
     "data": {
      "text/plain": [
       "True"
      ]
     },
     "execution_count": 12,
     "metadata": {},
     "output_type": "execute_result"
    }
   ],
   "source": [
    "sorted(feedback_df.mouse_id.unique()) == sorted(ctrls + sncs)"
   ]
  },
  {
   "cell_type": "code",
   "execution_count": 13,
   "metadata": {},
   "outputs": [],
   "source": [
    "keys = [\"centroid_x_mm\", \"centroid_y_mm\"]"
   ]
  },
  {
   "cell_type": "code",
   "execution_count": 14,
   "metadata": {},
   "outputs": [
    {
     "name": "stderr",
     "output_type": "stream",
     "text": [
      "/tmp/ipykernel_22302/3611979485.py:2: FutureWarning: Not prepending group keys to the result index of transform-like apply. In the future, the group keys will be included in the index, regardless of whether the applied function returns a like-indexed object.\n",
      "To preserve the previous behavior, use\n",
      "\n",
      "\t>>> .groupby(..., group_keys=False)\n",
      "\n",
      "To adopt the future behavior and silence this warning, use \n",
      "\n",
      "\t>>> .groupby(..., group_keys=True)\n",
      "  feedback_df = feedback_df.groupby('uuid').apply(recenter_grid)\n"
     ]
    }
   ],
   "source": [
    "# Center the arena on origin\n",
    "feedback_df = feedback_df.groupby(\"uuid\").apply(recenter_grid)"
   ]
  },
  {
   "cell_type": "markdown",
   "metadata": {},
   "source": [
    "# Now let's compute JSD for each mouse x target pair independently, then average across groups"
   ]
  },
  {
   "cell_type": "code",
   "execution_count": 16,
   "metadata": {},
   "outputs": [],
   "source": [
    "from scipy.spatial.distance import jensenshannon"
   ]
  },
  {
   "cell_type": "code",
   "execution_count": 18,
   "metadata": {},
   "outputs": [],
   "source": [
    "baseline_targets = feedback_df[\n",
    "    feedback_df.session_number.isin([-1, 0, 3, 4])\n",
    "    & feedback_df.predicted_syllable.isin(TARGETS)\n",
    "    & (feedback_df.onset == 1)\n",
    "]\n",
    "stimday_targets = feedback_df[\n",
    "    feedback_df.session_number.isin([1, 2])\n",
    "    & feedback_df.predicted_syllable.isin(TARGETS)\n",
    "    & (feedback_df.onset == 1)\n",
    "]"
   ]
  },
  {
   "cell_type": "code",
   "execution_count": 22,
   "metadata": {},
   "outputs": [
    {
     "data": {
      "text/plain": [
       "(17, 20, 27, 30, 59, 76)"
      ]
     },
     "execution_count": 22,
     "metadata": {},
     "output_type": "execute_result"
    }
   ],
   "source": [
    "TARGETS"
   ]
  },
  {
   "cell_type": "code",
   "execution_count": 19,
   "metadata": {},
   "outputs": [
    {
     "data": {
      "application/vnd.jupyter.widget-view+json": {
       "model_id": "ac0a8f9b7f1e4e35951234f119c838dc",
       "version_major": 2,
       "version_minor": 0
      },
      "text/plain": [
       "  0%|          | 0/20 [00:00<?, ?it/s]"
      ]
     },
     "metadata": {},
     "output_type": "display_data"
    },
    {
     "data": {
      "application/vnd.jupyter.widget-view+json": {
       "model_id": "8e4c694af315404d82804fdbf6cbd97d",
       "version_major": 2,
       "version_minor": 0
      },
      "text/plain": [
       "  0%|          | 0/12 [00:00<?, ?it/s]"
      ]
     },
     "metadata": {},
     "output_type": "display_data"
    }
   ],
   "source": [
    "jsds = []\n",
    "\n",
    "# for _a in feedback_df['area'].unique():\n",
    "for _a in [\"snc (axon)\", \"ctrl\"]:\n",
    "\n",
    "    area_df = feedback_df[feedback_df[\"area\"] == _a]\n",
    "    for _m in tqdm(area_df.mouse_id.unique()):\n",
    "        for t in TARGETS:\n",
    "\n",
    "            base_df = baseline_targets[\n",
    "                (baseline_targets.mouse_id == _m)\n",
    "                & (baseline_targets.predicted_syllable == t)\n",
    "            ][keys]\n",
    "            stim_df = stimday_targets[\n",
    "                (stimday_targets.mouse_id == _m)\n",
    "                & (stimday_targets.predicted_syllable == t)\n",
    "            ][keys]\n",
    "\n",
    "            heatmap, xedges, yedges = np.histogram2d(\n",
    "                base_df.centroid_x_mm, base_df.centroid_y_mm, bins=10, density=False\n",
    "            )\n",
    "            heatmap2, xedges2, yedges2 = np.histogram2d(\n",
    "                stim_df.centroid_x_mm, stim_df.centroid_y_mm, bins=10, density=False\n",
    "            )\n",
    "\n",
    "            # Normalized 1D probability distributions for each location heatmap (binned x,y coords)\n",
    "            b_dist = (heatmap / heatmap.ravel().sum()).ravel()\n",
    "            s_dist = (heatmap2 / heatmap2.ravel().sum()).ravel()\n",
    "\n",
    "            dct = {\n",
    "                \"area\": _a,\n",
    "                \"mouse_id\": _m,\n",
    "                \"target\": t,\n",
    "                \"jsd\": jensenshannon(s_dist, b_dist),\n",
    "            }\n",
    "\n",
    "            jsds.append(dct)"
   ]
  },
  {
   "cell_type": "code",
   "execution_count": 20,
   "metadata": {},
   "outputs": [],
   "source": [
    "jsd_df = pd.DataFrame(jsds)"
   ]
  },
  {
   "cell_type": "code",
   "execution_count": 21,
   "metadata": {},
   "outputs": [
    {
     "data": {
      "text/plain": [
       "array(['3440', '3441', '3442', '1528', '1529', '1544', '1546', '15822',\n",
       "       '15823', '15847', '239', '240', '241', '242', '410',\n",
       "       'dls-ai32jr-1', 'dls-ai32jr-2', 'dls-ai32jr-3', 'dls-ai32jr-4',\n",
       "       'dls-ai32jr-5'], dtype=object)"
      ]
     },
     "execution_count": 21,
     "metadata": {},
     "output_type": "execute_result"
    }
   ],
   "source": [
    "jsd_df[jsd_df.area == \"snc (axon)\"].mouse_id.unique()"
   ]
  },
  {
   "cell_type": "markdown",
   "metadata": {},
   "source": [
    "Now what if we zscore the JSDs by syllable and group them together?"
   ]
  },
  {
   "cell_type": "code",
   "execution_count": 23,
   "metadata": {},
   "outputs": [
    {
     "data": {
      "text/plain": [
       "192"
      ]
     },
     "execution_count": 23,
     "metadata": {},
     "output_type": "execute_result"
    }
   ],
   "source": [
    "len(jsd_df)"
   ]
  },
  {
   "cell_type": "code",
   "execution_count": 24,
   "metadata": {},
   "outputs": [
    {
     "data": {
      "text/plain": [
       "192"
      ]
     },
     "execution_count": 24,
     "metadata": {},
     "output_type": "execute_result"
    }
   ],
   "source": [
    "jsd_df.mouse_id.nunique() * jsd_df.target.nunique()"
   ]
  },
  {
   "cell_type": "code",
   "execution_count": 25,
   "metadata": {},
   "outputs": [],
   "source": [
    "from scipy.stats import zscore"
   ]
  },
  {
   "cell_type": "code",
   "execution_count": 26,
   "metadata": {},
   "outputs": [],
   "source": [
    "jsd_df[\"z_jsd\"] = jsd_df.groupby([\"area\", \"target\"])[\"jsd\"].transform(zscore)"
   ]
  },
  {
   "cell_type": "code",
   "execution_count": 29,
   "metadata": {},
   "outputs": [
    {
     "name": "stderr",
     "output_type": "stream",
     "text": [
      "findfont: Generic family 'sans-serif' not found because none of the following families were found: Arial\n",
      "findfont: Generic family 'sans-serif' not found because none of the following families were found: Arial\n",
      "findfont: Generic family 'sans-serif' not found because none of the following families were found: Arial\n",
      "findfont: Generic family 'sans-serif' not found because none of the following families were found: Arial\n",
      "findfont: Generic family 'sans-serif' not found because none of the following families were found: Arial\n",
      "findfont: Generic family 'sans-serif' not found because none of the following families were found: Arial\n",
      "findfont: Generic family 'sans-serif' not found because none of the following families were found: Arial\n",
      "findfont: Generic family 'sans-serif' not found because none of the following families were found: Arial\n",
      "findfont: Generic family 'sans-serif' not found because none of the following families were found: Arial\n",
      "findfont: Generic family 'sans-serif' not found because none of the following families were found: Arial\n",
      "findfont: Generic family 'sans-serif' not found because none of the following families were found: Arial\n",
      "findfont: Generic family 'sans-serif' not found because none of the following families were found: Arial\n",
      "findfont: Generic family 'sans-serif' not found because none of the following families were found: Arial\n",
      "findfont: Generic family 'sans-serif' not found because none of the following families were found: Arial\n",
      "findfont: Generic family 'sans-serif' not found because none of the following families were found: Arial\n",
      "findfont: Generic family 'sans-serif' not found because none of the following families were found: Arial\n",
      "findfont: Generic family 'sans-serif' not found because none of the following families were found: Arial\n",
      "findfont: Generic family 'sans-serif' not found because none of the following families were found: Arial\n",
      "findfont: Generic family 'sans-serif' not found because none of the following families were found: Arial\n",
      "findfont: Generic family 'sans-serif' not found because none of the following families were found: Arial\n",
      "findfont: Generic family 'sans-serif' not found because none of the following families were found: Arial\n",
      "findfont: Generic family 'sans-serif' not found because none of the following families were found: Arial\n",
      "findfont: Generic family 'sans-serif' not found because none of the following families were found: Arial\n",
      "findfont: Generic family 'sans-serif' not found because none of the following families were found: Arial\n",
      "findfont: Generic family 'sans-serif' not found because none of the following families were found: Arial\n",
      "findfont: Generic family 'sans-serif' not found because none of the following families were found: Arial\n",
      "findfont: Generic family 'sans-serif' not found because none of the following families were found: Arial\n",
      "findfont: Generic family 'sans-serif' not found because none of the following families were found: Arial\n",
      "findfont: Generic family 'sans-serif' not found because none of the following families were found: Arial\n",
      "findfont: Generic family 'sans-serif' not found because none of the following families were found: Arial\n",
      "findfont: Generic family 'sans-serif' not found because none of the following families were found: Arial\n"
     ]
    },
    {
     "data": {
      "image/png": "[encoded data removed]",
      "text/plain": [
       "<Figure size 400x600 with 1 Axes>"
      ]
     },
     "metadata": {},
     "output_type": "display_data"
    }
   ],
   "source": [
    "# Zscored JSD by syllable\n",
    "fig, ax = plt.subplots(1, 1, figsize=(2, 3))\n",
    "sns.boxplot(\n",
    "    data=jsd_df,\n",
    "    x=\"area\",\n",
    "    y=\"z_jsd\",\n",
    "    order=[\"snc (axon)\", \"ctrl\"],\n",
    "    palette=[geno_palette[0], geno_palette[2]],\n",
    "    fliersize=3,\n",
    "    showcaps=False,\n",
    "    showfliers=False,\n",
    "    ax=ax,\n",
    ")\n",
    "\n",
    "sns.despine()\n",
    "ax.set_ylabel(\"JSD (Z-scored)\")\n",
    "ax.set_ylim(-2.5, 2.5)\n",
    "\n",
    "plt.tight_layout()\n",
    "\n",
    "plt.show()"
   ]
  },
  {
   "cell_type": "code",
   "execution_count": 30,
   "metadata": {},
   "outputs": [
    {
     "data": {
      "text/plain": [
       "True"
      ]
     },
     "execution_count": 30,
     "metadata": {},
     "output_type": "execute_result"
    }
   ],
   "source": [
    "sorted(jsd_df.mouse_id.unique()) == sorted(ctrls + sncs)"
   ]
  },
  {
   "cell_type": "code",
   "execution_count": 31,
   "metadata": {},
   "outputs": [],
   "source": [
    "from scipy.stats import ttest_ind, ranksums, mannwhitneyu"
   ]
  },
  {
   "cell_type": "code",
   "execution_count": 32,
   "metadata": {},
   "outputs": [
    {
     "data": {
      "text/html": [
       "<div>\n",
       "<style scoped>\n",
       "    .dataframe tbody tr th:only-of-type {\n",
       "        vertical-align: middle;\n",
       "    }\n",
       "\n",
       "    .dataframe tbody tr th {\n",
       "        vertical-align: top;\n",
       "    }\n",
       "\n",
       "    .dataframe thead th {\n",
       "        text-align: right;\n",
       "    }\n",
       "</style>\n",
       "<table border=\"1\" class=\"dataframe\">\n",
       "  <thead>\n",
       "    <tr style=\"text-align: right;\">\n",
       "      <th></th>\n",
       "      <th>area</th>\n",
       "      <th>mouse_id</th>\n",
       "      <th>target</th>\n",
       "      <th>jsd</th>\n",
       "      <th>z_jsd</th>\n",
       "    </tr>\n",
       "  </thead>\n",
       "  <tbody>\n",
       "    <tr>\n",
       "      <th>0</th>\n",
       "      <td>snc (axon)</td>\n",
       "      <td>3440</td>\n",
       "      <td>17</td>\n",
       "      <td>0.101107</td>\n",
       "      <td>-1.182796</td>\n",
       "    </tr>\n",
       "    <tr>\n",
       "      <th>1</th>\n",
       "      <td>snc (axon)</td>\n",
       "      <td>3440</td>\n",
       "      <td>20</td>\n",
       "      <td>0.083642</td>\n",
       "      <td>-1.674696</td>\n",
       "    </tr>\n",
       "    <tr>\n",
       "      <th>2</th>\n",
       "      <td>snc (axon)</td>\n",
       "      <td>3440</td>\n",
       "      <td>27</td>\n",
       "      <td>0.106223</td>\n",
       "      <td>0.083032</td>\n",
       "    </tr>\n",
       "    <tr>\n",
       "      <th>3</th>\n",
       "      <td>snc (axon)</td>\n",
       "      <td>3440</td>\n",
       "      <td>30</td>\n",
       "      <td>0.202198</td>\n",
       "      <td>-0.528563</td>\n",
       "    </tr>\n",
       "    <tr>\n",
       "      <th>4</th>\n",
       "      <td>snc (axon)</td>\n",
       "      <td>3440</td>\n",
       "      <td>59</td>\n",
       "      <td>0.099170</td>\n",
       "      <td>-2.117309</td>\n",
       "    </tr>\n",
       "    <tr>\n",
       "      <th>...</th>\n",
       "      <td>...</td>\n",
       "      <td>...</td>\n",
       "      <td>...</td>\n",
       "      <td>...</td>\n",
       "      <td>...</td>\n",
       "    </tr>\n",
       "    <tr>\n",
       "      <th>187</th>\n",
       "      <td>ctrl</td>\n",
       "      <td>vta-nacc-ctrl-7</td>\n",
       "      <td>20</td>\n",
       "      <td>0.227473</td>\n",
       "      <td>2.384620</td>\n",
       "    </tr>\n",
       "    <tr>\n",
       "      <th>188</th>\n",
       "      <td>ctrl</td>\n",
       "      <td>vta-nacc-ctrl-7</td>\n",
       "      <td>27</td>\n",
       "      <td>0.089414</td>\n",
       "      <td>-1.031313</td>\n",
       "    </tr>\n",
       "    <tr>\n",
       "      <th>189</th>\n",
       "      <td>ctrl</td>\n",
       "      <td>vta-nacc-ctrl-7</td>\n",
       "      <td>30</td>\n",
       "      <td>0.162616</td>\n",
       "      <td>-0.768830</td>\n",
       "    </tr>\n",
       "    <tr>\n",
       "      <th>190</th>\n",
       "      <td>ctrl</td>\n",
       "      <td>vta-nacc-ctrl-7</td>\n",
       "      <td>59</td>\n",
       "      <td>0.195086</td>\n",
       "      <td>-0.256093</td>\n",
       "    </tr>\n",
       "    <tr>\n",
       "      <th>191</th>\n",
       "      <td>ctrl</td>\n",
       "      <td>vta-nacc-ctrl-7</td>\n",
       "      <td>76</td>\n",
       "      <td>0.269126</td>\n",
       "      <td>1.374007</td>\n",
       "    </tr>\n",
       "  </tbody>\n",
       "</table>\n",
       "<p>192 rows × 5 columns</p>\n",
       "</div>"
      ],
      "text/plain": [
       "           area         mouse_id  target       jsd     z_jsd\n",
       "0    snc (axon)             3440      17  0.101107 -1.182796\n",
       "1    snc (axon)             3440      20  0.083642 -1.674696\n",
       "2    snc (axon)             3440      27  0.106223  0.083032\n",
       "3    snc (axon)             3440      30  0.202198 -0.528563\n",
       "4    snc (axon)             3440      59  0.099170 -2.117309\n",
       "..          ...              ...     ...       ...       ...\n",
       "187        ctrl  vta-nacc-ctrl-7      20  0.227473  2.384620\n",
       "188        ctrl  vta-nacc-ctrl-7      27  0.089414 -1.031313\n",
       "189        ctrl  vta-nacc-ctrl-7      30  0.162616 -0.768830\n",
       "190        ctrl  vta-nacc-ctrl-7      59  0.195086 -0.256093\n",
       "191        ctrl  vta-nacc-ctrl-7      76  0.269126  1.374007\n",
       "\n",
       "[192 rows x 5 columns]"
      ]
     },
     "execution_count": 32,
     "metadata": {},
     "output_type": "execute_result"
    }
   ],
   "source": [
    "jsd_df"
   ]
  },
  {
   "cell_type": "markdown",
   "metadata": {},
   "source": [
    "# Now compute JSDs for all locations, not just during the target:"
   ]
  },
  {
   "cell_type": "code",
   "execution_count": 33,
   "metadata": {},
   "outputs": [],
   "source": [
    "baseline_targets = feedback_df[\n",
    "    feedback_df.session_number.isin([-1, 0, 3, 4])\n",
    "    # & feedback_df.predicted_syllable.isin(TARGETS)\n",
    "    & (feedback_df.onset == 1)\n",
    "]\n",
    "stimday_targets = feedback_df[\n",
    "    feedback_df.session_number.isin([1, 2])\n",
    "    # & feedback_df.predicted_syllable.isin(TARGETS)\n",
    "    & (feedback_df.onset == 1)\n",
    "]"
   ]
  },
  {
   "cell_type": "code",
   "execution_count": 34,
   "metadata": {},
   "outputs": [
    {
     "data": {
      "application/vnd.jupyter.widget-view+json": {
       "model_id": "ebdeb4b189e048df966ae02a62326372",
       "version_major": 2,
       "version_minor": 0
      },
      "text/plain": [
       "  0%|          | 0/20 [00:00<?, ?it/s]"
      ]
     },
     "metadata": {},
     "output_type": "display_data"
    },
    {
     "data": {
      "application/vnd.jupyter.widget-view+json": {
       "model_id": "f4d3fd252e0046a5b492e2eddebdd2c4",
       "version_major": 2,
       "version_minor": 0
      },
      "text/plain": [
       "  0%|          | 0/12 [00:00<?, ?it/s]"
      ]
     },
     "metadata": {},
     "output_type": "display_data"
    }
   ],
   "source": [
    "jsds = []\n",
    "\n",
    "\n",
    "for _a in [\"snc (axon)\", \"ctrl\"]:\n",
    "    area_df = feedback_df[feedback_df[\"area\"] == _a]\n",
    "    for _m in tqdm(area_df.mouse_id.unique()):\n",
    "\n",
    "        base_df = baseline_targets[(baseline_targets.mouse_id == _m)][keys]\n",
    "        stim_df = stimday_targets[(stimday_targets.mouse_id == _m)][keys]\n",
    "\n",
    "        heatmap, xedges, yedges = np.histogram2d(\n",
    "            base_df.centroid_x_mm, base_df.centroid_y_mm, bins=10, density=False\n",
    "        )\n",
    "        heatmap2, xedges2, yedges2 = np.histogram2d(\n",
    "            stim_df.centroid_x_mm, stim_df.centroid_y_mm, bins=10, density=False\n",
    "        )\n",
    "\n",
    "        # Normalized 1D probability distributions for each location heatmap (binned x,y coords)\n",
    "        b_dist = (heatmap / heatmap.ravel().sum()).ravel()\n",
    "        s_dist = (heatmap2 / heatmap2.ravel().sum()).ravel()\n",
    "\n",
    "        dct = {\n",
    "            \"area\": _a,\n",
    "            \"mouse_id\": _m,\n",
    "            \"jsd\": jensenshannon(s_dist, b_dist),\n",
    "        }\n",
    "\n",
    "        jsds.append(dct)"
   ]
  },
  {
   "cell_type": "code",
   "execution_count": 35,
   "metadata": {},
   "outputs": [],
   "source": [
    "jsd_df = pd.DataFrame(jsds)\n",
    "\n",
    "jsd_df[\"z_jsd\"] = jsd_df.groupby([\"area\"])[\"jsd\"].transform(zscore)"
   ]
  },
  {
   "cell_type": "code",
   "execution_count": 36,
   "metadata": {},
   "outputs": [
    {
     "name": "stderr",
     "output_type": "stream",
     "text": [
      "findfont: Generic family 'sans-serif' not found because none of the following families were found: Arial\n",
      "findfont: Generic family 'sans-serif' not found because none of the following families were found: Arial\n",
      "findfont: Generic family 'sans-serif' not found because none of the following families were found: Arial\n",
      "findfont: Generic family 'sans-serif' not found because none of the following families were found: Arial\n",
      "findfont: Generic family 'sans-serif' not found because none of the following families were found: Arial\n",
      "findfont: Generic family 'sans-serif' not found because none of the following families were found: Arial\n",
      "findfont: Generic family 'sans-serif' not found because none of the following families were found: Arial\n",
      "findfont: Generic family 'sans-serif' not found because none of the following families were found: Arial\n",
      "findfont: Generic family 'sans-serif' not found because none of the following families were found: Arial\n",
      "findfont: Generic family 'sans-serif' not found because none of the following families were found: Arial\n",
      "findfont: Generic family 'sans-serif' not found because none of the following families were found: Arial\n",
      "findfont: Generic family 'sans-serif' not found because none of the following families were found: Arial\n",
      "findfont: Generic family 'sans-serif' not found because none of the following families were found: Arial\n",
      "findfont: Generic family 'sans-serif' not found because none of the following families were found: Arial\n",
      "findfont: Generic family 'sans-serif' not found because none of the following families were found: Arial\n",
      "findfont: Generic family 'sans-serif' not found because none of the following families were found: Arial\n",
      "findfont: Generic family 'sans-serif' not found because none of the following families were found: Arial\n",
      "findfont: Generic family 'sans-serif' not found because none of the following families were found: Arial\n",
      "findfont: Generic family 'sans-serif' not found because none of the following families were found: Arial\n",
      "findfont: Generic family 'sans-serif' not found because none of the following families were found: Arial\n",
      "findfont: Generic family 'sans-serif' not found because none of the following families were found: Arial\n",
      "findfont: Generic family 'sans-serif' not found because none of the following families were found: Arial\n",
      "findfont: Generic family 'sans-serif' not found because none of the following families were found: Arial\n",
      "findfont: Generic family 'sans-serif' not found because none of the following families were found: Arial\n",
      "findfont: Generic family 'sans-serif' not found because none of the following families were found: Arial\n",
      "findfont: Generic family 'sans-serif' not found because none of the following families were found: Arial\n",
      "findfont: Generic family 'sans-serif' not found because none of the following families were found: Arial\n",
      "findfont: Generic family 'sans-serif' not found because none of the following families were found: Arial\n",
      "findfont: Generic family 'sans-serif' not found because none of the following families were found: Arial\n",
      "findfont: Generic family 'sans-serif' not found because none of the following families were found: Arial\n",
      "findfont: Generic family 'sans-serif' not found because none of the following families were found: Arial\n"
     ]
    },
    {
     "data": {
      "image/png": "[encoded data removed]",
      "text/plain": [
       "<Figure size 400x600 with 1 Axes>"
      ]
     },
     "metadata": {},
     "output_type": "display_data"
    }
   ],
   "source": [
    "# Zscored JSD by syllable\n",
    "fig, ax = plt.subplots(1, 1, figsize=(2, 3))\n",
    "sns.boxplot(\n",
    "    data=jsd_df,\n",
    "    x=\"area\",\n",
    "    y=\"z_jsd\",\n",
    "    order=[\"snc (axon)\", \"ctrl\"],\n",
    "    palette=[geno_palette[0], geno_palette[2]],\n",
    "    fliersize=3,\n",
    "    showcaps=False,\n",
    "    showfliers=False,\n",
    "    ax=ax,\n",
    ")\n",
    "\n",
    "sns.despine()\n",
    "ax.set_ylabel(\"JSD (Z-scored)\")\n",
    "ax.set_ylim(-2.5, 2.5)\n",
    "plt.tight_layout()\n",
    "\n",
    "plt.show()"
   ]
  },
  {
   "cell_type": "markdown",
   "metadata": {},
   "source": [
    "## Mouse x target heatmaps"
   ]
  },
  {
   "cell_type": "code",
   "execution_count": 37,
   "metadata": {},
   "outputs": [
    {
     "data": {
      "application/vnd.jupyter.widget-view+json": {
       "model_id": "fe8fd215f917491dbdd547c8cdb19e00",
       "version_major": 2,
       "version_minor": 0
      },
      "text/plain": [
       "  0%|          | 0/20 [00:00<?, ?it/s]"
      ]
     },
     "metadata": {},
     "output_type": "display_data"
    },
    {
     "data": {
      "application/vnd.jupyter.widget-view+json": {
       "model_id": "7126fb8a7f954029901e68ad63c017d3",
       "version_major": 2,
       "version_minor": 0
      },
      "text/plain": [
       "  0%|          | 0/12 [00:00<?, ?it/s]"
      ]
     },
     "metadata": {},
     "output_type": "display_data"
    }
   ],
   "source": [
    "maps = []\n",
    "\n",
    "for _a in [\"snc (axon)\", \"ctrl\"]:\n",
    "    area_df = feedback_df[feedback_df[\"area\"] == _a]\n",
    "    for _m in tqdm(area_df.mouse_id.unique()):\n",
    "        for t in TARGETS:\n",
    "\n",
    "            base_df = baseline_targets[\n",
    "                (baseline_targets.mouse_id == _m)\n",
    "                & (baseline_targets.predicted_syllable == t)\n",
    "            ][keys]\n",
    "            stim_df = stimday_targets[\n",
    "                (stimday_targets.mouse_id == _m)\n",
    "                & (stimday_targets.predicted_syllable == t)\n",
    "            ][keys]\n",
    "\n",
    "            heatmap, xedges, yedges = np.histogram2d(\n",
    "                base_df.centroid_x_mm, base_df.centroid_y_mm, bins=50, density=False\n",
    "            )\n",
    "            heatmap2, xedges2, yedges2 = np.histogram2d(\n",
    "                stim_df.centroid_x_mm, stim_df.centroid_y_mm, bins=50, density=False\n",
    "            )\n",
    "\n",
    "            norm = heatmap / heatmap.sum()\n",
    "            norm2 = heatmap2 / heatmap2.sum()\n",
    "\n",
    "            diff = norm2 - norm\n",
    "\n",
    "            dct = {\n",
    "                \"area\": _a,\n",
    "                \"mouse_id\": _m,\n",
    "                \"target\": t,\n",
    "                \"stim\": norm2,\n",
    "                \"baseline\": norm,\n",
    "                \"diff\": diff,\n",
    "            }\n",
    "\n",
    "            maps.append(dct)"
   ]
  },
  {
   "cell_type": "code",
   "execution_count": 38,
   "metadata": {},
   "outputs": [],
   "source": [
    "map_df = pd.DataFrame(maps)"
   ]
  },
  {
   "cell_type": "code",
   "execution_count": 39,
   "metadata": {},
   "outputs": [],
   "source": [
    "map_df = map_df.melt(id_vars=[\"area\", \"mouse_id\", \"target\"])"
   ]
  },
  {
   "cell_type": "code",
   "execution_count": 40,
   "metadata": {},
   "outputs": [
    {
     "name": "stderr",
     "output_type": "stream",
     "text": [
      "findfont: Generic family 'sans-serif' not found because none of the following families were found: Arial\n",
      "findfont: Generic family 'sans-serif' not found because none of the following families were found: Arial\n",
      "findfont: Generic family 'sans-serif' not found because none of the following families were found: Arial\n",
      "findfont: Generic family 'sans-serif' not found because none of the following families were found: Arial\n",
      "findfont: Generic family 'sans-serif' not found because none of the following families were found: Arial\n",
      "findfont: Generic family 'sans-serif' not found because none of the following families were found: Arial\n",
      "findfont: Generic family 'sans-serif' not found because none of the following families were found: Arial\n",
      "findfont: Generic family 'sans-serif' not found because none of the following families were found: Arial\n",
      "findfont: Generic family 'sans-serif' not found because none of the following families were found: Arial\n",
      "findfont: Generic family 'sans-serif' not found because none of the following families were found: Arial\n",
      "findfont: Generic family 'sans-serif' not found because none of the following families were found: Arial\n",
      "findfont: Generic family 'sans-serif' not found because none of the following families were found: Arial\n",
      "findfont: Generic family 'sans-serif' not found because none of the following families were found: Arial\n",
      "findfont: Generic family 'sans-serif' not found because none of the following families were found: Arial\n",
      "findfont: Generic family 'sans-serif' not found because none of the following families were found: Arial\n",
      "findfont: Generic family 'sans-serif' not found because none of the following families were found: Arial\n",
      "findfont: Generic family 'sans-serif' not found because none of the following families were found: Arial\n",
      "findfont: Generic family 'sans-serif' not found because none of the following families were found: Arial\n",
      "findfont: Generic family 'sans-serif' not found because none of the following families were found: Arial\n",
      "findfont: Generic family 'sans-serif' not found because none of the following families were found: Arial\n",
      "findfont: Generic family 'sans-serif' not found because none of the following families were found: Arial\n",
      "findfont: Generic family 'sans-serif' not found because none of the following families were found: Arial\n",
      "findfont: Generic family 'sans-serif' not found because none of the following families were found: Arial\n",
      "findfont: Generic family 'sans-serif' not found because none of the following families were found: Arial\n",
      "findfont: Generic family 'sans-serif' not found because none of the following families were found: Arial\n",
      "findfont: Generic family 'sans-serif' not found because none of the following families were found: Arial\n",
      "findfont: Generic family 'sans-serif' not found because none of the following families were found: Arial\n",
      "findfont: Generic family 'sans-serif' not found because none of the following families were found: Arial\n",
      "findfont: Generic family 'sans-serif' not found because none of the following families were found: Arial\n",
      "findfont: Generic family 'sans-serif' not found because none of the following families were found: Arial\n",
      "findfont: Generic family 'sans-serif' not found because none of the following families were found: Arial\n",
      "findfont: Generic family 'sans-serif' not found because none of the following families were found: Arial\n",
      "findfont: Generic family 'sans-serif' not found because none of the following families were found: Arial\n",
      "findfont: Generic family 'sans-serif' not found because none of the following families were found: Arial\n",
      "findfont: Generic family 'sans-serif' not found because none of the following families were found: Arial\n",
      "findfont: Generic family 'sans-serif' not found because none of the following families were found: Arial\n",
      "findfont: Generic family 'sans-serif' not found because none of the following families were found: Arial\n",
      "findfont: Generic family 'sans-serif' not found because none of the following families were found: Arial\n",
      "findfont: Generic family 'sans-serif' not found because none of the following families were found: Arial\n",
      "findfont: Generic family 'sans-serif' not found because none of the following families were found: Arial\n",
      "findfont: Generic family 'sans-serif' not found because none of the following families were found: Arial\n",
      "findfont: Generic family 'sans-serif' not found because none of the following families were found: Arial\n",
      "findfont: Generic family 'sans-serif' not found because none of the following families were found: Arial\n",
      "findfont: Generic family 'sans-serif' not found because none of the following families were found: Arial\n",
      "findfont: Generic family 'sans-serif' not found because none of the following families were found: Arial\n",
      "findfont: Generic family 'sans-serif' not found because none of the following families were found: Arial\n",
      "findfont: Generic family 'sans-serif' not found because none of the following families were found: Arial\n",
      "findfont: Generic family 'sans-serif' not found because none of the following families were found: Arial\n",
      "findfont: Generic family 'sans-serif' not found because none of the following families were found: Arial\n",
      "findfont: Generic family 'sans-serif' not found because none of the following families were found: Arial\n",
      "findfont: Generic family 'sans-serif' not found because none of the following families were found: Arial\n",
      "findfont: Generic family 'sans-serif' not found because none of the following families were found: Arial\n",
      "findfont: Generic family 'sans-serif' not found because none of the following families were found: Arial\n",
      "findfont: Generic family 'sans-serif' not found because none of the following families were found: Arial\n",
      "findfont: Generic family 'sans-serif' not found because none of the following families were found: Arial\n",
      "findfont: Generic family 'sans-serif' not found because none of the following families were found: Arial\n",
      "findfont: Generic family 'sans-serif' not found because none of the following families were found: Arial\n",
      "findfont: Generic family 'sans-serif' not found because none of the following families were found: Arial\n",
      "findfont: Generic family 'sans-serif' not found because none of the following families were found: Arial\n",
      "findfont: Generic family 'sans-serif' not found because none of the following families were found: Arial\n",
      "findfont: Generic family 'sans-serif' not found because none of the following families were found: Arial\n",
      "findfont: Generic family 'sans-serif' not found because none of the following families were found: Arial\n",
      "findfont: Generic family 'sans-serif' not found because none of the following families were found: Arial\n",
      "findfont: Generic family 'sans-serif' not found because none of the following families were found: Arial\n",
      "findfont: Generic family 'sans-serif' not found because none of the following families were found: Arial\n",
      "findfont: Generic family 'sans-serif' not found because none of the following families were found: Arial\n"
     ]
    },
    {
     "data": {
      "image/png": "[encoded data removed]",
      "text/plain": [
       "<Figure size 1000x800 with 5 Axes>"
      ]
     },
     "metadata": {},
     "output_type": "display_data"
    }
   ],
   "source": [
    "fig, ax = plt.subplots(2, 2, figsize=(5, 4))\n",
    "i = 0\n",
    "\n",
    "\n",
    "for _a in [\"snc (axon)\", \"ctrl\"]:\n",
    "    for day in [\"stim\", \"baseline\"]:\n",
    "        _ax = ax.ravel()[i]\n",
    "        _df = map_df[(map_df.area == _a) & (map_df.variable == day)]\n",
    "        p = _ax.imshow(\n",
    "            _df[\"value\"].mean() * 100,\n",
    "            cmap=\"bone_r\",\n",
    "        )\n",
    "        _ax.axis(\"off\")\n",
    "        _ax.set_title(_a + \" \" + day)\n",
    "        i += 1\n",
    "\n",
    "fig.colorbar(\n",
    "    p,\n",
    "    ax=ax.ravel().tolist(),\n",
    "    shrink=0.6,\n",
    ")\n",
    "fig.text(0.89, 0.37, \"% Frame Occupancy\", rotation=90)\n",
    "# plt.tight_layout()\n",
    "sns.despine()"
   ]
  },
  {
   "cell_type": "code",
   "execution_count": null,
   "metadata": {},
   "outputs": [],
   "source": []
  },
  {
   "cell_type": "code",
   "execution_count": null,
   "metadata": {},
   "outputs": [],
   "source": []
  }
 ],
 "metadata": {
  "kernelspec": {
   "display_name": "Python 3 (ipykernel)",
   "language": "python",
   "name": "python3"
  },
  "language_info": {
   "codemirror_mode": {
    "name": "ipython",
    "version": 3
   },
   "file_extension": ".py",
   "mimetype": "text/x-python",
   "name": "python",
   "nbconvert_exporter": "python",
   "pygments_lexer": "ipython3",
   "version": "3.9.15"
  }
 },
 "nbformat": 4,
 "nbformat_minor": 4
}
