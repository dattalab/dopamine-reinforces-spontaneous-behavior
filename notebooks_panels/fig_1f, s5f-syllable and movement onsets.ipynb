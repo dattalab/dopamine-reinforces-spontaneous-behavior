{
 "cells": [
  {
   "cell_type": "code",
   "execution_count": 1,
   "metadata": {},
   "outputs": [],
   "source": [
    "%load_ext autoreload\n",
    "%autoreload 2\n",
    "%matplotlib inline"
   ]
  },
  {
   "cell_type": "code",
   "execution_count": 2,
   "metadata": {},
   "outputs": [],
   "source": [
    "from rl_analysis.plotting import savefig, setup_plotting_env, clean_ticks, geno_palette\n",
    "from rl_analysis.io.df import dlight_exclude_toml\n",
    "from rl_analysis.photometry.snippet import get_shuffle_average\n",
    "from functools import partial\n",
    "from tqdm.auto import tqdm\n",
    "from joblib import Parallel, delayed\n",
    "import matplotlib.pyplot as plt\n",
    "import numpy as np\n",
    "import pandas as pd\n",
    "import os\n",
    "import seaborn as sns\n",
    "import toml"
   ]
  },
  {
   "cell_type": "markdown",
   "metadata": {},
   "source": [
    "# Looking at dLight waveforms around transitions split by velocity"
   ]
  },
  {
   "cell_type": "code",
   "execution_count": 3,
   "metadata": {},
   "outputs": [],
   "source": [
    "with open(\"../analysis_configuration.toml\", \"r\") as f:\n",
    "    analysis_config = toml.load(f)"
   ]
  },
  {
   "cell_type": "code",
   "execution_count": 4,
   "metadata": {},
   "outputs": [],
   "source": [
    "import multiprocessing as mp\n",
    "\n",
    "mp.set_start_method(\"spawn\", force=True)"
   ]
  },
  {
   "cell_type": "code",
   "execution_count": 5,
   "metadata": {},
   "outputs": [],
   "source": [
    "raw_dirs = analysis_config[\"raw_data\"]\n",
    "proc_dirs = analysis_config[\"intermediate_results\"]\n",
    "dlight_cfg = analysis_config[\"dlight_basic_analysis\"]\n",
    "dlight_common_cfg = analysis_config[\"dlight_common\"]\n",
    "figure_cfg = analysis_config[\"figures\"]\n",
    "renormalize = True\n",
    "dask_address = None\n",
    "use_area = \"dms\"  # dms and dls are run separately by changing this parameter\n",
    "use_key = \"signal_reref_dff_z_renorm\" if renormalize else \"signal_reref_dff_z\"\n",
    "pre_trim = (-90, +90)  # window to keep (in samples) after renorm"
   ]
  },
  {
   "cell_type": "code",
   "execution_count": 6,
   "metadata": {},
   "outputs": [],
   "source": [
    "scalars = [\n",
    "    \"velocity_2d_mm\",\n",
    "    \"velocity_angle\",\n",
    "    \"acceleration_2d_mm\",\n",
    "    \"velocity_height\",\n",
    "    \"jerk_2d_mm\",\n",
    "]"
   ]
  },
  {
   "cell_type": "code",
   "execution_count": 7,
   "metadata": {},
   "outputs": [],
   "source": [
    "load_keys = [\n",
    "    \"x\",\n",
    "    \"session_number\",\n",
    "    \"uuid\",\n",
    "    \"signal_reref_dff_z\",\n",
    "    \"mouse_id\",\n",
    "    \"snippet\",\n",
    "    \"duration\",\n",
    "    \"area\",\n",
    "    \"opsin\",\n",
    "    \"target_syllable\",\n",
    "    \"signal_max\",\n",
    "    \"signal_reference_corr\",\n",
    "    \"stim_duration\",\n",
    "    \"syllable\",\n",
    "] + scalars"
   ]
  },
  {
   "cell_type": "code",
   "execution_count": 8,
   "metadata": {},
   "outputs": [],
   "source": [
    "use_dct = dlight_exclude_toml(\n",
    "    os.path.join(raw_dirs[\"dlight\"], \"dlight_photometry_processed_full.toml\"),\n",
    "    **analysis_config[\"dlight_common\"]\n",
    ")\n",
    "\n",
    "use_uuids = list(use_dct.keys())"
   ]
  },
  {
   "cell_type": "code",
   "execution_count": 9,
   "metadata": {},
   "outputs": [],
   "source": [
    "# use longwin for renormalization\n",
    "_snippet_df = pd.read_parquet(\n",
    "    os.path.join(raw_dirs[\"dlight\"], \"dlight_snippets_offline_longwin.parquet\"),\n",
    "    columns=load_keys,\n",
    "    filters=[(\"area\", \"=\", use_area), (\"uuid\", \"in\", use_uuids)],\n",
    ").sort_index()\n",
    "_snippet_df[\"init_type\"] = \"syllables_offline\"\n",
    "\n",
    "_snippet_df2 = pd.read_parquet(\n",
    "    os.path.join(raw_dirs[\"dlight\"], \"dlight_snippets_movements_longwin.parquet\"),\n",
    "    columns=load_keys,\n",
    "    filters=[(\"area\", \"=\", use_area), (\"uuid\", \"in\", use_uuids)],\n",
    ").sort_index()\n",
    "_snippet_df2[\"init_type\"] = \"movement\"\n",
    "snippet_df = pd.concat([_snippet_df, _snippet_df2])\n",
    "\n",
    "del _snippet_df, _snippet_df2\n",
    "snippet_df = snippet_df.dropna(subset=[\"x\", \"duration\"])\n",
    "snippet_df.index = range(len(snippet_df))"
   ]
  },
  {
   "cell_type": "code",
   "execution_count": 10,
   "metadata": {},
   "outputs": [],
   "source": [
    "snippet_df[\"x\"] = (snippet_df[\"x\"] * 30).round().astype(\"int\")\n",
    "snippet_df[\"duration\"] = (snippet_df[\"duration\"] * 30).round().astype(\"int\")"
   ]
  },
  {
   "cell_type": "code",
   "execution_count": 11,
   "metadata": {},
   "outputs": [],
   "source": [
    "scalars_z = [f\"{_scalar}_z\" for _scalar in scalars]"
   ]
  },
  {
   "cell_type": "code",
   "execution_count": 12,
   "metadata": {},
   "outputs": [],
   "source": [
    "snippet_df[scalars_z] = snippet_df.groupby(\"uuid\")[scalars].transform(\n",
    "    lambda x: (x - x.mean()) / x.std()\n",
    ")"
   ]
  },
  {
   "cell_type": "code",
   "execution_count": 13,
   "metadata": {},
   "outputs": [],
   "source": [
    "snippet_df = snippet_df.groupby(\"uuid\").filter(lambda x: x[\"snippet\"].nunique() > 5)"
   ]
  },
  {
   "cell_type": "code",
   "execution_count": 14,
   "metadata": {},
   "outputs": [],
   "source": [
    "codes = pd.factorize(\n",
    "    pd._libs.lib.fast_zip(\n",
    "        [snippet_df[\"snippet\"].values, snippet_df[\"init_type\"].values]\n",
    "    )\n",
    ")[0]"
   ]
  },
  {
   "cell_type": "code",
   "execution_count": 15,
   "metadata": {},
   "outputs": [],
   "source": [
    "snippet_df[\"snippet\"] = codes"
   ]
  },
  {
   "cell_type": "code",
   "execution_count": 16,
   "metadata": {},
   "outputs": [],
   "source": [
    "from numba import jit\n",
    "\n",
    "\n",
    "@jit(nopython=True)\n",
    "def zscore_nb(values, index):\n",
    "    return (values - np.nanmean(values)) / np.nanstd(values)"
   ]
  },
  {
   "cell_type": "code",
   "execution_count": 17,
   "metadata": {},
   "outputs": [],
   "source": [
    "if renormalize:\n",
    "    renormed_values = snippet_df.groupby(\"snippet\")[\"signal_reref_dff_z\"].transform(\n",
    "        zscore_nb, engine=\"numba\"\n",
    "    )\n",
    "    snippet_df[\"signal_reref_dff_z_renorm\"] = renormed_values"
   ]
  },
  {
   "cell_type": "code",
   "execution_count": 18,
   "metadata": {},
   "outputs": [],
   "source": [
    "snippet_df = snippet_df.loc[snippet_df[\"x\"].between(*pre_trim, inclusive=\"both\")].copy()"
   ]
  },
  {
   "cell_type": "code",
   "execution_count": 19,
   "metadata": {},
   "outputs": [],
   "source": [
    "scalar_means = (\n",
    "    snippet_df.loc[(snippet_df[\"x\"] > 0) & (snippet_df[\"x\"] < snippet_df[\"duration\"])]\n",
    "    .groupby(\"snippet\")[scalars_z]\n",
    "    .mean()\n",
    ")"
   ]
  },
  {
   "cell_type": "code",
   "execution_count": 20,
   "metadata": {},
   "outputs": [],
   "source": [
    "uuids = snippet_df.drop_duplicates(\"snippet\").set_index(\"snippet\")[\"uuid\"]"
   ]
  },
  {
   "cell_type": "code",
   "execution_count": 21,
   "metadata": {},
   "outputs": [],
   "source": [
    "scalar_means = scalar_means.reset_index()\n",
    "scalar_means[\"uuid\"] = scalar_means[\"snippet\"].map(uuids).astype(\"str\")"
   ]
  },
  {
   "cell_type": "code",
   "execution_count": 22,
   "metadata": {},
   "outputs": [],
   "source": [
    "scalar_means = scalar_means.set_index(\"snippet\")"
   ]
  },
  {
   "cell_type": "code",
   "execution_count": 23,
   "metadata": {},
   "outputs": [],
   "source": [
    "scalar_diffs = scalar_means.groupby(\"uuid\")[scalars_z].diff()\n",
    "scalar_diffs = scalar_diffs.reset_index()\n",
    "scalar_diffs[\"uuid\"] = scalar_diffs[\"snippet\"].map(uuids).astype(\"str\")"
   ]
  },
  {
   "cell_type": "code",
   "execution_count": 24,
   "metadata": {},
   "outputs": [],
   "source": [
    "scalar_bins = (\n",
    "    scalar_diffs.groupby(\"uuid\")[scalars_z]\n",
    "    .transform(lambda x: pd.qcut(x, 4, labels=False))\n",
    "    .astype(\"UInt8\")\n",
    ")\n",
    "scalar_bins.columns = [f\"{col}_bin\" for col in scalar_bins.columns]\n",
    "scalar_diffs[scalar_bins.columns] = scalar_bins"
   ]
  },
  {
   "cell_type": "code",
   "execution_count": 25,
   "metadata": {},
   "outputs": [
    {
     "data": {
      "application/vnd.jupyter.widget-view+json": {
       "model_id": "321113a2198747bf9fbdd5af171df4fa",
       "version_major": 2,
       "version_minor": 0
      },
      "text/plain": [
       "  0%|          | 0/5 [00:00<?, ?it/s]"
      ]
     },
     "metadata": {},
     "output_type": "display_data"
    }
   ],
   "source": [
    "for col in tqdm(scalar_bins.columns):\n",
    "    snippet_df[col] = snippet_df[\"snippet\"].map(scalar_diffs.set_index(\"snippet\")[col])"
   ]
  },
  {
   "cell_type": "code",
   "execution_count": 26,
   "metadata": {},
   "outputs": [],
   "source": [
    "tqdm.pandas()"
   ]
  },
  {
   "cell_type": "code",
   "execution_count": 27,
   "metadata": {},
   "outputs": [],
   "source": [
    "from scipy import signal"
   ]
  },
  {
   "cell_type": "code",
   "execution_count": 28,
   "metadata": {},
   "outputs": [],
   "source": [
    "soscoeffs = signal.bessel(1, 1 / (30 / 2.0), btype=\"high\", output=\"sos\")\n",
    "filter_func = lambda x: signal.sosfiltfilt(soscoeffs, x)"
   ]
  },
  {
   "cell_type": "code",
   "execution_count": 29,
   "metadata": {},
   "outputs": [
    {
     "data": {
      "application/vnd.jupyter.widget-view+json": {
       "model_id": "be2c6f61097341d180be6d703f8a4057",
       "version_major": 2,
       "version_minor": 0
      },
      "text/plain": [
       "  0%|          | 0/179166 [00:00<?, ?it/s]"
      ]
     },
     "metadata": {},
     "output_type": "display_data"
    }
   ],
   "source": [
    "snippet_df[\"signal_reref_dff_z_hp\"] = snippet_df.groupby(\"snippet\")[\n",
    "    use_key\n",
    "].progress_transform(filter_func)"
   ]
  },
  {
   "cell_type": "code",
   "execution_count": 30,
   "metadata": {},
   "outputs": [],
   "source": [
    "use_feature = \"signal_reref_dff_z_hp\""
   ]
  },
  {
   "cell_type": "code",
   "execution_count": 31,
   "metadata": {},
   "outputs": [],
   "source": [
    "features = (\n",
    "    snippet_df.loc[snippet_df[\"x\"].between(0.0, 0.3, inclusive=\"both\")]\n",
    "    .groupby(\"snippet\")[use_feature]\n",
    "    .agg([\"max\"])\n",
    "    # .agg([\"max\", \"min\", \"mean\"])\n",
    ")"
   ]
  },
  {
   "cell_type": "code",
   "execution_count": 32,
   "metadata": {},
   "outputs": [],
   "source": [
    "# now we're going to bin dLight in each scalar bin..."
   ]
  },
  {
   "cell_type": "code",
   "execution_count": 33,
   "metadata": {},
   "outputs": [
    {
     "data": {
      "application/vnd.jupyter.widget-view+json": {
       "model_id": "69a6816a5e564593a560c6e28965bb3c",
       "version_major": 2,
       "version_minor": 0
      },
      "text/plain": [
       "  0%|          | 0/5 [00:00<?, ?it/s]"
      ]
     },
     "metadata": {},
     "output_type": "display_data"
    },
    {
     "data": {
      "application/vnd.jupyter.widget-view+json": {
       "model_id": "fb12a613714d4bef90a334551509afc8",
       "version_major": 2,
       "version_minor": 0
      },
      "text/plain": [
       "  0%|          | 0/1 [00:00<?, ?it/s]"
      ]
     },
     "metadata": {},
     "output_type": "display_data"
    },
    {
     "data": {
      "application/vnd.jupyter.widget-view+json": {
       "model_id": "eb2198108bf04b1e83b129961322d45c",
       "version_major": 2,
       "version_minor": 0
      },
      "text/plain": [
       "  0%|          | 0/1 [00:00<?, ?it/s]"
      ]
     },
     "metadata": {},
     "output_type": "display_data"
    },
    {
     "data": {
      "application/vnd.jupyter.widget-view+json": {
       "model_id": "c2139142d7234c368b0ba38ca09cebc2",
       "version_major": 2,
       "version_minor": 0
      },
      "text/plain": [
       "  0%|          | 0/1 [00:00<?, ?it/s]"
      ]
     },
     "metadata": {},
     "output_type": "display_data"
    },
    {
     "data": {
      "application/vnd.jupyter.widget-view+json": {
       "model_id": "dc6f52e908e2425d9c4245a9823b1407",
       "version_major": 2,
       "version_minor": 0
      },
      "text/plain": [
       "  0%|          | 0/1 [00:00<?, ?it/s]"
      ]
     },
     "metadata": {},
     "output_type": "display_data"
    },
    {
     "data": {
      "application/vnd.jupyter.widget-view+json": {
       "model_id": "b4aeab106a824bef86ebdeca93da643a",
       "version_major": 2,
       "version_minor": 0
      },
      "text/plain": [
       "  0%|          | 0/1 [00:00<?, ?it/s]"
      ]
     },
     "metadata": {},
     "output_type": "display_data"
    }
   ],
   "source": [
    "for col in tqdm(scalar_bins.columns):\n",
    "    use_scalar_bins = scalar_diffs.set_index(\"snippet\")[col]\n",
    "    features = features.loc[features.index.intersection(use_scalar_bins.index)]\n",
    "    feature_bins = features.groupby(use_scalar_bins).transform(\n",
    "        lambda x: pd.qcut(x, 4, labels=False)\n",
    "    )\n",
    "    for _feature in tqdm(feature_bins.columns):\n",
    "        snippet_df[f\"{_feature}_{col}_bin\"] = (\n",
    "            snippet_df[\"snippet\"].map(feature_bins[_feature]).astype(\"UInt8\")\n",
    "        )"
   ]
  },
  {
   "cell_type": "code",
   "execution_count": 34,
   "metadata": {},
   "outputs": [
    {
     "data": {
      "application/vnd.jupyter.widget-view+json": {
       "model_id": "43068619c69b4c0fac71ca473048b1c2",
       "version_major": 2,
       "version_minor": 0
      },
      "text/plain": [
       "  0%|          | 0/1 [00:00<?, ?it/s]"
      ]
     },
     "metadata": {},
     "output_type": "display_data"
    }
   ],
   "source": [
    "for _feature in tqdm(features.columns):\n",
    "    feature_bins = pd.qcut(features[_feature], 4, labels=False)\n",
    "    snippet_df[f\"{_feature}_bin\"] = (\n",
    "        snippet_df[\"snippet\"].map(feature_bins).astype(\"UInt8\")\n",
    "    )"
   ]
  },
  {
   "cell_type": "code",
   "execution_count": 35,
   "metadata": {},
   "outputs": [],
   "source": [
    "bin_cols = snippet_df.filter(regex=\"bin$\").columns\n",
    "snippet_df = snippet_df.dropna(subset=bin_cols)\n",
    "for _col in bin_cols:\n",
    "    snippet_df[_col] = snippet_df[_col].astype(\"uint8\")"
   ]
  },
  {
   "cell_type": "code",
   "execution_count": 37,
   "metadata": {},
   "outputs": [],
   "source": [
    "plt_scalars = [\"velocity_2d_mm_z\", \"jerk_2d_mm_z\"]\n",
    "plt_scalar_bins = [f\"{_plt_scalar}_bin\" for _plt_scalar in plt_scalars]\n",
    "plt_dlight_bins = [f\"max_{_plt_scalar}_bin_bin\" for _plt_scalar in plt_scalars]"
   ]
  },
  {
   "cell_type": "code",
   "execution_count": 39,
   "metadata": {},
   "outputs": [],
   "source": [
    "use_df = snippet_df[\n",
    "    [\n",
    "        use_feature,\n",
    "        \"snippet\",\n",
    "        \"x\",\n",
    "        \"max_bin\",\n",
    "        \"init_type\",\n",
    "        \"mouse_id\",\n",
    "    ]\n",
    "    + plt_scalar_bins\n",
    "    + plt_dlight_bins\n",
    "].copy()\n",
    "groupby_arrays = [snippet_df[\"init_type\"].values]\n",
    "use_df.index = range(len(use_df))"
   ]
  },
  {
   "cell_type": "markdown",
   "metadata": {
    "tags": []
   },
   "source": [
    "## Randomization with peak value bins"
   ]
  },
  {
   "cell_type": "code",
   "execution_count": 40,
   "metadata": {},
   "outputs": [],
   "source": [
    "signal_key = use_feature\n",
    "lags = (\n",
    "    snippet_df.groupby([\"x\", \"init_type\"])[signal_key]\n",
    "    .mean()\n",
    "    .groupby(\"init_type\")\n",
    "    .apply(lambda x: x.idxmin()[0])\n",
    ")"
   ]
  },
  {
   "cell_type": "code",
   "execution_count": 41,
   "metadata": {},
   "outputs": [],
   "source": [
    "nshuffles = 100"
   ]
  },
  {
   "cell_type": "code",
   "execution_count": 42,
   "metadata": {},
   "outputs": [],
   "source": [
    "snippet_lst = snippet_df[\"snippet\"].unique()\n",
    "shuffle_quantity = pd.Series(use_df[\"snippet\"].unique()).rename(\"snippet\")"
   ]
  },
  {
   "cell_type": "code",
   "execution_count": 43,
   "metadata": {},
   "outputs": [],
   "source": [
    "dlight_bin = [\"x\", \"init_type\", \"mouse_id\"]"
   ]
  },
  {
   "cell_type": "code",
   "execution_count": 44,
   "metadata": {},
   "outputs": [],
   "source": [
    "all_xlims = (-1.5 * 30, 1.5 * 30)\n",
    "shuffle_xlims = (-90, +90)\n",
    "n_jobs = 30"
   ]
  },
  {
   "cell_type": "code",
   "execution_count": 45,
   "metadata": {},
   "outputs": [],
   "source": [
    "func = partial(\n",
    "    get_shuffle_average,\n",
    "    use_df=use_df[dlight_bin + [use_feature, \"snippet\"]].loc[\n",
    "        use_df[\"x\"].between(*all_xlims, inclusive=\"both\")\n",
    "    ],\n",
    "    shuffle_quantity=shuffle_quantity,\n",
    "    shuffle_x=False,\n",
    "    dlight_bin=dlight_bin,\n",
    ")"
   ]
  },
  {
   "cell_type": "code",
   "execution_count": 46,
   "metadata": {},
   "outputs": [
    {
     "name": "stderr",
     "output_type": "stream",
     "text": [
      "[Parallel(n_jobs=30)]: Using backend MultiprocessingBackend with 30 concurrent workers.\n",
      "[Parallel(n_jobs=30)]: Done   1 tasks      | elapsed:    4.6s\n",
      "[Parallel(n_jobs=30)]: Done  12 tasks      | elapsed:   11.5s\n",
      "[Parallel(n_jobs=30)]: Done  25 tasks      | elapsed:   20.7s\n",
      "[Parallel(n_jobs=30)]: Done  38 tasks      | elapsed:   28.6s\n",
      "[Parallel(n_jobs=30)]: Done  52 out of 100 | elapsed:   35.1s remaining:   32.4s\n",
      "[Parallel(n_jobs=30)]: Done  63 out of 100 | elapsed:   40.8s remaining:   24.0s\n",
      "[Parallel(n_jobs=30)]: Done  74 out of 100 | elapsed:   46.5s remaining:   16.4s\n",
      "[Parallel(n_jobs=30)]: Done  85 out of 100 | elapsed:   52.2s remaining:    9.2s\n",
      "[Parallel(n_jobs=30)]: Done  96 out of 100 | elapsed:   57.9s remaining:    2.4s\n",
      "[Parallel(n_jobs=30)]: Done 100 out of 100 | elapsed:   60.0s finished\n"
     ]
    }
   ],
   "source": [
    "delays = [delayed(func)(sidx) for sidx in range(nshuffles)]\n",
    "results = Parallel(n_jobs=n_jobs, verbose=10, backend=\"multiprocessing\")(delays)"
   ]
  },
  {
   "cell_type": "code",
   "execution_count": 47,
   "metadata": {},
   "outputs": [],
   "source": [
    "observed_ave_df = pd.concat(results, axis=0)"
   ]
  },
  {
   "cell_type": "code",
   "execution_count": 48,
   "metadata": {},
   "outputs": [],
   "source": [
    "func = partial(\n",
    "    get_shuffle_average,\n",
    "    use_df=use_df[dlight_bin + [use_feature, \"snippet\"]].loc[\n",
    "        use_df[\"x\"].between(*shuffle_xlims, inclusive=\"both\")\n",
    "    ],\n",
    "    shuffle_quantity=None,\n",
    "    shuffle_x=True,\n",
    "    dlight_bin=dlight_bin,\n",
    ")"
   ]
  },
  {
   "cell_type": "code",
   "execution_count": 49,
   "metadata": {},
   "outputs": [
    {
     "name": "stderr",
     "output_type": "stream",
     "text": [
      "[Parallel(n_jobs=30)]: Using backend MultiprocessingBackend with 30 concurrent workers.\n",
      "[Parallel(n_jobs=30)]: Done   1 tasks      | elapsed:   28.6s\n",
      "[Parallel(n_jobs=30)]: Done  12 tasks      | elapsed:   44.6s\n",
      "[Parallel(n_jobs=30)]: Done  25 tasks      | elapsed:  1.0min\n",
      "[Parallel(n_jobs=30)]: Done  38 tasks      | elapsed:  1.3min\n",
      "[Parallel(n_jobs=30)]: Done  52 out of 100 | elapsed:  1.6min remaining:  1.5min\n",
      "[Parallel(n_jobs=30)]: Done  63 out of 100 | elapsed:  1.8min remaining:  1.1min\n",
      "[Parallel(n_jobs=30)]: Done  74 out of 100 | elapsed:  2.1min remaining:   45.3s\n",
      "[Parallel(n_jobs=30)]: Done  85 out of 100 | elapsed:  2.3min remaining:   23.8s\n",
      "[Parallel(n_jobs=30)]: Done  96 out of 100 | elapsed:  2.5min remaining:    6.2s\n",
      "[Parallel(n_jobs=30)]: Done 100 out of 100 | elapsed:  2.5min finished\n"
     ]
    }
   ],
   "source": [
    "delays = [delayed(func)(sidx) for sidx in range(nshuffles)]\n",
    "results = Parallel(n_jobs=n_jobs, verbose=10, backend=\"multiprocessing\")(delays)"
   ]
  },
  {
   "cell_type": "code",
   "execution_count": 50,
   "metadata": {},
   "outputs": [],
   "source": [
    "shuffle_ci_ave_df = pd.concat(results, axis=0)"
   ]
  },
  {
   "cell_type": "code",
   "execution_count": 51,
   "metadata": {},
   "outputs": [],
   "source": [
    "func = partial(\n",
    "    get_shuffle_average,\n",
    "    use_df=use_df[dlight_bin + [use_feature, \"snippet\"]].loc[\n",
    "        use_df[\"x\"].between(*all_xlims, inclusive=\"both\")\n",
    "    ],\n",
    "    shuffle_quantity=None,\n",
    "    shuffle_x=True,\n",
    "    dlight_bin=dlight_bin,\n",
    ")"
   ]
  },
  {
   "cell_type": "code",
   "execution_count": 52,
   "metadata": {
    "tags": []
   },
   "outputs": [
    {
     "name": "stderr",
     "output_type": "stream",
     "text": [
      "[Parallel(n_jobs=30)]: Using backend MultiprocessingBackend with 30 concurrent workers.\n",
      "[Parallel(n_jobs=30)]: Done   1 tasks      | elapsed:   23.4s\n",
      "[Parallel(n_jobs=30)]: Done  12 tasks      | elapsed:   31.9s\n",
      "[Parallel(n_jobs=30)]: Done  25 tasks      | elapsed:   43.4s\n",
      "[Parallel(n_jobs=30)]: Done  38 tasks      | elapsed:   54.4s\n",
      "[Parallel(n_jobs=30)]: Done  52 out of 100 | elapsed:  1.1min remaining:  1.0min\n",
      "[Parallel(n_jobs=30)]: Done  63 out of 100 | elapsed:  1.2min remaining:   42.5s\n",
      "[Parallel(n_jobs=30)]: Done  74 out of 100 | elapsed:  1.4min remaining:   29.7s\n",
      "[Parallel(n_jobs=30)]: Done  85 out of 100 | elapsed:  1.6min remaining:   16.4s\n",
      "[Parallel(n_jobs=30)]: Done  96 out of 100 | elapsed:  1.7min remaining:    4.1s\n",
      "[Parallel(n_jobs=30)]: Done 100 out of 100 | elapsed:  1.7min finished\n"
     ]
    }
   ],
   "source": [
    "delays = [delayed(func)(sidx) for sidx in range(nshuffles)]\n",
    "results = Parallel(n_jobs=n_jobs, verbose=10, backend=\"multiprocessing\")(delays)"
   ]
  },
  {
   "cell_type": "code",
   "execution_count": 53,
   "metadata": {},
   "outputs": [],
   "source": [
    "shuffle_grand_ave_df = pd.concat(results, axis=0)"
   ]
  },
  {
   "cell_type": "code",
   "execution_count": 54,
   "metadata": {},
   "outputs": [],
   "source": [
    "group_keys = [\"x\", \"init_type\", \"mouse_id\"]\n",
    "# shuffle_group_keys = [\"init_type\",\"mouse_id\"]\n",
    "shuffle_group_keys = group_keys\n",
    "observed_mean = use_df.groupby(group_keys)[signal_key].mean()\n",
    "shuffle_group_keys = group_keys\n",
    "shuffle_agg = shuffle_ci_ave_df.groupby(shuffle_group_keys + [\"idx\"]).mean()\n",
    "shuffle_mu = shuffle_agg.groupby(shuffle_group_keys)[signal_key].mean()\n",
    "shuffle_sig = shuffle_agg.groupby(shuffle_group_keys)[signal_key].std()"
   ]
  },
  {
   "cell_type": "code",
   "execution_count": 56,
   "metadata": {},
   "outputs": [],
   "source": [
    "shuffle_ave_ci = shuffle_agg.groupby([\"init_type\", \"idx\"]).mean()"
   ]
  },
  {
   "cell_type": "code",
   "execution_count": 57,
   "metadata": {},
   "outputs": [
    {
     "data": {
      "text/plain": [
       "['x', 'init_type', 'mouse_id']"
      ]
     },
     "execution_count": 57,
     "metadata": {},
     "output_type": "execute_result"
    }
   ],
   "source": [
    "shuffle_group_keys"
   ]
  },
  {
   "cell_type": "code",
   "execution_count": 58,
   "metadata": {},
   "outputs": [],
   "source": [
    "_test = (\n",
    "    shuffle_grand_ave_df.groupby(shuffle_group_keys + [\"idx\"])[signal_key].mean()\n",
    "    - shuffle_mu\n",
    ") / shuffle_sig\n",
    "_test = _test.dropna()\n",
    "shuffle_cis = _test.groupby(\"init_type\").quantile([0.025, 0.975])\n",
    "shuffle_cis.index = shuffle_cis.index.set_names(\"ci\", level=-1)"
   ]
  },
  {
   "cell_type": "code",
   "execution_count": 59,
   "metadata": {},
   "outputs": [],
   "source": [
    "lims = shuffle_cis.groupby([\"init_type\", \"ci\"]).mean()\n",
    "lims = lims.groupby(\"ci\").apply(lambda x: x.values[np.argmax(x.values)])"
   ]
  },
  {
   "cell_type": "code",
   "execution_count": 60,
   "metadata": {},
   "outputs": [],
   "source": [
    "observed_z = (observed_mean - shuffle_mu) / shuffle_sig\n",
    "observed_z = observed_z.reset_index()\n",
    "observed_z[\"x\"] /= 30.0"
   ]
  },
  {
   "cell_type": "code",
   "execution_count": 61,
   "metadata": {},
   "outputs": [],
   "source": [
    "observed_zs_all = (\n",
    "    observed_ave_df.groupby(group_keys + [\"idx\"]).mean()[signal_key] - shuffle_mu\n",
    ") / shuffle_sig\n",
    "observed_zs_all = (\n",
    "    observed_zs_all.reset_index().set_index(group_keys + [\"idx\"]).sort_index()\n",
    ")\n",
    "observed_zs_average = observed_zs_all.groupby([\"x\", \"init_type\", \"idx\"]).mean()"
   ]
  },
  {
   "cell_type": "code",
   "execution_count": 63,
   "metadata": {},
   "outputs": [],
   "source": [
    "vals = (\n",
    "    observed_zs_all.loc[-30:30]\n",
    "    .groupby([\"init_type\", \"mouse_id\"])\n",
    "    .apply(lambda x: x.abs().mean())\n",
    "    .dropna()\n",
    ")"
   ]
  },
  {
   "cell_type": "code",
   "execution_count": 66,
   "metadata": {},
   "outputs": [],
   "source": [
    "from scipy.stats import wilcoxon"
   ]
  },
  {
   "cell_type": "code",
   "execution_count": 67,
   "metadata": {},
   "outputs": [],
   "source": [
    "use_test = wilcoxon"
   ]
  },
  {
   "cell_type": "code",
   "execution_count": 68,
   "metadata": {},
   "outputs": [],
   "source": [
    "stats = {}\n",
    "stats[\"movement-syllables_offline\"] = {}\n",
    "stats[\"movement-syllables_offline\"][\"test\"] = str(use_test.__name__)"
   ]
  },
  {
   "cell_type": "code",
   "execution_count": 69,
   "metadata": {},
   "outputs": [],
   "source": [
    "stat, p = use_test(\n",
    "    vals.loc[\"movement\"][signal_key].values,\n",
    "    vals.loc[\"syllables_offline\"][signal_key].values,\n",
    ")"
   ]
  },
  {
   "cell_type": "code",
   "execution_count": 70,
   "metadata": {},
   "outputs": [],
   "source": [
    "stats[\"movement-syllables_offline\"][\"stat\"] = stat\n",
    "stats[\"movement-syllables_offline\"][\"p\"] = p\n",
    "stats[\"movement-syllables_offline\"][\"n1\"] = len(vals.loc[\"movement\"])\n",
    "stats[\"movement-syllables_offline\"][\"n2\"] = len(vals.loc[\"syllables_offline\"])\n",
    "stats[\"movement-syllables_offline\"][\"n_definition\"] = \"nmice\""
   ]
  },
  {
   "cell_type": "code",
   "execution_count": 71,
   "metadata": {},
   "outputs": [],
   "source": [
    "stats[\"movement-syllables_offline\"][\"n_snippets_movement\"] = snippet_df[\n",
    "    \"snippet\"\n",
    "].nunique()"
   ]
  },
  {
   "cell_type": "code",
   "execution_count": 72,
   "metadata": {},
   "outputs": [
    {
     "data": {
      "text/plain": [
       "{'movement-syllables_offline': {'test': 'wilcoxon',\n",
       "  'stat': 0.0,\n",
       "  'p': 0.0078125,\n",
       "  'n1': 8,\n",
       "  'n2': 8,\n",
       "  'n_definition': 'nmice',\n",
       "  'n_snippets_movement': 171284}}"
      ]
     },
     "execution_count": 72,
     "metadata": {},
     "output_type": "execute_result"
    }
   ],
   "source": [
    "stats"
   ]
  },
  {
   "cell_type": "code",
   "execution_count": 73,
   "metadata": {},
   "outputs": [],
   "source": [
    "with open(\n",
    "    os.path.join(\n",
    "        proc_dirs[\"dlight\"], f\"stats_movement_init_{use_area}_renorm-{renormalize}.toml\"\n",
    "    ),\n",
    "    \"w\",\n",
    ") as f:\n",
    "    toml.dump(stats, f)"
   ]
  },
  {
   "cell_type": "code",
   "execution_count": 74,
   "metadata": {},
   "outputs": [],
   "source": [
    "setup_plotting_env()\n",
    "# sns.set_context(\"paper\")"
   ]
  },
  {
   "cell_type": "code",
   "execution_count": 75,
   "metadata": {},
   "outputs": [],
   "source": [
    "observed_cis = (\n",
    "    (\n",
    "        (observed_ave_df.groupby(group_keys + [\"idx\"])[signal_key].mean() - shuffle_mu)\n",
    "        / shuffle_sig\n",
    "    )\n",
    "    .groupby(group_keys)\n",
    "    .quantile([0.025, 0.975])\n",
    ").dropna()\n",
    "observed_cis.index = observed_cis.index.set_names(\"ci\", level=-1)\n",
    "observed_cis = observed_cis.groupby([\"x\", \"init_type\", \"ci\"]).mean()"
   ]
  },
  {
   "cell_type": "code",
   "execution_count": 76,
   "metadata": {},
   "outputs": [],
   "source": [
    "observed_z = observed_zs_average.groupby([\"x\", \"init_type\"]).mean()"
   ]
  },
  {
   "cell_type": "code",
   "execution_count": 77,
   "metadata": {},
   "outputs": [],
   "source": [
    "# colors = sns.color_palette()[:2]\n",
    "colors = [sns.color_palette()[1], geno_palette.snc]"
   ]
  },
  {
   "cell_type": "code",
   "execution_count": 78,
   "metadata": {},
   "outputs": [],
   "source": [
    "plt_types = [\"movement\", \"syllables_offline\"]"
   ]
  },
  {
   "cell_type": "code",
   "execution_count": 79,
   "metadata": {},
   "outputs": [
    {
     "data": {
      "image/png": "[encoded data removed]",
      "text/plain": [
       "<Figure size 200x300 with 1 Axes>"
      ]
     },
     "metadata": {},
     "output_type": "display_data"
    }
   ],
   "source": [
    "fig, ax = plt.subplots(1, figsize=(1, 1.5))\n",
    "\n",
    "for _type, _color in zip(plt_types, colors):\n",
    "    obs_lo = observed_cis.xs(_type, level=\"init_type\").iloc[::2]\n",
    "    obs_hi = observed_cis.xs(_type, level=\"init_type\").iloc[1::2]\n",
    "    plt_xvec = obs_lo.index.get_level_values(\"x\") / 30.0\n",
    "    # ax.plot(xvec, obs_lo.values)\n",
    "    ax.fill_between(\n",
    "        plt_xvec,\n",
    "        obs_lo.values,\n",
    "        obs_hi.values,\n",
    "        fc=_color,\n",
    "        alpha=0.5,\n",
    "        zorder=100,\n",
    "        lw=0,\n",
    "        ec=\"none\",\n",
    "    )\n",
    "    ax.plot(\n",
    "        plt_xvec, observed_z.xs(_type, level=\"init_type\").values, color=_color, lw=1\n",
    "    )\n",
    "\n",
    "    ax.set_xlim(-1.5, 1.5)\n",
    "    # ax.set_ylim(-13, 13)\n",
    "\n",
    "clean_ticks(ax, \"y\", include_zero=True, zero_symmetry=True, precision=0, dtype=int)\n",
    "clean_ticks(ax, \"x\", precision=1, dtype=float)\n",
    "# ax.axhline(y=0, color=plt.rcParams[\"axes.edgecolor\"], zorder=-150)\n",
    "ax.axvline(x=0, color=plt.rcParams[\"axes.edgecolor\"], zorder=-150, alpha=1, ls=\"--\")\n",
    "xlims = ax.get_xlim()\n",
    "ax.fill_between(\n",
    "    ax.get_xlim(), lims.values[0], lims.values[1], fc=[0.75] * 3, alpha=1, zorder=-200\n",
    ")\n",
    "plt.ylabel(\"dF/F0 (z)\")\n",
    "plt.xlabel(\"Time (s)\")\n",
    "# plt.axvline(x=.075, ls=\"-.\")\n",
    "sns.despine()\n",
    "plt.show()\n",
    "savefig(\n",
    "    fig,\n",
    "    os.path.join(\n",
    "        figure_cfg[\"store_dir\"],\n",
    "        f\"dlight_initiation_grand_average_quartiles_merged_{use_area}_renorm-{renormalize}\",\n",
    "    ),\n",
    "    bbox_inches=\"tight\",\n",
    ")\n",
    "# _ax.axvline(x=0, color=\"k\", zorder=-100, alpha=0.5)"
   ]
  },
  {
   "cell_type": "code",
   "execution_count": 80,
   "metadata": {},
   "outputs": [],
   "source": [
    "use_group_keys = list(set(group_keys).union(set([\"mouse_id\", \"idx\"])))"
   ]
  },
  {
   "cell_type": "code",
   "execution_count": 81,
   "metadata": {},
   "outputs": [],
   "source": [
    "observed_zs_all_store = (\n",
    "    observed_ave_df.groupby(use_group_keys).mean()[signal_key] - shuffle_mu\n",
    ") / shuffle_sig\n",
    "observed_zs_all_store = observed_zs_all_store.dropna()\n",
    "observed_zs_all_store.reset_index().to_parquet(\n",
    "    os.path.join(\n",
    "        proc_dirs[\"dlight\"],\n",
    "        f\"snippet_max_bin_ave_zscored_{use_area}_renorm-{renormalize}.parquet\",\n",
    "    )\n",
    ")"
   ]
  },
  {
   "cell_type": "markdown",
   "metadata": {
    "tags": []
   },
   "source": [
    "## Randomization w/r/t scalar values"
   ]
  },
  {
   "cell_type": "code",
   "execution_count": 82,
   "metadata": {},
   "outputs": [
    {
     "data": {
      "application/vnd.jupyter.widget-view+json": {
       "model_id": "b65227f63183401394f6239142868868",
       "version_major": 2,
       "version_minor": 0
      },
      "text/plain": [
       "0it [00:00, ?it/s]"
      ]
     },
     "metadata": {},
     "output_type": "display_data"
    },
    {
     "name": "stderr",
     "output_type": "stream",
     "text": [
      "[Parallel(n_jobs=30)]: Using backend MultiprocessingBackend with 30 concurrent workers.\n",
      "[Parallel(n_jobs=30)]: Done   1 tasks      | elapsed:   29.3s\n",
      "[Parallel(n_jobs=30)]: Done  12 tasks      | elapsed:   44.4s\n",
      "[Parallel(n_jobs=30)]: Done  25 tasks      | elapsed:  1.1min\n",
      "[Parallel(n_jobs=30)]: Done  38 tasks      | elapsed:  1.4min\n",
      "[Parallel(n_jobs=30)]: Done  52 out of 100 | elapsed:  1.6min remaining:  1.5min\n",
      "[Parallel(n_jobs=30)]: Done  63 out of 100 | elapsed:  1.8min remaining:  1.1min\n",
      "[Parallel(n_jobs=30)]: Done  74 out of 100 | elapsed:  2.1min remaining:   44.8s\n",
      "[Parallel(n_jobs=30)]: Done  85 out of 100 | elapsed:  2.3min remaining:   24.1s\n",
      "[Parallel(n_jobs=30)]: Done  96 out of 100 | elapsed:  2.5min remaining:    6.2s\n",
      "[Parallel(n_jobs=30)]: Done 100 out of 100 | elapsed:  2.5min finished\n",
      "/home/markowitzmeister_gmail_com/miniconda3/envs/spont-da/lib/python3.10/site-packages/seaborn/axisgrid.py:848: FutureWarning: \n",
      "\n",
      "The `ci` parameter is deprecated. Use `errorbar=None` for the same effect.\n",
      "\n",
      "  func(*plot_args, **plot_kwargs)\n",
      "/home/markowitzmeister_gmail_com/miniconda3/envs/spont-da/lib/python3.10/site-packages/seaborn/axisgrid.py:848: FutureWarning: \n",
      "\n",
      "The `ci` parameter is deprecated. Use `errorbar=None` for the same effect.\n",
      "\n",
      "  func(*plot_args, **plot_kwargs)\n",
      "/home/markowitzmeister_gmail_com/miniconda3/envs/spont-da/lib/python3.10/site-packages/seaborn/axisgrid.py:848: FutureWarning: \n",
      "\n",
      "The `ci` parameter is deprecated. Use `errorbar=None` for the same effect.\n",
      "\n",
      "  func(*plot_args, **plot_kwargs)\n",
      "/home/markowitzmeister_gmail_com/miniconda3/envs/spont-da/lib/python3.10/site-packages/seaborn/axisgrid.py:848: FutureWarning: \n",
      "\n",
      "The `ci` parameter is deprecated. Use `errorbar=None` for the same effect.\n",
      "\n",
      "  func(*plot_args, **plot_kwargs)\n",
      "/home/markowitzmeister_gmail_com/miniconda3/envs/spont-da/lib/python3.10/site-packages/seaborn/axisgrid.py:848: FutureWarning: \n",
      "\n",
      "The `ci` parameter is deprecated. Use `errorbar=None` for the same effect.\n",
      "\n",
      "  func(*plot_args, **plot_kwargs)\n",
      "/home/markowitzmeister_gmail_com/miniconda3/envs/spont-da/lib/python3.10/site-packages/seaborn/axisgrid.py:848: FutureWarning: \n",
      "\n",
      "The `ci` parameter is deprecated. Use `errorbar=None` for the same effect.\n",
      "\n",
      "  func(*plot_args, **plot_kwargs)\n",
      "/home/markowitzmeister_gmail_com/miniconda3/envs/spont-da/lib/python3.10/site-packages/seaborn/axisgrid.py:848: FutureWarning: \n",
      "\n",
      "The `ci` parameter is deprecated. Use `errorbar=None` for the same effect.\n",
      "\n",
      "  func(*plot_args, **plot_kwargs)\n",
      "/home/markowitzmeister_gmail_com/miniconda3/envs/spont-da/lib/python3.10/site-packages/seaborn/axisgrid.py:848: FutureWarning: \n",
      "\n",
      "The `ci` parameter is deprecated. Use `errorbar=None` for the same effect.\n",
      "\n",
      "  func(*plot_args, **plot_kwargs)\n",
      "[Parallel(n_jobs=30)]: Using backend MultiprocessingBackend with 30 concurrent workers.\n",
      "[Parallel(n_jobs=30)]: Done   1 tasks      | elapsed:   29.1s\n",
      "[Parallel(n_jobs=30)]: Done  12 tasks      | elapsed:   44.7s\n",
      "[Parallel(n_jobs=30)]: Done  25 tasks      | elapsed:  1.0min\n",
      "[Parallel(n_jobs=30)]: Done  38 tasks      | elapsed:  1.3min\n",
      "[Parallel(n_jobs=30)]: Done  52 out of 100 | elapsed:  1.6min remaining:  1.5min\n",
      "[Parallel(n_jobs=30)]: Done  63 out of 100 | elapsed:  1.9min remaining:  1.1min\n",
      "[Parallel(n_jobs=30)]: Done  74 out of 100 | elapsed:  2.2min remaining:   45.7s\n",
      "[Parallel(n_jobs=30)]: Done  85 out of 100 | elapsed:  2.4min remaining:   25.6s\n",
      "[Parallel(n_jobs=30)]: Done  96 out of 100 | elapsed:  2.6min remaining:    6.6s\n",
      "[Parallel(n_jobs=30)]: Done 100 out of 100 | elapsed:  2.7min finished\n",
      "/home/markowitzmeister_gmail_com/miniconda3/envs/spont-da/lib/python3.10/site-packages/seaborn/axisgrid.py:848: FutureWarning: \n",
      "\n",
      "The `ci` parameter is deprecated. Use `errorbar=None` for the same effect.\n",
      "\n",
      "  func(*plot_args, **plot_kwargs)\n",
      "/home/markowitzmeister_gmail_com/miniconda3/envs/spont-da/lib/python3.10/site-packages/seaborn/axisgrid.py:848: FutureWarning: \n",
      "\n",
      "The `ci` parameter is deprecated. Use `errorbar=None` for the same effect.\n",
      "\n",
      "  func(*plot_args, **plot_kwargs)\n",
      "/home/markowitzmeister_gmail_com/miniconda3/envs/spont-da/lib/python3.10/site-packages/seaborn/axisgrid.py:848: FutureWarning: \n",
      "\n",
      "The `ci` parameter is deprecated. Use `errorbar=None` for the same effect.\n",
      "\n",
      "  func(*plot_args, **plot_kwargs)\n",
      "/home/markowitzmeister_gmail_com/miniconda3/envs/spont-da/lib/python3.10/site-packages/seaborn/axisgrid.py:848: FutureWarning: \n",
      "\n",
      "The `ci` parameter is deprecated. Use `errorbar=None` for the same effect.\n",
      "\n",
      "  func(*plot_args, **plot_kwargs)\n",
      "/home/markowitzmeister_gmail_com/miniconda3/envs/spont-da/lib/python3.10/site-packages/seaborn/axisgrid.py:848: FutureWarning: \n",
      "\n",
      "The `ci` parameter is deprecated. Use `errorbar=None` for the same effect.\n",
      "\n",
      "  func(*plot_args, **plot_kwargs)\n",
      "/home/markowitzmeister_gmail_com/miniconda3/envs/spont-da/lib/python3.10/site-packages/seaborn/axisgrid.py:848: FutureWarning: \n",
      "\n",
      "The `ci` parameter is deprecated. Use `errorbar=None` for the same effect.\n",
      "\n",
      "  func(*plot_args, **plot_kwargs)\n",
      "/home/markowitzmeister_gmail_com/miniconda3/envs/spont-da/lib/python3.10/site-packages/seaborn/axisgrid.py:848: FutureWarning: \n",
      "\n",
      "The `ci` parameter is deprecated. Use `errorbar=None` for the same effect.\n",
      "\n",
      "  func(*plot_args, **plot_kwargs)\n",
      "/home/markowitzmeister_gmail_com/miniconda3/envs/spont-da/lib/python3.10/site-packages/seaborn/axisgrid.py:848: FutureWarning: \n",
      "\n",
      "The `ci` parameter is deprecated. Use `errorbar=None` for the same effect.\n",
      "\n",
      "  func(*plot_args, **plot_kwargs)\n"
     ]
    },
    {
     "data": {
      "image/png": "[encoded data removed]",
      "text/plain": [
       "<Figure size 300x600 with 5 Axes>"
      ]
     },
     "metadata": {},
     "output_type": "display_data"
    },
    {
     "data": {
      "image/png": "[encoded data removed]",
      "text/plain": [
       "<Figure size 300x600 with 5 Axes>"
      ]
     },
     "metadata": {},
     "output_type": "display_data"
    },
    {
     "data": {
      "image/png": "[encoded data removed]",
      "text/plain": [
       "<Figure size 300x600 with 5 Axes>"
      ]
     },
     "metadata": {},
     "output_type": "display_data"
    },
    {
     "data": {
      "image/png": "[encoded data removed]",
      "text/plain": [
       "<Figure size 300x600 with 5 Axes>"
      ]
     },
     "metadata": {},
     "output_type": "display_data"
    }
   ],
   "source": [
    "for (_plt_scalar_bin, _plt_dlight_bin, _plt_scalar) in tqdm(\n",
    "    zip(plt_scalar_bins, plt_dlight_bins, plt_scalars)\n",
    "):\n",
    "    snippet_lst = snippet_df[\"snippet\"].unique()\n",
    "    shuffle_quantity = pd.Series(use_df[\"snippet\"].unique()).rename(\"snippet\")\n",
    "\n",
    "    func = partial(\n",
    "        get_shuffle_average,\n",
    "        use_df=use_df[\n",
    "            [_plt_scalar_bin, _plt_dlight_bin, use_feature, \"x\", \"init_type\", \"snippet\"]\n",
    "        ],\n",
    "        shuffle_quantity=None,\n",
    "        shuffle_x=True,\n",
    "        dlight_bin=[\"x\", \"init_type\", _plt_scalar_bin, _plt_dlight_bin],\n",
    "    )\n",
    "\n",
    "    delays = [delayed(func)(sidx) for sidx in range(nshuffles)]\n",
    "    results = Parallel(n_jobs=n_jobs, verbose=10, backend=\"multiprocessing\")(delays)\n",
    "\n",
    "    shuffle_grand_ave_df = pd.concat(results, axis=0)\n",
    "\n",
    "    group_keys = [\"x\", \"init_type\", _plt_dlight_bin, _plt_scalar_bin]\n",
    "    signal_key = use_feature\n",
    "    observed_mean = snippet_df.groupby(group_keys)[signal_key].mean()\n",
    "    shuffle_mu = shuffle_grand_ave_df.groupby(group_keys)[signal_key].mean()\n",
    "    shuffle_sig = shuffle_grand_ave_df.groupby(group_keys)[signal_key].std()\n",
    "\n",
    "    shuffle_grand_ave_df = shuffle_grand_ave_df.reset_index()\n",
    "\n",
    "    _test = (\n",
    "        shuffle_grand_ave_df.set_index(group_keys)[signal_key] - shuffle_mu\n",
    "    ) / shuffle_sig\n",
    "    shuffle_cis = _test.groupby(group_keys).quantile([0.025, 0.975])\n",
    "    shuffle_cis.index = shuffle_cis.index.set_names(\"ci\", level=-1)\n",
    "\n",
    "    lims = shuffle_cis.groupby(\"ci\").mean().values\n",
    "\n",
    "    observed_z = (observed_mean - shuffle_mu) / shuffle_sig\n",
    "\n",
    "    observed_z = observed_z.reset_index()\n",
    "    observed_z[\"x\"] /= 30.0\n",
    "\n",
    "    # observed_zs = (observed_ave_df.set_index(\"idx\", append=True)[signal_key] - shuffle_mu) / shuffle_sig\n",
    "    # observed_zs = observed_zs.groupby([\"x\",\"init_type\",\"idx\"]).mean()\n",
    "\n",
    "    show_scalar_bins = observed_z[_plt_scalar_bin].dropna().sort_values().unique()\n",
    "\n",
    "    pal = sns.color_palette(\"Greens\", n_colors=len(show_scalar_bins) + 1)[1:]\n",
    "    cmap = plt.matplotlib.colors.LinearSegmentedColormap.from_list(\n",
    "        \"\",\n",
    "        pal,\n",
    "        len(show_scalar_bins),\n",
    "    )\n",
    "\n",
    "    sm = plt.matplotlib.cm.ScalarMappable(\n",
    "        cmap=cmap, norm=plt.Normalize(vmin=-0.1, vmax=1.1)\n",
    "    )\n",
    "    sm.set_array([])\n",
    "    # Remove the legend and add a colorbar\n",
    "\n",
    "    setup_plotting_env()\n",
    "\n",
    "    g = sns.relplot(\n",
    "        data=observed_z.loc[\n",
    "            (observed_z[\"init_type\"] == \"syllables_offline\")\n",
    "            & (observed_z[\"x\"].between(-1.5, 1.5, inclusive=\"both\"))\n",
    "        ].reset_index(),\n",
    "        x=\"x\",\n",
    "        y=signal_key,\n",
    "        # y=\"signal_reref_dff_z\",\n",
    "        row=_plt_scalar_bin,\n",
    "        row_order=reversed(show_scalar_bins),\n",
    "        hue=_plt_dlight_bin,\n",
    "        ci=None,\n",
    "        height=0.7,\n",
    "        aspect=2.25,\n",
    "        n_boot=0,\n",
    "        kind=\"line\",\n",
    "        legend=False,\n",
    "        palette=cmap,\n",
    "        lw=1,\n",
    "        clip_on=False,\n",
    "    )\n",
    "    g.fig.set_size_inches(1.5, 3)\n",
    "    g.set_titles(row_template=\"{row_name}\")\n",
    "    g.set(xlim=(-1.5, 1.5), ylim=(-400, 400))\n",
    "    yscale = 100\n",
    "    yloc = -300\n",
    "    xscale = 0.5\n",
    "    xloc = -3\n",
    "\n",
    "    for _ax in g.axes.flat:\n",
    "        #     pass\n",
    "        title = _ax.get_title()\n",
    "        _ax.set_title(\"\")\n",
    "        _ax.set_title(title, loc=\"right\", y=1, pad=-10)\n",
    "        _ax.axis(\"off\")\n",
    "        # _ax.axvline(x=0, color=\"k\", zorder=-300, alpha=0.5)\n",
    "        _ax.axhline(y=0, color=\"k\", zorder=-300, alpha=0.5)\n",
    "\n",
    "    ylims = _ax.get_ylim()\n",
    "\n",
    "    total_span = (ylims[1] - ylims[0]) * len(g.axes.flat)\n",
    "    _ax.plot(\n",
    "        [0, 0],\n",
    "        [ylims[0], total_span * 0.9],\n",
    "        color=\"k\",\n",
    "        zorder=-200,\n",
    "        clip_on=False,\n",
    "        alpha=0.5,\n",
    "    )\n",
    "    _ax.set_ylim(ylims)\n",
    "    g.axes.flat[-1].plot([xloc, xloc], [yloc, yloc + yscale], color=\"k\", clip_on=False)\n",
    "    g.axes.flat[-1].plot([xloc, xloc + xscale], [yloc, yloc], color=\"k\", clip_on=False)\n",
    "\n",
    "    g.fig.subplots_adjust(hspace=0)\n",
    "    cb = g.fig.colorbar(\n",
    "        sm,\n",
    "        ax=g.axes.ravel().tolist(),\n",
    "        pad=0.3,\n",
    "        label=\"Max dF/F0 bin\",\n",
    "        shrink=0.5,\n",
    "        ticks=np.linspace(0, 1, len(show_scalar_bins)),\n",
    "    )\n",
    "    cb.set_ticklabels(show_scalar_bins)\n",
    "    savefig(\n",
    "        g.fig,\n",
    "        os.path.join(\n",
    "            figure_cfg[\"store_dir\"],\n",
    "            f\"dlight_speed_transition_bins_max_split_shufflez_{_plt_scalar}_{use_area}_renorm-{renormalize}\",\n",
    "        ),\n",
    "        bbox_inches=\"tight\",\n",
    "    )\n",
    "\n",
    "    observed_scalar_mean = (\n",
    "        snippet_df.groupby(group_keys)[_plt_scalar].mean()\n",
    "        # .xs(\"syllable_offline\", level=\"init_type\")\n",
    "        .reset_index()\n",
    "    )\n",
    "\n",
    "    pal = sns.color_palette(\"Blues\", n_colors=len(show_scalar_bins) + 1)[1:]\n",
    "    cmap = plt.matplotlib.colors.LinearSegmentedColormap.from_list(\n",
    "        \"\",\n",
    "        pal,\n",
    "        len(show_scalar_bins),\n",
    "    )\n",
    "\n",
    "    sm = plt.matplotlib.cm.ScalarMappable(\n",
    "        cmap=cmap, norm=plt.Normalize(vmin=-0.1, vmax=1.1)\n",
    "    )\n",
    "    sm.set_array([])\n",
    "    # Remove the legend and add a colorbar\n",
    "\n",
    "    observed_scalar_mean[\"x\"] /= 30.0\n",
    "    g = sns.relplot(\n",
    "        data=observed_scalar_mean.loc[\n",
    "            (observed_scalar_mean[\"init_type\"] == \"syllables_offline\")\n",
    "            & (observed_scalar_mean[\"x\"].between(-1.5, 1.5, inclusive=\"both\"))\n",
    "        ],\n",
    "        x=\"x\",\n",
    "        y=_plt_scalar,\n",
    "        row=_plt_scalar_bin,\n",
    "        row_order=reversed(show_scalar_bins),\n",
    "        hue=_plt_dlight_bin,\n",
    "        ci=None,\n",
    "        height=0.7,\n",
    "        aspect=2.25,\n",
    "        n_boot=0,\n",
    "        kind=\"line\",\n",
    "        legend=False,\n",
    "        palette=cmap,\n",
    "        lw=1,\n",
    "        facet_kws={\"sharey\": True, \"sharex\": True},\n",
    "    )\n",
    "    g.set_titles(row_template=\"{row_name}\")\n",
    "    g.fig.set_size_inches(1.5, 3)\n",
    "\n",
    "    yscale = 0.5\n",
    "    yloc = -1\n",
    "    xscale = 0.5\n",
    "    xloc = -3\n",
    "\n",
    "    for _ax in g.axes.flat:\n",
    "        #     pass\n",
    "        title = _ax.get_title()\n",
    "        _ax.set_title(\"\")\n",
    "        _ax.set_title(title, loc=\"right\", y=1, pad=-10)\n",
    "        _ax.axis(\"off\")\n",
    "        # _ax.axvline(x=0, color=\"k\", zorder=-300, alpha=0.5)\n",
    "        _ax.axhline(y=0, color=\"k\", zorder=-300, alpha=0.5)\n",
    "\n",
    "    g.set(xlim=(-1.5, 1.5), ylim=(-1.5, 1.5))\n",
    "    ylims = _ax.get_ylim()\n",
    "\n",
    "    yrange = ylims[1] - ylims[0]\n",
    "    _ax.plot(\n",
    "        [0, 0], [ylims[0], yrange * 4], color=\"k\", zorder=-200, clip_on=False, alpha=0.5\n",
    "    )\n",
    "    _ax.set_ylim(ylims)\n",
    "\n",
    "    g.axes.flat[-1].plot([xloc, xloc], [yloc, yloc + yscale], color=\"k\", clip_on=False)\n",
    "    g.axes.flat[-1].plot([xloc, xloc + xscale], [yloc, yloc], color=\"k\", clip_on=False)\n",
    "\n",
    "    g.fig.subplots_adjust(hspace=0)\n",
    "    cb = g.fig.colorbar(\n",
    "        sm,\n",
    "        ax=g.axes.ravel().tolist(),\n",
    "        pad=0.3,\n",
    "        label=\"Max dF/F0 bin\",\n",
    "        shrink=0.5,\n",
    "        ticks=np.linspace(0, 1, len(show_scalar_bins)),\n",
    "    )\n",
    "    cb.set_ticklabels(show_scalar_bins)\n",
    "    savefig(\n",
    "        g.fig,\n",
    "        os.path.join(\n",
    "            figure_cfg[\"store_dir\"],\n",
    "            f\"dlight_speed_transition_bins_max_split_{_plt_scalar}_{use_area}_renorm-{renormalize}\",\n",
    "        ),\n",
    "        bbox_inches=\"tight\",\n",
    "    )"
   ]
  },
  {
   "cell_type": "code",
   "execution_count": null,
   "metadata": {},
   "outputs": [],
   "source": []
  }
 ],
 "metadata": {
  "kernelspec": {
   "display_name": "Python [conda env:spont-da]",
   "language": "python",
   "name": "conda-env-spont-da-py"
  },
  "language_info": {
   "codemirror_mode": {
    "name": "ipython",
    "version": 3
   },
   "file_extension": ".py",
   "mimetype": "text/x-python",
   "name": "python",
   "nbconvert_exporter": "python",
   "pygments_lexer": "ipython3",
   "version": "3.10.8"
  },
  "widgets": {
   "application/vnd.jupyter.widget-state+json": {
    "state": {
     "0c2fdf7cc8b041b28ad6f775feb9e1b2": {
      "model_module": "@jupyter-widgets/base",
      "model_module_version": "1.2.0",
      "model_name": "LayoutModel",
      "state": {}
     },
     "1001a27c0c074ac198bd468374323a2e": {
      "model_module": "@jupyter-widgets/controls",
      "model_module_version": "1.5.0",
      "model_name": "HBoxModel",
      "state": {
       "children": [
        "IPY_MODEL_39ea6a6a3b094af8892ed29f09468e8e",
        "IPY_MODEL_3becade9c77a4841aaf71a133ff0c716"
       ],
       "layout": "IPY_MODEL_904831def6f4458d84d03d520d49017e"
      }
     },
     "11e5f855cc134b13a37770ba162b56d3": {
      "model_module": "@jupyter-widgets/base",
      "model_module_version": "1.2.0",
      "model_name": "LayoutModel",
      "state": {}
     },
     "135886efb36e4b1891e7b9595f5a69a7": {
      "model_module": "@jupyter-widgets/base",
      "model_module_version": "1.2.0",
      "model_name": "LayoutModel",
      "state": {}
     },
     "151fb3f16202474089e6685841e0f11c": {
      "model_module": "@jupyter-widgets/controls",
      "model_module_version": "1.5.0",
      "model_name": "HTMLModel",
      "state": {
       "layout": "IPY_MODEL_edae40b144fd469ca3fd80efbeff1b8d",
       "style": "IPY_MODEL_6a61457647284def89edcb0c334b4724",
       "value": " 19/19 [29:27&lt;00:00, 93.03s/it]"
      }
     },
     "23b37c61bbc24d62a47bece85cc92bdc": {
      "model_module": "@jupyter-widgets/base",
      "model_module_version": "1.2.0",
      "model_name": "LayoutModel",
      "state": {}
     },
     "3157ef96fb9c407798033e0c971c0b91": {
      "model_module": "@jupyter-widgets/base",
      "model_module_version": "1.2.0",
      "model_name": "LayoutModel",
      "state": {}
     },
     "3320c6d509d744e6a5fbc0ef152785a7": {
      "model_module": "@jupyter-widgets/base",
      "model_module_version": "1.2.0",
      "model_name": "LayoutModel",
      "state": {}
     },
     "39ea6a6a3b094af8892ed29f09468e8e": {
      "model_module": "@jupyter-widgets/controls",
      "model_module_version": "1.5.0",
      "model_name": "FloatProgressModel",
      "state": {
       "description": "  5%",
       "layout": "IPY_MODEL_135886efb36e4b1891e7b9595f5a69a7",
       "max": 19,
       "style": "IPY_MODEL_f383eee0318f40ad9695f8f30d353fc7",
       "value": 1
      }
     },
     "3becade9c77a4841aaf71a133ff0c716": {
      "model_module": "@jupyter-widgets/controls",
      "model_module_version": "1.5.0",
      "model_name": "HTMLModel",
      "state": {
       "layout": "IPY_MODEL_11e5f855cc134b13a37770ba162b56d3",
       "style": "IPY_MODEL_85a2ae049da942199e8ae571f375f5be",
       "value": " 1/19 [00:01&lt;00:35,  1.95s/it]"
      }
     },
     "3cb5141450ed40cb8ea4ae55f5d079e8": {
      "model_module": "@jupyter-widgets/controls",
      "model_module_version": "1.5.0",
      "model_name": "HBoxModel",
      "state": {
       "children": [
        "IPY_MODEL_563568b1258a41539b00a82d58d9a760",
        "IPY_MODEL_eb693443923b4849910c81c3e234ea0a"
       ],
       "layout": "IPY_MODEL_cfec1c73705645c09cf30a8e9eff64fa"
      }
     },
     "563568b1258a41539b00a82d58d9a760": {
      "model_module": "@jupyter-widgets/controls",
      "model_module_version": "1.5.0",
      "model_name": "FloatProgressModel",
      "state": {
       "bar_style": "success",
       "description": "100%",
       "layout": "IPY_MODEL_23b37c61bbc24d62a47bece85cc92bdc",
       "max": 19,
       "style": "IPY_MODEL_a34d88c02f764beba35e1c6f25c14088",
       "value": 19
      }
     },
     "67dea0179ff34a1d9cd1e2afb6be40bb": {
      "model_module": "@jupyter-widgets/controls",
      "model_module_version": "1.5.0",
      "model_name": "FloatProgressModel",
      "state": {
       "bar_style": "success",
       "description": "100%",
       "layout": "IPY_MODEL_ccdc1ce02d84438ba5837323959ac392",
       "max": 19,
       "style": "IPY_MODEL_d1236fd48fbe4a86b88f7e57a30a254e",
       "value": 19
      }
     },
     "6a61457647284def89edcb0c334b4724": {
      "model_module": "@jupyter-widgets/controls",
      "model_module_version": "1.5.0",
      "model_name": "DescriptionStyleModel",
      "state": {
       "description_width": ""
      }
     },
     "85a2ae049da942199e8ae571f375f5be": {
      "model_module": "@jupyter-widgets/controls",
      "model_module_version": "1.5.0",
      "model_name": "DescriptionStyleModel",
      "state": {
       "description_width": ""
      }
     },
     "904831def6f4458d84d03d520d49017e": {
      "model_module": "@jupyter-widgets/base",
      "model_module_version": "1.2.0",
      "model_name": "LayoutModel",
      "state": {}
     },
     "91b950b97f9f49179ac41fba04bef6ec": {
      "model_module": "@jupyter-widgets/controls",
      "model_module_version": "1.5.0",
      "model_name": "HBoxModel",
      "state": {
       "children": [
        "IPY_MODEL_c09802e74cbf465e89e98d12451db80b",
        "IPY_MODEL_b67bba143dc149aca75d6b19f991f40b"
       ],
       "layout": "IPY_MODEL_ef408cf36bf64dc5981e43291d864254"
      }
     },
     "a318aec2eccc4d5a888cd77c1d83de58": {
      "model_module": "@jupyter-widgets/controls",
      "model_module_version": "1.5.0",
      "model_name": "HBoxModel",
      "state": {
       "children": [
        "IPY_MODEL_67dea0179ff34a1d9cd1e2afb6be40bb",
        "IPY_MODEL_151fb3f16202474089e6685841e0f11c"
       ],
       "layout": "IPY_MODEL_0c2fdf7cc8b041b28ad6f775feb9e1b2"
      }
     },
     "a34d88c02f764beba35e1c6f25c14088": {
      "model_module": "@jupyter-widgets/controls",
      "model_module_version": "1.5.0",
      "model_name": "ProgressStyleModel",
      "state": {
       "description_width": "initial"
      }
     },
     "b67bba143dc149aca75d6b19f991f40b": {
      "model_module": "@jupyter-widgets/controls",
      "model_module_version": "1.5.0",
      "model_name": "HTMLModel",
      "state": {
       "layout": "IPY_MODEL_3157ef96fb9c407798033e0c971c0b91",
       "style": "IPY_MODEL_d11fa8243b2e41ce9b2c2b0d76dfa8e0",
       "value": " 19/19 [02:00&lt;00:00,  6.34s/it]"
      }
     },
     "c09802e74cbf465e89e98d12451db80b": {
      "model_module": "@jupyter-widgets/controls",
      "model_module_version": "1.5.0",
      "model_name": "FloatProgressModel",
      "state": {
       "bar_style": "success",
       "description": "100%",
       "layout": "IPY_MODEL_3320c6d509d744e6a5fbc0ef152785a7",
       "max": 19,
       "style": "IPY_MODEL_ccbab5b38c564ff2be813f668ace192f",
       "value": 19
      }
     },
     "ccbab5b38c564ff2be813f668ace192f": {
      "model_module": "@jupyter-widgets/controls",
      "model_module_version": "1.5.0",
      "model_name": "ProgressStyleModel",
      "state": {
       "description_width": "initial"
      }
     },
     "ccdc1ce02d84438ba5837323959ac392": {
      "model_module": "@jupyter-widgets/base",
      "model_module_version": "1.2.0",
      "model_name": "LayoutModel",
      "state": {}
     },
     "cfec1c73705645c09cf30a8e9eff64fa": {
      "model_module": "@jupyter-widgets/base",
      "model_module_version": "1.2.0",
      "model_name": "LayoutModel",
      "state": {}
     },
     "d11fa8243b2e41ce9b2c2b0d76dfa8e0": {
      "model_module": "@jupyter-widgets/controls",
      "model_module_version": "1.5.0",
      "model_name": "DescriptionStyleModel",
      "state": {
       "description_width": ""
      }
     },
     "d1236fd48fbe4a86b88f7e57a30a254e": {
      "model_module": "@jupyter-widgets/controls",
      "model_module_version": "1.5.0",
      "model_name": "ProgressStyleModel",
      "state": {
       "description_width": "initial"
      }
     },
     "eb693443923b4849910c81c3e234ea0a": {
      "model_module": "@jupyter-widgets/controls",
      "model_module_version": "1.5.0",
      "model_name": "HTMLModel",
      "state": {
       "layout": "IPY_MODEL_f164a9b92dc74eb2a9495833b2758d82",
       "style": "IPY_MODEL_ebe3845f08e44758b963aa320dd46522",
       "value": " 19/19 [00:14&lt;00:00,  1.36it/s]"
      }
     },
     "ebe3845f08e44758b963aa320dd46522": {
      "model_module": "@jupyter-widgets/controls",
      "model_module_version": "1.5.0",
      "model_name": "DescriptionStyleModel",
      "state": {
       "description_width": ""
      }
     },
     "edae40b144fd469ca3fd80efbeff1b8d": {
      "model_module": "@jupyter-widgets/base",
      "model_module_version": "1.2.0",
      "model_name": "LayoutModel",
      "state": {}
     },
     "ef408cf36bf64dc5981e43291d864254": {
      "model_module": "@jupyter-widgets/base",
      "model_module_version": "1.2.0",
      "model_name": "LayoutModel",
      "state": {}
     },
     "f164a9b92dc74eb2a9495833b2758d82": {
      "model_module": "@jupyter-widgets/base",
      "model_module_version": "1.2.0",
      "model_name": "LayoutModel",
      "state": {}
     },
     "f383eee0318f40ad9695f8f30d353fc7": {
      "model_module": "@jupyter-widgets/controls",
      "model_module_version": "1.5.0",
      "model_name": "ProgressStyleModel",
      "state": {
       "description_width": "initial"
      }
     }
    },
    "version_major": 2,
    "version_minor": 0
   }
  }
 },
 "nbformat": 4,
 "nbformat_minor": 4
}
