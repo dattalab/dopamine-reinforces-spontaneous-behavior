{
 "cells": [
  {
   "cell_type": "code",
   "execution_count": 1,
   "metadata": {
    "scrolled": true
   },
   "outputs": [],
   "source": [
    "%load_ext autoreload\n",
    "%autoreload 2\n",
    "%matplotlib inline"
   ]
  },
  {
   "cell_type": "code",
   "execution_count": 2,
   "metadata": {},
   "outputs": [],
   "source": [
    "from tqdm.auto import tqdm\n",
    "from rl_analysis.plotting import setup_plotting_env, clean_ticks, savefig\n",
    "import pandas as pd\n",
    "\n",
    "import os\n",
    "import seaborn as sns\n",
    "import numpy as np"
   ]
  },
  {
   "cell_type": "code",
   "execution_count": 3,
   "metadata": {},
   "outputs": [],
   "source": [
    "import toml\n",
    "\n",
    "with open(\"../analysis_configuration.toml\", \"r\") as f:\n",
    "    analysis_config = toml.load(f)"
   ]
  },
  {
   "cell_type": "code",
   "execution_count": 4,
   "metadata": {},
   "outputs": [],
   "source": [
    "raw_dirs = analysis_config[\"raw_data\"]\n",
    "proc_dirs = analysis_config[\"intermediate_results\"]\n",
    "closed_loop_cfg = analysis_config[\"closed_loop_behavior\"]\n",
    "figure_cfg = analysis_config[\"figures\"]"
   ]
  },
  {
   "cell_type": "markdown",
   "metadata": {},
   "source": [
    "# Load in raw data and normalize"
   ]
  },
  {
   "cell_type": "code",
   "execution_count": 5,
   "metadata": {},
   "outputs": [],
   "source": [
    "feedback_df = pd.read_parquet(\n",
    "    os.path.join(\n",
    "        raw_dirs[\"closed_loop_behavior\"],\n",
    "        \"closed_loop_behavior_velocity_conditioned.parquet\",\n",
    "    )\n",
    ")"
   ]
  },
  {
   "cell_type": "code",
   "execution_count": 6,
   "metadata": {},
   "outputs": [],
   "source": [
    "meta_df = feedback_df.drop_duplicates(\"uuid\")"
   ]
  },
  {
   "cell_type": "code",
   "execution_count": 8,
   "metadata": {},
   "outputs": [
    {
     "data": {
      "text/plain": [
       "mouse_id\n",
       "5891            [02/23/22, 02/24/22, 02/28/22, 03/01/22, 03/02/22, 03/03/22, 03/04/22, 03/07/22, 03/08/22, 03/09/22]\n",
       "5892            [02/23/22, 02/24/22, 02/28/22, 03/01/22, 03/02/22, 03/03/22, 03/04/22, 03/07/22, 03/08/22, 03/09/22]\n",
       "5893            [02/23/22, 02/24/22, 02/28/22, 03/01/22, 03/02/22, 03/03/22, 03/04/22, 03/07/22, 03/08/22, 03/09/22]\n",
       "5894            [02/23/22, 02/24/22, 02/28/22, 03/01/22, 03/02/22, 03/03/22, 03/04/22, 03/07/22, 03/08/22, 03/09/22]\n",
       "dls-ai32jr-1                                                      [10/27/21, 10/28/21, 10/29/21, 11/01/21, 11/02/21]\n",
       "dls-ai32jr-2                                                      [10/27/21, 10/28/21, 10/29/21, 11/01/21, 11/02/21]\n",
       "dls-ai32jr-3                                                      [10/27/21, 10/28/21, 10/29/21, 11/01/21, 11/02/21]\n",
       "dls-ai32jr-4                                                      [10/27/21, 10/28/21, 10/29/21, 11/01/21, 11/02/21]\n",
       "dls-ai32jr-5                                                      [10/27/21, 10/28/21, 10/29/21, 11/01/21, 11/02/21]\n",
       "Name: date, dtype: object"
      ]
     },
     "metadata": {},
     "output_type": "display_data"
    }
   ],
   "source": [
    "with pd.option_context(\n",
    "    \"display.max_rows\", None, \"display.max_columns\", None, \"display.max_colwidth\", None\n",
    "):\n",
    "    display(\n",
    "        meta_df.groupby(\"mouse_id\")[\"date\"].apply(\n",
    "            lambda x: x.dt.strftime(\"%D\").unique()\n",
    "        )\n",
    "    )"
   ]
  },
  {
   "cell_type": "code",
   "execution_count": 9,
   "metadata": {},
   "outputs": [],
   "source": [
    "meta_df = feedback_df.drop_duplicates([\"syllable_group\", \"date\"])"
   ]
  },
  {
   "cell_type": "code",
   "execution_count": 10,
   "metadata": {},
   "outputs": [],
   "source": [
    "cnts = meta_df.groupby([\"mouse_id\", \"stim_duration\", \"target_syllable\"])[\n",
    "    \"syllable_group\"\n",
    "].nunique()"
   ]
  },
  {
   "cell_type": "markdown",
   "metadata": {},
   "source": [
    "## Now average velocity for all syllables"
   ]
  },
  {
   "cell_type": "code",
   "execution_count": 12,
   "metadata": {},
   "outputs": [],
   "source": [
    "scalar_keys = [\n",
    "    \"velocity_2d_mm\",\n",
    "    \"acceleration_2d_mm\",\n",
    "    \"velocity_angle\",\n",
    "    \"velocity_height\",\n",
    "]\n",
    "scalar_keys = feedback_df.columns.intersection(scalar_keys).tolist()"
   ]
  },
  {
   "cell_type": "markdown",
   "metadata": {},
   "source": [
    "## Analyze in RLE space"
   ]
  },
  {
   "cell_type": "code",
   "execution_count": 13,
   "metadata": {},
   "outputs": [
    {
     "name": "stderr",
     "output_type": "stream",
     "text": [
      "/tmp/ipykernel_1567289/1305843912.py:3: FutureWarning: Not prepending group keys to the result index of transform-like apply. In the future, the group keys will be included in the index, regardless of whether the applied function returns a like-indexed object.\n",
      "To preserve the previous behavior, use\n",
      "\n",
      "\t>>> .groupby(..., group_keys=False)\n",
      "\n",
      "To adopt the future behavior and silence this warning, use \n",
      "\n",
      "\t>>> .groupby(..., group_keys=True)\n",
      "  ].apply(lambda x: (x.diff() != 0).cumsum())\n"
     ]
    }
   ],
   "source": [
    "feedback_df[\"syllable_number\"] = feedback_df.groupby(\"uuid\")[\n",
    "    \"predicted_syllable\"\n",
    "].apply(lambda x: (x.diff() != 0).cumsum())\n",
    "feedback_df[\"feedback_bool\"] = (feedback_df[\"session_number\"].isin([1, 2])) & (\n",
    "    feedback_df[\"feedback_status\"] == 1\n",
    ")\n",
    "feedback_df[\"catch_bool\"] = (feedback_df[\"session_number\"].isin([1, 2])) & (\n",
    "    feedback_df[\"feedback_status\"] == 0\n",
    ")\n",
    "try:\n",
    "    feedback_df[\"sim_feedback_bool\"] = feedback_df[\"sim_feedback_status target_20\"] == 1\n",
    "except KeyError:\n",
    "    pass"
   ]
  },
  {
   "cell_type": "code",
   "execution_count": 14,
   "metadata": {},
   "outputs": [
    {
     "name": "stderr",
     "output_type": "stream",
     "text": [
      "/tmp/ipykernel_1567289/2225413309.py:15: FutureWarning: Not prepending group keys to the result index of transform-like apply. In the future, the group keys will be included in the index, regardless of whether the applied function returns a like-indexed object.\n",
      "To preserve the previous behavior, use\n",
      "\n",
      "\t>>> .groupby(..., group_keys=False)\n",
      "\n",
      "To adopt the future behavior and silence this warning, use \n",
      "\n",
      "\t>>> .groupby(..., group_keys=True)\n",
      "  ].apply(lambda x: (x - x.mean()) / x.std())\n",
      "/tmp/ipykernel_1567289/2225413309.py:15: FutureWarning: Not prepending group keys to the result index of transform-like apply. In the future, the group keys will be included in the index, regardless of whether the applied function returns a like-indexed object.\n",
      "To preserve the previous behavior, use\n",
      "\n",
      "\t>>> .groupby(..., group_keys=False)\n",
      "\n",
      "To adopt the future behavior and silence this warning, use \n",
      "\n",
      "\t>>> .groupby(..., group_keys=True)\n",
      "  ].apply(lambda x: (x - x.mean()) / x.std())\n",
      "/tmp/ipykernel_1567289/2225413309.py:15: FutureWarning: Not prepending group keys to the result index of transform-like apply. In the future, the group keys will be included in the index, regardless of whether the applied function returns a like-indexed object.\n",
      "To preserve the previous behavior, use\n",
      "\n",
      "\t>>> .groupby(..., group_keys=False)\n",
      "\n",
      "To adopt the future behavior and silence this warning, use \n",
      "\n",
      "\t>>> .groupby(..., group_keys=True)\n",
      "  ].apply(lambda x: (x - x.mean()) / x.std())\n",
      "/tmp/ipykernel_1567289/2225413309.py:15: FutureWarning: Not prepending group keys to the result index of transform-like apply. In the future, the group keys will be included in the index, regardless of whether the applied function returns a like-indexed object.\n",
      "To preserve the previous behavior, use\n",
      "\n",
      "\t>>> .groupby(..., group_keys=False)\n",
      "\n",
      "To adopt the future behavior and silence this warning, use \n",
      "\n",
      "\t>>> .groupby(..., group_keys=True)\n",
      "  ].apply(lambda x: (x - x.mean()) / x.std())\n",
      "/tmp/ipykernel_1567289/2225413309.py:15: FutureWarning: Not prepending group keys to the result index of transform-like apply. In the future, the group keys will be included in the index, regardless of whether the applied function returns a like-indexed object.\n",
      "To preserve the previous behavior, use\n",
      "\n",
      "\t>>> .groupby(..., group_keys=False)\n",
      "\n",
      "To adopt the future behavior and silence this warning, use \n",
      "\n",
      "\t>>> .groupby(..., group_keys=True)\n",
      "  ].apply(lambda x: (x - x.mean()) / x.std())\n",
      "/tmp/ipykernel_1567289/2225413309.py:15: FutureWarning: Not prepending group keys to the result index of transform-like apply. In the future, the group keys will be included in the index, regardless of whether the applied function returns a like-indexed object.\n",
      "To preserve the previous behavior, use\n",
      "\n",
      "\t>>> .groupby(..., group_keys=False)\n",
      "\n",
      "To adopt the future behavior and silence this warning, use \n",
      "\n",
      "\t>>> .groupby(..., group_keys=True)\n",
      "  ].apply(lambda x: (x - x.mean()) / x.std())\n",
      "/tmp/ipykernel_1567289/2225413309.py:15: FutureWarning: Not prepending group keys to the result index of transform-like apply. In the future, the group keys will be included in the index, regardless of whether the applied function returns a like-indexed object.\n",
      "To preserve the previous behavior, use\n",
      "\n",
      "\t>>> .groupby(..., group_keys=False)\n",
      "\n",
      "To adopt the future behavior and silence this warning, use \n",
      "\n",
      "\t>>> .groupby(..., group_keys=True)\n",
      "  ].apply(lambda x: (x - x.mean()) / x.std())\n",
      "/tmp/ipykernel_1567289/2225413309.py:15: FutureWarning: Not prepending group keys to the result index of transform-like apply. In the future, the group keys will be included in the index, regardless of whether the applied function returns a like-indexed object.\n",
      "To preserve the previous behavior, use\n",
      "\n",
      "\t>>> .groupby(..., group_keys=False)\n",
      "\n",
      "To adopt the future behavior and silence this warning, use \n",
      "\n",
      "\t>>> .groupby(..., group_keys=True)\n",
      "  ].apply(lambda x: (x - x.mean()) / x.std())\n",
      "/tmp/ipykernel_1567289/2225413309.py:15: FutureWarning: Not prepending group keys to the result index of transform-like apply. In the future, the group keys will be included in the index, regardless of whether the applied function returns a like-indexed object.\n",
      "To preserve the previous behavior, use\n",
      "\n",
      "\t>>> .groupby(..., group_keys=False)\n",
      "\n",
      "To adopt the future behavior and silence this warning, use \n",
      "\n",
      "\t>>> .groupby(..., group_keys=True)\n",
      "  ].apply(lambda x: (x - x.mean()) / x.std())\n",
      "/tmp/ipykernel_1567289/2225413309.py:15: FutureWarning: Not prepending group keys to the result index of transform-like apply. In the future, the group keys will be included in the index, regardless of whether the applied function returns a like-indexed object.\n",
      "To preserve the previous behavior, use\n",
      "\n",
      "\t>>> .groupby(..., group_keys=False)\n",
      "\n",
      "To adopt the future behavior and silence this warning, use \n",
      "\n",
      "\t>>> .groupby(..., group_keys=True)\n",
      "  ].apply(lambda x: (x - x.mean()) / x.std())\n",
      "/tmp/ipykernel_1567289/2225413309.py:15: FutureWarning: Not prepending group keys to the result index of transform-like apply. In the future, the group keys will be included in the index, regardless of whether the applied function returns a like-indexed object.\n",
      "To preserve the previous behavior, use\n",
      "\n",
      "\t>>> .groupby(..., group_keys=False)\n",
      "\n",
      "To adopt the future behavior and silence this warning, use \n",
      "\n",
      "\t>>> .groupby(..., group_keys=True)\n",
      "  ].apply(lambda x: (x - x.mean()) / x.std())\n",
      "/tmp/ipykernel_1567289/2225413309.py:15: FutureWarning: Not prepending group keys to the result index of transform-like apply. In the future, the group keys will be included in the index, regardless of whether the applied function returns a like-indexed object.\n",
      "To preserve the previous behavior, use\n",
      "\n",
      "\t>>> .groupby(..., group_keys=False)\n",
      "\n",
      "To adopt the future behavior and silence this warning, use \n",
      "\n",
      "\t>>> .groupby(..., group_keys=True)\n",
      "  ].apply(lambda x: (x - x.mean()) / x.std())\n"
     ]
    }
   ],
   "source": [
    "# we can drop dupes\n",
    "rle_df = feedback_df.drop_duplicates([\"uuid\", \"syllable_number\"]).set_index(\n",
    "    [\"uuid\", \"syllable_number\", \"predicted_syllable\"]\n",
    ")\n",
    "\n",
    "# then merge in scalar_keys\n",
    "scalar_df = feedback_df.groupby(\n",
    "    [\"uuid\", \"syllable_number\", \"predicted_syllable\"], observed=True\n",
    ")[scalar_keys].agg([\"mean\", \"max\", \"median\"])\n",
    "scalar_df.columns = [\"_\".join(_) for _ in scalar_df.columns]\n",
    "\n",
    "for _scalar in scalar_df.columns:\n",
    "    scalar_df[f\"{_scalar}_z\"] = scalar_df.groupby([\"uuid\", \"predicted_syllable\"])[\n",
    "        _scalar\n",
    "    ].apply(lambda x: (x - x.mean()) / x.std())\n",
    "    rle_df = rle_df.drop(scalar_df.columns, axis=1, errors=\"ignore\")\n",
    "rle_df = rle_df.join(scalar_df)\n",
    "\n",
    "# then merge in stim\n",
    "status_stim_df = (\n",
    "    feedback_df.groupby(\n",
    "        [\"uuid\", \"syllable_number\", \"predicted_syllable\"], observed=True\n",
    "    )[\"feedback_bool\"]\n",
    "    .any()\n",
    "    .rename(\"is_feedback\")\n",
    "    .astype(\"bool\")\n",
    ")\n",
    "status_catch_df = (\n",
    "    feedback_df.groupby(\n",
    "        [\"uuid\", \"syllable_number\", \"predicted_syllable\"], observed=True\n",
    "    )[\"catch_bool\"]\n",
    "    .any()\n",
    "    .rename(\"is_catch\")\n",
    "    .astype(\"bool\")\n",
    ")\n",
    "\n",
    "try:\n",
    "    status_stim_sim_df = (\n",
    "        feedback_df.groupby(\n",
    "            [\"uuid\", \"syllable_number\", \"predicted_syllable\"], observed=True\n",
    "        )[\"sim_feedback_bool\"]\n",
    "        .any()\n",
    "        .rename(\"is_sim_feedback\")\n",
    "        .astype(\"bool\")\n",
    "    )\n",
    "    rle_df = rle_df.join(status_stim_df).join(status_catch_df).join(status_stim_sim_df)\n",
    "except KeyError:\n",
    "    rle_df = rle_df.join(status_stim_df).join(status_catch_df)"
   ]
  },
  {
   "cell_type": "code",
   "execution_count": 15,
   "metadata": {},
   "outputs": [],
   "source": [
    "rle_df = rle_df.reset_index()"
   ]
  },
  {
   "cell_type": "code",
   "execution_count": 16,
   "metadata": {},
   "outputs": [],
   "source": [
    "rle_df[\"direction\"] = rle_df[\"trigger_syllable_scalar_comparison\"].map(\n",
    "    {\"gt\": \"up\", \"lt\": \"down\"}\n",
    ")"
   ]
  },
  {
   "cell_type": "code",
   "execution_count": 17,
   "metadata": {},
   "outputs": [
    {
     "data": {
      "application/vnd.jupyter.widget-view+json": {
       "model_id": "c13089c2daf145c6a1401b6c10cd3bb1",
       "version_major": 2,
       "version_minor": 0
      },
      "text/plain": [
       "  0%|          | 0/58 [00:00<?, ?it/s]"
      ]
     },
     "metadata": {},
     "output_type": "display_data"
    }
   ],
   "source": [
    "rle_df[\"syllable_trial\"] = 0\n",
    "for _syll in tqdm(rle_df[\"predicted_syllable\"].unique()):\n",
    "    rle_df[\"is_syllable\"] = rle_df[\"predicted_syllable\"] == _syll\n",
    "    rle_df.loc[rle_df[\"is_syllable\"], \"syllable_trial\"] = rle_df.groupby(\"uuid\")[\n",
    "        \"is_syllable\"\n",
    "    ].cumsum()"
   ]
  },
  {
   "cell_type": "code",
   "execution_count": 18,
   "metadata": {},
   "outputs": [],
   "source": [
    "rle_df[\"time_bin\"] = pd.cut(rle_df[\"timestamp\"], np.arange(15 * 60, 46 * 60, 5 * 60))\n",
    "rle_df[\"plt_time_bin\"] = (\n",
    "    rle_df[\"time_bin\"].apply(lambda x: x.mid.astype(\"float\")).astype(\"float\")\n",
    ")\n",
    "\n",
    "rle_df[\"is_target\"] = rle_df[\"predicted_syllable\"] == rle_df[\"target_syllable\"]\n",
    "rle_df[\"bin_trial\"] = (\n",
    "    rle_df.groupby(\"uuid\")[\"is_feedback\"].cumsum() * rle_df[\"is_feedback\"]\n",
    ")\n",
    "rle_df[\"bin_trial\"] += rle_df.groupby(\"uuid\")[\"is_catch\"].cumsum() * rle_df[\"is_catch\"]\n",
    "rle_df[\"bin_trial\"] = rle_df[\"bin_trial\"].replace(0, np.nan)\n",
    "\n",
    "try:\n",
    "    rle_df[\"sim_feedback_trial\"] = (\n",
    "        rle_df.groupby(\"uuid\")[\"is_sim_feedback\"].cumsum() * rle_df[\"is_sim_feedback\"]\n",
    "    )\n",
    "except KeyError:\n",
    "    pass\n",
    "rle_df[\"feedback_trial\"] = (\n",
    "    rle_df.groupby(\"uuid\")[\"is_feedback\"].cumsum() * rle_df[\"is_feedback\"]\n",
    ")\n",
    "rle_df[\"catch_trial\"] = rle_df.groupby(\"uuid\")[\"is_catch\"].cumsum() * rle_df[\"is_catch\"]\n",
    "\n",
    "rle_df[\"any_trial\"] = rle_df[\"feedback_trial\"]\n",
    "rle_df.loc[rle_df[\"is_catch\"], \"any_trial\"] = rle_df.loc[\n",
    "    rle_df[\"is_catch\"], \"catch_trial\"\n",
    "]\n",
    "\n",
    "rle_df[\"trial_status\"] = \"n/a\"\n",
    "rle_df.loc[rle_df[\"is_feedback\"], \"trial_status\"] = \"feedback\"\n",
    "rle_df.loc[rle_df[\"is_catch\"], \"trial_status\"] = \"catch\""
   ]
  },
  {
   "cell_type": "code",
   "execution_count": 19,
   "metadata": {},
   "outputs": [],
   "source": [
    "setup_plotting_env()"
   ]
  },
  {
   "cell_type": "code",
   "execution_count": 20,
   "metadata": {},
   "outputs": [],
   "source": [
    "rle_df[\"uuid\"] = rle_df[\"uuid\"].astype(\"str\")"
   ]
  },
  {
   "cell_type": "code",
   "execution_count": 21,
   "metadata": {},
   "outputs": [],
   "source": [
    "threshold = 50\n",
    "use_df = (\n",
    "    rle_df.loc[rle_df[\"target_syllable\"] > 0]\n",
    "    .groupby(\"uuid\")\n",
    "    .filter(lambda x: x[\"feedback_trial\"].max() > threshold)\n",
    ")\n",
    "use_df[\"date_rnd\"] = use_df[\"date\"].dt.strftime(\"%D\")"
   ]
  },
  {
   "cell_type": "code",
   "execution_count": 22,
   "metadata": {},
   "outputs": [],
   "source": [
    "start = 15 * 60\n",
    "stop = 45 * 60"
   ]
  },
  {
   "cell_type": "code",
   "execution_count": 23,
   "metadata": {},
   "outputs": [],
   "source": [
    "baseline_mean = (\n",
    "    rle_df.loc[\n",
    "        ((~rle_df[\"session_number\"].isin([1, 2])) | (rle_df[\"target_syllable\"] <= 0))\n",
    "    ]\n",
    "    .groupby([\"mouse_id\", \"uuid\"])[\"predicted_syllable\"]\n",
    "    .value_counts(normalize=True)\n",
    "    .xs(20, level=\"predicted_syllable\")\n",
    "    .groupby(\"mouse_id\")\n",
    "    .mean()\n",
    ")"
   ]
  },
  {
   "cell_type": "code",
   "execution_count": 24,
   "metadata": {},
   "outputs": [],
   "source": [
    "baseline_sig = (\n",
    "    rle_df.loc[\n",
    "        ((~rle_df[\"session_number\"].isin([1, 2])) | (rle_df[\"target_syllable\"] <= 0))\n",
    "    ]\n",
    "    .groupby([\"mouse_id\", \"uuid\"])[\"predicted_syllable\"]\n",
    "    .value_counts(normalize=True)\n",
    "    .xs(20, level=\"predicted_syllable\")\n",
    "    .groupby(\"mouse_id\")\n",
    "    .std()\n",
    ")"
   ]
  },
  {
   "cell_type": "code",
   "execution_count": 25,
   "metadata": {},
   "outputs": [],
   "source": [
    "stim = (\n",
    "    rle_df.loc[\n",
    "        (rle_df[\"session_number\"].isin([1, 2]))\n",
    "        & (rle_df[\"timestamp\"].between(start, stop))\n",
    "    ]\n",
    "    .groupby([\"mouse_id\", \"uuid\"])[\"predicted_syllable\"]\n",
    "    .value_counts(normalize=True)\n",
    "    .xs(20, level=\"predicted_syllable\")\n",
    "    .groupby(\"mouse_id\")\n",
    "    .mean()\n",
    ")"
   ]
  },
  {
   "cell_type": "code",
   "execution_count": 26,
   "metadata": {},
   "outputs": [],
   "source": [
    "learner_list = stim - baseline_mean\n",
    "learner_list = learner_list[learner_list > 0].index"
   ]
  },
  {
   "cell_type": "code",
   "execution_count": 27,
   "metadata": {},
   "outputs": [],
   "source": [
    "use_df = use_df.loc[use_df[\"mouse_id\"].isin(learner_list)].copy()"
   ]
  },
  {
   "cell_type": "code",
   "execution_count": 28,
   "metadata": {},
   "outputs": [
    {
     "name": "stderr",
     "output_type": "stream",
     "text": [
      "/tmp/ipykernel_1567289/2196430509.py:13: FutureWarning: The default value of numeric_only in DataFrameGroupBy.mean is deprecated. In a future version, numeric_only will default to False. Either specify numeric_only or select only columns which should be valid for the function.\n",
      "  per_trial = use_df.loc[use_df[\"is_feedback\"]].groupby(group_keys, observed=True).mean()\n"
     ]
    }
   ],
   "source": [
    "group_keys = [\n",
    "    \"mouse_id\",\n",
    "    \"direction\",\n",
    "    \"session_number\",\n",
    "    \"date_rnd\",\n",
    "    \"target_syllable\",\n",
    "    \"syllable_group\",\n",
    "    \"genotype\",\n",
    "    \"uuid\",\n",
    "    \"feedback_trial\",\n",
    "]\n",
    "\n",
    "per_trial = use_df.loc[use_df[\"is_feedback\"]].groupby(group_keys, observed=True).mean()\n",
    "\n",
    "scalar_keys = scalar_df.columns.tolist()\n",
    "baseline_trials = 15\n",
    "bin_size = 15\n",
    "\n",
    "per_trial[scalar_keys] = per_trial.groupby([\"uuid\"])[scalar_keys].transform(\n",
    "    lambda x: (x - x.iloc[:baseline_trials].mean())\n",
    "    / (x.iloc[:baseline_trials].std() + 1e-1)\n",
    ")\n",
    "\n",
    "per_trial = per_trial[scalar_keys].melt(ignore_index=False).reset_index()\n",
    "per_trial[\"trial_bin\"] = pd.cut(\n",
    "    per_trial[\"feedback_trial\"], [_ for _ in np.arange(0, int(threshold) + 1, bin_size)]\n",
    ")\n",
    "per_trial[\"trial_bin_center\"] = per_trial[\"trial_bin\"].apply(lambda x: x.mid)"
   ]
  },
  {
   "cell_type": "code",
   "execution_count": 29,
   "metadata": {},
   "outputs": [],
   "source": [
    "setup_plotting_env()\n",
    "sns.set_context(\"paper\")"
   ]
  },
  {
   "cell_type": "code",
   "execution_count": 30,
   "metadata": {},
   "outputs": [],
   "source": [
    "per_trial[\"genotype\"] = per_trial[\"genotype\"].astype(\"str\")"
   ]
  },
  {
   "cell_type": "code",
   "execution_count": 31,
   "metadata": {},
   "outputs": [],
   "source": [
    "aliases = {\n",
    "    \"velocity_2d_mm_median_z\": \"vel.\",\n",
    "    \"velocity_2d_mm_mean_z\": \"vel. b\",\n",
    "}"
   ]
  },
  {
   "cell_type": "code",
   "execution_count": 32,
   "metadata": {},
   "outputs": [],
   "source": [
    "var_order = [\"velocity_2d_mm_mean_z\"]"
   ]
  },
  {
   "cell_type": "code",
   "execution_count": 33,
   "metadata": {},
   "outputs": [],
   "source": [
    "setup_plotting_env()"
   ]
  },
  {
   "cell_type": "code",
   "execution_count": 34,
   "metadata": {},
   "outputs": [
    {
     "name": "stderr",
     "output_type": "stream",
     "text": [
      "/tmp/ipykernel_1567289/2771656835.py:5: FutureWarning: The default value of numeric_only in DataFrameGroupBy.mean is deprecated. In a future version, numeric_only will default to False. Either specify numeric_only or select only columns which should be valid for the function.\n",
      "  .mean()\n",
      "/home/markowitzmeister_gmail_com/miniconda3/envs/spont-da/lib/python3.10/site-packages/seaborn/axisgrid.py:848: FutureWarning: \n",
      "\n",
      "The `ci` parameter is deprecated. Use `errorbar=('ci', 68)` for the same effect.\n",
      "\n",
      "  func(*plot_args, **plot_kwargs)\n"
     ]
    },
    {
     "data": {
      "image/png": "[encoded data removed]",
      "text/plain": [
       "<Figure size 336.861x300 with 1 Axes>"
      ]
     },
     "metadata": {},
     "output_type": "display_data"
    }
   ],
   "source": [
    "g = sns.relplot(\n",
    "    data=per_trial.groupby(\n",
    "        [\"genotype\", \"variable\", \"direction\", \"uuid\", \"trial_bin_center\"]\n",
    "    )\n",
    "    .mean()\n",
    "    .reset_index(),\n",
    "    x=\"trial_bin_center\",\n",
    "    y=\"value\",\n",
    "    col=\"variable\",\n",
    "    col_order=var_order,\n",
    "    hue=\"direction\",\n",
    "    hue_order=[\"up\", \"down\"],\n",
    "    palette=[\"r\", \"b\"],\n",
    "    ci=68,\n",
    "    height=1.5,\n",
    "    aspect=0.75,\n",
    "    kind=\"line\",\n",
    "    estimator=np.mean,\n",
    ")\n",
    "g.refline(y=0)\n",
    "g.set_axis_labels(\"Bin (center)\", \"Value (re: to first bin, z)\")\n",
    "g.set_titles(col_template=\"{col_name}\")\n",
    "clean_ticks(g.axes.flat[0], \"y\", precision=1)\n",
    "for ax in g.axes[0]:\n",
    "    ax.set_title(aliases[ax.get_title()])\n",
    "savefig(\n",
    "    g.fig,\n",
    "    os.path.join(figure_cfg[\"store_dir\"], \"syllable_scalar_lineplot\"),\n",
    "    bbox_inches=\"tight\",\n",
    ")"
   ]
  },
  {
   "cell_type": "code",
   "execution_count": 35,
   "metadata": {},
   "outputs": [],
   "source": [
    "max_bin = per_trial[\"trial_bin_center\"].max()"
   ]
  },
  {
   "cell_type": "code",
   "execution_count": 36,
   "metadata": {},
   "outputs": [
    {
     "name": "stderr",
     "output_type": "stream",
     "text": [
      "/tmp/ipykernel_1567289/906161012.py:3: FutureWarning: The default value of numeric_only in DataFrameGroupBy.mean is deprecated. In a future version, numeric_only will default to False. Either specify numeric_only or select only columns which should be valid for the function.\n",
      "  ).mean()\n"
     ]
    }
   ],
   "source": [
    "means = per_trial.groupby(\n",
    "    [\"genotype\", \"variable\", \"direction\", \"uuid\", \"trial_bin_center\"]\n",
    ").mean()"
   ]
  },
  {
   "cell_type": "code",
   "execution_count": 37,
   "metadata": {},
   "outputs": [],
   "source": [
    "from scipy.stats import mannwhitneyu"
   ]
  },
  {
   "cell_type": "code",
   "execution_count": 38,
   "metadata": {},
   "outputs": [],
   "source": [
    "use_test = mannwhitneyu"
   ]
  },
  {
   "cell_type": "code",
   "execution_count": 39,
   "metadata": {},
   "outputs": [],
   "source": [
    "stats = {}\n",
    "for _var in var_order:\n",
    "    pop1 = (\n",
    "        means.loc[means.index.get_level_values(\"trial_bin_center\") > 7.5]\n",
    "        .xs((\"up\", _var), level=(\"direction\", \"variable\"))[\"value\"]\n",
    "        .dropna()\n",
    "        .values\n",
    "    )\n",
    "    pop2 = (\n",
    "        means.loc[means.index.get_level_values(\"trial_bin_center\") > 7.5]\n",
    "        .xs((\"down\", _var), level=(\"direction\", \"variable\"))[\"value\"]\n",
    "        .dropna()\n",
    "        .values\n",
    "    )\n",
    "    stats[_var] = {}\n",
    "    stat, p = mannwhitneyu(pop1, pop2)\n",
    "    stats[_var][\"stat\"] = stat\n",
    "    stats[_var][\"p\"] = p\n",
    "    stats[_var][\"n1\"] = len(pop1)\n",
    "    stats[_var][\"n2\"] = len(pop2)\n",
    "    stats[_var][\"n_definition\"] = \"Per session/bin averages\""
   ]
  },
  {
   "cell_type": "code",
   "execution_count": 40,
   "metadata": {},
   "outputs": [],
   "source": [
    "with open(\n",
    "    os.path.join(proc_dirs[\"closed_loop_behavior\"], \"stats_syllable_scalar.toml\"), \"w\"\n",
    ") as f:\n",
    "    toml.dump(stats, f)"
   ]
  }
 ],
 "metadata": {
  "kernelspec": {
   "display_name": "Python [conda env:spont-da]",
   "language": "python",
   "name": "conda-env-spont-da-py"
  },
  "language_info": {
   "codemirror_mode": {
    "name": "ipython",
    "version": 3
   },
   "file_extension": ".py",
   "mimetype": "text/x-python",
   "name": "python",
   "nbconvert_exporter": "python",
   "pygments_lexer": "ipython3",
   "version": "3.10.8"
  },
  "toc": {
   "base_numbering": 1,
   "nav_menu": {},
   "number_sections": true,
   "sideBar": true,
   "skip_h1_title": false,
   "title_cell": "Table of Contents",
   "title_sidebar": "Contents",
   "toc_cell": false,
   "toc_position": {
    "height": "calc(100% - 180px)",
    "left": "10px",
    "top": "150px",
    "width": "287px"
   },
   "toc_section_display": true,
   "toc_window_display": true
  }
 },
 "nbformat": 4,
 "nbformat_minor": 4
}
