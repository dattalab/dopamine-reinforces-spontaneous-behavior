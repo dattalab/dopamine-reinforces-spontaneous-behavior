{
 "cells": [
  {
   "cell_type": "code",
   "execution_count": 1,
   "metadata": {},
   "outputs": [],
   "source": [
    "%load_ext autoreload\n",
    "%autoreload 2\n",
    "%matplotlib inline"
   ]
  },
  {
   "cell_type": "code",
   "execution_count": 2,
   "metadata": {},
   "outputs": [],
   "source": [
    "from rl_analysis.plotting import savefig, setup_plotting_env, clean_ticks\n",
    "from rl_analysis.io.df import dlight_exclude_toml\n",
    "from rl_analysis.photometry.signal import get_ncrossings\n",
    "\n",
    "import matplotlib.pyplot as plt\n",
    "import numpy as np\n",
    "import pandas as pd\n",
    "import seaborn as sns\n",
    "import os"
   ]
  },
  {
   "cell_type": "markdown",
   "metadata": {
    "tags": []
   },
   "source": [
    "# Helper functions"
   ]
  },
  {
   "cell_type": "markdown",
   "metadata": {
    "tags": []
   },
   "source": [
    "## load in new dlight data and preprocess"
   ]
  },
  {
   "cell_type": "code",
   "execution_count": 3,
   "metadata": {},
   "outputs": [],
   "source": [
    "import toml\n",
    "\n",
    "with open(\"../analysis_configuration.toml\", \"r\") as f:\n",
    "    analysis_config = toml.load(f)"
   ]
  },
  {
   "cell_type": "code",
   "execution_count": 4,
   "metadata": {},
   "outputs": [],
   "source": [
    "raw_dirs = analysis_config[\"raw_data\"]\n",
    "proc_dirs = analysis_config[\"intermediate_results\"]\n",
    "dlight_cfg = analysis_config[\"dlight_basic_analysis\"]\n",
    "dlight_common_cfg = analysis_config[\"dlight_common\"]\n",
    "figure_cfg = analysis_config[\"figures\"]"
   ]
  },
  {
   "cell_type": "code",
   "execution_count": 5,
   "metadata": {},
   "outputs": [],
   "source": [
    "use_dct = dlight_exclude_toml(\n",
    "    os.path.join(raw_dirs[\"dlight\"], \"dlight_photometry_processed_full.toml\"),\n",
    "    **analysis_config[\"dlight_common\"]\n",
    ")"
   ]
  },
  {
   "cell_type": "code",
   "execution_count": 6,
   "metadata": {},
   "outputs": [],
   "source": [
    "dlight_df = pd.read_parquet(\n",
    "    os.path.join(raw_dirs[\"dlight\"], \"dlight_photometry_processed_full.parquet\"),\n",
    "    filters=[(\"uuid\", \"in\", list(use_dct.keys())), (\"area\", \"=\", \"dls\")],\n",
    ").sort_index()"
   ]
  },
  {
   "cell_type": "code",
   "execution_count": 7,
   "metadata": {},
   "outputs": [],
   "source": [
    "dlight_df[\"uuid\"] = dlight_df[\"uuid\"].astype(\"str\")\n",
    "dlight_df[\"mouse_id\"] = dlight_df[\"mouse_id\"].astype(\"str\")"
   ]
  },
  {
   "cell_type": "code",
   "execution_count": 8,
   "metadata": {},
   "outputs": [],
   "source": [
    "dlight_df = dlight_df.loc[~dlight_df[\"session_number\"].isin([1, 2, 3, 4])].copy()"
   ]
  },
  {
   "cell_type": "code",
   "execution_count": 9,
   "metadata": {},
   "outputs": [],
   "source": [
    "signal_keys = dlight_df.filter(regex=\"(signal|reference|reref)_dff$\").columns.tolist()"
   ]
  },
  {
   "cell_type": "code",
   "execution_count": 10,
   "metadata": {},
   "outputs": [],
   "source": [
    "dlight_df[\"labels\"] = (\n",
    "    dlight_df[\"predicted_syllable (offline)\"].replace(-5, np.nan).astype(\"UInt8\")\n",
    ")\n",
    "dlight_df = dlight_df.dropna(subset=[\"labels\"])"
   ]
  },
  {
   "cell_type": "code",
   "execution_count": 11,
   "metadata": {},
   "outputs": [],
   "source": [
    "def mark_threshold_crossing(values, threshold=1.96):\n",
    "    locs = np.zeros((len(values),), dtype=\"bool\")\n",
    "    locs[1:] = (values.to_numpy()[:-1] <= threshold) & (\n",
    "        values.to_numpy()[1:] > threshold\n",
    "    )\n",
    "    return pd.Series(data=locs, index=values.index)"
   ]
  },
  {
   "cell_type": "code",
   "execution_count": 12,
   "metadata": {},
   "outputs": [],
   "source": [
    "dlight_df = dlight_df.dropna(subset=[\"signal_reref_dff_z\"])"
   ]
  },
  {
   "cell_type": "code",
   "execution_count": 13,
   "metadata": {},
   "outputs": [],
   "source": [
    "_tmp_pos = dlight_df.groupby(\"uuid\", group_keys=False)[\"signal_reref_dff_z\"].apply(\n",
    "    lambda x: mark_threshold_crossing(+x, threshold=1.0)\n",
    ")"
   ]
  },
  {
   "cell_type": "code",
   "execution_count": 14,
   "metadata": {},
   "outputs": [],
   "source": [
    "_tmp = _tmp_pos"
   ]
  },
  {
   "cell_type": "code",
   "execution_count": 15,
   "metadata": {},
   "outputs": [],
   "source": [
    "time_bin = pd.cut(dlight_df[\"timestamp\"], np.arange(0, 1800, 60))"
   ]
  },
  {
   "cell_type": "code",
   "execution_count": 16,
   "metadata": {},
   "outputs": [],
   "source": [
    "time_bin_szs = dlight_df.groupby(time_bin).size()"
   ]
  },
  {
   "cell_type": "code",
   "execution_count": 17,
   "metadata": {},
   "outputs": [],
   "source": [
    "cutoff = time_bin_szs.quantile(0.05)"
   ]
  },
  {
   "cell_type": "code",
   "execution_count": 18,
   "metadata": {},
   "outputs": [],
   "source": [
    "include_bins = time_bin_szs.loc[time_bin_szs > cutoff].index"
   ]
  },
  {
   "cell_type": "code",
   "execution_count": 19,
   "metadata": {},
   "outputs": [],
   "source": [
    "period = 1 / 30.0"
   ]
  },
  {
   "cell_type": "code",
   "execution_count": 20,
   "metadata": {},
   "outputs": [],
   "source": [
    "peaks_over_time = _tmp_pos.groupby([dlight_df[\"mouse_id\"], time_bin]).mean()\n",
    "peaks_over_time /= period"
   ]
  },
  {
   "cell_type": "code",
   "execution_count": 21,
   "metadata": {},
   "outputs": [],
   "source": [
    "peaks_over_time = peaks_over_time.loc[\n",
    "    peaks_over_time.index.get_level_values(\"timestamp\").isin(include_bins)\n",
    "]"
   ]
  },
  {
   "cell_type": "code",
   "execution_count": 22,
   "metadata": {},
   "outputs": [],
   "source": [
    "peaks_over_time = peaks_over_time.reset_index()"
   ]
  },
  {
   "cell_type": "code",
   "execution_count": 23,
   "metadata": {},
   "outputs": [],
   "source": [
    "peaks_over_time[\"timestamp\"] = (\n",
    "    peaks_over_time[\"timestamp\"].apply(lambda x: x.mid).astype(\"float\")\n",
    ")\n",
    "peaks_over_time[\"timestamp\"] /= 60.0"
   ]
  },
  {
   "cell_type": "code",
   "execution_count": 24,
   "metadata": {},
   "outputs": [],
   "source": [
    "setup_plotting_env()"
   ]
  },
  {
   "cell_type": "code",
   "execution_count": 25,
   "metadata": {},
   "outputs": [
    {
     "name": "stderr",
     "output_type": "stream",
     "text": [
      "/tmp/ipykernel_1439794/3708941910.py:1: FutureWarning: The default value of numeric_only in DataFrameGroupBy.mean is deprecated. In a future version, numeric_only will default to False. Either specify numeric_only or select only columns which should be valid for the function.\n",
      "  ref = peaks_over_time.groupby(\"timestamp\").mean().iloc[0]\n"
     ]
    }
   ],
   "source": [
    "ref = peaks_over_time.groupby(\"timestamp\").mean().iloc[0]\n",
    "show_peaks = peaks_over_time.copy()\n",
    "show_peaks[\"signal_reref_dff_z\"] = (\n",
    "    1e2 * ((peaks_over_time - ref) / ref)[\"signal_reref_dff_z\"]\n",
    ")"
   ]
  },
  {
   "cell_type": "code",
   "execution_count": 26,
   "metadata": {},
   "outputs": [
    {
     "data": {
      "text/html": [
       "<div>\n",
       "<style scoped>\n",
       "    .dataframe tbody tr th:only-of-type {\n",
       "        vertical-align: middle;\n",
       "    }\n",
       "\n",
       "    .dataframe tbody tr th {\n",
       "        vertical-align: top;\n",
       "    }\n",
       "\n",
       "    .dataframe thead th {\n",
       "        text-align: right;\n",
       "    }\n",
       "</style>\n",
       "<table border=\"1\" class=\"dataframe\">\n",
       "  <thead>\n",
       "    <tr style=\"text-align: right;\">\n",
       "      <th></th>\n",
       "      <th>mouse_id</th>\n",
       "      <th>timestamp</th>\n",
       "      <th>signal_reref_dff_z</th>\n",
       "    </tr>\n",
       "  </thead>\n",
       "  <tbody>\n",
       "    <tr>\n",
       "      <th>0</th>\n",
       "      <td>dlight-chrimson-1</td>\n",
       "      <td>0.5</td>\n",
       "      <td>1.249047</td>\n",
       "    </tr>\n",
       "    <tr>\n",
       "      <th>1</th>\n",
       "      <td>dlight-chrimson-1</td>\n",
       "      <td>1.5</td>\n",
       "      <td>1.225143</td>\n",
       "    </tr>\n",
       "    <tr>\n",
       "      <th>2</th>\n",
       "      <td>dlight-chrimson-1</td>\n",
       "      <td>2.5</td>\n",
       "      <td>1.196476</td>\n",
       "    </tr>\n",
       "    <tr>\n",
       "      <th>3</th>\n",
       "      <td>dlight-chrimson-1</td>\n",
       "      <td>3.5</td>\n",
       "      <td>1.208333</td>\n",
       "    </tr>\n",
       "    <tr>\n",
       "      <th>4</th>\n",
       "      <td>dlight-chrimson-1</td>\n",
       "      <td>4.5</td>\n",
       "      <td>1.191529</td>\n",
       "    </tr>\n",
       "    <tr>\n",
       "      <th>...</th>\n",
       "      <td>...</td>\n",
       "      <td>...</td>\n",
       "      <td>...</td>\n",
       "    </tr>\n",
       "    <tr>\n",
       "      <th>373</th>\n",
       "      <td>dls-dlight-7</td>\n",
       "      <td>22.5</td>\n",
       "      <td>1.317949</td>\n",
       "    </tr>\n",
       "    <tr>\n",
       "      <th>374</th>\n",
       "      <td>dls-dlight-7</td>\n",
       "      <td>23.5</td>\n",
       "      <td>1.329487</td>\n",
       "    </tr>\n",
       "    <tr>\n",
       "      <th>375</th>\n",
       "      <td>dls-dlight-7</td>\n",
       "      <td>24.5</td>\n",
       "      <td>1.389744</td>\n",
       "    </tr>\n",
       "    <tr>\n",
       "      <th>376</th>\n",
       "      <td>dls-dlight-7</td>\n",
       "      <td>25.5</td>\n",
       "      <td>1.407692</td>\n",
       "    </tr>\n",
       "    <tr>\n",
       "      <th>377</th>\n",
       "      <td>dls-dlight-7</td>\n",
       "      <td>26.5</td>\n",
       "      <td>1.332248</td>\n",
       "    </tr>\n",
       "  </tbody>\n",
       "</table>\n",
       "<p>378 rows × 3 columns</p>\n",
       "</div>"
      ],
      "text/plain": [
       "              mouse_id  timestamp  signal_reref_dff_z\n",
       "0    dlight-chrimson-1        0.5            1.249047\n",
       "1    dlight-chrimson-1        1.5            1.225143\n",
       "2    dlight-chrimson-1        2.5            1.196476\n",
       "3    dlight-chrimson-1        3.5            1.208333\n",
       "4    dlight-chrimson-1        4.5            1.191529\n",
       "..                 ...        ...                 ...\n",
       "373       dls-dlight-7       22.5            1.317949\n",
       "374       dls-dlight-7       23.5            1.329487\n",
       "375       dls-dlight-7       24.5            1.389744\n",
       "376       dls-dlight-7       25.5            1.407692\n",
       "377       dls-dlight-7       26.5            1.332248\n",
       "\n",
       "[378 rows x 3 columns]"
      ]
     },
     "execution_count": 26,
     "metadata": {},
     "output_type": "execute_result"
    }
   ],
   "source": [
    "peaks_over_time"
   ]
  },
  {
   "cell_type": "code",
   "execution_count": 27,
   "metadata": {},
   "outputs": [],
   "source": [
    "threshold = 1\n",
    "schmitt = 3\n",
    "schmitt_threshold = 0.25 * threshold\n",
    "period = 1.0 / 30.0"
   ]
  },
  {
   "cell_type": "code",
   "execution_count": 28,
   "metadata": {},
   "outputs": [],
   "source": [
    "dlight_df[\"time_bin\"] = pd.cut(dlight_df[\"timestamp\"], np.arange(0, 1800, 60))"
   ]
  },
  {
   "cell_type": "code",
   "execution_count": 29,
   "metadata": {},
   "outputs": [],
   "source": [
    "_tmp_rate = (\n",
    "    dlight_df.set_index(\"timestamp\")\n",
    "    .groupby([\"area\", \"mouse_id\", \"uuid\", \"time_bin\"])[\"signal_reref_dff_z\"]\n",
    "    .agg(\n",
    "        lambda x: get_ncrossings(\n",
    "            x, threshold=threshold, schmitt=schmitt, schmitt_threshold=schmitt_threshold\n",
    "        )\n",
    "    )\n",
    "    .rename(\"transient_rate\")\n",
    ")"
   ]
  },
  {
   "cell_type": "code",
   "execution_count": 30,
   "metadata": {},
   "outputs": [],
   "source": [
    "_tmp_amplitude = (\n",
    "    dlight_df.groupby([\"area\", \"mouse_id\", \"uuid\", \"time_bin\"])[\"signal_dff\"]\n",
    "    .apply(lambda x: x.max() * 1e2)\n",
    "    .rename(\"peak_dff\")\n",
    "    .dropna()\n",
    ")"
   ]
  },
  {
   "cell_type": "code",
   "execution_count": 31,
   "metadata": {},
   "outputs": [],
   "source": [
    "time_df = pd.concat([_tmp_rate, _tmp_amplitude], axis=1).reset_index()"
   ]
  },
  {
   "cell_type": "code",
   "execution_count": 32,
   "metadata": {},
   "outputs": [],
   "source": [
    "time_df = time_df.loc[time_df[\"time_bin\"].isin(include_bins)]"
   ]
  },
  {
   "cell_type": "code",
   "execution_count": 33,
   "metadata": {},
   "outputs": [],
   "source": [
    "time_df[\"time_bin\"] = time_df[\"time_bin\"].apply(lambda x: x.mid).astype(\"float\")\n",
    "time_df[\"time_bin\"] /= 60.0"
   ]
  },
  {
   "cell_type": "code",
   "execution_count": 34,
   "metadata": {},
   "outputs": [
    {
     "name": "stderr",
     "output_type": "stream",
     "text": [
      "/tmp/ipykernel_1439794/3407605366.py:1: FutureWarning: The default value of numeric_only in DataFrameGroupBy.mean is deprecated. In a future version, numeric_only will default to False. Either specify numeric_only or select only columns which should be valid for the function.\n",
      "  to_plot = time_df.groupby([\"mouse_id\", \"uuid\", \"time_bin\"]).mean()\n"
     ]
    }
   ],
   "source": [
    "to_plot = time_df.groupby([\"mouse_id\", \"uuid\", \"time_bin\"]).mean()\n",
    "ref = to_plot.groupby([\"mouse_id\", \"uuid\"]).head(2).mean()"
   ]
  },
  {
   "cell_type": "code",
   "execution_count": 35,
   "metadata": {},
   "outputs": [],
   "source": [
    "to_plot_rel = 1e2 * (to_plot - ref) / ref"
   ]
  },
  {
   "cell_type": "code",
   "execution_count": 36,
   "metadata": {},
   "outputs": [],
   "source": [
    "sns.set_context(\"paper\")"
   ]
  },
  {
   "cell_type": "code",
   "execution_count": 37,
   "metadata": {},
   "outputs": [],
   "source": [
    "to_plot_rel = to_plot_rel.groupby([\"mouse_id\", \"time_bin\"]).mean()\n",
    "to_plot = to_plot.groupby([\"mouse_id\", \"time_bin\"]).mean()"
   ]
  },
  {
   "cell_type": "code",
   "execution_count": 38,
   "metadata": {},
   "outputs": [],
   "source": [
    "setup_plotting_env()"
   ]
  },
  {
   "cell_type": "code",
   "execution_count": 39,
   "metadata": {},
   "outputs": [
    {
     "name": "stderr",
     "output_type": "stream",
     "text": [
      "/tmp/ipykernel_1439794/2477773179.py:2: FutureWarning: \n",
      "\n",
      "The `ci` parameter is deprecated. Use `errorbar=('ci', 95)` for the same effect.\n",
      "\n",
      "  sns.lineplot(data=to_plot_rel, x=\"time_bin\", y=\"transient_rate\", ci=95, ax=ax[0])\n",
      "/tmp/ipykernel_1439794/2477773179.py:3: FutureWarning: \n",
      "\n",
      "The `ci` parameter is deprecated. Use `errorbar=('ci', 95)` for the same effect.\n",
      "\n",
      "  sns.lineplot(data=to_plot, x=\"time_bin\", y=\"peak_dff\", ci=95, ax=ax[1])\n"
     ]
    },
    {
     "data": {
      "image/png": "[encoded data removed]",
      "text/plain": [
       "<Figure size 200x300 with 2 Axes>"
      ]
     },
     "metadata": {},
     "output_type": "display_data"
    }
   ],
   "source": [
    "fig, ax = plt.subplots(2, 1, figsize=(1, 1.5), sharex=True, sharey=False)\n",
    "sns.lineplot(data=to_plot_rel, x=\"time_bin\", y=\"transient_rate\", ci=95, ax=ax[0])\n",
    "sns.lineplot(data=to_plot, x=\"time_bin\", y=\"peak_dff\", ci=95, ax=ax[1])\n",
    "plt.xlim(0, 30)\n",
    "# plt.axhline(y=0, zorder=-300, color=plt.rcParams[\"axes.edgecolor\"])\n",
    "clean_ticks(ax, \"x\", zero_symmetry=False, precision=0, dtype=int)\n",
    "clean_ticks(ax[0], \"y\", zero_symmetry=True, precision=-1, dtype=int)\n",
    "ax[0].set_ylabel(\"Transient rate\\n(fold-change)\")\n",
    "ax[1].set_ylim(0, 13)\n",
    "ax[1].set_ylabel(\"Max dF/F0\")\n",
    "clean_ticks(ax[1], \"y\", zero_symmetry=False, precision=0, dtype=int)\n",
    "plt.xlabel(\"Time in session (minutes)\")\n",
    "sns.despine(offset=5)\n",
    "# plt.ylabel(\"Probability of DA transient (percent change)\")\n",
    "savefig(fig, os.path.join(figure_cfg[\"store_dir\"], \"da_peaks_over_time_percent\"))"
   ]
  },
  {
   "cell_type": "code",
   "execution_count": null,
   "metadata": {},
   "outputs": [],
   "source": []
  },
  {
   "cell_type": "code",
   "execution_count": null,
   "metadata": {},
   "outputs": [],
   "source": []
  }
 ],
 "metadata": {
  "kernelspec": {
   "display_name": "Python [conda env:spont-da]",
   "language": "python",
   "name": "conda-env-spont-da-py"
  },
  "language_info": {
   "codemirror_mode": {
    "name": "ipython",
    "version": 3
   },
   "file_extension": ".py",
   "mimetype": "text/x-python",
   "name": "python",
   "nbconvert_exporter": "python",
   "pygments_lexer": "ipython3",
   "version": "3.10.8"
  },
  "widgets": {
   "application/vnd.jupyter.widget-state+json": {
    "state": {
     "0c2fdf7cc8b041b28ad6f775feb9e1b2": {
      "model_module": "@jupyter-widgets/base",
      "model_module_version": "1.2.0",
      "model_name": "LayoutModel",
      "state": {}
     },
     "1001a27c0c074ac198bd468374323a2e": {
      "model_module": "@jupyter-widgets/controls",
      "model_module_version": "1.5.0",
      "model_name": "HBoxModel",
      "state": {
       "children": [
        "IPY_MODEL_39ea6a6a3b094af8892ed29f09468e8e",
        "IPY_MODEL_3becade9c77a4841aaf71a133ff0c716"
       ],
       "layout": "IPY_MODEL_904831def6f4458d84d03d520d49017e"
      }
     },
     "11e5f855cc134b13a37770ba162b56d3": {
      "model_module": "@jupyter-widgets/base",
      "model_module_version": "1.2.0",
      "model_name": "LayoutModel",
      "state": {}
     },
     "135886efb36e4b1891e7b9595f5a69a7": {
      "model_module": "@jupyter-widgets/base",
      "model_module_version": "1.2.0",
      "model_name": "LayoutModel",
      "state": {}
     },
     "151fb3f16202474089e6685841e0f11c": {
      "model_module": "@jupyter-widgets/controls",
      "model_module_version": "1.5.0",
      "model_name": "HTMLModel",
      "state": {
       "layout": "IPY_MODEL_edae40b144fd469ca3fd80efbeff1b8d",
       "style": "IPY_MODEL_6a61457647284def89edcb0c334b4724",
       "value": " 19/19 [29:27&lt;00:00, 93.03s/it]"
      }
     },
     "23b37c61bbc24d62a47bece85cc92bdc": {
      "model_module": "@jupyter-widgets/base",
      "model_module_version": "1.2.0",
      "model_name": "LayoutModel",
      "state": {}
     },
     "3157ef96fb9c407798033e0c971c0b91": {
      "model_module": "@jupyter-widgets/base",
      "model_module_version": "1.2.0",
      "model_name": "LayoutModel",
      "state": {}
     },
     "3320c6d509d744e6a5fbc0ef152785a7": {
      "model_module": "@jupyter-widgets/base",
      "model_module_version": "1.2.0",
      "model_name": "LayoutModel",
      "state": {}
     },
     "39ea6a6a3b094af8892ed29f09468e8e": {
      "model_module": "@jupyter-widgets/controls",
      "model_module_version": "1.5.0",
      "model_name": "FloatProgressModel",
      "state": {
       "description": "  5%",
       "layout": "IPY_MODEL_135886efb36e4b1891e7b9595f5a69a7",
       "max": 19,
       "style": "IPY_MODEL_f383eee0318f40ad9695f8f30d353fc7",
       "value": 1
      }
     },
     "3becade9c77a4841aaf71a133ff0c716": {
      "model_module": "@jupyter-widgets/controls",
      "model_module_version": "1.5.0",
      "model_name": "HTMLModel",
      "state": {
       "layout": "IPY_MODEL_11e5f855cc134b13a37770ba162b56d3",
       "style": "IPY_MODEL_85a2ae049da942199e8ae571f375f5be",
       "value": " 1/19 [00:01&lt;00:35,  1.95s/it]"
      }
     },
     "3cb5141450ed40cb8ea4ae55f5d079e8": {
      "model_module": "@jupyter-widgets/controls",
      "model_module_version": "1.5.0",
      "model_name": "HBoxModel",
      "state": {
       "children": [
        "IPY_MODEL_563568b1258a41539b00a82d58d9a760",
        "IPY_MODEL_eb693443923b4849910c81c3e234ea0a"
       ],
       "layout": "IPY_MODEL_cfec1c73705645c09cf30a8e9eff64fa"
      }
     },
     "563568b1258a41539b00a82d58d9a760": {
      "model_module": "@jupyter-widgets/controls",
      "model_module_version": "1.5.0",
      "model_name": "FloatProgressModel",
      "state": {
       "bar_style": "success",
       "description": "100%",
       "layout": "IPY_MODEL_23b37c61bbc24d62a47bece85cc92bdc",
       "max": 19,
       "style": "IPY_MODEL_a34d88c02f764beba35e1c6f25c14088",
       "value": 19
      }
     },
     "67dea0179ff34a1d9cd1e2afb6be40bb": {
      "model_module": "@jupyter-widgets/controls",
      "model_module_version": "1.5.0",
      "model_name": "FloatProgressModel",
      "state": {
       "bar_style": "success",
       "description": "100%",
       "layout": "IPY_MODEL_ccdc1ce02d84438ba5837323959ac392",
       "max": 19,
       "style": "IPY_MODEL_d1236fd48fbe4a86b88f7e57a30a254e",
       "value": 19
      }
     },
     "6a61457647284def89edcb0c334b4724": {
      "model_module": "@jupyter-widgets/controls",
      "model_module_version": "1.5.0",
      "model_name": "DescriptionStyleModel",
      "state": {
       "description_width": ""
      }
     },
     "85a2ae049da942199e8ae571f375f5be": {
      "model_module": "@jupyter-widgets/controls",
      "model_module_version": "1.5.0",
      "model_name": "DescriptionStyleModel",
      "state": {
       "description_width": ""
      }
     },
     "904831def6f4458d84d03d520d49017e": {
      "model_module": "@jupyter-widgets/base",
      "model_module_version": "1.2.0",
      "model_name": "LayoutModel",
      "state": {}
     },
     "91b950b97f9f49179ac41fba04bef6ec": {
      "model_module": "@jupyter-widgets/controls",
      "model_module_version": "1.5.0",
      "model_name": "HBoxModel",
      "state": {
       "children": [
        "IPY_MODEL_c09802e74cbf465e89e98d12451db80b",
        "IPY_MODEL_b67bba143dc149aca75d6b19f991f40b"
       ],
       "layout": "IPY_MODEL_ef408cf36bf64dc5981e43291d864254"
      }
     },
     "a318aec2eccc4d5a888cd77c1d83de58": {
      "model_module": "@jupyter-widgets/controls",
      "model_module_version": "1.5.0",
      "model_name": "HBoxModel",
      "state": {
       "children": [
        "IPY_MODEL_67dea0179ff34a1d9cd1e2afb6be40bb",
        "IPY_MODEL_151fb3f16202474089e6685841e0f11c"
       ],
       "layout": "IPY_MODEL_0c2fdf7cc8b041b28ad6f775feb9e1b2"
      }
     },
     "a34d88c02f764beba35e1c6f25c14088": {
      "model_module": "@jupyter-widgets/controls",
      "model_module_version": "1.5.0",
      "model_name": "ProgressStyleModel",
      "state": {
       "description_width": "initial"
      }
     },
     "b67bba143dc149aca75d6b19f991f40b": {
      "model_module": "@jupyter-widgets/controls",
      "model_module_version": "1.5.0",
      "model_name": "HTMLModel",
      "state": {
       "layout": "IPY_MODEL_3157ef96fb9c407798033e0c971c0b91",
       "style": "IPY_MODEL_d11fa8243b2e41ce9b2c2b0d76dfa8e0",
       "value": " 19/19 [02:00&lt;00:00,  6.34s/it]"
      }
     },
     "c09802e74cbf465e89e98d12451db80b": {
      "model_module": "@jupyter-widgets/controls",
      "model_module_version": "1.5.0",
      "model_name": "FloatProgressModel",
      "state": {
       "bar_style": "success",
       "description": "100%",
       "layout": "IPY_MODEL_3320c6d509d744e6a5fbc0ef152785a7",
       "max": 19,
       "style": "IPY_MODEL_ccbab5b38c564ff2be813f668ace192f",
       "value": 19
      }
     },
     "ccbab5b38c564ff2be813f668ace192f": {
      "model_module": "@jupyter-widgets/controls",
      "model_module_version": "1.5.0",
      "model_name": "ProgressStyleModel",
      "state": {
       "description_width": "initial"
      }
     },
     "ccdc1ce02d84438ba5837323959ac392": {
      "model_module": "@jupyter-widgets/base",
      "model_module_version": "1.2.0",
      "model_name": "LayoutModel",
      "state": {}
     },
     "cfec1c73705645c09cf30a8e9eff64fa": {
      "model_module": "@jupyter-widgets/base",
      "model_module_version": "1.2.0",
      "model_name": "LayoutModel",
      "state": {}
     },
     "d11fa8243b2e41ce9b2c2b0d76dfa8e0": {
      "model_module": "@jupyter-widgets/controls",
      "model_module_version": "1.5.0",
      "model_name": "DescriptionStyleModel",
      "state": {
       "description_width": ""
      }
     },
     "d1236fd48fbe4a86b88f7e57a30a254e": {
      "model_module": "@jupyter-widgets/controls",
      "model_module_version": "1.5.0",
      "model_name": "ProgressStyleModel",
      "state": {
       "description_width": "initial"
      }
     },
     "eb693443923b4849910c81c3e234ea0a": {
      "model_module": "@jupyter-widgets/controls",
      "model_module_version": "1.5.0",
      "model_name": "HTMLModel",
      "state": {
       "layout": "IPY_MODEL_f164a9b92dc74eb2a9495833b2758d82",
       "style": "IPY_MODEL_ebe3845f08e44758b963aa320dd46522",
       "value": " 19/19 [00:14&lt;00:00,  1.36it/s]"
      }
     },
     "ebe3845f08e44758b963aa320dd46522": {
      "model_module": "@jupyter-widgets/controls",
      "model_module_version": "1.5.0",
      "model_name": "DescriptionStyleModel",
      "state": {
       "description_width": ""
      }
     },
     "edae40b144fd469ca3fd80efbeff1b8d": {
      "model_module": "@jupyter-widgets/base",
      "model_module_version": "1.2.0",
      "model_name": "LayoutModel",
      "state": {}
     },
     "ef408cf36bf64dc5981e43291d864254": {
      "model_module": "@jupyter-widgets/base",
      "model_module_version": "1.2.0",
      "model_name": "LayoutModel",
      "state": {}
     },
     "f164a9b92dc74eb2a9495833b2758d82": {
      "model_module": "@jupyter-widgets/base",
      "model_module_version": "1.2.0",
      "model_name": "LayoutModel",
      "state": {}
     },
     "f383eee0318f40ad9695f8f30d353fc7": {
      "model_module": "@jupyter-widgets/controls",
      "model_module_version": "1.5.0",
      "model_name": "ProgressStyleModel",
      "state": {
       "description_width": "initial"
      }
     }
    },
    "version_major": 2,
    "version_minor": 0
   }
  }
 },
 "nbformat": 4,
 "nbformat_minor": 4
}
