{
 "cells": [
  {
   "cell_type": "code",
   "execution_count": 1,
   "metadata": {},
   "outputs": [],
   "source": [
    "%load_ext autoreload\n",
    "%autoreload 2\n",
    "%matplotlib inline"
   ]
  },
  {
   "cell_type": "code",
   "execution_count": 2,
   "metadata": {},
   "outputs": [],
   "source": [
    "from tqdm.auto import tqdm\n",
    "from rl_analysis.plotting import (\n",
    "    setup_plotting_env,\n",
    "    syllable_aliases,\n",
    "    clean_ticks,\n",
    "    format_pval,\n",
    "    savefig\n",
    ")\n",
    "from rl_analysis.util import whiten\n",
    "from rl_analysis.photometry.encoding_average.util import run_inference_and_ppc\n",
    "from joblib import Parallel, delayed\n",
    "from scipy.stats import pearsonr\n",
    "from sklearn import linear_model, model_selection\n",
    "\n",
    "import pandas as pd\n",
    "import matplotlib.pyplot as plt\n",
    "import numpy as np\n",
    "import os\n",
    "import seaborn as sns\n",
    "import multiprocessing as mp\n",
    "import warnings"
   ]
  },
  {
   "cell_type": "code",
   "execution_count": 3,
   "metadata": {},
   "outputs": [],
   "source": [
    "from sklearn import preprocessing, pipeline"
   ]
  },
  {
   "cell_type": "code",
   "execution_count": 4,
   "metadata": {},
   "outputs": [],
   "source": [
    "from rl_analysis.io.df import (\n",
    "    dlight_exclude_toml,\n",
    ")"
   ]
  },
  {
   "cell_type": "markdown",
   "metadata": {},
   "source": [
    "# Handy functions"
   ]
  },
  {
   "cell_type": "code",
   "execution_count": 5,
   "metadata": {},
   "outputs": [],
   "source": [
    "def ncount_transitions(seq, K=100):\n",
    "    trans = np.zeros((K, K), dtype=\"int64\")\n",
    "    flat_coords = np.ravel_multi_index((seq[:-1], seq[1:]), trans.shape)\n",
    "    trans.flat = np.bincount(flat_coords, minlength=trans.size)\n",
    "    return trans"
   ]
  },
  {
   "cell_type": "code",
   "execution_count": 6,
   "metadata": {},
   "outputs": [],
   "source": [
    "def split_array(x, mapping=None, index_name=\"syllable\"):\n",
    "    index = pd.Series(np.arange(len(x)))\n",
    "    rows = pd.Series(data=x.tolist(), index=index.map(mapping))\n",
    "    rows.index.name = index_name\n",
    "    return rows"
   ]
  },
  {
   "cell_type": "markdown",
   "metadata": {},
   "source": [
    "# Data loading"
   ]
  },
  {
   "cell_type": "code",
   "execution_count": 7,
   "metadata": {},
   "outputs": [],
   "source": [
    "import toml\n",
    "\n",
    "with open(\"../analysis_configuration.toml\", \"r\") as f:\n",
    "    analysis_config = toml.load(f)"
   ]
  },
  {
   "cell_type": "code",
   "execution_count": 8,
   "metadata": {},
   "outputs": [],
   "source": [
    "raw_dirs = analysis_config[\"raw_data\"]\n",
    "proc_dirs = analysis_config[\"intermediate_results\"]\n",
    "lagged_cfg = analysis_config[\"dlight_lagged_correlations\"]\n",
    "dlight_cfg = analysis_config[\"dlight_common\"]\n",
    "figure_cfg = analysis_config[\"figures\"]"
   ]
  },
  {
   "cell_type": "code",
   "execution_count": 9,
   "metadata": {},
   "outputs": [],
   "source": [
    "use_dct = dlight_exclude_toml(\n",
    "    os.path.join(raw_dirs[\"dlight\"], \"dlight_photometry_processed_full.toml\"),\n",
    "    **analysis_config[\"dlight_common\"]\n",
    ")"
   ]
  },
  {
   "cell_type": "code",
   "execution_count": 10,
   "metadata": {},
   "outputs": [],
   "source": [
    "df_filtered = pd.read_parquet(\n",
    "    os.path.join(raw_dirs[\"dlight\"], \"dlight_photometry_processed_full.parquet\"),\n",
    "    filters=[(\"uuid\", \"in\", list(use_dct.keys()))],\n",
    ")\n",
    "\n",
    "snr_persession = df_filtered.drop_duplicates(\"uuid\").groupby(\"mouse_id\")[\"snr\"].mean()"
   ]
  },
  {
   "cell_type": "code",
   "execution_count": 11,
   "metadata": {},
   "outputs": [],
   "source": [
    "file_suffix = \"offline\" if lagged_cfg[\"use_offline\"] else \"online\"\n",
    "load_file = os.path.join(raw_dirs[\"dlight\"], f\"dlight_snippets_{file_suffix}.parquet\")"
   ]
  },
  {
   "cell_type": "code",
   "execution_count": 12,
   "metadata": {},
   "outputs": [],
   "source": [
    "file, ext = os.path.splitext(load_file)\n",
    "features_save_file = f\"{file}_features{ext}\"\n",
    "if lagged_cfg[\"use_renormalized\"]:\n",
    "    file, ext = os.path.splitext(features_save_file)\n",
    "    features_save_file = f\"{file}_renormalize{ext}\"\n",
    "\n",
    "rle_save_file = features_save_file.replace(\"snippet\", \"usage\")\n",
    "\n",
    "dirname, filename = os.path.split(features_save_file)\n",
    "file, ext = os.path.splitext(filename)\n",
    "file = os.path.join(proc_dirs[\"dlight\"], file)\n",
    "\n",
    "if lagged_cfg[\"estimate_within_bin\"]:\n",
    "    file = f\"{file}_withinbin\""
   ]
  },
  {
   "cell_type": "code",
   "execution_count": 13,
   "metadata": {},
   "outputs": [],
   "source": [
    "use_features = []\n",
    "for _use_win in lagged_cfg[\"use_windows\"]:\n",
    "    use_features += [f\"{_}_{_use_win}\" for _ in lagged_cfg[\"use_neural_features\"]]\n",
    "scalar_keys = lagged_cfg[\"usage_and_scalars\"][\"scalars\"]"
   ]
  },
  {
   "cell_type": "code",
   "execution_count": 14,
   "metadata": {},
   "outputs": [],
   "source": [
    "dlight_and_scalar_df = pd.read_parquet(features_save_file)\n",
    "dlight_and_scalar_df = dlight_and_scalar_df.loc[\n",
    "    dlight_and_scalar_df[\"uuid\"].isin(df_filtered[\"uuid\"].unique())\n",
    "].copy()"
   ]
  },
  {
   "cell_type": "code",
   "execution_count": 15,
   "metadata": {},
   "outputs": [],
   "source": [
    "dlight_and_scalar_df = dlight_and_scalar_df.loc[\n",
    "    dlight_and_scalar_df[\"window_tup\"].isin(lagged_cfg[\"use_windows\"])\n",
    "].copy()"
   ]
  },
  {
   "cell_type": "code",
   "execution_count": 16,
   "metadata": {},
   "outputs": [],
   "source": [
    "try:\n",
    "    dlight_and_scalar_df = dlight_and_scalar_df.set_index(\"window_tup\", append=True)\n",
    "except KeyError:\n",
    "    pass"
   ]
  },
  {
   "cell_type": "code",
   "execution_count": 17,
   "metadata": {},
   "outputs": [],
   "source": [
    "wins = dlight_and_scalar_df.index.get_level_values(-1).unique()"
   ]
  },
  {
   "cell_type": "code",
   "execution_count": 18,
   "metadata": {},
   "outputs": [],
   "source": [
    "idx = pd.IndexSlice"
   ]
  },
  {
   "cell_type": "code",
   "execution_count": 19,
   "metadata": {},
   "outputs": [
    {
     "data": {
      "application/vnd.jupyter.widget-view+json": {
       "model_id": "e5ca6137318e47de827b079076387fe8",
       "version_major": 2,
       "version_minor": 0
      },
      "text/plain": [
       "  0%|          | 0/1 [00:00<?, ?it/s]"
      ]
     },
     "metadata": {},
     "output_type": "display_data"
    }
   ],
   "source": [
    "dfs = []\n",
    "for _idx in tqdm(wins):\n",
    "    use_vals = dlight_and_scalar_df.loc[idx[:, _idx], lagged_cfg[\"use_neural_features\"]]\n",
    "    use_vals.columns = [f\"{_}_{_idx}\" for _ in use_vals.columns]\n",
    "    use_vals.index = use_vals.index.droplevel(-1)\n",
    "    dfs.append(use_vals)"
   ]
  },
  {
   "cell_type": "code",
   "execution_count": 20,
   "metadata": {},
   "outputs": [],
   "source": [
    "meta_cols = dlight_and_scalar_df.columns.difference(\n",
    "    dlight_and_scalar_df.filter(regex=\"dff\").columns\n",
    ")\n",
    "meta_df = dlight_and_scalar_df[meta_cols].loc[idx[:, _idx], :]\n",
    "meta_df.index = meta_df.index.droplevel(-1)\n",
    "dlight_and_scalar_df = pd.concat(dfs, axis=1).join(meta_df)"
   ]
  },
  {
   "cell_type": "code",
   "execution_count": 21,
   "metadata": {},
   "outputs": [],
   "source": [
    "target_syllables = list(syllable_aliases.keys())\n",
    "group_keys = [\"mouse_id\"]"
   ]
  },
  {
   "cell_type": "code",
   "execution_count": 22,
   "metadata": {},
   "outputs": [],
   "source": [
    "sns.set_style(\"white\")\n",
    "sns.set_context(\"notebook\")"
   ]
  },
  {
   "cell_type": "code",
   "execution_count": 23,
   "metadata": {},
   "outputs": [],
   "source": [
    "syllable_stats = toml.load(\n",
    "    os.path.join(proc_dirs[\"dlight\"], \"syllable_stats_photometry_offline.toml\")\n",
    ")\n",
    "# syllable_stats = toml.load(os.path.join(proc_dirs[\"dlight\"],\"syllable_stats_online.toml\"))\n",
    "mapping = {int(k): int(v) for k, v in syllable_stats[\"syllable_to_sorted_idx\"].items()}\n",
    "reverse_mapping = {\n",
    "    int(k): int(v) for k, v in syllable_stats[\"sorted_idx_to_syllable\"].items()\n",
    "}\n",
    "sorted_syllables = np.array(\n",
    "    list(syllable_stats[\"syllable_to_sorted_idx\"].keys())\n",
    ").astype(\"int\")"
   ]
  },
  {
   "cell_type": "code",
   "execution_count": 24,
   "metadata": {},
   "outputs": [],
   "source": [
    "da_stats_df = pd.read_parquet(\n",
    "    os.path.join(proc_dirs[\"closed_loop_behavior\"], \"da-vs-learning-per-syllable.parquet\")\n",
    ")\n",
    "norm_df = pd.read_parquet(\n",
    "    os.path.join(\n",
    "        raw_dirs[\"closed_loop_behavior\"], \"learning_aggregate.parquet\"\n",
    "    )\n",
    ")"
   ]
  },
  {
   "cell_type": "markdown",
   "metadata": {},
   "source": [
    "# Model functions"
   ]
  },
  {
   "cell_type": "code",
   "execution_count": 25,
   "metadata": {},
   "outputs": [],
   "source": [
    "import numpyro\n",
    "from numpyro.infer import MCMC, NUTS\n",
    "from jax import random"
   ]
  },
  {
   "cell_type": "code",
   "execution_count": 26,
   "metadata": {},
   "outputs": [],
   "source": [
    "# COMMENT OUT IF USING A GPU\n",
    "numpyro.set_host_device_count(mp.cpu_count())\n",
    "numpyro.set_platform(\"cpu\")"
   ]
  },
  {
   "cell_type": "code",
   "execution_count": 27,
   "metadata": {},
   "outputs": [],
   "source": [
    "from scipy.stats import zscore"
   ]
  },
  {
   "cell_type": "code",
   "execution_count": 28,
   "metadata": {},
   "outputs": [],
   "source": [
    "rng_key = random.PRNGKey(0)\n",
    "rng_key, rng_key_ = random.split(rng_key)"
   ]
  },
  {
   "cell_type": "markdown",
   "metadata": {
    "tags": []
   },
   "source": [
    "## Normalization of learning data"
   ]
  },
  {
   "cell_type": "code",
   "execution_count": 29,
   "metadata": {},
   "outputs": [],
   "source": [
    "targets = syllable_aliases.keys()"
   ]
  },
  {
   "cell_type": "code",
   "execution_count": 30,
   "metadata": {},
   "outputs": [
    {
     "name": "stderr",
     "output_type": "stream",
     "text": [
      "/tmp/ipykernel_1389598/59940035.py:11: FutureWarning: The default value of numeric_only in DataFrameGroupBy.mean is deprecated. In a future version, numeric_only will default to False. Either specify numeric_only or select only columns which should be valid for the function.\n",
      "  .mean()\n"
     ]
    }
   ],
   "source": [
    "learning_per_syllable = (\n",
    "    norm_df.loc[\n",
    "        (norm_df[\"syllable\"] == norm_df[\"target_syllable\"])\n",
    "        & (norm_df[\"session_number\"].isin([1, 2]))\n",
    "        & (norm_df[\"stim_duration\"] == 0.25)\n",
    "        & (norm_df[\"area\"] == \"snc (axon)\")\n",
    "    ]\n",
    "    .groupby(\n",
    "        [\"mouse_id\", \"area\", \"opsin\", \"syllable\", \"session_number\", \"target_syllable\"]\n",
    "    )\n",
    "    .mean()\n",
    ")"
   ]
  },
  {
   "cell_type": "code",
   "execution_count": 31,
   "metadata": {},
   "outputs": [],
   "source": [
    "learning_range = norm_df.loc[\n",
    "    (norm_df[\"stim_duration\"] == 0.25) & (norm_df[\"area\"] == \"snc (axon)\")\n",
    "].copy()\n",
    "learning_range = learning_range.loc[\n",
    "    (\n",
    "        (learning_range[\"session_number\"] <= 0)\n",
    "        & (learning_range[\"date\"].dt.dayofweek == 0)\n",
    "    )\n",
    "].copy()\n",
    "learning_range[\"date (rounded)\"] = learning_range[\"date\"].dt.floor(\"d\")"
   ]
  },
  {
   "cell_type": "code",
   "execution_count": 32,
   "metadata": {},
   "outputs": [],
   "source": [
    "from collections import defaultdict"
   ]
  },
  {
   "cell_type": "code",
   "execution_count": 33,
   "metadata": {},
   "outputs": [
    {
     "data": {
      "application/vnd.jupyter.widget-view+json": {
       "model_id": "0fdd2157ef2746bd8fe5528b5965ef0a",
       "version_major": 2,
       "version_minor": 0
      },
      "text/plain": [
       "  0%|          | 0/6 [00:00<?, ?it/s]"
      ]
     },
     "metadata": {},
     "output_type": "display_data"
    }
   ],
   "source": [
    "# either average sessions or do all to all\n",
    "diff_dist = defaultdict(list)\n",
    "fold_dist = defaultdict(list)\n",
    "count_dist = defaultdict(list)\n",
    "key = \"count\"\n",
    "for _target in tqdm(targets):\n",
    "    for _mouse, mouse_df in learning_range.groupby(\"mouse_id\"):\n",
    "        mouse_df = mouse_df[mouse_df[\"syllable\"] == _target].sort_values(\n",
    "            by=\"date (rounded)\"\n",
    "        )\n",
    "        mouse_df_ref = mouse_df.copy()\n",
    "\n",
    "        if len(mouse_df) == 0:\n",
    "            continue\n",
    "\n",
    "        # for each mouse, target, session should only be 1 possible baseline\n",
    "        for _idx, row in mouse_df.iterrows():\n",
    "            dts = row[\"date (rounded)\"] - mouse_df_ref[\"date (rounded)\"]\n",
    "            dts = dts.apply(lambda x: x.days)\n",
    "            # print(dts)\n",
    "            # this is where we choose which day diff to use as a baseline\n",
    "            base_rows = mouse_df_ref.loc[(dts >= 1) & (dts < np.inf)]\n",
    "            for _, base_row in base_rows.iterrows():\n",
    "                diff_dist[(_mouse, _target)].append(row[key] - base_row[key])\n",
    "                try:\n",
    "                    fold_change = np.log2(row[key] / base_row[key])\n",
    "                except:\n",
    "                    fold_change = np.nan\n",
    "                fold_dist[(_mouse, _target)].append(fold_change)\n",
    "                count_dist[(_mouse, _target)].append(row[key])"
   ]
  },
  {
   "cell_type": "code",
   "execution_count": 34,
   "metadata": {},
   "outputs": [],
   "source": [
    "count_mu = learning_range.groupby([\"mouse_id\", \"syllable\"], observed=True)[\n",
    "    \"count\"\n",
    "].mean()\n",
    "count_sig = learning_range.groupby([\"mouse_id\", \"syllable\"], observed=True)[\n",
    "    \"count\"\n",
    "].std()"
   ]
  },
  {
   "cell_type": "code",
   "execution_count": 35,
   "metadata": {},
   "outputs": [],
   "source": [
    "learning_per_syllable[\"change_count_z\"] = learning_per_syllable.groupby(\n",
    "    [\"mouse_id\", \"syllable\"]\n",
    ")[\"change_count\"].transform(lambda x: (x) / np.nanstd(diff_dist[x.name]))\n",
    "learning_per_syllable[\"log2_fold_change_count_z\"] = learning_per_syllable.groupby(\n",
    "    [\"mouse_id\", \"syllable\"]\n",
    ")[\"log2_fold_change_count\"].transform(\n",
    "    lambda x: (x - np.nanmean(fold_dist[x.name])) / np.nanstd(fold_dist[x.name])\n",
    ")\n",
    "learning_per_syllable[\"count_z\"] = learning_per_syllable.groupby(\n",
    "    [\"mouse_id\", \"syllable\"]\n",
    ")[\"count\"].transform(lambda x: (x - count_mu[x.name]) / count_sig[x.name])"
   ]
  },
  {
   "cell_type": "code",
   "execution_count": 36,
   "metadata": {},
   "outputs": [],
   "source": [
    "syllable_classes = toml.load(os.path.join(proc_dirs[\"closed_loop_behavior\"], \"behavior_classes.toml\"))\n",
    "syllable_map = {}\n",
    "\n",
    "for k, v in syllable_classes.items():\n",
    "    for _syllable in v:\n",
    "        syllable_map[_syllable] = k"
   ]
  },
  {
   "cell_type": "markdown",
   "metadata": {
    "tags": []
   },
   "source": [
    "# Per syllable and mouse usage"
   ]
  },
  {
   "cell_type": "code",
   "execution_count": 37,
   "metadata": {},
   "outputs": [],
   "source": [
    "rle_df = pd.read_parquet(rle_save_file)"
   ]
  },
  {
   "cell_type": "code",
   "execution_count": 38,
   "metadata": {},
   "outputs": [],
   "source": [
    "corr_file = f\"{file}_lag_usage_and_scalars_correlations_dls.parquet\"\n",
    "shuffle_file = f\"{file}_lag_usage_and_scalars_shuffle_for_index.parquet\""
   ]
  },
  {
   "cell_type": "code",
   "execution_count": 39,
   "metadata": {},
   "outputs": [],
   "source": [
    "obs_corrs = pd.read_parquet(corr_file)"
   ]
  },
  {
   "cell_type": "code",
   "execution_count": 40,
   "metadata": {},
   "outputs": [],
   "source": [
    "shuffle_df = pd.read_parquet(shuffle_file)"
   ]
  },
  {
   "cell_type": "code",
   "execution_count": 41,
   "metadata": {},
   "outputs": [],
   "source": [
    "use_feature = \"signal_reref_dff_z_max_(0.0, 0.3)\"\n",
    "mouse_list = list(obs_corrs.index.get_level_values(\"mouse_id\").unique())\n",
    "mouse_list = [_ for _ in mouse_list if \"dlight-chrimson\" in _]"
   ]
  },
  {
   "cell_type": "code",
   "execution_count": 42,
   "metadata": {},
   "outputs": [],
   "source": [
    "agg_keys = [\"bin\", \"time_bin\", \"mouse_id\", \"syllable\"]\n",
    "shuffle_agg_keys = [\"bin\", \"time_bin\", \"syllable\", \"idx\"]\n",
    "final_agg_keys = [\"syllable\", \"mouse_id\", \"bin\"]\n",
    "group_keys = [\"syllable\", \"mouse_id\"]"
   ]
  },
  {
   "cell_type": "code",
   "execution_count": 43,
   "metadata": {},
   "outputs": [],
   "source": [
    "use_obs_corrs = obs_corrs.xs(use_feature, level=\"feature\")"
   ]
  },
  {
   "cell_type": "code",
   "execution_count": 44,
   "metadata": {},
   "outputs": [],
   "source": [
    "use_obs_corrs = use_obs_corrs.loc[\n",
    "    (use_obs_corrs.index.get_level_values(\"syllable\").isin(sorted_syllables[:]))\n",
    "]"
   ]
  },
  {
   "cell_type": "code",
   "execution_count": 45,
   "metadata": {},
   "outputs": [],
   "source": [
    "shuffle_agg = (\n",
    "    shuffle_df.xs(use_feature, level=\"feature\").groupby(shuffle_agg_keys).mean()\n",
    ")"
   ]
  },
  {
   "cell_type": "code",
   "execution_count": 46,
   "metadata": {},
   "outputs": [],
   "source": [
    "use_obs_corrs = use_obs_corrs.groupby(\n",
    "    agg_keys\n",
    ").mean()  \n",
    "\n",
    "shuffle_mus = shuffle_agg.groupby(shuffle_agg_keys[:-1]).mean()\n",
    "shuffle_sigs = shuffle_agg.groupby(shuffle_agg_keys[:-1]).std()\n",
    "\n",
    "z_obs_mu = ((use_obs_corrs - shuffle_mus) / shuffle_sigs).groupby(final_agg_keys).mean()\n",
    "obs_mu = use_obs_corrs"
   ]
  },
  {
   "cell_type": "code",
   "execution_count": 47,
   "metadata": {},
   "outputs": [],
   "source": [
    "raw_syllable_corrs = obs_mu.groupby(final_agg_keys)[\"count\"].mean()\n",
    "z_syllable_corrs = z_obs_mu.groupby(final_agg_keys)[\"count\"].mean()"
   ]
  },
  {
   "cell_type": "code",
   "execution_count": 48,
   "metadata": {},
   "outputs": [],
   "source": [
    "z_syllable_corrs = (\n",
    "    (\n",
    "        z_syllable_corrs.groupby(final_agg_keys[:-1])\n",
    "        .transform(lambda x: x.rolling(3, 1, True).mean())\n",
    "    )\n",
    "    .groupby(group_keys + [\"bin\"])\n",
    "    .mean()\n",
    ")"
   ]
  },
  {
   "cell_type": "code",
   "execution_count": 49,
   "metadata": {},
   "outputs": [],
   "source": [
    "pal_len = z_syllable_corrs.index.get_level_values(\"syllable\").nunique()"
   ]
  },
  {
   "cell_type": "code",
   "execution_count": 50,
   "metadata": {},
   "outputs": [],
   "source": [
    "from rl_analysis.info.util import dm_entropy"
   ]
  },
  {
   "cell_type": "code",
   "execution_count": 51,
   "metadata": {},
   "outputs": [],
   "source": [
    "uuid_list = list(df_filtered[\"uuid\"].unique())"
   ]
  },
  {
   "cell_type": "code",
   "execution_count": 52,
   "metadata": {},
   "outputs": [
    {
     "name": "stderr",
     "output_type": "stream",
     "text": [
      "/tmp/ipykernel_1389598/2110564721.py:3: FutureWarning: The behavior of `series[i:j]` with an integer-dtype index is deprecated. In a future version, this will be treated as *label-based* indexing, consistent with e.g. `series[i]` lookups. To retain the old behavior, use `series.iloc[i:j]`. To get the future behavior, use `series.loc[i:j]`.\n",
      "  flat_coords = np.ravel_multi_index((seq[:-1], seq[1:]), trans.shape)\n"
     ]
    }
   ],
   "source": [
    "use_rle_df = rle_df.loc[\n",
    "    (rle_df[\"syllable\"] >= 0)\n",
    "    & (rle_df[\"session_number\"] <= 0)\n",
    "    & (rle_df[\"uuid\"].isin(uuid_list))\n",
    "    & (rle_df[\"date\"].dt.dayofweek == 0)\n",
    "].copy()\n",
    "use_rle_df[\"syllable_sorted\"] = use_rle_df[\"syllable\"].map(mapping)\n",
    "tm_df = (\n",
    "    use_rle_df.groupby([\"mouse_id\", \"session_number\", \"uuid\"])[\"syllable_sorted\"]\n",
    "    .apply(lambda x: ncount_transitions(x, K=len(mapping)))\n",
    "    .dropna()\n",
    ")"
   ]
  },
  {
   "cell_type": "code",
   "execution_count": 53,
   "metadata": {},
   "outputs": [],
   "source": [
    "tm_df_rows = tm_df.apply(lambda x: split_array(x, mapping=reverse_mapping)).stack()\n",
    "tm_df_rows = tm_df_rows.apply(lambda x: np.array(x))\n",
    "tm_df_rows = tm_df_rows.rename(\"tm_row\")"
   ]
  },
  {
   "cell_type": "code",
   "execution_count": 54,
   "metadata": {},
   "outputs": [],
   "source": [
    "totals = tm_df_rows.groupby(group_keys).sum()"
   ]
  },
  {
   "cell_type": "code",
   "execution_count": 55,
   "metadata": {},
   "outputs": [],
   "source": [
    "tqdm.pandas()"
   ]
  },
  {
   "cell_type": "code",
   "execution_count": 56,
   "metadata": {},
   "outputs": [],
   "source": [
    "totals_sz = totals.apply(lambda x: x.sum())"
   ]
  },
  {
   "cell_type": "code",
   "execution_count": 57,
   "metadata": {},
   "outputs": [
    {
     "data": {
      "application/vnd.jupyter.widget-view+json": {
       "model_id": "37521209e5ee480fa22a33bb1f1ce17c",
       "version_major": 2,
       "version_minor": 0
      },
      "text/plain": [
       "  0%|          | 0/1102 [00:00<?, ?it/s]"
      ]
     },
     "metadata": {},
     "output_type": "display_data"
    }
   ],
   "source": [
    "ents = totals.progress_apply(\n",
    "    lambda x: dm_entropy(\n",
    "        x[: syllable_stats[\"truncate\"]],\n",
    "        alpha=1.0 / syllable_stats[\"truncate\"],\n",
    "        marginalize=False,\n",
    "        axis=None,\n",
    "    )\n",
    ").rename(\"entropy_out_syllable\")"
   ]
  },
  {
   "cell_type": "code",
   "execution_count": 58,
   "metadata": {},
   "outputs": [],
   "source": [
    "ri_ci = 0.9\n",
    "top = 1 - ((1 - ri_ci) / 2)\n",
    "bottom = (1 - ri_ci) / 2"
   ]
  },
  {
   "cell_type": "code",
   "execution_count": 59,
   "metadata": {},
   "outputs": [],
   "source": [
    "reinforcement_index_per_syllable_z = (\n",
    "    z_syllable_corrs.groupby(group_keys)\n",
    "    .std()\n",
    "    .rename(\"reinforcement_index_per_syllable_z\")\n",
    ")"
   ]
  },
  {
   "cell_type": "code",
   "execution_count": 60,
   "metadata": {},
   "outputs": [],
   "source": [
    "reinforcement_index_per_syllable_z = reinforcement_index_per_syllable_z.loc[\n",
    "    reinforcement_index_per_syllable_z.index.get_level_values(\"mouse_id\").isin(\n",
    "        mouse_list\n",
    "    )\n",
    "]"
   ]
  },
  {
   "cell_type": "code",
   "execution_count": 61,
   "metadata": {},
   "outputs": [],
   "source": [
    "learning_ave = learning_per_syllable.groupby([\"mouse_id\", \"syllable\"]).mean()\n",
    "learning_ave = learning_ave.loc[\n",
    "    learning_ave.index.get_level_values(\"mouse_id\").isin(mouse_list)\n",
    "]"
   ]
  },
  {
   "cell_type": "code",
   "execution_count": 62,
   "metadata": {},
   "outputs": [
    {
     "data": {
      "text/html": [
       "<div>\n",
       "<style scoped>\n",
       "    .dataframe tbody tr th:only-of-type {\n",
       "        vertical-align: middle;\n",
       "    }\n",
       "\n",
       "    .dataframe tbody tr th {\n",
       "        vertical-align: top;\n",
       "    }\n",
       "\n",
       "    .dataframe thead th {\n",
       "        text-align: right;\n",
       "    }\n",
       "</style>\n",
       "<table border=\"1\" class=\"dataframe\">\n",
       "  <thead>\n",
       "    <tr style=\"text-align: right;\">\n",
       "      <th></th>\n",
       "      <th>reinforcement_index_per_syllable_z</th>\n",
       "      <th>log2_fold_change_count_z</th>\n",
       "    </tr>\n",
       "  </thead>\n",
       "  <tbody>\n",
       "    <tr>\n",
       "      <th>reinforcement_index_per_syllable_z</th>\n",
       "      <td>1.00000</td>\n",
       "      <td>0.65984</td>\n",
       "    </tr>\n",
       "    <tr>\n",
       "      <th>log2_fold_change_count_z</th>\n",
       "      <td>0.65984</td>\n",
       "      <td>1.00000</td>\n",
       "    </tr>\n",
       "  </tbody>\n",
       "</table>\n",
       "</div>"
      ],
      "text/plain": [
       "                                    reinforcement_index_per_syllable_z  \\\n",
       "reinforcement_index_per_syllable_z                             1.00000   \n",
       "log2_fold_change_count_z                                       0.65984   \n",
       "\n",
       "                                    log2_fold_change_count_z  \n",
       "reinforcement_index_per_syllable_z                   0.65984  \n",
       "log2_fold_change_count_z                             1.00000  "
      ]
     },
     "execution_count": 62,
     "metadata": {},
     "output_type": "execute_result"
    }
   ],
   "source": [
    "pd.concat(\n",
    "    [\n",
    "        reinforcement_index_per_syllable_z.loc[\n",
    "            sorted_syllables[: syllable_stats[\"truncate\"]]\n",
    "        ]\n",
    "        .groupby(\"mouse_id\").median(),\n",
    "        learning_ave.groupby(\"syllable\")\n",
    "        .rank()\n",
    "        .groupby(\"mouse_id\")\n",
    "        .median()[\"log2_fold_change_count_z\"],\n",
    "    ],\n",
    "    axis=1,\n",
    ").corr()"
   ]
  },
  {
   "cell_type": "markdown",
   "metadata": {},
   "source": [
    "# Per mouse entropy..."
   ]
  },
  {
   "cell_type": "code",
   "execution_count": 63,
   "metadata": {},
   "outputs": [],
   "source": [
    "corr_file = f\"{file}_lag_global_entropy_correlations_for_index_per_mouse.parquet\"\n",
    "shuffle_file = f\"{file}_lag_global_entropy_shuffle_for_index_per_mouse.parquet\""
   ]
  },
  {
   "cell_type": "code",
   "execution_count": 64,
   "metadata": {},
   "outputs": [],
   "source": [
    "obs_corrs = pd.read_parquet(corr_file)\n",
    "shuffle_df = pd.read_parquet(shuffle_file)"
   ]
  },
  {
   "cell_type": "code",
   "execution_count": 65,
   "metadata": {},
   "outputs": [],
   "source": [
    "agg_keys = [\"bin\", \"time_bin\", \"mouse_id\", \"syllable\"]\n",
    "shuffle_agg_keys = [\"bin\", \"time_bin\", \"mouse_id\", \"idx\"]\n",
    "final_agg_keys = [\"mouse_id\", \"syllable\", \"bin\"]\n",
    "group_keys = [\"syllable\", \"mouse_id\"]"
   ]
  },
  {
   "cell_type": "code",
   "execution_count": 66,
   "metadata": {},
   "outputs": [],
   "source": [
    "use_obs_corrs = obs_corrs.xs(\n",
    "    (use_feature, \"dlight_bin\"), level=(\"dlight_bin_feature\", \"feature\")\n",
    ")[\"entropy\"]"
   ]
  },
  {
   "cell_type": "code",
   "execution_count": 67,
   "metadata": {},
   "outputs": [],
   "source": [
    "shuffle_agg = (\n",
    "    shuffle_df.xs((use_feature, \"dlight_bin\"), level=(\"dlight_bin_feature\", \"feature\"))\n",
    "    .groupby(shuffle_agg_keys)[\"entropy\"]\n",
    "    .mean()\n",
    ")"
   ]
  },
  {
   "cell_type": "code",
   "execution_count": 68,
   "metadata": {},
   "outputs": [],
   "source": [
    "use_obs_corrs = use_obs_corrs.groupby(\n",
    "    agg_keys\n",
    ").mean()  \n",
    "\n",
    "shuffle_mus = shuffle_agg.groupby(shuffle_agg_keys[:-1]).mean()\n",
    "shuffle_sigs = shuffle_agg.groupby(shuffle_agg_keys[:-1]).std()\n",
    "\n",
    "z_obs_mu = ((use_obs_corrs - shuffle_mus) / shuffle_sigs).groupby(final_agg_keys).mean()\n",
    "obs_mu = use_obs_corrs"
   ]
  },
  {
   "cell_type": "code",
   "execution_count": 69,
   "metadata": {},
   "outputs": [],
   "source": [
    "raw_entropy_corrs = obs_mu.groupby(final_agg_keys).mean().dropna()\n",
    "z_entropy_corrs = z_obs_mu.groupby(final_agg_keys).mean().dropna()\n",
    "z_entropy_corrs = z_entropy_corrs.loc[np.isfinite(z_entropy_corrs)]"
   ]
  },
  {
   "cell_type": "code",
   "execution_count": 70,
   "metadata": {},
   "outputs": [],
   "source": [
    "z_entropy_corrs = (\n",
    "    (\n",
    "        z_entropy_corrs.groupby(final_agg_keys[:-1])\n",
    "        .transform(lambda x: x.rolling(3, 1, True).mean())\n",
    "    )\n",
    "    .groupby(group_keys + [\"bin\"])\n",
    "    .mean()\n",
    ")"
   ]
  },
  {
   "cell_type": "code",
   "execution_count": 71,
   "metadata": {},
   "outputs": [],
   "source": [
    "ri_ci = 0.9\n",
    "top = 1 - ((1 - ri_ci) / 2)\n",
    "bottom = (1 - ri_ci) / 2"
   ]
  },
  {
   "cell_type": "code",
   "execution_count": 72,
   "metadata": {},
   "outputs": [],
   "source": [
    "entropy_index_per_syllable_z = (\n",
    "    z_entropy_corrs.groupby(group_keys).std().rename(\"entropy_index_per_syllable_z\")\n",
    ")"
   ]
  },
  {
   "cell_type": "code",
   "execution_count": 73,
   "metadata": {},
   "outputs": [],
   "source": [
    "learning_ave = learning_per_syllable.groupby([\"syllable\", \"mouse_id\"]).mean()\n",
    "learning_ave = learning_ave.loc[\n",
    "    learning_ave.index.get_level_values(\"mouse_id\").isin(mouse_list)\n",
    "]"
   ]
  },
  {
   "cell_type": "code",
   "execution_count": 74,
   "metadata": {},
   "outputs": [],
   "source": [
    "entropy_index_per_syllable_z = entropy_index_per_syllable_z.loc[\n",
    "    entropy_index_per_syllable_z.index.get_level_values(\"mouse_id\").isin(mouse_list)\n",
    "]"
   ]
  },
  {
   "cell_type": "code",
   "execution_count": 75,
   "metadata": {},
   "outputs": [],
   "source": [
    "entropy_index_per_syllable_z = entropy_index_per_syllable_z.reset_index()\n",
    "entropy_index_per_syllable_z[\"syllable\"] = entropy_index_per_syllable_z[\"syllable\"].map(\n",
    "    reverse_mapping\n",
    ")"
   ]
  },
  {
   "cell_type": "code",
   "execution_count": 76,
   "metadata": {},
   "outputs": [],
   "source": [
    "entropy_index_per_syllable_z = (\n",
    "    entropy_index_per_syllable_z.set_index(group_keys).sort_index().iloc[:, 0]\n",
    ")"
   ]
  },
  {
   "cell_type": "code",
   "execution_count": 77,
   "metadata": {},
   "outputs": [],
   "source": [
    "r_df = pd.concat(\n",
    "    [\n",
    "        reinforcement_index_per_syllable_z.loc[\n",
    "            sorted_syllables[: syllable_stats[\"truncate\"]]\n",
    "        ]\n",
    "        .groupby(\"mouse_id\").median(),\n",
    "        learning_ave.groupby(\"syllable\")\n",
    "        .rank()\n",
    "        .groupby(\"mouse_id\")\n",
    "        .median()[\"log2_fold_change_count_z\"],\n",
    "        entropy_index_per_syllable_z.loc[sorted_syllables[: syllable_stats[\"truncate\"]]]\n",
    "        .groupby(\"mouse_id\").median(),\n",
    "    ],\n",
    "    axis=1,\n",
    ")"
   ]
  },
  {
   "cell_type": "code",
   "execution_count": 79,
   "metadata": {},
   "outputs": [],
   "source": [
    "splits = model_selection.LeavePOut(p=2)"
   ]
  },
  {
   "cell_type": "code",
   "execution_count": 80,
   "metadata": {},
   "outputs": [],
   "source": [
    "import rl_analysis.photometry.encoding_average.models as np_models"
   ]
  },
  {
   "cell_type": "code",
   "execution_count": 81,
   "metadata": {},
   "outputs": [],
   "source": [
    "feature_combinations = {\n",
    "    \"entropy_learning\": {\n",
    "        \"x\": [\"entropy_index_per_syllable_z\"],\n",
    "        \"y\": \"log2_fold_change_count_z\",\n",
    "    },\n",
    "    \"reinforcement_learning\": {\n",
    "        \"x\": [\"reinforcement_index_per_syllable_z\"],\n",
    "        \"y\": \"log2_fold_change_count_z\",\n",
    "    },\n",
    "    \"reinforcement_entropy\": {\n",
    "        \"x\": [\"reinforcement_index_per_syllable_z\"],\n",
    "        \"y\": \"entropy_index_per_syllable_z\",\n",
    "    },\n",
    "}\n",
    "\n",
    "xvals = np.linspace(-2, 2, 100).reshape(-1, 1)\n",
    "from numpyro.infer import Predictive\n",
    "\n",
    "nshuffles = 1000\n",
    "\n",
    "use_model = np_models.simple_regression"
   ]
  },
  {
   "cell_type": "code",
   "execution_count": 82,
   "metadata": {},
   "outputs": [],
   "source": [
    "kernel = NUTS(use_model)\n",
    "mcmc = MCMC(\n",
    "    kernel,\n",
    "    num_warmup=1000,\n",
    "    num_samples=2000,\n",
    "    num_chains=20,\n",
    "    chain_method=\"parallel\",\n",
    "    progress_bar=False,\n",
    ")\n",
    "\n",
    "rng_key = random.PRNGKey(0)\n",
    "rng_key, rng_key_ = random.split(rng_key)"
   ]
  },
  {
   "cell_type": "code",
   "execution_count": 83,
   "metadata": {},
   "outputs": [
    {
     "data": {
      "application/vnd.jupyter.widget-view+json": {
       "model_id": "f8b3b2cac14a45b2b69b8ee6cd0a82a9",
       "version_major": 2,
       "version_minor": 0
      },
      "text/plain": [
       "  0%|          | 0/3 [00:00<?, ?it/s]"
      ]
     },
     "metadata": {},
     "output_type": "display_data"
    },
    {
     "name": "stderr",
     "output_type": "stream",
     "text": [
      "[Parallel(n_jobs=-1)]: Using backend LokyBackend with 128 concurrent workers.\n",
      "No GPU/TPU found, falling back to CPU. (Set TF_CPP_MIN_LOG_LEVEL=0 and rerun for more info.)\n",
      "No GPU/TPU found, falling back to CPU. (Set TF_CPP_MIN_LOG_LEVEL=0 and rerun for more info.)\n",
      "No GPU/TPU found, falling back to CPU. (Set TF_CPP_MIN_LOG_LEVEL=0 and rerun for more info.)\n",
      "No GPU/TPU found, falling back to CPU. (Set TF_CPP_MIN_LOG_LEVEL=0 and rerun for more info.)\n",
      "No GPU/TPU found, falling back to CPU. (Set TF_CPP_MIN_LOG_LEVEL=0 and rerun for more info.)\n",
      "No GPU/TPU found, falling back to CPU. (Set TF_CPP_MIN_LOG_LEVEL=0 and rerun for more info.)\n",
      "No GPU/TPU found, falling back to CPU. (Set TF_CPP_MIN_LOG_LEVEL=0 and rerun for more info.)\n",
      "No GPU/TPU found, falling back to CPU. (Set TF_CPP_MIN_LOG_LEVEL=0 and rerun for more info.)\n",
      "No GPU/TPU found, falling back to CPU. (Set TF_CPP_MIN_LOG_LEVEL=0 and rerun for more info.)\n",
      "No GPU/TPU found, falling back to CPU. (Set TF_CPP_MIN_LOG_LEVEL=0 and rerun for more info.)\n",
      "No GPU/TPU found, falling back to CPU. (Set TF_CPP_MIN_LOG_LEVEL=0 and rerun for more info.)\n",
      "No GPU/TPU found, falling back to CPU. (Set TF_CPP_MIN_LOG_LEVEL=0 and rerun for more info.)\n",
      "No GPU/TPU found, falling back to CPU. (Set TF_CPP_MIN_LOG_LEVEL=0 and rerun for more info.)\n",
      "No GPU/TPU found, falling back to CPU. (Set TF_CPP_MIN_LOG_LEVEL=0 and rerun for more info.)\n",
      "No GPU/TPU found, falling back to CPU. (Set TF_CPP_MIN_LOG_LEVEL=0 and rerun for more info.)\n",
      "No GPU/TPU found, falling back to CPU. (Set TF_CPP_MIN_LOG_LEVEL=0 and rerun for more info.)\n",
      "No GPU/TPU found, falling back to CPU. (Set TF_CPP_MIN_LOG_LEVEL=0 and rerun for more info.)\n",
      "No GPU/TPU found, falling back to CPU. (Set TF_CPP_MIN_LOG_LEVEL=0 and rerun for more info.)\n",
      "No GPU/TPU found, falling back to CPU. (Set TF_CPP_MIN_LOG_LEVEL=0 and rerun for more info.)\n",
      "No GPU/TPU found, falling back to CPU. (Set TF_CPP_MIN_LOG_LEVEL=0 and rerun for more info.)\n",
      "No GPU/TPU found, falling back to CPU. (Set TF_CPP_MIN_LOG_LEVEL=0 and rerun for more info.)\n",
      "No GPU/TPU found, falling back to CPU. (Set TF_CPP_MIN_LOG_LEVEL=0 and rerun for more info.)\n",
      "No GPU/TPU found, falling back to CPU. (Set TF_CPP_MIN_LOG_LEVEL=0 and rerun for more info.)\n",
      "No GPU/TPU found, falling back to CPU. (Set TF_CPP_MIN_LOG_LEVEL=0 and rerun for more info.)\n",
      "No GPU/TPU found, falling back to CPU. (Set TF_CPP_MIN_LOG_LEVEL=0 and rerun for more info.)\n",
      "No GPU/TPU found, falling back to CPU. (Set TF_CPP_MIN_LOG_LEVEL=0 and rerun for more info.)\n",
      "No GPU/TPU found, falling back to CPU. (Set TF_CPP_MIN_LOG_LEVEL=0 and rerun for more info.)\n",
      "No GPU/TPU found, falling back to CPU. (Set TF_CPP_MIN_LOG_LEVEL=0 and rerun for more info.)\n",
      "[Parallel(n_jobs=-1)]: Done   4 out of  28 | elapsed:  1.3min remaining:  8.0min\n",
      "[Parallel(n_jobs=-1)]: Done   7 out of  28 | elapsed:  1.3min remaining:  4.0min\n",
      "[Parallel(n_jobs=-1)]: Done  10 out of  28 | elapsed:  1.3min remaining:  2.4min\n",
      "[Parallel(n_jobs=-1)]: Done  13 out of  28 | elapsed:  1.3min remaining:  1.5min\n",
      "[Parallel(n_jobs=-1)]: Done  16 out of  28 | elapsed:  1.3min remaining:  1.0min\n",
      "[Parallel(n_jobs=-1)]: Done  19 out of  28 | elapsed:  1.3min remaining:   38.4s\n",
      "[Parallel(n_jobs=-1)]: Done  22 out of  28 | elapsed:  1.4min remaining:   22.1s\n",
      "[Parallel(n_jobs=-1)]: Done  25 out of  28 | elapsed:  1.4min remaining:    9.8s\n",
      "[Parallel(n_jobs=-1)]: Done  28 out of  28 | elapsed:  1.4min remaining:    0.0s\n",
      "[Parallel(n_jobs=-1)]: Done  28 out of  28 | elapsed:  1.4min finished\n",
      "[Parallel(n_jobs=-1)]: Using backend LokyBackend with 128 concurrent workers.\n",
      "No GPU/TPU found, falling back to CPU. (Set TF_CPP_MIN_LOG_LEVEL=0 and rerun for more info.)\n",
      "No GPU/TPU found, falling back to CPU. (Set TF_CPP_MIN_LOG_LEVEL=0 and rerun for more info.)\n",
      "No GPU/TPU found, falling back to CPU. (Set TF_CPP_MIN_LOG_LEVEL=0 and rerun for more info.)\n",
      "No GPU/TPU found, falling back to CPU. (Set TF_CPP_MIN_LOG_LEVEL=0 and rerun for more info.)\n",
      "No GPU/TPU found, falling back to CPU. (Set TF_CPP_MIN_LOG_LEVEL=0 and rerun for more info.)\n",
      "No GPU/TPU found, falling back to CPU. (Set TF_CPP_MIN_LOG_LEVEL=0 and rerun for more info.)\n",
      "No GPU/TPU found, falling back to CPU. (Set TF_CPP_MIN_LOG_LEVEL=0 and rerun for more info.)\n",
      "No GPU/TPU found, falling back to CPU. (Set TF_CPP_MIN_LOG_LEVEL=0 and rerun for more info.)\n",
      "No GPU/TPU found, falling back to CPU. (Set TF_CPP_MIN_LOG_LEVEL=0 and rerun for more info.)\n",
      "No GPU/TPU found, falling back to CPU. (Set TF_CPP_MIN_LOG_LEVEL=0 and rerun for more info.)\n",
      "No GPU/TPU found, falling back to CPU. (Set TF_CPP_MIN_LOG_LEVEL=0 and rerun for more info.)\n",
      "No GPU/TPU found, falling back to CPU. (Set TF_CPP_MIN_LOG_LEVEL=0 and rerun for more info.)\n",
      "No GPU/TPU found, falling back to CPU. (Set TF_CPP_MIN_LOG_LEVEL=0 and rerun for more info.)\n",
      "No GPU/TPU found, falling back to CPU. (Set TF_CPP_MIN_LOG_LEVEL=0 and rerun for more info.)\n",
      "No GPU/TPU found, falling back to CPU. (Set TF_CPP_MIN_LOG_LEVEL=0 and rerun for more info.)\n",
      "No GPU/TPU found, falling back to CPU. (Set TF_CPP_MIN_LOG_LEVEL=0 and rerun for more info.)\n",
      "No GPU/TPU found, falling back to CPU. (Set TF_CPP_MIN_LOG_LEVEL=0 and rerun for more info.)\n",
      "No GPU/TPU found, falling back to CPU. (Set TF_CPP_MIN_LOG_LEVEL=0 and rerun for more info.)\n",
      "No GPU/TPU found, falling back to CPU. (Set TF_CPP_MIN_LOG_LEVEL=0 and rerun for more info.)\n",
      "No GPU/TPU found, falling back to CPU. (Set TF_CPP_MIN_LOG_LEVEL=0 and rerun for more info.)\n",
      "No GPU/TPU found, falling back to CPU. (Set TF_CPP_MIN_LOG_LEVEL=0 and rerun for more info.)\n",
      "No GPU/TPU found, falling back to CPU. (Set TF_CPP_MIN_LOG_LEVEL=0 and rerun for more info.)\n",
      "No GPU/TPU found, falling back to CPU. (Set TF_CPP_MIN_LOG_LEVEL=0 and rerun for more info.)\n",
      "No GPU/TPU found, falling back to CPU. (Set TF_CPP_MIN_LOG_LEVEL=0 and rerun for more info.)\n",
      "No GPU/TPU found, falling back to CPU. (Set TF_CPP_MIN_LOG_LEVEL=0 and rerun for more info.)\n",
      "No GPU/TPU found, falling back to CPU. (Set TF_CPP_MIN_LOG_LEVEL=0 and rerun for more info.)\n",
      "No GPU/TPU found, falling back to CPU. (Set TF_CPP_MIN_LOG_LEVEL=0 and rerun for more info.)\n",
      "No GPU/TPU found, falling back to CPU. (Set TF_CPP_MIN_LOG_LEVEL=0 and rerun for more info.)\n",
      "[Parallel(n_jobs=-1)]: Done   4 out of  28 | elapsed:   11.0s remaining:  1.1min\n",
      "[Parallel(n_jobs=-1)]: Done   7 out of  28 | elapsed:   11.2s remaining:   33.7s\n",
      "[Parallel(n_jobs=-1)]: Done  10 out of  28 | elapsed:   11.5s remaining:   20.8s\n",
      "[Parallel(n_jobs=-1)]: Done  13 out of  28 | elapsed:   11.7s remaining:   13.5s\n",
      "[Parallel(n_jobs=-1)]: Done  16 out of  28 | elapsed:   12.0s remaining:    9.0s\n",
      "[Parallel(n_jobs=-1)]: Done  19 out of  28 | elapsed:   12.2s remaining:    5.8s\n",
      "[Parallel(n_jobs=-1)]: Done  22 out of  28 | elapsed:   12.3s remaining:    3.4s\n",
      "[Parallel(n_jobs=-1)]: Done  25 out of  28 | elapsed:   12.6s remaining:    1.5s\n",
      "[Parallel(n_jobs=-1)]: Done  28 out of  28 | elapsed:   13.2s remaining:    0.0s\n",
      "[Parallel(n_jobs=-1)]: Done  28 out of  28 | elapsed:   13.2s finished\n",
      "[Parallel(n_jobs=-1)]: Using backend LokyBackend with 128 concurrent workers.\n",
      "No GPU/TPU found, falling back to CPU. (Set TF_CPP_MIN_LOG_LEVEL=0 and rerun for more info.)\n",
      "No GPU/TPU found, falling back to CPU. (Set TF_CPP_MIN_LOG_LEVEL=0 and rerun for more info.)\n",
      "No GPU/TPU found, falling back to CPU. (Set TF_CPP_MIN_LOG_LEVEL=0 and rerun for more info.)\n",
      "No GPU/TPU found, falling back to CPU. (Set TF_CPP_MIN_LOG_LEVEL=0 and rerun for more info.)\n",
      "No GPU/TPU found, falling back to CPU. (Set TF_CPP_MIN_LOG_LEVEL=0 and rerun for more info.)\n",
      "No GPU/TPU found, falling back to CPU. (Set TF_CPP_MIN_LOG_LEVEL=0 and rerun for more info.)\n",
      "No GPU/TPU found, falling back to CPU. (Set TF_CPP_MIN_LOG_LEVEL=0 and rerun for more info.)\n",
      "No GPU/TPU found, falling back to CPU. (Set TF_CPP_MIN_LOG_LEVEL=0 and rerun for more info.)\n",
      "No GPU/TPU found, falling back to CPU. (Set TF_CPP_MIN_LOG_LEVEL=0 and rerun for more info.)\n",
      "No GPU/TPU found, falling back to CPU. (Set TF_CPP_MIN_LOG_LEVEL=0 and rerun for more info.)\n",
      "No GPU/TPU found, falling back to CPU. (Set TF_CPP_MIN_LOG_LEVEL=0 and rerun for more info.)\n",
      "No GPU/TPU found, falling back to CPU. (Set TF_CPP_MIN_LOG_LEVEL=0 and rerun for more info.)\n",
      "No GPU/TPU found, falling back to CPU. (Set TF_CPP_MIN_LOG_LEVEL=0 and rerun for more info.)\n",
      "No GPU/TPU found, falling back to CPU. (Set TF_CPP_MIN_LOG_LEVEL=0 and rerun for more info.)\n",
      "No GPU/TPU found, falling back to CPU. (Set TF_CPP_MIN_LOG_LEVEL=0 and rerun for more info.)\n",
      "No GPU/TPU found, falling back to CPU. (Set TF_CPP_MIN_LOG_LEVEL=0 and rerun for more info.)\n",
      "No GPU/TPU found, falling back to CPU. (Set TF_CPP_MIN_LOG_LEVEL=0 and rerun for more info.)\n",
      "No GPU/TPU found, falling back to CPU. (Set TF_CPP_MIN_LOG_LEVEL=0 and rerun for more info.)\n",
      "No GPU/TPU found, falling back to CPU. (Set TF_CPP_MIN_LOG_LEVEL=0 and rerun for more info.)\n",
      "No GPU/TPU found, falling back to CPU. (Set TF_CPP_MIN_LOG_LEVEL=0 and rerun for more info.)\n",
      "No GPU/TPU found, falling back to CPU. (Set TF_CPP_MIN_LOG_LEVEL=0 and rerun for more info.)\n",
      "No GPU/TPU found, falling back to CPU. (Set TF_CPP_MIN_LOG_LEVEL=0 and rerun for more info.)\n",
      "No GPU/TPU found, falling back to CPU. (Set TF_CPP_MIN_LOG_LEVEL=0 and rerun for more info.)\n",
      "No GPU/TPU found, falling back to CPU. (Set TF_CPP_MIN_LOG_LEVEL=0 and rerun for more info.)\n",
      "No GPU/TPU found, falling back to CPU. (Set TF_CPP_MIN_LOG_LEVEL=0 and rerun for more info.)\n",
      "No GPU/TPU found, falling back to CPU. (Set TF_CPP_MIN_LOG_LEVEL=0 and rerun for more info.)\n",
      "No GPU/TPU found, falling back to CPU. (Set TF_CPP_MIN_LOG_LEVEL=0 and rerun for more info.)\n",
      "No GPU/TPU found, falling back to CPU. (Set TF_CPP_MIN_LOG_LEVEL=0 and rerun for more info.)\n",
      "[Parallel(n_jobs=-1)]: Done   4 out of  28 | elapsed:    9.9s remaining:   59.6s\n",
      "[Parallel(n_jobs=-1)]: Done   7 out of  28 | elapsed:   10.5s remaining:   31.4s\n",
      "[Parallel(n_jobs=-1)]: Done  10 out of  28 | elapsed:   10.5s remaining:   19.0s\n",
      "[Parallel(n_jobs=-1)]: Done  13 out of  28 | elapsed:   10.8s remaining:   12.5s\n",
      "[Parallel(n_jobs=-1)]: Done  16 out of  28 | elapsed:   11.1s remaining:    8.3s\n",
      "[Parallel(n_jobs=-1)]: Done  19 out of  28 | elapsed:   11.5s remaining:    5.4s\n",
      "[Parallel(n_jobs=-1)]: Done  22 out of  28 | elapsed:   11.7s remaining:    3.2s\n",
      "[Parallel(n_jobs=-1)]: Done  25 out of  28 | elapsed:   11.8s remaining:    1.4s\n",
      "[Parallel(n_jobs=-1)]: Done  28 out of  28 | elapsed:   12.4s remaining:    0.0s\n",
      "[Parallel(n_jobs=-1)]: Done  28 out of  28 | elapsed:   12.4s finished\n"
     ]
    }
   ],
   "source": [
    "ppc = {}\n",
    "correlation = {}\n",
    "shuffle_correlation = {}\n",
    "preprocs = {}\n",
    "\n",
    "for (name, dct) in tqdm(feature_combinations.items()):\n",
    "\n",
    "    x_preproc = preprocessing.StandardScaler()\n",
    "    y_preproc = preprocessing.StandardScaler()\n",
    "\n",
    "    preprocs[name] = {}\n",
    "    preprocs[name][\"x\"] = x_preproc\n",
    "    preprocs[name][\"y\"] = y_preproc\n",
    "\n",
    "    feature_df = r_df.copy()\n",
    "\n",
    "    x_cols = dct[\"x\"]\n",
    "    y_col = dct[\"y\"]\n",
    "\n",
    "    feature_df[x_cols] = x_preproc.fit_transform(feature_df[x_cols])\n",
    "    feature_df[y_col] = y_preproc.fit_transform(feature_df[[y_col]])\n",
    "\n",
    "    with warnings.catch_warnings():\n",
    "        warnings.simplefilter(action=\"ignore\", category=FutureWarning)\n",
    "        mcmc.run(\n",
    "            rng_key_,\n",
    "            feature_df[x_cols].values,\n",
    "            feature_df[y_col].values.ravel(),\n",
    "        )\n",
    "\n",
    "    full_samples = mcmc.get_samples()\n",
    "    predictive = Predictive(use_model, full_samples)\n",
    "    ppc[name] = predictive(rng_key_, xvals, None)\n",
    "\n",
    "    obs_observed = []\n",
    "    delays = []\n",
    "    for train_idx, test_idx in splits.split(feature_df):\n",
    "        train_x, train_y = (\n",
    "            feature_df.iloc[train_idx][x_cols],\n",
    "            feature_df.iloc[train_idx][y_col],\n",
    "        )\n",
    "        test_x, test_y = (\n",
    "            feature_df.iloc[test_idx][x_cols],\n",
    "            feature_df.iloc[test_idx][y_col],\n",
    "        )\n",
    "\n",
    "        delays.append(\n",
    "            delayed(run_inference_and_ppc)(\n",
    "                train_x.values,\n",
    "                train_y.values,\n",
    "                test_x.values,\n",
    "                None,\n",
    "                None,\n",
    "                use_model,\n",
    "                rng_key=rng_key_,\n",
    "                ncpus=1,\n",
    "                standardize=False,\n",
    "                mcmc_kwargs={\"num_warmup\": 1000, \"num_samples\": 2000},\n",
    "            )\n",
    "        )\n",
    "        obs_observed.append(test_y.values)\n",
    "\n",
    "    obs_observed = np.concatenate(obs_observed)\n",
    "    results = Parallel(verbose=10, n_jobs=-1)(delays)\n",
    "\n",
    "    # get predictions--average MCMC samples\n",
    "    all_y = [(_[1][\"y\"]).mean(axis=0) for _ in results]\n",
    "    all_y = np.concatenate(all_y)\n",
    "    correlation[name] = pearsonr(all_y, obs_observed)[0]\n",
    "    shuffle_correlation[name] = [\n",
    "        pearsonr(all_y, obs_observed[np.random.permutation(len(obs_observed))])[0]\n",
    "        for _ in range(nshuffles)\n",
    "    ]"
   ]
  },
  {
   "cell_type": "code",
   "execution_count": 84,
   "metadata": {},
   "outputs": [],
   "source": [
    "setup_plotting_env()"
   ]
  },
  {
   "cell_type": "code",
   "execution_count": 85,
   "metadata": {},
   "outputs": [],
   "source": [
    "aliases = {\n",
    "    \"reinforcement_index_per_syllable_z\": \"DA-usage\",\n",
    "    \"entropy_index_per_syllable_z\": \"DA-entropy\",\n",
    "    \"learning_z\": \"Opto-DA learning (z)\",\n",
    "    \"log2_fold_change_count_z\": \"Opto-DA learning\\n(ave. rank)\",\n",
    "}"
   ]
  },
  {
   "cell_type": "code",
   "execution_count": 86,
   "metadata": {},
   "outputs": [],
   "source": [
    "alpha = 0.68\n",
    "hi_cutoff = 1 - (1 - alpha) / 2\n",
    "lo_cutoff = (1 - alpha) / 2"
   ]
  },
  {
   "cell_type": "code",
   "execution_count": 87,
   "metadata": {},
   "outputs": [],
   "source": [
    "color = sns.color_palette()[0]"
   ]
  },
  {
   "cell_type": "code",
   "execution_count": 88,
   "metadata": {},
   "outputs": [
    {
     "data": {
      "image/png": "[encoded data removed]",
      "text/plain": [
       "<Figure size 360x700 with 6 Axes>"
      ]
     },
     "metadata": {},
     "output_type": "display_data"
    }
   ],
   "source": [
    "fig, ax = plt.subplots(\n",
    "    len(ppc.keys()),\n",
    "    2,\n",
    "    figsize=(1.8, 3.5),\n",
    "    gridspec_kw={\"width_ratios\": [2] * len(x_cols) + [1]},\n",
    "    sharex=False,\n",
    "    sharey=False,\n",
    ")\n",
    "\n",
    "for rax, (combo_name, _ppc) in zip(ax, ppc.items()):\n",
    "\n",
    "    feature_df = r_df.copy()\n",
    "    _invert_y = preprocs[combo_name][\"y\"].inverse_transform\n",
    "    _invert_x = preprocs[combo_name][\"x\"].inverse_transform\n",
    "\n",
    "    lo_ci = np.quantile(ppc[combo_name][\"y\"], lo_cutoff, axis=0)\n",
    "    hi_ci = np.quantile(ppc[combo_name][\"y\"], hi_cutoff, axis=0)\n",
    "    mu = np.quantile(ppc[combo_name][\"y\"], 0.5, axis=0)\n",
    "\n",
    "    lo_ci = _invert_y(lo_ci[:, None]).ravel()\n",
    "    hi_ci = _invert_y(hi_ci[:, None]).ravel()\n",
    "    mu = _invert_y(mu[:, None]).ravel()\n",
    "\n",
    "    shuffle_bins = np.linspace(-1, 1, 25)\n",
    "    pval = (correlation[combo_name] < shuffle_correlation[combo_name]).mean()\n",
    "    _feature = feature_combinations[combo_name][\"x\"][0]\n",
    "    _y = feature_combinations[combo_name][\"y\"]\n",
    "\n",
    "    sns.scatterplot(\n",
    "        data=feature_df,\n",
    "        x=_feature,\n",
    "        y=_y,\n",
    "        ax=rax[0],\n",
    "        s=13,\n",
    "        alpha=0.45,\n",
    "    )\n",
    "\n",
    "    use_xvals = _invert_x(xvals).ravel()\n",
    "    rax[0].fill_between(use_xvals, lo_ci, hi_ci, zorder=+200, alpha=0.25, color=color)\n",
    "    rax[0].plot(use_xvals, mu, zorder=+250, alpha=1, color=color, lw=1.5)\n",
    "    rax[0].set_xlabel(aliases.get(_feature))\n",
    "    rax[0].set_ylabel(aliases.get(_y))\n",
    "    rax[0].set_title(f\"r={correlation[combo_name]:0.2f}, p={format_pval(pval)[0]}\")\n",
    "\n",
    "    clean_ticks(\n",
    "        rax[0], \"x\", zero_symmetry=False, include_zero=False, precision=1, dtype=float\n",
    "    )\n",
    "    clean_ticks(\n",
    "        rax[0], \"y\", zero_symmetry=False, include_zero=False, precision=1, dtype=float\n",
    "    )\n",
    "\n",
    "    sns.histplot(\n",
    "        shuffle_correlation[combo_name],\n",
    "        ax=rax[1],\n",
    "        bins=shuffle_bins,\n",
    "        color=[0.4, 0.4, 0.4],\n",
    "        element=\"step\",\n",
    "        fill=True,\n",
    "        ec=None,\n",
    "        lw=0,\n",
    "    )\n",
    "    rax[1].axvline(x=correlation[combo_name], color=\"r\")\n",
    "    rax[1].set_ylim(0, 300)\n",
    "    rax[1].set_xlim(-0.5, 1)\n",
    "    rax[1].set_ylabel(\"n(shuffles)\", labelpad=-5)\n",
    "    clean_ticks(rax[1], \"x\", zero_symmetry=False, precision=1)\n",
    "    clean_ticks(rax[1], \"y\", zero_symmetry=False, precision=-2, dtype=int)\n",
    "\n",
    "sns.despine()\n",
    "fig.tight_layout()\n",
    "savefig(\n",
    "    fig,\n",
    "    os.path.join(figure_cfg[\"store_dir\"], \"differential_analysis_model_yintercepts\"),\n",
    ")"
   ]
  },
  {
   "cell_type": "code",
   "execution_count": 89,
   "metadata": {},
   "outputs": [],
   "source": [
    "dcts = {}\n",
    "for combo_name in ppc.keys():\n",
    "    pval = (correlation[combo_name] < shuffle_correlation[combo_name]).mean()\n",
    "    corr = correlation[combo_name]\n",
    "    n = len(feature_df)\n",
    "    dcts[combo_name] = {\n",
    "        \"r\": corr,\n",
    "        \"p\": pval,\n",
    "        \"n\": n,\n",
    "        \"n_definition\": \"per-mouse average\",\n",
    "    }"
   ]
  },
  {
   "cell_type": "code",
   "execution_count": 90,
   "metadata": {},
   "outputs": [],
   "source": [
    "with open(\n",
    "    os.path.join(proc_dirs[\"dlight\"], \"reinforcement_index_stats.toml\"), \"w\"\n",
    ") as f:\n",
    "    toml.dump(dcts, f)"
   ]
  },
  {
   "cell_type": "code",
   "execution_count": 91,
   "metadata": {},
   "outputs": [
    {
     "data": {
      "text/plain": [
       "{'entropy_learning': {'r': 0.4161909295114367,\n",
       "  'p': 0.001,\n",
       "  'n': 8,\n",
       "  'n_definition': 'per-mouse average'},\n",
       " 'reinforcement_learning': {'r': 0.5200681566206953,\n",
       "  'p': 0.0,\n",
       "  'n': 8,\n",
       "  'n_definition': 'per-mouse average'},\n",
       " 'reinforcement_entropy': {'r': 0.8018345533823431,\n",
       "  'p': 0.0,\n",
       "  'n': 8,\n",
       "  'n_definition': 'per-mouse average'}}"
      ]
     },
     "execution_count": 91,
     "metadata": {},
     "output_type": "execute_result"
    }
   ],
   "source": [
    "dcts"
   ]
  },
  {
   "cell_type": "code",
   "execution_count": 92,
   "metadata": {},
   "outputs": [
    {
     "data": {
      "image/png": "[encoded data removed]",
      "text/plain": [
       "<Figure size 300x200 with 2 Axes>"
      ]
     },
     "metadata": {},
     "output_type": "display_data"
    }
   ],
   "source": [
    "g = sns.displot(\n",
    "    r_df.melt(),\n",
    "    x=\"value\",\n",
    "    col=\"variable\",\n",
    "    col_order=[\"reinforcement_index_per_syllable_z\", \"entropy_index_per_syllable_z\"],\n",
    "    kind=\"kde\",\n",
    "    height=2,\n",
    "    fill=True,\n",
    "    aspect=0.5,\n",
    "    rug=True,\n",
    "    facet_kws={\"sharex\": False, \"sharey\": False},\n",
    "    rug_kws={\"height\": 0.1},\n",
    ")\n",
    "g.set_titles(row_template=\"{row_name}\", col_template=\"{col_name}\")\n",
    "g.set_axis_labels(\"Value (z)\", \"Density\")\n",
    "g.axes.flat[0].set_xlim(-1, 1.5)\n",
    "g.axes.flat[1].set_xlim(-2, 5)\n",
    "g.fig.set_size_inches(1.5, 1)\n",
    "for _ax in g.axes.flat:\n",
    "    _ax.set_xlabel(aliases.get(_ax.get_title()))\n",
    "    _ax.set_title(\"\")\n",
    "    clean_ticks(_ax, \"x\", zero_symmetry=False, precision=1, dtype=float)\n",
    "    _ax.set_ylim([0, _ax.get_ylim()[1]])\n",
    "    clean_ticks(_ax, \"y\", zero_symmetry=False, precision=2)\n",
    "savefig(\n",
    "    g.fig,\n",
    "    os.path.join(\n",
    "        figure_cfg[\"store_dir\"], \"differential_analysis_intercept_distributions\"\n",
    "    ),\n",
    ")"
   ]
  },
  {
   "cell_type": "markdown",
   "metadata": {},
   "source": [
    "# Check if reinforcement index breaks down by syllable or syllable class"
   ]
  },
  {
   "cell_type": "code",
   "execution_count": 93,
   "metadata": {},
   "outputs": [],
   "source": [
    "per_syllable_reinforcement_index_average = reinforcement_index_per_syllable_z.rename(\n",
    "    \"reinforcement_index_per_syllable\"\n",
    ").reset_index()\n",
    "per_syllable_reinforcement_index_average[\n",
    "    \"class\"\n",
    "] = per_syllable_reinforcement_index_average[\"syllable\"].map(syllable_map)"
   ]
  },
  {
   "cell_type": "code",
   "execution_count": 94,
   "metadata": {},
   "outputs": [],
   "source": [
    "per_syllable_reinforcement_index_average = per_syllable_reinforcement_index_average.loc[per_syllable_reinforcement_index_average[\"syllable\"].isin(sorted_syllables[: syllable_stats[\"truncate\"]])]"
   ]
  },
  {
   "cell_type": "code",
   "execution_count": 95,
   "metadata": {},
   "outputs": [
    {
     "data": {
      "image/png": "[encoded data removed]",
      "text/plain": [
       "<Figure size 220x160 with 1 Axes>"
      ]
     },
     "metadata": {},
     "output_type": "display_data"
    }
   ],
   "source": [
    "fig, ax = plt.subplots(1, figsize=(1.1, 0.8))\n",
    "sns.kdeplot(\n",
    "    data=per_syllable_reinforcement_index_average[\"reinforcement_index_per_syllable\"],\n",
    "    fill=True,\n",
    "    ax=ax,\n",
    "    legend=False,\n",
    ")\n",
    "ax.set_xlabel(\"DA-usage\")\n",
    "ax.set_xlim(-0.5, 2)\n",
    "sns.despine()\n",
    "clean_ticks(ax, \"x\", dtype=int, precision=0)\n",
    "clean_ticks(ax, \"y\", precision=1)\n",
    "savefig(\n",
    "    fig,\n",
    "    os.path.join(\n",
    "        figure_cfg[\"store_dir\"], \"differential_analysis_da-usage_distribution\"\n",
    "    ),\n",
    ")"
   ]
  },
  {
   "cell_type": "code",
   "execution_count": 96,
   "metadata": {},
   "outputs": [
    {
     "data": {
      "image/png": "[encoded data removed]",
      "text/plain": [
       "<Figure size 150x200 with 1 Axes>"
      ]
     },
     "metadata": {},
     "output_type": "display_data"
    }
   ],
   "source": [
    "fig, ax = plt.subplots(1, figsize=(0.75, 1))\n",
    "sns.boxplot(\n",
    "    data=per_syllable_reinforcement_index_average,\n",
    "    x=\"class\",\n",
    "    y=\"reinforcement_index_per_syllable\",\n",
    "    showfliers=False,\n",
    "    showcaps=False,\n",
    "    color=\"g\",\n",
    ")\n",
    "plt.xlabel(\"\")\n",
    "plt.ylabel(\"DA-usage\\n(z-scored per mouse)\")\n",
    "clean_ticks(ax, \"y\", precision=0, dtype=int, zero_symmetry=False)\n",
    "ax.tick_params(\"x\", rotation=45)\n",
    "sns.despine(offset=5)\n",
    "savefig(\n",
    "    fig,\n",
    "    os.path.join(\n",
    "        figure_cfg[\"store_dir\"],\n",
    "        \"differential_analysis_da-usage_distribution_syllabletype\",\n",
    "    ),\n",
    ")"
   ]
  },
  {
   "cell_type": "code",
   "execution_count": 97,
   "metadata": {},
   "outputs": [
    {
     "name": "stderr",
     "output_type": "stream",
     "text": [
      "/tmp/ipykernel_1389598/3219241849.py:3: FutureWarning: Not prepending group keys to the result index of transform-like apply. In the future, the group keys will be included in the index, regardless of whether the applied function returns a like-indexed object.\n",
      "To preserve the previous behavior, use\n",
      "\n",
      "\t>>> .groupby(..., group_keys=False)\n",
      "\n",
      "To adopt the future behavior and silence this warning, use \n",
      "\n",
      "\t>>> .groupby(..., group_keys=True)\n",
      "  .apply(zscore)\n"
     ]
    }
   ],
   "source": [
    "per_syllable_entropy_index_average = (\n",
    "    entropy_index_per_syllable_z.groupby(\"mouse_id\")\n",
    "    .apply(zscore)\n",
    "    .rename(\"entropy_index_per_syllable\")\n",
    "    .reset_index()\n",
    ")\n",
    "per_syllable_entropy_index_average[\"class\"] = per_syllable_entropy_index_average[\n",
    "    \"syllable\"\n",
    "].map(syllable_map)"
   ]
  },
  {
   "cell_type": "code",
   "execution_count": 98,
   "metadata": {},
   "outputs": [],
   "source": [
    "learning_per_syllable[\"class\"] = learning_per_syllable.index.get_level_values(\n",
    "    \"target_syllable\"\n",
    ").map(syllable_map)"
   ]
  },
  {
   "cell_type": "code",
   "execution_count": 99,
   "metadata": {},
   "outputs": [],
   "source": [
    "da_per_mouse_and_syllable = dlight_and_scalar_df.groupby([\"syllable\", \"mouse_id\"])[\n",
    "    \"signal_reref_dff_z_max_(0.0, 0.3)\"\n",
    "].mean()\n"
   ]
  },
  {
   "cell_type": "code",
   "execution_count": 100,
   "metadata": {},
   "outputs": [
    {
     "name": "stderr",
     "output_type": "stream",
     "text": [
      "/tmp/ipykernel_1389598/2480351543.py:4: FutureWarning: Not prepending group keys to the result index of transform-like apply. In the future, the group keys will be included in the index, regardless of whether the applied function returns a like-indexed object.\n",
      "To preserve the previous behavior, use\n",
      "\n",
      "\t>>> .groupby(..., group_keys=False)\n",
      "\n",
      "To adopt the future behavior and silence this warning, use \n",
      "\n",
      "\t>>> .groupby(..., group_keys=True)\n",
      "  .apply(lambda x: x.rank())\n",
      "/tmp/ipykernel_1389598/2480351543.py:8: FutureWarning: Not prepending group keys to the result index of transform-like apply. In the future, the group keys will be included in the index, regardless of whether the applied function returns a like-indexed object.\n",
      "To preserve the previous behavior, use\n",
      "\n",
      "\t>>> .groupby(..., group_keys=False)\n",
      "\n",
      "To adopt the future behavior and silence this warning, use \n",
      "\n",
      "\t>>> .groupby(..., group_keys=True)\n",
      "  .apply(lambda x: x.rank())\n"
     ]
    },
    {
     "data": {
      "text/html": [
       "<div>\n",
       "<style scoped>\n",
       "    .dataframe tbody tr th:only-of-type {\n",
       "        vertical-align: middle;\n",
       "    }\n",
       "\n",
       "    .dataframe tbody tr th {\n",
       "        vertical-align: top;\n",
       "    }\n",
       "\n",
       "    .dataframe thead th {\n",
       "        text-align: right;\n",
       "    }\n",
       "</style>\n",
       "<table border=\"1\" class=\"dataframe\">\n",
       "  <thead>\n",
       "    <tr style=\"text-align: right;\">\n",
       "      <th></th>\n",
       "      <th>reinforcement_index_per_syllable_z</th>\n",
       "      <th>signal_reref_dff_z_max_(0.0, 0.3)</th>\n",
       "    </tr>\n",
       "  </thead>\n",
       "  <tbody>\n",
       "    <tr>\n",
       "      <th>reinforcement_index_per_syllable_z</th>\n",
       "      <td>1.000000</td>\n",
       "      <td>-0.018657</td>\n",
       "    </tr>\n",
       "    <tr>\n",
       "      <th>signal_reref_dff_z_max_(0.0, 0.3)</th>\n",
       "      <td>-0.018657</td>\n",
       "      <td>1.000000</td>\n",
       "    </tr>\n",
       "  </tbody>\n",
       "</table>\n",
       "</div>"
      ],
      "text/plain": [
       "                                    reinforcement_index_per_syllable_z  \\\n",
       "reinforcement_index_per_syllable_z                            1.000000   \n",
       "signal_reref_dff_z_max_(0.0, 0.3)                            -0.018657   \n",
       "\n",
       "                                    signal_reref_dff_z_max_(0.0, 0.3)  \n",
       "reinforcement_index_per_syllable_z                          -0.018657  \n",
       "signal_reref_dff_z_max_(0.0, 0.3)                            1.000000  "
      ]
     },
     "execution_count": 100,
     "metadata": {},
     "output_type": "execute_result"
    }
   ],
   "source": [
    "pd.concat(\n",
    "    [\n",
    "        reinforcement_index_per_syllable_z.groupby(\"mouse_id\")\n",
    "        .apply(lambda x: x.rank())\n",
    "        .groupby(\"syllable\")\n",
    "        .mean(),\n",
    "        da_per_mouse_and_syllable.groupby(\"mouse_id\")\n",
    "        .apply(lambda x: x.rank())\n",
    "        .groupby(\"syllable\")\n",
    "        .mean(),\n",
    "    ],\n",
    "    axis=1,\n",
    ").corr()"
   ]
  },
  {
   "cell_type": "code",
   "execution_count": 101,
   "metadata": {},
   "outputs": [
    {
     "data": {
      "application/vnd.jupyter.widget-view+json": {
       "model_id": "c8253150e76440e8ad566b44221f3d39",
       "version_major": 2,
       "version_minor": 0
      },
      "text/plain": [
       "  0%|          | 0/1102 [00:00<?, ?it/s]"
      ]
     },
     "metadata": {},
     "output_type": "display_data"
    }
   ],
   "source": [
    "totals = tm_df_rows.groupby([\"syllable\", \"mouse_id\"]).sum()\n",
    "totals_sz = totals.apply(lambda x: x.sum())\n",
    "ents_per_mouse_and_syllable = totals.progress_apply(\n",
    "    lambda x: dm_entropy(\n",
    "        x[: syllable_stats[\"truncate\"]],\n",
    "        alpha=1.0 / syllable_stats[\"truncate\"],\n",
    "        marginalize=False,\n",
    "        axis=None,\n",
    "    )\n",
    ").rename(\"entropy_out_per_syllable_and_mouse\")"
   ]
  },
  {
   "cell_type": "code",
   "execution_count": 102,
   "metadata": {},
   "outputs": [
    {
     "data": {
      "application/vnd.jupyter.widget-view+json": {
       "model_id": "46efc828d33b4a8f8d8c5e3bd178da2c",
       "version_major": 2,
       "version_minor": 0
      },
      "text/plain": [
       "  0%|          | 0/58 [00:00<?, ?it/s]"
      ]
     },
     "metadata": {},
     "output_type": "display_data"
    }
   ],
   "source": [
    "totals = tm_df_rows.groupby([\"syllable\"]).sum()\n",
    "ents_per_syllable = totals.progress_apply(\n",
    "    lambda x: dm_entropy(\n",
    "        x[: syllable_stats[\"truncate\"]],\n",
    "        alpha=1.0 / syllable_stats[\"truncate\"],\n",
    "        marginalize=False,\n",
    "        axis=None,\n",
    "    )\n",
    ").rename(\"entropy_out_per_syllable\")"
   ]
  },
  {
   "cell_type": "code",
   "execution_count": 103,
   "metadata": {},
   "outputs": [],
   "source": [
    "include_scalars = [\n",
    "    \"velocity_2d_mm_mean\",\n",
    "    \"velocity_angle_mean\",\n",
    "    \"velocity_height_mean\",\n",
    "]"
   ]
  },
  {
   "cell_type": "code",
   "execution_count": 104,
   "metadata": {},
   "outputs": [
    {
     "name": "stderr",
     "output_type": "stream",
     "text": [
      "/tmp/ipykernel_1389598/208371430.py:7: FutureWarning: The default value of numeric_only in DataFrameGroupBy.mean is deprecated. In a future version, numeric_only will default to False. Either specify numeric_only or select only columns which should be valid for the function.\n",
      "  learning_per_syllable.groupby([\"mouse_id\", \"syllable\"]).mean(),\n",
      "/tmp/ipykernel_1389598/208371430.py:51: FutureWarning: Not prepending group keys to the result index of transform-like apply. In the future, the group keys will be included in the index, regardless of whether the applied function returns a like-indexed object.\n",
      "To preserve the previous behavior, use\n",
      "\n",
      "\t>>> .groupby(..., group_keys=False)\n",
      "\n",
      "To adopt the future behavior and silence this warning, use \n",
      "\n",
      "\t>>> .groupby(..., group_keys=True)\n",
      "  .apply(zscore)\n",
      "/tmp/ipykernel_1389598/208371430.py:56: FutureWarning: Not prepending group keys to the result index of transform-like apply. In the future, the group keys will be included in the index, regardless of whether the applied function returns a like-indexed object.\n",
      "To preserve the previous behavior, use\n",
      "\n",
      "\t>>> .groupby(..., group_keys=False)\n",
      "\n",
      "To adopt the future behavior and silence this warning, use \n",
      "\n",
      "\t>>> .groupby(..., group_keys=True)\n",
      "  .apply(zscore)\n",
      "/tmp/ipykernel_1389598/208371430.py:62: FutureWarning: Not prepending group keys to the result index of transform-like apply. In the future, the group keys will be included in the index, regardless of whether the applied function returns a like-indexed object.\n",
      "To preserve the previous behavior, use\n",
      "\n",
      "\t>>> .groupby(..., group_keys=False)\n",
      "\n",
      "To adopt the future behavior and silence this warning, use \n",
      "\n",
      "\t>>> .groupby(..., group_keys=True)\n",
      "  .apply(zscore)\n",
      "/tmp/ipykernel_1389598/208371430.py:68: FutureWarning: Not prepending group keys to the result index of transform-like apply. In the future, the group keys will be included in the index, regardless of whether the applied function returns a like-indexed object.\n",
      "To preserve the previous behavior, use\n",
      "\n",
      "\t>>> .groupby(..., group_keys=False)\n",
      "\n",
      "To adopt the future behavior and silence this warning, use \n",
      "\n",
      "\t>>> .groupby(..., group_keys=True)\n",
      "  .apply(zscore)\n"
     ]
    }
   ],
   "source": [
    "full_df = (\n",
    "    pd.concat(\n",
    "        [\n",
    "            dlight_and_scalar_df.groupby([\"mouse_id\", \"syllable\"])[\n",
    "                include_scalars\n",
    "            ].mean(),\n",
    "            learning_per_syllable.groupby([\"mouse_id\", \"syllable\"]).mean(),\n",
    "            da_stats_df.reset_index()\n",
    "            .rename(columns={\"target_syllable\": \"syllable\"})\n",
    "            .groupby([\"mouse_id\", \"syllable\"])\n",
    "            .mean()\n",
    "            .filter(regex=\"catch|stim|dlight\"),\n",
    "        ],\n",
    "        axis=1,\n",
    "    )\n",
    "    .join(ents_per_mouse_and_syllable)\n",
    "    .join(\n",
    "        ents_per_mouse_and_syllable.loc[targets]\n",
    "        .groupby(\"mouse_id\")\n",
    "        .transform(zscore)\n",
    "        .rename(\"entropy_out_per_syllable_and_mouse_mousez\")\n",
    "    )\n",
    "    .join(\n",
    "        ents_per_mouse_and_syllable.groupby(\"syllable\")\n",
    "        .transform(zscore)\n",
    "        .rename(\"entropy_out_per_syllable_and_mouse_syllz\")\n",
    "    )\n",
    "    .join(ents_per_syllable)\n",
    "    .join(\n",
    "        reinforcement_index_per_syllable_z.groupby(\"syllable\")\n",
    "        .mean()\n",
    "        .rename(\"reinforcement_index_per_syllable\")\n",
    "    )\n",
    "    .join(\n",
    "        reinforcement_index_per_syllable_z.groupby(\"mouse_id\")\n",
    "        .mean()\n",
    "        .rename(\"reinforcement_index_per_mouse\")\n",
    "    )\n",
    "    .join(\n",
    "        reinforcement_index_per_syllable_z.rename(\n",
    "            \"reinforcement_index_per_syllable_and_mouse\"\n",
    "        )\n",
    "    )\n",
    "    .join(entropy_index_per_syllable_z.rename(\"entropy_index_per_syllable_and_mouse\"))\n",
    "    .join(\n",
    "        reinforcement_index_per_syllable_z.groupby(\"mouse_id\")\n",
    "        .apply(zscore)\n",
    "        .rename(\"reinforcement_index_per_syllable_and_mouse_mousez\")\n",
    "    )\n",
    "    .join(\n",
    "        reinforcement_index_per_syllable_z.groupby(\"syllable\")\n",
    "        .apply(zscore)\n",
    "        .rename(\"reinforcement_index_per_syllable_and_mouse_syllz\")\n",
    "    )\n",
    "    .join(\n",
    "        entropy_index_per_syllable_z.dropna()\n",
    "        .groupby(\"mouse_id\")\n",
    "        .apply(zscore)\n",
    "        .rename(\"entropy_index_per_syllable_and_mouse_mousez\")\n",
    "    )\n",
    "    .join(\n",
    "        entropy_index_per_syllable_z.dropna()\n",
    "        .groupby(\"syllable\")\n",
    "        .apply(zscore)\n",
    "        .rename(\"entropy_index_per_syllable_and_mouse_syllz\")\n",
    "    )\n",
    ")"
   ]
  },
  {
   "cell_type": "code",
   "execution_count": 105,
   "metadata": {},
   "outputs": [],
   "source": [
    "full_df = full_df.loc[full_df.index.get_level_values(\"mouse_id\").isin(mouse_list)]\n",
    "full_df = full_df.loc[full_df.index.get_level_values(\"syllable\").isin(targets)]"
   ]
  },
  {
   "cell_type": "code",
   "execution_count": 106,
   "metadata": {},
   "outputs": [],
   "source": [
    "full_df[\"syllable_alias\"] = full_df.index.get_level_values(\"syllable\").map(\n",
    "    syllable_aliases\n",
    ")"
   ]
  },
  {
   "cell_type": "markdown",
   "metadata": {},
   "source": [
    "## Get some features and let's show correlations with each"
   ]
  },
  {
   "cell_type": "code",
   "execution_count": 109,
   "metadata": {},
   "outputs": [],
   "source": [
    "nshuffles = 1000"
   ]
  },
  {
   "cell_type": "code",
   "execution_count": 110,
   "metadata": {},
   "outputs": [],
   "source": [
    "whiten_data = False"
   ]
  },
  {
   "cell_type": "code",
   "execution_count": 111,
   "metadata": {},
   "outputs": [],
   "source": [
    "feature_df = full_df.copy()"
   ]
  },
  {
   "cell_type": "code",
   "execution_count": 112,
   "metadata": {},
   "outputs": [],
   "source": [
    "feature_aliases = {\n",
    "    \"catch dlight (0-0.3s)\": \"catch DA\",\n",
    "    \"dlight (0-0.6s)\": \"stim DA\",\n",
    "    \"reinforcement_index_per_syllable_and_mouse_mousez\": \"DA-usage sens. (syll.)\",\n",
    "    \"reinforcement_index_per_syllable_and_mouse_syllz\": \"DA-usage sens. (mouse)\",\n",
    "    \"entropy_index_per_syllable_and_mouse_mousez\": \"DA-entropy sens. (syll.)\",\n",
    "    \"entropy_index_per_syllable_and_mouse_syllz\": \"DA-entropy sens. (mouse)\",\n",
    "    \"entropy_out_per_syllable_and_mouse_mousez\": \"entropy (syll.)\",\n",
    "    \"entropy_out_per_syllable_and_mouse_syllz\": \"entropy (mouse)\",\n",
    "    \"log2_fold_change_count_z\": \"opto-DA learning (z)\",\n",
    "}"
   ]
  },
  {
   "cell_type": "code",
   "execution_count": 113,
   "metadata": {},
   "outputs": [],
   "source": [
    "show_features = [\n",
    "    \"catch dlight (0-0.3s)\",\n",
    "    \"dlight (0-0.6s)\",\n",
    "]\n",
    "learning_feature = \"log2_fold_change_count_z\""
   ]
  },
  {
   "cell_type": "code",
   "execution_count": 114,
   "metadata": {},
   "outputs": [],
   "source": [
    "if whiten_data:\n",
    "    feature_df[show_features] = whiten(feature_df[show_features].values)[0]\n",
    "    # feature_df[[y_col, \"n_stim_bin\"]] = whiten(feature_df[[y_col, \"n_stim_bin\"]].values)[0]"
   ]
  },
  {
   "cell_type": "code",
   "execution_count": 115,
   "metadata": {},
   "outputs": [],
   "source": [
    "clf = pipeline.Pipeline(\n",
    "    steps=[\n",
    "        (\"scalar\", preprocessing.StandardScaler()),\n",
    "        (\"clf\", linear_model.HuberRegressor(fit_intercept=False)),\n",
    "    ]\n",
    ")\n",
    "splits = model_selection.RepeatedKFold(n_repeats=5, n_splits=5, random_state=0)\n",
    "\n",
    "y_preproc = preprocessing.StandardScaler()\n",
    "feature_df[\"learning_z\"] = y_preproc.fit_transform(\n",
    "    feature_df[learning_feature].values.reshape(-1, 1)\n",
    ")"
   ]
  },
  {
   "cell_type": "code",
   "execution_count": 116,
   "metadata": {},
   "outputs": [],
   "source": [
    "from collections import defaultdict"
   ]
  },
  {
   "cell_type": "code",
   "execution_count": 117,
   "metadata": {},
   "outputs": [
    {
     "data": {
      "application/vnd.jupyter.widget-view+json": {
       "model_id": "6c8cf0094e28402098ab9a3e7124f670",
       "version_major": 2,
       "version_minor": 0
      },
      "text/plain": [
       "  0%|          | 0/2 [00:00<?, ?it/s]"
      ]
     },
     "metadata": {},
     "output_type": "display_data"
    },
    {
     "data": {
      "application/vnd.jupyter.widget-view+json": {
       "model_id": "d768a5df9e784e5695e13bc5aecf7489",
       "version_major": 2,
       "version_minor": 0
      },
      "text/plain": [
       "  0%|          | 0/1000 [00:00<?, ?it/s]"
      ]
     },
     "metadata": {},
     "output_type": "display_data"
    },
    {
     "data": {
      "application/vnd.jupyter.widget-view+json": {
       "model_id": "e42974bcf1894d4bb0a846a728d4b717",
       "version_major": 2,
       "version_minor": 0
      },
      "text/plain": [
       "  0%|          | 0/1000 [00:00<?, ?it/s]"
      ]
     },
     "metadata": {},
     "output_type": "display_data"
    }
   ],
   "source": [
    "predictions = defaultdict(list)\n",
    "observations = defaultdict(list)\n",
    "plot_predictions = defaultdict(list)\n",
    "shuffle_rs = defaultdict(list)\n",
    "plot_xvals = {}\n",
    "y_col = \"log2_fold_change_count_z\"\n",
    "for _feature in tqdm(show_features):\n",
    "    plot_xvals[_feature] = np.linspace(\n",
    "        feature_df[_feature].min(), feature_df[_feature].max(), 100\n",
    "    )\n",
    "    for train_idx, test_idx in splits.split(feature_df):\n",
    "        train_x, train_y = (\n",
    "            feature_df.iloc[train_idx][_feature],\n",
    "            feature_df.iloc[train_idx][y_col],\n",
    "        )\n",
    "        test_x, test_y = (\n",
    "            feature_df.iloc[test_idx][_feature],\n",
    "            feature_df.iloc[test_idx][y_col],\n",
    "        )\n",
    "        clf.fit(train_x.values[:, None], train_y.values)\n",
    "        predictions[_feature].append(clf.predict(test_x.values[:, None]))\n",
    "        observations[_feature].append(test_y.values)\n",
    "        plot_predictions[_feature].append(\n",
    "            clf.predict(plot_xvals[_feature].reshape(-1, 1))\n",
    "        )\n",
    "\n",
    "    for _shuffle in tqdm(range(nshuffles)):\n",
    "        _predictions = []\n",
    "        _observations = []\n",
    "        for train_idx, test_idx in splits.split(feature_df):\n",
    "            train_x, train_y = (\n",
    "                feature_df.iloc[train_idx][_feature],\n",
    "                feature_df.iloc[train_idx][y_col],\n",
    "            )\n",
    "            test_x, test_y = (\n",
    "                feature_df.iloc[test_idx][_feature],\n",
    "                feature_df.iloc[test_idx][y_col],\n",
    "            )\n",
    "            test_x = test_x.iloc[np.random.permutation(len(test_x))]\n",
    "            clf.fit(train_x.values[:, None], train_y.values)\n",
    "            _predictions.append(clf.predict(test_x.values[:, None]))\n",
    "            _observations.append(test_y.values)\n",
    "\n",
    "        _tmp_observations = np.concatenate(_observations)\n",
    "        _tmp_predictions = np.concatenate(_predictions)\n",
    "        shuffle_rs[_feature].append(pearsonr(_tmp_observations, _tmp_predictions)[0])"
   ]
  },
  {
   "cell_type": "markdown",
   "metadata": {},
   "source": [
    "## Individual feature plots – scatter and regression"
   ]
  },
  {
   "cell_type": "code",
   "execution_count": 118,
   "metadata": {},
   "outputs": [],
   "source": [
    "_tmp = clf.steps[0][1]"
   ]
  },
  {
   "cell_type": "code",
   "execution_count": 119,
   "metadata": {},
   "outputs": [],
   "source": [
    "setup_plotting_env()"
   ]
  },
  {
   "cell_type": "code",
   "execution_count": 120,
   "metadata": {},
   "outputs": [],
   "source": [
    "point_color = sns.color_palette(\"bright\")[0]\n",
    "line_color = sns.color_palette(\"bright\")[1]"
   ]
  },
  {
   "cell_type": "code",
   "execution_count": 121,
   "metadata": {},
   "outputs": [],
   "source": [
    "def get_z(x, y, bw_adjust=1):\n",
    "    from scipy.stats import gaussian_kde\n",
    "\n",
    "    xy = np.vstack([x, y])\n",
    "    kernel = gaussian_kde(xy)\n",
    "    kernel.set_bandwidth(kernel.scotts_factor() * bw_adjust)\n",
    "    z = kernel(xy)\n",
    "    return z"
   ]
  },
  {
   "cell_type": "code",
   "execution_count": 122,
   "metadata": {},
   "outputs": [
    {
     "data": {
      "text/plain": [
       "'log2_fold_change_count_z'"
      ]
     },
     "execution_count": 122,
     "metadata": {},
     "output_type": "execute_result"
    }
   ],
   "source": [
    "learning_feature"
   ]
  },
  {
   "cell_type": "code",
   "execution_count": 123,
   "metadata": {},
   "outputs": [
    {
     "name": "stderr",
     "output_type": "stream",
     "text": [
      "/tmp/ipykernel_1389598/1745570348.py:35: UserWarning: No data for colormapping provided via 'c'. Parameters 'cmap' will be ignored\n",
      "  rax[0].scatter(\n",
      "/tmp/ipykernel_1389598/1745570348.py:35: UserWarning: No data for colormapping provided via 'c'. Parameters 'cmap' will be ignored\n",
      "  rax[0].scatter(\n"
     ]
    },
    {
     "data": {
      "image/png": "[encoded data removed]",
      "text/plain": [
       "<Figure size 400x600 with 4 Axes>"
      ]
     },
     "metadata": {},
     "output_type": "display_data"
    }
   ],
   "source": [
    "fig, ax = plt.subplots(\n",
    "    len(show_features),\n",
    "    2,\n",
    "    figsize=(2, 1.5 * len(show_features)),\n",
    "    sharex=\"col\",\n",
    "    sharey=\"col\",\n",
    "    constrained_layout=True,\n",
    "    gridspec_kw={\"width_ratios\": [2, 1]},\n",
    ")\n",
    "# ax = ax.ravel()\n",
    "for _feature, rax in zip(show_features, ax):\n",
    "\n",
    "    lo_ci = np.quantile(np.stack(plot_predictions[_feature]), 0.025, axis=0)\n",
    "    hi_ci = np.quantile(np.stack(plot_predictions[_feature]), 0.975, axis=0)\n",
    "    mu = np.quantile(np.stack(plot_predictions[_feature]), 0.5, axis=0)\n",
    "\n",
    "    lo_ci = y_preproc.inverse_transform(lo_ci.reshape(-1, 1)).ravel()\n",
    "    hi_ci = y_preproc.inverse_transform(hi_ci.reshape(-1, 1)).ravel()\n",
    "    mu = y_preproc.inverse_transform(mu.reshape(-1, 1)).ravel()\n",
    "\n",
    "    shuffle_bins = np.linspace(-1, 1, 45)\n",
    "    obs_r = pearsonr(\n",
    "        np.concatenate(predictions[_feature]), np.concatenate(observations[_feature])\n",
    "    )[0]\n",
    "    pval = (obs_r < shuffle_rs[_feature]).mean()\n",
    "    use_xvals = _tmp.fit_transform(plot_xvals[_feature][:, None]).ravel()\n",
    "\n",
    "    x = _tmp.fit_transform(feature_df[_feature].values[:, None]).ravel()\n",
    "    y = feature_df[learning_feature].values\n",
    "\n",
    "    z = get_z(x, y, 1.0)\n",
    "    z /= z.max()\n",
    "\n",
    "    # rax[0].scatter(x, y, color=\"k\", s=5, cmap=\"inferno_r\", alpha=np.clip(z, 0, 1), rasterized=False, clip_on=True)\n",
    "    rax[0].scatter(\n",
    "        x, y, c=\"k\", alpha=0.4, s=5, cmap=\"inferno_r\", rasterized=False, clip_on=True\n",
    "    )\n",
    "    rax[0].fill_between(\n",
    "        use_xvals, lo_ci, hi_ci, color=line_color, zorder=+200, alpha=0.6\n",
    "    )\n",
    "    rax[0].plot(use_xvals, mu, zorder=+250, alpha=1, color=line_color, lw=1)\n",
    "    rax[0].set_title(\n",
    "        f\"{feature_aliases.get(_feature)}\\nr={obs_r:.02f}, {format_pval(pval)[0]}\",\n",
    "        fontsize=5,\n",
    "    )\n",
    "    rax[0].set_xlim(-4, 4)\n",
    "    rax[0].set_ylim(-4, 4)\n",
    "\n",
    "    sns.histplot(\n",
    "        shuffle_rs[_feature],\n",
    "        ax=rax[1],\n",
    "        bins=shuffle_bins,\n",
    "        color=[0.4, 0.4, 0.4],\n",
    "        element=\"step\",\n",
    "        fill=True,\n",
    "        ec=None,\n",
    "        lw=0,\n",
    "    )\n",
    "    rax[1].set_xlim(-0.2, 0.5)\n",
    "    rax[1].axvline(x=obs_r, color=\"r\")\n",
    "    rax[1].set_ylim(0, 300)\n",
    "    rax[1].set_ylabel(\"n(shuffles)\", labelpad=-5)\n",
    "    clean_ticks(rax[1], \"x\", zero_symmetry=False, precision=1)\n",
    "    clean_ticks(rax[1], \"y\", zero_symmetry=False, precision=-2, dtype=int)\n",
    "\n",
    "clean_ticks(rax[0], \"x\", precision=0, dtype=int)\n",
    "clean_ticks(rax[0], \"y\", precision=0, dtype=int)\n",
    "fig.supylabel(feature_aliases.get(learning_feature), fontsize=7)\n",
    "fig.supxlabel(\"Feature (z)\", fontsize=7)\n",
    "savefig(\n",
    "    fig,\n",
    "    os.path.join(\n",
    "        figure_cfg[\"store_dir\"], \"differential_analysis_feature_correlation_scatter\"\n",
    "    ),\n",
    ")\n",
    "# fig.tight_layout()"
   ]
  },
  {
   "cell_type": "code",
   "execution_count": 124,
   "metadata": {},
   "outputs": [],
   "source": [
    "dcts = {}\n",
    "for _feature in show_features:\n",
    "    obs_r = pearsonr(\n",
    "        np.concatenate(predictions[_feature]), np.concatenate(observations[_feature])\n",
    "    )[0]\n",
    "    pval = (obs_r < shuffle_rs[_feature]).mean()\n",
    "    n = len(np.concatenate(predictions[_feature]))\n",
    "    dcts[_feature] = {\n",
    "        \"r\": obs_r,\n",
    "        \"p\": pval,\n",
    "        \"n\": n,\n",
    "        \"n_definition\": \"per-mouse/syllable pairs\",\n",
    "    }"
   ]
  },
  {
   "cell_type": "code",
   "execution_count": 125,
   "metadata": {},
   "outputs": [],
   "source": [
    "with open(\n",
    "    os.path.join(\n",
    "        proc_dirs[\"dlight\"], \"reinforcement_index_stats_individual_feature_models.toml\"\n",
    "    ),\n",
    "    \"w\",\n",
    ") as f:\n",
    "    toml.dump(dcts, f)"
   ]
  },
  {
   "cell_type": "code",
   "execution_count": 126,
   "metadata": {},
   "outputs": [],
   "source": [
    "mouse_list = [_ for _ in mouse_list if \"chrimson\" in _]"
   ]
  },
  {
   "cell_type": "code",
   "execution_count": null,
   "metadata": {},
   "outputs": [],
   "source": []
  },
  {
   "cell_type": "code",
   "execution_count": null,
   "metadata": {},
   "outputs": [],
   "source": []
  },
  {
   "cell_type": "code",
   "execution_count": null,
   "metadata": {},
   "outputs": [],
   "source": []
  },
  {
   "cell_type": "code",
   "execution_count": null,
   "metadata": {},
   "outputs": [],
   "source": []
  }
 ],
 "metadata": {
  "kernelspec": {
   "display_name": "Python [conda env:spont-da]",
   "language": "python",
   "name": "conda-env-spont-da-py"
  },
  "language_info": {
   "codemirror_mode": {
    "name": "ipython",
    "version": 3
   },
   "file_extension": ".py",
   "mimetype": "text/x-python",
   "name": "python",
   "nbconvert_exporter": "python",
   "pygments_lexer": "ipython3",
   "version": "3.10.8"
  },
  "widgets": {
   "application/vnd.jupyter.widget-state+json": {
    "state": {
     "015bf6f85aa04633a7dda0daff5612bd": {
      "model_module": "@jupyter-widgets/controls",
      "model_module_version": "1.5.0",
      "model_name": "ProgressStyleModel",
      "state": {
       "description_width": "initial"
      }
     },
     "0188fa3b32884bd58c54d1a0dcfd94c6": {
      "model_module": "@jupyter-widgets/controls",
      "model_module_version": "1.5.0",
      "model_name": "HBoxModel",
      "state": {
       "children": [
        "IPY_MODEL_e454c6c2890c4084acc85983dce47fc4",
        "IPY_MODEL_9cbd5d01284748c49f2a5bfe4ae97d31"
       ],
       "layout": "IPY_MODEL_74ffb9908c62431bb196de0795f6645a"
      }
     },
     "026a1bcdae5346699365e48aa6cace58": {
      "model_module": "@jupyter-widgets/controls",
      "model_module_version": "1.5.0",
      "model_name": "HBoxModel",
      "state": {
       "children": [
        "IPY_MODEL_45956762fdd24175b0bd279598057b39",
        "IPY_MODEL_bb4fd7b1f691458b81bf0e582f236f4f"
       ],
       "layout": "IPY_MODEL_6d0eb327a9884d028714d4f9f799cc9c"
      }
     },
     "05cd2d8f5b15457fbeb14dda0bfc2e46": {
      "model_module": "@jupyter-widgets/base",
      "model_module_version": "1.2.0",
      "model_name": "LayoutModel",
      "state": {}
     },
     "0b132e4db48a4409bd54ed95b919c314": {
      "model_module": "@jupyter-widgets/base",
      "model_module_version": "1.2.0",
      "model_name": "LayoutModel",
      "state": {}
     },
     "0e4df3dad9214540af92b992cd72eeea": {
      "model_module": "@jupyter-widgets/controls",
      "model_module_version": "1.5.0",
      "model_name": "DescriptionStyleModel",
      "state": {
       "description_width": ""
      }
     },
     "116a29c654a74edf82fb4dd362d55764": {
      "model_module": "@jupyter-widgets/controls",
      "model_module_version": "1.5.0",
      "model_name": "DescriptionStyleModel",
      "state": {
       "description_width": ""
      }
     },
     "1628a141025c4f8aadb39d8ecfb72d73": {
      "model_module": "@jupyter-widgets/base",
      "model_module_version": "1.2.0",
      "model_name": "LayoutModel",
      "state": {}
     },
     "1d5cb71772c0454fa805233742191477": {
      "model_module": "@jupyter-widgets/base",
      "model_module_version": "1.2.0",
      "model_name": "LayoutModel",
      "state": {}
     },
     "1fd56e9ad55a4f1499e43591c86fcc66": {
      "model_module": "@jupyter-widgets/controls",
      "model_module_version": "1.5.0",
      "model_name": "HBoxModel",
      "state": {
       "children": [
        "IPY_MODEL_31d89422cbd44fe99dd87f02d05710f8",
        "IPY_MODEL_b1b0f0d12602417e9f2576ec69a9ce43"
       ],
       "layout": "IPY_MODEL_b0c404ba9e534008a062bc1df73e00e2"
      }
     },
     "28a919f2abbc48fcaf8b76eed040e97f": {
      "model_module": "@jupyter-widgets/controls",
      "model_module_version": "1.5.0",
      "model_name": "FloatProgressModel",
      "state": {
       "bar_style": "success",
       "description": "100%",
       "layout": "IPY_MODEL_930f1462cb034ad8baf8752382ec8eab",
       "max": 54404,
       "style": "IPY_MODEL_015bf6f85aa04633a7dda0daff5612bd",
       "value": 54404
      }
     },
     "2a05def7df604aefb1063c42a442a9cc": {
      "model_module": "@jupyter-widgets/controls",
      "model_module_version": "1.5.0",
      "model_name": "HTMLModel",
      "state": {
       "layout": "IPY_MODEL_6d904ec8d96a4c6c8e816d5d6a4b7222",
       "style": "IPY_MODEL_116a29c654a74edf82fb4dd362d55764",
       "value": " 1080/1080 [01:05&lt;00:00, 16.42it/s]"
      }
     },
     "2d52003cf5e64a319d8b3f8395672374": {
      "model_module": "@jupyter-widgets/controls",
      "model_module_version": "1.5.0",
      "model_name": "FloatProgressModel",
      "state": {
       "bar_style": "success",
       "description": "100%",
       "layout": "IPY_MODEL_5398069d757043e0b218cd9540132242",
       "max": 54404,
       "style": "IPY_MODEL_ea85ab1c5e99411c8b72c69f140fcf63",
       "value": 54404
      }
     },
     "30ecdd1e161145f3b0cea2da2b5ed087": {
      "model_module": "@jupyter-widgets/controls",
      "model_module_version": "1.5.0",
      "model_name": "DescriptionStyleModel",
      "state": {
       "description_width": ""
      }
     },
     "3111470fa018471d94ccda8b2b65e951": {
      "model_module": "@jupyter-widgets/controls",
      "model_module_version": "1.5.0",
      "model_name": "HBoxModel",
      "state": {
       "children": [
        "IPY_MODEL_b88c6de73384477abb6afd2e93eed85d",
        "IPY_MODEL_89a07ff193214c5d9374f03786bd1c98"
       ],
       "layout": "IPY_MODEL_dfcfb5b728e64d50938fb47cda7c18dd"
      }
     },
     "3181571a0f5d4473b487a05a5b0d229e": {
      "model_module": "@jupyter-widgets/controls",
      "model_module_version": "1.5.0",
      "model_name": "HBoxModel",
      "state": {
       "children": [
        "IPY_MODEL_2d52003cf5e64a319d8b3f8395672374",
        "IPY_MODEL_f766ce281f2b439c9f477a1fd9375542"
       ],
       "layout": "IPY_MODEL_3b2d57676262459690f598d5808383eb"
      }
     },
     "31d89422cbd44fe99dd87f02d05710f8": {
      "model_module": "@jupyter-widgets/controls",
      "model_module_version": "1.5.0",
      "model_name": "FloatProgressModel",
      "state": {
       "bar_style": "success",
       "description": "100%",
       "layout": "IPY_MODEL_d92bf18225aa4456be58160b521f607f",
       "max": 54404,
       "style": "IPY_MODEL_601bdf1dea7f4c58b70d501d27d161b2",
       "value": 54404
      }
     },
     "339b4b8e25d94e36bf24c329900ca9dd": {
      "model_module": "@jupyter-widgets/controls",
      "model_module_version": "1.5.0",
      "model_name": "HBoxModel",
      "state": {
       "children": [
        "IPY_MODEL_f201d480ab45492894affaa7dacc71e6",
        "IPY_MODEL_2a05def7df604aefb1063c42a442a9cc"
       ],
       "layout": "IPY_MODEL_cf2e01f46e4648719127f85aa3cc9857"
      }
     },
     "3509b38326ff44d9880d3c56978a67b1": {
      "model_module": "@jupyter-widgets/controls",
      "model_module_version": "1.5.0",
      "model_name": "ProgressStyleModel",
      "state": {
       "description_width": "initial"
      }
     },
     "366d29ede43645aba4c8946cd9553dca": {
      "model_module": "@jupyter-widgets/base",
      "model_module_version": "1.2.0",
      "model_name": "LayoutModel",
      "state": {}
     },
     "3b2d57676262459690f598d5808383eb": {
      "model_module": "@jupyter-widgets/base",
      "model_module_version": "1.2.0",
      "model_name": "LayoutModel",
      "state": {}
     },
     "3c845b383ebb400a8870b7723735df43": {
      "model_module": "@jupyter-widgets/controls",
      "model_module_version": "1.5.0",
      "model_name": "FloatProgressModel",
      "state": {
       "bar_style": "success",
       "description": "100%",
       "layout": "IPY_MODEL_1628a141025c4f8aadb39d8ecfb72d73",
       "max": 1080,
       "style": "IPY_MODEL_3509b38326ff44d9880d3c56978a67b1",
       "value": 1080
      }
     },
     "401964b01792439f923bfad8b3a96923": {
      "model_module": "@jupyter-widgets/controls",
      "model_module_version": "1.5.0",
      "model_name": "ProgressStyleModel",
      "state": {
       "description_width": "initial"
      }
     },
     "45956762fdd24175b0bd279598057b39": {
      "model_module": "@jupyter-widgets/controls",
      "model_module_version": "1.5.0",
      "model_name": "FloatProgressModel",
      "state": {
       "bar_style": "success",
       "description": "100%",
       "layout": "IPY_MODEL_1d5cb71772c0454fa805233742191477",
       "max": 54404,
       "style": "IPY_MODEL_8ef6d764628f4e64b399545ab6527759",
       "value": 54404
      }
     },
     "4b0431f5fd4d4122b15c6a719d4cbe2a": {
      "model_module": "@jupyter-widgets/controls",
      "model_module_version": "1.5.0",
      "model_name": "DescriptionStyleModel",
      "state": {
       "description_width": ""
      }
     },
     "4e5cc1bc2777405dbd8829fce162fca1": {
      "model_module": "@jupyter-widgets/controls",
      "model_module_version": "1.5.0",
      "model_name": "HTMLModel",
      "state": {
       "layout": "IPY_MODEL_5c89955369cb4da2b1b4cceaf9ce2ccb",
       "style": "IPY_MODEL_c654f16f8c2143b7a45125b4b8b6f7b6",
       "value": " 1080/1080 [00:12&lt;00:00, 88.77it/s]"
      }
     },
     "5398069d757043e0b218cd9540132242": {
      "model_module": "@jupyter-widgets/base",
      "model_module_version": "1.2.0",
      "model_name": "LayoutModel",
      "state": {}
     },
     "56f1fdaa4d0a45ef903bdd0c2934fa96": {
      "model_module": "@jupyter-widgets/base",
      "model_module_version": "1.2.0",
      "model_name": "LayoutModel",
      "state": {}
     },
     "5c89955369cb4da2b1b4cceaf9ce2ccb": {
      "model_module": "@jupyter-widgets/base",
      "model_module_version": "1.2.0",
      "model_name": "LayoutModel",
      "state": {}
     },
     "601bdf1dea7f4c58b70d501d27d161b2": {
      "model_module": "@jupyter-widgets/controls",
      "model_module_version": "1.5.0",
      "model_name": "ProgressStyleModel",
      "state": {
       "description_width": "initial"
      }
     },
     "606d96232d354b0fa8b740c7ea160fb8": {
      "model_module": "@jupyter-widgets/base",
      "model_module_version": "1.2.0",
      "model_name": "LayoutModel",
      "state": {}
     },
     "67c2f837fd494a209cd1149005350c08": {
      "model_module": "@jupyter-widgets/base",
      "model_module_version": "1.2.0",
      "model_name": "LayoutModel",
      "state": {}
     },
     "6ae9d298b1944e37ac0ac7760c4454bd": {
      "model_module": "@jupyter-widgets/base",
      "model_module_version": "1.2.0",
      "model_name": "LayoutModel",
      "state": {}
     },
     "6d0eb327a9884d028714d4f9f799cc9c": {
      "model_module": "@jupyter-widgets/base",
      "model_module_version": "1.2.0",
      "model_name": "LayoutModel",
      "state": {}
     },
     "6d904ec8d96a4c6c8e816d5d6a4b7222": {
      "model_module": "@jupyter-widgets/base",
      "model_module_version": "1.2.0",
      "model_name": "LayoutModel",
      "state": {}
     },
     "6f00736114674d6fa4235fab7ea66987": {
      "model_module": "@jupyter-widgets/controls",
      "model_module_version": "1.5.0",
      "model_name": "HTMLModel",
      "state": {
       "layout": "IPY_MODEL_0b132e4db48a4409bd54ed95b919c314",
       "style": "IPY_MODEL_f2d2ce28af8445e6b6997326e9585282",
       "value": " 54404/54404 [01:12&lt;00:00, 747.23it/s]"
      }
     },
     "72865a63c24b4e6c957091bd4f17ff36": {
      "model_module": "@jupyter-widgets/controls",
      "model_module_version": "1.5.0",
      "model_name": "FloatProgressModel",
      "state": {
       "bar_style": "success",
       "description": "100%",
       "layout": "IPY_MODEL_dd953a20354a43cd92f2e445d5394dbf",
       "max": 1080,
       "style": "IPY_MODEL_b757ed952a9d486fa7a37bc574536832",
       "value": 1080
      }
     },
     "72e679171ac746b08570af95b76fd259": {
      "model_module": "@jupyter-widgets/controls",
      "model_module_version": "1.5.0",
      "model_name": "HBoxModel",
      "state": {
       "children": [
        "IPY_MODEL_72865a63c24b4e6c957091bd4f17ff36",
        "IPY_MODEL_9fb7a3e3bddb4a6e8575c0f84be76682"
       ],
       "layout": "IPY_MODEL_bb8945d47283432184c4bb9ec975abfc"
      }
     },
     "736c15b2871647a2a556f64f4277a4d4": {
      "model_module": "@jupyter-widgets/base",
      "model_module_version": "1.2.0",
      "model_name": "LayoutModel",
      "state": {}
     },
     "74ffb9908c62431bb196de0795f6645a": {
      "model_module": "@jupyter-widgets/base",
      "model_module_version": "1.2.0",
      "model_name": "LayoutModel",
      "state": {}
     },
     "78e8e4b82eaf466bafdd8e7d39b1010c": {
      "model_module": "@jupyter-widgets/base",
      "model_module_version": "1.2.0",
      "model_name": "LayoutModel",
      "state": {}
     },
     "89a07ff193214c5d9374f03786bd1c98": {
      "model_module": "@jupyter-widgets/controls",
      "model_module_version": "1.5.0",
      "model_name": "HTMLModel",
      "state": {
       "layout": "IPY_MODEL_e267c04e84be44409271ece8c0e4c19a",
       "style": "IPY_MODEL_0e4df3dad9214540af92b992cd72eeea",
       "value": " 54404/54404 [01:19&lt;00:00, 687.67it/s]"
      }
     },
     "8ab41df5d90d45fbbb292d7d052e94c2": {
      "model_module": "@jupyter-widgets/controls",
      "model_module_version": "1.5.0",
      "model_name": "FloatProgressModel",
      "state": {
       "bar_style": "success",
       "description": "100%",
       "layout": "IPY_MODEL_ac8002e8ac0d43f5984985f22a70f7b4",
       "max": 54404,
       "style": "IPY_MODEL_e213006180a442b2af5d8284633ddfef",
       "value": 54404
      }
     },
     "8ef6d764628f4e64b399545ab6527759": {
      "model_module": "@jupyter-widgets/controls",
      "model_module_version": "1.5.0",
      "model_name": "ProgressStyleModel",
      "state": {
       "description_width": "initial"
      }
     },
     "930f1462cb034ad8baf8752382ec8eab": {
      "model_module": "@jupyter-widgets/base",
      "model_module_version": "1.2.0",
      "model_name": "LayoutModel",
      "state": {}
     },
     "9cbd5d01284748c49f2a5bfe4ae97d31": {
      "model_module": "@jupyter-widgets/controls",
      "model_module_version": "1.5.0",
      "model_name": "HTMLModel",
      "state": {
       "layout": "IPY_MODEL_56f1fdaa4d0a45ef903bdd0c2934fa96",
       "style": "IPY_MODEL_f74323266cd5439e8889fca892c515cd",
       "value": " 1080/1080 [00:53&lt;00:00, 20.12it/s]"
      }
     },
     "9f19ffec020c4fd6ad815eac4ad621f1": {
      "model_module": "@jupyter-widgets/controls",
      "model_module_version": "1.5.0",
      "model_name": "HTMLModel",
      "state": {
       "layout": "IPY_MODEL_6ae9d298b1944e37ac0ac7760c4454bd",
       "style": "IPY_MODEL_e614c7eaf1a04d999c8d84c258c24a91",
       "value": " 54404/54404 [01:13&lt;00:00, 736.24it/s]"
      }
     },
     "9fb7a3e3bddb4a6e8575c0f84be76682": {
      "model_module": "@jupyter-widgets/controls",
      "model_module_version": "1.5.0",
      "model_name": "HTMLModel",
      "state": {
       "layout": "IPY_MODEL_af95d8679dfc4241a5595af6b78fb191",
       "style": "IPY_MODEL_cacd6c27bf0140d29288188068ba36c8",
       "value": " 1080/1080 [00:41&lt;00:00, 25.99it/s]"
      }
     },
     "a8d5cb51111245dc852cf6d82ec65af3": {
      "model_module": "@jupyter-widgets/controls",
      "model_module_version": "1.5.0",
      "model_name": "ProgressStyleModel",
      "state": {
       "description_width": "initial"
      }
     },
     "a9aac78aa4e1403a88722f19bbaf3736": {
      "model_module": "@jupyter-widgets/base",
      "model_module_version": "1.2.0",
      "model_name": "LayoutModel",
      "state": {}
     },
     "aa038197b9ea48078ee208b4866cc9b2": {
      "model_module": "@jupyter-widgets/base",
      "model_module_version": "1.2.0",
      "model_name": "LayoutModel",
      "state": {}
     },
     "ac8002e8ac0d43f5984985f22a70f7b4": {
      "model_module": "@jupyter-widgets/base",
      "model_module_version": "1.2.0",
      "model_name": "LayoutModel",
      "state": {}
     },
     "ae719a9e1d1144b88977c2ca24524149": {
      "model_module": "@jupyter-widgets/base",
      "model_module_version": "1.2.0",
      "model_name": "LayoutModel",
      "state": {}
     },
     "af95d8679dfc4241a5595af6b78fb191": {
      "model_module": "@jupyter-widgets/base",
      "model_module_version": "1.2.0",
      "model_name": "LayoutModel",
      "state": {}
     },
     "b0c404ba9e534008a062bc1df73e00e2": {
      "model_module": "@jupyter-widgets/base",
      "model_module_version": "1.2.0",
      "model_name": "LayoutModel",
      "state": {}
     },
     "b1b0f0d12602417e9f2576ec69a9ce43": {
      "model_module": "@jupyter-widgets/controls",
      "model_module_version": "1.5.0",
      "model_name": "HTMLModel",
      "state": {
       "layout": "IPY_MODEL_a9aac78aa4e1403a88722f19bbaf3736",
       "style": "IPY_MODEL_4b0431f5fd4d4122b15c6a719d4cbe2a",
       "value": " 54404/54404 [01:13&lt;00:00, 735.43it/s]"
      }
     },
     "b757ed952a9d486fa7a37bc574536832": {
      "model_module": "@jupyter-widgets/controls",
      "model_module_version": "1.5.0",
      "model_name": "ProgressStyleModel",
      "state": {
       "description_width": "initial"
      }
     },
     "b789ad9feeb9492abd21750cbf13485d": {
      "model_module": "@jupyter-widgets/controls",
      "model_module_version": "1.5.0",
      "model_name": "HBoxModel",
      "state": {
       "children": [
        "IPY_MODEL_eae6a738366042a48364ea05b6d99522",
        "IPY_MODEL_e900bb482cdf4ca38dbf1adf057790be"
       ],
       "layout": "IPY_MODEL_78e8e4b82eaf466bafdd8e7d39b1010c"
      }
     },
     "b7f930c9c92946cd81d7d70cd4769616": {
      "model_module": "@jupyter-widgets/controls",
      "model_module_version": "1.5.0",
      "model_name": "ProgressStyleModel",
      "state": {
       "description_width": "initial"
      }
     },
     "b88c6de73384477abb6afd2e93eed85d": {
      "model_module": "@jupyter-widgets/controls",
      "model_module_version": "1.5.0",
      "model_name": "FloatProgressModel",
      "state": {
       "bar_style": "success",
       "description": "100%",
       "layout": "IPY_MODEL_736c15b2871647a2a556f64f4277a4d4",
       "max": 54404,
       "style": "IPY_MODEL_a8d5cb51111245dc852cf6d82ec65af3",
       "value": 54404
      }
     },
     "bb4fd7b1f691458b81bf0e582f236f4f": {
      "model_module": "@jupyter-widgets/controls",
      "model_module_version": "1.5.0",
      "model_name": "HTMLModel",
      "state": {
       "layout": "IPY_MODEL_c99f6e30edb44f4f8f1c2c3a09ec9a3c",
       "style": "IPY_MODEL_ca52366a77e84ba2bdfbf81ad09dd976",
       "value": " 54404/54404 [01:13&lt;00:00, 739.45it/s]"
      }
     },
     "bb8945d47283432184c4bb9ec975abfc": {
      "model_module": "@jupyter-widgets/base",
      "model_module_version": "1.2.0",
      "model_name": "LayoutModel",
      "state": {}
     },
     "c13b400ad0c04eeeb4b58492d35f1613": {
      "model_module": "@jupyter-widgets/controls",
      "model_module_version": "1.5.0",
      "model_name": "HBoxModel",
      "state": {
       "children": [
        "IPY_MODEL_3c845b383ebb400a8870b7723735df43",
        "IPY_MODEL_e1ecdd903368458c972bd552e14a2664"
       ],
       "layout": "IPY_MODEL_f336973b98114fd991c9159dea600047"
      }
     },
     "c14d02e408e64ec49cfb25d075018c82": {
      "model_module": "@jupyter-widgets/controls",
      "model_module_version": "1.5.0",
      "model_name": "DescriptionStyleModel",
      "state": {
       "description_width": ""
      }
     },
     "c1711f38c0f649ea93f0455ddcee731f": {
      "model_module": "@jupyter-widgets/controls",
      "model_module_version": "1.5.0",
      "model_name": "ProgressStyleModel",
      "state": {
       "description_width": "initial"
      }
     },
     "c654f16f8c2143b7a45125b4b8b6f7b6": {
      "model_module": "@jupyter-widgets/controls",
      "model_module_version": "1.5.0",
      "model_name": "DescriptionStyleModel",
      "state": {
       "description_width": ""
      }
     },
     "c99f6e30edb44f4f8f1c2c3a09ec9a3c": {
      "model_module": "@jupyter-widgets/base",
      "model_module_version": "1.2.0",
      "model_name": "LayoutModel",
      "state": {}
     },
     "ca52366a77e84ba2bdfbf81ad09dd976": {
      "model_module": "@jupyter-widgets/controls",
      "model_module_version": "1.5.0",
      "model_name": "DescriptionStyleModel",
      "state": {
       "description_width": ""
      }
     },
     "cacd6c27bf0140d29288188068ba36c8": {
      "model_module": "@jupyter-widgets/controls",
      "model_module_version": "1.5.0",
      "model_name": "DescriptionStyleModel",
      "state": {
       "description_width": ""
      }
     },
     "cf2e01f46e4648719127f85aa3cc9857": {
      "model_module": "@jupyter-widgets/base",
      "model_module_version": "1.2.0",
      "model_name": "LayoutModel",
      "state": {}
     },
     "d433ec3ab57445959373132679e4a7de": {
      "model_module": "@jupyter-widgets/base",
      "model_module_version": "1.2.0",
      "model_name": "LayoutModel",
      "state": {}
     },
     "d4c925fe864448f3b3b6b1c829021618": {
      "model_module": "@jupyter-widgets/controls",
      "model_module_version": "1.5.0",
      "model_name": "ProgressStyleModel",
      "state": {
       "description_width": "initial"
      }
     },
     "d92bf18225aa4456be58160b521f607f": {
      "model_module": "@jupyter-widgets/base",
      "model_module_version": "1.2.0",
      "model_name": "LayoutModel",
      "state": {}
     },
     "dd953a20354a43cd92f2e445d5394dbf": {
      "model_module": "@jupyter-widgets/base",
      "model_module_version": "1.2.0",
      "model_name": "LayoutModel",
      "state": {}
     },
     "dfcfb5b728e64d50938fb47cda7c18dd": {
      "model_module": "@jupyter-widgets/base",
      "model_module_version": "1.2.0",
      "model_name": "LayoutModel",
      "state": {}
     },
     "e1ecdd903368458c972bd552e14a2664": {
      "model_module": "@jupyter-widgets/controls",
      "model_module_version": "1.5.0",
      "model_name": "HTMLModel",
      "state": {
       "layout": "IPY_MODEL_e7fa4dffcfe9416582dd66c2fc9b9785",
       "style": "IPY_MODEL_e783ed588e524b9abf889f85634e96d5",
       "value": " 1080/1080 [03:31&lt;00:00,  5.10it/s]"
      }
     },
     "e213006180a442b2af5d8284633ddfef": {
      "model_module": "@jupyter-widgets/controls",
      "model_module_version": "1.5.0",
      "model_name": "ProgressStyleModel",
      "state": {
       "description_width": "initial"
      }
     },
     "e267c04e84be44409271ece8c0e4c19a": {
      "model_module": "@jupyter-widgets/base",
      "model_module_version": "1.2.0",
      "model_name": "LayoutModel",
      "state": {}
     },
     "e454c6c2890c4084acc85983dce47fc4": {
      "model_module": "@jupyter-widgets/controls",
      "model_module_version": "1.5.0",
      "model_name": "FloatProgressModel",
      "state": {
       "bar_style": "success",
       "description": "100%",
       "layout": "IPY_MODEL_366d29ede43645aba4c8946cd9553dca",
       "max": 1080,
       "style": "IPY_MODEL_c1711f38c0f649ea93f0455ddcee731f",
       "value": 1080
      }
     },
     "e614c7eaf1a04d999c8d84c258c24a91": {
      "model_module": "@jupyter-widgets/controls",
      "model_module_version": "1.5.0",
      "model_name": "DescriptionStyleModel",
      "state": {
       "description_width": ""
      }
     },
     "e783ed588e524b9abf889f85634e96d5": {
      "model_module": "@jupyter-widgets/controls",
      "model_module_version": "1.5.0",
      "model_name": "DescriptionStyleModel",
      "state": {
       "description_width": ""
      }
     },
     "e7fa4dffcfe9416582dd66c2fc9b9785": {
      "model_module": "@jupyter-widgets/base",
      "model_module_version": "1.2.0",
      "model_name": "LayoutModel",
      "state": {}
     },
     "e900bb482cdf4ca38dbf1adf057790be": {
      "model_module": "@jupyter-widgets/controls",
      "model_module_version": "1.5.0",
      "model_name": "HTMLModel",
      "state": {
       "layout": "IPY_MODEL_67c2f837fd494a209cd1149005350c08",
       "style": "IPY_MODEL_c14d02e408e64ec49cfb25d075018c82",
       "value": " 54404/54404 [01:14&lt;00:00, 726.27it/s]"
      }
     },
     "ea85ab1c5e99411c8b72c69f140fcf63": {
      "model_module": "@jupyter-widgets/controls",
      "model_module_version": "1.5.0",
      "model_name": "ProgressStyleModel",
      "state": {
       "description_width": "initial"
      }
     },
     "eaae4616cb964353ae71d232acaf04a5": {
      "model_module": "@jupyter-widgets/controls",
      "model_module_version": "1.5.0",
      "model_name": "HBoxModel",
      "state": {
       "children": [
        "IPY_MODEL_8ab41df5d90d45fbbb292d7d052e94c2",
        "IPY_MODEL_6f00736114674d6fa4235fab7ea66987"
       ],
       "layout": "IPY_MODEL_ed2264d38f794ccfaa7373cf282e12e7"
      }
     },
     "eae6a738366042a48364ea05b6d99522": {
      "model_module": "@jupyter-widgets/controls",
      "model_module_version": "1.5.0",
      "model_name": "FloatProgressModel",
      "state": {
       "bar_style": "success",
       "description": "100%",
       "layout": "IPY_MODEL_05cd2d8f5b15457fbeb14dda0bfc2e46",
       "max": 54404,
       "style": "IPY_MODEL_b7f930c9c92946cd81d7d70cd4769616",
       "value": 54404
      }
     },
     "ecc71ceb48c249ca9735b32b3fae40c9": {
      "model_module": "@jupyter-widgets/controls",
      "model_module_version": "1.5.0",
      "model_name": "HBoxModel",
      "state": {
       "children": [
        "IPY_MODEL_f61bc90e20114d0c97eb08ddeb057ad6",
        "IPY_MODEL_4e5cc1bc2777405dbd8829fce162fca1"
       ],
       "layout": "IPY_MODEL_d433ec3ab57445959373132679e4a7de"
      }
     },
     "ed2264d38f794ccfaa7373cf282e12e7": {
      "model_module": "@jupyter-widgets/base",
      "model_module_version": "1.2.0",
      "model_name": "LayoutModel",
      "state": {}
     },
     "f201d480ab45492894affaa7dacc71e6": {
      "model_module": "@jupyter-widgets/controls",
      "model_module_version": "1.5.0",
      "model_name": "FloatProgressModel",
      "state": {
       "bar_style": "success",
       "description": "100%",
       "layout": "IPY_MODEL_ae719a9e1d1144b88977c2ca24524149",
       "max": 1080,
       "style": "IPY_MODEL_d4c925fe864448f3b3b6b1c829021618",
       "value": 1080
      }
     },
     "f2d2ce28af8445e6b6997326e9585282": {
      "model_module": "@jupyter-widgets/controls",
      "model_module_version": "1.5.0",
      "model_name": "DescriptionStyleModel",
      "state": {
       "description_width": ""
      }
     },
     "f336973b98114fd991c9159dea600047": {
      "model_module": "@jupyter-widgets/base",
      "model_module_version": "1.2.0",
      "model_name": "LayoutModel",
      "state": {}
     },
     "f61bc90e20114d0c97eb08ddeb057ad6": {
      "model_module": "@jupyter-widgets/controls",
      "model_module_version": "1.5.0",
      "model_name": "FloatProgressModel",
      "state": {
       "bar_style": "success",
       "description": "100%",
       "layout": "IPY_MODEL_f99856ae41ee4d53aab555edf95cb659",
       "max": 1080,
       "style": "IPY_MODEL_401964b01792439f923bfad8b3a96923",
       "value": 1080
      }
     },
     "f74323266cd5439e8889fca892c515cd": {
      "model_module": "@jupyter-widgets/controls",
      "model_module_version": "1.5.0",
      "model_name": "DescriptionStyleModel",
      "state": {
       "description_width": ""
      }
     },
     "f766ce281f2b439c9f477a1fd9375542": {
      "model_module": "@jupyter-widgets/controls",
      "model_module_version": "1.5.0",
      "model_name": "HTMLModel",
      "state": {
       "layout": "IPY_MODEL_606d96232d354b0fa8b740c7ea160fb8",
       "style": "IPY_MODEL_30ecdd1e161145f3b0cea2da2b5ed087",
       "value": " 54404/54404 [01:20&lt;00:00, 671.68it/s]"
      }
     },
     "f99856ae41ee4d53aab555edf95cb659": {
      "model_module": "@jupyter-widgets/base",
      "model_module_version": "1.2.0",
      "model_name": "LayoutModel",
      "state": {}
     },
     "f9ad36f7b07b41559ec3fa99d3a27589": {
      "model_module": "@jupyter-widgets/controls",
      "model_module_version": "1.5.0",
      "model_name": "HBoxModel",
      "state": {
       "children": [
        "IPY_MODEL_28a919f2abbc48fcaf8b76eed040e97f",
        "IPY_MODEL_9f19ffec020c4fd6ad815eac4ad621f1"
       ],
       "layout": "IPY_MODEL_aa038197b9ea48078ee208b4866cc9b2"
      }
     }
    },
    "version_major": 2,
    "version_minor": 0
   }
  }
 },
 "nbformat": 4,
 "nbformat_minor": 4
}
