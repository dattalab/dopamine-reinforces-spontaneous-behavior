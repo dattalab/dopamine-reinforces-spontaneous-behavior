{
 "cells": [
  {
   "cell_type": "code",
   "execution_count": 1,
   "metadata": {
    "scrolled": true
   },
   "outputs": [],
   "source": [
    "%load_ext autoreload\n",
    "%autoreload 2\n",
    "%matplotlib inline"
   ]
  },
  {
   "cell_type": "code",
   "execution_count": 2,
   "metadata": {},
   "outputs": [],
   "source": [
    "from tqdm.auto import tqdm\n",
    "from rl_analysis.plotting import (\n",
    "    setup_plotting_env,\n",
    "    syllable_aliases,\n",
    "    clean_ticks,\n",
    "    savefig\n",
    ")\n",
    "from rl_analysis.util import rle\n",
    "import pandas as pd\n",
    "\n",
    "import os\n",
    "import seaborn as sns\n",
    "import numpy as np\n",
    "import matplotlib.pyplot as plt"
   ]
  },
  {
   "cell_type": "code",
   "execution_count": 3,
   "metadata": {},
   "outputs": [],
   "source": [
    "import toml\n",
    "\n",
    "with open(\"../analysis_configuration.toml\", \"r\") as f:\n",
    "    analysis_config = toml.load(f)"
   ]
  },
  {
   "cell_type": "code",
   "execution_count": 4,
   "metadata": {},
   "outputs": [],
   "source": [
    "raw_dirs = analysis_config[\"raw_data\"]\n",
    "proc_dirs = analysis_config[\"intermediate_results\"]\n",
    "closed_loop_cfg = analysis_config[\"closed_loop_behavior\"]\n",
    "figure_cfg = analysis_config[\"figures\"]\n",
    "# snippet_cfg = analysis_config[\"dlight_snippet\"]"
   ]
  },
  {
   "cell_type": "markdown",
   "metadata": {
    "tags": []
   },
   "source": [
    "# Load in raw data and normalize"
   ]
  },
  {
   "cell_type": "code",
   "execution_count": 5,
   "metadata": {},
   "outputs": [],
   "source": [
    "feedback_df = pd.read_parquet(\n",
    "    os.path.join(raw_dirs[\"closed_loop_behavior\"], \"closed_loop_behavior.parquet\"),\n",
    "    filters=[\n",
    "        (\"experiment_type\", \"=\", \"reinforcement\"),\n",
    "        (\"area\", \"in\", [\"snc (axon)\", \"ctrl\"]),\n",
    "    ],\n",
    ").sort_index()"
   ]
  },
  {
   "cell_type": "code",
   "execution_count": 6,
   "metadata": {},
   "outputs": [],
   "source": [
    "feedback_df = feedback_df.loc[\n",
    "    (feedback_df[\"area\"].isin([\"snc (axon)\", \"ctrl\"]))\n",
    "    & (feedback_df[\"opsin\"].isin([\"chr2\", \"ctrl\"]))\n",
    "    & (feedback_df[\"stim_duration\"] == 0.25)\n",
    "].copy()"
   ]
  },
  {
   "cell_type": "markdown",
   "metadata": {
    "tags": []
   },
   "source": [
    "# Load in raw data and normalize"
   ]
  },
  {
   "cell_type": "code",
   "execution_count": 7,
   "metadata": {},
   "outputs": [],
   "source": [
    "rle_df = feedback_df.groupby(\"uniq_id\")[\"predicted_syllable\"].apply(rle)\n",
    "rle_df.index = rle_df.index.droplevel(0)\n",
    "rle_df = feedback_df.loc[rle_df.index]"
   ]
  },
  {
   "cell_type": "code",
   "execution_count": 8,
   "metadata": {},
   "outputs": [],
   "source": [
    "counts = rle_df[\"predicted_syllable\"].value_counts()"
   ]
  },
  {
   "cell_type": "code",
   "execution_count": 9,
   "metadata": {},
   "outputs": [],
   "source": [
    "usages = counts / counts.sum()\n",
    "usages = usages[usages.index > 0]"
   ]
  },
  {
   "cell_type": "code",
   "execution_count": 10,
   "metadata": {},
   "outputs": [],
   "source": [
    "use_syllables = usages[usages > 0.01].index.tolist()"
   ]
  },
  {
   "cell_type": "code",
   "execution_count": 11,
   "metadata": {},
   "outputs": [],
   "source": [
    "norm_df = pd.read_parquet(\n",
    "    os.path.join(\n",
    "        raw_dirs[\"closed_loop_behavior\"], \"learning_aggregate.parquet\"\n",
    "    )\n",
    ")\n",
    "dist_df = pd.read_parquet(\n",
    "    os.path.join(proc_dirs[\"closed_loop_behavior\"], \"behavioral-distance.parquet\")\n",
    ")\n",
    "dist_df.columns = dist_df.columns.astype(\"int\")"
   ]
  },
  {
   "cell_type": "code",
   "execution_count": 12,
   "metadata": {},
   "outputs": [],
   "source": [
    "norm_df = norm_df.loc[\n",
    "    (norm_df[\"opsin\"].isin([\"chr2\", \"ctrl\"]))\n",
    "    & (norm_df[\"experiment_type\"] == \"reinforcement\")\n",
    "].copy()\n",
    "norm_df = norm_df.loc[norm_df[\"area\"].isin([\"snc (axon)\", \"ctrl\"])].copy()"
   ]
  },
  {
   "cell_type": "code",
   "execution_count": 13,
   "metadata": {},
   "outputs": [],
   "source": [
    "dist_df.index.name = \"target_syllable\""
   ]
  },
  {
   "cell_type": "code",
   "execution_count": 14,
   "metadata": {},
   "outputs": [],
   "source": [
    "dist_rank_df = dist_df.apply(lambda x: x.rank(), axis=1)"
   ]
  },
  {
   "cell_type": "code",
   "execution_count": 15,
   "metadata": {},
   "outputs": [],
   "source": [
    "dist_df = dist_df.melt(\n",
    "    ignore_index=False, var_name=\"syllable\", value_name=\"dist_to_target\"\n",
    ").reset_index()\n",
    "dist_rank_df = dist_rank_df.melt(\n",
    "    ignore_index=False, var_name=\"syllable\", value_name=\"dist_rank_to_target\"\n",
    ").reset_index()"
   ]
  },
  {
   "cell_type": "code",
   "execution_count": 16,
   "metadata": {},
   "outputs": [],
   "source": [
    "norm_df = norm_df.loc[norm_df[\"syllable\"].isin(use_syllables)].copy()"
   ]
  },
  {
   "cell_type": "code",
   "execution_count": 17,
   "metadata": {},
   "outputs": [],
   "source": [
    "norm_df = pd.merge(norm_df, dist_df, on=[\"target_syllable\", \"syllable\"], how=\"left\")\n",
    "norm_df = pd.merge(\n",
    "    norm_df, dist_rank_df, on=[\"target_syllable\", \"syllable\"], how=\"left\"\n",
    ")\n",
    "use_df = norm_df.loc[\n",
    "    (norm_df[\"stim_duration\"] == 0.25) & (norm_df[\"opsin\"].isin([\"chr2\", \"ctrl\"]))\n",
    "].copy()"
   ]
  },
  {
   "cell_type": "code",
   "execution_count": 18,
   "metadata": {},
   "outputs": [],
   "source": [
    "learner_dct = toml.load(\n",
    "    os.path.join(proc_dirs[\"closed_loop_behavior\"], \"closed_loop_learners.toml\")\n",
    ")\n",
    "learners = learner_dct[\"snc (axon)\"][\"learners\"]"
   ]
  },
  {
   "cell_type": "code",
   "execution_count": 19,
   "metadata": {},
   "outputs": [],
   "source": [
    "use_df[\"learner\"] = use_df[\"mouse_id\"].isin(learners)\n",
    "use_df[\"learner\"] = use_df[\"learner\"].map({True: \"yes\", False: \"no\"})\n",
    "use_df.loc[use_df[\"area\"] == \"ctrl\", \"learner\"] = \"ctrl\""
   ]
  },
  {
   "cell_type": "code",
   "execution_count": 21,
   "metadata": {},
   "outputs": [],
   "source": [
    "use_df[\"dist_to_target_z\"] = use_df.groupby(\"target_syllable\")[\n",
    "    \"dist_to_target\"\n",
    "].transform(lambda x: (x - x.mean()) / x.std())"
   ]
  },
  {
   "cell_type": "code",
   "execution_count": 22,
   "metadata": {},
   "outputs": [],
   "source": [
    "use_df[\"dist_to_target_rank\"] = use_df.groupby(\"target_syllable\")[\n",
    "    \"dist_to_target\"\n",
    "].rank(method=\"dense\")\n",
    "use_df[\"dist_to_target_rank\"].fillna(0, inplace=True)"
   ]
  },
  {
   "cell_type": "code",
   "execution_count": 23,
   "metadata": {},
   "outputs": [
    {
     "data": {
      "text/plain": [
       "ctrl    15910\n",
       "no      14615\n",
       "yes     11988\n",
       "Name: learner, dtype: int64"
      ]
     },
     "execution_count": 23,
     "metadata": {},
     "output_type": "execute_result"
    }
   ],
   "source": [
    "use_df[\"learner\"].value_counts()"
   ]
  },
  {
   "cell_type": "code",
   "execution_count": 24,
   "metadata": {},
   "outputs": [],
   "source": [
    "use_df[\"is_target\"] = use_df[\"syllable\"] == use_df[\"target_syllable\"]\n",
    "use_df.loc[use_df[\"is_target\"], \"dist_to_target\"] = np.nan\n",
    "use_df[\"dist_bin\"] = pd.cut(use_df[\"dist_to_target\"], 10, labels=False) + 1\n",
    "use_df[\"dist_bin\"].fillna(0, inplace=True)\n",
    "ndist_bins = use_df[\"dist_bin\"].dropna().nunique()"
   ]
  },
  {
   "cell_type": "code",
   "execution_count": 27,
   "metadata": {},
   "outputs": [],
   "source": [
    "from rl_analysis.util import count_transitions\n",
    "\n",
    "tms = (\n",
    "    rle_df[~rle_df[\"session_number\"].isin([1, 2])]\n",
    "    .groupby(\"uuid\")[\"predicted_syllable\"]\n",
    "    .apply(lambda x: count_transitions(x, K=100))\n",
    ")"
   ]
  },
  {
   "cell_type": "code",
   "execution_count": 28,
   "metadata": {},
   "outputs": [],
   "source": [
    "grand_tm = np.sum(tms)"
   ]
  },
  {
   "cell_type": "code",
   "execution_count": 29,
   "metadata": {},
   "outputs": [],
   "source": [
    "eps = 1 / 2500.0\n",
    "grand_tm_out_p = (grand_tm + eps) / (grand_tm + eps).sum(axis=1, keepdims=True)\n",
    "grand_tm_in_p = (grand_tm + eps) / (grand_tm + eps).sum(axis=0, keepdims=True)"
   ]
  },
  {
   "cell_type": "code",
   "execution_count": 30,
   "metadata": {},
   "outputs": [],
   "source": [
    "from collections import defaultdict\n",
    "\n",
    "censor = defaultdict(list)\n",
    "use_df[\"censor\"] = np.nan\n",
    "\n",
    "threshold_out = np.quantile(grand_tm_out_p[list(syllable_aliases.keys())], 0.95)\n",
    "threshold_in = np.quantile(grand_tm_in_p[list(syllable_aliases.keys())], 0.95)\n",
    "\n",
    "for _target in syllable_aliases.keys():\n",
    "    censor[_target] += np.flatnonzero(grand_tm_out_p[_target] > threshold_out).tolist()\n",
    "    censor[_target] += np.flatnonzero(grand_tm_in_p[:, _target] > threshold_in).tolist()\n",
    "    use_df.loc[\n",
    "        (use_df[\"target_syllable\"] == _target)\n",
    "        & (use_df[\"syllable\"].isin(censor[_target])),\n",
    "        \"censor\",\n",
    "    ] = True"
   ]
  },
  {
   "cell_type": "code",
   "execution_count": 31,
   "metadata": {},
   "outputs": [],
   "source": [
    "use_df[\"censor\"].fillna(False, inplace=True)"
   ]
  },
  {
   "cell_type": "code",
   "execution_count": 32,
   "metadata": {},
   "outputs": [
    {
     "data": {
      "text/plain": [
       "array(['ctrl', 'snc (axon)'], dtype=object)"
      ]
     },
     "execution_count": 32,
     "metadata": {},
     "output_type": "execute_result"
    }
   ],
   "source": [
    "use_df[\"area\"].unique()"
   ]
  },
  {
   "cell_type": "code",
   "execution_count": 33,
   "metadata": {},
   "outputs": [],
   "source": [
    "change_mu = (\n",
    "    use_df.loc[use_df[\"session_number\"].isin([1, 2])]\n",
    "    .groupby(\n",
    "        [\n",
    "            \"mouse_id\",\n",
    "            \"area\",\n",
    "            \"dist_bin\",\n",
    "            \"learner\",\n",
    "            \"syllable\",\n",
    "            \"target_syllable\",\n",
    "            \"censor\",\n",
    "        ]\n",
    "    )[[\"change_count\", \"dist_to_target\", \"log2_fold_change_count\"]]\n",
    "    .sum()\n",
    "    .groupby([\"mouse_id\", \"area\", \"dist_bin\", \"learner\", \"censor\"])\n",
    "    .median()\n",
    "    #     .dropna()\n",
    ")"
   ]
  },
  {
   "cell_type": "code",
   "execution_count": 34,
   "metadata": {},
   "outputs": [],
   "source": [
    "change_mu_all = (\n",
    "    use_df.loc[use_df[\"session_number\"].isin([1, 2])]\n",
    "    .groupby(\n",
    "        [\n",
    "            \"mouse_id\",\n",
    "            \"area\",\n",
    "            \"dist_bin\",\n",
    "            \"learner\",\n",
    "            \"syllable\",\n",
    "            \"target_syllable\",\n",
    "            \"censor\",\n",
    "        ]\n",
    "    )[[\"change_count\", \"dist_to_target\", \"log2_fold_change_count\"]]\n",
    "    .sum()\n",
    "    .groupby([\"mouse_id\", \"area\", \"dist_bin\", \"learner\"])\n",
    "    .median()\n",
    "    #     .dropna()\n",
    ")"
   ]
  },
  {
   "cell_type": "code",
   "execution_count": 35,
   "metadata": {},
   "outputs": [],
   "source": [
    "setup_plotting_env()\n",
    "sns.set_context(\"paper\")"
   ]
  },
  {
   "cell_type": "code",
   "execution_count": 36,
   "metadata": {},
   "outputs": [],
   "source": [
    "setup_plotting_env()"
   ]
  },
  {
   "cell_type": "code",
   "execution_count": 37,
   "metadata": {},
   "outputs": [],
   "source": [
    "pal = sns.color_palette(\"rocket\", n_colors=ndist_bins + 1)\n",
    "pal[0] = (1, 0, 1)\n",
    "cmap = plt.matplotlib.colors.LinearSegmentedColormap.from_list(\n",
    "    \"\",\n",
    "    pal,\n",
    "    ndist_bins,\n",
    ")\n",
    "\n",
    "sm = plt.matplotlib.cm.ScalarMappable(\n",
    "    cmap=cmap, norm=plt.Normalize(vmin=-0.1, vmax=1.1)\n",
    ")\n",
    "sm.set_array([])\n",
    "# Remove the legend and add a colorbar"
   ]
  },
  {
   "cell_type": "code",
   "execution_count": 39,
   "metadata": {},
   "outputs": [],
   "source": [
    "pal = sns.color_palette(\"Greens\", n_colors=ndist_bins + 4)[2:-2]\n",
    "cmap = plt.matplotlib.colors.LinearSegmentedColormap.from_list(\n",
    "    \"\",\n",
    "    pal,\n",
    "    ndist_bins,\n",
    ")\n",
    "sm = plt.matplotlib.cm.ScalarMappable(\n",
    "    cmap=cmap, norm=plt.Normalize(vmin=-0.1, vmax=1.1)\n",
    ")\n",
    "sm.set_array([])"
   ]
  },
  {
   "cell_type": "code",
   "execution_count": 41,
   "metadata": {},
   "outputs": [
    {
     "data": {
      "image/png": "[encoded data removed]",
      "text/plain": [
       "<Figure size 280x400 with 3 Axes>"
      ]
     },
     "metadata": {},
     "output_type": "display_data"
    }
   ],
   "source": [
    "fig, ax = plt.subplots(2, 1, figsize=(1.4, 2), sharex=True, sharey=True)\n",
    "\n",
    "sns.boxplot(\n",
    "    data=change_mu_all.xs((\"ctrl\"), level=(\"learner\")).reset_index(),\n",
    "    ax=ax[1],\n",
    "    x=\"dist_bin\",\n",
    "    y=\"change_count\",\n",
    "    hue=\"dist_bin\",\n",
    "    showfliers=False,\n",
    "    showcaps=False,\n",
    "    palette=pal,\n",
    "    dodge=False,\n",
    ")\n",
    "sns.boxplot(\n",
    "    data=change_mu.xs(\n",
    "        (\"yes\", \"snc (axon)\", False), level=(\"learner\", \"area\", \"censor\")\n",
    "    ).reset_index(),\n",
    "    ax=ax[0],\n",
    "    x=\"dist_bin\",\n",
    "    y=\"change_count\",\n",
    "    hue=\"dist_bin\",\n",
    "    showfliers=False,\n",
    "    showcaps=False,\n",
    "    palette=pal,\n",
    "    dodge=False,\n",
    ")\n",
    "\n",
    "for _ax in ax:\n",
    "    _ax.legend().remove()\n",
    "    _ax.axhline(y=0, color=plt.rcParams[\"axes.edgecolor\"], zorder=-200)\n",
    "    _ax.set_xlabel(\"\")\n",
    "    _ax.set_xticks([])\n",
    "    _ax.set_ylabel(\"\")\n",
    "\n",
    "sns.despine(offset=5)\n",
    "clean_ticks(ax[0], \"y\", precision=-1, dtype=int, zero_symmetry=False)\n",
    "fig.supylabel(\"Counts above baseline\")\n",
    "fig.tight_layout()\n",
    "\n",
    "cb = fig.colorbar(\n",
    "    sm,\n",
    "    ax=ax,\n",
    "    shrink=0.7,\n",
    "    pad=0.05,\n",
    "    ticks=np.linspace(0, 1, ndist_bins),\n",
    "    label=\"MoSeq distance from target\",\n",
    ")\n",
    "cb.set_ticklabels(list(range(ndist_bins)))\n",
    "savefig(\n",
    "    fig,\n",
    "    os.path.join(figure_cfg[\"store_dir\"], \"reinforcement_beh_dist_censor_obligates\"),\n",
    "    bbox_inches=\"tight\",\n",
    ")"
   ]
  },
  {
   "cell_type": "code",
   "execution_count": 42,
   "metadata": {},
   "outputs": [],
   "source": [
    "from scipy.stats import mannwhitneyu, ttest_ind"
   ]
  },
  {
   "cell_type": "code",
   "execution_count": 43,
   "metadata": {},
   "outputs": [],
   "source": [
    "from sklearn.utils import resample"
   ]
  },
  {
   "cell_type": "code",
   "execution_count": 44,
   "metadata": {},
   "outputs": [],
   "source": [
    "bins = change_mu.index.get_level_values(\"dist_bin\").unique()"
   ]
  },
  {
   "cell_type": "code",
   "execution_count": 45,
   "metadata": {},
   "outputs": [],
   "source": [
    "use_test = mannwhitneyu"
   ]
  },
  {
   "cell_type": "code",
   "execution_count": 46,
   "metadata": {},
   "outputs": [],
   "source": [
    "stats = {}\n",
    "all_pvals = []\n",
    "for _bin in range(len(bins)):\n",
    "    dat1 = change_mu.xs((_bin, \"yes\", False), level=(\"dist_bin\", \"learner\", \"censor\"))[\n",
    "        \"change_count\"\n",
    "    ]\n",
    "    dat2 = change_mu_all.xs((_bin, \"ctrl\"), level=(\"dist_bin\", \"learner\"))[\n",
    "        \"change_count\"\n",
    "    ]\n",
    "    stat, pvalue = mannwhitneyu(dat1, dat2)\n",
    "    stats[_bin] = {}\n",
    "    stats[_bin][\"p\"] = pvalue\n",
    "    stats[_bin][\"f\"] = stat / (len(dat1) * len(dat2))\n",
    "\n",
    "    stats[_bin][\"stat\"] = stat\n",
    "    stats[_bin][\"n1\"] = len(dat1)\n",
    "    stats[_bin][\"n2\"] = len(dat2)"
   ]
  },
  {
   "cell_type": "code",
   "execution_count": 47,
   "metadata": {},
   "outputs": [],
   "source": [
    "from statsmodels.stats.multitest import multipletests\n",
    "\n",
    "corrected_pvals = multipletests([v[\"p\"] for v in stats.values()], method=\"holm\")[1]"
   ]
  },
  {
   "cell_type": "code",
   "execution_count": 49,
   "metadata": {},
   "outputs": [],
   "source": [
    "for (k, v), new_pval in zip(stats.items(), corrected_pvals):\n",
    "    v[\"p\"] = new_pval"
   ]
  },
  {
   "cell_type": "code",
   "execution_count": 50,
   "metadata": {},
   "outputs": [],
   "source": [
    "stats[\"n_definition\"] = \"average learning per mouse\"\n",
    "stats[\"test\"] = str(use_test.__name__)"
   ]
  },
  {
   "cell_type": "code",
   "execution_count": 52,
   "metadata": {},
   "outputs": [],
   "source": [
    "import json"
   ]
  },
  {
   "cell_type": "code",
   "execution_count": 53,
   "metadata": {},
   "outputs": [],
   "source": [
    "with open(\n",
    "    os.path.join(proc_dirs[\"closed_loop_behavior\"], \"stats_similar_v_dissimilar.toml\"),\n",
    "    \"w\",\n",
    ") as f:\n",
    "    toml.dump(json.loads(json.dumps(stats)), f)"
   ]
  },
  {
   "cell_type": "code",
   "execution_count": null,
   "metadata": {},
   "outputs": [],
   "source": []
  }
 ],
 "metadata": {
  "kernelspec": {
   "display_name": "Python [conda env:spont-da]",
   "language": "python",
   "name": "conda-env-spont-da-py"
  },
  "language_info": {
   "codemirror_mode": {
    "name": "ipython",
    "version": 3
   },
   "file_extension": ".py",
   "mimetype": "text/x-python",
   "name": "python",
   "nbconvert_exporter": "python",
   "pygments_lexer": "ipython3",
   "version": "3.10.8"
  },
  "toc": {
   "base_numbering": 1,
   "nav_menu": {},
   "number_sections": true,
   "sideBar": true,
   "skip_h1_title": false,
   "title_cell": "Table of Contents",
   "title_sidebar": "Contents",
   "toc_cell": false,
   "toc_position": {
    "height": "calc(100% - 180px)",
    "left": "10px",
    "top": "150px",
    "width": "287px"
   },
   "toc_section_display": true,
   "toc_window_display": true
  }
 },
 "nbformat": 4,
 "nbformat_minor": 4
}
