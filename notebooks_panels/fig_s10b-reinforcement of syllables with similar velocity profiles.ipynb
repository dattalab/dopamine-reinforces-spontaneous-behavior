{
 "cells": [
  {
   "cell_type": "code",
   "execution_count": 1,
   "metadata": {
    "scrolled": true
   },
   "outputs": [],
   "source": [
    "%load_ext autoreload\n",
    "%autoreload 2\n",
    "%matplotlib inline"
   ]
  },
  {
   "cell_type": "code",
   "execution_count": 2,
   "metadata": {},
   "outputs": [],
   "source": [
    "from tqdm.auto import tqdm\n",
    "from rl_analysis.plotting import (\n",
    "    setup_plotting_env,\n",
    "    geno_palette,\n",
    "    syllable_aliases,\n",
    "    clean_ticks,\n",
    "    savefig\n",
    ")\n",
    "import pandas as pd\n",
    "\n",
    "import os\n",
    "import seaborn as sns\n",
    "import matplotlib.pyplot as plt"
   ]
  },
  {
   "cell_type": "markdown",
   "metadata": {},
   "source": [
    "# Load in raw data and normalize"
   ]
  },
  {
   "cell_type": "code",
   "execution_count": 3,
   "metadata": {},
   "outputs": [],
   "source": [
    "import toml\n",
    "\n",
    "with open(\"../analysis_configuration.toml\", \"r\") as f:\n",
    "    analysis_config = toml.load(f)"
   ]
  },
  {
   "cell_type": "code",
   "execution_count": 5,
   "metadata": {},
   "outputs": [],
   "source": [
    "raw_dirs = analysis_config[\"raw_data\"]\n",
    "proc_dirs = analysis_config[\"intermediate_results\"]\n",
    "closed_loop_cfg = analysis_config[\"closed_loop_behavior\"]\n",
    "figure_cfg = analysis_config[\"figures\"]"
   ]
  },
  {
   "cell_type": "code",
   "execution_count": 7,
   "metadata": {},
   "outputs": [],
   "source": [
    "feedback_df = pd.read_parquet(\n",
    "    os.path.join(raw_dirs[\"closed_loop_behavior\"], \"closed_loop_behavior.parquet\"),\n",
    "    filters=[\n",
    "        (\"experiment_type\", \"=\", \"reinforcement\"),\n",
    "        (\"area\", \"in\", [\"snc (axon)\", \"ctrl\"]),\n",
    "    ],\n",
    ").sort_index()"
   ]
  },
  {
   "cell_type": "code",
   "execution_count": 8,
   "metadata": {},
   "outputs": [
    {
     "name": "stderr",
     "output_type": "stream",
     "text": [
      "IOStream.flush timed out\n"
     ]
    }
   ],
   "source": [
    "feedback_df = feedback_df.loc[\n",
    "    (feedback_df[\"area\"].isin([\"snc (axon)\", \"ctrl\"]))\n",
    "    & (feedback_df[\"opsin\"].isin([\"chr2\", \"ctrl\"]))\n",
    "    & (feedback_df[\"stim_duration\"] == 0.25)\n",
    "    & (feedback_df[\"target_syllable\"].isin(syllable_aliases.keys()))\n",
    "].copy()"
   ]
  },
  {
   "cell_type": "code",
   "execution_count": 9,
   "metadata": {},
   "outputs": [],
   "source": [
    "meta_df = feedback_df.drop_duplicates([\"syllable_group\", \"date\"])"
   ]
  },
  {
   "cell_type": "code",
   "execution_count": 10,
   "metadata": {},
   "outputs": [],
   "source": [
    "cnts = meta_df.groupby([\"mouse_id\", \"stim_duration\", \"target_syllable\"])[\n",
    "    \"syllable_group\"\n",
    "].nunique()"
   ]
  },
  {
   "cell_type": "code",
   "execution_count": 11,
   "metadata": {},
   "outputs": [
    {
     "data": {
      "text/plain": [
       "Series([], Name: syllable_group, dtype: int64)"
      ]
     },
     "metadata": {},
     "output_type": "display_data"
    }
   ],
   "source": [
    "with pd.option_context(\"display.max_rows\", None, \"display.max_columns\", None):\n",
    "    display(cnts[cnts > 1])"
   ]
  },
  {
   "cell_type": "markdown",
   "metadata": {},
   "source": [
    "## Load normalized dataframe"
   ]
  },
  {
   "cell_type": "code",
   "execution_count": 12,
   "metadata": {},
   "outputs": [],
   "source": [
    "norm_df = pd.read_parquet(\n",
    "    os.path.join(\n",
    "        raw_dirs[\"closed_loop_behavior\"], \"learning_aggregate.parquet\"\n",
    "    )\n",
    ")"
   ]
  },
  {
   "cell_type": "markdown",
   "metadata": {},
   "source": [
    "## Now average velocity for all syllables"
   ]
  },
  {
   "cell_type": "code",
   "execution_count": 14,
   "metadata": {},
   "outputs": [],
   "source": [
    "scalar_keys = [\"velocity_2d_mm\"]"
   ]
  },
  {
   "cell_type": "code",
   "execution_count": 15,
   "metadata": {},
   "outputs": [],
   "source": [
    "for _key in scalar_keys:\n",
    "    z_key = f\"{_key}_z\"\n",
    "    feedback_df[z_key] = feedback_df.groupby([\"uuid\", \"session_number\"])[\n",
    "        _key\n",
    "    ].transform(lambda x: (x - x.mean()) / x.std())"
   ]
  },
  {
   "cell_type": "code",
   "execution_count": 16,
   "metadata": {},
   "outputs": [],
   "source": [
    "z_keys = [f\"{_key}_z\" for _key in scalar_keys]"
   ]
  },
  {
   "cell_type": "code",
   "execution_count": 17,
   "metadata": {},
   "outputs": [],
   "source": [
    "scalar_ave_df = (\n",
    "    feedback_df.loc[feedback_df[\"session_number\"].isin([1, 2])]\n",
    "    .groupby([\"uuid\", \"target_syllable\", \"predicted_syllable\"])[scalar_keys + z_keys]\n",
    "    .mean()\n",
    ")\n",
    "scalar_ave_df = scalar_ave_df.reset_index()"
   ]
  },
  {
   "cell_type": "code",
   "execution_count": 18,
   "metadata": {},
   "outputs": [],
   "source": [
    "target_velocities = scalar_ave_df.groupby(\"uuid\").apply(\n",
    "    lambda x: x.loc[x[\"target_syllable\"] == x[\"predicted_syllable\"]][\"velocity_2d_mm_z\"]\n",
    ")\n",
    "target_velocities.index = target_velocities.index.droplevel(-1)"
   ]
  },
  {
   "cell_type": "code",
   "execution_count": 19,
   "metadata": {},
   "outputs": [],
   "source": [
    "scalar_ave_df[\"target_velocity\"] = scalar_ave_df[\"uuid\"].map(target_velocities)\n",
    "scalar_ave_df[\"velocity_diff\"] = (\n",
    "    scalar_ave_df[\"velocity_2d_mm_z\"] - scalar_ave_df[\"target_velocity\"]\n",
    ")"
   ]
  },
  {
   "cell_type": "code",
   "execution_count": 20,
   "metadata": {},
   "outputs": [],
   "source": [
    "scalar_ave_df.rename(columns={\"predicted_syllable\": \"syllable\"}, inplace=True)"
   ]
  },
  {
   "cell_type": "code",
   "execution_count": 21,
   "metadata": {},
   "outputs": [],
   "source": [
    "scalar_df = pd.merge(\n",
    "    norm_df,\n",
    "    scalar_ave_df[[\"velocity_diff\", \"uuid\", \"syllable\"]],\n",
    "    on=[\"uuid\", \"syllable\"],\n",
    "    how=\"left\",\n",
    ")"
   ]
  },
  {
   "cell_type": "code",
   "execution_count": 22,
   "metadata": {},
   "outputs": [],
   "source": [
    "vel_diff_bins = pd.qcut(scalar_df[\"velocity_diff\"], 10)"
   ]
  },
  {
   "cell_type": "code",
   "execution_count": 23,
   "metadata": {},
   "outputs": [],
   "source": [
    "scalar_df[\"is_target\"] = scalar_df[\"syllable\"] == scalar_df[\"target_syllable\"]\n",
    "scalar_df[\"velocity_diff_bin\"] = vel_diff_bins"
   ]
  },
  {
   "cell_type": "code",
   "execution_count": 24,
   "metadata": {},
   "outputs": [],
   "source": [
    "total_df = (\n",
    "    scalar_df.loc[(scalar_df[\"session_number\"].isin([1, 2]))]\n",
    "    .groupby(\n",
    "        [\n",
    "            \"mouse_id\",\n",
    "            \"syllable\",\n",
    "            \"session_number\",\n",
    "            \"target_syllable\",\n",
    "            \"area\",\n",
    "            \"stim_duration\",\n",
    "            \"velocity_diff_bin\",\n",
    "        ],\n",
    "        observed=True,\n",
    "    )[\"change_count\"]\n",
    "    .sum()\n",
    ")"
   ]
  },
  {
   "cell_type": "code",
   "execution_count": 25,
   "metadata": {},
   "outputs": [],
   "source": [
    "total_df = total_df.reset_index()"
   ]
  },
  {
   "cell_type": "code",
   "execution_count": 26,
   "metadata": {},
   "outputs": [],
   "source": [
    "total_df[\"is_target\"] = total_df[\"syllable\"] == total_df[\"target_syllable\"]"
   ]
  },
  {
   "cell_type": "code",
   "execution_count": 27,
   "metadata": {},
   "outputs": [],
   "source": [
    "learner_dct = toml.load(\n",
    "    os.path.join(proc_dirs[\"closed_loop_behavior\"], \"closed_loop_learners.toml\")\n",
    ")\n",
    "learners = learner_dct[\"snc (axon)\"][\"learners\"]"
   ]
  },
  {
   "cell_type": "code",
   "execution_count": 28,
   "metadata": {},
   "outputs": [],
   "source": [
    "total_df[\"learner\"] = total_df[\"mouse_id\"].isin(learners)\n",
    "total_df[\"learner\"] = total_df[\"learner\"].map({True: \"yes\", False: \"no\"})\n",
    "total_df.loc[total_df[\"area\"] == \"ctrl\", \"learner\"] = \"ctrl\""
   ]
  },
  {
   "cell_type": "code",
   "execution_count": 29,
   "metadata": {},
   "outputs": [],
   "source": [
    "plt_df = (\n",
    "    total_df.groupby(\n",
    "        [\n",
    "            \"is_target\",\n",
    "            \"learner\",\n",
    "            \"mouse_id\",\n",
    "            \"area\",\n",
    "            \"session_number\",\n",
    "            \"velocity_diff_bin\",\n",
    "        ],\n",
    "        observed=True,\n",
    "    )\n",
    "    .mean()\n",
    "    .xs(False, level=\"is_target\")\n",
    "    .reset_index()\n",
    ")"
   ]
  },
  {
   "cell_type": "code",
   "execution_count": 30,
   "metadata": {},
   "outputs": [],
   "source": [
    "setup_plotting_env()"
   ]
  },
  {
   "cell_type": "code",
   "execution_count": 31,
   "metadata": {},
   "outputs": [],
   "source": [
    "sns.set_context(\"paper\")"
   ]
  },
  {
   "cell_type": "code",
   "execution_count": 32,
   "metadata": {
    "tags": []
   },
   "outputs": [
    {
     "data": {
      "application/vnd.jupyter.widget-view+json": {
       "model_id": "0c3a42d82a034fed840c9358646ca0b7",
       "version_major": 2,
       "version_minor": 0
      },
      "text/plain": [
       "  0%|          | 0/1000 [00:00<?, ?it/s]"
      ]
     },
     "metadata": {},
     "output_type": "display_data"
    }
   ],
   "source": [
    "nshuffles = 1000\n",
    "shuffle_groupby = [\n",
    "    \"area\",\n",
    "    \"stim_duration\",\n",
    "    \"session_number\",\n",
    "    \"target_syllable\",\n",
    "]\n",
    "ave_groupby = [\"area\", \"stim_duration\", \"session_number\", \"velocity_diff_bin\"]\n",
    "shuffle_key = \"change_count\"\n",
    "shuffles = []\n",
    "for i in tqdm(range(nshuffles)):\n",
    "    _df = total_df.copy()\n",
    "    _df[shuffle_key] = _df.groupby(shuffle_groupby)[shuffle_key].sample(frac=1).values\n",
    "    _ave = _df.groupby(ave_groupby).mean(numeric_only=True)\n",
    "    shuffles.append(_ave.reset_index())"
   ]
  },
  {
   "cell_type": "code",
   "execution_count": 33,
   "metadata": {},
   "outputs": [],
   "source": [
    "setup_plotting_env()"
   ]
  },
  {
   "cell_type": "code",
   "execution_count": 34,
   "metadata": {},
   "outputs": [
    {
     "data": {
      "image/png": "[encoded data removed]",
      "text/plain": [
       "<Figure size 500x500 with 4 Axes>"
      ]
     },
     "metadata": {},
     "output_type": "display_data"
    }
   ],
   "source": [
    "g = sns.relplot(\n",
    "    data=plt_df,\n",
    "    x=plt_df[\"velocity_diff_bin\"].apply(lambda x: x.mid.astype(\"float\")),\n",
    "    y=\"change_count\",\n",
    "    col=\"session_number\",\n",
    "    row=\"learner\",\n",
    "    row_order=[\"yes\", \"ctrl\"],\n",
    "    height=1.25,\n",
    "    aspect=1,\n",
    "    hue=\"learner\",\n",
    "    err_kws={\"alpha\": 0.75},\n",
    "    hue_order=[\"yes\", \"ctrl\"],\n",
    "    palette=[geno_palette.snc, geno_palette.ctrl],\n",
    "    legend=False,\n",
    "    kind=\"line\",\n",
    ")\n",
    "\n",
    "g.set(ylim=(-5, 40), xlim=(-6, 6))\n",
    "g.set_titles(row_template=\"{row_name}\", col_template=\"{col_name}\")\n",
    "g.set_axis_labels(\"\", \"\")\n",
    "\n",
    "g.fig.supylabel(\"Counts above baseline\", fontsize=7)\n",
    "g.fig.supxlabel(\"Velocity distance to target (z)\", fontsize=7)\n",
    "\n",
    "for _ax in g.axes.flat:\n",
    "    _ax.fill_between(_ax.get_xlim(), -5, 5, facecolor=[0.5] * 3, alpha=0.5, zorder=-200)\n",
    "\n",
    "clean_ticks(g.fig.axes[0], \"y\", dtype=int, precision=1, zero_symmetry=False)\n",
    "clean_ticks(g.fig.axes[0], \"x\", dtype=int, precision=1, zero_symmetry=True)\n",
    "\n",
    "g.fig.tight_layout(rect=[-0.05, -0.05, 1, 1])\n",
    "savefig(\n",
    "    g.fig,\n",
    "    os.path.join(figure_cfg[\"store_dir\"], \"velocity_diff_learning_learners-only\"),\n",
    "    bbox_inches=\"tight\",\n",
    ")\n",
    "# g.fig.tight_layout()"
   ]
  },
  {
   "cell_type": "code",
   "execution_count": 35,
   "metadata": {},
   "outputs": [],
   "source": [
    "plt_df_stats = plt_df.set_index([\"learner\", \"session_number\", \"velocity_diff_bin\"])"
   ]
  },
  {
   "cell_type": "code",
   "execution_count": 36,
   "metadata": {},
   "outputs": [],
   "source": [
    "from scipy.stats import mannwhitneyu\n",
    "from statsmodels.stats.multitest import multipletests"
   ]
  },
  {
   "cell_type": "code",
   "execution_count": 37,
   "metadata": {},
   "outputs": [],
   "source": [
    "use_test = mannwhitneyu"
   ]
  },
  {
   "cell_type": "code",
   "execution_count": 38,
   "metadata": {},
   "outputs": [],
   "source": [
    "dcts = []\n",
    "for _bin in plt_df_stats.index.get_level_values(\"velocity_diff_bin\"):\n",
    "    for _session in [1, 2]:\n",
    "        try:\n",
    "            dat1 = plt_df_stats.xs(\n",
    "                (\"yes\", _session, _bin),\n",
    "                level=(\"learner\", \"session_number\", \"velocity_diff_bin\"),\n",
    "            )[\"change_count\"]\n",
    "            dat2 = plt_df_stats.xs(\n",
    "                (\"ctrl\", _session, _bin),\n",
    "                level=(\"learner\", \"session_number\", \"velocity_diff_bin\"),\n",
    "            )[\"change_count\"]\n",
    "        except KeyError:\n",
    "            continue\n",
    "        dct = {}\n",
    "\n",
    "        stat, p = use_test(dat1, dat2)\n",
    "        dct[\"lag\"] = _bin\n",
    "        dct[\"stat\"] = stat\n",
    "        dct[\"p\"] = p\n",
    "        dct[\"n1\"] = len(dat1)\n",
    "        dct[\"n2\"] = len(dat2)\n",
    "        dct[\"n_definition\"] = \"Per-mouse average\"\n",
    "        dct[\"test\"] = str(use_test.__name__)\n",
    "        dcts.append(dct)"
   ]
  },
  {
   "cell_type": "code",
   "execution_count": 39,
   "metadata": {},
   "outputs": [],
   "source": [
    "pval_df = pd.DataFrame(dcts)"
   ]
  },
  {
   "cell_type": "code",
   "execution_count": 40,
   "metadata": {},
   "outputs": [],
   "source": [
    "pval_df[\"p\"] = multipletests(pval_df[\"p\"], method=\"holm\")[1]"
   ]
  },
  {
   "cell_type": "code",
   "execution_count": 41,
   "metadata": {},
   "outputs": [],
   "source": [
    "import json"
   ]
  },
  {
   "cell_type": "code",
   "execution_count": 42,
   "metadata": {},
   "outputs": [],
   "source": [
    "with open(\n",
    "    os.path.join(proc_dirs[\"closed_loop_behavior\"], \"stats_velocity_diff.toml\"), \"w\"\n",
    ") as f:\n",
    "    toml.dump(json.loads(pval_df.to_json()), f)"
   ]
  },
  {
   "cell_type": "code",
   "execution_count": 43,
   "metadata": {},
   "outputs": [
    {
     "data": {
      "text/plain": [
       "1.0"
      ]
     },
     "execution_count": 43,
     "metadata": {},
     "output_type": "execute_result"
    }
   ],
   "source": [
    "pval_df[\"p\"].min()"
   ]
  }
 ],
 "metadata": {
  "kernelspec": {
   "display_name": "Python [conda env:spont-da]",
   "language": "python",
   "name": "conda-env-spont-da-py"
  },
  "language_info": {
   "codemirror_mode": {
    "name": "ipython",
    "version": 3
   },
   "file_extension": ".py",
   "mimetype": "text/x-python",
   "name": "python",
   "nbconvert_exporter": "python",
   "pygments_lexer": "ipython3",
   "version": "3.10.8"
  },
  "toc": {
   "base_numbering": 1,
   "nav_menu": {},
   "number_sections": true,
   "sideBar": true,
   "skip_h1_title": false,
   "title_cell": "Table of Contents",
   "title_sidebar": "Contents",
   "toc_cell": false,
   "toc_position": {
    "height": "calc(100% - 180px)",
    "left": "10px",
    "top": "150px",
    "width": "287px"
   },
   "toc_section_display": true,
   "toc_window_display": true
  }
 },
 "nbformat": 4,
 "nbformat_minor": 4
}
