{
 "cells": [
  {
   "cell_type": "code",
   "execution_count": 1,
   "metadata": {
    "scrolled": true
   },
   "outputs": [],
   "source": [
    "%load_ext autoreload\n",
    "%autoreload 2\n",
    "%matplotlib inline"
   ]
  },
  {
   "cell_type": "code",
   "execution_count": 2,
   "metadata": {},
   "outputs": [],
   "source": [
    "import matplotlib.pyplot as plt\n",
    "import seaborn as sns\n",
    "import h5py\n",
    "import os\n",
    "import numpy as np\n",
    "import pandas as pd\n",
    "import joblib\n",
    "import cv2\n",
    "import itertools\n",
    "import dask\n",
    "\n",
    "from dask.distributed import Client\n",
    "from tqdm.auto import tqdm\n",
    "from ruamel.yaml import YAML\n",
    "from copy import deepcopy\n",
    "from scipy.optimize import linear_sum_assignment\n",
    "from mouse_rt.proc.util import process_frame, apply_roi\n",
    "from mouse_rt.util import select_strel"
   ]
  },
  {
   "cell_type": "code",
   "execution_count": 3,
   "metadata": {},
   "outputs": [],
   "source": [
    "os.environ[\"TF_CPP_MIN_LOG_LEVEL\"] = \"3\""
   ]
  },
  {
   "cell_type": "code",
   "execution_count": 4,
   "metadata": {},
   "outputs": [],
   "source": [
    "import toml\n",
    "\n",
    "with open(\"../analysis_configuration.toml\", \"r\") as f:\n",
    "    analysis_config = toml.load(f)"
   ]
  },
  {
   "cell_type": "code",
   "execution_count": 5,
   "metadata": {},
   "outputs": [],
   "source": [
    "raw_dirs = analysis_config[\"raw_data\"]\n",
    "proc_dirs = analysis_config[\"intermediate_results\"]\n",
    "figure_cfg = analysis_config[\"figures\"]\n",
    "dask_address = analysis_config[\"dask\"].get(\"address\")"
   ]
  },
  {
   "cell_type": "markdown",
   "metadata": {
    "tags": []
   },
   "source": [
    "# Functions"
   ]
  },
  {
   "cell_type": "code",
   "execution_count": 6,
   "metadata": {},
   "outputs": [],
   "source": [
    "# setup some simple pre-processing to simulate what we do online\n",
    "def online_frame_process(frame, background, roi, clean_params):\n",
    "\n",
    "    dframe = frame.copy()\n",
    "    dframe = background - dframe\n",
    "    dframe = apply_roi(dframe, **roi)\n",
    "    dframe *= np.logical_and(\n",
    "        dframe > clean_params[\"min_height_raw\"], dframe < clean_params[\"max_height_raw\"]\n",
    "    )\n",
    "    clean_params.pop(\"min_height_raw\")\n",
    "    clean_params.pop(\"max_height_raw\")\n",
    "    dframe = dframe.astype(\"uint8\")\n",
    "    proc_frame, features = process_frame(dframe, **clean_params)\n",
    "\n",
    "    return dframe, proc_frame, features\n",
    "\n",
    "\n",
    "def get_pc_scores(frames, pc_components):\n",
    "    return frames.reshape(len(frames), -1).dot(pc_components.T)\n",
    "\n",
    "\n",
    "def get_whitening_matrix(pca_scores, npcs=10, center=True):\n",
    "    valid_scores = np.concatenate(\n",
    "        [x[~np.isnan(x).any(axis=1), :npcs] for x in pca_scores.values()]\n",
    "    )\n",
    "    mu, cov = valid_scores.mean(axis=0), np.cov(valid_scores, rowvar=False, bias=1)\n",
    "    L = np.linalg.cholesky(cov)\n",
    "\n",
    "    return L, mu, cov\n",
    "\n",
    "\n",
    "def relabel(labels1, labels2):\n",
    "\n",
    "    set1 = set(labels1)\n",
    "    set2 = set(labels2)\n",
    "\n",
    "    all_labels = sorted(list(set1.union(set2)))\n",
    "    max_label = max(all_labels) + 1\n",
    "\n",
    "    cnt = np.zeros((max_label, max_label), dtype=\"float32\")\n",
    "\n",
    "    for r, c in zip(labels1, labels2):\n",
    "        cnt[r, c] -= 1\n",
    "\n",
    "    rows, cols = linear_sum_assignment(cnt)\n",
    "    new_labels2 = deepcopy(labels2)\n",
    "\n",
    "    for r, c in zip(rows, cols):\n",
    "        new_labels2[labels2 == c] = r\n",
    "\n",
    "    return new_labels2\n",
    "\n",
    "\n",
    "def make_rot_mtx(center=(40, 40), angle=0, scale=(1, 1)):\n",
    "\n",
    "    scale_x, scale_y = scale\n",
    "    x, y = center\n",
    "\n",
    "    alpha1 = np.cos(np.deg2rad(angle)) * scale_x\n",
    "    alpha2 = np.cos(np.deg2rad(angle)) * scale_y\n",
    "    beta1 = np.sin(np.deg2rad(angle)) * scale_y\n",
    "    beta2 = np.sin(np.deg2rad(angle)) * scale_x\n",
    "\n",
    "    return np.array(\n",
    "        [\n",
    "            [alpha1, beta1, (1 - alpha1) * x - (beta1 * y)],\n",
    "            [-beta2, alpha2, beta2 * x + (1 - alpha2) * y],\n",
    "        ]\n",
    "    )\n",
    "\n",
    "\n",
    "def jitter_frames(\n",
    "    frames,\n",
    "    jitter_position=(0, 0),\n",
    "    jitter_scale=(1, 1, 1),\n",
    "    jitter_rotation=0,\n",
    "    jitter_skew=0,\n",
    "    jitter_flip=False,\n",
    "    jitter_pixel=3,\n",
    "    jitter_rectify=True,\n",
    "):\n",
    "\n",
    "    dtype = frames.dtype\n",
    "    use_frames = frames.copy().astype(\"float\")\n",
    "    ndims = len(frames.shape)\n",
    "\n",
    "    if ndims > 2:\n",
    "        rows, columns = frames.shape[1:]\n",
    "    else:\n",
    "        rows = 1\n",
    "        columns = frames.shape[1]\n",
    "\n",
    "    if jitter_flip:\n",
    "        jitter_rotation += np.random.choice([180, -180], 1)\n",
    "\n",
    "    use_frames *= jitter_scale[2]\n",
    "\n",
    "    for i, frame in enumerate(use_frames):\n",
    "\n",
    "        # roll dice for position, scale, rotation and flip\n",
    "        xpos, ypos = jitter_position\n",
    "        rot_mat = make_rot_mtx(\n",
    "            (rows // 2, columns // 2), jitter_rotation, jitter_scale[:2]\n",
    "        )\n",
    "        rot_mat[0, -1] += jitter_position[0]\n",
    "        rot_mat[1, -1] += jitter_position[1]\n",
    "        frame = cv2.warpAffine(frame, rot_mat, (rows, columns))\n",
    "        frame += np.random.randn(rows, columns) * jitter_pixel\n",
    "\n",
    "        # prevent weirdness due to negative values\n",
    "        if jitter_rectify:\n",
    "            frame[frame < 0] = 0\n",
    "        use_frames[i] = frame\n",
    "\n",
    "    return use_frames.astype(dtype)"
   ]
  },
  {
   "cell_type": "code",
   "execution_count": 7,
   "metadata": {},
   "outputs": [],
   "source": [
    "def load_realtime_package(realtime_dir):\n",
    "\n",
    "    yaml = YAML(typ=\"rt\")\n",
    "\n",
    "    with open(os.path.join(realtime_dir, \"metadata.yaml\"), \"r\") as f:\n",
    "        inf = dict(yaml.load(f.read()))[\"mouse-rt-arhmm\"]\n",
    "\n",
    "    load_paths = inf[\"paths\"]\n",
    "\n",
    "    rpackage = {\n",
    "        #         'autoencoder': load_model(os.path.join(realtime_dir, load_paths[\"autoencoder\"])),\n",
    "        \"arhmm\": joblib.load(os.path.join(realtime_dir, load_paths[\"arhmm\"]))[\"model\"],\n",
    "        \"preprocessor\": joblib.load(\n",
    "            os.path.join(realtime_dir, load_paths[\"preprocessor\"])\n",
    "        ),\n",
    "    }\n",
    "\n",
    "    npcs = rpackage[\"arhmm\"].obs_distns[0].D_out\n",
    "    with h5py.File(os.path.join(realtime_dir, load_paths[\"pc_components\"]), \"r\") as f:\n",
    "        rpackage[\"pc_components\"] = f[\"/components\"][:npcs]\n",
    "\n",
    "    return rpackage"
   ]
  },
  {
   "cell_type": "code",
   "execution_count": 8,
   "metadata": {},
   "outputs": [],
   "source": [
    "def autoencode_frames_and_predict(\n",
    "    rtime_dir, encode_frames, model_filename=\"autoencoder.h5\"\n",
    "):\n",
    "    # from keras.models import load_model\n",
    "    from tensorflow.keras.models import load_model\n",
    "    import tensorflow as tf\n",
    "\n",
    "    rpack = load_realtime_package(rtime_dir)\n",
    "    use_frames = {}\n",
    "\n",
    "    with tf.Session() as sess:\n",
    "        mdl = load_model(os.path.join(rtime_dir, model_filename))\n",
    "        use_frames[\"ae\"] = mdl.predict(encode_frames[..., None]).squeeze()\n",
    "\n",
    "    use_frames[\"raw\"] = encode_frames\n",
    "    labels = {}\n",
    "    pcs = {}\n",
    "    for k, v in use_frames.items():\n",
    "        tmp = v.reshape(len(v), -1).dot(rpack[\"pc_components\"].T)\n",
    "        pcs[k] = rpack[\"preprocessor\"].transform(tmp)\n",
    "        labels[k] = rpack[\"arhmm\"].heldout_viterbi(pcs[k])\n",
    "\n",
    "    return labels, use_frames, pcs"
   ]
  },
  {
   "cell_type": "markdown",
   "metadata": {
    "tags": []
   },
   "source": [
    "# Load data and set parameters"
   ]
  },
  {
   "cell_type": "code",
   "execution_count": 9,
   "metadata": {},
   "outputs": [],
   "source": [
    "tailfilter = select_strel(\"e\", (9, 9))\n",
    "clean_params = {\n",
    "    \"tailfilter\": tailfilter\n",
    "}"
   ]
  },
  {
   "cell_type": "code",
   "execution_count": 10,
   "metadata": {},
   "outputs": [],
   "source": [
    "use_data = os.path.join(raw_dirs[\"misc\"], \"autoencoder_test_data.h5\")\n",
    "with h5py.File(use_data, \"r\") as f:\n",
    "    use_frames = f[\"/frames\"][()]\n",
    "frames = {}\n",
    "frames[\"offline\"] = use_frames"
   ]
  },
  {
   "cell_type": "code",
   "execution_count": 11,
   "metadata": {},
   "outputs": [],
   "source": [
    "# need to reference local packaage\n",
    "realtime_package = raw_dirs[\"realtime_package\"]"
   ]
  },
  {
   "cell_type": "code",
   "execution_count": 12,
   "metadata": {},
   "outputs": [],
   "source": [
    "# set up the exponential filter over pixels (we also do this online)\n",
    "fps = 30.0\n",
    "tau = 0.035\n",
    "sample_period = 1 / fps\n",
    "smoothing_alpha = np.clip(sample_period / tau, 0, 1)"
   ]
  },
  {
   "cell_type": "markdown",
   "metadata": {
    "tags": []
   },
   "source": [
    "# Jitter and compute labels"
   ]
  },
  {
   "cell_type": "markdown",
   "metadata": {},
   "source": [
    "## Scale"
   ]
  },
  {
   "cell_type": "code",
   "execution_count": 13,
   "metadata": {},
   "outputs": [],
   "source": [
    "new_dcts = []"
   ]
  },
  {
   "cell_type": "code",
   "execution_count": 14,
   "metadata": {},
   "outputs": [],
   "source": [
    "npcs = 10\n",
    "frame_range = range(2000)"
   ]
  },
  {
   "cell_type": "code",
   "execution_count": 15,
   "metadata": {},
   "outputs": [],
   "source": [
    "scale_steps = np.linspace(0.1, 2.5, 80)\n",
    "scale_steps = np.insert(scale_steps, 0, 1)"
   ]
  },
  {
   "cell_type": "code",
   "execution_count": 16,
   "metadata": {},
   "outputs": [],
   "source": [
    "if dask_address is not None:\n",
    "    import dask.delayed as use_delayed\n",
    "    client = Client(dask_address)\n",
    "    def process_delays(delays):\n",
    "        futures = client.compute(delays)\n",
    "        return client.gather(futures)\n",
    "else:\n",
    "    import joblib.delayed as use_delayed\n",
    "    from joblib import Parallel\n",
    "    def process_delays(delays):\n",
    "        return Parallel(n_jobs=2, verbose=10, backend=\"multiprocessing\")(delays)"
   ]
  },
  {
   "cell_type": "code",
   "execution_count": 18,
   "metadata": {},
   "outputs": [
    {
     "data": {
      "application/vnd.jupyter.widget-view+json": {
       "model_id": "f6bde9a8e8854b90a19d6340be62785a",
       "version_major": 2,
       "version_minor": 0
      },
      "text/plain": [
       "  0%|          | 0/81 [00:00<?, ?it/s]"
      ]
     },
     "metadata": {},
     "output_type": "display_data"
    }
   ],
   "source": [
    "# for each step collect both raw and autoencoded\n",
    "delays = []\n",
    "results = []\n",
    "for step in tqdm(scale_steps):\n",
    "    tmp = jitter_frames(\n",
    "        frames[\"offline\"][frame_range],\n",
    "        jitter_position=(0, 0),\n",
    "        jitter_rotation=0,\n",
    "        jitter_pixel=0,\n",
    "        jitter_scale=(step, step, step),\n",
    "    )\n",
    "    delays.append(use_delayed(autoencode_frames_and_predict)(realtime_package, tmp))"
   ]
  },
  {
   "cell_type": "code",
   "execution_count": 19,
   "metadata": {},
   "outputs": [
    {
     "name": "stderr",
     "output_type": "stream",
     "text": [
      "/home/markowitzmeister_gmail_com/miniconda3/envs/mouse-rt-simulate-gpu/lib/python3.7/site-packages/distributed/worker.py:4504: UserWarning: Large object of size 12.21 MiB detected in task graph: \n",
      "  ('/home/markowitzmeister_gmail_com/jeff_win_share/ ... , dtype=uint8))\n",
      "Consider scattering large objects ahead of time\n",
      "with client.scatter to reduce scheduler burden and \n",
      "keep data on workers\n",
      "\n",
      "    future = client.submit(func, big_data)    # bad\n",
      "\n",
      "    big_future = client.scatter(big_data)     # good\n",
      "    future = client.submit(func, big_future)  # good\n",
      "  % (format_bytes(len(b)), s)\n"
     ]
    }
   ],
   "source": [
    "results = process_delays(delays)"
   ]
  },
  {
   "cell_type": "code",
   "execution_count": 20,
   "metadata": {},
   "outputs": [],
   "source": [
    "baseline_labels, baseline_frames, baseline_pcs = results[0]\n",
    "for i, (scale, (_labels, _frames, _pcs)) in enumerate(\n",
    "    zip(scale_steps[1:], results[1:])\n",
    "):\n",
    "    for k in _labels.keys():\n",
    "        dct = {\n",
    "            \"label match\": (baseline_labels[k] == _labels[k]).mean(),\n",
    "            \"frame mse\": ((baseline_frames[k] - _frames[k]) ** 2).mean(),\n",
    "            \"pc mse\": ((baseline_pcs[k][:, :npcs] - _pcs[k][:, :npcs]) ** 2).mean(),\n",
    "            \"jitter value\": scale,\n",
    "            \"type\": k,\n",
    "            \"jitter type\": \"scale\",\n",
    "        }\n",
    "        new_dcts.append(dct)"
   ]
  },
  {
   "cell_type": "markdown",
   "metadata": {},
   "source": [
    "## Skew (x)"
   ]
  },
  {
   "cell_type": "code",
   "execution_count": 21,
   "metadata": {},
   "outputs": [],
   "source": [
    "scale_steps = np.linspace(0.1, 2.5, 80)\n",
    "scale_steps = np.insert(scale_steps, 0, 1)"
   ]
  },
  {
   "cell_type": "code",
   "execution_count": 22,
   "metadata": {},
   "outputs": [
    {
     "data": {
      "application/vnd.jupyter.widget-view+json": {
       "model_id": "d5e67dd89293401394322b3081558fd3",
       "version_major": 2,
       "version_minor": 0
      },
      "text/plain": [
       "  0%|          | 0/81 [00:00<?, ?it/s]"
      ]
     },
     "metadata": {},
     "output_type": "display_data"
    }
   ],
   "source": [
    "# for each step collect both raw and autoencoded\n",
    "delays = []\n",
    "for step in tqdm(scale_steps):\n",
    "    tmp = jitter_frames(\n",
    "        frames[\"offline\"][frame_range],\n",
    "        jitter_position=(0, 0),\n",
    "        jitter_rotation=0,\n",
    "        jitter_pixel=0,\n",
    "        jitter_scale=(step, 1, 1),\n",
    "    )\n",
    "    delays.append(use_delayed(autoencode_frames_and_predict)(realtime_package, tmp))"
   ]
  },
  {
   "cell_type": "code",
   "execution_count": null,
   "metadata": {},
   "outputs": [],
   "source": [
    "results = process_delays(delays)"
   ]
  },
  {
   "cell_type": "code",
   "execution_count": 24,
   "metadata": {},
   "outputs": [],
   "source": [
    "baseline_labels, baseline_frames, baseline_pcs = results[0]\n",
    "for i, (scale, (_labels, _frames, _pcs)) in enumerate(\n",
    "    zip(scale_steps[1:], results[1:])\n",
    "):\n",
    "    for k in _labels.keys():\n",
    "        dct = {\n",
    "            \"label match\": (baseline_labels[k] == _labels[k]).mean(),\n",
    "            \"frame mse\": ((baseline_frames[k] - _frames[k]) ** 2).mean(),\n",
    "            \"pc mse\": ((baseline_pcs[k][:, :npcs] - _pcs[k][:, :npcs]) ** 2).mean(),\n",
    "            \"jitter value\": scale,\n",
    "            \"type\": k,\n",
    "            \"jitter type\": \"skew (x)\",\n",
    "        }\n",
    "        new_dcts.append(dct)"
   ]
  },
  {
   "cell_type": "markdown",
   "metadata": {},
   "source": [
    "## Skew (y)"
   ]
  },
  {
   "cell_type": "code",
   "execution_count": 25,
   "metadata": {},
   "outputs": [],
   "source": [
    "scale_steps = np.linspace(0.1, 2.5, 80)\n",
    "scale_steps = np.insert(scale_steps, 0, 1)"
   ]
  },
  {
   "cell_type": "code",
   "execution_count": 26,
   "metadata": {},
   "outputs": [
    {
     "data": {
      "application/vnd.jupyter.widget-view+json": {
       "model_id": "d9cf08a696db40ef96b6902b724ed077",
       "version_major": 2,
       "version_minor": 0
      },
      "text/plain": [
       "  0%|          | 0/81 [00:00<?, ?it/s]"
      ]
     },
     "metadata": {},
     "output_type": "display_data"
    }
   ],
   "source": [
    "# for each step collect both raw and autoencoded\n",
    "delays = []\n",
    "for step in tqdm(scale_steps):\n",
    "    tmp = jitter_frames(\n",
    "        frames[\"offline\"][frame_range],\n",
    "        jitter_position=(0, 0),\n",
    "        jitter_rotation=0,\n",
    "        jitter_pixel=0,\n",
    "        jitter_scale=(1, step, 1),\n",
    "    )\n",
    "    delays.append(use_delayed(autoencode_frames_and_predict)(realtime_package, tmp))"
   ]
  },
  {
   "cell_type": "code",
   "execution_count": null,
   "metadata": {},
   "outputs": [],
   "source": [
    "results = process_delays(delays)"
   ]
  },
  {
   "cell_type": "code",
   "execution_count": 28,
   "metadata": {},
   "outputs": [],
   "source": [
    "baseline_labels, baseline_frames, baseline_pcs = results[0]\n",
    "for i, (scale, (_labels, _frames, _pcs)) in enumerate(\n",
    "    zip(scale_steps[1:], results[1:])\n",
    "):\n",
    "    for k in _labels.keys():\n",
    "        dct = {\n",
    "            \"label match\": (baseline_labels[k] == _labels[k]).mean(),\n",
    "            \"frame mse\": ((baseline_frames[k] - _frames[k]) ** 2).mean(),\n",
    "            \"pc mse\": ((baseline_pcs[k][:, :npcs] - _pcs[k][:, :npcs]) ** 2).mean(),\n",
    "            \"jitter value\": scale,\n",
    "            \"type\": k,\n",
    "            \"jitter type\": \"skew (y)\",\n",
    "        }\n",
    "        new_dcts.append(dct)"
   ]
  },
  {
   "cell_type": "markdown",
   "metadata": {},
   "source": [
    "## Skew (z)"
   ]
  },
  {
   "cell_type": "code",
   "execution_count": 29,
   "metadata": {},
   "outputs": [],
   "source": [
    "scale_steps = np.linspace(0.1, 2.5, 80)\n",
    "scale_steps = np.insert(scale_steps, 0, 1)"
   ]
  },
  {
   "cell_type": "code",
   "execution_count": 30,
   "metadata": {},
   "outputs": [
    {
     "data": {
      "application/vnd.jupyter.widget-view+json": {
       "model_id": "c9ce64ff7509465e848c0a3daba436d2",
       "version_major": 2,
       "version_minor": 0
      },
      "text/plain": [
       "  0%|          | 0/81 [00:00<?, ?it/s]"
      ]
     },
     "metadata": {},
     "output_type": "display_data"
    }
   ],
   "source": [
    "# for each step collect both raw and autoencoded\n",
    "delays = []\n",
    "for step in tqdm(scale_steps):\n",
    "    tmp = jitter_frames(\n",
    "        frames[\"offline\"][frame_range],\n",
    "        jitter_position=(0, 0),\n",
    "        jitter_rotation=0,\n",
    "        jitter_pixel=0,\n",
    "        jitter_scale=(1, 1, step),\n",
    "    )\n",
    "    delays.append(use_delayed(autoencode_frames_and_predict)(realtime_package, tmp))"
   ]
  },
  {
   "cell_type": "code",
   "execution_count": null,
   "metadata": {},
   "outputs": [],
   "source": [
    "results = process_delays(delays)"
   ]
  },
  {
   "cell_type": "code",
   "execution_count": 32,
   "metadata": {},
   "outputs": [],
   "source": [
    "baseline_labels, baseline_frames, baseline_pcs = results[0]\n",
    "for i, (scale, (_labels, _frames, _pcs)) in enumerate(\n",
    "    zip(scale_steps[1:], results[1:])\n",
    "):\n",
    "    for k in _labels.keys():\n",
    "        dct = {\n",
    "            \"label match\": (baseline_labels[k] == _labels[k]).mean(),\n",
    "            \"frame mse\": ((baseline_frames[k] - _frames[k]) ** 2).mean(),\n",
    "            \"pc mse\": ((baseline_pcs[k][:, :npcs] - _pcs[k][:, :npcs]) ** 2).mean(),\n",
    "            \"jitter value\": scale,\n",
    "            \"type\": k,\n",
    "            \"jitter type\": \"skew (z)\",\n",
    "        }\n",
    "        new_dcts.append(dct)"
   ]
  },
  {
   "cell_type": "markdown",
   "metadata": {},
   "source": [
    "## Rotation"
   ]
  },
  {
   "cell_type": "code",
   "execution_count": 33,
   "metadata": {},
   "outputs": [],
   "source": [
    "scale_steps = np.linspace(-40, 40, 40)\n",
    "scale_steps = np.insert(scale_steps, 0, 0)"
   ]
  },
  {
   "cell_type": "code",
   "execution_count": 34,
   "metadata": {},
   "outputs": [
    {
     "data": {
      "application/vnd.jupyter.widget-view+json": {
       "model_id": "605242973a6f4217b74efb937095a79c",
       "version_major": 2,
       "version_minor": 0
      },
      "text/plain": [
       "  0%|          | 0/41 [00:00<?, ?it/s]"
      ]
     },
     "metadata": {},
     "output_type": "display_data"
    }
   ],
   "source": [
    "# for each step collect both raw and autoencoded\n",
    "delays = []\n",
    "for step in tqdm(scale_steps):\n",
    "    tmp = jitter_frames(\n",
    "        frames[\"offline\"][frame_range],\n",
    "        jitter_position=(0, 0),\n",
    "        jitter_rotation=step,\n",
    "        jitter_pixel=0,\n",
    "        jitter_scale=(1, 1, 1),\n",
    "    )\n",
    "    delays.append(use_delayed(autoencode_frames_and_predict)(realtime_package, tmp))"
   ]
  },
  {
   "cell_type": "code",
   "execution_count": null,
   "metadata": {},
   "outputs": [],
   "source": [
    "results = process_delays(delays)"
   ]
  },
  {
   "cell_type": "code",
   "execution_count": 36,
   "metadata": {},
   "outputs": [],
   "source": [
    "baseline_labels, baseline_frames, baseline_pcs = results[0]\n",
    "for i, (scale, (_labels, _frames, _pcs)) in enumerate(\n",
    "    zip(scale_steps[1:], results[1:])\n",
    "):\n",
    "    for k in _labels.keys():\n",
    "        dct = {\n",
    "            \"label match\": (baseline_labels[k] == _labels[k]).mean(),\n",
    "            \"frame mse\": ((baseline_frames[k] - _frames[k]) ** 2).mean(),\n",
    "            \"pc mse\": ((baseline_pcs[k][:, :npcs] - _pcs[k][:, :npcs]) ** 2).mean(),\n",
    "            \"jitter value\": scale,\n",
    "            \"type\": k,\n",
    "            \"jitter type\": \"rotation\",\n",
    "        }\n",
    "        new_dcts.append(dct)"
   ]
  },
  {
   "cell_type": "markdown",
   "metadata": {},
   "source": [
    "## Pixel noise"
   ]
  },
  {
   "cell_type": "code",
   "execution_count": 37,
   "metadata": {},
   "outputs": [],
   "source": [
    "scale_steps = np.linspace(0, 20, 21)"
   ]
  },
  {
   "cell_type": "code",
   "execution_count": 38,
   "metadata": {},
   "outputs": [
    {
     "data": {
      "application/vnd.jupyter.widget-view+json": {
       "model_id": "2254c598260446d58f3e06c85c9f086e",
       "version_major": 2,
       "version_minor": 0
      },
      "text/plain": [
       "  0%|          | 0/21 [00:00<?, ?it/s]"
      ]
     },
     "metadata": {},
     "output_type": "display_data"
    }
   ],
   "source": [
    "# for each step collect both raw and autoencoded\n",
    "delays = []\n",
    "for step in tqdm(scale_steps):\n",
    "    tmp = jitter_frames(\n",
    "        frames[\"offline\"][frame_range],\n",
    "        jitter_position=(0, 0),\n",
    "        jitter_rotation=0,\n",
    "        jitter_pixel=step,\n",
    "        jitter_scale=(1, 1, 1),\n",
    "    )\n",
    "    delays.append(use_delayed(autoencode_frames_and_predict)(realtime_package, tmp))"
   ]
  },
  {
   "cell_type": "code",
   "execution_count": null,
   "metadata": {},
   "outputs": [],
   "source": [
    "results = process_delays(delays)"
   ]
  },
  {
   "cell_type": "code",
   "execution_count": 40,
   "metadata": {},
   "outputs": [],
   "source": [
    "baseline_labels, baseline_frames, baseline_pcs = results[0]\n",
    "for i, (scale, (_labels, _frames, _pcs)) in enumerate(\n",
    "    zip(scale_steps[1:], results[1:])\n",
    "):\n",
    "    for k in _labels.keys():\n",
    "        dct = {\n",
    "            \"label match\": (baseline_labels[k] == _labels[k]).mean(),\n",
    "            \"frame mse\": ((baseline_frames[k] - _frames[k]) ** 2).mean(),\n",
    "            \"pc mse\": ((baseline_pcs[k][:, :npcs] - _pcs[k][:, :npcs]) ** 2).mean(),\n",
    "            \"jitter value\": scale,\n",
    "            \"type\": k,\n",
    "            \"jitter type\": \"pixel noise\",\n",
    "        }\n",
    "        new_dcts.append(dct)"
   ]
  },
  {
   "cell_type": "markdown",
   "metadata": {},
   "source": [
    "## Position jitter (x and y)"
   ]
  },
  {
   "cell_type": "code",
   "execution_count": 41,
   "metadata": {},
   "outputs": [],
   "source": [
    "scale_steps = np.linspace(-8, 8, 17)\n",
    "scale_steps = list(itertools.product(scale_steps, scale_steps))"
   ]
  },
  {
   "cell_type": "code",
   "execution_count": 42,
   "metadata": {},
   "outputs": [
    {
     "data": {
      "application/vnd.jupyter.widget-view+json": {
       "model_id": "3249ea6a115b40fe8a23285b54a0892e",
       "version_major": 2,
       "version_minor": 0
      },
      "text/plain": [
       "  0%|          | 0/289 [00:00<?, ?it/s]"
      ]
     },
     "metadata": {},
     "output_type": "display_data"
    }
   ],
   "source": [
    "# for each step collect both raw and autoencoded\n",
    "delays = []\n",
    "for (step_x, step_y) in tqdm(scale_steps):\n",
    "    tmp = jitter_frames(\n",
    "        frames[\"offline\"][frame_range],\n",
    "        jitter_position=(step_x, step_y),\n",
    "        jitter_rotation=0,\n",
    "        jitter_pixel=0,\n",
    "        jitter_scale=(1, 1, 1),\n",
    "    )\n",
    "    delays.append(use_delayed(autoencode_frames_and_predict)(realtime_package, tmp))"
   ]
  },
  {
   "cell_type": "code",
   "execution_count": null,
   "metadata": {},
   "outputs": [],
   "source": [
    "results = process_delays(delays)"
   ]
  },
  {
   "cell_type": "code",
   "execution_count": 44,
   "metadata": {},
   "outputs": [],
   "source": [
    "baseline_labels, baseline_frames, baseline_pcs = results[\n",
    "    np.where([_ == (0, 0) for _ in scale_steps])[0][0]\n",
    "]\n",
    "for i, ((scale_x, scale_y), (_labels, _frames, _pcs)) in enumerate(\n",
    "    zip(scale_steps, results)\n",
    "):\n",
    "    for k, v in _labels.items():\n",
    "        dct = {\n",
    "            \"label match\": (baseline_labels[k] == _labels[k]).mean(),\n",
    "            \"frame mse\": ((baseline_frames[k] - _frames[k]) ** 2).mean(),\n",
    "            \"pc mse\": ((baseline_pcs[k][:, :npcs] - _pcs[k][:, :npcs]) ** 2).mean(),\n",
    "            \"jitter value\": scale_x,\n",
    "            \"jitter value 2\": scale_y,\n",
    "            \"type\": k,\n",
    "            \"jitter type\": \"jitter\",\n",
    "        }\n",
    "        new_dcts.append(dct)"
   ]
  },
  {
   "cell_type": "code",
   "execution_count": 45,
   "metadata": {},
   "outputs": [],
   "source": [
    "df = pd.DataFrame(new_dcts)"
   ]
  },
  {
   "cell_type": "code",
   "execution_count": 46,
   "metadata": {},
   "outputs": [
    {
     "data": {
      "text/html": [
       "<div>\n",
       "<style scoped>\n",
       "    .dataframe tbody tr th:only-of-type {\n",
       "        vertical-align: middle;\n",
       "    }\n",
       "\n",
       "    .dataframe tbody tr th {\n",
       "        vertical-align: top;\n",
       "    }\n",
       "\n",
       "    .dataframe thead th {\n",
       "        text-align: right;\n",
       "    }\n",
       "</style>\n",
       "<table border=\"1\" class=\"dataframe\">\n",
       "  <thead>\n",
       "    <tr style=\"text-align: right;\">\n",
       "      <th></th>\n",
       "      <th>label match</th>\n",
       "      <th>frame mse</th>\n",
       "      <th>pc mse</th>\n",
       "      <th>jitter value</th>\n",
       "      <th>type</th>\n",
       "      <th>jitter type</th>\n",
       "      <th>jitter value 2</th>\n",
       "    </tr>\n",
       "  </thead>\n",
       "  <tbody>\n",
       "    <tr>\n",
       "      <th>0</th>\n",
       "      <td>0.0</td>\n",
       "      <td>37.905605</td>\n",
       "      <td>3.488390</td>\n",
       "      <td>0.100000</td>\n",
       "      <td>ae</td>\n",
       "      <td>scale</td>\n",
       "      <td>NaN</td>\n",
       "    </tr>\n",
       "    <tr>\n",
       "      <th>1</th>\n",
       "      <td>0.0</td>\n",
       "      <td>10.427104</td>\n",
       "      <td>12.436630</td>\n",
       "      <td>0.100000</td>\n",
       "      <td>raw</td>\n",
       "      <td>scale</td>\n",
       "      <td>NaN</td>\n",
       "    </tr>\n",
       "    <tr>\n",
       "      <th>2</th>\n",
       "      <td>0.0</td>\n",
       "      <td>40.088398</td>\n",
       "      <td>3.808555</td>\n",
       "      <td>0.130380</td>\n",
       "      <td>ae</td>\n",
       "      <td>scale</td>\n",
       "      <td>NaN</td>\n",
       "    </tr>\n",
       "    <tr>\n",
       "      <th>3</th>\n",
       "      <td>0.0</td>\n",
       "      <td>10.420596</td>\n",
       "      <td>12.437124</td>\n",
       "      <td>0.130380</td>\n",
       "      <td>raw</td>\n",
       "      <td>scale</td>\n",
       "      <td>NaN</td>\n",
       "    </tr>\n",
       "    <tr>\n",
       "      <th>4</th>\n",
       "      <td>0.0</td>\n",
       "      <td>44.146496</td>\n",
       "      <td>4.473102</td>\n",
       "      <td>0.160759</td>\n",
       "      <td>ae</td>\n",
       "      <td>scale</td>\n",
       "      <td>NaN</td>\n",
       "    </tr>\n",
       "  </tbody>\n",
       "</table>\n",
       "</div>"
      ],
      "text/plain": [
       "   label match  frame mse     pc mse  jitter value type jitter type  \\\n",
       "0          0.0  37.905605   3.488390      0.100000   ae       scale   \n",
       "1          0.0  10.427104  12.436630      0.100000  raw       scale   \n",
       "2          0.0  40.088398   3.808555      0.130380   ae       scale   \n",
       "3          0.0  10.420596  12.437124      0.130380  raw       scale   \n",
       "4          0.0  44.146496   4.473102      0.160759   ae       scale   \n",
       "\n",
       "   jitter value 2  \n",
       "0             NaN  \n",
       "1             NaN  \n",
       "2             NaN  \n",
       "3             NaN  \n",
       "4             NaN  "
      ]
     },
     "execution_count": 46,
     "metadata": {},
     "output_type": "execute_result"
    }
   ],
   "source": [
    "df.head()"
   ]
  },
  {
   "cell_type": "code",
   "execution_count": 47,
   "metadata": {},
   "outputs": [],
   "source": [
    "# make a heatmap"
   ]
  },
  {
   "cell_type": "code",
   "execution_count": 48,
   "metadata": {},
   "outputs": [],
   "source": [
    "client.close()\n",
    "# cluster.close()"
   ]
  },
  {
   "cell_type": "code",
   "execution_count": 50,
   "metadata": {},
   "outputs": [],
   "source": [
    "df.to_parquet(\n",
    "    os.path.join(\n",
    "        proc_dirs[\"misc\"], \"autoencoder_characterization.parquet\"\n",
    "    )\n",
    ")"
   ]
  },
  {
   "cell_type": "markdown",
   "metadata": {},
   "source": [
    "# Load in processed results and plot"
   ]
  },
  {
   "cell_type": "code",
   "execution_count": 51,
   "metadata": {},
   "outputs": [],
   "source": [
    "df = pd.read_parquet(\n",
    "    os.path.join(\n",
    "        proc_dirs[\"misc\"], \"autoencoder_characterization.parquet\"\n",
    "    )\n",
    ")"
   ]
  },
  {
   "cell_type": "code",
   "execution_count": 52,
   "metadata": {},
   "outputs": [],
   "source": [
    "df[\"label match\"] = 1 - df[\"label match\"]"
   ]
  },
  {
   "cell_type": "code",
   "execution_count": 53,
   "metadata": {},
   "outputs": [],
   "source": [
    "_tmp = df.melt(id_vars=[\"type\", \"jitter type\", \"jitter value\", \"jitter value 2\"])"
   ]
  },
  {
   "cell_type": "code",
   "execution_count": 54,
   "metadata": {},
   "outputs": [
    {
     "data": {
      "text/plain": [
       "array(['label match', 'frame mse', 'pc mse'], dtype=object)"
      ]
     },
     "execution_count": 54,
     "metadata": {},
     "output_type": "execute_result"
    }
   ],
   "source": [
    "_tmp[\"variable\"].unique()"
   ]
  },
  {
   "cell_type": "code",
   "execution_count": 55,
   "metadata": {},
   "outputs": [],
   "source": [
    "fig_dct = {\n",
    "    \"font.size\": 7,\n",
    "    \"axes.titlesize\": 7,\n",
    "    \"axes.labelsize\": 7,\n",
    "    \"xtick.labelsize\": 7,\n",
    "    \"ytick.labelsize\": 7,\n",
    "}"
   ]
  },
  {
   "cell_type": "code",
   "execution_count": 58,
   "metadata": {},
   "outputs": [
    {
     "name": "stderr",
     "output_type": "stream",
     "text": [
      "/home/markowitzmeister_gmail_com/miniconda3/envs/mouse-rt-simulate-gpu/lib/python3.7/site-packages/seaborn/axisgrid.py:118: UserWarning: This figure includes Axes that are not compatible with tight_layout, so results might be incorrect.\n",
      "  self._figure.tight_layout(*args, **kwargs)\n",
      "/home/markowitzmeister_gmail_com/miniconda3/envs/mouse-rt-simulate-gpu/lib/python3.7/site-packages/seaborn/axisgrid.py:848: FutureWarning: \n",
      "\n",
      "The `ci` parameter is deprecated. Use `errorbar=None` for the same effect.\n",
      "\n",
      "  func(*plot_args, **plot_kwargs)\n",
      "/home/markowitzmeister_gmail_com/miniconda3/envs/mouse-rt-simulate-gpu/lib/python3.7/site-packages/seaborn/axisgrid.py:848: FutureWarning: \n",
      "\n",
      "The `ci` parameter is deprecated. Use `errorbar=None` for the same effect.\n",
      "\n",
      "  func(*plot_args, **plot_kwargs)\n",
      "/home/markowitzmeister_gmail_com/miniconda3/envs/mouse-rt-simulate-gpu/lib/python3.7/site-packages/seaborn/axisgrid.py:848: FutureWarning: \n",
      "\n",
      "The `ci` parameter is deprecated. Use `errorbar=None` for the same effect.\n",
      "\n",
      "  func(*plot_args, **plot_kwargs)\n",
      "/home/markowitzmeister_gmail_com/miniconda3/envs/mouse-rt-simulate-gpu/lib/python3.7/site-packages/seaborn/axisgrid.py:848: FutureWarning: \n",
      "\n",
      "The `ci` parameter is deprecated. Use `errorbar=None` for the same effect.\n",
      "\n",
      "  func(*plot_args, **plot_kwargs)\n",
      "/home/markowitzmeister_gmail_com/miniconda3/envs/mouse-rt-simulate-gpu/lib/python3.7/site-packages/seaborn/axisgrid.py:118: UserWarning: This figure includes Axes that are not compatible with tight_layout, so results might be incorrect.\n",
      "  self._figure.tight_layout(*args, **kwargs)\n"
     ]
    },
    {
     "data": {
      "image/png": "[encoded data removed]",
      "text/plain": [
       "<Figure size 375.75x250 with 4 Axes>"
      ]
     },
     "metadata": {},
     "output_type": "display_data"
    }
   ],
   "source": [
    "g = sns.FacetGrid(\n",
    "    data=_tmp,\n",
    "    col=\"jitter type\",\n",
    "    col_order=[\n",
    "        \"scale\",\n",
    "        \"rotation\",\n",
    "    ],\n",
    "    row=\"variable\",\n",
    "    row_order=[\"label match\", \"frame mse\"],\n",
    "    sharey=\"row\",\n",
    "    margin_titles=True,\n",
    "    sharex=\"col\",\n",
    "    gridspec_kws={\"wspace\": 0.1, \"hspace\": 0.1},\n",
    ")\n",
    "g.map(\n",
    "    sns.lineplot,\n",
    "    \"jitter value\",\n",
    "    \"value\",\n",
    "    \"type\",\n",
    "    ci=None,\n",
    "    hue_order=[\"raw\", \"ae\"],\n",
    "    estimator=np.nanmean,\n",
    "    #         palette=colors_syllables,\n",
    ")\n",
    "for ax in g.axes.flat:\n",
    "    plt.setp(ax.texts, text=\"\")\n",
    "g.set_titles(row_template=\"{row_name}\", col_template=\"{col_name}\")\n",
    "g.fig.set_size_inches(3, 2.5)\n",
    "g.add_legend()\n",
    "for ax in g.axes[0]:\n",
    "    if ax.get_title() != \"rotation\":\n",
    "        ax.set_xlim(0.6, 1.4)\n",
    "    else:\n",
    "        ax.set_xlim(-25, 25)\n",
    "for ax in g.axes[1]:\n",
    "    ax.set_ylim(0, 20)\n",
    "savefig(\n",
    "    g.fig,\n",
    "    os.path.join(figure_cfg[\"store_dir\"], \"ae_scale_rotation_profile\"),\n",
    "    bbox_inches=\"tight\",\n",
    ")"
   ]
  },
  {
   "cell_type": "code",
   "execution_count": 59,
   "metadata": {},
   "outputs": [
    {
     "data": {
      "image/png": "[encoded data removed]",
      "text/plain": [
       "<Figure size 300x300 with 3 Axes>"
      ]
     },
     "metadata": {},
     "output_type": "display_data"
    }
   ],
   "source": [
    "fig, ax = plt.subplots(1, 2, figsize=(3, 3), sharex=True, sharey=True)\n",
    "cbar_ax = fig.add_axes([0.99, 0.3, 0.02, 0.3])\n",
    "sns.heatmap(\n",
    "    data=df[(df[\"jitter type\"] == \"jitter\") & (df[\"type\"] == \"raw\")].pivot_table(\n",
    "        index=\"jitter value 2\", columns=\"jitter value\", values=\"label match\"\n",
    "    ),\n",
    "    vmin=0,\n",
    "    vmax=1,\n",
    "    ax=ax[0],\n",
    "    xticklabels=4,\n",
    "    yticklabels=4,\n",
    "    cbar=True,\n",
    "    square=True,\n",
    "    rasterized=True,\n",
    "    cbar_ax=cbar_ax,\n",
    ")\n",
    "sns.heatmap(\n",
    "    data=df[(df[\"jitter type\"] == \"jitter\") & (df[\"type\"] == \"ae\")].pivot_table(\n",
    "        index=\"jitter value 2\", columns=\"jitter value\", values=\"label match\"\n",
    "    ),\n",
    "    vmin=0,\n",
    "    cbar=False,\n",
    "    cbar_ax=None,\n",
    "    xticklabels=4,\n",
    "    yticklabels=4,\n",
    "    square=True,\n",
    "    rasterized=True,\n",
    "    vmax=1,\n",
    "    ax=ax[1],\n",
    ")\n",
    "ax[0].invert_yaxis()\n",
    "ax[1].invert_yaxis()\n",
    "ax[1].set_ylabel(\"\")\n",
    "\n",
    "# ax[0].set_box_aspect(1)\n",
    "# ax[1].set_box_aspect(1)\n",
    "\n",
    "\n",
    "# ax[1].set_yticks([])\n",
    "fig.subplots_adjust(wspace=0.1)\n",
    "# ax[0].axis(\"equal\")\n",
    "\n",
    "plt.show()\n",
    "savefig(\n",
    "    fig,\n",
    "    os.path.join(figure_cfg[\"store_dir\"], \"ae_robustness_position_label_match\"),\n",
    "    bbox_inches=\"tight\",\n",
    ")"
   ]
  },
  {
   "cell_type": "code",
   "execution_count": 60,
   "metadata": {},
   "outputs": [
    {
     "data": {
      "image/png": "[encoded data removed]",
      "text/plain": [
       "<Figure size 300x300 with 3 Axes>"
      ]
     },
     "metadata": {},
     "output_type": "display_data"
    }
   ],
   "source": [
    "fig, ax = plt.subplots(1, 2, figsize=(3, 3), sharex=True, sharey=True)\n",
    "cbar_ax = fig.add_axes([0.99, 0.3, 0.02, 0.3])\n",
    "im = sns.heatmap(\n",
    "    data=df[(df[\"jitter type\"] == \"jitter\") & (df[\"type\"] == \"raw\")].pivot_table(\n",
    "        index=\"jitter value 2\", columns=\"jitter value\", values=\"frame mse\"\n",
    "    ),\n",
    "    vmin=0,\n",
    "    vmax=20,\n",
    "    ax=ax[0],\n",
    "    xticklabels=4,\n",
    "    yticklabels=4,\n",
    "    square=True,\n",
    "    rasterized=True,\n",
    "    cbar=True,\n",
    "    cbar_ax=cbar_ax,\n",
    ")\n",
    "sns.heatmap(\n",
    "    data=df[(df[\"jitter type\"] == \"jitter\") & (df[\"type\"] == \"ae\")].pivot_table(\n",
    "        index=\"jitter value 2\", columns=\"jitter value\", values=\"frame mse\"\n",
    "    ),\n",
    "    vmin=0,\n",
    "    cbar=False,\n",
    "    cbar_ax=None,\n",
    "    xticklabels=4,\n",
    "    yticklabels=4,\n",
    "    square=True,\n",
    "    rasterized=True,\n",
    "    vmax=20,\n",
    "    ax=ax[1],\n",
    ")\n",
    "ax[0].invert_yaxis()\n",
    "ax[1].invert_yaxis()\n",
    "ax[1].set_ylabel(\"\")\n",
    "# ticks = [-8, 0, 8]\n",
    "\n",
    "# ax[0].set_box_aspect(1)\n",
    "# ax[1].set_box_aspect(1)\n",
    "\n",
    "fig.subplots_adjust(wspace=0.1)\n",
    "# ax[0].axis(\"equal\")\n",
    "plt.show()\n",
    "\n",
    "savefig(\n",
    "    fig,\n",
    "    os.path.join(figure_cfg[\"store_dir\"], \"ae_robustness_position_frame_mse\"),\n",
    "    bbox_inches=\"tight\",\n",
    ")"
   ]
  },
  {
   "cell_type": "code",
   "execution_count": null,
   "metadata": {},
   "outputs": [],
   "source": []
  }
 ],
 "metadata": {
  "kernelspec": {
   "display_name": "Python [conda env:mouse-rt-simulate-gpu]",
   "language": "python",
   "name": "conda-env-mouse-rt-simulate-gpu-py"
  },
  "language_info": {
   "codemirror_mode": {
    "name": "ipython",
    "version": 3
   },
   "file_extension": ".py",
   "mimetype": "text/x-python",
   "name": "python",
   "nbconvert_exporter": "python",
   "pygments_lexer": "ipython3",
   "version": "3.7.13"
  },
  "toc": {
   "base_numbering": 1,
   "nav_menu": {},
   "number_sections": true,
   "sideBar": true,
   "skip_h1_title": false,
   "title_cell": "Table of Contents",
   "title_sidebar": "Contents",
   "toc_cell": false,
   "toc_position": {},
   "toc_section_display": true,
   "toc_window_display": true
  }
 },
 "nbformat": 4,
 "nbformat_minor": 4
}
