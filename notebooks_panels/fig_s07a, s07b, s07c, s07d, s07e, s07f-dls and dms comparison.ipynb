{
 "cells": [
  {
   "cell_type": "code",
   "execution_count": 1,
   "metadata": {},
   "outputs": [],
   "source": [
    "%load_ext autoreload\n",
    "%autoreload 2\n",
    "%matplotlib inline"
   ]
  },
  {
   "cell_type": "code",
   "execution_count": 2,
   "metadata": {},
   "outputs": [],
   "source": [
    "from tqdm.auto import tqdm\n",
    "from rl_analysis.plotting import (\n",
    "    setup_plotting_env,\n",
    "    geno_palette,\n",
    "    clean_ticks,\n",
    "    savefig\n",
    ")\n",
    "from rl_analysis.photometry.signal import get_crossings, get_ncrossings\n",
    "from rl_analysis.io.df import dlight_exclude_toml\n",
    "import pandas as pd\n",
    "import matplotlib.pyplot as plt\n",
    "import numpy as np\n",
    "import itertools\n",
    "import os\n",
    "import seaborn as sns\n",
    "import joblib"
   ]
  },
  {
   "cell_type": "code",
   "execution_count": 3,
   "metadata": {},
   "outputs": [],
   "source": [
    "from scipy.stats import mannwhitneyu\n",
    "from statsmodels.stats.multitest import multipletests"
   ]
  },
  {
   "cell_type": "code",
   "execution_count": 4,
   "metadata": {},
   "outputs": [],
   "source": [
    "threshold = 0\n",
    "schmitt = 3\n",
    "schmitt_threshold = 0.25 * threshold"
   ]
  },
  {
   "cell_type": "code",
   "execution_count": 5,
   "metadata": {},
   "outputs": [],
   "source": [
    "import toml\n",
    "\n",
    "with open(\"../analysis_configuration.toml\", \"r\") as f:\n",
    "    analysis_config = toml.load(f)"
   ]
  },
  {
   "cell_type": "code",
   "execution_count": 6,
   "metadata": {},
   "outputs": [],
   "source": [
    "raw_dirs = analysis_config[\"raw_data\"]\n",
    "proc_dirs = analysis_config[\"intermediate_results\"]\n",
    "lagged_cfg = analysis_config[\"dlight_lagged_correlations\"]\n",
    "dlight_cfg = analysis_config[\"dlight_common\"]\n",
    "figure_cfg = analysis_config[\"figures\"]"
   ]
  },
  {
   "cell_type": "code",
   "execution_count": 7,
   "metadata": {},
   "outputs": [],
   "source": [
    "use_dct = dlight_exclude_toml(\n",
    "    os.path.join(raw_dirs[\"dlight\"], \"dlight_photometry_processed_full.toml\"),\n",
    "    **dlight_cfg\n",
    ")"
   ]
  },
  {
   "cell_type": "code",
   "execution_count": 8,
   "metadata": {},
   "outputs": [],
   "source": [
    "df_filtered = pd.read_parquet(\n",
    "    os.path.join(raw_dirs[\"dlight\"], \"dlight_photometry_processed_full.parquet\"),\n",
    "    filters=[(\"uuid\", \"in\", list(use_dct.keys()))],\n",
    ").sort_index()"
   ]
  },
  {
   "cell_type": "code",
   "execution_count": 9,
   "metadata": {},
   "outputs": [],
   "source": [
    "df_filtered[\"area\"] = df_filtered[\"area\"].astype(\"str\")\n",
    "df_filtered[\"mouse_id\"] = df_filtered[\"mouse_id\"].astype(\"str\")"
   ]
  },
  {
   "cell_type": "markdown",
   "metadata": {
    "tags": []
   },
   "source": [
    "# Basic stats"
   ]
  },
  {
   "cell_type": "code",
   "execution_count": 10,
   "metadata": {},
   "outputs": [],
   "source": [
    "threshold = 1"
   ]
  },
  {
   "cell_type": "code",
   "execution_count": 11,
   "metadata": {},
   "outputs": [],
   "source": [
    "def get_transient_rate(df):\n",
    "    return get_ncrossings(\n",
    "        df,\n",
    "        threshold=threshold,\n",
    "        schmitt=3,\n",
    "        schmitt_threshold=0.25 * threshold,\n",
    "    )"
   ]
  },
  {
   "cell_type": "code",
   "execution_count": 12,
   "metadata": {},
   "outputs": [],
   "source": [
    "def get_transient_loc(df):\n",
    "    return get_crossings(\n",
    "        df.to_numpy(),\n",
    "        threshold=threshold,\n",
    "        schmitt=3,\n",
    "        schmitt_threshold=0.25 * threshold,\n",
    "    )"
   ]
  },
  {
   "cell_type": "code",
   "execution_count": 13,
   "metadata": {},
   "outputs": [],
   "source": [
    "df_filtered[\"time_bin\"] = pd.cut(\n",
    "    df_filtered[\"timestamp\"], np.arange(0, 1805, 300), labels=False\n",
    ")"
   ]
  },
  {
   "cell_type": "code",
   "execution_count": 14,
   "metadata": {},
   "outputs": [],
   "source": [
    "transient_rate = (\n",
    "    df_filtered.set_index(\"timestamp\")\n",
    "    .groupby([\"area\", \"mouse_id\", \"uuid\", \"time_bin\"])[\"signal_reref_dff_z\"]\n",
    "    .agg(get_transient_rate)\n",
    "    .rename(\"rate\")\n",
    ")"
   ]
  },
  {
   "cell_type": "code",
   "execution_count": 15,
   "metadata": {},
   "outputs": [],
   "source": [
    "df_filtered[\"is_transient\"] = (\n",
    "    df_filtered.groupby([\"area\", \"mouse_id\", \"uuid\"])[\"signal_reref_dff_z\"]\n",
    "    .transform(get_transient_loc)\n",
    "    .rename(\"crossings\")\n",
    ")"
   ]
  },
  {
   "cell_type": "code",
   "execution_count": 16,
   "metadata": {},
   "outputs": [],
   "source": [
    "peak_locs = df_filtered.groupby([\"area\", \"mouse_id\", \"uuid\"])[\"is_transient\"].apply(\n",
    "    lambda x: np.flatnonzero(x > 0)\n",
    ")"
   ]
  },
  {
   "cell_type": "code",
   "execution_count": 17,
   "metadata": {},
   "outputs": [],
   "source": [
    "def get_windows(data, index, peak_locs=peak_locs, window=(90, 90)):\n",
    "    grab_indices = peak_locs.loc[index]\n",
    "    grab_indices = grab_indices[\n",
    "        (grab_indices > window[0]) & (grab_indices < (len(data) - window[1]))\n",
    "    ]\n",
    "    vec_grab = grab_indices[:, None] + np.arange(-window[0], window[1])\n",
    "    return data.values[vec_grab]"
   ]
  },
  {
   "cell_type": "code",
   "execution_count": 18,
   "metadata": {},
   "outputs": [],
   "source": [
    "def add_time_axis(data, threshold=0.03, fs=30.0):\n",
    "    # use turning point (i.e. where the curve starts to take off prior to the peak)\n",
    "    slope = np.insert(data[2:] - data[:-2], 0, [np.nan] * 2)\n",
    "    peak_loc = np.argmax(data)\n",
    "\n",
    "    for i in range(peak_loc - 2, 0, -1):\n",
    "        if slope[i] < threshold:\n",
    "            break\n",
    "\n",
    "    new_index = np.arange(-i, len(data) - i)\n",
    "    return pd.Series(data=data, index=new_index / fs)"
   ]
  },
  {
   "cell_type": "code",
   "execution_count": 19,
   "metadata": {},
   "outputs": [],
   "source": [
    "def get_fwhm(values, fs=30.0, interpolate_fs=500.0):\n",
    "    from scipy import interpolate\n",
    "\n",
    "    if interpolate_fs is not None:\n",
    "        x = np.arange(len(values)) / fs\n",
    "        y = values.to_numpy()\n",
    "        f = interpolate.interp1d(x, y, kind=\"cubic\")\n",
    "\n",
    "        new_period = 1 / interpolate_fs\n",
    "        nsteps = np.round(x[-1] / new_period).astype(\"int\")\n",
    "        newx = np.linspace(x[0], x[-1], nsteps)\n",
    "        newy = f(newx)\n",
    "        values = newy\n",
    "        use_fs = interpolate_fs\n",
    "    else:\n",
    "        values = values.values\n",
    "        use_fs = fs\n",
    "\n",
    "    idxmax = np.argmax(values)\n",
    "    maxval = values[idxmax]\n",
    "\n",
    "    for i in range(idxmax, 0, -1):\n",
    "        if values[i] <= 0.5 * maxval:\n",
    "            break\n",
    "\n",
    "    left_idx = i\n",
    "\n",
    "    for i in range(idxmax, len(values)):\n",
    "        if values[i] <= 0.5 * maxval:\n",
    "            break\n",
    "\n",
    "    right_idx = i\n",
    "    return (right_idx - left_idx) / use_fs"
   ]
  },
  {
   "cell_type": "code",
   "execution_count": 20,
   "metadata": {},
   "outputs": [],
   "source": [
    "tqdm.pandas()"
   ]
  },
  {
   "cell_type": "code",
   "execution_count": 21,
   "metadata": {},
   "outputs": [
    {
     "data": {
      "application/vnd.jupyter.widget-view+json": {
       "model_id": "51a9cddbbd3243ebbf0af4181a3e9f93",
       "version_major": 2,
       "version_minor": 0
      },
      "text/plain": [
       "  0%|          | 0/442 [00:00<?, ?it/s]"
      ]
     },
     "metadata": {},
     "output_type": "display_data"
    },
    {
     "name": "stderr",
     "output_type": "stream",
     "text": [
      "/tmp/ipykernel_1554882/2853326471.py:5: RuntimeWarning: Mean of empty slice\n",
      "  lambda x: np.nanmean(x, axis=0)\n"
     ]
    }
   ],
   "source": [
    "peak_triggered_windows = df_filtered.groupby([\"area\", \"mouse_id\", \"uuid\"])[\n",
    "    \"signal_reref_dff_z\"\n",
    "].progress_apply(lambda x: get_windows(x, x.name))\n",
    "peak_triggered_window_averages = peak_triggered_windows.apply(\n",
    "    lambda x: np.nanmean(x, axis=0)\n",
    ")\n",
    "mouse_averages = (\n",
    "    peak_triggered_window_averages.groupby([\"area\", \"mouse_id\"]).mean().dropna()\n",
    ")"
   ]
  },
  {
   "cell_type": "code",
   "execution_count": 22,
   "metadata": {},
   "outputs": [],
   "source": [
    "realigned_mouse_averages = (\n",
    "    mouse_averages.apply(lambda x: add_time_axis(x, threshold=0.035))\n",
    "    .melt(ignore_index=False, var_name=\"x\")\n",
    "    .set_index(\"x\", append=True)\n",
    ")"
   ]
  },
  {
   "cell_type": "code",
   "execution_count": 23,
   "metadata": {},
   "outputs": [],
   "source": [
    "auc = (\n",
    "    realigned_mouse_averages.loc[\n",
    "        (realigned_mouse_averages.index.get_level_values(\"x\") >= 0)\n",
    "        & (realigned_mouse_averages.index.get_level_values(\"x\") <= 2)\n",
    "    ]\n",
    "    .groupby([\"area\", \"mouse_id\"], observed=True)[\"value\"]\n",
    "    .apply(lambda x: np.trapz(x.to_numpy()))\n",
    "    .rename(\"auc\")\n",
    ")\n",
    "\n",
    "idxmax = (\n",
    "    realigned_mouse_averages.loc[\n",
    "        (realigned_mouse_averages.index.get_level_values(\"x\") >= 0)\n",
    "        & (realigned_mouse_averages.index.get_level_values(\"x\") <= 2)\n",
    "    ]\n",
    "    .groupby([\"area\", \"mouse_id\"], observed=True)[\"value\"]\n",
    "    .apply(lambda x: x.index.get_level_values(\"x\")[np.argmax(x)])\n",
    "    .rename(\"time_to_peak\")\n",
    ")\n",
    "\n",
    "fwhm = (\n",
    "    realigned_mouse_averages.loc[\n",
    "        (realigned_mouse_averages.index.get_level_values(\"x\") >= 0)\n",
    "        & (realigned_mouse_averages.index.get_level_values(\"x\") <= 2)\n",
    "    ]\n",
    "    .groupby([\"area\", \"mouse_id\"], observed=True)[\"value\"]\n",
    "    .apply(get_fwhm)\n",
    "    .rename(\"fwhm\")\n",
    ")"
   ]
  },
  {
   "cell_type": "code",
   "execution_count": 24,
   "metadata": {},
   "outputs": [],
   "source": [
    "da_rate = transient_rate.dropna().groupby([\"area\", \"mouse_id\"], observed=True).median().rename(\"da_rate\")\n",
    "da_stats = pd.concat([auc, idxmax, fwhm, da_rate], axis=1)"
   ]
  },
  {
   "cell_type": "code",
   "execution_count": 25,
   "metadata": {},
   "outputs": [],
   "source": [
    "ref = da_stats.loc[\"dls\"].median()\n",
    "fold_da_stats = 1e2 * ((da_stats - ref) / ref)\n",
    "melt_stats = da_stats.melt(ignore_index=False)"
   ]
  },
  {
   "cell_type": "code",
   "execution_count": 26,
   "metadata": {},
   "outputs": [],
   "source": [
    "setup_plotting_env()"
   ]
  },
  {
   "cell_type": "code",
   "execution_count": 27,
   "metadata": {},
   "outputs": [],
   "source": [
    "aliases = {\n",
    "    \"auc\": \"Area under the curve\",\n",
    "    \"time_to_peak\": \"Time to peak (s)\",\n",
    "    \"fwhm\": \"Full-width\\nhalf-max (s)\",\n",
    "    \"da_rate\": \"Transient rate (Hz)\",\n",
    "}"
   ]
  },
  {
   "cell_type": "code",
   "execution_count": 29,
   "metadata": {},
   "outputs": [],
   "source": [
    "fold_melt_stats = fold_da_stats.melt(ignore_index=False)"
   ]
  },
  {
   "cell_type": "code",
   "execution_count": 30,
   "metadata": {},
   "outputs": [
    {
     "data": {
      "image/png": "[encoded data removed]",
      "text/plain": [
       "<Figure size 900x300 with 4 Axes>"
      ]
     },
     "metadata": {},
     "output_type": "display_data"
    }
   ],
   "source": [
    "g = sns.catplot(\n",
    "    data=fold_melt_stats.reset_index(),\n",
    "    x=\"area\",\n",
    "    height=1.5,\n",
    "    aspect=0.75,\n",
    "    y=\"value\",\n",
    "    col=\"variable\",\n",
    "    kind=\"box\",\n",
    "    showfliers=False,\n",
    "    showcaps=False,\n",
    "    sharey=False,\n",
    ")\n",
    "g.set_titles(col_template=\"{col_name}\")\n",
    "g.set_axis_labels(\"\", \"\")\n",
    "for _ax in g.axes.ravel():\n",
    "    _ax.set_ylabel(aliases.get(_ax.get_title()))\n",
    "    _ax.set_title(\"\")\n",
    "    _ax.axhline(\n",
    "        y=0,\n",
    "        zorder=-300,\n",
    "        color=plt.rcParams[\"axes.edgecolor\"],\n",
    "        alpha=0.5,\n",
    "        ls=\"--\",\n",
    "        dashes=(1, 0.5),\n",
    "    )\n",
    "\n",
    "for _ax in g.axes.ravel():\n",
    "    clean_ticks(_ax, \"y\", zero_symmetry=False, precision=-1, dtype=int)\n",
    "g.fig.suptitle(\"Percent change relative to DLS\")\n",
    "g.fig.tight_layout()\n",
    "savefig(\n",
    "    g.fig,\n",
    "    os.path.join(figure_cfg[\"store_dir\"], \"dls_vs_dms_basicfeatures_percent_change\"),\n",
    ")"
   ]
  },
  {
   "cell_type": "code",
   "execution_count": 31,
   "metadata": {},
   "outputs": [
    {
     "data": {
      "text/html": [
       "<div>\n",
       "<style scoped>\n",
       "    .dataframe tbody tr th:only-of-type {\n",
       "        vertical-align: middle;\n",
       "    }\n",
       "\n",
       "    .dataframe tbody tr th {\n",
       "        vertical-align: top;\n",
       "    }\n",
       "\n",
       "    .dataframe thead th {\n",
       "        text-align: right;\n",
       "    }\n",
       "</style>\n",
       "<table border=\"1\" class=\"dataframe\">\n",
       "  <thead>\n",
       "    <tr style=\"text-align: right;\">\n",
       "      <th></th>\n",
       "      <th></th>\n",
       "      <th>value</th>\n",
       "    </tr>\n",
       "    <tr>\n",
       "      <th>mouse_id</th>\n",
       "      <th>variable</th>\n",
       "      <th></th>\n",
       "    </tr>\n",
       "  </thead>\n",
       "  <tbody>\n",
       "    <tr>\n",
       "      <th rowspan=\"4\" valign=\"top\">dms-dlight-1</th>\n",
       "      <th>auc</th>\n",
       "      <td>4.219673</td>\n",
       "    </tr>\n",
       "    <tr>\n",
       "      <th>da_rate</th>\n",
       "      <td>-3.178674</td>\n",
       "    </tr>\n",
       "    <tr>\n",
       "      <th>fwhm</th>\n",
       "      <td>26.190476</td>\n",
       "    </tr>\n",
       "    <tr>\n",
       "      <th>time_to_peak</th>\n",
       "      <td>100.000000</td>\n",
       "    </tr>\n",
       "    <tr>\n",
       "      <th rowspan=\"4\" valign=\"top\">dms-dlight-10</th>\n",
       "      <th>auc</th>\n",
       "      <td>19.105121</td>\n",
       "    </tr>\n",
       "    <tr>\n",
       "      <th>da_rate</th>\n",
       "      <td>-6.427995</td>\n",
       "    </tr>\n",
       "    <tr>\n",
       "      <th>fwhm</th>\n",
       "      <td>28.571429</td>\n",
       "    </tr>\n",
       "    <tr>\n",
       "      <th>time_to_peak</th>\n",
       "      <td>100.000000</td>\n",
       "    </tr>\n",
       "    <tr>\n",
       "      <th rowspan=\"4\" valign=\"top\">dms-dlight-11</th>\n",
       "      <th>auc</th>\n",
       "      <td>53.563996</td>\n",
       "    </tr>\n",
       "    <tr>\n",
       "      <th>da_rate</th>\n",
       "      <td>-11.477645</td>\n",
       "    </tr>\n",
       "    <tr>\n",
       "      <th>fwhm</th>\n",
       "      <td>42.857143</td>\n",
       "    </tr>\n",
       "    <tr>\n",
       "      <th>time_to_peak</th>\n",
       "      <td>100.000000</td>\n",
       "    </tr>\n",
       "    <tr>\n",
       "      <th rowspan=\"4\" valign=\"top\">dms-dlight-13</th>\n",
       "      <th>auc</th>\n",
       "      <td>14.003626</td>\n",
       "    </tr>\n",
       "    <tr>\n",
       "      <th>da_rate</th>\n",
       "      <td>-8.711340</td>\n",
       "    </tr>\n",
       "    <tr>\n",
       "      <th>fwhm</th>\n",
       "      <td>19.047619</td>\n",
       "    </tr>\n",
       "    <tr>\n",
       "      <th>time_to_peak</th>\n",
       "      <td>100.000000</td>\n",
       "    </tr>\n",
       "    <tr>\n",
       "      <th rowspan=\"4\" valign=\"top\">dms-dlight-14</th>\n",
       "      <th>auc</th>\n",
       "      <td>32.465188</td>\n",
       "    </tr>\n",
       "    <tr>\n",
       "      <th>da_rate</th>\n",
       "      <td>-16.680207</td>\n",
       "    </tr>\n",
       "    <tr>\n",
       "      <th>fwhm</th>\n",
       "      <td>36.904762</td>\n",
       "    </tr>\n",
       "    <tr>\n",
       "      <th>time_to_peak</th>\n",
       "      <td>100.000000</td>\n",
       "    </tr>\n",
       "    <tr>\n",
       "      <th rowspan=\"4\" valign=\"top\">dms-dlight-4</th>\n",
       "      <th>auc</th>\n",
       "      <td>13.877608</td>\n",
       "    </tr>\n",
       "    <tr>\n",
       "      <th>da_rate</th>\n",
       "      <td>-10.333597</td>\n",
       "    </tr>\n",
       "    <tr>\n",
       "      <th>fwhm</th>\n",
       "      <td>34.523810</td>\n",
       "    </tr>\n",
       "    <tr>\n",
       "      <th>time_to_peak</th>\n",
       "      <td>100.000000</td>\n",
       "    </tr>\n",
       "    <tr>\n",
       "      <th rowspan=\"4\" valign=\"top\">dms-dlight-6</th>\n",
       "      <th>auc</th>\n",
       "      <td>17.472487</td>\n",
       "    </tr>\n",
       "    <tr>\n",
       "      <th>da_rate</th>\n",
       "      <td>-11.310049</td>\n",
       "    </tr>\n",
       "    <tr>\n",
       "      <th>fwhm</th>\n",
       "      <td>36.904762</td>\n",
       "    </tr>\n",
       "    <tr>\n",
       "      <th>time_to_peak</th>\n",
       "      <td>100.000000</td>\n",
       "    </tr>\n",
       "    <tr>\n",
       "      <th rowspan=\"4\" valign=\"top\">dms-dlight-8</th>\n",
       "      <th>auc</th>\n",
       "      <td>36.362527</td>\n",
       "    </tr>\n",
       "    <tr>\n",
       "      <th>da_rate</th>\n",
       "      <td>-10.338552</td>\n",
       "    </tr>\n",
       "    <tr>\n",
       "      <th>fwhm</th>\n",
       "      <td>41.666667</td>\n",
       "    </tr>\n",
       "    <tr>\n",
       "      <th>time_to_peak</th>\n",
       "      <td>100.000000</td>\n",
       "    </tr>\n",
       "  </tbody>\n",
       "</table>\n",
       "</div>"
      ],
      "text/plain": [
       "                                 value\n",
       "mouse_id      variable                \n",
       "dms-dlight-1  auc             4.219673\n",
       "              da_rate        -3.178674\n",
       "              fwhm           26.190476\n",
       "              time_to_peak  100.000000\n",
       "dms-dlight-10 auc            19.105121\n",
       "              da_rate        -6.427995\n",
       "              fwhm           28.571429\n",
       "              time_to_peak  100.000000\n",
       "dms-dlight-11 auc            53.563996\n",
       "              da_rate       -11.477645\n",
       "              fwhm           42.857143\n",
       "              time_to_peak  100.000000\n",
       "dms-dlight-13 auc            14.003626\n",
       "              da_rate        -8.711340\n",
       "              fwhm           19.047619\n",
       "              time_to_peak  100.000000\n",
       "dms-dlight-14 auc            32.465188\n",
       "              da_rate       -16.680207\n",
       "              fwhm           36.904762\n",
       "              time_to_peak  100.000000\n",
       "dms-dlight-4  auc            13.877608\n",
       "              da_rate       -10.333597\n",
       "              fwhm           34.523810\n",
       "              time_to_peak  100.000000\n",
       "dms-dlight-6  auc            17.472487\n",
       "              da_rate       -11.310049\n",
       "              fwhm           36.904762\n",
       "              time_to_peak  100.000000\n",
       "dms-dlight-8  auc            36.362527\n",
       "              da_rate       -10.338552\n",
       "              fwhm           41.666667\n",
       "              time_to_peak  100.000000"
      ]
     },
     "execution_count": 31,
     "metadata": {},
     "output_type": "execute_result"
    }
   ],
   "source": [
    "fold_melt_stats.groupby([\"area\", \"mouse_id\", \"variable\"]).mean().loc[\"dms\"]"
   ]
  },
  {
   "cell_type": "code",
   "execution_count": 32,
   "metadata": {},
   "outputs": [],
   "source": [
    "feature_stats = {}"
   ]
  },
  {
   "cell_type": "code",
   "execution_count": 33,
   "metadata": {},
   "outputs": [],
   "source": [
    "use_test = mannwhitneyu"
   ]
  },
  {
   "cell_type": "code",
   "execution_count": 34,
   "metadata": {},
   "outputs": [],
   "source": [
    "sz = da_stats.groupby(\"area\").size()\n",
    "normalizer = sz.prod()"
   ]
  },
  {
   "cell_type": "code",
   "execution_count": 35,
   "metadata": {},
   "outputs": [],
   "source": [
    "stats, p = use_test(da_stats.loc[\"dls\"], da_stats.loc[\"dms\"])"
   ]
  },
  {
   "cell_type": "code",
   "execution_count": 36,
   "metadata": {},
   "outputs": [],
   "source": [
    "dcts = []"
   ]
  },
  {
   "cell_type": "code",
   "execution_count": 37,
   "metadata": {},
   "outputs": [],
   "source": [
    "for feature_name, p, u, f in zip(da_stats.columns, p, stats, stats / normalizer):\n",
    "    dct = {\n",
    "        \"p\": p,\n",
    "        \"f\": f,\n",
    "        \"u\": u,\n",
    "        \"n1\": sz.loc[\"dls\"],\n",
    "        \"n2\": sz.loc[\"dms\"],\n",
    "        \"n_definition\": \"per-mouse average\",\n",
    "        \"test\": use_test.__name__,\n",
    "        \"feature_name\": feature_name,\n",
    "    }\n",
    "    dcts.append(dct)"
   ]
  },
  {
   "cell_type": "code",
   "execution_count": 38,
   "metadata": {},
   "outputs": [],
   "source": [
    "feature_pval_df = pd.DataFrame(dcts)"
   ]
  },
  {
   "cell_type": "code",
   "execution_count": 39,
   "metadata": {},
   "outputs": [],
   "source": [
    "feature_pval_df[\"p\"] = multipletests(feature_pval_df[\"p\"], method=\"holm\")[1]"
   ]
  },
  {
   "cell_type": "code",
   "execution_count": 40,
   "metadata": {},
   "outputs": [
    {
     "data": {
      "text/html": [
       "<div>\n",
       "<style scoped>\n",
       "    .dataframe tbody tr th:only-of-type {\n",
       "        vertical-align: middle;\n",
       "    }\n",
       "\n",
       "    .dataframe tbody tr th {\n",
       "        vertical-align: top;\n",
       "    }\n",
       "\n",
       "    .dataframe thead th {\n",
       "        text-align: right;\n",
       "    }\n",
       "</style>\n",
       "<table border=\"1\" class=\"dataframe\">\n",
       "  <thead>\n",
       "    <tr style=\"text-align: right;\">\n",
       "      <th></th>\n",
       "      <th>p</th>\n",
       "      <th>f</th>\n",
       "      <th>u</th>\n",
       "      <th>n1</th>\n",
       "      <th>n2</th>\n",
       "      <th>n_definition</th>\n",
       "      <th>test</th>\n",
       "      <th>feature_name</th>\n",
       "    </tr>\n",
       "  </thead>\n",
       "  <tbody>\n",
       "    <tr>\n",
       "      <th>0</th>\n",
       "      <td>0.051752</td>\n",
       "      <td>0.241071</td>\n",
       "      <td>27.0</td>\n",
       "      <td>14</td>\n",
       "      <td>8</td>\n",
       "      <td>per-mouse average</td>\n",
       "      <td>mannwhitneyu</td>\n",
       "      <td>auc</td>\n",
       "    </tr>\n",
       "    <tr>\n",
       "      <th>1</th>\n",
       "      <td>0.000149</td>\n",
       "      <td>0.035714</td>\n",
       "      <td>4.0</td>\n",
       "      <td>14</td>\n",
       "      <td>8</td>\n",
       "      <td>per-mouse average</td>\n",
       "      <td>mannwhitneyu</td>\n",
       "      <td>time_to_peak</td>\n",
       "    </tr>\n",
       "    <tr>\n",
       "      <th>2</th>\n",
       "      <td>0.017118</td>\n",
       "      <td>0.142857</td>\n",
       "      <td>16.0</td>\n",
       "      <td>14</td>\n",
       "      <td>8</td>\n",
       "      <td>per-mouse average</td>\n",
       "      <td>mannwhitneyu</td>\n",
       "      <td>fwhm</td>\n",
       "    </tr>\n",
       "    <tr>\n",
       "      <th>3</th>\n",
       "      <td>0.017118</td>\n",
       "      <td>0.866071</td>\n",
       "      <td>97.0</td>\n",
       "      <td>14</td>\n",
       "      <td>8</td>\n",
       "      <td>per-mouse average</td>\n",
       "      <td>mannwhitneyu</td>\n",
       "      <td>da_rate</td>\n",
       "    </tr>\n",
       "  </tbody>\n",
       "</table>\n",
       "</div>"
      ],
      "text/plain": [
       "          p         f     u  n1  n2       n_definition          test  \\\n",
       "0  0.051752  0.241071  27.0  14   8  per-mouse average  mannwhitneyu   \n",
       "1  0.000149  0.035714   4.0  14   8  per-mouse average  mannwhitneyu   \n",
       "2  0.017118  0.142857  16.0  14   8  per-mouse average  mannwhitneyu   \n",
       "3  0.017118  0.866071  97.0  14   8  per-mouse average  mannwhitneyu   \n",
       "\n",
       "   feature_name  \n",
       "0           auc  \n",
       "1  time_to_peak  \n",
       "2          fwhm  \n",
       "3       da_rate  "
      ]
     },
     "execution_count": 40,
     "metadata": {},
     "output_type": "execute_result"
    }
   ],
   "source": [
    "feature_pval_df"
   ]
  },
  {
   "cell_type": "code",
   "execution_count": 41,
   "metadata": {},
   "outputs": [],
   "source": [
    "import json"
   ]
  },
  {
   "cell_type": "code",
   "execution_count": 42,
   "metadata": {},
   "outputs": [],
   "source": [
    "with open(\n",
    "    os.path.join(proc_dirs[\"dlight\"], \"dls_vs_dms_transient_features.toml\"), \"w\"\n",
    ") as f:\n",
    "    toml.dump(json.loads(feature_pval_df.T.to_json()), f)"
   ]
  },
  {
   "cell_type": "code",
   "execution_count": 43,
   "metadata": {},
   "outputs": [],
   "source": [
    "# run hypothesis tests and stash"
   ]
  },
  {
   "cell_type": "code",
   "execution_count": 44,
   "metadata": {},
   "outputs": [
    {
     "name": "stderr",
     "output_type": "stream",
     "text": [
      "/home/markowitzmeister_gmail_com/miniconda3/envs/spont-da/lib/python3.10/site-packages/seaborn/axisgrid.py:848: FutureWarning: \n",
      "\n",
      "The `ci` parameter is deprecated. Use `errorbar=('ci', 68)` for the same effect.\n",
      "\n",
      "  func(*plot_args, **plot_kwargs)\n"
     ]
    },
    {
     "data": {
      "image/png": "[encoded data removed]",
      "text/plain": [
       "<Figure size 800x400 with 1 Axes>"
      ]
     },
     "metadata": {},
     "output_type": "display_data"
    }
   ],
   "source": [
    "g = sns.relplot(\n",
    "    data=realigned_mouse_averages.reset_index(),\n",
    "    x=\"x\",\n",
    "    y=\"value\",\n",
    "    hue=\"area\",\n",
    "    ci=68,\n",
    "    height=1,\n",
    "    n_boot=100,\n",
    "    kind=\"line\",\n",
    ")\n",
    "g.fig.set_size_inches(4, 2)\n",
    "g.set_axis_labels(\"Time (s)\", \"dF/F (z)\")\n",
    "plt.xlim(-0.25, 1)\n",
    "clean_ticks(g.axes, \"x\", precision=1, zero_symmetry=False)\n",
    "clean_ticks(g.axes, \"y\", precision=1, zero_symmetry=False)\n",
    "savefig(g.fig, os.path.join(figure_cfg[\"store_dir\"], \"dls_vs_dms_transient_timecourse\"))"
   ]
  },
  {
   "cell_type": "markdown",
   "metadata": {
    "tags": []
   },
   "source": [
    "# Average encoding model"
   ]
  },
  {
   "cell_type": "code",
   "execution_count": 45,
   "metadata": {},
   "outputs": [],
   "source": [
    "r_df_ave = pd.read_parquet(\n",
    "    os.path.join(proc_dirs[\"dlight\"], \"encoding_model_average_variant_results.parquet\")\n",
    ")"
   ]
  },
  {
   "cell_type": "code",
   "execution_count": 46,
   "metadata": {},
   "outputs": [],
   "source": [
    "r_df_ave = r_df_ave.rename(columns={\"variable\": \"type\"})"
   ]
  },
  {
   "cell_type": "code",
   "execution_count": 47,
   "metadata": {},
   "outputs": [],
   "source": [
    "mu_df = r_df_ave.groupby([\"area\", \"type\", \"mouse_id\"]).mean()"
   ]
  },
  {
   "cell_type": "code",
   "execution_count": 48,
   "metadata": {},
   "outputs": [],
   "source": [
    "kwargs = {\n",
    "    \"data\": mu_df.reset_index(),\n",
    "    \"x\": \"area\",\n",
    "    \"y\": \"r\",\n",
    "    \"hue\": \"type\",\n",
    "    \"hue_order\": [\"scalar\", \"syllable\", \"all\"],\n",
    "    \"palette\": sns.color_palette(),\n",
    "}"
   ]
  },
  {
   "cell_type": "code",
   "execution_count": 49,
   "metadata": {},
   "outputs": [],
   "source": [
    "kwargs[\"data\"] = (\n",
    "    mu_df.reset_index().replace(\"syllables\", \"syllable\").replace(\"scalars\", \"scalar\")\n",
    ")"
   ]
  },
  {
   "cell_type": "code",
   "execution_count": 50,
   "metadata": {},
   "outputs": [
    {
     "data": {
      "image/png": "[encoded data removed]",
      "text/plain": [
       "<Figure size 200x300 with 1 Axes>"
      ]
     },
     "metadata": {},
     "output_type": "display_data"
    }
   ],
   "source": [
    "fig, ax = plt.subplots(1, figsize=(1, 1.5))\n",
    "\n",
    "sns.boxplot(\n",
    "    **kwargs,\n",
    "    showfliers=False,\n",
    "    showcaps=False,\n",
    ")\n",
    "\n",
    "\n",
    "ax.legend().remove()\n",
    "l = fig.legend()\n",
    "l.set_bbox_to_anchor((2, 0.5))\n",
    "ax.legend().remove()\n",
    "\n",
    "clean_ticks(ax, \"y\", precision=1, zero_symmetry=False)\n",
    "plt.ylabel(\"Held-out correlation (Pearson r)\")\n",
    "plt.xlabel(\"\")\n",
    "plt.show()\n",
    "savefig(\n",
    "    fig,\n",
    "    os.path.join(\n",
    "        figure_cfg[\"store_dir\"], \"dls_vs_dms_encoding_model_average_permouse_boxplot\"\n",
    "    ),\n",
    ")"
   ]
  },
  {
   "cell_type": "code",
   "execution_count": 51,
   "metadata": {},
   "outputs": [],
   "source": [
    "types = r_df_ave[\"type\"].unique()\n",
    "areas = r_df_ave[\"area\"].unique()"
   ]
  },
  {
   "cell_type": "code",
   "execution_count": 52,
   "metadata": {},
   "outputs": [],
   "source": [
    "dcts = []\n",
    "for (key1, key2) in itertools.combinations(list(itertools.product(areas, types)), 2):\n",
    "    if key1[0] == key2[0]:\n",
    "        continue\n",
    "\n",
    "    if key1 == key2:\n",
    "        continue\n",
    "\n",
    "    if (key1[0] != key2[0]) and (key1[1] != key2[1]):\n",
    "        continue\n",
    "\n",
    "    stat, p = use_test(mu_df.xs(key1)[\"r\"], mu_df.xs(key2)[\"r\"])\n",
    "    dct = {\n",
    "        \"area1\": key1[0],\n",
    "        \"type1\": key1[1],\n",
    "        \"area2\": key2[0],\n",
    "        \"type2\": key2[1],\n",
    "        \"p\": p,\n",
    "        \"U\": stat,\n",
    "        \"f\": stat / (len(mu_df.xs(key1)) * len(mu_df.xs(key2))),\n",
    "        \"n1\": len(mu_df.xs(key1)),\n",
    "        \"n2\": len(mu_df.xs(key2)),\n",
    "        \"comparison_type\": use_test.__name__,\n",
    "    }\n",
    "    dcts.append(dct)"
   ]
  },
  {
   "cell_type": "code",
   "execution_count": 53,
   "metadata": {},
   "outputs": [],
   "source": [
    "pval_df = pd.DataFrame(dcts)\n",
    "pval_df[\"p\"] = multipletests(pval_df[\"p\"], method=\"holm\")[1]"
   ]
  },
  {
   "cell_type": "code",
   "execution_count": 54,
   "metadata": {},
   "outputs": [
    {
     "data": {
      "text/html": [
       "<div>\n",
       "<style scoped>\n",
       "    .dataframe tbody tr th:only-of-type {\n",
       "        vertical-align: middle;\n",
       "    }\n",
       "\n",
       "    .dataframe tbody tr th {\n",
       "        vertical-align: top;\n",
       "    }\n",
       "\n",
       "    .dataframe thead th {\n",
       "        text-align: right;\n",
       "    }\n",
       "</style>\n",
       "<table border=\"1\" class=\"dataframe\">\n",
       "  <thead>\n",
       "    <tr style=\"text-align: right;\">\n",
       "      <th></th>\n",
       "      <th>area1</th>\n",
       "      <th>type1</th>\n",
       "      <th>area2</th>\n",
       "      <th>type2</th>\n",
       "      <th>p</th>\n",
       "      <th>U</th>\n",
       "      <th>f</th>\n",
       "      <th>n1</th>\n",
       "      <th>n2</th>\n",
       "      <th>comparison_type</th>\n",
       "    </tr>\n",
       "  </thead>\n",
       "  <tbody>\n",
       "    <tr>\n",
       "      <th>0</th>\n",
       "      <td>dls</td>\n",
       "      <td>scalars</td>\n",
       "      <td>dms</td>\n",
       "      <td>scalars</td>\n",
       "      <td>0.763949</td>\n",
       "      <td>61.0</td>\n",
       "      <td>0.544643</td>\n",
       "      <td>14</td>\n",
       "      <td>8</td>\n",
       "      <td>mannwhitneyu</td>\n",
       "    </tr>\n",
       "    <tr>\n",
       "      <th>1</th>\n",
       "      <td>dls</td>\n",
       "      <td>syllables</td>\n",
       "      <td>dms</td>\n",
       "      <td>syllables</td>\n",
       "      <td>0.002552</td>\n",
       "      <td>102.0</td>\n",
       "      <td>0.910714</td>\n",
       "      <td>14</td>\n",
       "      <td>8</td>\n",
       "      <td>mannwhitneyu</td>\n",
       "    </tr>\n",
       "    <tr>\n",
       "      <th>2</th>\n",
       "      <td>dls</td>\n",
       "      <td>all</td>\n",
       "      <td>dms</td>\n",
       "      <td>all</td>\n",
       "      <td>0.139650</td>\n",
       "      <td>83.0</td>\n",
       "      <td>0.741071</td>\n",
       "      <td>14</td>\n",
       "      <td>8</td>\n",
       "      <td>mannwhitneyu</td>\n",
       "    </tr>\n",
       "  </tbody>\n",
       "</table>\n",
       "</div>"
      ],
      "text/plain": [
       "  area1      type1 area2      type2         p      U         f  n1  n2  \\\n",
       "0   dls    scalars   dms    scalars  0.763949   61.0  0.544643  14   8   \n",
       "1   dls  syllables   dms  syllables  0.002552  102.0  0.910714  14   8   \n",
       "2   dls        all   dms        all  0.139650   83.0  0.741071  14   8   \n",
       "\n",
       "  comparison_type  \n",
       "0    mannwhitneyu  \n",
       "1    mannwhitneyu  \n",
       "2    mannwhitneyu  "
      ]
     },
     "execution_count": 54,
     "metadata": {},
     "output_type": "execute_result"
    }
   ],
   "source": [
    "pval_df"
   ]
  },
  {
   "cell_type": "code",
   "execution_count": 55,
   "metadata": {},
   "outputs": [],
   "source": [
    "import json"
   ]
  },
  {
   "cell_type": "code",
   "execution_count": 56,
   "metadata": {},
   "outputs": [],
   "source": [
    "with open(\n",
    "    os.path.join(proc_dirs[\"dlight\"], \"dls_vs_dms_encoding_model_average_variant.toml\"), \"w\"\n",
    ") as f:\n",
    "    toml.dump(json.loads(pval_df.T.to_json()), f)"
   ]
  },
  {
   "cell_type": "code",
   "execution_count": null,
   "metadata": {},
   "outputs": [],
   "source": []
  },
  {
   "cell_type": "code",
   "execution_count": null,
   "metadata": {},
   "outputs": [],
   "source": []
  },
  {
   "cell_type": "code",
   "execution_count": null,
   "metadata": {},
   "outputs": [],
   "source": []
  },
  {
   "cell_type": "markdown",
   "metadata": {},
   "source": [
    "# Comparison of transition-aligned averages"
   ]
  },
  {
   "cell_type": "code",
   "execution_count": 57,
   "metadata": {},
   "outputs": [],
   "source": [
    "observed_zs_dms = pd.read_parquet(\n",
    "    os.path.join(proc_dirs[\"dlight\"], f\"snippet_max_bin_ave_zscored_dms_renorm-True.parquet\")\n",
    ")\n",
    "observed_zs_dms[\"area\"] = \"dms\"\n",
    "observed_zs_dls = pd.read_parquet(\n",
    "    os.path.join(proc_dirs[\"dlight\"], f\"snippet_max_bin_ave_zscored_dls_renorm-True.parquet\")\n",
    ")\n",
    "observed_zs_dls[\"area\"] = \"dls\"\n",
    "\n",
    "observed_zs = pd.concat([observed_zs_dms, observed_zs_dls])\n",
    "observed_zs = (\n",
    "    observed_zs.groupby([\"x\", \"init_type\", \"mouse_id\", \"area\"])[\"signal_reref_dff_z_hp\"]\n",
    "    .mean()\n",
    "    .dropna()\n",
    ")"
   ]
  },
  {
   "cell_type": "code",
   "execution_count": 58,
   "metadata": {},
   "outputs": [],
   "source": [
    "plt_zs = observed_zs.groupby([\"x\", \"init_type\", \"area\"]).mean()"
   ]
  },
  {
   "cell_type": "code",
   "execution_count": 59,
   "metadata": {},
   "outputs": [],
   "source": [
    "alpha = 0.68\n",
    "cutoffs = [\n",
    "    (1 - alpha) / 2,\n",
    "    1 - (1 - alpha) / 2,\n",
    "]"
   ]
  },
  {
   "cell_type": "code",
   "execution_count": 60,
   "metadata": {},
   "outputs": [],
   "source": [
    "plt_cis = observed_zs.groupby([\"x\", \"init_type\", \"area\"]).quantile(cutoffs)\n",
    "plt_cis.index = plt_cis.index.set_names(\"ci\", level=-1)"
   ]
  },
  {
   "cell_type": "code",
   "execution_count": 61,
   "metadata": {},
   "outputs": [],
   "source": [
    "colors = {}\n",
    "colors[(\"dls\", \"syllables_offline\")] = sns.color_palette()[0]\n",
    "colors[(\"dms\", \"syllables_offline\")] = sns.color_palette()[1]\n",
    "colors[(\"dms\", \"movement\")] = sns.color_palette()[2]"
   ]
  },
  {
   "cell_type": "code",
   "execution_count": 62,
   "metadata": {},
   "outputs": [
    {
     "data": {
      "image/png": "[encoded data removed]",
      "text/plain": [
       "<Figure size 200x300 with 1 Axes>"
      ]
     },
     "metadata": {},
     "output_type": "display_data"
    }
   ],
   "source": [
    "fig, ax = plt.subplots(1, figsize=(1, 1.5))\n",
    "\n",
    "for _type, _color in colors.items():\n",
    "    obs_lo = plt_cis.xs(_type, level=(\"area\", \"init_type\")).iloc[::2]\n",
    "    obs_hi = plt_cis.xs(_type, level=(\"area\", \"init_type\")).iloc[1::2]\n",
    "    plt_xvec = obs_lo.index.get_level_values(\"x\") / 30.0\n",
    "    ax.fill_between(\n",
    "        plt_xvec,\n",
    "        obs_lo.values,\n",
    "        obs_hi.values,\n",
    "        fc=_color,\n",
    "        alpha=0.5,\n",
    "        zorder=100,\n",
    "        lw=0,\n",
    "        ec=\"none\",\n",
    "        label=_type,\n",
    "    )\n",
    "    ax.plot(\n",
    "        plt_xvec,\n",
    "        plt_zs.xs(_type, level=(\"area\", \"init_type\")).values,\n",
    "        color=_color,\n",
    "        lw=1,\n",
    "    )\n",
    "\n",
    "    ax.set_xlim(-1.5, 1.5)\n",
    "    ax.set_ylim(-13, 13)\n",
    "\n",
    "clean_ticks(ax, \"y\", include_zero=True, zero_symmetry=True, precision=0, dtype=int)\n",
    "clean_ticks(ax, \"x\", precision=1, dtype=float)\n",
    "ax.axvline(x=0, color=plt.rcParams[\"axes.edgecolor\"], zorder=-150, alpha=1, ls=\"--\")\n",
    "xlims = ax.get_xlim()\n",
    "plt.ylabel(\"dF/F0 (z)\")\n",
    "plt.xlabel(\"Time (s)\")\n",
    "plt.legend(bbox_to_anchor=(1.05, 0.5))\n",
    "sns.despine()\n",
    "plt.show()\n",
    "savefig(\n",
    "    fig,\n",
    "    os.path.join(\n",
    "        figure_cfg[\"store_dir\"],\n",
    "        f\"dls_vs_dms_dlight_initiation_grand_average_quartiles_merged\",\n",
    "    ),\n",
    "    bbox_inches=\"tight\",\n",
    ")\n",
    "# _ax.axvline(x=0, color=\"k\", zorder=-100, alpha=0.5)"
   ]
  },
  {
   "cell_type": "code",
   "execution_count": 63,
   "metadata": {},
   "outputs": [],
   "source": [
    "peaks = (\n",
    "    observed_zs.loc[-5:15]\n",
    "    .groupby([\"area\", \"mouse_id\", \"init_type\"])\n",
    "    .apply(lambda x: x.values[np.argmax((x.values))])\n",
    "    .dropna()\n",
    ")"
   ]
  },
  {
   "cell_type": "code",
   "execution_count": 64,
   "metadata": {},
   "outputs": [],
   "source": [
    "setup_plotting_env()"
   ]
  },
  {
   "cell_type": "code",
   "execution_count": 65,
   "metadata": {},
   "outputs": [
    {
     "data": {
      "text/plain": [
       "area  mouse_id           init_type        \n",
       "dls   dlight-chrimson-1  movement              8.413861\n",
       "                         syllables_offline    14.982803\n",
       "      dlight-chrimson-2  movement              7.345725\n",
       "                         syllables_offline    11.477660\n",
       "      dlight-chrimson-3  movement             10.256664\n",
       "                         syllables_offline    17.461666\n",
       "      dlight-chrimson-4  movement              2.573258\n",
       "                         syllables_offline     8.154692\n",
       "      dlight-chrimson-5  movement              8.572942\n",
       "                         syllables_offline    11.140194\n",
       "      dlight-chrimson-6  movement              9.515573\n",
       "                         syllables_offline    11.525248\n",
       "      dlight-chrimson-8  movement              5.673474\n",
       "                         syllables_offline     9.673658\n",
       "      dlight-chrimson-9  movement              4.760805\n",
       "                         syllables_offline     6.205837\n",
       "      dls-dlight-1       movement              7.096793\n",
       "                         syllables_offline    11.683218\n",
       "      dls-dlight-2       movement              6.612879\n",
       "                         syllables_offline     6.906242\n",
       "      dls-dlight-3       movement              4.795416\n",
       "                         syllables_offline    11.333219\n",
       "      dls-dlight-4       movement              5.234349\n",
       "                         syllables_offline     8.991499\n",
       "      dls-dlight-5       movement              5.602097\n",
       "                         syllables_offline    10.699561\n",
       "      dls-dlight-7       movement              5.356714\n",
       "                         syllables_offline     7.754828\n",
       "dms   dms-dlight-1       movement              2.281504\n",
       "                         syllables_offline     2.987618\n",
       "      dms-dlight-10      movement              4.313373\n",
       "                         syllables_offline     5.610667\n",
       "      dms-dlight-11      movement              0.975035\n",
       "                         syllables_offline     3.029598\n",
       "      dms-dlight-13      movement              1.335869\n",
       "                         syllables_offline     4.624945\n",
       "      dms-dlight-14      movement              1.213169\n",
       "                         syllables_offline     8.444425\n",
       "      dms-dlight-4       movement              2.149783\n",
       "                         syllables_offline     4.951742\n",
       "      dms-dlight-6       movement              2.271882\n",
       "                         syllables_offline     4.240740\n",
       "      dms-dlight-8       movement              4.810360\n",
       "                         syllables_offline     6.667366\n",
       "Name: signal_reref_dff_z_hp, dtype: float64"
      ]
     },
     "execution_count": 65,
     "metadata": {},
     "output_type": "execute_result"
    }
   ],
   "source": [
    "peaks"
   ]
  },
  {
   "cell_type": "code",
   "execution_count": 66,
   "metadata": {},
   "outputs": [
    {
     "data": {
      "image/png": "[encoded data removed]",
      "text/plain": [
       "<Figure size 250x250 with 1 Axes>"
      ]
     },
     "metadata": {},
     "output_type": "display_data"
    }
   ],
   "source": [
    "g = sns.catplot(\n",
    "    data=peaks.reset_index(),\n",
    "    x=\"init_type\",\n",
    "    y=\"signal_reref_dff_z_hp\",\n",
    "    dodge=True,\n",
    "    height=1.25,\n",
    "    aspect=1,\n",
    "    hue=\"area\",\n",
    "    showfliers=False,\n",
    "    showcaps=False,\n",
    "    legend=False,\n",
    "    kind=\"box\",\n",
    ")\n",
    "clean_ticks(g.axes.flat[0], \"y\", precision=-1, dtype=int)\n",
    "plt.xticks(rotation=45, ha=\"right\")\n",
    "plt.xlabel(\"\")\n",
    "plt.ylabel(\"Peak dF/F0 (z)\")\n",
    "savefig(\n",
    "    g.fig,\n",
    "    os.path.join(\n",
    "        figure_cfg[\"store_dir\"], \"dls_v_dms_transition-aligned_peak_comparison\"\n",
    "    ),\n",
    ")"
   ]
  },
  {
   "cell_type": "code",
   "execution_count": 67,
   "metadata": {},
   "outputs": [],
   "source": [
    "use_test = mannwhitneyu"
   ]
  },
  {
   "cell_type": "code",
   "execution_count": 68,
   "metadata": {},
   "outputs": [],
   "source": [
    "pvals = (\n",
    "    peaks.groupby(\"init_type\")\n",
    "    .apply(lambda x: use_test(x.loc[\"dls\"], x.loc[\"dms\"]))\n",
    "    .apply(pd.Series)\n",
    "    .rename(columns={0: \"U\", 1: \"p\"})\n",
    ")"
   ]
  },
  {
   "cell_type": "code",
   "execution_count": 69,
   "metadata": {},
   "outputs": [],
   "source": [
    "pvals[\"test\"] = use_test.__name__\n",
    "pvals[\"comparison\"] = \"Per mouse df/f0 at max location\"\n",
    "pvals[\"n definition\"] = \"Per mouse df/f0 at max in waveform\""
   ]
  },
  {
   "cell_type": "code",
   "execution_count": null,
   "metadata": {},
   "outputs": [],
   "source": []
  },
  {
   "cell_type": "code",
   "execution_count": 70,
   "metadata": {},
   "outputs": [],
   "source": [
    "sz = peaks.groupby([\"init_type\", \"area\"]).size().unstack()\n",
    "sz.columns = [f\"n({_})\" for _ in sz.columns]"
   ]
  },
  {
   "cell_type": "code",
   "execution_count": 71,
   "metadata": {},
   "outputs": [],
   "source": [
    "pvals = pvals.join(sz)\n",
    "pvals[\"f\"] = pvals[\"U\"] / (pvals[\"n(dls)\"] * pvals[\"n(dms)\"])"
   ]
  },
  {
   "cell_type": "code",
   "execution_count": 72,
   "metadata": {},
   "outputs": [
    {
     "data": {
      "text/html": [
       "<div>\n",
       "<style scoped>\n",
       "    .dataframe tbody tr th:only-of-type {\n",
       "        vertical-align: middle;\n",
       "    }\n",
       "\n",
       "    .dataframe tbody tr th {\n",
       "        vertical-align: top;\n",
       "    }\n",
       "\n",
       "    .dataframe thead th {\n",
       "        text-align: right;\n",
       "    }\n",
       "</style>\n",
       "<table border=\"1\" class=\"dataframe\">\n",
       "  <thead>\n",
       "    <tr style=\"text-align: right;\">\n",
       "      <th></th>\n",
       "      <th>U</th>\n",
       "      <th>p</th>\n",
       "      <th>test</th>\n",
       "      <th>comparison</th>\n",
       "      <th>n definition</th>\n",
       "      <th>n(dls)</th>\n",
       "      <th>n(dms)</th>\n",
       "      <th>f</th>\n",
       "    </tr>\n",
       "    <tr>\n",
       "      <th>init_type</th>\n",
       "      <th></th>\n",
       "      <th></th>\n",
       "      <th></th>\n",
       "      <th></th>\n",
       "      <th></th>\n",
       "      <th></th>\n",
       "      <th></th>\n",
       "      <th></th>\n",
       "    </tr>\n",
       "  </thead>\n",
       "  <tbody>\n",
       "    <tr>\n",
       "      <th>movement</th>\n",
       "      <td>108.0</td>\n",
       "      <td>0.000075</td>\n",
       "      <td>mannwhitneyu</td>\n",
       "      <td>Per mouse df/f0 at max location</td>\n",
       "      <td>Per mouse df/f0 at max in waveform</td>\n",
       "      <td>14</td>\n",
       "      <td>8</td>\n",
       "      <td>0.964286</td>\n",
       "    </tr>\n",
       "    <tr>\n",
       "      <th>syllables_offline</th>\n",
       "      <td>107.0</td>\n",
       "      <td>0.000119</td>\n",
       "      <td>mannwhitneyu</td>\n",
       "      <td>Per mouse df/f0 at max location</td>\n",
       "      <td>Per mouse df/f0 at max in waveform</td>\n",
       "      <td>14</td>\n",
       "      <td>8</td>\n",
       "      <td>0.955357</td>\n",
       "    </tr>\n",
       "  </tbody>\n",
       "</table>\n",
       "</div>"
      ],
      "text/plain": [
       "                       U         p          test  \\\n",
       "init_type                                          \n",
       "movement           108.0  0.000075  mannwhitneyu   \n",
       "syllables_offline  107.0  0.000119  mannwhitneyu   \n",
       "\n",
       "                                        comparison  \\\n",
       "init_type                                            \n",
       "movement           Per mouse df/f0 at max location   \n",
       "syllables_offline  Per mouse df/f0 at max location   \n",
       "\n",
       "                                         n definition  n(dls)  n(dms)  \\\n",
       "init_type                                                               \n",
       "movement           Per mouse df/f0 at max in waveform      14       8   \n",
       "syllables_offline  Per mouse df/f0 at max in waveform      14       8   \n",
       "\n",
       "                          f  \n",
       "init_type                    \n",
       "movement           0.964286  \n",
       "syllables_offline  0.955357  "
      ]
     },
     "execution_count": 72,
     "metadata": {},
     "output_type": "execute_result"
    }
   ],
   "source": [
    "pvals"
   ]
  },
  {
   "cell_type": "code",
   "execution_count": 73,
   "metadata": {},
   "outputs": [],
   "source": [
    "with open(\n",
    "    os.path.join(proc_dirs[\"dlight\"], \"dls_v_dms_peak_comparison.toml\"), \"w\"\n",
    ") as f:\n",
    "    toml.dump(json.loads(pvals.T.to_json()), f)"
   ]
  },
  {
   "cell_type": "code",
   "execution_count": 74,
   "metadata": {},
   "outputs": [
    {
     "data": {
      "text/html": [
       "<div>\n",
       "<style scoped>\n",
       "    .dataframe tbody tr th:only-of-type {\n",
       "        vertical-align: middle;\n",
       "    }\n",
       "\n",
       "    .dataframe tbody tr th {\n",
       "        vertical-align: top;\n",
       "    }\n",
       "\n",
       "    .dataframe thead th {\n",
       "        text-align: right;\n",
       "    }\n",
       "</style>\n",
       "<table border=\"1\" class=\"dataframe\">\n",
       "  <thead>\n",
       "    <tr style=\"text-align: right;\">\n",
       "      <th></th>\n",
       "      <th>U</th>\n",
       "      <th>p</th>\n",
       "      <th>test</th>\n",
       "      <th>comparison</th>\n",
       "      <th>n definition</th>\n",
       "      <th>n(dls)</th>\n",
       "      <th>n(dms)</th>\n",
       "      <th>f</th>\n",
       "    </tr>\n",
       "    <tr>\n",
       "      <th>init_type</th>\n",
       "      <th></th>\n",
       "      <th></th>\n",
       "      <th></th>\n",
       "      <th></th>\n",
       "      <th></th>\n",
       "      <th></th>\n",
       "      <th></th>\n",
       "      <th></th>\n",
       "    </tr>\n",
       "  </thead>\n",
       "  <tbody>\n",
       "    <tr>\n",
       "      <th>movement</th>\n",
       "      <td>108.0</td>\n",
       "      <td>0.000075</td>\n",
       "      <td>mannwhitneyu</td>\n",
       "      <td>Per mouse df/f0 at max location</td>\n",
       "      <td>Per mouse df/f0 at max in waveform</td>\n",
       "      <td>14</td>\n",
       "      <td>8</td>\n",
       "      <td>0.964286</td>\n",
       "    </tr>\n",
       "    <tr>\n",
       "      <th>syllables_offline</th>\n",
       "      <td>107.0</td>\n",
       "      <td>0.000119</td>\n",
       "      <td>mannwhitneyu</td>\n",
       "      <td>Per mouse df/f0 at max location</td>\n",
       "      <td>Per mouse df/f0 at max in waveform</td>\n",
       "      <td>14</td>\n",
       "      <td>8</td>\n",
       "      <td>0.955357</td>\n",
       "    </tr>\n",
       "  </tbody>\n",
       "</table>\n",
       "</div>"
      ],
      "text/plain": [
       "                       U         p          test  \\\n",
       "init_type                                          \n",
       "movement           108.0  0.000075  mannwhitneyu   \n",
       "syllables_offline  107.0  0.000119  mannwhitneyu   \n",
       "\n",
       "                                        comparison  \\\n",
       "init_type                                            \n",
       "movement           Per mouse df/f0 at max location   \n",
       "syllables_offline  Per mouse df/f0 at max location   \n",
       "\n",
       "                                         n definition  n(dls)  n(dms)  \\\n",
       "init_type                                                               \n",
       "movement           Per mouse df/f0 at max in waveform      14       8   \n",
       "syllables_offline  Per mouse df/f0 at max in waveform      14       8   \n",
       "\n",
       "                          f  \n",
       "init_type                    \n",
       "movement           0.964286  \n",
       "syllables_offline  0.955357  "
      ]
     },
     "execution_count": 74,
     "metadata": {},
     "output_type": "execute_result"
    }
   ],
   "source": [
    "pvals"
   ]
  },
  {
   "cell_type": "code",
   "execution_count": null,
   "metadata": {},
   "outputs": [],
   "source": []
  }
 ],
 "metadata": {
  "kernelspec": {
   "display_name": "Python [conda env:spont-da]",
   "language": "python",
   "name": "conda-env-spont-da-py"
  },
  "language_info": {
   "codemirror_mode": {
    "name": "ipython",
    "version": 3
   },
   "file_extension": ".py",
   "mimetype": "text/x-python",
   "name": "python",
   "nbconvert_exporter": "python",
   "pygments_lexer": "ipython3",
   "version": "3.10.8"
  },
  "widgets": {
   "application/vnd.jupyter.widget-state+json": {
    "state": {
     "015bf6f85aa04633a7dda0daff5612bd": {
      "model_module": "@jupyter-widgets/controls",
      "model_module_version": "1.5.0",
      "model_name": "ProgressStyleModel",
      "state": {
       "description_width": "initial"
      }
     },
     "0188fa3b32884bd58c54d1a0dcfd94c6": {
      "model_module": "@jupyter-widgets/controls",
      "model_module_version": "1.5.0",
      "model_name": "HBoxModel",
      "state": {
       "children": [
        "IPY_MODEL_e454c6c2890c4084acc85983dce47fc4",
        "IPY_MODEL_9cbd5d01284748c49f2a5bfe4ae97d31"
       ],
       "layout": "IPY_MODEL_74ffb9908c62431bb196de0795f6645a"
      }
     },
     "026a1bcdae5346699365e48aa6cace58": {
      "model_module": "@jupyter-widgets/controls",
      "model_module_version": "1.5.0",
      "model_name": "HBoxModel",
      "state": {
       "children": [
        "IPY_MODEL_45956762fdd24175b0bd279598057b39",
        "IPY_MODEL_bb4fd7b1f691458b81bf0e582f236f4f"
       ],
       "layout": "IPY_MODEL_6d0eb327a9884d028714d4f9f799cc9c"
      }
     },
     "05cd2d8f5b15457fbeb14dda0bfc2e46": {
      "model_module": "@jupyter-widgets/base",
      "model_module_version": "1.2.0",
      "model_name": "LayoutModel",
      "state": {}
     },
     "0b132e4db48a4409bd54ed95b919c314": {
      "model_module": "@jupyter-widgets/base",
      "model_module_version": "1.2.0",
      "model_name": "LayoutModel",
      "state": {}
     },
     "0e4df3dad9214540af92b992cd72eeea": {
      "model_module": "@jupyter-widgets/controls",
      "model_module_version": "1.5.0",
      "model_name": "DescriptionStyleModel",
      "state": {
       "description_width": ""
      }
     },
     "116a29c654a74edf82fb4dd362d55764": {
      "model_module": "@jupyter-widgets/controls",
      "model_module_version": "1.5.0",
      "model_name": "DescriptionStyleModel",
      "state": {
       "description_width": ""
      }
     },
     "1628a141025c4f8aadb39d8ecfb72d73": {
      "model_module": "@jupyter-widgets/base",
      "model_module_version": "1.2.0",
      "model_name": "LayoutModel",
      "state": {}
     },
     "1d5cb71772c0454fa805233742191477": {
      "model_module": "@jupyter-widgets/base",
      "model_module_version": "1.2.0",
      "model_name": "LayoutModel",
      "state": {}
     },
     "1fd56e9ad55a4f1499e43591c86fcc66": {
      "model_module": "@jupyter-widgets/controls",
      "model_module_version": "1.5.0",
      "model_name": "HBoxModel",
      "state": {
       "children": [
        "IPY_MODEL_31d89422cbd44fe99dd87f02d05710f8",
        "IPY_MODEL_b1b0f0d12602417e9f2576ec69a9ce43"
       ],
       "layout": "IPY_MODEL_b0c404ba9e534008a062bc1df73e00e2"
      }
     },
     "28a919f2abbc48fcaf8b76eed040e97f": {
      "model_module": "@jupyter-widgets/controls",
      "model_module_version": "1.5.0",
      "model_name": "FloatProgressModel",
      "state": {
       "bar_style": "success",
       "description": "100%",
       "layout": "IPY_MODEL_930f1462cb034ad8baf8752382ec8eab",
       "max": 54404,
       "style": "IPY_MODEL_015bf6f85aa04633a7dda0daff5612bd",
       "value": 54404
      }
     },
     "2a05def7df604aefb1063c42a442a9cc": {
      "model_module": "@jupyter-widgets/controls",
      "model_module_version": "1.5.0",
      "model_name": "HTMLModel",
      "state": {
       "layout": "IPY_MODEL_6d904ec8d96a4c6c8e816d5d6a4b7222",
       "style": "IPY_MODEL_116a29c654a74edf82fb4dd362d55764",
       "value": " 1080/1080 [01:05&lt;00:00, 16.42it/s]"
      }
     },
     "2d52003cf5e64a319d8b3f8395672374": {
      "model_module": "@jupyter-widgets/controls",
      "model_module_version": "1.5.0",
      "model_name": "FloatProgressModel",
      "state": {
       "bar_style": "success",
       "description": "100%",
       "layout": "IPY_MODEL_5398069d757043e0b218cd9540132242",
       "max": 54404,
       "style": "IPY_MODEL_ea85ab1c5e99411c8b72c69f140fcf63",
       "value": 54404
      }
     },
     "30ecdd1e161145f3b0cea2da2b5ed087": {
      "model_module": "@jupyter-widgets/controls",
      "model_module_version": "1.5.0",
      "model_name": "DescriptionStyleModel",
      "state": {
       "description_width": ""
      }
     },
     "3111470fa018471d94ccda8b2b65e951": {
      "model_module": "@jupyter-widgets/controls",
      "model_module_version": "1.5.0",
      "model_name": "HBoxModel",
      "state": {
       "children": [
        "IPY_MODEL_b88c6de73384477abb6afd2e93eed85d",
        "IPY_MODEL_89a07ff193214c5d9374f03786bd1c98"
       ],
       "layout": "IPY_MODEL_dfcfb5b728e64d50938fb47cda7c18dd"
      }
     },
     "3181571a0f5d4473b487a05a5b0d229e": {
      "model_module": "@jupyter-widgets/controls",
      "model_module_version": "1.5.0",
      "model_name": "HBoxModel",
      "state": {
       "children": [
        "IPY_MODEL_2d52003cf5e64a319d8b3f8395672374",
        "IPY_MODEL_f766ce281f2b439c9f477a1fd9375542"
       ],
       "layout": "IPY_MODEL_3b2d57676262459690f598d5808383eb"
      }
     },
     "31d89422cbd44fe99dd87f02d05710f8": {
      "model_module": "@jupyter-widgets/controls",
      "model_module_version": "1.5.0",
      "model_name": "FloatProgressModel",
      "state": {
       "bar_style": "success",
       "description": "100%",
       "layout": "IPY_MODEL_d92bf18225aa4456be58160b521f607f",
       "max": 54404,
       "style": "IPY_MODEL_601bdf1dea7f4c58b70d501d27d161b2",
       "value": 54404
      }
     },
     "339b4b8e25d94e36bf24c329900ca9dd": {
      "model_module": "@jupyter-widgets/controls",
      "model_module_version": "1.5.0",
      "model_name": "HBoxModel",
      "state": {
       "children": [
        "IPY_MODEL_f201d480ab45492894affaa7dacc71e6",
        "IPY_MODEL_2a05def7df604aefb1063c42a442a9cc"
       ],
       "layout": "IPY_MODEL_cf2e01f46e4648719127f85aa3cc9857"
      }
     },
     "3509b38326ff44d9880d3c56978a67b1": {
      "model_module": "@jupyter-widgets/controls",
      "model_module_version": "1.5.0",
      "model_name": "ProgressStyleModel",
      "state": {
       "description_width": "initial"
      }
     },
     "366d29ede43645aba4c8946cd9553dca": {
      "model_module": "@jupyter-widgets/base",
      "model_module_version": "1.2.0",
      "model_name": "LayoutModel",
      "state": {}
     },
     "3b2d57676262459690f598d5808383eb": {
      "model_module": "@jupyter-widgets/base",
      "model_module_version": "1.2.0",
      "model_name": "LayoutModel",
      "state": {}
     },
     "3c845b383ebb400a8870b7723735df43": {
      "model_module": "@jupyter-widgets/controls",
      "model_module_version": "1.5.0",
      "model_name": "FloatProgressModel",
      "state": {
       "bar_style": "success",
       "description": "100%",
       "layout": "IPY_MODEL_1628a141025c4f8aadb39d8ecfb72d73",
       "max": 1080,
       "style": "IPY_MODEL_3509b38326ff44d9880d3c56978a67b1",
       "value": 1080
      }
     },
     "401964b01792439f923bfad8b3a96923": {
      "model_module": "@jupyter-widgets/controls",
      "model_module_version": "1.5.0",
      "model_name": "ProgressStyleModel",
      "state": {
       "description_width": "initial"
      }
     },
     "45956762fdd24175b0bd279598057b39": {
      "model_module": "@jupyter-widgets/controls",
      "model_module_version": "1.5.0",
      "model_name": "FloatProgressModel",
      "state": {
       "bar_style": "success",
       "description": "100%",
       "layout": "IPY_MODEL_1d5cb71772c0454fa805233742191477",
       "max": 54404,
       "style": "IPY_MODEL_8ef6d764628f4e64b399545ab6527759",
       "value": 54404
      }
     },
     "4b0431f5fd4d4122b15c6a719d4cbe2a": {
      "model_module": "@jupyter-widgets/controls",
      "model_module_version": "1.5.0",
      "model_name": "DescriptionStyleModel",
      "state": {
       "description_width": ""
      }
     },
     "4e5cc1bc2777405dbd8829fce162fca1": {
      "model_module": "@jupyter-widgets/controls",
      "model_module_version": "1.5.0",
      "model_name": "HTMLModel",
      "state": {
       "layout": "IPY_MODEL_5c89955369cb4da2b1b4cceaf9ce2ccb",
       "style": "IPY_MODEL_c654f16f8c2143b7a45125b4b8b6f7b6",
       "value": " 1080/1080 [00:12&lt;00:00, 88.77it/s]"
      }
     },
     "5398069d757043e0b218cd9540132242": {
      "model_module": "@jupyter-widgets/base",
      "model_module_version": "1.2.0",
      "model_name": "LayoutModel",
      "state": {}
     },
     "56f1fdaa4d0a45ef903bdd0c2934fa96": {
      "model_module": "@jupyter-widgets/base",
      "model_module_version": "1.2.0",
      "model_name": "LayoutModel",
      "state": {}
     },
     "5c89955369cb4da2b1b4cceaf9ce2ccb": {
      "model_module": "@jupyter-widgets/base",
      "model_module_version": "1.2.0",
      "model_name": "LayoutModel",
      "state": {}
     },
     "601bdf1dea7f4c58b70d501d27d161b2": {
      "model_module": "@jupyter-widgets/controls",
      "model_module_version": "1.5.0",
      "model_name": "ProgressStyleModel",
      "state": {
       "description_width": "initial"
      }
     },
     "606d96232d354b0fa8b740c7ea160fb8": {
      "model_module": "@jupyter-widgets/base",
      "model_module_version": "1.2.0",
      "model_name": "LayoutModel",
      "state": {}
     },
     "67c2f837fd494a209cd1149005350c08": {
      "model_module": "@jupyter-widgets/base",
      "model_module_version": "1.2.0",
      "model_name": "LayoutModel",
      "state": {}
     },
     "6ae9d298b1944e37ac0ac7760c4454bd": {
      "model_module": "@jupyter-widgets/base",
      "model_module_version": "1.2.0",
      "model_name": "LayoutModel",
      "state": {}
     },
     "6d0eb327a9884d028714d4f9f799cc9c": {
      "model_module": "@jupyter-widgets/base",
      "model_module_version": "1.2.0",
      "model_name": "LayoutModel",
      "state": {}
     },
     "6d904ec8d96a4c6c8e816d5d6a4b7222": {
      "model_module": "@jupyter-widgets/base",
      "model_module_version": "1.2.0",
      "model_name": "LayoutModel",
      "state": {}
     },
     "6f00736114674d6fa4235fab7ea66987": {
      "model_module": "@jupyter-widgets/controls",
      "model_module_version": "1.5.0",
      "model_name": "HTMLModel",
      "state": {
       "layout": "IPY_MODEL_0b132e4db48a4409bd54ed95b919c314",
       "style": "IPY_MODEL_f2d2ce28af8445e6b6997326e9585282",
       "value": " 54404/54404 [01:12&lt;00:00, 747.23it/s]"
      }
     },
     "72865a63c24b4e6c957091bd4f17ff36": {
      "model_module": "@jupyter-widgets/controls",
      "model_module_version": "1.5.0",
      "model_name": "FloatProgressModel",
      "state": {
       "bar_style": "success",
       "description": "100%",
       "layout": "IPY_MODEL_dd953a20354a43cd92f2e445d5394dbf",
       "max": 1080,
       "style": "IPY_MODEL_b757ed952a9d486fa7a37bc574536832",
       "value": 1080
      }
     },
     "72e679171ac746b08570af95b76fd259": {
      "model_module": "@jupyter-widgets/controls",
      "model_module_version": "1.5.0",
      "model_name": "HBoxModel",
      "state": {
       "children": [
        "IPY_MODEL_72865a63c24b4e6c957091bd4f17ff36",
        "IPY_MODEL_9fb7a3e3bddb4a6e8575c0f84be76682"
       ],
       "layout": "IPY_MODEL_bb8945d47283432184c4bb9ec975abfc"
      }
     },
     "736c15b2871647a2a556f64f4277a4d4": {
      "model_module": "@jupyter-widgets/base",
      "model_module_version": "1.2.0",
      "model_name": "LayoutModel",
      "state": {}
     },
     "74ffb9908c62431bb196de0795f6645a": {
      "model_module": "@jupyter-widgets/base",
      "model_module_version": "1.2.0",
      "model_name": "LayoutModel",
      "state": {}
     },
     "78e8e4b82eaf466bafdd8e7d39b1010c": {
      "model_module": "@jupyter-widgets/base",
      "model_module_version": "1.2.0",
      "model_name": "LayoutModel",
      "state": {}
     },
     "89a07ff193214c5d9374f03786bd1c98": {
      "model_module": "@jupyter-widgets/controls",
      "model_module_version": "1.5.0",
      "model_name": "HTMLModel",
      "state": {
       "layout": "IPY_MODEL_e267c04e84be44409271ece8c0e4c19a",
       "style": "IPY_MODEL_0e4df3dad9214540af92b992cd72eeea",
       "value": " 54404/54404 [01:19&lt;00:00, 687.67it/s]"
      }
     },
     "8ab41df5d90d45fbbb292d7d052e94c2": {
      "model_module": "@jupyter-widgets/controls",
      "model_module_version": "1.5.0",
      "model_name": "FloatProgressModel",
      "state": {
       "bar_style": "success",
       "description": "100%",
       "layout": "IPY_MODEL_ac8002e8ac0d43f5984985f22a70f7b4",
       "max": 54404,
       "style": "IPY_MODEL_e213006180a442b2af5d8284633ddfef",
       "value": 54404
      }
     },
     "8ef6d764628f4e64b399545ab6527759": {
      "model_module": "@jupyter-widgets/controls",
      "model_module_version": "1.5.0",
      "model_name": "ProgressStyleModel",
      "state": {
       "description_width": "initial"
      }
     },
     "930f1462cb034ad8baf8752382ec8eab": {
      "model_module": "@jupyter-widgets/base",
      "model_module_version": "1.2.0",
      "model_name": "LayoutModel",
      "state": {}
     },
     "9cbd5d01284748c49f2a5bfe4ae97d31": {
      "model_module": "@jupyter-widgets/controls",
      "model_module_version": "1.5.0",
      "model_name": "HTMLModel",
      "state": {
       "layout": "IPY_MODEL_56f1fdaa4d0a45ef903bdd0c2934fa96",
       "style": "IPY_MODEL_f74323266cd5439e8889fca892c515cd",
       "value": " 1080/1080 [00:53&lt;00:00, 20.12it/s]"
      }
     },
     "9f19ffec020c4fd6ad815eac4ad621f1": {
      "model_module": "@jupyter-widgets/controls",
      "model_module_version": "1.5.0",
      "model_name": "HTMLModel",
      "state": {
       "layout": "IPY_MODEL_6ae9d298b1944e37ac0ac7760c4454bd",
       "style": "IPY_MODEL_e614c7eaf1a04d999c8d84c258c24a91",
       "value": " 54404/54404 [01:13&lt;00:00, 736.24it/s]"
      }
     },
     "9fb7a3e3bddb4a6e8575c0f84be76682": {
      "model_module": "@jupyter-widgets/controls",
      "model_module_version": "1.5.0",
      "model_name": "HTMLModel",
      "state": {
       "layout": "IPY_MODEL_af95d8679dfc4241a5595af6b78fb191",
       "style": "IPY_MODEL_cacd6c27bf0140d29288188068ba36c8",
       "value": " 1080/1080 [00:41&lt;00:00, 25.99it/s]"
      }
     },
     "a8d5cb51111245dc852cf6d82ec65af3": {
      "model_module": "@jupyter-widgets/controls",
      "model_module_version": "1.5.0",
      "model_name": "ProgressStyleModel",
      "state": {
       "description_width": "initial"
      }
     },
     "a9aac78aa4e1403a88722f19bbaf3736": {
      "model_module": "@jupyter-widgets/base",
      "model_module_version": "1.2.0",
      "model_name": "LayoutModel",
      "state": {}
     },
     "aa038197b9ea48078ee208b4866cc9b2": {
      "model_module": "@jupyter-widgets/base",
      "model_module_version": "1.2.0",
      "model_name": "LayoutModel",
      "state": {}
     },
     "ac8002e8ac0d43f5984985f22a70f7b4": {
      "model_module": "@jupyter-widgets/base",
      "model_module_version": "1.2.0",
      "model_name": "LayoutModel",
      "state": {}
     },
     "ae719a9e1d1144b88977c2ca24524149": {
      "model_module": "@jupyter-widgets/base",
      "model_module_version": "1.2.0",
      "model_name": "LayoutModel",
      "state": {}
     },
     "af95d8679dfc4241a5595af6b78fb191": {
      "model_module": "@jupyter-widgets/base",
      "model_module_version": "1.2.0",
      "model_name": "LayoutModel",
      "state": {}
     },
     "b0c404ba9e534008a062bc1df73e00e2": {
      "model_module": "@jupyter-widgets/base",
      "model_module_version": "1.2.0",
      "model_name": "LayoutModel",
      "state": {}
     },
     "b1b0f0d12602417e9f2576ec69a9ce43": {
      "model_module": "@jupyter-widgets/controls",
      "model_module_version": "1.5.0",
      "model_name": "HTMLModel",
      "state": {
       "layout": "IPY_MODEL_a9aac78aa4e1403a88722f19bbaf3736",
       "style": "IPY_MODEL_4b0431f5fd4d4122b15c6a719d4cbe2a",
       "value": " 54404/54404 [01:13&lt;00:00, 735.43it/s]"
      }
     },
     "b757ed952a9d486fa7a37bc574536832": {
      "model_module": "@jupyter-widgets/controls",
      "model_module_version": "1.5.0",
      "model_name": "ProgressStyleModel",
      "state": {
       "description_width": "initial"
      }
     },
     "b789ad9feeb9492abd21750cbf13485d": {
      "model_module": "@jupyter-widgets/controls",
      "model_module_version": "1.5.0",
      "model_name": "HBoxModel",
      "state": {
       "children": [
        "IPY_MODEL_eae6a738366042a48364ea05b6d99522",
        "IPY_MODEL_e900bb482cdf4ca38dbf1adf057790be"
       ],
       "layout": "IPY_MODEL_78e8e4b82eaf466bafdd8e7d39b1010c"
      }
     },
     "b7f930c9c92946cd81d7d70cd4769616": {
      "model_module": "@jupyter-widgets/controls",
      "model_module_version": "1.5.0",
      "model_name": "ProgressStyleModel",
      "state": {
       "description_width": "initial"
      }
     },
     "b88c6de73384477abb6afd2e93eed85d": {
      "model_module": "@jupyter-widgets/controls",
      "model_module_version": "1.5.0",
      "model_name": "FloatProgressModel",
      "state": {
       "bar_style": "success",
       "description": "100%",
       "layout": "IPY_MODEL_736c15b2871647a2a556f64f4277a4d4",
       "max": 54404,
       "style": "IPY_MODEL_a8d5cb51111245dc852cf6d82ec65af3",
       "value": 54404
      }
     },
     "bb4fd7b1f691458b81bf0e582f236f4f": {
      "model_module": "@jupyter-widgets/controls",
      "model_module_version": "1.5.0",
      "model_name": "HTMLModel",
      "state": {
       "layout": "IPY_MODEL_c99f6e30edb44f4f8f1c2c3a09ec9a3c",
       "style": "IPY_MODEL_ca52366a77e84ba2bdfbf81ad09dd976",
       "value": " 54404/54404 [01:13&lt;00:00, 739.45it/s]"
      }
     },
     "bb8945d47283432184c4bb9ec975abfc": {
      "model_module": "@jupyter-widgets/base",
      "model_module_version": "1.2.0",
      "model_name": "LayoutModel",
      "state": {}
     },
     "c13b400ad0c04eeeb4b58492d35f1613": {
      "model_module": "@jupyter-widgets/controls",
      "model_module_version": "1.5.0",
      "model_name": "HBoxModel",
      "state": {
       "children": [
        "IPY_MODEL_3c845b383ebb400a8870b7723735df43",
        "IPY_MODEL_e1ecdd903368458c972bd552e14a2664"
       ],
       "layout": "IPY_MODEL_f336973b98114fd991c9159dea600047"
      }
     },
     "c14d02e408e64ec49cfb25d075018c82": {
      "model_module": "@jupyter-widgets/controls",
      "model_module_version": "1.5.0",
      "model_name": "DescriptionStyleModel",
      "state": {
       "description_width": ""
      }
     },
     "c1711f38c0f649ea93f0455ddcee731f": {
      "model_module": "@jupyter-widgets/controls",
      "model_module_version": "1.5.0",
      "model_name": "ProgressStyleModel",
      "state": {
       "description_width": "initial"
      }
     },
     "c654f16f8c2143b7a45125b4b8b6f7b6": {
      "model_module": "@jupyter-widgets/controls",
      "model_module_version": "1.5.0",
      "model_name": "DescriptionStyleModel",
      "state": {
       "description_width": ""
      }
     },
     "c99f6e30edb44f4f8f1c2c3a09ec9a3c": {
      "model_module": "@jupyter-widgets/base",
      "model_module_version": "1.2.0",
      "model_name": "LayoutModel",
      "state": {}
     },
     "ca52366a77e84ba2bdfbf81ad09dd976": {
      "model_module": "@jupyter-widgets/controls",
      "model_module_version": "1.5.0",
      "model_name": "DescriptionStyleModel",
      "state": {
       "description_width": ""
      }
     },
     "cacd6c27bf0140d29288188068ba36c8": {
      "model_module": "@jupyter-widgets/controls",
      "model_module_version": "1.5.0",
      "model_name": "DescriptionStyleModel",
      "state": {
       "description_width": ""
      }
     },
     "cf2e01f46e4648719127f85aa3cc9857": {
      "model_module": "@jupyter-widgets/base",
      "model_module_version": "1.2.0",
      "model_name": "LayoutModel",
      "state": {}
     },
     "d433ec3ab57445959373132679e4a7de": {
      "model_module": "@jupyter-widgets/base",
      "model_module_version": "1.2.0",
      "model_name": "LayoutModel",
      "state": {}
     },
     "d4c925fe864448f3b3b6b1c829021618": {
      "model_module": "@jupyter-widgets/controls",
      "model_module_version": "1.5.0",
      "model_name": "ProgressStyleModel",
      "state": {
       "description_width": "initial"
      }
     },
     "d92bf18225aa4456be58160b521f607f": {
      "model_module": "@jupyter-widgets/base",
      "model_module_version": "1.2.0",
      "model_name": "LayoutModel",
      "state": {}
     },
     "dd953a20354a43cd92f2e445d5394dbf": {
      "model_module": "@jupyter-widgets/base",
      "model_module_version": "1.2.0",
      "model_name": "LayoutModel",
      "state": {}
     },
     "dfcfb5b728e64d50938fb47cda7c18dd": {
      "model_module": "@jupyter-widgets/base",
      "model_module_version": "1.2.0",
      "model_name": "LayoutModel",
      "state": {}
     },
     "e1ecdd903368458c972bd552e14a2664": {
      "model_module": "@jupyter-widgets/controls",
      "model_module_version": "1.5.0",
      "model_name": "HTMLModel",
      "state": {
       "layout": "IPY_MODEL_e7fa4dffcfe9416582dd66c2fc9b9785",
       "style": "IPY_MODEL_e783ed588e524b9abf889f85634e96d5",
       "value": " 1080/1080 [03:31&lt;00:00,  5.10it/s]"
      }
     },
     "e213006180a442b2af5d8284633ddfef": {
      "model_module": "@jupyter-widgets/controls",
      "model_module_version": "1.5.0",
      "model_name": "ProgressStyleModel",
      "state": {
       "description_width": "initial"
      }
     },
     "e267c04e84be44409271ece8c0e4c19a": {
      "model_module": "@jupyter-widgets/base",
      "model_module_version": "1.2.0",
      "model_name": "LayoutModel",
      "state": {}
     },
     "e454c6c2890c4084acc85983dce47fc4": {
      "model_module": "@jupyter-widgets/controls",
      "model_module_version": "1.5.0",
      "model_name": "FloatProgressModel",
      "state": {
       "bar_style": "success",
       "description": "100%",
       "layout": "IPY_MODEL_366d29ede43645aba4c8946cd9553dca",
       "max": 1080,
       "style": "IPY_MODEL_c1711f38c0f649ea93f0455ddcee731f",
       "value": 1080
      }
     },
     "e614c7eaf1a04d999c8d84c258c24a91": {
      "model_module": "@jupyter-widgets/controls",
      "model_module_version": "1.5.0",
      "model_name": "DescriptionStyleModel",
      "state": {
       "description_width": ""
      }
     },
     "e783ed588e524b9abf889f85634e96d5": {
      "model_module": "@jupyter-widgets/controls",
      "model_module_version": "1.5.0",
      "model_name": "DescriptionStyleModel",
      "state": {
       "description_width": ""
      }
     },
     "e7fa4dffcfe9416582dd66c2fc9b9785": {
      "model_module": "@jupyter-widgets/base",
      "model_module_version": "1.2.0",
      "model_name": "LayoutModel",
      "state": {}
     },
     "e900bb482cdf4ca38dbf1adf057790be": {
      "model_module": "@jupyter-widgets/controls",
      "model_module_version": "1.5.0",
      "model_name": "HTMLModel",
      "state": {
       "layout": "IPY_MODEL_67c2f837fd494a209cd1149005350c08",
       "style": "IPY_MODEL_c14d02e408e64ec49cfb25d075018c82",
       "value": " 54404/54404 [01:14&lt;00:00, 726.27it/s]"
      }
     },
     "ea85ab1c5e99411c8b72c69f140fcf63": {
      "model_module": "@jupyter-widgets/controls",
      "model_module_version": "1.5.0",
      "model_name": "ProgressStyleModel",
      "state": {
       "description_width": "initial"
      }
     },
     "eaae4616cb964353ae71d232acaf04a5": {
      "model_module": "@jupyter-widgets/controls",
      "model_module_version": "1.5.0",
      "model_name": "HBoxModel",
      "state": {
       "children": [
        "IPY_MODEL_8ab41df5d90d45fbbb292d7d052e94c2",
        "IPY_MODEL_6f00736114674d6fa4235fab7ea66987"
       ],
       "layout": "IPY_MODEL_ed2264d38f794ccfaa7373cf282e12e7"
      }
     },
     "eae6a738366042a48364ea05b6d99522": {
      "model_module": "@jupyter-widgets/controls",
      "model_module_version": "1.5.0",
      "model_name": "FloatProgressModel",
      "state": {
       "bar_style": "success",
       "description": "100%",
       "layout": "IPY_MODEL_05cd2d8f5b15457fbeb14dda0bfc2e46",
       "max": 54404,
       "style": "IPY_MODEL_b7f930c9c92946cd81d7d70cd4769616",
       "value": 54404
      }
     },
     "ecc71ceb48c249ca9735b32b3fae40c9": {
      "model_module": "@jupyter-widgets/controls",
      "model_module_version": "1.5.0",
      "model_name": "HBoxModel",
      "state": {
       "children": [
        "IPY_MODEL_f61bc90e20114d0c97eb08ddeb057ad6",
        "IPY_MODEL_4e5cc1bc2777405dbd8829fce162fca1"
       ],
       "layout": "IPY_MODEL_d433ec3ab57445959373132679e4a7de"
      }
     },
     "ed2264d38f794ccfaa7373cf282e12e7": {
      "model_module": "@jupyter-widgets/base",
      "model_module_version": "1.2.0",
      "model_name": "LayoutModel",
      "state": {}
     },
     "f201d480ab45492894affaa7dacc71e6": {
      "model_module": "@jupyter-widgets/controls",
      "model_module_version": "1.5.0",
      "model_name": "FloatProgressModel",
      "state": {
       "bar_style": "success",
       "description": "100%",
       "layout": "IPY_MODEL_ae719a9e1d1144b88977c2ca24524149",
       "max": 1080,
       "style": "IPY_MODEL_d4c925fe864448f3b3b6b1c829021618",
       "value": 1080
      }
     },
     "f2d2ce28af8445e6b6997326e9585282": {
      "model_module": "@jupyter-widgets/controls",
      "model_module_version": "1.5.0",
      "model_name": "DescriptionStyleModel",
      "state": {
       "description_width": ""
      }
     },
     "f336973b98114fd991c9159dea600047": {
      "model_module": "@jupyter-widgets/base",
      "model_module_version": "1.2.0",
      "model_name": "LayoutModel",
      "state": {}
     },
     "f61bc90e20114d0c97eb08ddeb057ad6": {
      "model_module": "@jupyter-widgets/controls",
      "model_module_version": "1.5.0",
      "model_name": "FloatProgressModel",
      "state": {
       "bar_style": "success",
       "description": "100%",
       "layout": "IPY_MODEL_f99856ae41ee4d53aab555edf95cb659",
       "max": 1080,
       "style": "IPY_MODEL_401964b01792439f923bfad8b3a96923",
       "value": 1080
      }
     },
     "f74323266cd5439e8889fca892c515cd": {
      "model_module": "@jupyter-widgets/controls",
      "model_module_version": "1.5.0",
      "model_name": "DescriptionStyleModel",
      "state": {
       "description_width": ""
      }
     },
     "f766ce281f2b439c9f477a1fd9375542": {
      "model_module": "@jupyter-widgets/controls",
      "model_module_version": "1.5.0",
      "model_name": "HTMLModel",
      "state": {
       "layout": "IPY_MODEL_606d96232d354b0fa8b740c7ea160fb8",
       "style": "IPY_MODEL_30ecdd1e161145f3b0cea2da2b5ed087",
       "value": " 54404/54404 [01:20&lt;00:00, 671.68it/s]"
      }
     },
     "f99856ae41ee4d53aab555edf95cb659": {
      "model_module": "@jupyter-widgets/base",
      "model_module_version": "1.2.0",
      "model_name": "LayoutModel",
      "state": {}
     },
     "f9ad36f7b07b41559ec3fa99d3a27589": {
      "model_module": "@jupyter-widgets/controls",
      "model_module_version": "1.5.0",
      "model_name": "HBoxModel",
      "state": {
       "children": [
        "IPY_MODEL_28a919f2abbc48fcaf8b76eed040e97f",
        "IPY_MODEL_9f19ffec020c4fd6ad815eac4ad621f1"
       ],
       "layout": "IPY_MODEL_aa038197b9ea48078ee208b4866cc9b2"
      }
     }
    },
    "version_major": 2,
    "version_minor": 0
   }
  }
 },
 "nbformat": 4,
 "nbformat_minor": 4
}
