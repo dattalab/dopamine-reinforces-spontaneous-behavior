{
 "cells": [
  {
   "cell_type": "code",
   "execution_count": 1,
   "metadata": {},
   "outputs": [],
   "source": [
    "%load_ext autoreload\n",
    "%autoreload 2\n",
    "%matplotlib inline"
   ]
  },
  {
   "cell_type": "code",
   "execution_count": 2,
   "metadata": {},
   "outputs": [],
   "source": [
    "from tqdm.auto import tqdm\n",
    "from rl_analysis.plotting import (\n",
    "    setup_plotting_env,\n",
    "    clean_ticks, \n",
    "    savefig,\n",
    ")\n",
    "from scipy.stats import mannwhitneyu\n",
    "\n",
    "from rl_analysis.photometry.decoding.models import exp_smoother\n",
    "from rl_analysis.photometry.decoding.util import run_simulation, run_simulation_stim\n",
    "from rl_analysis.io.df import dlight_exclude\n",
    "\n",
    "from copy import deepcopy\n",
    "from joblib import Parallel, delayed\n",
    "from scipy.stats import zscore\n",
    "from sklearn import model_selection\n",
    "from dask.distributed import Client\n",
    "from scipy.stats import pearsonr\n",
    "\n",
    "import dask.delayed as dask_delayed\n",
    "import pandas as pd\n",
    "import matplotlib.pyplot as plt\n",
    "import numpy as np\n",
    "import os\n",
    "import seaborn as sns"
   ]
  },
  {
   "cell_type": "code",
   "execution_count": 3,
   "metadata": {},
   "outputs": [],
   "source": [
    "import sys\n",
    "from contextlib import redirect_stderr\n",
    "\n",
    "terminal = sys.__stderr__"
   ]
  },
  {
   "cell_type": "code",
   "execution_count": 4,
   "metadata": {},
   "outputs": [],
   "source": [
    "import toml\n",
    "\n",
    "with open(\"../analysis_configuration.toml\", \"r\") as f:\n",
    "    analysis_config = toml.load(f)"
   ]
  },
  {
   "cell_type": "code",
   "execution_count": 5,
   "metadata": {},
   "outputs": [],
   "source": [
    "raw_dirs = analysis_config[\"raw_data\"]\n",
    "proc_dirs = analysis_config[\"intermediate_results\"]\n",
    "lagged_cfg = analysis_config[\"dlight_lagged_correlations\"]\n",
    "encoding_cfg = analysis_config[\"dlight_encoding_features\"]\n",
    "figure_cfg = analysis_config[\"figures\"]\n",
    "dlight_cfg = analysis_config[\"dlight_common\"]\n",
    "dask_address = analysis_config[\"dask\"].get(\"address\")\n",
    "dask_address = None"
   ]
  },
  {
   "cell_type": "code",
   "execution_count": 6,
   "metadata": {},
   "outputs": [],
   "source": [
    "# file_suffix = \"offline\" if lagged_cfg[\"use_offline\"] else \"online\"\n",
    "file_suffix = \"online\"\n",
    "load_file = os.path.join(raw_dirs[\"dlight\"], f\"dlight_snippets_{file_suffix}.parquet\")"
   ]
  },
  {
   "cell_type": "code",
   "execution_count": 7,
   "metadata": {},
   "outputs": [],
   "source": [
    "file, ext = os.path.splitext(load_file)\n",
    "features_save_file = f\"{file}_features{ext}\"\n",
    "\n",
    "dirname, filename = os.path.split(features_save_file)\n",
    "file, ext = os.path.splitext(filename)\n",
    "file = os.path.join(proc_dirs[\"dlight\"], file)\n",
    "\n",
    "if lagged_cfg[\"use_renormalized\"]:\n",
    "    file, ext = os.path.splitext(features_save_file)\n",
    "    features_save_file = f\"{file}_renormalize{ext}\""
   ]
  },
  {
   "cell_type": "code",
   "execution_count": 8,
   "metadata": {},
   "outputs": [],
   "source": [
    "raw_feature_df = pd.read_parquet(features_save_file)"
   ]
  },
  {
   "cell_type": "markdown",
   "metadata": {},
   "source": [
    "# helper functions"
   ]
  },
  {
   "cell_type": "code",
   "execution_count": 9,
   "metadata": {},
   "outputs": [],
   "source": [
    "from numba import jit, prange\n",
    "\n",
    "\n",
    "@jit(nopython=True, parallel=True)\n",
    "def shuffle_rows(x):\n",
    "    idx = np.arange(x.shape[1])\n",
    "    y = np.empty((x.shape[0], x.shape[1]))\n",
    "    for i in prange(x.shape[0]):\n",
    "        tmp = np.random.randint(-x.shape[1], +x.shape[1])\n",
    "        rolled_idx = np.roll(idx, int(tmp))\n",
    "        y[i] = x[i][rolled_idx]\n",
    "    return y"
   ]
  },
  {
   "cell_type": "markdown",
   "metadata": {},
   "source": [
    "# Load in pre-processed data"
   ]
  },
  {
   "cell_type": "code",
   "execution_count": 10,
   "metadata": {},
   "outputs": [],
   "source": [
    "syllable_key = \"syllable\"\n",
    "feature_key = \"signal_reref_dff_z_max\""
   ]
  },
  {
   "cell_type": "markdown",
   "metadata": {},
   "source": [
    "## No-stim data"
   ]
  },
  {
   "cell_type": "code",
   "execution_count": 11,
   "metadata": {},
   "outputs": [],
   "source": [
    "use_data = pd.read_parquet(\n",
    "    os.path.join(raw_dirs[\"rl_modeling\"], \"rl_modeling_dlight_data_offline.parquet\")\n",
    ")"
   ]
  },
  {
   "cell_type": "code",
   "execution_count": 12,
   "metadata": {},
   "outputs": [],
   "source": [
    "use_data = dlight_exclude(\n",
    "    use_data, exclude_3s=False, exclude_target=False, **dlight_cfg\n",
    ")\n",
    "use_data = use_data[~use_data[\"session_number\"].isin([1, 2, 3, 4])].copy()"
   ]
  },
  {
   "cell_type": "code",
   "execution_count": 13,
   "metadata": {},
   "outputs": [],
   "source": [
    "cutoff = 2500\n",
    "\n",
    "group_obj = use_data.groupby([\"mouse_id\", \"uuid\"])\n",
    "use_data = group_obj.filter(lambda x: (len(x.dropna(subset=[feature_key])) > cutoff))\n",
    "group_obj = use_data.groupby([\"mouse_id\", \"uuid\"])\n",
    "\n",
    "\n",
    "# gather data, split off training data for optimizing hyperparameters\n",
    "seqs = np.array([df[syllable_key].values[:cutoff] for k, df in group_obj])\n",
    "uuids = np.array([df[\"uuid\"].values[0] for k, df in group_obj])\n",
    "features = np.array([df[feature_key].values[:cutoff] for k, df in group_obj])\n",
    "timestamps = np.array([df[\"timestamp\"].values[:cutoff] for k, df in group_obj])\n",
    "keys = [k for k, _ in group_obj]\n",
    "\n",
    "features -= np.nanmean(features, axis=1, keepdims=True)\n",
    "features /= np.nanstd(features, axis=1, keepdims=True)"
   ]
  },
  {
   "cell_type": "code",
   "execution_count": 14,
   "metadata": {},
   "outputs": [],
   "source": [
    "conv_feature = (\n",
    "    pd.get_dummies(\n",
    "        pd.Series(seqs[0]).astype(\"category\").cat.set_categories(np.arange(100))\n",
    "    )\n",
    "    * features[0][:, None]\n",
    ")"
   ]
  },
  {
   "cell_type": "code",
   "execution_count": 15,
   "metadata": {},
   "outputs": [
    {
     "data": {
      "text/plain": [
       "218"
      ]
     },
     "execution_count": 15,
     "metadata": {},
     "output_type": "execute_result"
    }
   ],
   "source": [
    "len(features)"
   ]
  },
  {
   "cell_type": "markdown",
   "metadata": {
    "tags": []
   },
   "source": [
    "## Plot an example"
   ]
  },
  {
   "cell_type": "code",
   "execution_count": 16,
   "metadata": {},
   "outputs": [],
   "source": [
    "use_uuid = \"bd522604-480a-4999-b678-3b6fd7948c15\"\n",
    "use_idx = np.flatnonzero(uuids == use_uuid)[0]"
   ]
  },
  {
   "cell_type": "code",
   "execution_count": 17,
   "metadata": {},
   "outputs": [],
   "source": [
    "conv_feature = (\n",
    "    pd.get_dummies(\n",
    "        pd.Series(seqs[use_idx]).astype(\"category\").cat.set_categories(np.arange(100))\n",
    "    )\n",
    "    * features[use_idx][:, None]\n",
    ")\n",
    "conv_feature = conv_feature.values\n",
    "results = exp_smoother(\n",
    "    seqs[use_idx],\n",
    "    conv_feature,\n",
    "    nsyllables=10,\n",
    "    entropy_tau=10.0,\n",
    "    entropy_scaling=0.05,\n",
    "    usage_tau=100.0,\n",
    "    baseline_temperature=30.0,\n",
    "    usage_scaling=250.0,\n",
    "    log_variables=True,\n",
    ")"
   ]
  },
  {
   "cell_type": "code",
   "execution_count": 18,
   "metadata": {},
   "outputs": [],
   "source": [
    "setup_plotting_env()"
   ]
  },
  {
   "cell_type": "code",
   "execution_count": 19,
   "metadata": {},
   "outputs": [
    {
     "data": {
      "image/png": "[encoded data removed]",
      "text/plain": [
       "<Figure size 300x400 with 2 Axes>"
      ]
     },
     "metadata": {},
     "output_type": "display_data"
    }
   ],
   "source": [
    "plt_examples = [5, 4]\n",
    "burn_in = 100\n",
    "fig, ax = plt.subplots(\n",
    "    len(plt_examples), 1, figsize=(1.5, 1 * len(plt_examples)), sharex=True, sharey=True\n",
    ")\n",
    "\n",
    "for _example, _ax in zip(plt_examples, ax):\n",
    "    (h2,) = _ax.plot(\n",
    "        zscore(np.array(results[\"usage_tracker_history\"])[burn_in:, _example]),\n",
    "        label=\"Observed usage\",\n",
    "    )\n",
    "    (h1,) = _ax.plot(\n",
    "        zscore(np.array(results[\"probas_history\"])[burn_in:, _example]),\n",
    "        label=\"Prediction\",\n",
    "    )\n",
    "\n",
    "sns.despine(offset=5)\n",
    "plt.legend([h1, h2], [\"Prediction\", \"Observed usage\"], bbox_to_anchor=(1, 1.05))\n",
    "plt.xlim(0, 250)\n",
    "clean_ticks(ax[-1], \"x\", precision=-1, dtype=int, zero_symmetry=False)\n",
    "clean_ticks(ax[-1], \"y\", precision=0, dtype=int)\n",
    "savefig(\n",
    "    fig,\n",
    "    os.path.join(figure_cfg[\"store_dir\"], \"decoding_model_examples\"),\n",
    "    bbox_inches=\"tight\",\n",
    ")"
   ]
  },
  {
   "cell_type": "code",
   "execution_count": 20,
   "metadata": {},
   "outputs": [],
   "source": [
    "# plot exponential kernels, just send a SHOCK TO THE SYSTEM\n",
    "taus = {}\n",
    "taus[\"usage\"] = 100.0\n",
    "taus[\"entropy\"] = 10.0"
   ]
  },
  {
   "cell_type": "code",
   "execution_count": 21,
   "metadata": {},
   "outputs": [],
   "source": [
    "def simple_smoother(data, tau=100.0):\n",
    "    alpha = 1.0 / tau\n",
    "    ave = 0\n",
    "    vals = []\n",
    "    for _datum in data:\n",
    "        ave = (1 - alpha) * ave + alpha * _datum\n",
    "        vals.append(ave)\n",
    "    return np.array(vals)"
   ]
  },
  {
   "cell_type": "code",
   "execution_count": 22,
   "metadata": {},
   "outputs": [],
   "source": [
    "use_input = np.zeros((600,))\n",
    "use_input[0] = 10.0"
   ]
  },
  {
   "cell_type": "code",
   "execution_count": 23,
   "metadata": {},
   "outputs": [],
   "source": [
    "kernels = {}\n",
    "for k, v in taus.items():\n",
    "    kernels[k] = simple_smoother(use_input, v)"
   ]
  },
  {
   "cell_type": "code",
   "execution_count": 24,
   "metadata": {},
   "outputs": [],
   "source": [
    "setup_plotting_env()"
   ]
  },
  {
   "cell_type": "code",
   "execution_count": 25,
   "metadata": {},
   "outputs": [
    {
     "data": {
      "image/png": "[encoded data removed]",
      "text/plain": [
       "<Figure size 300x300 with 1 Axes>"
      ]
     },
     "metadata": {},
     "output_type": "display_data"
    }
   ],
   "source": [
    "fig, ax = plt.subplots(1, figsize=(1.5, 1.5))\n",
    "for k, v in kernels.items():\n",
    "    plt.plot(v / v.max(), label=k, clip_on=False)\n",
    "plt.xlim(600, 0)\n",
    "plt.ylim(0, 1)\n",
    "plt.legend(bbox_to_anchor=(0.5, 1.05))\n",
    "sns.despine(offset=5)\n",
    "clean_ticks(ax, \"x\", precision=-2, zero_symmetry=False, dtype=int)\n",
    "clean_ticks(ax, \"y\", precision=0, zero_symmetry=False, dtype=int)\n",
    "savefig(\n",
    "    fig,\n",
    "    os.path.join(figure_cfg[\"store_dir\"], \"decoding_model_kernels\"),\n",
    "    bbox_inches=\"tight\",\n",
    ")"
   ]
  },
  {
   "cell_type": "markdown",
   "metadata": {
    "tags": []
   },
   "source": [
    "## Repeated k-folds to z-score results"
   ]
  },
  {
   "cell_type": "code",
   "execution_count": 26,
   "metadata": {},
   "outputs": [],
   "source": [
    "n_folds = 5\n",
    "n_repeats = 50"
   ]
  },
  {
   "cell_type": "code",
   "execution_count": 27,
   "metadata": {},
   "outputs": [],
   "source": [
    "parameter_scan_dct = [\n",
    "    {\n",
    "        \"entropy_tau\": [10.0],\n",
    "        \"usage_tau\": [100.0],\n",
    "        \"entropy_scaling\": [0.05],\n",
    "        \"baseline_temperature\": [30.0],\n",
    "        \"usage_scaling\": np.around(np.arange(100.0, 500.1, 50.0), 3),\n",
    "        \"nsyllables\": [10],\n",
    "    }\n",
    "]"
   ]
  },
  {
   "cell_type": "code",
   "execution_count": 28,
   "metadata": {
    "tags": []
   },
   "outputs": [],
   "source": [
    "param_iter = model_selection.ParameterGrid(parameter_scan_dct)"
   ]
  },
  {
   "cell_type": "code",
   "execution_count": 29,
   "metadata": {},
   "outputs": [],
   "source": [
    "lag_func = lambda x: np.roll(x, 0, axis=1)"
   ]
  },
  {
   "cell_type": "code",
   "execution_count": 30,
   "metadata": {},
   "outputs": [],
   "source": [
    "if dask_address is not None:\n",
    "    use_delayed = dask_delayed\n",
    "    client = Client(dask_address)\n",
    "else:\n",
    "    use_delayed = delayed"
   ]
  },
  {
   "cell_type": "code",
   "execution_count": 31,
   "metadata": {},
   "outputs": [],
   "source": [
    "splits = model_selection.RepeatedKFold(\n",
    "    n_splits=n_folds, n_repeats=n_repeats, random_state=0\n",
    ")\n",
    "use_splits = list(splits.split(seqs))\n",
    "delays = []\n",
    "store_dcts = []\n",
    "\n",
    "# get optimal parameters for every split\n",
    "for i, (train_index, test_index) in enumerate(use_splits):\n",
    "    seqs_train, features_train = seqs[train_index], lag_func(features[train_index])\n",
    "\n",
    "    for _param in param_iter:\n",
    "        delays.append(\n",
    "            use_delayed(run_simulation)(\n",
    "                seqs_train, features_train, log_variables=True, **_param\n",
    "            )\n",
    "        )\n",
    "        store_dct = deepcopy(_param)\n",
    "        store_dct[\"fold\"] = i\n",
    "        store_dcts.append(store_dct)"
   ]
  },
  {
   "cell_type": "code",
   "execution_count": 32,
   "metadata": {
    "tags": []
   },
   "outputs": [
    {
     "name": "stderr",
     "output_type": "stream",
     "text": [
      "2250 Total jobs to process\n",
      "[Parallel(n_jobs=-5)]: Using backend LokyBackend with 124 concurrent workers.\n",
      "[Parallel(n_jobs=-5)]: Done  17 tasks      | elapsed:   40.3s\n",
      "[Parallel(n_jobs=-5)]: Done  40 tasks      | elapsed:   41.8s\n",
      "[Parallel(n_jobs=-5)]: Done  65 tasks      | elapsed:   43.2s\n",
      "[Parallel(n_jobs=-5)]: Done  90 tasks      | elapsed:   44.8s\n",
      "[Parallel(n_jobs=-5)]: Done 117 tasks      | elapsed:   46.8s\n",
      "[Parallel(n_jobs=-5)]: Done 144 tasks      | elapsed:  1.0min\n",
      "[Parallel(n_jobs=-5)]: Done 173 tasks      | elapsed:  1.1min\n",
      "[Parallel(n_jobs=-5)]: Done 202 tasks      | elapsed:  1.2min\n",
      "[Parallel(n_jobs=-5)]: Done 233 tasks      | elapsed:  1.2min\n",
      "[Parallel(n_jobs=-5)]: Done 264 tasks      | elapsed:  1.4min\n",
      "[Parallel(n_jobs=-5)]: Done 297 tasks      | elapsed:  1.5min\n",
      "[Parallel(n_jobs=-5)]: Done 330 tasks      | elapsed:  1.6min\n",
      "[Parallel(n_jobs=-5)]: Done 365 tasks      | elapsed:  1.6min\n",
      "[Parallel(n_jobs=-5)]: Done 400 tasks      | elapsed:  1.9min\n",
      "[Parallel(n_jobs=-5)]: Done 437 tasks      | elapsed:  2.0min\n",
      "[Parallel(n_jobs=-5)]: Done 474 tasks      | elapsed:  2.0min\n",
      "[Parallel(n_jobs=-5)]: Done 513 tasks      | elapsed:  2.2min\n",
      "[Parallel(n_jobs=-5)]: Done 552 tasks      | elapsed:  2.4min\n",
      "[Parallel(n_jobs=-5)]: Done 593 tasks      | elapsed:  2.5min\n",
      "[Parallel(n_jobs=-5)]: Done 634 tasks      | elapsed:  2.6min\n",
      "[Parallel(n_jobs=-5)]: Done 677 tasks      | elapsed:  2.8min\n",
      "[Parallel(n_jobs=-5)]: Done 720 tasks      | elapsed:  2.9min\n",
      "[Parallel(n_jobs=-5)]: Done 765 tasks      | elapsed:  3.1min\n",
      "[Parallel(n_jobs=-5)]: Done 810 tasks      | elapsed:  3.2min\n",
      "[Parallel(n_jobs=-5)]: Done 857 tasks      | elapsed:  3.3min\n",
      "[Parallel(n_jobs=-5)]: Done 904 tasks      | elapsed:  3.6min\n",
      "[Parallel(n_jobs=-5)]: Done 953 tasks      | elapsed:  3.7min\n",
      "[Parallel(n_jobs=-5)]: Done 1002 tasks      | elapsed:  3.8min\n",
      "[Parallel(n_jobs=-5)]: Done 1053 tasks      | elapsed:  4.0min\n",
      "[Parallel(n_jobs=-5)]: Done 1104 tasks      | elapsed:  4.2min\n",
      "[Parallel(n_jobs=-5)]: Done 1157 tasks      | elapsed:  4.4min\n",
      "[Parallel(n_jobs=-5)]: Done 1210 tasks      | elapsed:  4.6min\n",
      "[Parallel(n_jobs=-5)]: Done 1265 tasks      | elapsed:  4.8min\n",
      "[Parallel(n_jobs=-5)]: Done 1320 tasks      | elapsed:  4.9min\n",
      "[Parallel(n_jobs=-5)]: Done 1377 tasks      | elapsed:  5.1min\n",
      "[Parallel(n_jobs=-5)]: Done 1434 tasks      | elapsed:  5.3min\n",
      "[Parallel(n_jobs=-5)]: Done 1493 tasks      | elapsed:  5.5min\n",
      "[Parallel(n_jobs=-5)]: Done 1552 tasks      | elapsed:  5.7min\n",
      "[Parallel(n_jobs=-5)]: Done 1613 tasks      | elapsed:  5.9min\n",
      "[Parallel(n_jobs=-5)]: Done 1674 tasks      | elapsed:  6.1min\n",
      "[Parallel(n_jobs=-5)]: Done 1737 tasks      | elapsed:  6.3min\n",
      "[Parallel(n_jobs=-5)]: Done 1800 tasks      | elapsed:  6.6min\n",
      "[Parallel(n_jobs=-5)]: Done 1865 tasks      | elapsed:  6.8min\n",
      "[Parallel(n_jobs=-5)]: Done 1930 tasks      | elapsed:  7.1min\n",
      "[Parallel(n_jobs=-5)]: Done 1997 tasks      | elapsed:  7.3min\n",
      "[Parallel(n_jobs=-5)]: Done 2229 out of 2250 | elapsed:  8.0min remaining:    4.5s\n",
      "[Parallel(n_jobs=-5)]: Done 2250 out of 2250 | elapsed:  8.0min finished\n"
     ]
    }
   ],
   "source": [
    "if dask_address is not None:\n",
    "    futures = client.compute(delays)\n",
    "    results = client.gather(futures)\n",
    "else:\n",
    "    with redirect_stderr(terminal):\n",
    "        print(f\"{len(delays)} Total jobs to process\", file=terminal)\n",
    "        results = Parallel(n_jobs=-5, verbose=10, backend=\"loky\")(delays)"
   ]
  },
  {
   "cell_type": "code",
   "execution_count": 33,
   "metadata": {},
   "outputs": [
    {
     "data": {
      "application/vnd.jupyter.widget-view+json": {
       "model_id": "baf64102da4443babe16128d513338c1",
       "version_major": 2,
       "version_minor": 0
      },
      "text/plain": [
       "  0%|          | 0/2250 [00:00<?, ?it/s]"
      ]
     },
     "metadata": {},
     "output_type": "display_data"
    }
   ],
   "source": [
    "dcts = []\n",
    "burn_in = 50\n",
    "probas_cutoff = 300\n",
    "eps = 1e-10\n",
    "\n",
    "for _results, _params in tqdm(zip(results, store_dcts), total=len(results)):\n",
    "    _dct = deepcopy(_params)\n",
    "    rs = []\n",
    "    ls = []\n",
    "    norm_lls = []\n",
    "    ave_rs = []\n",
    "    concat_rs = []\n",
    "    oracle_lls = []\n",
    "\n",
    "    for _result in _results:\n",
    "        _nsyllables = _result[\"probas_history\"].shape[1]\n",
    "        _rs = []\n",
    "\n",
    "        if len(_result[\"probas_history\"]) < probas_cutoff:\n",
    "            continue\n",
    "\n",
    "        uni_model = np.log((1.0 / _nsyllables) + eps)\n",
    "        concat_rs.append(\n",
    "            pearsonr(\n",
    "                _result[\"probas_history\"].ravel(),\n",
    "                _result[\"usage_tracker_history\"][:, :_nsyllables].ravel(),\n",
    "            )[0]\n",
    "        )\n",
    "        oracle_lls.append(_result[\"ll_oracle\"])\n",
    "        ls.append(_result[\"ll\"])\n",
    "        norm_lls.append(\n",
    "            (_result[\"ll\"] - uni_model) / (_result[\"ll_oracle\"] - uni_model)\n",
    "        )\n",
    "    _dct[\"r_concat\"] = np.mean(concat_rs)\n",
    "    _dct[\"ll\"] = np.mean(ls)\n",
    "    _dct[\"ll_norm\"] = np.mean(norm_lls)\n",
    "    _dct[\"ll_oracle\"] = np.mean(oracle_lls)\n",
    "    dcts.append(_dct)"
   ]
  },
  {
   "cell_type": "code",
   "execution_count": 34,
   "metadata": {},
   "outputs": [],
   "source": [
    "results_df = pd.DataFrame(dcts).set_index(list(param_iter[0].keys()))"
   ]
  },
  {
   "cell_type": "code",
   "execution_count": 35,
   "metadata": {},
   "outputs": [],
   "source": [
    "optimal_parameters = results_df.groupby(\"fold\")[\"ll\"].idxmax()"
   ]
  },
  {
   "cell_type": "code",
   "execution_count": 36,
   "metadata": {},
   "outputs": [
    {
     "data": {
      "text/plain": [
       "fold\n",
       "0      (100.0, 250.0, 10, 10.0, 0.05, 30.0)\n",
       "1      (100.0, 250.0, 10, 10.0, 0.05, 30.0)\n",
       "2      (100.0, 250.0, 10, 10.0, 0.05, 30.0)\n",
       "3      (100.0, 250.0, 10, 10.0, 0.05, 30.0)\n",
       "4      (100.0, 250.0, 10, 10.0, 0.05, 30.0)\n",
       "                       ...                 \n",
       "245    (100.0, 250.0, 10, 10.0, 0.05, 30.0)\n",
       "246    (100.0, 250.0, 10, 10.0, 0.05, 30.0)\n",
       "247    (100.0, 250.0, 10, 10.0, 0.05, 30.0)\n",
       "248    (100.0, 250.0, 10, 10.0, 0.05, 30.0)\n",
       "249    (100.0, 250.0, 10, 10.0, 0.05, 30.0)\n",
       "Name: ll, Length: 250, dtype: object"
      ]
     },
     "execution_count": 36,
     "metadata": {},
     "output_type": "execute_result"
    }
   ],
   "source": [
    "optimal_parameters"
   ]
  },
  {
   "cell_type": "code",
   "execution_count": 37,
   "metadata": {},
   "outputs": [],
   "source": [
    "# use optimal parameters for every split\n",
    "# compare against the many many controls...\n",
    "store_dcts = []\n",
    "delays = []\n",
    "for i, (train_index, test_index) in enumerate(use_splits):\n",
    "    seqs_test, features_test = seqs[test_index], lag_func(features[test_index])\n",
    "\n",
    "    use_params_tup = optimal_parameters[i]\n",
    "    param_names = results_df.index.names\n",
    "    _param = {k: v for k, v in zip(param_names, use_params_tup)}\n",
    "\n",
    "    random_dist = np.zeros_like(features_test)\n",
    "    for j in range(features_test.shape[0]):\n",
    "        random_dist[j] = np.random.randn(features_test.shape[1])\n",
    "        random_dist[j] *= np.nanstd(features_test[j])\n",
    "        random_dist[j] += np.nanmean(features_test[j])\n",
    "\n",
    "    random_shift = np.roll(features_test, np.random.randint(1, 1000), axis=1)\n",
    "\n",
    "    check_data = {\n",
    "        \"dlight\": features_test,\n",
    "        \"random_dist\": random_dist,\n",
    "        \"random_shift\": random_shift,\n",
    "    }\n",
    "\n",
    "    for k, v in check_data.items():\n",
    "        delays.append(\n",
    "            use_delayed(run_simulation)(seqs_test, v, log_variables=True, **_param)\n",
    "        )\n",
    "        store_dct = deepcopy(_param)\n",
    "        store_dct[\"fold\"] = i\n",
    "        store_dct[\"type\"] = k\n",
    "        store_dcts.append(store_dct)"
   ]
  },
  {
   "cell_type": "code",
   "execution_count": 38,
   "metadata": {},
   "outputs": [
    {
     "name": "stderr",
     "output_type": "stream",
     "text": [
      "[Parallel(n_jobs=-2)]: Using backend LokyBackend with 127 concurrent workers.\n",
      "[Parallel(n_jobs=-2)]: Done  11 tasks      | elapsed:    6.5s\n",
      "[Parallel(n_jobs=-2)]: Done  34 tasks      | elapsed:    7.0s\n",
      "[Parallel(n_jobs=-2)]: Done  59 tasks      | elapsed:    7.4s\n",
      "[Parallel(n_jobs=-2)]: Done  84 tasks      | elapsed:    7.8s\n",
      "[Parallel(n_jobs=-2)]: Done 111 tasks      | elapsed:    8.3s\n",
      "[Parallel(n_jobs=-2)]: Done 138 tasks      | elapsed:   12.0s\n",
      "[Parallel(n_jobs=-2)]: Done 167 tasks      | elapsed:   13.2s\n",
      "[Parallel(n_jobs=-2)]: Done 196 tasks      | elapsed:   14.1s\n",
      "[Parallel(n_jobs=-2)]: Done 227 tasks      | elapsed:   15.0s\n",
      "[Parallel(n_jobs=-2)]: Done 258 tasks      | elapsed:   18.0s\n",
      "[Parallel(n_jobs=-2)]: Done 291 tasks      | elapsed:   19.8s\n",
      "[Parallel(n_jobs=-2)]: Done 324 tasks      | elapsed:   21.0s\n",
      "[Parallel(n_jobs=-2)]: Done 359 tasks      | elapsed:   21.9s\n",
      "[Parallel(n_jobs=-2)]: Done 394 tasks      | elapsed:   25.1s\n",
      "[Parallel(n_jobs=-2)]: Done 431 tasks      | elapsed:   27.0s\n",
      "[Parallel(n_jobs=-2)]: Done 468 tasks      | elapsed:   28.3s\n",
      "[Parallel(n_jobs=-2)]: Done 573 out of 750 | elapsed:   34.4s remaining:   10.6s\n",
      "[Parallel(n_jobs=-2)]: Done 649 out of 750 | elapsed:   38.3s remaining:    6.0s\n",
      "[Parallel(n_jobs=-2)]: Done 725 out of 750 | elapsed:   40.3s remaining:    1.4s\n",
      "[Parallel(n_jobs=-2)]: Done 750 out of 750 | elapsed:   41.3s finished\n"
     ]
    }
   ],
   "source": [
    "if dask_address is not None:\n",
    "    futures = client.compute(delays)\n",
    "    results = client.gather(futures)\n",
    "else:\n",
    "    results = Parallel(n_jobs=-2, verbose=10, backend=\"loky\")(delays)"
   ]
  },
  {
   "cell_type": "code",
   "execution_count": 39,
   "metadata": {},
   "outputs": [
    {
     "data": {
      "application/vnd.jupyter.widget-view+json": {
       "model_id": "d83bca8c11ee4d318045713909dcc5c3",
       "version_major": 2,
       "version_minor": 0
      },
      "text/plain": [
       "  0%|          | 0/750 [00:00<?, ?it/s]"
      ]
     },
     "metadata": {},
     "output_type": "display_data"
    }
   ],
   "source": [
    "dcts = []\n",
    "burn_in = 25\n",
    "probas_cutoff = 300\n",
    "eps = 1e-10\n",
    "\n",
    "for _results, _params in tqdm(zip(results, store_dcts), total=len(results)):\n",
    "    _dct = deepcopy(_params)\n",
    "    rs = []\n",
    "    ls = []\n",
    "    norm_lls = []\n",
    "    ave_rs = []\n",
    "    concat_rs = []\n",
    "    oracle_concat_rs = []\n",
    "    oracle_lls = []\n",
    "\n",
    "    use_idx = use_splits[_params[\"fold\"]][1]\n",
    "    use_seqs = seqs[use_idx]\n",
    "\n",
    "    all_usage_history = []\n",
    "    for _result in _results:\n",
    "        if len(_result[\"probas_history\"]) < probas_cutoff:\n",
    "            continue\n",
    "        all_usage_history.append(_result[\"usage_tracker_history\"][:probas_cutoff])\n",
    "\n",
    "    usage_mean = np.mean(all_usage_history, axis=0)\n",
    "\n",
    "    for _result in _results:\n",
    "        _nsyllables = _result[\"probas_history\"].shape[1]\n",
    "        _rs = []\n",
    "\n",
    "        if len(_result[\"probas_history\"]) < probas_cutoff:\n",
    "            continue\n",
    "\n",
    "        uni_model = np.log((1.0 / _nsyllables) + eps)\n",
    "\n",
    "        ave_rs.append(\n",
    "            pearsonr(\n",
    "                _result[\"probas_history\"].mean(axis=0),\n",
    "                _result[\"usage_tracker_history\"].mean(axis=0)[:_nsyllables],\n",
    "            )[0]\n",
    "        )\n",
    "        concat_rs.append(\n",
    "            pearsonr(\n",
    "                pd.DataFrame(_result[\"probas_history\"])[burn_in:probas_cutoff]\n",
    "                .rolling(50, 1, True)\n",
    "                .mean()\n",
    "                .values.ravel(),\n",
    "                pd.DataFrame(\n",
    "                    _result[\"usage_tracker_history\"][\n",
    "                        burn_in:probas_cutoff, :_nsyllables\n",
    "                    ]\n",
    "                )\n",
    "                .rolling(50, 1, True)\n",
    "                .mean()\n",
    "                .values.ravel(),\n",
    "            )[0]\n",
    "        )\n",
    "        oracle_concat_rs.append(\n",
    "            pearsonr(\n",
    "                pd.DataFrame(usage_mean[burn_in:probas_cutoff, :_nsyllables])\n",
    "                .rolling(50, 1, True)\n",
    "                .mean()\n",
    "                .values.ravel(),\n",
    "                pd.DataFrame(\n",
    "                    _result[\"usage_tracker_history\"][\n",
    "                        burn_in:probas_cutoff, :_nsyllables\n",
    "                    ]\n",
    "                )\n",
    "                .rolling(50, 1, True)\n",
    "                .mean()\n",
    "                .values.ravel(),\n",
    "            )[0]\n",
    "        )\n",
    "        oracle_lls.append(_result[\"ll_oracle\"])\n",
    "        ls.append(_result[\"ll\"])\n",
    "        # norm_lls.append(_result[\"ll\"] - uni_model)\n",
    "        norm_lls.append(\n",
    "            (_result[\"ll\"] - uni_model) / (_result[\"ll_oracle\"] - uni_model)\n",
    "        )\n",
    "        # rs.append(np.mean(_rs))\n",
    "    _dct[\"r_concat\"] = np.mean(concat_rs)\n",
    "    _dct[\"r_concat_oracle\"] = np.mean(oracle_concat_rs)\n",
    "    _dct[\"ll\"] = np.mean(ls)\n",
    "    _dct[\"ll_norm\"] = np.mean(norm_lls)\n",
    "    _dct[\"ll_oracle\"] = np.mean(oracle_lls)\n",
    "    # _dct[\"r\"] = np.mean(rs)\n",
    "    _dct[\"ave_r\"] = np.mean(ave_rs)\n",
    "    dcts.append(_dct)"
   ]
  },
  {
   "cell_type": "code",
   "execution_count": 40,
   "metadata": {},
   "outputs": [],
   "source": [
    "results_test_df = pd.DataFrame(dcts)"
   ]
  },
  {
   "cell_type": "code",
   "execution_count": 41,
   "metadata": {},
   "outputs": [],
   "source": [
    "results_test_df[\"repeat\"] = np.floor(results_test_df[\"fold\"] / n_folds).astype(\"int\")\n",
    "results_test_df[\"ll_norm\"] = results_test_df[\"ll\"] - results_test_df[\"ll_oracle\"]"
   ]
  },
  {
   "cell_type": "code",
   "execution_count": 42,
   "metadata": {},
   "outputs": [],
   "source": [
    "mu_test_results = results_test_df.groupby([\"type\", \"repeat\"]).mean()\n",
    "sig_test_results = results_test_df.groupby([\"type\", \"repeat\"]).std()"
   ]
  },
  {
   "cell_type": "code",
   "execution_count": 43,
   "metadata": {},
   "outputs": [],
   "source": [
    "setup_plotting_env()\n",
    "# sns.set_context(\"paper\")"
   ]
  },
  {
   "cell_type": "code",
   "execution_count": 44,
   "metadata": {},
   "outputs": [],
   "source": [
    "ncolors = results_test_df[\"type\"].nunique()\n",
    "pal = [sns.color_palette()[1]]\n",
    "pal += [sns.color_palette()[0]] * (ncolors - 1)"
   ]
  },
  {
   "cell_type": "code",
   "execution_count": 45,
   "metadata": {},
   "outputs": [],
   "source": [
    "setup_plotting_env()\n",
    "# sns.set_context(\"paper\")"
   ]
  },
  {
   "cell_type": "code",
   "execution_count": 46,
   "metadata": {},
   "outputs": [],
   "source": [
    "results_test_df[\"r_concat_fraction\"] = (\n",
    "    results_test_df[\"r_concat\"] / results_test_df[\"r_concat_oracle\"]\n",
    ")"
   ]
  },
  {
   "cell_type": "code",
   "execution_count": 47,
   "metadata": {},
   "outputs": [],
   "source": [
    "oracle_ave = results_test_df[\"r_concat_oracle\"].mean()"
   ]
  },
  {
   "cell_type": "code",
   "execution_count": 48,
   "metadata": {},
   "outputs": [],
   "source": [
    "correlation_to_fraction = lambda x: x / oracle_ave\n",
    "fraction_to_correlation = lambda x: x * oracle_ave"
   ]
  },
  {
   "cell_type": "code",
   "execution_count": 49,
   "metadata": {},
   "outputs": [],
   "source": [
    "eps = 1e-5"
   ]
  },
  {
   "cell_type": "code",
   "execution_count": 50,
   "metadata": {
    "tags": []
   },
   "outputs": [
    {
     "data": {
      "image/png": "[encoded data removed]",
      "text/plain": [
       "<Figure size 200x360 with 1 Axes>"
      ]
     },
     "metadata": {},
     "output_type": "display_data"
    }
   ],
   "source": [
    "g = sns.catplot(\n",
    "    data=results_test_df.groupby([\"type\", \"repeat\"]).mean().reset_index(),\n",
    "    x=\"type\",\n",
    "    order=[\"dlight\", \"random_shift\", \"random_dist\"],\n",
    "    y=\"r_concat\",\n",
    "    showfliers=False,\n",
    "    showcaps=False,\n",
    "    palette=pal,\n",
    "    kind=\"box\",\n",
    ")\n",
    "g.fig.set_size_inches(1, 1.8)\n",
    "g.set(ylabel=\"Heldout ave. usage correlation\", ylim=(0, 0.26), xlabel=\"\")\n",
    "\n",
    "\n",
    "secax_y = g.ax.secondary_yaxis(\n",
    "    \"right\", functions=(correlation_to_fraction, fraction_to_correlation)\n",
    ")\n",
    "secax_y.set_ylabel(\"Fraction of maximum correlation\")\n",
    "fraction_to_correlation(secax_y.get_ylim()[-1])\n",
    "g.set_xticklabels(rotation=45)\n",
    "\n",
    "savefig(\n",
    "    g.fig,\n",
    "    os.path.join(figure_cfg[\"store_dir\"], \"decoding_model_performance_v_controls\"),\n",
    "    bbox_inches=\"tight\",\n",
    ")"
   ]
  },
  {
   "cell_type": "code",
   "execution_count": 51,
   "metadata": {},
   "outputs": [],
   "source": [
    "stats = {}\n",
    "stats[\"baseline\"] = {}"
   ]
  },
  {
   "cell_type": "code",
   "execution_count": 52,
   "metadata": {},
   "outputs": [],
   "source": [
    "compare_base = \"dlight\"\n",
    "compare_groups = [\"random_shift\", \"random_dist\"]\n",
    "compare_df = results_test_df.groupby([\"type\", \"repeat\"]).mean()\n",
    "use_test = mannwhitneyu\n",
    "for _group in compare_groups:\n",
    "    stat, p = use_test(\n",
    "        compare_df.loc[compare_base][\"r_concat\"], compare_df.loc[_group][\"r_concat\"]\n",
    "    )\n",
    "    group = str((compare_base, _group))\n",
    "    stats[\"baseline\"][group] = {}\n",
    "    stats[\"baseline\"][group][\"test_type\"] = str(use_test.__name__)\n",
    "    stats[\"baseline\"][group][\"p\"] = p\n",
    "    stats[\"baseline\"][group][\"test_stat\"] = stat\n",
    "    stats[\"baseline\"][group][\"n\"] = n_repeats\n",
    "    stats[\"baseline\"][group][\"n_definition\"] = \"model repeats\"\n",
    "for _group in compare_df.index.get_level_values(\"type\").unique():\n",
    "    stats[\"baseline\"][_group] = {}\n",
    "    for k, v in compare_df.loc[_group][\"r_concat\"].describe().items(): \n",
    "        stats[\"baseline\"][_group][k] = v"
   ]
  },
  {
   "cell_type": "markdown",
   "metadata": {},
   "source": [
    "## Stim"
   ]
  },
  {
   "cell_type": "code",
   "execution_count": 53,
   "metadata": {},
   "outputs": [],
   "source": [
    "use_data = pd.read_parquet(\n",
    "    os.path.join(raw_dirs[\"rl_modeling\"], \"rl_modeling_dlight_data_online.parquet\")\n",
    ").reset_index()\n",
    "use_data = dlight_exclude(\n",
    "    use_data, exclude_3s=False, exclude_stim=False, exclude_target=False, **dlight_cfg\n",
    ")\n",
    "use_data = use_data.loc[use_data[\"stim_duration\"] == 0.25].copy()"
   ]
  },
  {
   "cell_type": "code",
   "execution_count": 54,
   "metadata": {},
   "outputs": [],
   "source": [
    "features_df = pd.read_parquet(\n",
    "    os.path.join(raw_dirs[\"dlight\"], \"dlight_snippets_online_features.parquet\")\n",
    ")\n",
    "features_df = features_df.loc[\n",
    "    (features_df[\"area\"] == \"dls\") & (features_df[\"session_number\"].isin([1, 2]))\n",
    "].copy()\n",
    "features_df = features_df.loc[\n",
    "    (features_df[\"window_tup\"] == \"(0.0, 0.6)\") & (features_df[\"is_feedback_any\"] == 1)\n",
    "].copy()"
   ]
  },
  {
   "cell_type": "code",
   "execution_count": 55,
   "metadata": {},
   "outputs": [],
   "source": [
    "use_data[\"prev_syllable\"] = use_data.groupby(\"uuid\")[\"syllable\"].shift(1)\n",
    "use_data[\"next_syllable\"] = use_data.groupby(\"uuid\")[\"syllable\"].shift(-1)"
   ]
  },
  {
   "cell_type": "code",
   "execution_count": 56,
   "metadata": {},
   "outputs": [],
   "source": [
    "for _status_field in [\"is_catch_any\", \"is_feedback_any\"]:\n",
    "    # previous misses\n",
    "    prev_syllable_idx = use_data.loc[\n",
    "        (_status_field == 1)\n",
    "        & (use_data[\"syllable\"] != use_data[\"target_syllable\"])\n",
    "        & (use_data[\"prev_syllable\"] == use_data[\"target_syllable\"])\n",
    "    ].index\n",
    "\n",
    "    # next misses\n",
    "    next_syllable_idx = use_data.loc[\n",
    "        (_status_field == 1)\n",
    "        & (use_data[\"syllable\"] != use_data[\"target_syllable\"])\n",
    "        & (use_data[\"next_syllable\"] == use_data[\"target_syllable\"])\n",
    "    ].index\n",
    "\n",
    "    use_data.loc[prev_syllable_idx, _status_field] = False\n",
    "    use_data.loc[prev_syllable_idx - 1, _status_field] = True\n",
    "    use_data.loc[next_syllable_idx, _status_field] = False\n",
    "    use_data.loc[next_syllable_idx + 1, _status_field] = True"
   ]
  },
  {
   "cell_type": "code",
   "execution_count": 57,
   "metadata": {},
   "outputs": [],
   "source": [
    "use_data = use_data.loc[use_data[\"session_number\"].isin([1, 2])].copy()"
   ]
  },
  {
   "cell_type": "code",
   "execution_count": 58,
   "metadata": {},
   "outputs": [],
   "source": [
    "min_catch = 5\n",
    "cutoff = 2500\n",
    "\n",
    "group_obj = use_data.groupby([\"mouse_id\", \"uuid\"])\n",
    "use_data = group_obj.filter(\n",
    "    lambda x: (len(x.dropna(subset=[feature_key])) > cutoff)\n",
    "    & (x[\"is_catch_any\"].iloc[:cutoff].sum() >= min_catch)\n",
    ")\n",
    "group_obj = use_data.groupby([\"mouse_id\", \"uuid\"])\n",
    "\n",
    "# gather data, split off training data for optimizing hyperparameters\n",
    "seqs = np.array([df[syllable_key].values[:cutoff] for k, df in group_obj])\n",
    "features = np.array([df[feature_key].values[:cutoff] for k, df in group_obj])\n",
    "timestamps = np.array([df[\"timestamp\"].values[:cutoff] for k, df in group_obj])\n",
    "targets = np.array([df[\"target_syllable\"].iat[0] for k, df in group_obj]).astype(\"int\")\n",
    "\n",
    "fbacks = np.array([df[\"is_feedback_any\"].values[:cutoff] for k, df in group_obj]) == 1\n",
    "catches = np.array([df[\"is_catch_any\"].values[:cutoff] for k, df in group_obj]) == 1\n",
    "\n",
    "# nan out feedbacks prior to zscore\n",
    "\n",
    "features[fbacks] = np.nan\n",
    "\n",
    "features -= np.nanmean(features, axis=1, keepdims=True)\n",
    "features /= np.nanstd(features, axis=1, keepdims=True)\n",
    "\n",
    "feedback_status = np.zeros_like(features)\n",
    "feedback_status[catches] = 2\n",
    "feedback_status[fbacks] = 1\n",
    "\n",
    "keys = [k for k, _ in group_obj]"
   ]
  },
  {
   "cell_type": "code",
   "execution_count": 59,
   "metadata": {},
   "outputs": [
    {
     "data": {
      "text/plain": [
       "fold\n",
       "0      (100.0, 250.0, 10, 10.0, 0.05, 30.0)\n",
       "1      (100.0, 250.0, 10, 10.0, 0.05, 30.0)\n",
       "2      (100.0, 250.0, 10, 10.0, 0.05, 30.0)\n",
       "3      (100.0, 250.0, 10, 10.0, 0.05, 30.0)\n",
       "4      (100.0, 250.0, 10, 10.0, 0.05, 30.0)\n",
       "                       ...                 \n",
       "245    (100.0, 250.0, 10, 10.0, 0.05, 30.0)\n",
       "246    (100.0, 250.0, 10, 10.0, 0.05, 30.0)\n",
       "247    (100.0, 250.0, 10, 10.0, 0.05, 30.0)\n",
       "248    (100.0, 250.0, 10, 10.0, 0.05, 30.0)\n",
       "249    (100.0, 250.0, 10, 10.0, 0.05, 30.0)\n",
       "Name: ll, Length: 250, dtype: object"
      ]
     },
     "execution_count": 59,
     "metadata": {},
     "output_type": "execute_result"
    }
   ],
   "source": [
    "optimal_parameters"
   ]
  },
  {
   "cell_type": "code",
   "execution_count": 60,
   "metadata": {},
   "outputs": [],
   "source": [
    "use_parameters = optimal_parameters.apply(pd.Series).mean()"
   ]
  },
  {
   "cell_type": "code",
   "execution_count": 61,
   "metadata": {},
   "outputs": [],
   "source": [
    "parameter_scan_dct = {\n",
    "    k: [np.around(v, 3)] for k, v in zip(results_df.index.names, use_parameters)\n",
    "}"
   ]
  },
  {
   "cell_type": "code",
   "execution_count": 62,
   "metadata": {},
   "outputs": [],
   "source": [
    "parameter_scan_dct[\"stim_offset\"] = np.around(np.arange(0.0, 10.1, 0.5), 3)"
   ]
  },
  {
   "cell_type": "code",
   "execution_count": 63,
   "metadata": {},
   "outputs": [
    {
     "data": {
      "text/plain": [
       "{'usage_tau': [100.0],\n",
       " 'usage_scaling': [250.0],\n",
       " 'nsyllables': [10.0],\n",
       " 'entropy_tau': [10.0],\n",
       " 'entropy_scaling': [0.05],\n",
       " 'baseline_temperature': [30.0],\n",
       " 'stim_offset': array([ 0. ,  0.5,  1. ,  1.5,  2. ,  2.5,  3. ,  3.5,  4. ,  4.5,  5. ,\n",
       "         5.5,  6. ,  6.5,  7. ,  7.5,  8. ,  8.5,  9. ,  9.5, 10. ])}"
      ]
     },
     "execution_count": 63,
     "metadata": {},
     "output_type": "execute_result"
    }
   ],
   "source": [
    "parameter_scan_dct"
   ]
  },
  {
   "cell_type": "code",
   "execution_count": 64,
   "metadata": {},
   "outputs": [],
   "source": [
    "param_iter = model_selection.ParameterGrid(parameter_scan_dct)"
   ]
  },
  {
   "cell_type": "code",
   "execution_count": 65,
   "metadata": {},
   "outputs": [],
   "source": [
    "splits = model_selection.RepeatedKFold(\n",
    "    n_splits=n_folds, n_repeats=n_repeats, random_state=0\n",
    ")\n",
    "use_splits = list(splits.split(seqs))"
   ]
  },
  {
   "cell_type": "code",
   "execution_count": 66,
   "metadata": {},
   "outputs": [],
   "source": [
    "delays = []\n",
    "store_dcts = []\n",
    "\n",
    "for i, (train_index, test_index) in enumerate(use_splits):\n",
    "    for _param in param_iter:\n",
    "        # spam out reference and dlight, subtract off\n",
    "        delays.append(\n",
    "            use_delayed(run_simulation_stim)(\n",
    "                seqs[train_index],\n",
    "                features[train_index],\n",
    "                targets[train_index],\n",
    "                feedback_status[train_index],\n",
    "                control=False,\n",
    "                log_variables=True,\n",
    "                **_param\n",
    "            )\n",
    "        )\n",
    "        store_dct = deepcopy(_param)\n",
    "        store_dct[\"fold\"] = i\n",
    "        store_dct[\"signal\"] = \"dlight\"\n",
    "        store_dcts.append(store_dct)"
   ]
  },
  {
   "cell_type": "code",
   "execution_count": 67,
   "metadata": {},
   "outputs": [
    {
     "name": "stdout",
     "output_type": "stream",
     "text": [
      "5250\n"
     ]
    }
   ],
   "source": [
    "print(len(delays))"
   ]
  },
  {
   "cell_type": "code",
   "execution_count": 68,
   "metadata": {},
   "outputs": [
    {
     "name": "stderr",
     "output_type": "stream",
     "text": [
      "[Parallel(n_jobs=-2)]: Using backend LokyBackend with 127 concurrent workers.\n",
      "[Parallel(n_jobs=-2)]: Done  11 tasks      | elapsed:    9.9s\n",
      "[Parallel(n_jobs=-2)]: Done  34 tasks      | elapsed:   10.8s\n",
      "[Parallel(n_jobs=-2)]: Done  59 tasks      | elapsed:   11.8s\n",
      "[Parallel(n_jobs=-2)]: Done  84 tasks      | elapsed:   12.9s\n",
      "[Parallel(n_jobs=-2)]: Done 111 tasks      | elapsed:   14.1s\n",
      "[Parallel(n_jobs=-2)]: Done 138 tasks      | elapsed:   16.8s\n",
      "[Parallel(n_jobs=-2)]: Done 167 tasks      | elapsed:   19.9s\n",
      "[Parallel(n_jobs=-2)]: Done 196 tasks      | elapsed:   22.1s\n",
      "[Parallel(n_jobs=-2)]: Done 227 tasks      | elapsed:   23.9s\n",
      "[Parallel(n_jobs=-2)]: Done 258 tasks      | elapsed:   25.4s\n",
      "[Parallel(n_jobs=-2)]: Done 291 tasks      | elapsed:   29.7s\n",
      "[Parallel(n_jobs=-2)]: Done 324 tasks      | elapsed:   32.3s\n",
      "[Parallel(n_jobs=-2)]: Done 359 tasks      | elapsed:   34.0s\n",
      "[Parallel(n_jobs=-2)]: Done 394 tasks      | elapsed:   36.8s\n",
      "[Parallel(n_jobs=-2)]: Done 431 tasks      | elapsed:   40.4s\n",
      "[Parallel(n_jobs=-2)]: Done 468 tasks      | elapsed:   43.3s\n",
      "[Parallel(n_jobs=-2)]: Done 507 tasks      | elapsed:   46.1s\n",
      "[Parallel(n_jobs=-2)]: Done 546 tasks      | elapsed:   49.8s\n",
      "[Parallel(n_jobs=-2)]: Done 587 tasks      | elapsed:   52.8s\n",
      "[Parallel(n_jobs=-2)]: Done 628 tasks      | elapsed:   55.6s\n",
      "[Parallel(n_jobs=-2)]: Done 671 tasks      | elapsed:   59.8s\n",
      "[Parallel(n_jobs=-2)]: Done 714 tasks      | elapsed:  1.1min\n",
      "[Parallel(n_jobs=-2)]: Done 759 tasks      | elapsed:  1.1min\n",
      "[Parallel(n_jobs=-2)]: Done 804 tasks      | elapsed:  1.2min\n",
      "[Parallel(n_jobs=-2)]: Done 851 tasks      | elapsed:  1.2min\n",
      "[Parallel(n_jobs=-2)]: Done 898 tasks      | elapsed:  1.3min\n",
      "[Parallel(n_jobs=-2)]: Done 947 tasks      | elapsed:  1.4min\n",
      "[Parallel(n_jobs=-2)]: Done 996 tasks      | elapsed:  1.4min\n",
      "[Parallel(n_jobs=-2)]: Done 1047 tasks      | elapsed:  1.5min\n",
      "[Parallel(n_jobs=-2)]: Done 1098 tasks      | elapsed:  1.6min\n",
      "[Parallel(n_jobs=-2)]: Done 1151 tasks      | elapsed:  1.6min\n",
      "[Parallel(n_jobs=-2)]: Done 1204 tasks      | elapsed:  1.7min\n",
      "[Parallel(n_jobs=-2)]: Done 1259 tasks      | elapsed:  1.8min\n",
      "[Parallel(n_jobs=-2)]: Done 1314 tasks      | elapsed:  1.8min\n",
      "[Parallel(n_jobs=-2)]: Done 1371 tasks      | elapsed:  1.9min\n",
      "[Parallel(n_jobs=-2)]: Done 1428 tasks      | elapsed:  2.0min\n",
      "[Parallel(n_jobs=-2)]: Done 1487 tasks      | elapsed:  2.1min\n",
      "[Parallel(n_jobs=-2)]: Done 1546 tasks      | elapsed:  2.2min\n",
      "[Parallel(n_jobs=-2)]: Done 1607 tasks      | elapsed:  2.2min\n",
      "[Parallel(n_jobs=-2)]: Done 1668 tasks      | elapsed:  2.3min\n",
      "[Parallel(n_jobs=-2)]: Done 1731 tasks      | elapsed:  2.4min\n",
      "[Parallel(n_jobs=-2)]: Done 1794 tasks      | elapsed:  2.5min\n",
      "[Parallel(n_jobs=-2)]: Done 1859 tasks      | elapsed:  2.6min\n",
      "[Parallel(n_jobs=-2)]: Done 1924 tasks      | elapsed:  2.7min\n",
      "[Parallel(n_jobs=-2)]: Done 1991 tasks      | elapsed:  2.8min\n",
      "[Parallel(n_jobs=-2)]: Done 2058 tasks      | elapsed:  2.8min\n",
      "[Parallel(n_jobs=-2)]: Done 2127 tasks      | elapsed:  2.9min\n",
      "[Parallel(n_jobs=-2)]: Done 2196 tasks      | elapsed:  3.0min\n",
      "[Parallel(n_jobs=-2)]: Done 2267 tasks      | elapsed:  3.1min\n",
      "[Parallel(n_jobs=-2)]: Done 2338 tasks      | elapsed:  3.2min\n",
      "[Parallel(n_jobs=-2)]: Done 2411 tasks      | elapsed:  3.3min\n",
      "[Parallel(n_jobs=-2)]: Done 2484 tasks      | elapsed:  3.4min\n",
      "[Parallel(n_jobs=-2)]: Done 2559 tasks      | elapsed:  3.5min\n",
      "[Parallel(n_jobs=-2)]: Done 2634 tasks      | elapsed:  3.6min\n",
      "[Parallel(n_jobs=-2)]: Done 2711 tasks      | elapsed:  3.7min\n",
      "[Parallel(n_jobs=-2)]: Done 2788 tasks      | elapsed:  3.8min\n",
      "[Parallel(n_jobs=-2)]: Done 2867 tasks      | elapsed:  3.9min\n",
      "[Parallel(n_jobs=-2)]: Done 2946 tasks      | elapsed:  4.0min\n",
      "[Parallel(n_jobs=-2)]: Done 3027 tasks      | elapsed:  4.1min\n",
      "[Parallel(n_jobs=-2)]: Done 3108 tasks      | elapsed:  4.2min\n",
      "[Parallel(n_jobs=-2)]: Done 3191 tasks      | elapsed:  4.4min\n",
      "[Parallel(n_jobs=-2)]: Done 3274 tasks      | elapsed:  4.5min\n",
      "[Parallel(n_jobs=-2)]: Done 3359 tasks      | elapsed:  4.6min\n",
      "[Parallel(n_jobs=-2)]: Done 3444 tasks      | elapsed:  4.7min\n",
      "[Parallel(n_jobs=-2)]: Done 3531 tasks      | elapsed:  4.8min\n",
      "[Parallel(n_jobs=-2)]: Done 3618 tasks      | elapsed:  4.9min\n",
      "[Parallel(n_jobs=-2)]: Done 3707 tasks      | elapsed:  5.0min\n",
      "[Parallel(n_jobs=-2)]: Done 3796 tasks      | elapsed:  5.1min\n",
      "[Parallel(n_jobs=-2)]: Done 3887 tasks      | elapsed:  5.3min\n",
      "[Parallel(n_jobs=-2)]: Done 3978 tasks      | elapsed:  5.4min\n",
      "[Parallel(n_jobs=-2)]: Done 4071 tasks      | elapsed:  5.5min\n",
      "[Parallel(n_jobs=-2)]: Done 4164 tasks      | elapsed:  5.6min\n",
      "[Parallel(n_jobs=-2)]: Done 4259 tasks      | elapsed:  5.8min\n",
      "[Parallel(n_jobs=-2)]: Done 4354 tasks      | elapsed:  5.9min\n",
      "[Parallel(n_jobs=-2)]: Done 4451 tasks      | elapsed:  6.0min\n",
      "[Parallel(n_jobs=-2)]: Done 4548 tasks      | elapsed:  6.1min\n",
      "[Parallel(n_jobs=-2)]: Done 4647 tasks      | elapsed:  6.3min\n",
      "[Parallel(n_jobs=-2)]: Done 4746 tasks      | elapsed:  6.4min\n",
      "[Parallel(n_jobs=-2)]: Done 4847 tasks      | elapsed:  6.5min\n",
      "[Parallel(n_jobs=-2)]: Done 4948 tasks      | elapsed:  6.7min\n",
      "[Parallel(n_jobs=-2)]: Done 5250 out of 5250 | elapsed:  7.0min finished\n"
     ]
    }
   ],
   "source": [
    "if dask_address is not None:\n",
    "    futures = client.compute(delays)\n",
    "    results = client.gather(futures)\n",
    "else:\n",
    "    results = Parallel(n_jobs=-2, verbose=10, backend=\"loky\")(delays)"
   ]
  },
  {
   "cell_type": "code",
   "execution_count": 69,
   "metadata": {},
   "outputs": [
    {
     "data": {
      "application/vnd.jupyter.widget-view+json": {
       "model_id": "8c23506baf25478886ae9860956de323",
       "version_major": 2,
       "version_minor": 0
      },
      "text/plain": [
       "  0%|          | 0/5250 [00:00<?, ?it/s]"
      ]
     },
     "metadata": {},
     "output_type": "display_data"
    }
   ],
   "source": [
    "dcts = []\n",
    "burn_in = 25\n",
    "probas_cutoff = 300\n",
    "eps = 1e-10\n",
    "\n",
    "for _results, _params in tqdm(zip(results, store_dcts), total=len(results)):\n",
    "    _dct = deepcopy(_params)\n",
    "    rs = []\n",
    "    ls = []\n",
    "    norm_lls = []\n",
    "    ave_rs = []\n",
    "    concat_rs = []\n",
    "    oracle_lls = []\n",
    "\n",
    "    use_idx = use_splits[_params[\"fold\"]][1]\n",
    "    use_seqs = seqs[use_idx]\n",
    "\n",
    "    for _result in _results:\n",
    "        _nsyllables = _result[\"probas_history\"].shape[1]\n",
    "        _rs = []\n",
    "\n",
    "        if len(_result[\"probas_history\"]) < probas_cutoff:\n",
    "            continue\n",
    "\n",
    "        uni_model = np.log((1.0 / _nsyllables) + eps)\n",
    "\n",
    "        ave_rs.append(\n",
    "            pearsonr(\n",
    "                _result[\"probas_history\"].mean(axis=0),\n",
    "                _result[\"usage_tracker_history\"].mean(axis=0)[:_nsyllables],\n",
    "            )[0]\n",
    "        )\n",
    "        concat_rs.append(\n",
    "            pearsonr(\n",
    "                pd.DataFrame(_result[\"probas_history\"])[burn_in:]\n",
    "                .rolling(50, 1, True)\n",
    "                .mean()\n",
    "                .values.ravel(),\n",
    "                pd.DataFrame(_result[\"usage_tracker_history\"][burn_in:, :_nsyllables])\n",
    "                .rolling(50, 1, True)\n",
    "                .mean()\n",
    "                .values.ravel(),\n",
    "            )[0]\n",
    "        )\n",
    "        oracle_lls.append(_result[\"ll_oracle\"])\n",
    "        ls.append(_result[\"ll\"])\n",
    "        norm_lls.append(\n",
    "            (_result[\"ll\"] - uni_model) / (_result[\"ll_oracle\"] - uni_model)\n",
    "        )\n",
    "    _dct[\"r_concat\"] = np.mean(concat_rs)\n",
    "    _dct[\"ll\"] = np.mean(ls)\n",
    "    _dct[\"ll_norm\"] = np.mean(norm_lls)\n",
    "    _dct[\"ll_oracle\"] = np.mean(oracle_lls)\n",
    "    _dct[\"ave_r\"] = np.mean(ave_rs)\n",
    "    dcts.append(_dct)"
   ]
  },
  {
   "cell_type": "code",
   "execution_count": 70,
   "metadata": {},
   "outputs": [],
   "source": [
    "results_stim_df = pd.DataFrame(dcts).set_index(list(param_iter[0].keys()))\n",
    "results_stim_df[\"repeat\"] = np.floor(results_stim_df[\"fold\"] / n_folds).astype(\"int\")"
   ]
  },
  {
   "cell_type": "code",
   "execution_count": 71,
   "metadata": {},
   "outputs": [
    {
     "name": "stderr",
     "output_type": "stream",
     "text": [
      "/tmp/ipykernel_1389913/401514099.py:1: FutureWarning: The default value of numeric_only in DataFrameGroupBy.mean is deprecated. In a future version, numeric_only will default to False. Either specify numeric_only or select only columns which should be valid for the function.\n",
      "  mu = results_stim_df.groupby([\"repeat\", \"stim_offset\"]).mean().reset_index()\n"
     ]
    }
   ],
   "source": [
    "mu = results_stim_df.groupby([\"repeat\", \"stim_offset\"]).mean().reset_index()"
   ]
  },
  {
   "cell_type": "code",
   "execution_count": 72,
   "metadata": {},
   "outputs": [],
   "source": [
    "setup_plotting_env()"
   ]
  },
  {
   "cell_type": "code",
   "execution_count": 73,
   "metadata": {},
   "outputs": [
    {
     "data": {
      "text/plain": [
       "(0.12156862745098039, 0.4666666666666667, 0.7058823529411765)"
      ]
     },
     "execution_count": 73,
     "metadata": {},
     "output_type": "execute_result"
    }
   ],
   "source": [
    "sns.color_palette()[0]"
   ]
  },
  {
   "cell_type": "code",
   "execution_count": 74,
   "metadata": {},
   "outputs": [
    {
     "name": "stderr",
     "output_type": "stream",
     "text": [
      "/tmp/ipykernel_1389913/125314694.py:5: FutureWarning: \n",
      "\n",
      "The `ci` parameter is deprecated. Use `errorbar=('ci', 95)` for the same effect.\n",
      "\n",
      "  sns.lineplot(\n",
      "/tmp/ipykernel_1389913/125314694.py:39: UserWarning: Tight layout not applied. The left and right margins cannot be made large enough to accommodate all axes decorations.\n",
      "  fig.tight_layout()\n"
     ]
    },
    {
     "data": {
      "image/png": "[encoded data removed]",
      "text/plain": [
       "<Figure size 160x360 with 2 Axes>"
      ]
     },
     "metadata": {},
     "output_type": "display_data"
    }
   ],
   "source": [
    "curve_color = \"k\"\n",
    "hist_color = sns.color_palette()[0]\n",
    "\n",
    "fig, ax = plt.subplots(1, figsize=(.8, 1.8), sharex=True)\n",
    "sns.lineplot(\n",
    "    data=results_stim_df.reset_index(),\n",
    "    x=\"stim_offset\",\n",
    "    y=\"r_concat\",\n",
    "    color=curve_color,\n",
    "    ci=95,\n",
    "    ax=ax,\n",
    ")\n",
    "\n",
    "ax.spines[\"right\"].set_visible(False)\n",
    "ax.spines[\"top\"].set_visible(False)\n",
    "ax.spines[\"left\"].set_color(curve_color)\n",
    "ax.tick_params(axis=\"y\", colors=curve_color, labelcolor=curve_color)\n",
    "ax.set_ylabel(\"Heldout r\", color=curve_color)\n",
    "ax.set_xlabel(\"Stim offset (z)\")\n",
    "\n",
    "ax2 = ax.twinx()\n",
    "ax2.spines[\"left\"].set_visible(False)\n",
    "ax2.spines[\"top\"].set_visible(False)\n",
    "ax2.spines[\"right\"].set_color(hist_color)\n",
    "ax2.tick_params(axis=\"y\", colors=hist_color, labelcolor=hist_color)\n",
    "\n",
    "sns.histplot(\n",
    "    features_df[\"signal_reref_dff_z_max\"],\n",
    "    ax=ax2,\n",
    "    alpha=0.45,\n",
    "    color=hist_color,\n",
    "    element=\"step\",\n",
    ")\n",
    "\n",
    "ax2.set_ylim(0, 1500)\n",
    "ax2.set_ylabel(\"Count\", color=hist_color)\n",
    "clean_ticks(ax, \"y\", precision=2)\n",
    "clean_ticks(ax2, \"y\", precision=-3, dtype=int)\n",
    "fig.tight_layout()\n",
    "savefig(\n",
    "    fig,\n",
    "    os.path.join(\n",
    "        figure_cfg[\"store_dir\"], \"decoding_model_stim_offset_optimization_overlay\"\n",
    "    ),\n",
    "    bbox_inches=\"tight\",\n",
    ")"
   ]
  },
  {
   "cell_type": "code",
   "execution_count": 75,
   "metadata": {},
   "outputs": [],
   "source": [
    "optimal_parameters = results_stim_df.groupby(\"fold\")[\"ll\"].idxmax()"
   ]
  },
  {
   "cell_type": "code",
   "execution_count": 76,
   "metadata": {},
   "outputs": [],
   "source": [
    "# use optimal parameters for every split\n",
    "# compare against the many many controls...\n",
    "store_dcts = []\n",
    "delays = []\n",
    "for i, (train_index, test_index) in enumerate(use_splits):\n",
    "    seqs_test, features_test = seqs[test_index], features[test_index]\n",
    "    targets_test, feedback_status_test = (\n",
    "        targets[test_index],\n",
    "        feedback_status[test_index],\n",
    "    )\n",
    "\n",
    "    use_params_tup = optimal_parameters[i]\n",
    "    try:\n",
    "        iter(use_params_tup)\n",
    "    except TypeError:\n",
    "        use_params_tup = (use_params_tup,)\n",
    "    param_names = results_stim_df.index.names\n",
    "    _param = {k: v for k, v in zip(param_names, use_params_tup)}\n",
    "\n",
    "    random_dist = np.zeros_like(features_test)\n",
    "    for j in range(features_test.shape[0]):\n",
    "        random_dist[j] = np.random.randn(features_test.shape[1])\n",
    "        random_dist[j] *= np.nanstd(features_test[j])\n",
    "        random_dist[j] += np.nanmean(features_test[j])\n",
    "\n",
    "    shift = np.random.randint(1, 1000)\n",
    "    random_shift = np.roll(features_test, shift, axis=1)\n",
    "    random_shift_status = np.roll(feedback_status_test, shift, axis=1)\n",
    "\n",
    "    check_data = {\n",
    "        \"dlight\": (features_test, feedback_status_test),\n",
    "        \"random_dist\": (random_dist, feedback_status_test),\n",
    "        \"random_shift\": (random_shift, feedback_status_test),\n",
    "    }\n",
    "\n",
    "    for k, (v, v_status) in check_data.items():\n",
    "        if k == \"dlight\":\n",
    "            control = False\n",
    "        else:\n",
    "            control = True\n",
    "        \n",
    "        delays.append(\n",
    "            use_delayed(run_simulation_stim)(\n",
    "                seqs_test,\n",
    "                v,\n",
    "                targets_test,\n",
    "                v_status,\n",
    "                control=control,\n",
    "                log_variables=True,\n",
    "                **_param\n",
    "            )\n",
    "        )\n",
    "        store_dct = {}\n",
    "        store_dct[\"fold\"] = i\n",
    "        store_dct[\"type\"] = k\n",
    "        store_dcts.append(store_dct)\n",
    "\n",
    "    delays.append(\n",
    "        use_delayed(run_simulation_stim)(\n",
    "            seqs_test,\n",
    "            features_test,\n",
    "            targets_test,\n",
    "            feedback_status_test,\n",
    "            control=False,\n",
    "            log_variables=True,\n",
    "            **{**_param, **{\"stim_offset\": 0}}\n",
    "        )\n",
    "    )\n",
    "    store_dct = {}\n",
    "    store_dct[\"fold\"] = i\n",
    "    store_dct[\"type\"] = \"no_offset\"\n",
    "    store_dcts.append(store_dct)"
   ]
  },
  {
   "cell_type": "code",
   "execution_count": 77,
   "metadata": {},
   "outputs": [
    {
     "name": "stdout",
     "output_type": "stream",
     "text": [
      "1000\n"
     ]
    }
   ],
   "source": [
    "print(len(delays))"
   ]
  },
  {
   "cell_type": "code",
   "execution_count": 78,
   "metadata": {},
   "outputs": [
    {
     "name": "stderr",
     "output_type": "stream",
     "text": [
      "[Parallel(n_jobs=-2)]: Using backend LokyBackend with 127 concurrent workers.\n",
      "[Parallel(n_jobs=-2)]: Done   1 tasks      | elapsed:  2.2min\n",
      "[Parallel(n_jobs=-2)]: Done  12 tasks      | elapsed:  2.3min\n",
      "[Parallel(n_jobs=-2)]: Done  35 tasks      | elapsed:  2.3min\n",
      "[Parallel(n_jobs=-2)]: Done  60 tasks      | elapsed:  2.3min\n",
      "[Parallel(n_jobs=-2)]: Done  85 tasks      | elapsed:  2.3min\n",
      "[Parallel(n_jobs=-2)]: Done 112 tasks      | elapsed:  2.3min\n",
      "[Parallel(n_jobs=-2)]: Done 139 tasks      | elapsed:  2.3min\n",
      "[Parallel(n_jobs=-2)]: Done 168 tasks      | elapsed:  2.4min\n",
      "[Parallel(n_jobs=-2)]: Done 197 tasks      | elapsed:  2.4min\n",
      "[Parallel(n_jobs=-2)]: Done 228 tasks      | elapsed:  2.4min\n",
      "[Parallel(n_jobs=-2)]: Done 259 tasks      | elapsed:  2.4min\n",
      "[Parallel(n_jobs=-2)]: Done 292 tasks      | elapsed:  2.4min\n",
      "[Parallel(n_jobs=-2)]: Done 325 tasks      | elapsed:  2.4min\n",
      "[Parallel(n_jobs=-2)]: Done 360 tasks      | elapsed:  2.4min\n",
      "[Parallel(n_jobs=-2)]: Done 395 tasks      | elapsed:  2.4min\n",
      "[Parallel(n_jobs=-2)]: Done 432 tasks      | elapsed:  2.4min\n",
      "[Parallel(n_jobs=-2)]: Done 469 tasks      | elapsed:  2.5min\n",
      "[Parallel(n_jobs=-2)]: Done 508 tasks      | elapsed:  2.5min\n",
      "[Parallel(n_jobs=-2)]: Done 547 tasks      | elapsed:  2.5min\n",
      "[Parallel(n_jobs=-2)]: Done 588 tasks      | elapsed:  2.5min\n",
      "[Parallel(n_jobs=-2)]: Done 629 tasks      | elapsed:  2.5min\n",
      "[Parallel(n_jobs=-2)]: Done 672 tasks      | elapsed:  2.5min\n",
      "[Parallel(n_jobs=-2)]: Done 715 tasks      | elapsed:  2.5min\n",
      "[Parallel(n_jobs=-2)]: Done 848 out of 1000 | elapsed:  2.6min remaining:   27.7s\n",
      "[Parallel(n_jobs=-2)]: Done 949 out of 1000 | elapsed:  2.6min remaining:    8.4s\n",
      "[Parallel(n_jobs=-2)]: Done 1000 out of 1000 | elapsed:  2.6min finished\n"
     ]
    }
   ],
   "source": [
    "if dask_address is not None:\n",
    "    futures = client.compute(delays)\n",
    "    results = client.gather(futures)\n",
    "else:\n",
    "    results = Parallel(n_jobs=-2, verbose=10, backend=\"loky\")(delays)"
   ]
  },
  {
   "cell_type": "code",
   "execution_count": 79,
   "metadata": {},
   "outputs": [
    {
     "data": {
      "application/vnd.jupyter.widget-view+json": {
       "model_id": "a15e24edc2214e71a4f38fcc8ceeb275",
       "version_major": 2,
       "version_minor": 0
      },
      "text/plain": [
       "  0%|          | 0/1000 [00:00<?, ?it/s]"
      ]
     },
     "metadata": {},
     "output_type": "display_data"
    }
   ],
   "source": [
    "dcts = []\n",
    "burn_in = 25\n",
    "probas_cutoff = 300\n",
    "eps = 1e-10\n",
    "\n",
    "for _results, _params in tqdm(zip(results, store_dcts), total=len(results)):\n",
    "    _dct = deepcopy(_params)\n",
    "    rs = []\n",
    "    ls = []\n",
    "    norm_lls = []\n",
    "    ave_rs = []\n",
    "    concat_rs = []\n",
    "    oracle_concat_rs = []\n",
    "    oracle_lls = []\n",
    "\n",
    "    use_idx = use_splits[_params[\"fold\"]][1]\n",
    "    use_seqs = seqs[use_idx]\n",
    "\n",
    "    all_usage_history = []\n",
    "    for _result in _results:\n",
    "        if len(_result[\"probas_history\"]) < probas_cutoff:\n",
    "            continue\n",
    "        all_usage_history.append(_result[\"usage_tracker_history\"][:probas_cutoff])\n",
    "\n",
    "    usage_mean = np.mean(all_usage_history, axis=0)\n",
    "\n",
    "    for _result in _results:\n",
    "        _nsyllables = _result[\"probas_history\"].shape[1]\n",
    "        _rs = []\n",
    "\n",
    "        if len(_result[\"probas_history\"]) < probas_cutoff:\n",
    "            continue\n",
    "\n",
    "        uni_model = np.log((1.0 / _nsyllables) + eps)\n",
    "\n",
    "        ave_rs.append(\n",
    "            pearsonr(\n",
    "                _result[\"probas_history\"].mean(axis=0),\n",
    "                _result[\"usage_tracker_history\"].mean(axis=0)[:_nsyllables],\n",
    "            )[0]\n",
    "        )\n",
    "        concat_rs.append(\n",
    "            pearsonr(\n",
    "                pd.DataFrame(_result[\"probas_history\"])[burn_in:probas_cutoff]\n",
    "                .rolling(50, 1, True)\n",
    "                .mean()\n",
    "                .values.ravel(),\n",
    "                pd.DataFrame(\n",
    "                    _result[\"usage_tracker_history\"][\n",
    "                        burn_in:probas_cutoff, :_nsyllables\n",
    "                    ]\n",
    "                )\n",
    "                .rolling(50, 1, True)\n",
    "                .mean()\n",
    "                .values.ravel(),\n",
    "            )[0]\n",
    "        )\n",
    "        oracle_concat_rs.append(\n",
    "            pearsonr(\n",
    "                pd.DataFrame(usage_mean[burn_in:probas_cutoff, :_nsyllables])\n",
    "                .rolling(50, 1, True)\n",
    "                .mean()\n",
    "                .values.ravel(),\n",
    "                pd.DataFrame(\n",
    "                    _result[\"usage_tracker_history\"][\n",
    "                        burn_in:probas_cutoff, :_nsyllables\n",
    "                    ]\n",
    "                )\n",
    "                .rolling(50, 1, True)\n",
    "                .mean()\n",
    "                .values.ravel(),\n",
    "            )[0]\n",
    "        )\n",
    "        oracle_lls.append(_result[\"ll_oracle\"])\n",
    "        ls.append(_result[\"ll\"])\n",
    "        norm_lls.append(\n",
    "            (_result[\"ll\"] - uni_model) / (_result[\"ll_oracle\"] - uni_model)\n",
    "        )\n",
    "    _dct[\"r_concat\"] = np.mean(concat_rs)\n",
    "    _dct[\"r_concat_oracle\"] = np.mean(oracle_concat_rs)\n",
    "    _dct[\"ll\"] = np.mean(ls)\n",
    "    _dct[\"ll_norm\"] = np.mean(norm_lls)\n",
    "    _dct[\"ll_oracle\"] = np.mean(oracle_lls)\n",
    "    _dct[\"ave_r\"] = np.mean(ave_rs)\n",
    "    dcts.append(_dct)"
   ]
  },
  {
   "cell_type": "code",
   "execution_count": 80,
   "metadata": {},
   "outputs": [],
   "source": [
    "results_stim_test_df = pd.DataFrame(dcts)\n",
    "results_stim_test_df[\"repeat\"] = np.floor(\n",
    "    results_stim_test_df[\"fold\"] / n_folds\n",
    ").astype(\"int\")"
   ]
  },
  {
   "cell_type": "code",
   "execution_count": 81,
   "metadata": {},
   "outputs": [],
   "source": [
    "ncolors = results_stim_test_df[\"type\"].nunique()\n",
    "pal = [sns.color_palette()[1]]\n",
    "pal += [sns.color_palette()[0]] * (ncolors - 1)"
   ]
  },
  {
   "cell_type": "code",
   "execution_count": 82,
   "metadata": {},
   "outputs": [],
   "source": [
    "setup_plotting_env()\n",
    "# sns.set_context(\"paper\")"
   ]
  },
  {
   "cell_type": "code",
   "execution_count": 83,
   "metadata": {},
   "outputs": [],
   "source": [
    "results_stim_test_df[\"r_concat_fraction\"] = (\n",
    "    results_stim_test_df[\"r_concat\"] / results_stim_test_df[\"r_concat_oracle\"]\n",
    ")"
   ]
  },
  {
   "cell_type": "code",
   "execution_count": 84,
   "metadata": {},
   "outputs": [],
   "source": [
    "oracle_ave = results_stim_test_df[\"r_concat_oracle\"].mean()"
   ]
  },
  {
   "cell_type": "code",
   "execution_count": 85,
   "metadata": {},
   "outputs": [],
   "source": [
    "correlation_to_fraction = lambda x: x / oracle_ave\n",
    "fraction_to_correlation = lambda x: x * oracle_ave"
   ]
  },
  {
   "cell_type": "code",
   "execution_count": 86,
   "metadata": {},
   "outputs": [
    {
     "data": {
      "image/png": "[encoded data removed]",
      "text/plain": [
       "<Figure size 160x360 with 1 Axes>"
      ]
     },
     "metadata": {},
     "output_type": "display_data"
    }
   ],
   "source": [
    "g = sns.catplot(\n",
    "    data=results_stim_test_df.groupby([\"type\", \"repeat\"]).mean().reset_index(),\n",
    "    x=\"type\",\n",
    "    order=[\"dlight\", \"no_offset\", \"random_shift\", \"random_dist\"],\n",
    "    y=\"r_concat\",\n",
    "    showfliers=False,\n",
    "    showcaps=False,\n",
    "    palette=pal,\n",
    "    color=sns.color_palette()[0],\n",
    "    kind=\"box\",\n",
    ")\n",
    "\n",
    "\n",
    "g.set(ylabel=\"Heldout usage correlation\", xlabel=\"\", ylim=(0, 0.45))\n",
    "secax_y = g.ax.secondary_yaxis(\n",
    "    \"right\", functions=(correlation_to_fraction, fraction_to_correlation)\n",
    ")\n",
    "secax_y.set_ylabel(\"Fraction of maximum correlation\")\n",
    "\n",
    "g.set_xticklabels(rotation=45)\n",
    "g.fig.set_size_inches(0.8, 1.8)\n",
    "savefig(\n",
    "    g.fig,\n",
    "    os.path.join(figure_cfg[\"store_dir\"], \"decoding_model_stim_performance_v_controls\"),\n",
    "    bbox_inches=\"tight\",\n",
    ")"
   ]
  },
  {
   "cell_type": "code",
   "execution_count": 87,
   "metadata": {},
   "outputs": [],
   "source": [
    "stats[\"stim\"] = {}"
   ]
  },
  {
   "cell_type": "code",
   "execution_count": 88,
   "metadata": {},
   "outputs": [],
   "source": [
    "compare_base = \"dlight\"\n",
    "compare_groups = [\"no_offset\", \"random_shift\", \"random_dist\"]\n",
    "compare_df = results_stim_test_df.groupby([\"type\", \"repeat\"]).mean()\n",
    "use_test = mannwhitneyu\n",
    "for _group in compare_groups:\n",
    "    stat, p = use_test(\n",
    "        compare_df.loc[compare_base][\"r_concat\"], compare_df.loc[_group][\"r_concat\"]\n",
    "    )\n",
    "    group = str((compare_base, _group))\n",
    "    stats[\"stim\"][group] = {}\n",
    "    stats[\"stim\"][group][\"test_type\"] = str(use_test.__name__)\n",
    "    stats[\"stim\"][group][\"p\"] = p\n",
    "    stats[\"stim\"][group][\"test_stat\"] = stat\n",
    "    stats[\"stim\"][group][\"n\"] = n_repeats\n",
    "    stats[\"stim\"][group][\"n_definition\"] = \"model repeats\"\n",
    "for _group in compare_df.index.get_level_values(\"type\").unique():\n",
    "    stats[\"stim\"][_group] = {}\n",
    "    for k, v in compare_df.loc[_group][\"r_concat\"].describe().items(): \n",
    "        stats[\"stim\"][_group][k] = v"
   ]
  },
  {
   "cell_type": "code",
   "execution_count": 89,
   "metadata": {},
   "outputs": [],
   "source": [
    "with open(\n",
    "    os.path.join(proc_dirs[\"dlight\"], \"stats_decoding_model_exponential.toml\"), \"w\"\n",
    ") as f:\n",
    "    toml.dump(stats, f)"
   ]
  },
  {
   "cell_type": "code",
   "execution_count": null,
   "metadata": {},
   "outputs": [],
   "source": []
  }
 ],
 "metadata": {
  "kernelspec": {
   "display_name": "Python [conda env:spont-da]",
   "language": "python",
   "name": "conda-env-spont-da-py"
  },
  "language_info": {
   "codemirror_mode": {
    "name": "ipython",
    "version": 3
   },
   "file_extension": ".py",
   "mimetype": "text/x-python",
   "name": "python",
   "nbconvert_exporter": "python",
   "pygments_lexer": "ipython3",
   "version": "3.10.8"
  },
  "widgets": {
   "application/vnd.jupyter.widget-state+json": {
    "state": {
     "015bf6f85aa04633a7dda0daff5612bd": {
      "model_module": "@jupyter-widgets/controls",
      "model_module_version": "1.5.0",
      "model_name": "ProgressStyleModel",
      "state": {
       "description_width": "initial"
      }
     },
     "0188fa3b32884bd58c54d1a0dcfd94c6": {
      "model_module": "@jupyter-widgets/controls",
      "model_module_version": "1.5.0",
      "model_name": "HBoxModel",
      "state": {
       "children": [
        "IPY_MODEL_e454c6c2890c4084acc85983dce47fc4",
        "IPY_MODEL_9cbd5d01284748c49f2a5bfe4ae97d31"
       ],
       "layout": "IPY_MODEL_74ffb9908c62431bb196de0795f6645a"
      }
     },
     "026a1bcdae5346699365e48aa6cace58": {
      "model_module": "@jupyter-widgets/controls",
      "model_module_version": "1.5.0",
      "model_name": "HBoxModel",
      "state": {
       "children": [
        "IPY_MODEL_45956762fdd24175b0bd279598057b39",
        "IPY_MODEL_bb4fd7b1f691458b81bf0e582f236f4f"
       ],
       "layout": "IPY_MODEL_6d0eb327a9884d028714d4f9f799cc9c"
      }
     },
     "05cd2d8f5b15457fbeb14dda0bfc2e46": {
      "model_module": "@jupyter-widgets/base",
      "model_module_version": "1.2.0",
      "model_name": "LayoutModel",
      "state": {}
     },
     "0b132e4db48a4409bd54ed95b919c314": {
      "model_module": "@jupyter-widgets/base",
      "model_module_version": "1.2.0",
      "model_name": "LayoutModel",
      "state": {}
     },
     "0e4df3dad9214540af92b992cd72eeea": {
      "model_module": "@jupyter-widgets/controls",
      "model_module_version": "1.5.0",
      "model_name": "DescriptionStyleModel",
      "state": {
       "description_width": ""
      }
     },
     "116a29c654a74edf82fb4dd362d55764": {
      "model_module": "@jupyter-widgets/controls",
      "model_module_version": "1.5.0",
      "model_name": "DescriptionStyleModel",
      "state": {
       "description_width": ""
      }
     },
     "1628a141025c4f8aadb39d8ecfb72d73": {
      "model_module": "@jupyter-widgets/base",
      "model_module_version": "1.2.0",
      "model_name": "LayoutModel",
      "state": {}
     },
     "1d5cb71772c0454fa805233742191477": {
      "model_module": "@jupyter-widgets/base",
      "model_module_version": "1.2.0",
      "model_name": "LayoutModel",
      "state": {}
     },
     "1fd56e9ad55a4f1499e43591c86fcc66": {
      "model_module": "@jupyter-widgets/controls",
      "model_module_version": "1.5.0",
      "model_name": "HBoxModel",
      "state": {
       "children": [
        "IPY_MODEL_31d89422cbd44fe99dd87f02d05710f8",
        "IPY_MODEL_b1b0f0d12602417e9f2576ec69a9ce43"
       ],
       "layout": "IPY_MODEL_b0c404ba9e534008a062bc1df73e00e2"
      }
     },
     "28a919f2abbc48fcaf8b76eed040e97f": {
      "model_module": "@jupyter-widgets/controls",
      "model_module_version": "1.5.0",
      "model_name": "FloatProgressModel",
      "state": {
       "bar_style": "success",
       "description": "100%",
       "layout": "IPY_MODEL_930f1462cb034ad8baf8752382ec8eab",
       "max": 54404,
       "style": "IPY_MODEL_015bf6f85aa04633a7dda0daff5612bd",
       "value": 54404
      }
     },
     "2a05def7df604aefb1063c42a442a9cc": {
      "model_module": "@jupyter-widgets/controls",
      "model_module_version": "1.5.0",
      "model_name": "HTMLModel",
      "state": {
       "layout": "IPY_MODEL_6d904ec8d96a4c6c8e816d5d6a4b7222",
       "style": "IPY_MODEL_116a29c654a74edf82fb4dd362d55764",
       "value": " 1080/1080 [01:05&lt;00:00, 16.42it/s]"
      }
     },
     "2d52003cf5e64a319d8b3f8395672374": {
      "model_module": "@jupyter-widgets/controls",
      "model_module_version": "1.5.0",
      "model_name": "FloatProgressModel",
      "state": {
       "bar_style": "success",
       "description": "100%",
       "layout": "IPY_MODEL_5398069d757043e0b218cd9540132242",
       "max": 54404,
       "style": "IPY_MODEL_ea85ab1c5e99411c8b72c69f140fcf63",
       "value": 54404
      }
     },
     "30ecdd1e161145f3b0cea2da2b5ed087": {
      "model_module": "@jupyter-widgets/controls",
      "model_module_version": "1.5.0",
      "model_name": "DescriptionStyleModel",
      "state": {
       "description_width": ""
      }
     },
     "3111470fa018471d94ccda8b2b65e951": {
      "model_module": "@jupyter-widgets/controls",
      "model_module_version": "1.5.0",
      "model_name": "HBoxModel",
      "state": {
       "children": [
        "IPY_MODEL_b88c6de73384477abb6afd2e93eed85d",
        "IPY_MODEL_89a07ff193214c5d9374f03786bd1c98"
       ],
       "layout": "IPY_MODEL_dfcfb5b728e64d50938fb47cda7c18dd"
      }
     },
     "3181571a0f5d4473b487a05a5b0d229e": {
      "model_module": "@jupyter-widgets/controls",
      "model_module_version": "1.5.0",
      "model_name": "HBoxModel",
      "state": {
       "children": [
        "IPY_MODEL_2d52003cf5e64a319d8b3f8395672374",
        "IPY_MODEL_f766ce281f2b439c9f477a1fd9375542"
       ],
       "layout": "IPY_MODEL_3b2d57676262459690f598d5808383eb"
      }
     },
     "31d89422cbd44fe99dd87f02d05710f8": {
      "model_module": "@jupyter-widgets/controls",
      "model_module_version": "1.5.0",
      "model_name": "FloatProgressModel",
      "state": {
       "bar_style": "success",
       "description": "100%",
       "layout": "IPY_MODEL_d92bf18225aa4456be58160b521f607f",
       "max": 54404,
       "style": "IPY_MODEL_601bdf1dea7f4c58b70d501d27d161b2",
       "value": 54404
      }
     },
     "339b4b8e25d94e36bf24c329900ca9dd": {
      "model_module": "@jupyter-widgets/controls",
      "model_module_version": "1.5.0",
      "model_name": "HBoxModel",
      "state": {
       "children": [
        "IPY_MODEL_f201d480ab45492894affaa7dacc71e6",
        "IPY_MODEL_2a05def7df604aefb1063c42a442a9cc"
       ],
       "layout": "IPY_MODEL_cf2e01f46e4648719127f85aa3cc9857"
      }
     },
     "3509b38326ff44d9880d3c56978a67b1": {
      "model_module": "@jupyter-widgets/controls",
      "model_module_version": "1.5.0",
      "model_name": "ProgressStyleModel",
      "state": {
       "description_width": "initial"
      }
     },
     "366d29ede43645aba4c8946cd9553dca": {
      "model_module": "@jupyter-widgets/base",
      "model_module_version": "1.2.0",
      "model_name": "LayoutModel",
      "state": {}
     },
     "3b2d57676262459690f598d5808383eb": {
      "model_module": "@jupyter-widgets/base",
      "model_module_version": "1.2.0",
      "model_name": "LayoutModel",
      "state": {}
     },
     "3c845b383ebb400a8870b7723735df43": {
      "model_module": "@jupyter-widgets/controls",
      "model_module_version": "1.5.0",
      "model_name": "FloatProgressModel",
      "state": {
       "bar_style": "success",
       "description": "100%",
       "layout": "IPY_MODEL_1628a141025c4f8aadb39d8ecfb72d73",
       "max": 1080,
       "style": "IPY_MODEL_3509b38326ff44d9880d3c56978a67b1",
       "value": 1080
      }
     },
     "401964b01792439f923bfad8b3a96923": {
      "model_module": "@jupyter-widgets/controls",
      "model_module_version": "1.5.0",
      "model_name": "ProgressStyleModel",
      "state": {
       "description_width": "initial"
      }
     },
     "45956762fdd24175b0bd279598057b39": {
      "model_module": "@jupyter-widgets/controls",
      "model_module_version": "1.5.0",
      "model_name": "FloatProgressModel",
      "state": {
       "bar_style": "success",
       "description": "100%",
       "layout": "IPY_MODEL_1d5cb71772c0454fa805233742191477",
       "max": 54404,
       "style": "IPY_MODEL_8ef6d764628f4e64b399545ab6527759",
       "value": 54404
      }
     },
     "4b0431f5fd4d4122b15c6a719d4cbe2a": {
      "model_module": "@jupyter-widgets/controls",
      "model_module_version": "1.5.0",
      "model_name": "DescriptionStyleModel",
      "state": {
       "description_width": ""
      }
     },
     "4e5cc1bc2777405dbd8829fce162fca1": {
      "model_module": "@jupyter-widgets/controls",
      "model_module_version": "1.5.0",
      "model_name": "HTMLModel",
      "state": {
       "layout": "IPY_MODEL_5c89955369cb4da2b1b4cceaf9ce2ccb",
       "style": "IPY_MODEL_c654f16f8c2143b7a45125b4b8b6f7b6",
       "value": " 1080/1080 [00:12&lt;00:00, 88.77it/s]"
      }
     },
     "5398069d757043e0b218cd9540132242": {
      "model_module": "@jupyter-widgets/base",
      "model_module_version": "1.2.0",
      "model_name": "LayoutModel",
      "state": {}
     },
     "56f1fdaa4d0a45ef903bdd0c2934fa96": {
      "model_module": "@jupyter-widgets/base",
      "model_module_version": "1.2.0",
      "model_name": "LayoutModel",
      "state": {}
     },
     "5c89955369cb4da2b1b4cceaf9ce2ccb": {
      "model_module": "@jupyter-widgets/base",
      "model_module_version": "1.2.0",
      "model_name": "LayoutModel",
      "state": {}
     },
     "601bdf1dea7f4c58b70d501d27d161b2": {
      "model_module": "@jupyter-widgets/controls",
      "model_module_version": "1.5.0",
      "model_name": "ProgressStyleModel",
      "state": {
       "description_width": "initial"
      }
     },
     "606d96232d354b0fa8b740c7ea160fb8": {
      "model_module": "@jupyter-widgets/base",
      "model_module_version": "1.2.0",
      "model_name": "LayoutModel",
      "state": {}
     },
     "67c2f837fd494a209cd1149005350c08": {
      "model_module": "@jupyter-widgets/base",
      "model_module_version": "1.2.0",
      "model_name": "LayoutModel",
      "state": {}
     },
     "6ae9d298b1944e37ac0ac7760c4454bd": {
      "model_module": "@jupyter-widgets/base",
      "model_module_version": "1.2.0",
      "model_name": "LayoutModel",
      "state": {}
     },
     "6d0eb327a9884d028714d4f9f799cc9c": {
      "model_module": "@jupyter-widgets/base",
      "model_module_version": "1.2.0",
      "model_name": "LayoutModel",
      "state": {}
     },
     "6d904ec8d96a4c6c8e816d5d6a4b7222": {
      "model_module": "@jupyter-widgets/base",
      "model_module_version": "1.2.0",
      "model_name": "LayoutModel",
      "state": {}
     },
     "6f00736114674d6fa4235fab7ea66987": {
      "model_module": "@jupyter-widgets/controls",
      "model_module_version": "1.5.0",
      "model_name": "HTMLModel",
      "state": {
       "layout": "IPY_MODEL_0b132e4db48a4409bd54ed95b919c314",
       "style": "IPY_MODEL_f2d2ce28af8445e6b6997326e9585282",
       "value": " 54404/54404 [01:12&lt;00:00, 747.23it/s]"
      }
     },
     "72865a63c24b4e6c957091bd4f17ff36": {
      "model_module": "@jupyter-widgets/controls",
      "model_module_version": "1.5.0",
      "model_name": "FloatProgressModel",
      "state": {
       "bar_style": "success",
       "description": "100%",
       "layout": "IPY_MODEL_dd953a20354a43cd92f2e445d5394dbf",
       "max": 1080,
       "style": "IPY_MODEL_b757ed952a9d486fa7a37bc574536832",
       "value": 1080
      }
     },
     "72e679171ac746b08570af95b76fd259": {
      "model_module": "@jupyter-widgets/controls",
      "model_module_version": "1.5.0",
      "model_name": "HBoxModel",
      "state": {
       "children": [
        "IPY_MODEL_72865a63c24b4e6c957091bd4f17ff36",
        "IPY_MODEL_9fb7a3e3bddb4a6e8575c0f84be76682"
       ],
       "layout": "IPY_MODEL_bb8945d47283432184c4bb9ec975abfc"
      }
     },
     "736c15b2871647a2a556f64f4277a4d4": {
      "model_module": "@jupyter-widgets/base",
      "model_module_version": "1.2.0",
      "model_name": "LayoutModel",
      "state": {}
     },
     "74ffb9908c62431bb196de0795f6645a": {
      "model_module": "@jupyter-widgets/base",
      "model_module_version": "1.2.0",
      "model_name": "LayoutModel",
      "state": {}
     },
     "78e8e4b82eaf466bafdd8e7d39b1010c": {
      "model_module": "@jupyter-widgets/base",
      "model_module_version": "1.2.0",
      "model_name": "LayoutModel",
      "state": {}
     },
     "89a07ff193214c5d9374f03786bd1c98": {
      "model_module": "@jupyter-widgets/controls",
      "model_module_version": "1.5.0",
      "model_name": "HTMLModel",
      "state": {
       "layout": "IPY_MODEL_e267c04e84be44409271ece8c0e4c19a",
       "style": "IPY_MODEL_0e4df3dad9214540af92b992cd72eeea",
       "value": " 54404/54404 [01:19&lt;00:00, 687.67it/s]"
      }
     },
     "8ab41df5d90d45fbbb292d7d052e94c2": {
      "model_module": "@jupyter-widgets/controls",
      "model_module_version": "1.5.0",
      "model_name": "FloatProgressModel",
      "state": {
       "bar_style": "success",
       "description": "100%",
       "layout": "IPY_MODEL_ac8002e8ac0d43f5984985f22a70f7b4",
       "max": 54404,
       "style": "IPY_MODEL_e213006180a442b2af5d8284633ddfef",
       "value": 54404
      }
     },
     "8ef6d764628f4e64b399545ab6527759": {
      "model_module": "@jupyter-widgets/controls",
      "model_module_version": "1.5.0",
      "model_name": "ProgressStyleModel",
      "state": {
       "description_width": "initial"
      }
     },
     "930f1462cb034ad8baf8752382ec8eab": {
      "model_module": "@jupyter-widgets/base",
      "model_module_version": "1.2.0",
      "model_name": "LayoutModel",
      "state": {}
     },
     "9cbd5d01284748c49f2a5bfe4ae97d31": {
      "model_module": "@jupyter-widgets/controls",
      "model_module_version": "1.5.0",
      "model_name": "HTMLModel",
      "state": {
       "layout": "IPY_MODEL_56f1fdaa4d0a45ef903bdd0c2934fa96",
       "style": "IPY_MODEL_f74323266cd5439e8889fca892c515cd",
       "value": " 1080/1080 [00:53&lt;00:00, 20.12it/s]"
      }
     },
     "9f19ffec020c4fd6ad815eac4ad621f1": {
      "model_module": "@jupyter-widgets/controls",
      "model_module_version": "1.5.0",
      "model_name": "HTMLModel",
      "state": {
       "layout": "IPY_MODEL_6ae9d298b1944e37ac0ac7760c4454bd",
       "style": "IPY_MODEL_e614c7eaf1a04d999c8d84c258c24a91",
       "value": " 54404/54404 [01:13&lt;00:00, 736.24it/s]"
      }
     },
     "9fb7a3e3bddb4a6e8575c0f84be76682": {
      "model_module": "@jupyter-widgets/controls",
      "model_module_version": "1.5.0",
      "model_name": "HTMLModel",
      "state": {
       "layout": "IPY_MODEL_af95d8679dfc4241a5595af6b78fb191",
       "style": "IPY_MODEL_cacd6c27bf0140d29288188068ba36c8",
       "value": " 1080/1080 [00:41&lt;00:00, 25.99it/s]"
      }
     },
     "a8d5cb51111245dc852cf6d82ec65af3": {
      "model_module": "@jupyter-widgets/controls",
      "model_module_version": "1.5.0",
      "model_name": "ProgressStyleModel",
      "state": {
       "description_width": "initial"
      }
     },
     "a9aac78aa4e1403a88722f19bbaf3736": {
      "model_module": "@jupyter-widgets/base",
      "model_module_version": "1.2.0",
      "model_name": "LayoutModel",
      "state": {}
     },
     "aa038197b9ea48078ee208b4866cc9b2": {
      "model_module": "@jupyter-widgets/base",
      "model_module_version": "1.2.0",
      "model_name": "LayoutModel",
      "state": {}
     },
     "ac8002e8ac0d43f5984985f22a70f7b4": {
      "model_module": "@jupyter-widgets/base",
      "model_module_version": "1.2.0",
      "model_name": "LayoutModel",
      "state": {}
     },
     "ae719a9e1d1144b88977c2ca24524149": {
      "model_module": "@jupyter-widgets/base",
      "model_module_version": "1.2.0",
      "model_name": "LayoutModel",
      "state": {}
     },
     "af95d8679dfc4241a5595af6b78fb191": {
      "model_module": "@jupyter-widgets/base",
      "model_module_version": "1.2.0",
      "model_name": "LayoutModel",
      "state": {}
     },
     "b0c404ba9e534008a062bc1df73e00e2": {
      "model_module": "@jupyter-widgets/base",
      "model_module_version": "1.2.0",
      "model_name": "LayoutModel",
      "state": {}
     },
     "b1b0f0d12602417e9f2576ec69a9ce43": {
      "model_module": "@jupyter-widgets/controls",
      "model_module_version": "1.5.0",
      "model_name": "HTMLModel",
      "state": {
       "layout": "IPY_MODEL_a9aac78aa4e1403a88722f19bbaf3736",
       "style": "IPY_MODEL_4b0431f5fd4d4122b15c6a719d4cbe2a",
       "value": " 54404/54404 [01:13&lt;00:00, 735.43it/s]"
      }
     },
     "b757ed952a9d486fa7a37bc574536832": {
      "model_module": "@jupyter-widgets/controls",
      "model_module_version": "1.5.0",
      "model_name": "ProgressStyleModel",
      "state": {
       "description_width": "initial"
      }
     },
     "b789ad9feeb9492abd21750cbf13485d": {
      "model_module": "@jupyter-widgets/controls",
      "model_module_version": "1.5.0",
      "model_name": "HBoxModel",
      "state": {
       "children": [
        "IPY_MODEL_eae6a738366042a48364ea05b6d99522",
        "IPY_MODEL_e900bb482cdf4ca38dbf1adf057790be"
       ],
       "layout": "IPY_MODEL_78e8e4b82eaf466bafdd8e7d39b1010c"
      }
     },
     "b7f930c9c92946cd81d7d70cd4769616": {
      "model_module": "@jupyter-widgets/controls",
      "model_module_version": "1.5.0",
      "model_name": "ProgressStyleModel",
      "state": {
       "description_width": "initial"
      }
     },
     "b88c6de73384477abb6afd2e93eed85d": {
      "model_module": "@jupyter-widgets/controls",
      "model_module_version": "1.5.0",
      "model_name": "FloatProgressModel",
      "state": {
       "bar_style": "success",
       "description": "100%",
       "layout": "IPY_MODEL_736c15b2871647a2a556f64f4277a4d4",
       "max": 54404,
       "style": "IPY_MODEL_a8d5cb51111245dc852cf6d82ec65af3",
       "value": 54404
      }
     },
     "bb4fd7b1f691458b81bf0e582f236f4f": {
      "model_module": "@jupyter-widgets/controls",
      "model_module_version": "1.5.0",
      "model_name": "HTMLModel",
      "state": {
       "layout": "IPY_MODEL_c99f6e30edb44f4f8f1c2c3a09ec9a3c",
       "style": "IPY_MODEL_ca52366a77e84ba2bdfbf81ad09dd976",
       "value": " 54404/54404 [01:13&lt;00:00, 739.45it/s]"
      }
     },
     "bb8945d47283432184c4bb9ec975abfc": {
      "model_module": "@jupyter-widgets/base",
      "model_module_version": "1.2.0",
      "model_name": "LayoutModel",
      "state": {}
     },
     "c13b400ad0c04eeeb4b58492d35f1613": {
      "model_module": "@jupyter-widgets/controls",
      "model_module_version": "1.5.0",
      "model_name": "HBoxModel",
      "state": {
       "children": [
        "IPY_MODEL_3c845b383ebb400a8870b7723735df43",
        "IPY_MODEL_e1ecdd903368458c972bd552e14a2664"
       ],
       "layout": "IPY_MODEL_f336973b98114fd991c9159dea600047"
      }
     },
     "c14d02e408e64ec49cfb25d075018c82": {
      "model_module": "@jupyter-widgets/controls",
      "model_module_version": "1.5.0",
      "model_name": "DescriptionStyleModel",
      "state": {
       "description_width": ""
      }
     },
     "c1711f38c0f649ea93f0455ddcee731f": {
      "model_module": "@jupyter-widgets/controls",
      "model_module_version": "1.5.0",
      "model_name": "ProgressStyleModel",
      "state": {
       "description_width": "initial"
      }
     },
     "c654f16f8c2143b7a45125b4b8b6f7b6": {
      "model_module": "@jupyter-widgets/controls",
      "model_module_version": "1.5.0",
      "model_name": "DescriptionStyleModel",
      "state": {
       "description_width": ""
      }
     },
     "c99f6e30edb44f4f8f1c2c3a09ec9a3c": {
      "model_module": "@jupyter-widgets/base",
      "model_module_version": "1.2.0",
      "model_name": "LayoutModel",
      "state": {}
     },
     "ca52366a77e84ba2bdfbf81ad09dd976": {
      "model_module": "@jupyter-widgets/controls",
      "model_module_version": "1.5.0",
      "model_name": "DescriptionStyleModel",
      "state": {
       "description_width": ""
      }
     },
     "cacd6c27bf0140d29288188068ba36c8": {
      "model_module": "@jupyter-widgets/controls",
      "model_module_version": "1.5.0",
      "model_name": "DescriptionStyleModel",
      "state": {
       "description_width": ""
      }
     },
     "cf2e01f46e4648719127f85aa3cc9857": {
      "model_module": "@jupyter-widgets/base",
      "model_module_version": "1.2.0",
      "model_name": "LayoutModel",
      "state": {}
     },
     "d433ec3ab57445959373132679e4a7de": {
      "model_module": "@jupyter-widgets/base",
      "model_module_version": "1.2.0",
      "model_name": "LayoutModel",
      "state": {}
     },
     "d4c925fe864448f3b3b6b1c829021618": {
      "model_module": "@jupyter-widgets/controls",
      "model_module_version": "1.5.0",
      "model_name": "ProgressStyleModel",
      "state": {
       "description_width": "initial"
      }
     },
     "d92bf18225aa4456be58160b521f607f": {
      "model_module": "@jupyter-widgets/base",
      "model_module_version": "1.2.0",
      "model_name": "LayoutModel",
      "state": {}
     },
     "dd953a20354a43cd92f2e445d5394dbf": {
      "model_module": "@jupyter-widgets/base",
      "model_module_version": "1.2.0",
      "model_name": "LayoutModel",
      "state": {}
     },
     "dfcfb5b728e64d50938fb47cda7c18dd": {
      "model_module": "@jupyter-widgets/base",
      "model_module_version": "1.2.0",
      "model_name": "LayoutModel",
      "state": {}
     },
     "e1ecdd903368458c972bd552e14a2664": {
      "model_module": "@jupyter-widgets/controls",
      "model_module_version": "1.5.0",
      "model_name": "HTMLModel",
      "state": {
       "layout": "IPY_MODEL_e7fa4dffcfe9416582dd66c2fc9b9785",
       "style": "IPY_MODEL_e783ed588e524b9abf889f85634e96d5",
       "value": " 1080/1080 [03:31&lt;00:00,  5.10it/s]"
      }
     },
     "e213006180a442b2af5d8284633ddfef": {
      "model_module": "@jupyter-widgets/controls",
      "model_module_version": "1.5.0",
      "model_name": "ProgressStyleModel",
      "state": {
       "description_width": "initial"
      }
     },
     "e267c04e84be44409271ece8c0e4c19a": {
      "model_module": "@jupyter-widgets/base",
      "model_module_version": "1.2.0",
      "model_name": "LayoutModel",
      "state": {}
     },
     "e454c6c2890c4084acc85983dce47fc4": {
      "model_module": "@jupyter-widgets/controls",
      "model_module_version": "1.5.0",
      "model_name": "FloatProgressModel",
      "state": {
       "bar_style": "success",
       "description": "100%",
       "layout": "IPY_MODEL_366d29ede43645aba4c8946cd9553dca",
       "max": 1080,
       "style": "IPY_MODEL_c1711f38c0f649ea93f0455ddcee731f",
       "value": 1080
      }
     },
     "e614c7eaf1a04d999c8d84c258c24a91": {
      "model_module": "@jupyter-widgets/controls",
      "model_module_version": "1.5.0",
      "model_name": "DescriptionStyleModel",
      "state": {
       "description_width": ""
      }
     },
     "e783ed588e524b9abf889f85634e96d5": {
      "model_module": "@jupyter-widgets/controls",
      "model_module_version": "1.5.0",
      "model_name": "DescriptionStyleModel",
      "state": {
       "description_width": ""
      }
     },
     "e7fa4dffcfe9416582dd66c2fc9b9785": {
      "model_module": "@jupyter-widgets/base",
      "model_module_version": "1.2.0",
      "model_name": "LayoutModel",
      "state": {}
     },
     "e900bb482cdf4ca38dbf1adf057790be": {
      "model_module": "@jupyter-widgets/controls",
      "model_module_version": "1.5.0",
      "model_name": "HTMLModel",
      "state": {
       "layout": "IPY_MODEL_67c2f837fd494a209cd1149005350c08",
       "style": "IPY_MODEL_c14d02e408e64ec49cfb25d075018c82",
       "value": " 54404/54404 [01:14&lt;00:00, 726.27it/s]"
      }
     },
     "ea85ab1c5e99411c8b72c69f140fcf63": {
      "model_module": "@jupyter-widgets/controls",
      "model_module_version": "1.5.0",
      "model_name": "ProgressStyleModel",
      "state": {
       "description_width": "initial"
      }
     },
     "eaae4616cb964353ae71d232acaf04a5": {
      "model_module": "@jupyter-widgets/controls",
      "model_module_version": "1.5.0",
      "model_name": "HBoxModel",
      "state": {
       "children": [
        "IPY_MODEL_8ab41df5d90d45fbbb292d7d052e94c2",
        "IPY_MODEL_6f00736114674d6fa4235fab7ea66987"
       ],
       "layout": "IPY_MODEL_ed2264d38f794ccfaa7373cf282e12e7"
      }
     },
     "eae6a738366042a48364ea05b6d99522": {
      "model_module": "@jupyter-widgets/controls",
      "model_module_version": "1.5.0",
      "model_name": "FloatProgressModel",
      "state": {
       "bar_style": "success",
       "description": "100%",
       "layout": "IPY_MODEL_05cd2d8f5b15457fbeb14dda0bfc2e46",
       "max": 54404,
       "style": "IPY_MODEL_b7f930c9c92946cd81d7d70cd4769616",
       "value": 54404
      }
     },
     "ecc71ceb48c249ca9735b32b3fae40c9": {
      "model_module": "@jupyter-widgets/controls",
      "model_module_version": "1.5.0",
      "model_name": "HBoxModel",
      "state": {
       "children": [
        "IPY_MODEL_f61bc90e20114d0c97eb08ddeb057ad6",
        "IPY_MODEL_4e5cc1bc2777405dbd8829fce162fca1"
       ],
       "layout": "IPY_MODEL_d433ec3ab57445959373132679e4a7de"
      }
     },
     "ed2264d38f794ccfaa7373cf282e12e7": {
      "model_module": "@jupyter-widgets/base",
      "model_module_version": "1.2.0",
      "model_name": "LayoutModel",
      "state": {}
     },
     "f201d480ab45492894affaa7dacc71e6": {
      "model_module": "@jupyter-widgets/controls",
      "model_module_version": "1.5.0",
      "model_name": "FloatProgressModel",
      "state": {
       "bar_style": "success",
       "description": "100%",
       "layout": "IPY_MODEL_ae719a9e1d1144b88977c2ca24524149",
       "max": 1080,
       "style": "IPY_MODEL_d4c925fe864448f3b3b6b1c829021618",
       "value": 1080
      }
     },
     "f2d2ce28af8445e6b6997326e9585282": {
      "model_module": "@jupyter-widgets/controls",
      "model_module_version": "1.5.0",
      "model_name": "DescriptionStyleModel",
      "state": {
       "description_width": ""
      }
     },
     "f336973b98114fd991c9159dea600047": {
      "model_module": "@jupyter-widgets/base",
      "model_module_version": "1.2.0",
      "model_name": "LayoutModel",
      "state": {}
     },
     "f61bc90e20114d0c97eb08ddeb057ad6": {
      "model_module": "@jupyter-widgets/controls",
      "model_module_version": "1.5.0",
      "model_name": "FloatProgressModel",
      "state": {
       "bar_style": "success",
       "description": "100%",
       "layout": "IPY_MODEL_f99856ae41ee4d53aab555edf95cb659",
       "max": 1080,
       "style": "IPY_MODEL_401964b01792439f923bfad8b3a96923",
       "value": 1080
      }
     },
     "f74323266cd5439e8889fca892c515cd": {
      "model_module": "@jupyter-widgets/controls",
      "model_module_version": "1.5.0",
      "model_name": "DescriptionStyleModel",
      "state": {
       "description_width": ""
      }
     },
     "f766ce281f2b439c9f477a1fd9375542": {
      "model_module": "@jupyter-widgets/controls",
      "model_module_version": "1.5.0",
      "model_name": "HTMLModel",
      "state": {
       "layout": "IPY_MODEL_606d96232d354b0fa8b740c7ea160fb8",
       "style": "IPY_MODEL_30ecdd1e161145f3b0cea2da2b5ed087",
       "value": " 54404/54404 [01:20&lt;00:00, 671.68it/s]"
      }
     },
     "f99856ae41ee4d53aab555edf95cb659": {
      "model_module": "@jupyter-widgets/base",
      "model_module_version": "1.2.0",
      "model_name": "LayoutModel",
      "state": {}
     },
     "f9ad36f7b07b41559ec3fa99d3a27589": {
      "model_module": "@jupyter-widgets/controls",
      "model_module_version": "1.5.0",
      "model_name": "HBoxModel",
      "state": {
       "children": [
        "IPY_MODEL_28a919f2abbc48fcaf8b76eed040e97f",
        "IPY_MODEL_9f19ffec020c4fd6ad815eac4ad621f1"
       ],
       "layout": "IPY_MODEL_aa038197b9ea48078ee208b4866cc9b2"
      }
     }
    },
    "version_major": 2,
    "version_minor": 0
   }
  }
 },
 "nbformat": 4,
 "nbformat_minor": 4
}
