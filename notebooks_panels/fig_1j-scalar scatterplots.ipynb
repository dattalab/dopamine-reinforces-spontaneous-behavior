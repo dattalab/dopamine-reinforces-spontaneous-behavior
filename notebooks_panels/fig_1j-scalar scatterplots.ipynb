{
 "cells": [
  {
   "cell_type": "code",
   "execution_count": 1,
   "metadata": {},
   "outputs": [],
   "source": [
    "%load_ext autoreload\n",
    "%autoreload 2\n",
    "%matplotlib inline"
   ]
  },
  {
   "cell_type": "code",
   "execution_count": 2,
   "metadata": {},
   "outputs": [],
   "source": [
    "from rl_analysis.plotting import savefig, setup_plotting_env, clean_ticks, format_pval\n",
    "from rl_analysis.regression import model_fit\n",
    "from tqdm.auto import tqdm\n",
    "from joblib import delayed, Parallel\n",
    "from scipy.stats import gaussian_kde\n",
    "from sklearn import linear_model\n",
    "\n",
    "import matplotlib.pyplot as plt\n",
    "import numpy as np\n",
    "import pandas as pd\n",
    "import seaborn as sns\n",
    "import os"
   ]
  },
  {
   "cell_type": "markdown",
   "metadata": {
    "tags": []
   },
   "source": [
    "## load in new dlight data and preprocess"
   ]
  },
  {
   "cell_type": "code",
   "execution_count": 3,
   "metadata": {},
   "outputs": [],
   "source": [
    "import toml\n",
    "\n",
    "with open(\"../analysis_configuration.toml\", \"r\") as f:\n",
    "    analysis_config = toml.load(f)"
   ]
  },
  {
   "cell_type": "code",
   "execution_count": 4,
   "metadata": {},
   "outputs": [],
   "source": [
    "proc_dirs = analysis_config[\"intermediate_results\"]\n",
    "dlight_cfg = analysis_config[\"dlight_basic_analysis\"]\n",
    "dlight_common_cfg = analysis_config[\"dlight_common\"]\n",
    "figure_cfg = analysis_config[\"figures\"]"
   ]
  },
  {
   "cell_type": "markdown",
   "metadata": {
    "tags": []
   },
   "source": [
    "# Show peak rate crossing and correlations with scalars over various timescales"
   ]
  },
  {
   "cell_type": "code",
   "execution_count": 5,
   "metadata": {},
   "outputs": [],
   "source": [
    "agg_data = pd.read_parquet(\n",
    "    os.path.join(proc_dirs[\"dlight\"], \"scalar_correlations_data.parquet\")\n",
    ")"
   ]
  },
  {
   "cell_type": "code",
   "execution_count": 6,
   "metadata": {},
   "outputs": [],
   "source": [
    "use_agg_data = agg_data.loc[\n",
    "    (agg_data[\"timescale\"] == -5)\n",
    "    & (agg_data[\"neural_agg\"] == \"mean\")\n",
    "    & (agg_data[\"area\"] == \"dls\")\n",
    "].reset_index(drop=True)"
   ]
  },
  {
   "cell_type": "code",
   "execution_count": 8,
   "metadata": {},
   "outputs": [],
   "source": [
    "setup_plotting_env()"
   ]
  },
  {
   "cell_type": "code",
   "execution_count": 9,
   "metadata": {},
   "outputs": [],
   "source": [
    "def get_z(x, y, bw_adjust=1):\n",
    "    xy = np.vstack([x, y])\n",
    "    kernel = gaussian_kde(xy)\n",
    "    kernel.set_bandwidth(kernel.scotts_factor() * bw_adjust)\n",
    "    z = kernel(xy)\n",
    "    return z"
   ]
  },
  {
   "cell_type": "code",
   "execution_count": 10,
   "metadata": {},
   "outputs": [],
   "source": [
    "xs = [\"signal_reref_dff_z\"]\n",
    "ys = [\"velocity_2d_mm\", \"velocity_angle\"]"
   ]
  },
  {
   "cell_type": "code",
   "execution_count": 11,
   "metadata": {},
   "outputs": [],
   "source": [
    "from sklearn import model_selection"
   ]
  },
  {
   "cell_type": "code",
   "execution_count": 12,
   "metadata": {},
   "outputs": [],
   "source": [
    "splits = model_selection.KFold(5)"
   ]
  },
  {
   "cell_type": "code",
   "execution_count": 13,
   "metadata": {},
   "outputs": [],
   "source": [
    "plt_points = use_agg_data.groupby(\"mouse_id\", observed=True).sample(\n",
    "    2000, random_state=0\n",
    ")"
   ]
  },
  {
   "cell_type": "code",
   "execution_count": 14,
   "metadata": {},
   "outputs": [],
   "source": [
    "# convert per frame to per second"
   ]
  },
  {
   "cell_type": "code",
   "execution_count": 15,
   "metadata": {},
   "outputs": [],
   "source": [
    "plt_points[\"velocity_2d_mm\"] *= 30\n",
    "plt_points[\"velocity_angle\"] *= 30"
   ]
  },
  {
   "cell_type": "code",
   "execution_count": 16,
   "metadata": {},
   "outputs": [],
   "source": [
    "from sklearn import model_selection"
   ]
  },
  {
   "cell_type": "code",
   "execution_count": 17,
   "metadata": {},
   "outputs": [],
   "source": [
    "# shuffle splits are repeated nshuffles times\n",
    "shuffle_splits = model_selection.RepeatedKFold(n_splits=5, n_repeats=5, random_state=0)\n",
    "\n",
    "# this is done once to estimate a CI for the fit we show and the r (computed over held-out data)\n",
    "# one potential issue is that we're repeating datapoints, so we could reduce the number of repeats\n",
    "obs_splits = model_selection.RepeatedKFold(n_splits=5, n_repeats=100, random_state=0)"
   ]
  },
  {
   "cell_type": "code",
   "execution_count": 18,
   "metadata": {},
   "outputs": [],
   "source": [
    "nshuffles = 1000\n",
    "partial_vars = None"
   ]
  },
  {
   "cell_type": "code",
   "execution_count": 19,
   "metadata": {},
   "outputs": [],
   "source": [
    "lims = {\"velocity_2d_mm\": [0, 250], \"velocity_angle\": [-9, 9]}"
   ]
  },
  {
   "cell_type": "code",
   "execution_count": 20,
   "metadata": {},
   "outputs": [],
   "source": [
    "stats = {}"
   ]
  },
  {
   "cell_type": "code",
   "execution_count": 22,
   "metadata": {},
   "outputs": [
    {
     "data": {
      "application/vnd.jupyter.widget-view+json": {
       "model_id": "cbc2ba235ff64cb0bb80c00b77a8a160",
       "version_major": 2,
       "version_minor": 0
      },
      "text/plain": [
       "  0%|          | 0/2 [00:00<?, ?it/s]"
      ]
     },
     "metadata": {},
     "output_type": "display_data"
    },
    {
     "data": {
      "application/vnd.jupyter.widget-view+json": {
       "model_id": "eb1b5f7b87cc4277ae4bae804a2f5e53",
       "version_major": 2,
       "version_minor": 0
      },
      "text/plain": [
       "  0%|          | 0/1 [00:00<?, ?it/s]"
      ]
     },
     "metadata": {},
     "output_type": "display_data"
    },
    {
     "data": {
      "application/vnd.jupyter.widget-view+json": {
       "model_id": "2e962e79ec8f4e279bdab7d8b1af6af3",
       "version_major": 2,
       "version_minor": 0
      },
      "text/plain": [
       "  0%|          | 0/1 [00:00<?, ?it/s]"
      ]
     },
     "metadata": {},
     "output_type": "display_data"
    },
    {
     "data": {
      "image/png": "[encoded data removed]",
      "text/plain": [
       "<Figure size 320x520 with 2 Axes>"
      ]
     },
     "metadata": {},
     "output_type": "display_data"
    }
   ],
   "source": [
    "xvals = np.linspace(-1.5, 1.5, 50)\n",
    "\n",
    "fig, ax = plt.subplots(\n",
    "    len(ys), len(xs), figsize=(1.6 * len(xs), 1.3 * len(ys)), sharex=True, sharey=\"row\"\n",
    ")\n",
    "if len(ys) == 1:\n",
    "    ax = np.array([ax])\n",
    "for _y, rax in tqdm(zip(ys, ax), total=len(ys)):\n",
    "    if len(xs) == 1:\n",
    "        rax = [rax]\n",
    "    for _x, _ax in tqdm(zip(xs, rax), total=len(xs)):\n",
    "\n",
    "        x, y = plt_points.dropna()[_x].values, plt_points.dropna()[_y].values\n",
    "        z = get_z(x, y, 1)\n",
    "        z /= z.max()\n",
    "        _ax.scatter(\n",
    "            x, y, c=z, s=5, cmap=\"inferno\", alpha=np.clip(z, 0, 0.75), rasterized=True\n",
    "        )\n",
    "\n",
    "        clf = linear_model.HuberRegressor(fit_intercept=True, epsilon=1.05)\n",
    "        delays = [\n",
    "            delayed(model_fit)(\n",
    "                plt_points,\n",
    "                shuffle_splits,\n",
    "                clf=clf,\n",
    "                shuffle_x=True,\n",
    "                partial_x=partial_vars,\n",
    "                y=_y,\n",
    "                x=_x,\n",
    "            )\n",
    "            for i in range(nshuffles)\n",
    "        ]\n",
    "\n",
    "        results = Parallel(n_jobs=-1, verbose=0)(delays)\n",
    "\n",
    "        obs_r, models, (plt_x, plt_y) = model_fit(\n",
    "            plt_points,\n",
    "            obs_splits,\n",
    "            clf=clf,\n",
    "            return_models=True,\n",
    "            partial_x=partial_vars,\n",
    "            y=_y,\n",
    "            x=_x,\n",
    "            return_input=True,\n",
    "        )\n",
    "        p = (obs_r < results).mean()\n",
    "\n",
    "        use_field = f\"{_x}-{_y}\"\n",
    "        stats[use_field] = {}\n",
    "        stats[use_field][\"r\"] = obs_r\n",
    "        stats[use_field][\"p\"] = p\n",
    "        stats[use_field][\"regressor\"] = str(clf)\n",
    "        stats[use_field][\"n\"] = len(plt_points)\n",
    "        stats[use_field][\"n_definition\"] = \"n bins\"\n",
    "\n",
    "        predictions = np.array([_.predict(xvals.reshape(-1, 1)) for _ in models])\n",
    "        regression_ci = np.quantile(predictions, [0.025, 0.975], axis=0)\n",
    "\n",
    "        _ax.fill_between(\n",
    "            xvals, regression_ci[0], regression_ci[1], color=\"b\", zorder=+300\n",
    "        )\n",
    "        _ax.set_title(f\"{_y}\\nr={obs_r:.2f}, {format_pval(p)[0]}\")\n",
    "\n",
    "        try:\n",
    "            _ax.set_ylim(lims[_y])\n",
    "        except KeyError:\n",
    "            pass\n",
    "\n",
    "        clean_ticks(_ax, \"y\", precision=1, zero_symmetry=False)\n",
    "\n",
    "    rax[0].set_ylabel(_y)\n",
    "\n",
    "# plt.ylim(-1.5, 1.5)\n",
    "plt.xlim(-2, 2.5)\n",
    "clean_ticks(ax, \"x\", precision=1)\n",
    "sns.despine(offset=5)\n",
    "ax[-1].set_xlabel(\"dF/F0 average (z)\")\n",
    "fig.tight_layout()\n",
    "savefig(\n",
    "    fig,\n",
    "    os.path.join(figure_cfg[\"store_dir\"], \"dlight_syllable_binned_scalars_kde\"),\n",
    "    bbox_inches=\"tight\",\n",
    "    dpi=900,\n",
    ")"
   ]
  },
  {
   "cell_type": "code",
   "execution_count": 23,
   "metadata": {},
   "outputs": [],
   "source": [
    "stats[\"stat_type\"] = \"Pearson correlation (heldout)\"\n",
    "stats[\"p_type\"] = \"Comparison to shuffle\""
   ]
  },
  {
   "cell_type": "code",
   "execution_count": 24,
   "metadata": {},
   "outputs": [],
   "source": [
    "with open(os.path.join(proc_dirs[\"dlight\"], \"stats_binned_scalars.toml\"), \"w\") as f:\n",
    "    toml.dump(stats, f)"
   ]
  },
  {
   "cell_type": "code",
   "execution_count": 25,
   "metadata": {},
   "outputs": [
    {
     "data": {
      "text/plain": [
       "{'signal_reref_dff_z-velocity_2d_mm': {'r': 0.0869321141929803,\n",
       "  'p': 0.0,\n",
       "  'regressor': 'HuberRegressor(epsilon=1.05)',\n",
       "  'n': 28000,\n",
       "  'n_definition': 'n bins'},\n",
       " 'signal_reref_dff_z-velocity_angle': {'r': 0.03075149683491898,\n",
       "  'p': 0.0,\n",
       "  'regressor': 'HuberRegressor(epsilon=1.05)',\n",
       "  'n': 28000,\n",
       "  'n_definition': 'n bins'},\n",
       " 'stat_type': 'Pearson correlation (heldout)',\n",
       " 'p_type': 'Comparison to shuffle'}"
      ]
     },
     "execution_count": 25,
     "metadata": {},
     "output_type": "execute_result"
    }
   ],
   "source": [
    "stats"
   ]
  },
  {
   "cell_type": "code",
   "execution_count": null,
   "metadata": {},
   "outputs": [],
   "source": []
  },
  {
   "cell_type": "code",
   "execution_count": null,
   "metadata": {},
   "outputs": [],
   "source": []
  }
 ],
 "metadata": {
  "kernelspec": {
   "display_name": "Python [conda env:spont-da]",
   "language": "python",
   "name": "conda-env-spont-da-py"
  },
  "language_info": {
   "codemirror_mode": {
    "name": "ipython",
    "version": 3
   },
   "file_extension": ".py",
   "mimetype": "text/x-python",
   "name": "python",
   "nbconvert_exporter": "python",
   "pygments_lexer": "ipython3",
   "version": "3.10.8"
  },
  "widgets": {
   "application/vnd.jupyter.widget-state+json": {
    "state": {
     "0c2fdf7cc8b041b28ad6f775feb9e1b2": {
      "model_module": "@jupyter-widgets/base",
      "model_module_version": "1.2.0",
      "model_name": "LayoutModel",
      "state": {}
     },
     "1001a27c0c074ac198bd468374323a2e": {
      "model_module": "@jupyter-widgets/controls",
      "model_module_version": "1.5.0",
      "model_name": "HBoxModel",
      "state": {
       "children": [
        "IPY_MODEL_39ea6a6a3b094af8892ed29f09468e8e",
        "IPY_MODEL_3becade9c77a4841aaf71a133ff0c716"
       ],
       "layout": "IPY_MODEL_904831def6f4458d84d03d520d49017e"
      }
     },
     "11e5f855cc134b13a37770ba162b56d3": {
      "model_module": "@jupyter-widgets/base",
      "model_module_version": "1.2.0",
      "model_name": "LayoutModel",
      "state": {}
     },
     "135886efb36e4b1891e7b9595f5a69a7": {
      "model_module": "@jupyter-widgets/base",
      "model_module_version": "1.2.0",
      "model_name": "LayoutModel",
      "state": {}
     },
     "151fb3f16202474089e6685841e0f11c": {
      "model_module": "@jupyter-widgets/controls",
      "model_module_version": "1.5.0",
      "model_name": "HTMLModel",
      "state": {
       "layout": "IPY_MODEL_edae40b144fd469ca3fd80efbeff1b8d",
       "style": "IPY_MODEL_6a61457647284def89edcb0c334b4724",
       "value": " 19/19 [29:27&lt;00:00, 93.03s/it]"
      }
     },
     "23b37c61bbc24d62a47bece85cc92bdc": {
      "model_module": "@jupyter-widgets/base",
      "model_module_version": "1.2.0",
      "model_name": "LayoutModel",
      "state": {}
     },
     "3157ef96fb9c407798033e0c971c0b91": {
      "model_module": "@jupyter-widgets/base",
      "model_module_version": "1.2.0",
      "model_name": "LayoutModel",
      "state": {}
     },
     "3320c6d509d744e6a5fbc0ef152785a7": {
      "model_module": "@jupyter-widgets/base",
      "model_module_version": "1.2.0",
      "model_name": "LayoutModel",
      "state": {}
     },
     "39ea6a6a3b094af8892ed29f09468e8e": {
      "model_module": "@jupyter-widgets/controls",
      "model_module_version": "1.5.0",
      "model_name": "FloatProgressModel",
      "state": {
       "description": "  5%",
       "layout": "IPY_MODEL_135886efb36e4b1891e7b9595f5a69a7",
       "max": 19,
       "style": "IPY_MODEL_f383eee0318f40ad9695f8f30d353fc7",
       "value": 1
      }
     },
     "3becade9c77a4841aaf71a133ff0c716": {
      "model_module": "@jupyter-widgets/controls",
      "model_module_version": "1.5.0",
      "model_name": "HTMLModel",
      "state": {
       "layout": "IPY_MODEL_11e5f855cc134b13a37770ba162b56d3",
       "style": "IPY_MODEL_85a2ae049da942199e8ae571f375f5be",
       "value": " 1/19 [00:01&lt;00:35,  1.95s/it]"
      }
     },
     "3cb5141450ed40cb8ea4ae55f5d079e8": {
      "model_module": "@jupyter-widgets/controls",
      "model_module_version": "1.5.0",
      "model_name": "HBoxModel",
      "state": {
       "children": [
        "IPY_MODEL_563568b1258a41539b00a82d58d9a760",
        "IPY_MODEL_eb693443923b4849910c81c3e234ea0a"
       ],
       "layout": "IPY_MODEL_cfec1c73705645c09cf30a8e9eff64fa"
      }
     },
     "563568b1258a41539b00a82d58d9a760": {
      "model_module": "@jupyter-widgets/controls",
      "model_module_version": "1.5.0",
      "model_name": "FloatProgressModel",
      "state": {
       "bar_style": "success",
       "description": "100%",
       "layout": "IPY_MODEL_23b37c61bbc24d62a47bece85cc92bdc",
       "max": 19,
       "style": "IPY_MODEL_a34d88c02f764beba35e1c6f25c14088",
       "value": 19
      }
     },
     "67dea0179ff34a1d9cd1e2afb6be40bb": {
      "model_module": "@jupyter-widgets/controls",
      "model_module_version": "1.5.0",
      "model_name": "FloatProgressModel",
      "state": {
       "bar_style": "success",
       "description": "100%",
       "layout": "IPY_MODEL_ccdc1ce02d84438ba5837323959ac392",
       "max": 19,
       "style": "IPY_MODEL_d1236fd48fbe4a86b88f7e57a30a254e",
       "value": 19
      }
     },
     "6a61457647284def89edcb0c334b4724": {
      "model_module": "@jupyter-widgets/controls",
      "model_module_version": "1.5.0",
      "model_name": "DescriptionStyleModel",
      "state": {
       "description_width": ""
      }
     },
     "85a2ae049da942199e8ae571f375f5be": {
      "model_module": "@jupyter-widgets/controls",
      "model_module_version": "1.5.0",
      "model_name": "DescriptionStyleModel",
      "state": {
       "description_width": ""
      }
     },
     "904831def6f4458d84d03d520d49017e": {
      "model_module": "@jupyter-widgets/base",
      "model_module_version": "1.2.0",
      "model_name": "LayoutModel",
      "state": {}
     },
     "91b950b97f9f49179ac41fba04bef6ec": {
      "model_module": "@jupyter-widgets/controls",
      "model_module_version": "1.5.0",
      "model_name": "HBoxModel",
      "state": {
       "children": [
        "IPY_MODEL_c09802e74cbf465e89e98d12451db80b",
        "IPY_MODEL_b67bba143dc149aca75d6b19f991f40b"
       ],
       "layout": "IPY_MODEL_ef408cf36bf64dc5981e43291d864254"
      }
     },
     "a318aec2eccc4d5a888cd77c1d83de58": {
      "model_module": "@jupyter-widgets/controls",
      "model_module_version": "1.5.0",
      "model_name": "HBoxModel",
      "state": {
       "children": [
        "IPY_MODEL_67dea0179ff34a1d9cd1e2afb6be40bb",
        "IPY_MODEL_151fb3f16202474089e6685841e0f11c"
       ],
       "layout": "IPY_MODEL_0c2fdf7cc8b041b28ad6f775feb9e1b2"
      }
     },
     "a34d88c02f764beba35e1c6f25c14088": {
      "model_module": "@jupyter-widgets/controls",
      "model_module_version": "1.5.0",
      "model_name": "ProgressStyleModel",
      "state": {
       "description_width": "initial"
      }
     },
     "b67bba143dc149aca75d6b19f991f40b": {
      "model_module": "@jupyter-widgets/controls",
      "model_module_version": "1.5.0",
      "model_name": "HTMLModel",
      "state": {
       "layout": "IPY_MODEL_3157ef96fb9c407798033e0c971c0b91",
       "style": "IPY_MODEL_d11fa8243b2e41ce9b2c2b0d76dfa8e0",
       "value": " 19/19 [02:00&lt;00:00,  6.34s/it]"
      }
     },
     "c09802e74cbf465e89e98d12451db80b": {
      "model_module": "@jupyter-widgets/controls",
      "model_module_version": "1.5.0",
      "model_name": "FloatProgressModel",
      "state": {
       "bar_style": "success",
       "description": "100%",
       "layout": "IPY_MODEL_3320c6d509d744e6a5fbc0ef152785a7",
       "max": 19,
       "style": "IPY_MODEL_ccbab5b38c564ff2be813f668ace192f",
       "value": 19
      }
     },
     "ccbab5b38c564ff2be813f668ace192f": {
      "model_module": "@jupyter-widgets/controls",
      "model_module_version": "1.5.0",
      "model_name": "ProgressStyleModel",
      "state": {
       "description_width": "initial"
      }
     },
     "ccdc1ce02d84438ba5837323959ac392": {
      "model_module": "@jupyter-widgets/base",
      "model_module_version": "1.2.0",
      "model_name": "LayoutModel",
      "state": {}
     },
     "cfec1c73705645c09cf30a8e9eff64fa": {
      "model_module": "@jupyter-widgets/base",
      "model_module_version": "1.2.0",
      "model_name": "LayoutModel",
      "state": {}
     },
     "d11fa8243b2e41ce9b2c2b0d76dfa8e0": {
      "model_module": "@jupyter-widgets/controls",
      "model_module_version": "1.5.0",
      "model_name": "DescriptionStyleModel",
      "state": {
       "description_width": ""
      }
     },
     "d1236fd48fbe4a86b88f7e57a30a254e": {
      "model_module": "@jupyter-widgets/controls",
      "model_module_version": "1.5.0",
      "model_name": "ProgressStyleModel",
      "state": {
       "description_width": "initial"
      }
     },
     "eb693443923b4849910c81c3e234ea0a": {
      "model_module": "@jupyter-widgets/controls",
      "model_module_version": "1.5.0",
      "model_name": "HTMLModel",
      "state": {
       "layout": "IPY_MODEL_f164a9b92dc74eb2a9495833b2758d82",
       "style": "IPY_MODEL_ebe3845f08e44758b963aa320dd46522",
       "value": " 19/19 [00:14&lt;00:00,  1.36it/s]"
      }
     },
     "ebe3845f08e44758b963aa320dd46522": {
      "model_module": "@jupyter-widgets/controls",
      "model_module_version": "1.5.0",
      "model_name": "DescriptionStyleModel",
      "state": {
       "description_width": ""
      }
     },
     "edae40b144fd469ca3fd80efbeff1b8d": {
      "model_module": "@jupyter-widgets/base",
      "model_module_version": "1.2.0",
      "model_name": "LayoutModel",
      "state": {}
     },
     "ef408cf36bf64dc5981e43291d864254": {
      "model_module": "@jupyter-widgets/base",
      "model_module_version": "1.2.0",
      "model_name": "LayoutModel",
      "state": {}
     },
     "f164a9b92dc74eb2a9495833b2758d82": {
      "model_module": "@jupyter-widgets/base",
      "model_module_version": "1.2.0",
      "model_name": "LayoutModel",
      "state": {}
     },
     "f383eee0318f40ad9695f8f30d353fc7": {
      "model_module": "@jupyter-widgets/controls",
      "model_module_version": "1.5.0",
      "model_name": "ProgressStyleModel",
      "state": {
       "description_width": "initial"
      }
     }
    },
    "version_major": 2,
    "version_minor": 0
   }
  }
 },
 "nbformat": 4,
 "nbformat_minor": 4
}
