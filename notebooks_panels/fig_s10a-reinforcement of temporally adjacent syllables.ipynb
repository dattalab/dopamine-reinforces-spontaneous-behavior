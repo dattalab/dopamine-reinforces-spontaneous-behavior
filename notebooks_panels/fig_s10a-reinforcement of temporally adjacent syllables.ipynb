{
 "cells": [
  {
   "cell_type": "code",
   "execution_count": 1,
   "metadata": {
    "scrolled": true
   },
   "outputs": [],
   "source": [
    "%load_ext autoreload\n",
    "%autoreload 2\n",
    "%matplotlib inline"
   ]
  },
  {
   "cell_type": "code",
   "execution_count": 2,
   "metadata": {},
   "outputs": [],
   "source": [
    "from tqdm.auto import tqdm\n",
    "from functools import partial\n",
    "from rl_analysis.plotting import (\n",
    "    setup_plotting_env,\n",
    "    geno_palette,\n",
    "    syllable_aliases,\n",
    "    savefig,\n",
    "    clean_ticks\n",
    ")\n",
    "from rl_analysis.util import (\n",
    "    rle,\n",
    ")\n",
    "from rl_analysis.batch import apply_parallel_joblib\n",
    "import warnings\n",
    "\n",
    "warnings.simplefilter(action=\"ignore\", category=FutureWarning)\n",
    "import pandas as pd\n",
    "\n",
    "import os\n",
    "import seaborn as sns\n",
    "import numpy as np\n",
    "import matplotlib.pyplot as plt"
   ]
  },
  {
   "cell_type": "markdown",
   "metadata": {},
   "source": [
    "# Read in raw data to process transition stats"
   ]
  },
  {
   "cell_type": "code",
   "execution_count": 3,
   "metadata": {},
   "outputs": [],
   "source": [
    "import toml\n",
    "\n",
    "with open(\"../analysis_configuration.toml\", \"r\") as f:\n",
    "    analysis_config = toml.load(f)"
   ]
  },
  {
   "cell_type": "code",
   "execution_count": 4,
   "metadata": {},
   "outputs": [],
   "source": [
    "raw_dirs = analysis_config[\"raw_data\"]\n",
    "proc_dirs = analysis_config[\"intermediate_results\"]\n",
    "closed_loop_cfg = analysis_config[\"closed_loop_behavior\"]\n",
    "figure_cfg = analysis_config[\"figures\"]"
   ]
  },
  {
   "cell_type": "markdown",
   "metadata": {
    "tags": []
   },
   "source": [
    "# Load in raw data and normalize (can skip if loading pre-computed results)"
   ]
  },
  {
   "cell_type": "code",
   "execution_count": 5,
   "metadata": {},
   "outputs": [],
   "source": [
    "feedback_df = pd.read_parquet(\n",
    "    os.path.join(raw_dirs[\"closed_loop_behavior\"], \"closed_loop_behavior_with_simulated_triggers.parquet\")\n",
    ").sort_index()"
   ]
  },
  {
   "cell_type": "code",
   "execution_count": 6,
   "metadata": {},
   "outputs": [],
   "source": [
    "feedback_df = feedback_df.loc[\n",
    "    (feedback_df[\"area\"].isin([\"snc (axon)\", \"snc (axon, dms)\", \"ctrl\"]))\n",
    "    & (feedback_df[\"opsin\"].isin([\"chr2\", \"ctrl\"]))\n",
    "    & (feedback_df[\"session_number\"].isin([-1, 0, 1, 2]).copy())\n",
    "    & (feedback_df[\"target_syllable\"].isin(syllable_aliases.keys()))\n",
    "].copy()"
   ]
  },
  {
   "cell_type": "markdown",
   "metadata": {},
   "source": [
    "## First build the null distribution using random splits over the baseline data"
   ]
  },
  {
   "cell_type": "code",
   "execution_count": 7,
   "metadata": {},
   "outputs": [],
   "source": [
    "from collections import defaultdict\n",
    "from functools import partial\n",
    "import warnings"
   ]
  },
  {
   "cell_type": "code",
   "execution_count": 8,
   "metadata": {},
   "outputs": [],
   "source": [
    "stim_len = 0  # set to length of stim (in seconds) if you want to reference to offset\n",
    "lags = np.arange(-50, 51)  # which lags (in syllable time) to check\n",
    "dfs = []\n",
    "meta_keys = [\n",
    "    \"mouse_id\",\n",
    "    # \"uuid\",\n",
    "    \"session_number\",\n",
    "    \"stim_duration\",\n",
    "    \"cohort\",\n",
    "    \"genotype\",\n",
    "    \"target_syllable\",\n",
    "    \"area\",\n",
    "    \"opsin\",\n",
    "    \"power\",\n",
    "    \"experiment_type\",\n",
    "    \"area (pooled)\",\n",
    "]\n",
    "\n",
    "def get_trans_stats(\n",
    "    session,\n",
    "    sim_prefix=\"sim_feedback_status target_{}\",\n",
    "    catch_rate=0.25,\n",
    "    nlags=3,\n",
    "    target=None,\n",
    "):\n",
    "    session = session.copy().set_index(\n",
    "        \"timestamp\"\n",
    "    )  # so we're indexing by, you know, time...\n",
    "\n",
    "    # get the indices for syllable onsets\n",
    "    rle_labels = rle(session[\"predicted_syllable\"])\n",
    "    labels_idx = rle_labels.index\n",
    "    sim_key = sim_prefix.format(session[\"target_syllable\"].iat[0])\n",
    "\n",
    "    # use the sim_key if we're on a baseline day...\n",
    "    session_number = session[\"session_number\"].iat[0]\n",
    "    if (session_number <= 0) or (session_number >= 3):\n",
    "        fback_key = sim_key\n",
    "        session_type = \"control\"\n",
    "        sim_catch = True\n",
    "    else:\n",
    "        fback_key = \"feedback_status\"\n",
    "        session_type = \"stim\"\n",
    "        sim_catch = False\n",
    "\n",
    "    # no triggers during the first 3 timepoints (triggers warnings, not sure we even need this)\n",
    "    # session[fback_key].iloc[:nlags] = -1\n",
    "\n",
    "    # check for stim or catch (we capture whether it's stim or catch downstream if we want to filter)\n",
    "    fbacks = session.loc[session[fback_key] != -1, fback_key]\n",
    "    fbacks = fbacks[~fbacks.isnull()]\n",
    "\n",
    "    if len(fbacks) < 1:\n",
    "        return None\n",
    "    # let's check multiple lags and mark in the new dataframe\n",
    "    # so this finds ONSET of the targeted syllable, is THAT WHAT WE WANT?\n",
    "    # change stim_len to stim_length if you want to reference to stim offset\n",
    "\n",
    "    # to_rem = []\n",
    "    keep_fbacks_idx = []\n",
    "    # okay so here we're forward filling indices so that fback_idx gets the\n",
    "    # syllable onset closest to the stimulation time\n",
    "    with warnings.catch_warnings():\n",
    "        # float indices are near deprecation with newer pandas...\n",
    "        # as a fallback we can switch to integer indices (just convert timestamps to frame)\n",
    "        warnings.filterwarnings(\"ignore\", category=FutureWarning)\n",
    "        fbacks_idx = []\n",
    "        for _fback in fbacks.index.tolist():\n",
    "            try:\n",
    "                _idx = labels_idx.get_loc(_fback + stim_len, method=\"ffill\")\n",
    "                fbacks_idx.append(_idx)\n",
    "                keep_fbacks_idx.append(_fback)\n",
    "            except pd.errors.InvalidIndexError:\n",
    "                pass\n",
    "                # to_rem.append(i)\n",
    "\n",
    "    fbacks = fbacks.loc[keep_fbacks_idx]\n",
    "    # to stash everything\n",
    "    to_store = defaultdict(dict)\n",
    "\n",
    "    # here we're just going to shift the labels forwards (positive) and backwards (negative)\n",
    "    # this allows us to collect what's happening at different lags re: to stim onset\n",
    "    # remember positive shifts are moving labels TO THE RIGHT and negative TO THE LEFT\n",
    "    # so the sign gets flipped when everything is collected\n",
    "    for _lag in lags:\n",
    "\n",
    "        # current syllable\n",
    "        _syllables = np.array(\n",
    "            [rle_labels.shift(_lag).iloc[_idx] for _idx in fbacks_idx]\n",
    "        )\n",
    "\n",
    "        # next syllable\n",
    "        _syllables_next = np.array(\n",
    "            [rle_labels.shift(_lag - 1).iloc[_idx] for _idx in fbacks_idx]\n",
    "        )\n",
    "        #         _time = np.array([fbacks.loc[_idx].index for _idx in fbacks.index.tolist()])\n",
    "        _time = np.array(\n",
    "            [\n",
    "                rle_labels.reset_index().shift(_lag)[\"timestamp\"].iloc[_idx]\n",
    "                for _idx in fbacks_idx\n",
    "            ]\n",
    "        )\n",
    "\n",
    "        # subtracts the actual feedback times\n",
    "        _rel_time = _time - np.array(fbacks.index.tolist())\n",
    "\n",
    "        # if user passes the target then exclude the target (i.e. self-transitions)\n",
    "        # we can also get rid of the targets later\n",
    "        if target is not None:\n",
    "            targets = _syllables == target\n",
    "            targets |= _syllables_next == target\n",
    "        else:\n",
    "            targets = np.zeros(_syllables.shape, dtype=\"bool\")\n",
    "\n",
    "        # get rid of any nans or targets (if the user wishes)\n",
    "        nans = np.logical_or(np.isnan(_syllables), np.isnan(_syllables_next))\n",
    "        nans = np.logical_or(nans, targets)\n",
    "\n",
    "        _time = _time[~nans]\n",
    "        _rel_time = _rel_time[~nans]\n",
    "        _syllables = _syllables[~nans]\n",
    "        _syllables_next = _syllables_next[~nans]\n",
    "\n",
    "        # \"simulate\" catches in the simulated detections\n",
    "        if sim_catch:\n",
    "            _status = np.array(\n",
    "                [np.random.uniform() > catch_rate for _ in range(len(_time))]\n",
    "            ).astype(\"int\")\n",
    "        else:\n",
    "            _status = fbacks[~nans].to_numpy()\n",
    "\n",
    "        # stash everything\n",
    "        to_store[\"actual_time\"][_lag] = _time\n",
    "        to_store[\"relative_time\"][_lag] = _rel_time\n",
    "        to_store[\"syllable\"][_lag] = _syllables.astype(\"int\")\n",
    "        to_store[\"syllable_next\"][_lag] = _syllables_next.astype(\"int\")\n",
    "        to_store[\"status\"][_lag] = _status.astype(\"int\")\n",
    "        #         to_store[\"index\"][_lag] = np.arange(np.sum(~nans))\n",
    "        to_store[\"trigger_number\"][_lag] = np.arange(len(fbacks_idx))[~nans]\n",
    "\n",
    "    _df = pd.DataFrame()\n",
    "    # everything gets packed into a dataframe\n",
    "    for _store_key, _store_val in to_store.items():\n",
    "        _df[_store_key] = np.concatenate(list(_store_val.values())).tolist()\n",
    "\n",
    "    # pad out the lags to match (remember that lags are simply the keys here)\n",
    "    _lags = np.concatenate(\n",
    "        [[k] * len(v) for k, v in to_store[\"syllable\"].items()]\n",
    "    ).tolist()\n",
    "    _df[\"lag\"] = _lags\n",
    "    _df[\"session_type\"] = session_type\n",
    "\n",
    "    # finally any metadata\n",
    "    for _mkey in meta_keys:\n",
    "        _df[_mkey] = session[_mkey].iat[0]\n",
    "\n",
    "    return _df"
   ]
  },
  {
   "cell_type": "code",
   "execution_count": 9,
   "metadata": {},
   "outputs": [],
   "source": [
    "feedback_df[\"date_rnd\"] = feedback_df[\"date\"].dt.floor(\"d\")"
   ]
  },
  {
   "cell_type": "code",
   "execution_count": 10,
   "metadata": {
    "tags": []
   },
   "outputs": [
    {
     "name": "stdout",
     "output_type": "stream",
     "text": [
      "767\n"
     ]
    },
    {
     "name": "stderr",
     "output_type": "stream",
     "text": [
      "[Parallel(n_jobs=-1)]: Using backend LokyBackend with 128 concurrent workers.\n",
      "[Parallel(n_jobs=-1)]: Done   9 tasks      | elapsed:   26.5s\n",
      "[Parallel(n_jobs=-1)]: Done  32 tasks      | elapsed:   28.7s\n",
      "[Parallel(n_jobs=-1)]: Done  57 tasks      | elapsed:   31.1s\n",
      "[Parallel(n_jobs=-1)]: Done  82 tasks      | elapsed:   33.0s\n",
      "[Parallel(n_jobs=-1)]: Done 109 tasks      | elapsed:   35.1s\n",
      "[Parallel(n_jobs=-1)]: Done 136 tasks      | elapsed:   37.2s\n",
      "[Parallel(n_jobs=-1)]: Done 165 tasks      | elapsed:   40.5s\n",
      "[Parallel(n_jobs=-1)]: Done 194 tasks      | elapsed:   43.6s\n",
      "[Parallel(n_jobs=-1)]: Done 225 tasks      | elapsed:   46.4s\n",
      "[Parallel(n_jobs=-1)]: Done 256 tasks      | elapsed:   49.9s\n",
      "[Parallel(n_jobs=-1)]: Done 289 tasks      | elapsed:   52.2s\n",
      "[Parallel(n_jobs=-1)]: Done 322 tasks      | elapsed:   54.9s\n",
      "[Parallel(n_jobs=-1)]: Done 357 tasks      | elapsed:   58.3s\n",
      "[Parallel(n_jobs=-1)]: Done 392 tasks      | elapsed:  1.0min\n",
      "[Parallel(n_jobs=-1)]: Done 429 tasks      | elapsed:  1.1min\n",
      "[Parallel(n_jobs=-1)]: Done 466 tasks      | elapsed:  1.2min\n",
      "[Parallel(n_jobs=-1)]: Done 505 tasks      | elapsed:  1.2min\n",
      "[Parallel(n_jobs=-1)]: Done 589 out of 767 | elapsed:  1.3min remaining:   24.3s\n",
      "[Parallel(n_jobs=-1)]: Done 666 out of 767 | elapsed:  1.4min remaining:   13.1s\n",
      "[Parallel(n_jobs=-1)]: Done 743 out of 767 | elapsed:  1.7min remaining:    3.2s\n",
      "[Parallel(n_jobs=-1)]: Done 767 out of 767 | elapsed:  1.9min finished\n"
     ]
    }
   ],
   "source": [
    "stdp_file = os.path.join(\n",
    "    proc_dirs[\"closed_loop_behavior\"], \"stdp_data_reinforcement_alldurations.parquet\"\n",
    ")\n",
    "force_load = False\n",
    "if not os.path.exists(stdp_file) or force_load:\n",
    "    dfs = []\n",
    "\n",
    "    # take all comers, get timing of syllable re: target,\n",
    "    # then how their usage changes w/r/t baseline\n",
    "    # I'm leaving out sessions 3, 4 for now\n",
    "    feedback_df_use = feedback_df[\n",
    "        (feedback_df[\"session_number\"].isin([-1, 0, 1, 2]))\n",
    "    ]\n",
    "\n",
    "    func = partial(get_trans_stats, sim_prefix=\"sim_feedback_status target_{}\")\n",
    "    group_obj = feedback_df_use.groupby(\"uuid\")\n",
    "    print(group_obj.ngroups)\n",
    "    trans_df = apply_parallel_joblib(group_obj, func, n_jobs=-1).reset_index()\n",
    "\n",
    "    # makes the trigger number completely unique throughout the dataframe\n",
    "    trans_df[\"index\"] = pd.factorize(\n",
    "        list(\n",
    "            zip(\n",
    "                trans_df[\"uuid\"],\n",
    "                trans_df[\"target_syllable\"],\n",
    "                trans_df[\"trigger_number\"],\n",
    "            )\n",
    "        )\n",
    "    )[0]\n",
    "    trans_df.to_parquet(stdp_file)\n",
    "else:\n",
    "    trans_df = pd.read_parquet(stdp_file)"
   ]
  },
  {
   "cell_type": "markdown",
   "metadata": {},
   "source": [
    "## Load in usage deltas"
   ]
  },
  {
   "cell_type": "code",
   "execution_count": 14,
   "metadata": {},
   "outputs": [],
   "source": [
    "norm_df = pd.read_parquet(\n",
    "    os.path.join(\n",
    "        raw_dirs[\"closed_loop_behavior\"], \"learning_aggregate.parquet\"\n",
    "    )\n",
    ")"
   ]
  },
  {
   "cell_type": "code",
   "execution_count": 15,
   "metadata": {},
   "outputs": [],
   "source": [
    "def weighted_average(group, key, sz_key=\"size\"):\n",
    "    return np.average(group[key], weights=group[sz_key])"
   ]
  },
  {
   "cell_type": "code",
   "execution_count": 16,
   "metadata": {},
   "outputs": [],
   "source": [
    "flags = (\n",
    "    trans_df[\"syllable\"]\n",
    "    != trans_df[\"target_syllable\"]\n",
    ")"
   ]
  },
  {
   "cell_type": "code",
   "execution_count": 17,
   "metadata": {},
   "outputs": [],
   "source": [
    "merge_cols = [\"syllable\", \"uuid\"]\n",
    "usage_cols = [\"change_count\", \"fold_change_count\", \"change_usage\"]"
   ]
  },
  {
   "cell_type": "code",
   "execution_count": 18,
   "metadata": {},
   "outputs": [],
   "source": [
    "rel_times = pd.merge(\n",
    "    trans_df[flags],\n",
    "    norm_df[merge_cols + usage_cols],\n",
    "    on=merge_cols,\n",
    "    how=\"left\",\n",
    ")"
   ]
  },
  {
   "cell_type": "code",
   "execution_count": 19,
   "metadata": {},
   "outputs": [],
   "source": [
    "# per syllable, trigger, syllable nearest stim is the only one that counts\n",
    "rel_times[\"abs_lag\"] = rel_times[\"lag\"].abs()\n",
    "rel_times_prune = (\n",
    "    rel_times.sort_values(\"abs_lag\")\n",
    "    .drop_duplicates([\"index\", \"syllable\"])\n",
    "    .reset_index(drop=True)\n",
    ")"
   ]
  },
  {
   "cell_type": "code",
   "execution_count": 20,
   "metadata": {},
   "outputs": [
    {
     "data": {
      "text/plain": [
       "target_syllable  syllable\n",
       "17               27.0        59\n",
       "                 22.0        41\n",
       "                 5.0         20\n",
       "                 41.0        16\n",
       "                 74.0        16\n",
       "                             ..\n",
       "76               42.0         1\n",
       "                 44.0         1\n",
       "                 53.0         1\n",
       "                 73.0         1\n",
       "                 95.0         1\n",
       "Name: syllable, Length: 109, dtype: int64"
      ]
     },
     "execution_count": 20,
     "metadata": {},
     "output_type": "execute_result"
    }
   ],
   "source": [
    "rel_times_prune[rel_times_prune[\"lag\"] == 0].groupby(\"target_syllable\")[\n",
    "    \"syllable\"\n",
    "].value_counts()"
   ]
  },
  {
   "cell_type": "code",
   "execution_count": 21,
   "metadata": {},
   "outputs": [],
   "source": [
    "# lag is in syllable time, relative_time is in \"real\" time\n",
    "rel_times_prune = rel_times_prune[rel_times_prune[\"lag\"] != 0]\n",
    "rel_times_prune[\"time_bin\"] = -rel_times_prune[\"lag\"]"
   ]
  },
  {
   "cell_type": "code",
   "execution_count": 22,
   "metadata": {},
   "outputs": [],
   "source": [
    "rel_times_prune.loc[rel_times_prune[\"session_number\"].isin([1, 2]), \"type\"] = \"stim\"\n",
    "rel_times_prune.loc[rel_times_prune[\"session_number\"].isin([-1, 0]), \"type\"] = \"control\""
   ]
  },
  {
   "cell_type": "code",
   "execution_count": 23,
   "metadata": {},
   "outputs": [],
   "source": [
    "group_keys = [\n",
    "    \"area (pooled)\",\n",
    "    \"area\",\n",
    "    \"genotype\",\n",
    "    \"opsin\",\n",
    "    \"experiment_type\",\n",
    "    \"power\",\n",
    "    \"session_number\",\n",
    "    \"syllable\",\n",
    "    \"target_syllable\",\n",
    "    \"time_bin\",\n",
    "    \"mouse_id\",\n",
    "    \"type\",\n",
    "    \"stim_duration\",\n",
    "]"
   ]
  },
  {
   "cell_type": "code",
   "execution_count": 24,
   "metadata": {},
   "outputs": [],
   "source": [
    "_plt_data = rel_times_prune.groupby(group_keys).mean()\n",
    "_plt_data_sz = rel_times_prune.groupby(group_keys).size()"
   ]
  },
  {
   "cell_type": "code",
   "execution_count": 25,
   "metadata": {},
   "outputs": [],
   "source": [
    "_plt_data[\"size\"] = _plt_data_sz\n",
    "_plt_data = _plt_data.reset_index().dropna()"
   ]
  },
  {
   "cell_type": "code",
   "execution_count": 26,
   "metadata": {},
   "outputs": [],
   "source": [
    "use_group_keys = list(set(group_keys).difference(set([\"syllable\"])))"
   ]
  },
  {
   "cell_type": "code",
   "execution_count": 27,
   "metadata": {},
   "outputs": [],
   "source": [
    "tqdm.pandas()"
   ]
  },
  {
   "cell_type": "code",
   "execution_count": 28,
   "metadata": {},
   "outputs": [
    {
     "data": {
      "application/vnd.jupyter.widget-view+json": {
       "model_id": "8c01dd96b8a54a089bbeaf248e65301c",
       "version_major": 2,
       "version_minor": 0
      },
      "text/plain": [
       "  0%|          | 0/75526 [00:00<?, ?it/s]"
      ]
     },
     "metadata": {},
     "output_type": "display_data"
    }
   ],
   "source": [
    "# take a weighted average syllable by syllable, so if a syllable doesn't pop up much in a time bin\n",
    "# it's usage count doesn't have a large impact...\n",
    "_tmp = (\n",
    "    _plt_data[_plt_data[\"session_number\"].isin([-1, 0, 1, 2])]\n",
    "    .groupby(use_group_keys)[[\"change_count\", \"size\"]]\n",
    "    .progress_apply(lambda x: weighted_average(x, key=\"change_count\"))\n",
    "    .rename(\"usage_change\")\n",
    "    .reset_index()\n",
    ")\n",
    "_tmp.dropna(inplace=True)"
   ]
  },
  {
   "cell_type": "code",
   "execution_count": 29,
   "metadata": {},
   "outputs": [],
   "source": [
    "idx = pd.IndexSlice"
   ]
  },
  {
   "cell_type": "code",
   "execution_count": 30,
   "metadata": {},
   "outputs": [],
   "source": [
    "use_group_keys = list(set(group_keys).difference(set([\"session_number\", \"syllable\"])))"
   ]
  },
  {
   "cell_type": "code",
   "execution_count": 31,
   "metadata": {},
   "outputs": [],
   "source": [
    "_tmp2 = _tmp[_tmp[\"session_number\"].isin([-1, 0, 1, 2])].groupby(use_group_keys).mean()\n",
    "_tmp2 = _tmp2.dropna()\n",
    "_tmp_diff = (\n",
    "    _tmp2.xs(\"stim\", level=\"type\")[[\"usage_change\"]]\n",
    "    - _tmp2.xs(\"control\", level=\"type\")[[\"usage_change\"]]\n",
    ")\n",
    "_tmp_diff[\"session_include\"] = \"both\"\n",
    "\n",
    "_tmp2 = _tmp[_tmp[\"session_number\"].isin([-1, 0, 1])].groupby(use_group_keys).mean()\n",
    "_tmp2 = _tmp2.dropna()\n",
    "_tmp_diff2 = (\n",
    "    _tmp2.xs(\"stim\", level=\"type\")[[\"usage_change\"]]\n",
    "    - _tmp2.xs(\"control\", level=\"type\")[[\"usage_change\"]]\n",
    ")\n",
    "_tmp_diff2[\"session_include\"] = \"first\"\n",
    "\n",
    "_tmp2 = _tmp[_tmp[\"session_number\"].isin([-1, 0, 2])].groupby(use_group_keys).mean()\n",
    "_tmp2 = _tmp2.dropna()\n",
    "_tmp_diff3 = (\n",
    "    _tmp2.xs(\"stim\", level=\"type\")[[\"usage_change\"]]\n",
    "    - _tmp2.xs(\"control\", level=\"type\")[[\"usage_change\"]]\n",
    ")\n",
    "_tmp_diff3[\"session_include\"] = \"second\""
   ]
  },
  {
   "cell_type": "code",
   "execution_count": 32,
   "metadata": {},
   "outputs": [],
   "source": [
    "_tmp_diff = pd.concat((_tmp_diff, _tmp_diff2, _tmp_diff3))"
   ]
  },
  {
   "cell_type": "code",
   "execution_count": 33,
   "metadata": {},
   "outputs": [],
   "source": [
    "_tmp_diff = (\n",
    "    _tmp_diff.groupby(\n",
    "        [\n",
    "            \"mouse_id\",\n",
    "            \"genotype\",\n",
    "            \"area (pooled)\",\n",
    "            \"area\",\n",
    "            \"opsin\",\n",
    "            \"power\",\n",
    "            \"experiment_type\",\n",
    "            \"target_syllable\",\n",
    "            \"time_bin\",\n",
    "            \"session_include\",\n",
    "            \"stim_duration\",\n",
    "        ]\n",
    "    )\n",
    "    .mean()\n",
    "    .reset_index()\n",
    "    .dropna()\n",
    ")"
   ]
  },
  {
   "cell_type": "code",
   "execution_count": 34,
   "metadata": {},
   "outputs": [],
   "source": [
    "_tmp_diff = _tmp_diff.loc[_tmp_diff[\"area\"].isin([\"snc (axon)\", \"ctrl\"])]"
   ]
  },
  {
   "cell_type": "code",
   "execution_count": 36,
   "metadata": {},
   "outputs": [],
   "source": [
    "learner_dct = toml.load(\n",
    "    os.path.join(proc_dirs[\"closed_loop_behavior\"], \"closed_loop_learners.toml\")\n",
    ")\n",
    "learners = (\n",
    "    learner_dct[\"snc (axon)\"][\"learners\"]\n",
    ")"
   ]
  },
  {
   "cell_type": "code",
   "execution_count": 37,
   "metadata": {},
   "outputs": [],
   "source": [
    "_tmp_diff[\"learner\"] = _tmp_diff[\"mouse_id\"].isin(learners)\n",
    "_tmp_diff[\"learner\"] = _tmp_diff[\"learner\"].map({True: \"yes\", False: \"no\"})\n",
    "_tmp_diff.loc[_tmp_diff[\"area\"] == \"ctrl\", \"learner\"] = \"ctrl\""
   ]
  },
  {
   "cell_type": "code",
   "execution_count": 38,
   "metadata": {},
   "outputs": [],
   "source": [
    "mean_keys = _tmp_diff.index > -np.inf"
   ]
  },
  {
   "cell_type": "code",
   "execution_count": 39,
   "metadata": {},
   "outputs": [
    {
     "data": {
      "application/vnd.jupyter.widget-view+json": {
       "model_id": "5fc6b0766dc947febbd9173654423752",
       "version_major": 2,
       "version_minor": 0
      },
      "text/plain": [
       "  0%|          | 0/100 [00:00<?, ?it/s]"
      ]
     },
     "metadata": {},
     "output_type": "display_data"
    }
   ],
   "source": [
    "nrands = 100\n",
    "rnd_means = []\n",
    "shuffle_key = \"usage_change\"\n",
    "rnd_group_keys = [\"mouse_id\", \"stim_duration\"]\n",
    "for i in tqdm(range(nrands)):\n",
    "    rando_diff = _tmp_diff[mean_keys].copy()\n",
    "    rando_diff[shuffle_key] = (\n",
    "        rando_diff.groupby(rnd_group_keys)\n",
    "        .apply(lambda x: x[shuffle_key].sample(frac=1))\n",
    "        .values\n",
    "    )\n",
    "    rnd_means.append(\n",
    "        rando_diff.groupby(\n",
    "            [\n",
    "                \"time_bin\",\n",
    "                \"learner\",\n",
    "                \"area (pooled)\",\n",
    "                \"genotype\",\n",
    "                \"area\",\n",
    "                \"session_include\",\n",
    "                \"stim_duration\",\n",
    "            ]\n",
    "        )[\"usage_change\"].mean()\n",
    "    )"
   ]
  },
  {
   "cell_type": "code",
   "execution_count": 40,
   "metadata": {},
   "outputs": [],
   "source": [
    "ci_keys = [\"learner\", \"session_include\", \"stim_duration\"]\n",
    "shuffles = pd.concat(rnd_means, axis=1)\n",
    "\n",
    "shuffles_hi = shuffles.quantile(0.975, axis=1).groupby(ci_keys).mean()\n",
    "shuffles_lo = shuffles.quantile(0.025, axis=1).groupby(ci_keys).mean()"
   ]
  },
  {
   "cell_type": "code",
   "execution_count": 41,
   "metadata": {},
   "outputs": [],
   "source": [
    "setup_plotting_env()"
   ]
  },
  {
   "cell_type": "code",
   "execution_count": 42,
   "metadata": {},
   "outputs": [],
   "source": [
    "_plt_diff = (\n",
    "    _tmp_diff[mean_keys].groupby([\"mouse_id\", \"learner\", \"session_include\", \"time_bin\"])\n",
    "    .mean()\n",
    ")"
   ]
  },
  {
   "cell_type": "code",
   "execution_count": 43,
   "metadata": {},
   "outputs": [],
   "source": [
    "ci_lo = (\n",
    "    _plt_diff.xs(\"ctrl\", level=\"learner\")\n",
    "    .groupby(\"session_include\")\n",
    "    .quantile(0.025)[\"usage_change\"]\n",
    ")\n",
    "ci_hi = (\n",
    "    _plt_diff.xs(\"ctrl\", level=\"learner\")\n",
    "    .groupby(\"session_include\")\n",
    "    .quantile(0.975)[\"usage_change\"]\n",
    ")"
   ]
  },
  {
   "cell_type": "code",
   "execution_count": 44,
   "metadata": {},
   "outputs": [],
   "source": [
    "_plt_diff[\"type\"] = \"post\"\n",
    "_plt_diff.loc[_plt_diff.index.get_level_values(\"time_bin\") < 0, \"type\"] = \"pre\""
   ]
  },
  {
   "cell_type": "code",
   "execution_count": 45,
   "metadata": {},
   "outputs": [
    {
     "name": "stderr",
     "output_type": "stream",
     "text": [
      "/home/markowitzmeister_gmail_com/miniconda3/envs/spont-da/lib/python3.10/site-packages/seaborn/axisgrid.py:118: UserWarning: This figure includes Axes that are not compatible with tight_layout, so results might be incorrect.\n",
      "  self._figure.tight_layout(*args, **kwargs)\n",
      "/home/markowitzmeister_gmail_com/miniconda3/envs/spont-da/lib/python3.10/site-packages/seaborn/axisgrid.py:118: UserWarning: This figure includes Axes that are not compatible with tight_layout, so results might be incorrect.\n",
      "  self._figure.tight_layout(*args, **kwargs)\n"
     ]
    },
    {
     "data": {
      "image/png": "[encoded data removed]",
      "text/plain": [
       "<Figure size 476.125x400 with 4 Axes>"
      ]
     },
     "metadata": {},
     "output_type": "display_data"
    }
   ],
   "source": [
    "row_order = [\n",
    "    \"yes\",\n",
    "    \"ctrl\",\n",
    "]\n",
    "col_order = [\"first\", \"second\"]\n",
    "stim_duration = 0.25\n",
    "g = sns.relplot(\n",
    "    data=_plt_diff.reset_index(),\n",
    "    x=\"time_bin\",\n",
    "    y=\"usage_change\",\n",
    "    ci=95,\n",
    "    kind=\"line\",\n",
    "    row=\"learner\",\n",
    "    row_order=row_order,\n",
    "    col=\"session_include\",\n",
    "    col_order=col_order,\n",
    "    aspect=1,\n",
    "    height=1,\n",
    "    n_boot=25,\n",
    "    hue=\"type\",\n",
    "    # hue_order=row_order,\n",
    "    # hue_order=[\"yes\", \"ctrl\"],\n",
    "    palette=[geno_palette.snc, geno_palette.snc],\n",
    "    err_kws={\"alpha\": 0.75},\n",
    "    facet_kws={\"margin_titles\": True, \"gridspec_kws\": {\"wspace\": 0.15}},\n",
    ")\n",
    "g.set_titles(row_template=\"{row_name}\", col_template=\"{col_name}\")\n",
    "\n",
    "for j, _col in enumerate(col_order):\n",
    "    for i, _row in enumerate(row_order):\n",
    "        g.axes[i][j].fill_between(\n",
    "            g.axes[i][j].get_xlim(),\n",
    "            ci_lo.loc[_col],\n",
    "            ci_hi.loc[_col],\n",
    "            alpha=0.25,\n",
    "            facecolor=plt.rcParams[\"text.color\"],\n",
    "            zorder=-100,\n",
    "        )\n",
    "\n",
    "g.set_axis_labels(\"Time (syllables)\", \"diff(rle count)\")\n",
    "g.fig.axes[0].set_xlim(0, 40)\n",
    "plt.ylim(-5, 40)\n",
    "clean_ticks(g.fig.axes[0], \"y\", dtype=int, precision=0, zero_symmetry=False)\n",
    "# g._legend.remove()\n",
    "plt.xlim(-10, 10)\n",
    "# g.fig.tight_layout(w_pad=1, pad=1)\n",
    "savefig(\n",
    "    g.fig,\n",
    "    os.path.join(figure_cfg[\"store_dir\"], f\"stdp_session_breakout_{stim_duration}\"),\n",
    "    bbox_inches=\"tight\",\n",
    ")"
   ]
  },
  {
   "cell_type": "code",
   "execution_count": 46,
   "metadata": {},
   "outputs": [],
   "source": [
    "from scipy.stats import mannwhitneyu\n",
    "from statsmodels.stats.multitest import multipletests"
   ]
  },
  {
   "cell_type": "code",
   "execution_count": 47,
   "metadata": {},
   "outputs": [],
   "source": [
    "use_test = mannwhitneyu"
   ]
  },
  {
   "cell_type": "code",
   "execution_count": 48,
   "metadata": {},
   "outputs": [],
   "source": [
    "dcts = []\n",
    "for _lag in range(-10, 11):\n",
    "    for _session in [\"first\", \"second\"]:\n",
    "        try:\n",
    "            dat1 = _plt_diff.xs(\n",
    "                (\"yes\", _session, _lag),\n",
    "                level=(\"learner\", \"session_include\", \"time_bin\"),\n",
    "            )[\"usage_change\"]\n",
    "            dat2 = _plt_diff.xs(\n",
    "                (\"ctrl\", _session, _lag),\n",
    "                level=(\"learner\", \"session_include\", \"time_bin\"),\n",
    "            )[\"usage_change\"]\n",
    "        except KeyError:\n",
    "            continue\n",
    "        dct = {}\n",
    "\n",
    "        stat, p = use_test(dat1, dat2)\n",
    "        dct[\"lag\"] = _lag\n",
    "        dct[\"stat\"] = stat\n",
    "        dct[\"p\"] = p\n",
    "        dct[\"n1\"] = len(dat1)\n",
    "        dct[\"n2\"] = len(dat2)\n",
    "        dct[\"session\"] = _session\n",
    "        dct[\"n_definition\"] = \"Per-mouse average\"\n",
    "        dct[\"test\"] = str(use_test.__name__)\n",
    "        dcts.append(dct)"
   ]
  },
  {
   "cell_type": "code",
   "execution_count": 49,
   "metadata": {},
   "outputs": [],
   "source": [
    "pval_df = pd.DataFrame(dcts)"
   ]
  },
  {
   "cell_type": "code",
   "execution_count": 50,
   "metadata": {},
   "outputs": [],
   "source": [
    "pval_df[\"p\"] = multipletests(pval_df[\"p\"], method=\"holm\")[1]"
   ]
  },
  {
   "cell_type": "code",
   "execution_count": 51,
   "metadata": {},
   "outputs": [],
   "source": [
    "import json"
   ]
  },
  {
   "cell_type": "code",
   "execution_count": 52,
   "metadata": {},
   "outputs": [],
   "source": [
    "with open(os.path.join(proc_dirs[\"closed_loop_behavior\"], \"stats_stdp.toml\"), \"w\") as f:\n",
    "    toml.dump(json.loads(pval_df.to_json()), f)"
   ]
  },
  {
   "cell_type": "code",
   "execution_count": null,
   "metadata": {},
   "outputs": [],
   "source": []
  }
 ],
 "metadata": {
  "kernelspec": {
   "display_name": "Python [conda env:spont-da]",
   "language": "python",
   "name": "conda-env-spont-da-py"
  },
  "language_info": {
   "codemirror_mode": {
    "name": "ipython",
    "version": 3
   },
   "file_extension": ".py",
   "mimetype": "text/x-python",
   "name": "python",
   "nbconvert_exporter": "python",
   "pygments_lexer": "ipython3",
   "version": "3.10.8"
  },
  "toc": {
   "base_numbering": 1,
   "nav_menu": {},
   "number_sections": true,
   "sideBar": true,
   "skip_h1_title": false,
   "title_cell": "Table of Contents",
   "title_sidebar": "Contents",
   "toc_cell": false,
   "toc_position": {
    "height": "calc(100% - 180px)",
    "left": "10px",
    "top": "150px",
    "width": "287px"
   },
   "toc_section_display": true,
   "toc_window_display": true
  }
 },
 "nbformat": 4,
 "nbformat_minor": 4
}
