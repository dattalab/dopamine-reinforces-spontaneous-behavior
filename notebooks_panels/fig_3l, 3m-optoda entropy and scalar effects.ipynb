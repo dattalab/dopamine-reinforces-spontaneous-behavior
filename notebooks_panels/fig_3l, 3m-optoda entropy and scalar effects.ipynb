{
 "cells": [
  {
   "cell_type": "code",
   "execution_count": 1,
   "metadata": {},
   "outputs": [],
   "source": [
    "%load_ext autoreload\n",
    "%autoreload 2\n",
    "%matplotlib inline"
   ]
  },
  {
   "cell_type": "code",
   "execution_count": 2,
   "metadata": {},
   "outputs": [],
   "source": [
    "from tqdm.auto import tqdm\n",
    "from rl_analysis.plotting import (\n",
    "    setup_plotting_env,\n",
    "    geno_palette,\n",
    "    syllable_aliases,\n",
    "    savefig,\n",
    "    plot_pval,\n",
    "    clean_ticks\n",
    ")\n",
    "from rl_analysis.batch import apply_parallel_joblib\n",
    "from rl_analysis.behavior.util import get_stim_effects\n",
    "from rl_analysis.info.util import dm_entropy\n",
    "from rl_analysis.io.df import get_closed_loop_parquet_columns\n",
    "from scipy.stats import mannwhitneyu\n",
    "from functools import partial\n",
    "from statsmodels.stats.multitest import multipletests\n",
    "\n",
    "import pandas as pd\n",
    "import matplotlib.pyplot as plt\n",
    "import numpy as np\n",
    "import os\n",
    "import seaborn as sns"
   ]
  },
  {
   "cell_type": "code",
   "execution_count": 3,
   "metadata": {},
   "outputs": [],
   "source": [
    "convs = {\n",
    "    \"timestamp\": \"float32\",\n",
    "    \"snippet\": \"int64\",\n",
    "    \"syllable\": \"category\",\n",
    "    \"next_syllable\": \"uint8\",\n",
    "    \"bin\": \"int32\",\n",
    "    \"time_bin\": \"float32\",\n",
    "    \"dlight_bin\": \"category\",\n",
    "    \"mouse_id\": \"category\",\n",
    "    \"uuid\": \"category\",\n",
    "    \"counts\": \"uint16\",\n",
    "}"
   ]
  },
  {
   "cell_type": "code",
   "execution_count": 4,
   "metadata": {},
   "outputs": [],
   "source": [
    "regress_scalars = [\n",
    "    \"velocity_2d_mm\",\n",
    "    \"velocity_angle\",\n",
    "    \"velocity_height\",\n",
    "    \"acceleration_2d_mm\",\n",
    "]"
   ]
  },
  {
   "cell_type": "markdown",
   "metadata": {
    "tags": []
   },
   "source": [
    "## Load in pre-processed data"
   ]
  },
  {
   "cell_type": "code",
   "execution_count": 5,
   "metadata": {},
   "outputs": [],
   "source": [
    "import toml\n",
    "\n",
    "with open(\"../analysis_configuration.toml\", \"r\") as f:\n",
    "    analysis_config = toml.load(f)"
   ]
  },
  {
   "cell_type": "code",
   "execution_count": 6,
   "metadata": {},
   "outputs": [],
   "source": [
    "raw_dirs = analysis_config[\"raw_data\"]\n",
    "proc_dirs = analysis_config[\"intermediate_results\"]\n",
    "closed_loop_cfg = analysis_config[\"closed_loop_behavior\"]\n",
    "figure_cfg = analysis_config[\"figures\"]"
   ]
  },
  {
   "cell_type": "code",
   "execution_count": 7,
   "metadata": {},
   "outputs": [],
   "source": [
    "force = False"
   ]
  },
  {
   "cell_type": "code",
   "execution_count": 8,
   "metadata": {},
   "outputs": [],
   "source": [
    "results_file = os.path.join(\n",
    "    proc_dirs[\"closed_loop_behavior\"], \"realtime_effects_entropy_and_scalars.parquet\"\n",
    ")\n",
    "results_tm_file = os.path.join(\n",
    "    proc_dirs[\"closed_loop_behavior\"], \"realtime_effects_entropy_and_scalars_tms.npy\"\n",
    ")"
   ]
  },
  {
   "cell_type": "markdown",
   "metadata": {},
   "source": [
    "# Load in raw data if needed"
   ]
  },
  {
   "cell_type": "code",
   "execution_count": 9,
   "metadata": {},
   "outputs": [],
   "source": [
    "fname = os.path.join(raw_dirs[\"closed_loop_behavior\"], \"closed_loop_behavior.parquet\")\n",
    "cols = get_closed_loop_parquet_columns(fname, pcs=False, likes=False) "
   ]
  },
  {
   "cell_type": "code",
   "execution_count": 10,
   "metadata": {},
   "outputs": [],
   "source": [
    "feedback_df = pd.read_parquet(\n",
    "    fname,\n",
    "    filters=[\n",
    "        [(\"experiment_type\", \"=\", \"reinforcement\")],\n",
    "        [(\"experiment_type\", \"=\", \"excitation\")],\n",
    "        [(\"experiment_type\", \"=\", \"excitation_pulsed\")],\n",
    "    ],\n",
    "    columns=cols,\n",
    ").sort_index()\n",
    "\n",
    "feedback_df.rename(\n",
    "    columns={\n",
    "        \"predicted_syllable\": \"syllable\",\n",
    "        \"predicted_syllable_number\": \"syllable_number\",\n",
    "    },\n",
    "    inplace=True,\n",
    ")\n",
    "feedback_df = feedback_df.loc[\n",
    "    (feedback_df[\"area\"].isin([\"ctrl\", \"snc (axon)\"]))\n",
    "    & (feedback_df[\"opsin\"].isin([\"chr2\", \"ctrl\"]))\n",
    "    & (feedback_df[\"session_number\"].isin([1, 2]))\n",
    "].copy()"
   ]
  },
  {
   "cell_type": "code",
   "execution_count": 11,
   "metadata": {},
   "outputs": [],
   "source": [
    "feedback_df.index = range(len(feedback_df))"
   ]
  },
  {
   "cell_type": "code",
   "execution_count": 12,
   "metadata": {},
   "outputs": [],
   "source": [
    "rle_df = feedback_df.drop_duplicates([\"uniq_id\", \"syllable_number\"]).copy()"
   ]
  },
  {
   "cell_type": "code",
   "execution_count": 13,
   "metadata": {},
   "outputs": [],
   "source": [
    "usage = rle_df.groupby(\"uniq_id\")[\"syllable\"].value_counts().groupby(\"syllable\").mean()\n",
    "mapping = dict(list(zip(usage.index, np.arange(len(usage)))))"
   ]
  },
  {
   "cell_type": "code",
   "execution_count": 15,
   "metadata": {},
   "outputs": [],
   "source": [
    "syllable_stats = toml.load(\n",
    "    os.path.join(proc_dirs[\"closed_loop_behavior\"], \"syllable_stats_online.toml\")\n",
    ")"
   ]
  },
  {
   "cell_type": "code",
   "execution_count": 16,
   "metadata": {},
   "outputs": [],
   "source": [
    "rle_df[\"syllable_original_id\"] = rle_df[\"syllable\"]\n",
    "rle_df[\"target_syllable_original_id\"] = rle_df[\"target_syllable\"]\n",
    "rle_df[\"syllable\"] = rle_df[\"syllable\"].map(mapping)\n",
    "rle_df[\"target_syllable\"] = rle_df[\"target_syllable\"].map(mapping)"
   ]
  },
  {
   "cell_type": "code",
   "execution_count": 17,
   "metadata": {},
   "outputs": [],
   "source": [
    "feedback_df[\"is_feedback\"] = feedback_df[\"feedback_status\"] == 1\n",
    "feedback_df[\"is_catch\"] = feedback_df[\"feedback_status\"] == 0\n",
    "\n",
    "fbacks = (\n",
    "    feedback_df.groupby([\"uniq_id\", \"syllable_number\"])[\"is_feedback\"]\n",
    "    .any()\n",
    "    .sort_index()\n",
    ")\n",
    "catches = (\n",
    "    feedback_df.groupby([\"uniq_id\", \"syllable_number\"])[\"is_catch\"].any().sort_index()\n",
    ")"
   ]
  },
  {
   "cell_type": "code",
   "execution_count": 18,
   "metadata": {},
   "outputs": [],
   "source": [
    "# look ahead one/two syllables in case feedback was delayed\n",
    "\n",
    "max_lookahead = 1\n",
    "fbacks_base = fbacks.copy()\n",
    "for i in range(-max_lookahead, max_lookahead + 1):\n",
    "    fbacks_base |= fbacks.groupby(\"uniq_id\").shift(-i)\n",
    "\n",
    "catches_base = catches.copy()\n",
    "for i in range(-max_lookahead, max_lookahead + 1):\n",
    "    catches_base |= catches.groupby(\"uniq_id\").shift(-i)"
   ]
  },
  {
   "cell_type": "code",
   "execution_count": 19,
   "metadata": {},
   "outputs": [],
   "source": [
    "try:\n",
    "    rle_df = rle_df.set_index([\"uniq_id\", \"syllable_number\"]).sort_index()\n",
    "except KeyError:\n",
    "    pass"
   ]
  },
  {
   "cell_type": "code",
   "execution_count": 20,
   "metadata": {},
   "outputs": [],
   "source": [
    "rle_df.drop([\"is_feedback\", \"is_catch\"], axis=1, errors=\"ignore\", inplace=True)"
   ]
  },
  {
   "cell_type": "code",
   "execution_count": 21,
   "metadata": {},
   "outputs": [],
   "source": [
    "rle_df = rle_df.join(fbacks_base).join(catches_base)\n",
    "rle_df.loc[rle_df[\"syllable\"] != rle_df[\"target_syllable\"], \"is_feedback\"] = False\n",
    "rle_df.loc[rle_df[\"syllable\"] != rle_df[\"target_syllable\"], \"is_catch\"] = False"
   ]
  },
  {
   "cell_type": "markdown",
   "metadata": {
    "tags": []
   },
   "source": [
    "# Stage data for downstream computation"
   ]
  },
  {
   "cell_type": "code",
   "execution_count": 24,
   "metadata": {},
   "outputs": [],
   "source": [
    "scalar_df = (\n",
    "    feedback_df.groupby([\"uniq_id\", \"syllable_number\"])[regress_scalars]\n",
    "    .mean()\n",
    "    .sort_index()\n",
    ")\n",
    "rle_df.drop(regress_scalars, axis=1, errors=\"ignore\", inplace=True)\n",
    "\n",
    "rle_df = rle_df.join(scalar_df)\n",
    "rle_df = rle_df.reset_index()\n",
    "\n",
    "rle_df[\"stim_status\"] = \"n/a\"\n",
    "rle_df.loc[rle_df[\"is_feedback\"], \"stim_status\"] = \"stim\"\n",
    "rle_df.loc[rle_df[\"is_catch\"], \"stim_status\"] = \"catch\"\n",
    "rle_df[\"duration\"] = rle_df.groupby(\"uniq_id\")[\"timestamp\"].transform(\n",
    "    lambda x: x.diff().shift(-1)\n",
    ")"
   ]
  },
  {
   "cell_type": "code",
   "execution_count": 25,
   "metadata": {},
   "outputs": [],
   "source": [
    "rle_df = rle_df.loc[rle_df[\"session_number\"].isin([1, 2])].copy()"
   ]
  },
  {
   "cell_type": "code",
   "execution_count": 26,
   "metadata": {},
   "outputs": [],
   "source": [
    "rle_df = rle_df.reset_index()"
   ]
  },
  {
   "cell_type": "code",
   "execution_count": 27,
   "metadata": {},
   "outputs": [],
   "source": [
    "mapping = rle_df.drop_duplicates(\"syllable\").set_index(\"syllable_original_id\")[\n",
    "    \"syllable\"\n",
    "]\n",
    "reverse_mapping = rle_df.drop_duplicates(\"syllable\").set_index(\"syllable\")[\n",
    "    \"syllable_original_id\"\n",
    "]"
   ]
  },
  {
   "cell_type": "code",
   "execution_count": 28,
   "metadata": {},
   "outputs": [],
   "source": [
    "mapping = mapping.to_dict()\n",
    "reverse_mapping = reverse_mapping.to_dict()"
   ]
  },
  {
   "cell_type": "markdown",
   "metadata": {
    "tags": []
   },
   "source": [
    "# Now we compute values triggered on syllable instances, storing features we want to split by downstream (dLight, scalars, etc.)"
   ]
  },
  {
   "cell_type": "code",
   "execution_count": 30,
   "metadata": {},
   "outputs": [],
   "source": [
    "usage_bins = np.concatenate([np.arange(5, 52, 5)])\n",
    "usage_bins = sorted(np.concatenate([-usage_bins, usage_bins]))"
   ]
  },
  {
   "cell_type": "code",
   "execution_count": 31,
   "metadata": {},
   "outputs": [],
   "source": [
    "scalar_keys = rle_df.filter(regex=\".*(2d_mm|angle|height)\").columns.tolist()"
   ]
  },
  {
   "cell_type": "code",
   "execution_count": 32,
   "metadata": {},
   "outputs": [
    {
     "name": "stdout",
     "output_type": "stream",
     "text": [
      "522\n"
     ]
    },
    {
     "name": "stderr",
     "output_type": "stream",
     "text": [
      "[Parallel(n_jobs=-1)]: Using backend LokyBackend with 128 concurrent workers.\n",
      "[Parallel(n_jobs=-1)]: Done   9 tasks      | elapsed:   12.2s\n",
      "[Parallel(n_jobs=-1)]: Done  32 tasks      | elapsed:   12.9s\n",
      "[Parallel(n_jobs=-1)]: Done  57 tasks      | elapsed:   13.9s\n",
      "[Parallel(n_jobs=-1)]: Done  82 tasks      | elapsed:   14.7s\n",
      "[Parallel(n_jobs=-1)]: Done 109 tasks      | elapsed:   16.1s\n",
      "[Parallel(n_jobs=-1)]: Done 136 tasks      | elapsed:   16.9s\n",
      "[Parallel(n_jobs=-1)]: Done 165 tasks      | elapsed:   18.4s\n",
      "[Parallel(n_jobs=-1)]: Done 194 tasks      | elapsed:   19.5s\n",
      "[Parallel(n_jobs=-1)]: Done 225 tasks      | elapsed:   20.9s\n",
      "[Parallel(n_jobs=-1)]: Done 256 tasks      | elapsed:   22.1s\n",
      "[Parallel(n_jobs=-1)]: Done 320 out of 522 | elapsed:   24.8s remaining:   15.6s\n",
      "[Parallel(n_jobs=-1)]: Done 373 out of 522 | elapsed:   26.6s remaining:   10.6s\n",
      "[Parallel(n_jobs=-1)]: Done 426 out of 522 | elapsed:   28.7s remaining:    6.5s\n",
      "[Parallel(n_jobs=-1)]: Done 479 out of 522 | elapsed:   31.0s remaining:    2.8s\n",
      "[Parallel(n_jobs=-1)]: Done 522 out of 522 | elapsed:   37.3s finished\n"
     ]
    },
    {
     "data": {
      "application/vnd.jupyter.widget-view+json": {
       "model_id": "98c9ed3d297949588e2a2e984cf1276f",
       "version_major": 2,
       "version_minor": 0
      },
      "text/plain": [
       "  0%|          | 0/11 [00:00<?, ?it/s]"
      ]
     },
     "metadata": {},
     "output_type": "display_data"
    }
   ],
   "source": [
    "if (not os.path.exists(results_file)) or force:\n",
    "    group_obj = rle_df.loc[(rle_df[\"session_number\"].isin([1, 2]))].groupby(\"uuid\")\n",
    "    targets = [mapping[_] for _ in syllable_aliases.keys()]\n",
    "\n",
    "    func = partial(\n",
    "        get_stim_effects,\n",
    "        chk_syllables=targets,\n",
    "        truncate=syllable_stats[\"truncate\"],\n",
    "        additional_scalar_keys=regress_scalars + [\"duration\"],\n",
    "        additional_syllable_keys=[\"duration\"],\n",
    "        usage_bins=usage_bins,\n",
    "        K=int(rle_df[\"syllable\"].max() + 1),\n",
    "    )\n",
    "\n",
    "    print(group_obj.ngroups)\n",
    "    syllable_rates = apply_parallel_joblib(group_obj, func, n_jobs=-1, backend=\"loky\")\n",
    "    syllable_rates = syllable_rates.reset_index()\n",
    "\n",
    "    for k, v in tqdm(convs.items()):\n",
    "        try:\n",
    "            syllable_rates[k] = syllable_rates[k].astype(v)\n",
    "        except KeyError:\n",
    "            pass\n",
    "\n",
    "    save_rates = syllable_rates[syllable_rates.columns.difference([\"tm\"])]\n",
    "    tm_list = syllable_rates[\"tm\"].to_list()\n",
    "    meta_df = rle_df.drop_duplicates(\"mouse_id\").set_index(\"mouse_id\")[\"area\"]\n",
    "    save_rates.to_parquet(results_file)\n",
    "    np.save(results_tm_file, tm_list)\n",
    "else:\n",
    "    save_rates = pd.read_parquet(results_file)\n",
    "    tm_mat = np.load(results_tm_file)\n",
    "    tm_list = list(tm_mat)\n",
    "save_rates[\"tm\"] = tm_list"
   ]
  },
  {
   "cell_type": "markdown",
   "metadata": {
    "tags": []
   },
   "source": [
    "# Compute correlations"
   ]
  },
  {
   "cell_type": "code",
   "execution_count": 33,
   "metadata": {},
   "outputs": [],
   "source": [
    "learner_dct = toml.load(\n",
    "    os.path.join(proc_dirs[\"closed_loop_behavior\"], \"closed_loop_learners.toml\")\n",
    ")\n",
    "learners = []\n",
    "for k, v in learner_dct.items():\n",
    "    learners += v[\"learners\"]"
   ]
  },
  {
   "cell_type": "code",
   "execution_count": 34,
   "metadata": {},
   "outputs": [],
   "source": [
    "use_syllable_rates = save_rates.copy()\n",
    "\n",
    "use_syllable_rates = use_syllable_rates.loc[\n",
    "    (\n",
    "        use_syllable_rates[\"experiment_type\"].isin(\n",
    "            [\"reinforcement\", \"excitation\", \"excitation_pulsed\"]\n",
    "        )\n",
    "    )\n",
    "].copy()\n",
    "\n",
    "idx = pd.IndexSlice\n",
    "\n",
    "use_syllable_rates[\"uuid\"] = use_syllable_rates[\"uuid\"].astype(\"str\")"
   ]
  },
  {
   "cell_type": "code",
   "execution_count": 35,
   "metadata": {},
   "outputs": [],
   "source": [
    "# number of quantile bins for dlight data\n",
    "\n",
    "# first aggregation to reduce data size\n",
    "pre_agg_keys = [\n",
    "    \"uuid\",\n",
    "    \"target_syllable_original_id\",\n",
    "    \"area\",\n",
    "    \"bin\",\n",
    "    \"stim_status\",\n",
    "    \"stim_duration\",\n",
    "    \"mouse_id\",\n",
    "]\n",
    "agg_keys = [\n",
    "    \"stim_status\",\n",
    "    \"target_syllable_original_id\",\n",
    "    \"stim_duration\",\n",
    "    \"area\",\n",
    "    \"bin\",\n",
    "    \"uuid\",\n",
    "    \"mouse_id\",\n",
    "]"
   ]
  },
  {
   "cell_type": "code",
   "execution_count": 36,
   "metadata": {},
   "outputs": [],
   "source": [
    "# aggregation one\n",
    "agg_rates = (\n",
    "    use_syllable_rates.groupby(pre_agg_keys, observed=True)[\"tm\"].sum().sort_index()\n",
    ")\n",
    "agg_rates_sz = (\n",
    "    use_syllable_rates.groupby(pre_agg_keys, observed=True).size().sort_index()\n",
    ")"
   ]
  },
  {
   "cell_type": "code",
   "execution_count": 37,
   "metadata": {},
   "outputs": [
    {
     "data": {
      "application/vnd.jupyter.widget-view+json": {
       "model_id": "7918a13e804442748c4a16905fb1de22",
       "version_major": 2,
       "version_minor": 0
      },
      "text/plain": [
       "  0%|          | 0/11 [00:00<?, ?it/s]"
      ]
     },
     "metadata": {},
     "output_type": "display_data"
    }
   ],
   "source": [
    "# need to reconvert data types to conserve memory\n",
    "for k, v in tqdm(convs.items()):\n",
    "    try:\n",
    "        agg_rates[k] = agg_rates[k].astype(v)\n",
    "    except KeyError:\n",
    "        pass"
   ]
  },
  {
   "cell_type": "code",
   "execution_count": 38,
   "metadata": {},
   "outputs": [],
   "source": [
    "truncate = syllable_stats[\"truncate\"]"
   ]
  },
  {
   "cell_type": "code",
   "execution_count": 39,
   "metadata": {},
   "outputs": [],
   "source": [
    "totals_trim = agg_rates.apply(lambda x: x[:truncate, :truncate].sum())\n",
    "use_syllables = totals_trim[totals_trim > 100].index  "
   ]
  },
  {
   "cell_type": "code",
   "execution_count": 40,
   "metadata": {},
   "outputs": [],
   "source": [
    "# ensure we have all bins\n",
    "use_rates = agg_rates.loc[use_syllables]\n",
    "chk_keys = list(set(pre_agg_keys[:-1]) - set([\"dlight_bin\"]))"
   ]
  },
  {
   "cell_type": "code",
   "execution_count": 41,
   "metadata": {},
   "outputs": [],
   "source": [
    "ents = use_rates.apply(\n",
    "    lambda x: dm_entropy(\n",
    "        x[:truncate, :truncate], alpha=\"perks\", marginalize=False, axis=1\n",
    "    )\n",
    ").rename(\"entropy\")"
   ]
  },
  {
   "cell_type": "code",
   "execution_count": 42,
   "metadata": {},
   "outputs": [],
   "source": [
    "use_rates = pd.concat((use_rates, ents), axis=1)\n",
    "use_rates = use_rates.reset_index()"
   ]
  },
  {
   "cell_type": "code",
   "execution_count": 43,
   "metadata": {},
   "outputs": [],
   "source": [
    "idx = pd.IndexSlice"
   ]
  },
  {
   "cell_type": "code",
   "execution_count": 44,
   "metadata": {},
   "outputs": [],
   "source": [
    "pre_rates = use_rates[use_rates[\"bin\"] < 0].copy()\n",
    "pre_rates[\"bin\"] *= -1"
   ]
  },
  {
   "cell_type": "code",
   "execution_count": 45,
   "metadata": {},
   "outputs": [],
   "source": [
    "pre_stim_mu = pre_rates.groupby(agg_keys).mean(numeric_only=True)\n",
    "pre_stim_sig = pre_rates.groupby(agg_keys).std(numeric_only=True)\n",
    "post_stim_mu = use_rates.groupby(agg_keys).mean(numeric_only=True)\n",
    "stim_sz = agg_rates_sz.groupby(agg_keys).sum(numeric_only=True)"
   ]
  },
  {
   "cell_type": "code",
   "execution_count": 46,
   "metadata": {},
   "outputs": [],
   "source": [
    "from sklearn.utils import resample"
   ]
  },
  {
   "cell_type": "code",
   "execution_count": 47,
   "metadata": {},
   "outputs": [],
   "source": [
    "zstim_mu = (post_stim_mu - pre_stim_mu).dropna()\n",
    "zstim_mu[\"sz\"] = stim_sz\n",
    "bins = sorted(zstim_mu.index.get_level_values(\"bin\").unique())"
   ]
  },
  {
   "cell_type": "code",
   "execution_count": 48,
   "metadata": {},
   "outputs": [],
   "source": [
    "check_durations = [0.25, 2, 3]\n",
    "check_areas = [\"snc (axon)\", \"snc (axon, dms)\", \"ctrl\"]\n",
    "dcts = []\n",
    "use_test = mannwhitneyu\n",
    "for _duration in check_durations:\n",
    "    for _bin in bins:\n",
    "        for _area in check_areas:\n",
    "            try:\n",
    "                dat1 = zstim_mu.xs(\n",
    "                    (\"catch\", _bin, _area, _duration),\n",
    "                    level=(\"stim_status\", \"bin\", \"area\", \"stim_duration\"),\n",
    "                )[\"entropy\"]\n",
    "                dat2 = zstim_mu.xs(\n",
    "                    (\"stim\", _bin, _area, _duration),\n",
    "                    level=(\"stim_status\", \"bin\", \"area\", \"stim_duration\"),\n",
    "                )[\"entropy\"]\n",
    "            except KeyError:\n",
    "                continue\n",
    "            try:\n",
    "                stat, pval = use_test(\n",
    "                    dat1,\n",
    "                    dat2,\n",
    "                )\n",
    "            except ValueError:\n",
    "                pass\n",
    "            _dct = {\n",
    "                \"duration\": _duration,\n",
    "                \"bin\": _bin,\n",
    "                \"pval\": pval,\n",
    "                \"stat\": stat,\n",
    "                \"area\": _area,\n",
    "                \"n1\": len(dat1),\n",
    "                \"n2\": len(dat2),\n",
    "                \"test\": str(use_test.__name__),\n",
    "            }\n",
    "            dcts.append(_dct)\n",
    "pval_df = pd.DataFrame(dcts)"
   ]
  },
  {
   "cell_type": "code",
   "execution_count": 49,
   "metadata": {},
   "outputs": [],
   "source": [
    "pval_df[\"pval\"] = pval_df.groupby([\"duration\", \"area\"])[\"pval\"].transform(\n",
    "    lambda x: multipletests(x, method=\"holm\")[1]\n",
    ")"
   ]
  },
  {
   "cell_type": "markdown",
   "metadata": {},
   "source": [
    "### Compute change in transition entropy"
   ]
  },
  {
   "cell_type": "code",
   "execution_count": 50,
   "metadata": {},
   "outputs": [],
   "source": [
    "nshuffles = 1000\n",
    "alpha = 0.68\n",
    "use_func = \"mean\""
   ]
  },
  {
   "cell_type": "code",
   "execution_count": 51,
   "metadata": {},
   "outputs": [],
   "source": [
    "group_keys = [\n",
    "    \"stim_status\",\n",
    "    \"stim_duration\",\n",
    "    \"area\",\n",
    "    \"bin\",\n",
    "]"
   ]
  },
  {
   "cell_type": "code",
   "execution_count": 52,
   "metadata": {},
   "outputs": [
    {
     "data": {
      "application/vnd.jupyter.widget-view+json": {
       "model_id": "88fe0ad53b95461c92dae9e783b506b8",
       "version_major": 2,
       "version_minor": 0
      },
      "text/plain": [
       "  0%|          | 0/1000 [00:00<?, ?it/s]"
      ]
     },
     "metadata": {},
     "output_type": "display_data"
    }
   ],
   "source": [
    "if isinstance(use_func, str):\n",
    "    catch_shuffles = pd.concat(\n",
    "        [\n",
    "            resample(zstim_mu)\n",
    "            .groupby(group_keys)[\"entropy\"]\n",
    "            .apply(use_func)\n",
    "            .loc[\"catch\"]\n",
    "            for _ in tqdm(range(nshuffles))\n",
    "        ],\n",
    "        axis=1,\n",
    "    )\n",
    "else:\n",
    "    catch_shuffles = pd.concat(\n",
    "        [\n",
    "            resample(zstim_mu).groupby(group_keys).apply(use_func).loc[\"catch\"]\n",
    "            for _ in tqdm(range(nshuffles))\n",
    "        ],\n",
    "        axis=1,\n",
    "    )\n",
    "catch_mu = catch_shuffles.mean(axis=1)\n",
    "catch_sig = catch_shuffles.std(axis=1)"
   ]
  },
  {
   "cell_type": "code",
   "execution_count": 53,
   "metadata": {},
   "outputs": [
    {
     "data": {
      "application/vnd.jupyter.widget-view+json": {
       "model_id": "9f5223a5459b48bf93509b6823013bde",
       "version_major": 2,
       "version_minor": 0
      },
      "text/plain": [
       "  0%|          | 0/1000 [00:00<?, ?it/s]"
      ]
     },
     "metadata": {},
     "output_type": "display_data"
    }
   ],
   "source": [
    "if isinstance(use_func, str):\n",
    "    zshuffle_mus = [\n",
    "        (\n",
    "            resample(zstim_mu)\n",
    "            .groupby(group_keys)[\"entropy\"]\n",
    "            .apply(use_func)\n",
    "            .loc[\"stim\"]\n",
    "            - catch_mu\n",
    "        )\n",
    "        / catch_sig\n",
    "        for _ in tqdm(range(nshuffles))\n",
    "    ]\n",
    "else:\n",
    "    zshuffle_mus = [\n",
    "        (resample(zstim_mu).groupby(group_keys).apply(use_func).loc[\"stim\"] - catch_mu)\n",
    "        / catch_sig\n",
    "        for _ in tqdm(range(nshuffles))\n",
    "    ]"
   ]
  },
  {
   "cell_type": "code",
   "execution_count": 54,
   "metadata": {},
   "outputs": [],
   "source": [
    "zcatch_shuffle_df = catch_shuffles.apply(lambda x: (x - catch_mu) / catch_sig)\n",
    "chance = zcatch_shuffle_df.abs().quantile(0.95, axis=1)\n",
    "chance = chance.max()"
   ]
  },
  {
   "cell_type": "code",
   "execution_count": 55,
   "metadata": {},
   "outputs": [
    {
     "name": "stderr",
     "output_type": "stream",
     "text": [
      "/tmp/ipykernel_1381995/3673737663.py:1: FutureWarning: In a future version of pandas all arguments of concat except for the argument 'objs' will be keyword-only.\n",
      "  zshuffle_df = pd.concat(zshuffle_mus, 1)\n",
      "/tmp/ipykernel_1381995/3673737663.py:3: FutureWarning: This dataframe has a column name that matches the 'value_name' column name of the resulting Dataframe. In the future this will raise an error, please set the 'value_name' parameter of DataFrame.melt to a unique name.\n",
      "  catch_compare = catch_shuffles.melt(ignore_index=False, value_name=\"entropy\").drop(\n"
     ]
    }
   ],
   "source": [
    "zshuffle_df = pd.concat(zshuffle_mus, 1)\n",
    "stim_compare = zstim_mu.groupby(group_keys).mean()[\"entropy\"].loc[\"stim\"]\n",
    "catch_compare = catch_shuffles.melt(ignore_index=False, value_name=\"entropy\").drop(\n",
    "    \"variable\", axis=1\n",
    ")"
   ]
  },
  {
   "cell_type": "code",
   "execution_count": 56,
   "metadata": {},
   "outputs": [],
   "source": [
    "catch_compare = catch_compare.loc[catch_compare.index.intersection(stim_compare.index)]\n",
    "stim_compare = stim_compare.loc[catch_compare.index]"
   ]
  },
  {
   "cell_type": "code",
   "execution_count": 58,
   "metadata": {},
   "outputs": [],
   "source": [
    "setup_plotting_env()\n",
    "sns.set_context(\"paper\")"
   ]
  },
  {
   "cell_type": "code",
   "execution_count": 59,
   "metadata": {},
   "outputs": [],
   "source": [
    "plt_duration = 0.25\n",
    "plt_areas = [\"snc (axon)\", \"snc (axon, dms)\", \"ctrl\"]\n",
    "palette = [geno_palette.snc, geno_palette.vta, geno_palette.ctrl]"
   ]
  },
  {
   "cell_type": "code",
   "execution_count": 60,
   "metadata": {},
   "outputs": [],
   "source": [
    "ci_df = zshuffle_df.quantile([0.5 + alpha / 2, 0.5 - alpha / 2], axis=1)\n",
    "ave_df = zstim_mu.groupby(group_keys).mean()[\"entropy\"].loc[\"stim\"]\n",
    "zave_df = (ave_df - catch_mu) / catch_sig"
   ]
  },
  {
   "cell_type": "code",
   "execution_count": 61,
   "metadata": {},
   "outputs": [],
   "source": [
    "alpha_thresh = 0.05\n",
    "continuity_thresh = 0"
   ]
  },
  {
   "cell_type": "code",
   "execution_count": 62,
   "metadata": {},
   "outputs": [],
   "source": [
    "setup_plotting_env()"
   ]
  },
  {
   "cell_type": "code",
   "execution_count": 63,
   "metadata": {},
   "outputs": [],
   "source": [
    "duration = np.around(float(syllable_stats[\"duration\"][\"median\"]), 1)"
   ]
  },
  {
   "cell_type": "code",
   "execution_count": 64,
   "metadata": {},
   "outputs": [],
   "source": [
    "plt_pval_df = pval_df.set_index([\"bin\", \"duration\", \"area\"])[\"pval\"].sort_index()"
   ]
  },
  {
   "cell_type": "code",
   "execution_count": 65,
   "metadata": {},
   "outputs": [
    {
     "data": {
      "image/png": "[encoded data removed]",
      "text/plain": [
       "<Figure size 250x250 with 1 Axes>"
      ]
     },
     "metadata": {},
     "output_type": "display_data"
    }
   ],
   "source": [
    "fig, ax = plt.subplots(1, figsize=(1.25, 1.25))\n",
    "for _area, _color in zip(plt_areas, palette):\n",
    "    try:\n",
    "        lo = ci_df[(plt_duration, _area)].iloc[0]\n",
    "        hi = ci_df[(plt_duration, _area)].iloc[1]\n",
    "    except KeyError:\n",
    "        continue\n",
    "    idx = lo.index\n",
    "    ax.fill_between(idx, lo, hi, fc=_color, alpha=0.75, ec=None, lw=0, label=_area)\n",
    "    ax.plot(\n",
    "        zave_df.xs((plt_duration, _area), level=(\"stim_duration\", \"area\")), color=_color\n",
    "    )\n",
    "    ax.fill_between(\n",
    "        ax.get_xlim(),\n",
    "        -chance,\n",
    "        +chance,\n",
    "        facecolor=[0.5] * 3,\n",
    "        edgecolor=None,\n",
    "        lw=0,\n",
    "        alpha=0.25,\n",
    "        zorder=-600,\n",
    "    )\n",
    "\n",
    "ax.set_xlim(5, 50)\n",
    "ax.set_ylim(-4, 6)\n",
    "sns.despine()\n",
    "clean_ticks(ax, \"y\", precision=0, dtype=int, zero_symmetry=False)\n",
    "clean_ticks(ax, \"x\", precision=0, dtype=int, zero_symmetry=False)\n",
    "\n",
    "keys = plt_areas\n",
    "key_level = \"area\"\n",
    "use_colors = palette\n",
    "\n",
    "try:\n",
    "    plot_pval(\n",
    "        plt_pval_df.xs(plt_duration, level=\"duration\"),\n",
    "        keys,\n",
    "        key_level,\n",
    "        ax=ax,\n",
    "        colors=use_colors,\n",
    "        offset=1.0,\n",
    "        height=0.05,\n",
    "        spacing=1.3,\n",
    "        min_width=3,\n",
    "        alpha_threshold=alpha_thresh,\n",
    "        continuity_threshold=continuity_thresh,\n",
    "    )\n",
    "except (KeyError, NameError):\n",
    "    pass\n",
    "\n",
    "syllables_to_time = lambda x: x * duration\n",
    "time_to_syllables = lambda x: x / duration\n",
    "\n",
    "secax_x = ax.secondary_xaxis(-0.3, functions=(syllables_to_time, time_to_syllables))\n",
    "secax_x.set_ticks([syllables_to_time(5), syllables_to_time(50)])\n",
    "\n",
    "sns.despine(offset=5)\n",
    "plt.legend(bbox_to_anchor=(1.6, 1.05))\n",
    "plt.ylabel(\"Entropy (z)\")\n",
    "savefig(\n",
    "    fig,\n",
    "    os.path.join(figure_cfg[\"store_dir\"], f\"post_stim_entropy_{plt_areas}\"),\n",
    "    bbox_inches=\"tight\",\n",
    ")"
   ]
  },
  {
   "cell_type": "markdown",
   "metadata": {},
   "source": [
    "## Scalars"
   ]
  },
  {
   "cell_type": "code",
   "execution_count": 67,
   "metadata": {},
   "outputs": [],
   "source": [
    "scalar_keys = [\n",
    "    \"velocity_2d_mm_bin\",\n",
    "    \"acceleration_2d_mm_bin\",\n",
    "    \"velocity_angle_bin\",\n",
    "    \"velocity_height_bin\",\n",
    "]"
   ]
  },
  {
   "cell_type": "code",
   "execution_count": 68,
   "metadata": {},
   "outputs": [],
   "source": [
    "from numba import jit\n",
    "\n",
    "cache = False\n",
    "\n",
    "\n",
    "@jit(nopython=True, cache=cache)\n",
    "def zscore_nb(values, index):\n",
    "    return (values - np.nanmean(values)) / np.nanstd(values)"
   ]
  },
  {
   "cell_type": "code",
   "execution_count": 69,
   "metadata": {},
   "outputs": [],
   "source": [
    "# between syllables\n",
    "\n",
    "z_features = scalar_keys\n",
    "regress_df = use_syllable_rates.copy()\n",
    "z_keys_between = [\"uuid\"]\n",
    "zscore_data = True\n",
    "if zscore_data:\n",
    "    regress_df[z_features] = regress_df.groupby(z_keys_between)[z_features].transform(\n",
    "        zscore_nb, engine=\"numba\"\n",
    "    )"
   ]
  },
  {
   "cell_type": "code",
   "execution_count": 70,
   "metadata": {},
   "outputs": [],
   "source": [
    "pre_agg_keys = [\n",
    "    \"uuid\",\n",
    "    \"mouse_id\",\n",
    "    \"target_syllable\",\n",
    "    \"area\",\n",
    "    \"bin\",\n",
    "    \"stim_status\",\n",
    "    \"stim_duration\",\n",
    "]\n",
    "regress_df = regress_df.groupby(pre_agg_keys, observed=True)[scalar_keys].mean()"
   ]
  },
  {
   "cell_type": "code",
   "execution_count": 71,
   "metadata": {},
   "outputs": [],
   "source": [
    "scalar_cols = regress_df.filter(regex=\"bin$\").columns"
   ]
  },
  {
   "cell_type": "code",
   "execution_count": 72,
   "metadata": {},
   "outputs": [],
   "source": [
    "use_df = regress_df.reset_index()\n",
    "use_df = use_df.loc[~use_df[\"mouse_id\"].str.contains(\"chrimson\")]"
   ]
  },
  {
   "cell_type": "code",
   "execution_count": 73,
   "metadata": {},
   "outputs": [],
   "source": [
    "zstim_mu_scalars = (\n",
    "    use_df.reset_index()\n",
    "    .groupby([\"stim_status\", \"area\", \"stim_duration\", \"uuid\", \"bin\"], observed=True)[\n",
    "        scalar_cols\n",
    "    ]\n",
    "    .mean()\n",
    ")"
   ]
  },
  {
   "cell_type": "code",
   "execution_count": 74,
   "metadata": {},
   "outputs": [],
   "source": [
    "nshuffles = 1000"
   ]
  },
  {
   "cell_type": "code",
   "execution_count": 75,
   "metadata": {},
   "outputs": [
    {
     "data": {
      "application/vnd.jupyter.widget-view+json": {
       "model_id": "b056e54ffcc74bf5ad46f2c8f29d67a1",
       "version_major": 2,
       "version_minor": 0
      },
      "text/plain": [
       "  0%|          | 0/1000 [00:00<?, ?it/s]"
      ]
     },
     "metadata": {},
     "output_type": "display_data"
    }
   ],
   "source": [
    "shuffles = []\n",
    "for i in tqdm(range(nshuffles)):\n",
    "    ave = (\n",
    "        resample(use_df)\n",
    "        .groupby([\"stim_status\", \"area\", \"stim_duration\", \"bin\"], observed=True)\n",
    "        .mean(numeric_only=True)\n",
    "        .reset_index()\n",
    "    )\n",
    "    shuffles.append(ave)"
   ]
  },
  {
   "cell_type": "code",
   "execution_count": 76,
   "metadata": {},
   "outputs": [],
   "source": [
    "shuffle_df = pd.concat(shuffles)"
   ]
  },
  {
   "cell_type": "code",
   "execution_count": 77,
   "metadata": {},
   "outputs": [
    {
     "name": "stderr",
     "output_type": "stream",
     "text": [
      "/tmp/ipykernel_1381995/2310048742.py:5: FutureWarning: The default value of numeric_only in DataFrameGroupBy.mean is deprecated. In a future version, numeric_only will default to False. Either specify numeric_only or select only columns which should be valid for the function.\n",
      "  .mean()\n",
      "/tmp/ipykernel_1381995/2310048742.py:11: FutureWarning: The default value of numeric_only in DataFrameGroupBy.std is deprecated. In a future version, numeric_only will default to False. Either specify numeric_only or select only columns which should be valid for the function.\n",
      "  .std()\n"
     ]
    }
   ],
   "source": [
    "shuffle_mus = (\n",
    "    shuffle_df.loc[shuffle_df[\"stim_status\"].isin([\"catch\"])]\n",
    "    .reset_index()\n",
    "    .groupby([\"area\", \"stim_duration\", \"bin\"], observed=True)\n",
    "    .mean()\n",
    ")\n",
    "shuffle_sigs = (\n",
    "    shuffle_df.loc[shuffle_df[\"stim_status\"].isin([\"catch\"])]\n",
    "    .reset_index()\n",
    "    .groupby([\"area\", \"stim_duration\", \"bin\"], observed=True)\n",
    "    .std()\n",
    ")"
   ]
  },
  {
   "cell_type": "code",
   "execution_count": 78,
   "metadata": {},
   "outputs": [
    {
     "data": {
      "application/vnd.jupyter.widget-view+json": {
       "model_id": "5e74b1e3507544e1ae477dff55ed1c9c",
       "version_major": 2,
       "version_minor": 0
      },
      "text/plain": [
       "  0%|          | 0/1000 [00:00<?, ?it/s]"
      ]
     },
     "metadata": {},
     "output_type": "display_data"
    }
   ],
   "source": [
    "shuffles = []\n",
    "for i in tqdm(range(nshuffles)):\n",
    "    ave = (\n",
    "        resample(zstim_mu_scalars.loc[\"stim\"])\n",
    "        .groupby([\"area\", \"stim_duration\", \"bin\"])\n",
    "        .mean()\n",
    "        - shuffle_mus\n",
    "    ) / shuffle_sigs\n",
    "    shuffles.append(ave)"
   ]
  },
  {
   "cell_type": "code",
   "execution_count": 79,
   "metadata": {},
   "outputs": [],
   "source": [
    "chance = (\n",
    "    shuffle_df.loc[shuffle_df[\"stim_status\"] == \"catch\"]\n",
    "    .set_index(shuffle_mus.index.names)[\n",
    "        shuffle_df.columns.intersection(shuffle_mus.columns).tolist()\n",
    "    ]\n",
    "    .apply(lambda x: (x - shuffle_mus[x.name]) / shuffle_sigs[x.name])\n",
    "    .abs()\n",
    "    .quantile(0.95)\n",
    "    .max()\n",
    ")"
   ]
  },
  {
   "cell_type": "code",
   "execution_count": 80,
   "metadata": {},
   "outputs": [],
   "source": [
    "zshuffle_df = pd.concat(shuffles)"
   ]
  },
  {
   "cell_type": "code",
   "execution_count": 81,
   "metadata": {},
   "outputs": [],
   "source": [
    "dur_order = [0.25, 2, 3]"
   ]
  },
  {
   "cell_type": "code",
   "execution_count": 82,
   "metadata": {},
   "outputs": [],
   "source": [
    "durs = [0.25, 2, 3]\n",
    "areas = [\"snc (axon)\", \"snc (axon, dms)\", \"ctrl\"]\n",
    "plt_colors = [geno_palette.snc, geno_palette.vta, geno_palette.ctrl]\n",
    "alpha = 0.68"
   ]
  },
  {
   "cell_type": "code",
   "execution_count": 83,
   "metadata": {},
   "outputs": [],
   "source": [
    "ci_lo = np.around(0.5 - alpha / 2, 3)\n",
    "ci_mid = np.around(0.5, 3)\n",
    "ci_hi = np.around(0.5 + alpha / 2, 3)"
   ]
  },
  {
   "cell_type": "code",
   "execution_count": 84,
   "metadata": {},
   "outputs": [],
   "source": [
    "cis = zshuffle_df.groupby([\"stim_duration\", \"area\", \"bin\"]).quantile(\n",
    "    [ci_lo, ci_mid, ci_hi]\n",
    ")[scalar_cols]\n",
    "cis.index = cis.index.set_names(\"ci\", level=-1)"
   ]
  },
  {
   "cell_type": "code",
   "execution_count": 85,
   "metadata": {},
   "outputs": [],
   "source": [
    "label_mapping = {\n",
    "    \"velocity_2d_mm_bin\": \"Vel.\",\n",
    "    \"velocity_angle_bin\": \"Vel. ang.\",\n",
    "    \"velocity_height_bin\": \"Z Vel.\",\n",
    "    \"acceleration_2d_mm_bin\": \"Acc.\",\n",
    "}"
   ]
  },
  {
   "cell_type": "code",
   "execution_count": 86,
   "metadata": {},
   "outputs": [],
   "source": [
    "indicate_stim_time = True"
   ]
  },
  {
   "cell_type": "code",
   "execution_count": 87,
   "metadata": {},
   "outputs": [],
   "source": [
    "setup_plotting_env()"
   ]
  },
  {
   "cell_type": "code",
   "execution_count": 88,
   "metadata": {},
   "outputs": [],
   "source": [
    "check_durations = [0.25, 2, 3]\n",
    "check_areas = [\"snc (axon)\", \"ctrl\"]\n",
    "dcts = []\n",
    "for _duration in check_durations:\n",
    "    for _key in scalar_keys:\n",
    "        for _bin in bins:\n",
    "            for _area in check_areas:\n",
    "                try:\n",
    "                    dat1 = zstim_mu_scalars.xs(\n",
    "                        (\"catch\", _bin, _area, _duration),\n",
    "                        level=(\"stim_status\", \"bin\", \"area\", \"stim_duration\"),\n",
    "                    )[_key]\n",
    "                    dat2 = zstim_mu_scalars.xs(\n",
    "                        (\"stim\", _bin, _area, _duration),\n",
    "                        level=(\"stim_status\", \"bin\", \"area\", \"stim_duration\"),\n",
    "                    )[_key]\n",
    "                except KeyError:\n",
    "                    continue\n",
    "                try:\n",
    "                    stat, pval = use_test(\n",
    "                        dat1,\n",
    "                        dat2,\n",
    "                        alternative=\"less\",\n",
    "                    )\n",
    "                except ValueError:\n",
    "                    continue\n",
    "                _dct = {\n",
    "                    \"duration\": _duration,\n",
    "                    \"scalar\": _key,\n",
    "                    \"bin\": _bin,\n",
    "                    \"pval\": pval,\n",
    "                    \"stat\": stat,\n",
    "                    \"area\": _area,\n",
    "                    \"test\": str(use_test.__name__),\n",
    "                    \"n1\": len(dat1),\n",
    "                    \"n2\": len(dat2),\n",
    "                }\n",
    "                dcts.append(_dct)\n",
    "pval_df_scalars = pd.DataFrame(dcts)"
   ]
  },
  {
   "cell_type": "code",
   "execution_count": 89,
   "metadata": {},
   "outputs": [],
   "source": [
    "pval_df_scalars[\"pval\"] = pval_df_scalars.groupby([\"duration\", \"scalar\", \"area\"])[\n",
    "    \"pval\"\n",
    "].transform(lambda x: multipletests(x, method=\"holm\")[1])\n",
    "pval_df_scalars = pval_df_scalars.set_index([\"area\", \"duration\", \"scalar\", \"bin\"])"
   ]
  },
  {
   "cell_type": "code",
   "execution_count": 90,
   "metadata": {},
   "outputs": [],
   "source": [
    "setup_plotting_env()"
   ]
  },
  {
   "cell_type": "code",
   "execution_count": 91,
   "metadata": {},
   "outputs": [],
   "source": [
    "duration = np.around(float(syllable_stats[\"duration\"][\"median\"]), 1)"
   ]
  },
  {
   "cell_type": "code",
   "execution_count": 95,
   "metadata": {},
   "outputs": [
    {
     "data": {
      "image/png": "[encoded data removed]",
      "text/plain": [
       "<Figure size 510x500 with 4 Axes>"
      ]
     },
     "metadata": {},
     "output_type": "display_data"
    }
   ],
   "source": [
    "fig, ax = plt.subplots(\n",
    "    len(scalar_cols) // 2,\n",
    "    2,\n",
    "    figsize=(0.85 * len(durs), 1.25 * float(len(scalar_cols) // 2)),\n",
    "    sharex=True,\n",
    "    sharey=True,\n",
    ")\n",
    "ax = ax.ravel()\n",
    "use_dur = .25  # .25 and 3 are shown in Figure 3\n",
    "for _ax, var in zip(ax, scalar_keys):\n",
    "    use_ci = cis.xs(use_dur, level=\"stim_duration\")[var]\n",
    "    for _area, _color in zip(areas, plt_colors):\n",
    "        try:\n",
    "            plt_ci = use_ci.xs(_area, level=\"area\").loc[-5:100]\n",
    "        except KeyError:\n",
    "            continue\n",
    "        plt_ci_lo = plt_ci.xs(ci_lo, level=\"ci\").rolling(1, 1, True).mean()\n",
    "        plt_ci_hi = plt_ci.xs(ci_hi, level=\"ci\").rolling(1, 1, True).mean()\n",
    "        plt_ci_mid = plt_ci.xs(ci_mid, level=\"ci\").rolling(1, 1, True).mean()\n",
    "        _ax.fill_between(\n",
    "            plt_ci_lo.index,\n",
    "            plt_ci_lo.values.ravel(),\n",
    "            plt_ci_hi.values.ravel(),\n",
    "            alpha=0.65,\n",
    "            facecolor=_color,\n",
    "            edgecolor=None,\n",
    "            lw=0,\n",
    "            label=_area,\n",
    "        )\n",
    "        _ax.plot(plt_ci_lo.index, plt_ci_mid.values.ravel(), color=_color)\n",
    "\n",
    "    _ax.text(0.05, 0.9, label_mapping[var], transform=_ax.transAxes)\n",
    "\n",
    "    keys = areas\n",
    "    key_level = \"area\"\n",
    "    use_colors = plt_colors\n",
    "    try:\n",
    "        plot_pval(\n",
    "            pval_df_scalars.xs((use_dur, var), level=(\"duration\", \"scalar\"))[\"pval\"],\n",
    "            keys,\n",
    "            key_level,\n",
    "            ax=_ax,\n",
    "            colors=use_colors,\n",
    "            offset=1.0,\n",
    "            height=0.1,\n",
    "            spacing=1.3,\n",
    "            min_width=3,\n",
    "            alpha_threshold=alpha_thresh,\n",
    "            continuity_threshold=continuity_thresh,\n",
    "        )\n",
    "    except (KeyError, NameError):\n",
    "        continue\n",
    "\n",
    "plt.ylim(-7, 7)\n",
    "plt.xlim(0, 50)\n",
    "plt.legend(bbox_to_anchor=(1.5, 1.05))\n",
    "\n",
    "for _ax in ax.flat:\n",
    "    _ax.fill_between(\n",
    "        _ax.get_xlim(),\n",
    "        -chance,\n",
    "        +chance,\n",
    "        facecolor=[0.5] * 3,\n",
    "        edgecolor=None,\n",
    "        lw=0,\n",
    "        alpha=0.5,\n",
    "        zorder=-300,\n",
    "    )\n",
    "    if indicate_stim_time:\n",
    "        _ax.fill_between(\n",
    "            [0, use_dur / duration],\n",
    "            *_ax.get_ylim(),\n",
    "            facecolor=\"c\",\n",
    "            alpha=0.5,\n",
    "            zorder=-600,\n",
    "        )\n",
    "\n",
    "\n",
    "syllables_to_time = lambda x: x * duration\n",
    "time_to_syllables = lambda x: x / duration\n",
    "\n",
    "for _ax in ax[-2:]:\n",
    "    # ax[0].set_xticks([0,25,50])\n",
    "    secax_x = _ax.secondary_xaxis(\n",
    "        -0.6, functions=(syllables_to_time, time_to_syllables)\n",
    "    )\n",
    "    secax_x.set_ticks(np.arange(0, 21, 5).astype(\"int\"))\n",
    "\n",
    "clean_ticks(ax, \"y\", dtype=int, zero_symmetry=False)\n",
    "clean_ticks(ax, \"x\", zero_symmetry=False, precision=-1, dtype=int, include_zero=False)\n",
    "\n",
    "sns.despine(offset=5)\n",
    "fig.supylabel(\"Value (z)\")\n",
    "# fig.supxlabel(\"Time from stim (syll.)\")\n",
    "fig.tight_layout(rect=[-0.05, 0, 1, 1])\n",
    "savefig(\n",
    "    fig,\n",
    "    os.path.join(figure_cfg[\"store_dir\"], f\"post_stim_scalars-{areas}-{use_dur}\"),\n",
    "    bbox_inches=\"tight\",\n",
    ")"
   ]
  },
  {
   "cell_type": "code",
   "execution_count": 93,
   "metadata": {},
   "outputs": [],
   "source": [
    "import json\n",
    "\n",
    "with open(\n",
    "    os.path.join(proc_dirs[\"closed_loop_behavior\"], \"stats_post_stim_entropy.toml\"), \"w\"\n",
    ") as f:\n",
    "    plt_json = json.loads(pval_df.to_json())\n",
    "    toml.dump(plt_json, f)"
   ]
  },
  {
   "cell_type": "code",
   "execution_count": 94,
   "metadata": {},
   "outputs": [],
   "source": [
    "import json\n",
    "\n",
    "with open(\n",
    "    os.path.join(proc_dirs[\"closed_loop_behavior\"], \"stats_post_stim_scalars.toml\"), \"w\"\n",
    ") as f:\n",
    "    plt_json = json.loads(pval_df_scalars.to_json())\n",
    "    toml.dump(plt_json, f)"
   ]
  },
  {
   "cell_type": "code",
   "execution_count": null,
   "metadata": {},
   "outputs": [],
   "source": []
  }
 ],
 "metadata": {
  "kernelspec": {
   "display_name": "Python [conda env:spont-da]",
   "language": "python",
   "name": "conda-env-spont-da-py"
  },
  "language_info": {
   "codemirror_mode": {
    "name": "ipython",
    "version": 3
   },
   "file_extension": ".py",
   "mimetype": "text/x-python",
   "name": "python",
   "nbconvert_exporter": "python",
   "pygments_lexer": "ipython3",
   "version": "3.10.8"
  },
  "widgets": {
   "application/vnd.jupyter.widget-state+json": {
    "state": {
     "015bf6f85aa04633a7dda0daff5612bd": {
      "model_module": "@jupyter-widgets/controls",
      "model_module_version": "1.5.0",
      "model_name": "ProgressStyleModel",
      "state": {
       "description_width": "initial"
      }
     },
     "0188fa3b32884bd58c54d1a0dcfd94c6": {
      "model_module": "@jupyter-widgets/controls",
      "model_module_version": "1.5.0",
      "model_name": "HBoxModel",
      "state": {
       "children": [
        "IPY_MODEL_e454c6c2890c4084acc85983dce47fc4",
        "IPY_MODEL_9cbd5d01284748c49f2a5bfe4ae97d31"
       ],
       "layout": "IPY_MODEL_74ffb9908c62431bb196de0795f6645a"
      }
     },
     "026a1bcdae5346699365e48aa6cace58": {
      "model_module": "@jupyter-widgets/controls",
      "model_module_version": "1.5.0",
      "model_name": "HBoxModel",
      "state": {
       "children": [
        "IPY_MODEL_45956762fdd24175b0bd279598057b39",
        "IPY_MODEL_bb4fd7b1f691458b81bf0e582f236f4f"
       ],
       "layout": "IPY_MODEL_6d0eb327a9884d028714d4f9f799cc9c"
      }
     },
     "05cd2d8f5b15457fbeb14dda0bfc2e46": {
      "model_module": "@jupyter-widgets/base",
      "model_module_version": "1.2.0",
      "model_name": "LayoutModel",
      "state": {}
     },
     "0b132e4db48a4409bd54ed95b919c314": {
      "model_module": "@jupyter-widgets/base",
      "model_module_version": "1.2.0",
      "model_name": "LayoutModel",
      "state": {}
     },
     "0e4df3dad9214540af92b992cd72eeea": {
      "model_module": "@jupyter-widgets/controls",
      "model_module_version": "1.5.0",
      "model_name": "DescriptionStyleModel",
      "state": {
       "description_width": ""
      }
     },
     "116a29c654a74edf82fb4dd362d55764": {
      "model_module": "@jupyter-widgets/controls",
      "model_module_version": "1.5.0",
      "model_name": "DescriptionStyleModel",
      "state": {
       "description_width": ""
      }
     },
     "1628a141025c4f8aadb39d8ecfb72d73": {
      "model_module": "@jupyter-widgets/base",
      "model_module_version": "1.2.0",
      "model_name": "LayoutModel",
      "state": {}
     },
     "1d5cb71772c0454fa805233742191477": {
      "model_module": "@jupyter-widgets/base",
      "model_module_version": "1.2.0",
      "model_name": "LayoutModel",
      "state": {}
     },
     "1fd56e9ad55a4f1499e43591c86fcc66": {
      "model_module": "@jupyter-widgets/controls",
      "model_module_version": "1.5.0",
      "model_name": "HBoxModel",
      "state": {
       "children": [
        "IPY_MODEL_31d89422cbd44fe99dd87f02d05710f8",
        "IPY_MODEL_b1b0f0d12602417e9f2576ec69a9ce43"
       ],
       "layout": "IPY_MODEL_b0c404ba9e534008a062bc1df73e00e2"
      }
     },
     "28a919f2abbc48fcaf8b76eed040e97f": {
      "model_module": "@jupyter-widgets/controls",
      "model_module_version": "1.5.0",
      "model_name": "FloatProgressModel",
      "state": {
       "bar_style": "success",
       "description": "100%",
       "layout": "IPY_MODEL_930f1462cb034ad8baf8752382ec8eab",
       "max": 54404,
       "style": "IPY_MODEL_015bf6f85aa04633a7dda0daff5612bd",
       "value": 54404
      }
     },
     "2a05def7df604aefb1063c42a442a9cc": {
      "model_module": "@jupyter-widgets/controls",
      "model_module_version": "1.5.0",
      "model_name": "HTMLModel",
      "state": {
       "layout": "IPY_MODEL_6d904ec8d96a4c6c8e816d5d6a4b7222",
       "style": "IPY_MODEL_116a29c654a74edf82fb4dd362d55764",
       "value": " 1080/1080 [01:05&lt;00:00, 16.42it/s]"
      }
     },
     "2d52003cf5e64a319d8b3f8395672374": {
      "model_module": "@jupyter-widgets/controls",
      "model_module_version": "1.5.0",
      "model_name": "FloatProgressModel",
      "state": {
       "bar_style": "success",
       "description": "100%",
       "layout": "IPY_MODEL_5398069d757043e0b218cd9540132242",
       "max": 54404,
       "style": "IPY_MODEL_ea85ab1c5e99411c8b72c69f140fcf63",
       "value": 54404
      }
     },
     "30ecdd1e161145f3b0cea2da2b5ed087": {
      "model_module": "@jupyter-widgets/controls",
      "model_module_version": "1.5.0",
      "model_name": "DescriptionStyleModel",
      "state": {
       "description_width": ""
      }
     },
     "3111470fa018471d94ccda8b2b65e951": {
      "model_module": "@jupyter-widgets/controls",
      "model_module_version": "1.5.0",
      "model_name": "HBoxModel",
      "state": {
       "children": [
        "IPY_MODEL_b88c6de73384477abb6afd2e93eed85d",
        "IPY_MODEL_89a07ff193214c5d9374f03786bd1c98"
       ],
       "layout": "IPY_MODEL_dfcfb5b728e64d50938fb47cda7c18dd"
      }
     },
     "3181571a0f5d4473b487a05a5b0d229e": {
      "model_module": "@jupyter-widgets/controls",
      "model_module_version": "1.5.0",
      "model_name": "HBoxModel",
      "state": {
       "children": [
        "IPY_MODEL_2d52003cf5e64a319d8b3f8395672374",
        "IPY_MODEL_f766ce281f2b439c9f477a1fd9375542"
       ],
       "layout": "IPY_MODEL_3b2d57676262459690f598d5808383eb"
      }
     },
     "31d89422cbd44fe99dd87f02d05710f8": {
      "model_module": "@jupyter-widgets/controls",
      "model_module_version": "1.5.0",
      "model_name": "FloatProgressModel",
      "state": {
       "bar_style": "success",
       "description": "100%",
       "layout": "IPY_MODEL_d92bf18225aa4456be58160b521f607f",
       "max": 54404,
       "style": "IPY_MODEL_601bdf1dea7f4c58b70d501d27d161b2",
       "value": 54404
      }
     },
     "339b4b8e25d94e36bf24c329900ca9dd": {
      "model_module": "@jupyter-widgets/controls",
      "model_module_version": "1.5.0",
      "model_name": "HBoxModel",
      "state": {
       "children": [
        "IPY_MODEL_f201d480ab45492894affaa7dacc71e6",
        "IPY_MODEL_2a05def7df604aefb1063c42a442a9cc"
       ],
       "layout": "IPY_MODEL_cf2e01f46e4648719127f85aa3cc9857"
      }
     },
     "3509b38326ff44d9880d3c56978a67b1": {
      "model_module": "@jupyter-widgets/controls",
      "model_module_version": "1.5.0",
      "model_name": "ProgressStyleModel",
      "state": {
       "description_width": "initial"
      }
     },
     "366d29ede43645aba4c8946cd9553dca": {
      "model_module": "@jupyter-widgets/base",
      "model_module_version": "1.2.0",
      "model_name": "LayoutModel",
      "state": {}
     },
     "3b2d57676262459690f598d5808383eb": {
      "model_module": "@jupyter-widgets/base",
      "model_module_version": "1.2.0",
      "model_name": "LayoutModel",
      "state": {}
     },
     "3c845b383ebb400a8870b7723735df43": {
      "model_module": "@jupyter-widgets/controls",
      "model_module_version": "1.5.0",
      "model_name": "FloatProgressModel",
      "state": {
       "bar_style": "success",
       "description": "100%",
       "layout": "IPY_MODEL_1628a141025c4f8aadb39d8ecfb72d73",
       "max": 1080,
       "style": "IPY_MODEL_3509b38326ff44d9880d3c56978a67b1",
       "value": 1080
      }
     },
     "401964b01792439f923bfad8b3a96923": {
      "model_module": "@jupyter-widgets/controls",
      "model_module_version": "1.5.0",
      "model_name": "ProgressStyleModel",
      "state": {
       "description_width": "initial"
      }
     },
     "45956762fdd24175b0bd279598057b39": {
      "model_module": "@jupyter-widgets/controls",
      "model_module_version": "1.5.0",
      "model_name": "FloatProgressModel",
      "state": {
       "bar_style": "success",
       "description": "100%",
       "layout": "IPY_MODEL_1d5cb71772c0454fa805233742191477",
       "max": 54404,
       "style": "IPY_MODEL_8ef6d764628f4e64b399545ab6527759",
       "value": 54404
      }
     },
     "4b0431f5fd4d4122b15c6a719d4cbe2a": {
      "model_module": "@jupyter-widgets/controls",
      "model_module_version": "1.5.0",
      "model_name": "DescriptionStyleModel",
      "state": {
       "description_width": ""
      }
     },
     "4e5cc1bc2777405dbd8829fce162fca1": {
      "model_module": "@jupyter-widgets/controls",
      "model_module_version": "1.5.0",
      "model_name": "HTMLModel",
      "state": {
       "layout": "IPY_MODEL_5c89955369cb4da2b1b4cceaf9ce2ccb",
       "style": "IPY_MODEL_c654f16f8c2143b7a45125b4b8b6f7b6",
       "value": " 1080/1080 [00:12&lt;00:00, 88.77it/s]"
      }
     },
     "5398069d757043e0b218cd9540132242": {
      "model_module": "@jupyter-widgets/base",
      "model_module_version": "1.2.0",
      "model_name": "LayoutModel",
      "state": {}
     },
     "56f1fdaa4d0a45ef903bdd0c2934fa96": {
      "model_module": "@jupyter-widgets/base",
      "model_module_version": "1.2.0",
      "model_name": "LayoutModel",
      "state": {}
     },
     "5c89955369cb4da2b1b4cceaf9ce2ccb": {
      "model_module": "@jupyter-widgets/base",
      "model_module_version": "1.2.0",
      "model_name": "LayoutModel",
      "state": {}
     },
     "601bdf1dea7f4c58b70d501d27d161b2": {
      "model_module": "@jupyter-widgets/controls",
      "model_module_version": "1.5.0",
      "model_name": "ProgressStyleModel",
      "state": {
       "description_width": "initial"
      }
     },
     "606d96232d354b0fa8b740c7ea160fb8": {
      "model_module": "@jupyter-widgets/base",
      "model_module_version": "1.2.0",
      "model_name": "LayoutModel",
      "state": {}
     },
     "67c2f837fd494a209cd1149005350c08": {
      "model_module": "@jupyter-widgets/base",
      "model_module_version": "1.2.0",
      "model_name": "LayoutModel",
      "state": {}
     },
     "6ae9d298b1944e37ac0ac7760c4454bd": {
      "model_module": "@jupyter-widgets/base",
      "model_module_version": "1.2.0",
      "model_name": "LayoutModel",
      "state": {}
     },
     "6d0eb327a9884d028714d4f9f799cc9c": {
      "model_module": "@jupyter-widgets/base",
      "model_module_version": "1.2.0",
      "model_name": "LayoutModel",
      "state": {}
     },
     "6d904ec8d96a4c6c8e816d5d6a4b7222": {
      "model_module": "@jupyter-widgets/base",
      "model_module_version": "1.2.0",
      "model_name": "LayoutModel",
      "state": {}
     },
     "6f00736114674d6fa4235fab7ea66987": {
      "model_module": "@jupyter-widgets/controls",
      "model_module_version": "1.5.0",
      "model_name": "HTMLModel",
      "state": {
       "layout": "IPY_MODEL_0b132e4db48a4409bd54ed95b919c314",
       "style": "IPY_MODEL_f2d2ce28af8445e6b6997326e9585282",
       "value": " 54404/54404 [01:12&lt;00:00, 747.23it/s]"
      }
     },
     "72865a63c24b4e6c957091bd4f17ff36": {
      "model_module": "@jupyter-widgets/controls",
      "model_module_version": "1.5.0",
      "model_name": "FloatProgressModel",
      "state": {
       "bar_style": "success",
       "description": "100%",
       "layout": "IPY_MODEL_dd953a20354a43cd92f2e445d5394dbf",
       "max": 1080,
       "style": "IPY_MODEL_b757ed952a9d486fa7a37bc574536832",
       "value": 1080
      }
     },
     "72e679171ac746b08570af95b76fd259": {
      "model_module": "@jupyter-widgets/controls",
      "model_module_version": "1.5.0",
      "model_name": "HBoxModel",
      "state": {
       "children": [
        "IPY_MODEL_72865a63c24b4e6c957091bd4f17ff36",
        "IPY_MODEL_9fb7a3e3bddb4a6e8575c0f84be76682"
       ],
       "layout": "IPY_MODEL_bb8945d47283432184c4bb9ec975abfc"
      }
     },
     "736c15b2871647a2a556f64f4277a4d4": {
      "model_module": "@jupyter-widgets/base",
      "model_module_version": "1.2.0",
      "model_name": "LayoutModel",
      "state": {}
     },
     "74ffb9908c62431bb196de0795f6645a": {
      "model_module": "@jupyter-widgets/base",
      "model_module_version": "1.2.0",
      "model_name": "LayoutModel",
      "state": {}
     },
     "78e8e4b82eaf466bafdd8e7d39b1010c": {
      "model_module": "@jupyter-widgets/base",
      "model_module_version": "1.2.0",
      "model_name": "LayoutModel",
      "state": {}
     },
     "89a07ff193214c5d9374f03786bd1c98": {
      "model_module": "@jupyter-widgets/controls",
      "model_module_version": "1.5.0",
      "model_name": "HTMLModel",
      "state": {
       "layout": "IPY_MODEL_e267c04e84be44409271ece8c0e4c19a",
       "style": "IPY_MODEL_0e4df3dad9214540af92b992cd72eeea",
       "value": " 54404/54404 [01:19&lt;00:00, 687.67it/s]"
      }
     },
     "8ab41df5d90d45fbbb292d7d052e94c2": {
      "model_module": "@jupyter-widgets/controls",
      "model_module_version": "1.5.0",
      "model_name": "FloatProgressModel",
      "state": {
       "bar_style": "success",
       "description": "100%",
       "layout": "IPY_MODEL_ac8002e8ac0d43f5984985f22a70f7b4",
       "max": 54404,
       "style": "IPY_MODEL_e213006180a442b2af5d8284633ddfef",
       "value": 54404
      }
     },
     "8ef6d764628f4e64b399545ab6527759": {
      "model_module": "@jupyter-widgets/controls",
      "model_module_version": "1.5.0",
      "model_name": "ProgressStyleModel",
      "state": {
       "description_width": "initial"
      }
     },
     "930f1462cb034ad8baf8752382ec8eab": {
      "model_module": "@jupyter-widgets/base",
      "model_module_version": "1.2.0",
      "model_name": "LayoutModel",
      "state": {}
     },
     "9cbd5d01284748c49f2a5bfe4ae97d31": {
      "model_module": "@jupyter-widgets/controls",
      "model_module_version": "1.5.0",
      "model_name": "HTMLModel",
      "state": {
       "layout": "IPY_MODEL_56f1fdaa4d0a45ef903bdd0c2934fa96",
       "style": "IPY_MODEL_f74323266cd5439e8889fca892c515cd",
       "value": " 1080/1080 [00:53&lt;00:00, 20.12it/s]"
      }
     },
     "9f19ffec020c4fd6ad815eac4ad621f1": {
      "model_module": "@jupyter-widgets/controls",
      "model_module_version": "1.5.0",
      "model_name": "HTMLModel",
      "state": {
       "layout": "IPY_MODEL_6ae9d298b1944e37ac0ac7760c4454bd",
       "style": "IPY_MODEL_e614c7eaf1a04d999c8d84c258c24a91",
       "value": " 54404/54404 [01:13&lt;00:00, 736.24it/s]"
      }
     },
     "9fb7a3e3bddb4a6e8575c0f84be76682": {
      "model_module": "@jupyter-widgets/controls",
      "model_module_version": "1.5.0",
      "model_name": "HTMLModel",
      "state": {
       "layout": "IPY_MODEL_af95d8679dfc4241a5595af6b78fb191",
       "style": "IPY_MODEL_cacd6c27bf0140d29288188068ba36c8",
       "value": " 1080/1080 [00:41&lt;00:00, 25.99it/s]"
      }
     },
     "a8d5cb51111245dc852cf6d82ec65af3": {
      "model_module": "@jupyter-widgets/controls",
      "model_module_version": "1.5.0",
      "model_name": "ProgressStyleModel",
      "state": {
       "description_width": "initial"
      }
     },
     "a9aac78aa4e1403a88722f19bbaf3736": {
      "model_module": "@jupyter-widgets/base",
      "model_module_version": "1.2.0",
      "model_name": "LayoutModel",
      "state": {}
     },
     "aa038197b9ea48078ee208b4866cc9b2": {
      "model_module": "@jupyter-widgets/base",
      "model_module_version": "1.2.0",
      "model_name": "LayoutModel",
      "state": {}
     },
     "ac8002e8ac0d43f5984985f22a70f7b4": {
      "model_module": "@jupyter-widgets/base",
      "model_module_version": "1.2.0",
      "model_name": "LayoutModel",
      "state": {}
     },
     "ae719a9e1d1144b88977c2ca24524149": {
      "model_module": "@jupyter-widgets/base",
      "model_module_version": "1.2.0",
      "model_name": "LayoutModel",
      "state": {}
     },
     "af95d8679dfc4241a5595af6b78fb191": {
      "model_module": "@jupyter-widgets/base",
      "model_module_version": "1.2.0",
      "model_name": "LayoutModel",
      "state": {}
     },
     "b0c404ba9e534008a062bc1df73e00e2": {
      "model_module": "@jupyter-widgets/base",
      "model_module_version": "1.2.0",
      "model_name": "LayoutModel",
      "state": {}
     },
     "b1b0f0d12602417e9f2576ec69a9ce43": {
      "model_module": "@jupyter-widgets/controls",
      "model_module_version": "1.5.0",
      "model_name": "HTMLModel",
      "state": {
       "layout": "IPY_MODEL_a9aac78aa4e1403a88722f19bbaf3736",
       "style": "IPY_MODEL_4b0431f5fd4d4122b15c6a719d4cbe2a",
       "value": " 54404/54404 [01:13&lt;00:00, 735.43it/s]"
      }
     },
     "b757ed952a9d486fa7a37bc574536832": {
      "model_module": "@jupyter-widgets/controls",
      "model_module_version": "1.5.0",
      "model_name": "ProgressStyleModel",
      "state": {
       "description_width": "initial"
      }
     },
     "b789ad9feeb9492abd21750cbf13485d": {
      "model_module": "@jupyter-widgets/controls",
      "model_module_version": "1.5.0",
      "model_name": "HBoxModel",
      "state": {
       "children": [
        "IPY_MODEL_eae6a738366042a48364ea05b6d99522",
        "IPY_MODEL_e900bb482cdf4ca38dbf1adf057790be"
       ],
       "layout": "IPY_MODEL_78e8e4b82eaf466bafdd8e7d39b1010c"
      }
     },
     "b7f930c9c92946cd81d7d70cd4769616": {
      "model_module": "@jupyter-widgets/controls",
      "model_module_version": "1.5.0",
      "model_name": "ProgressStyleModel",
      "state": {
       "description_width": "initial"
      }
     },
     "b88c6de73384477abb6afd2e93eed85d": {
      "model_module": "@jupyter-widgets/controls",
      "model_module_version": "1.5.0",
      "model_name": "FloatProgressModel",
      "state": {
       "bar_style": "success",
       "description": "100%",
       "layout": "IPY_MODEL_736c15b2871647a2a556f64f4277a4d4",
       "max": 54404,
       "style": "IPY_MODEL_a8d5cb51111245dc852cf6d82ec65af3",
       "value": 54404
      }
     },
     "bb4fd7b1f691458b81bf0e582f236f4f": {
      "model_module": "@jupyter-widgets/controls",
      "model_module_version": "1.5.0",
      "model_name": "HTMLModel",
      "state": {
       "layout": "IPY_MODEL_c99f6e30edb44f4f8f1c2c3a09ec9a3c",
       "style": "IPY_MODEL_ca52366a77e84ba2bdfbf81ad09dd976",
       "value": " 54404/54404 [01:13&lt;00:00, 739.45it/s]"
      }
     },
     "bb8945d47283432184c4bb9ec975abfc": {
      "model_module": "@jupyter-widgets/base",
      "model_module_version": "1.2.0",
      "model_name": "LayoutModel",
      "state": {}
     },
     "c13b400ad0c04eeeb4b58492d35f1613": {
      "model_module": "@jupyter-widgets/controls",
      "model_module_version": "1.5.0",
      "model_name": "HBoxModel",
      "state": {
       "children": [
        "IPY_MODEL_3c845b383ebb400a8870b7723735df43",
        "IPY_MODEL_e1ecdd903368458c972bd552e14a2664"
       ],
       "layout": "IPY_MODEL_f336973b98114fd991c9159dea600047"
      }
     },
     "c14d02e408e64ec49cfb25d075018c82": {
      "model_module": "@jupyter-widgets/controls",
      "model_module_version": "1.5.0",
      "model_name": "DescriptionStyleModel",
      "state": {
       "description_width": ""
      }
     },
     "c1711f38c0f649ea93f0455ddcee731f": {
      "model_module": "@jupyter-widgets/controls",
      "model_module_version": "1.5.0",
      "model_name": "ProgressStyleModel",
      "state": {
       "description_width": "initial"
      }
     },
     "c654f16f8c2143b7a45125b4b8b6f7b6": {
      "model_module": "@jupyter-widgets/controls",
      "model_module_version": "1.5.0",
      "model_name": "DescriptionStyleModel",
      "state": {
       "description_width": ""
      }
     },
     "c99f6e30edb44f4f8f1c2c3a09ec9a3c": {
      "model_module": "@jupyter-widgets/base",
      "model_module_version": "1.2.0",
      "model_name": "LayoutModel",
      "state": {}
     },
     "ca52366a77e84ba2bdfbf81ad09dd976": {
      "model_module": "@jupyter-widgets/controls",
      "model_module_version": "1.5.0",
      "model_name": "DescriptionStyleModel",
      "state": {
       "description_width": ""
      }
     },
     "cacd6c27bf0140d29288188068ba36c8": {
      "model_module": "@jupyter-widgets/controls",
      "model_module_version": "1.5.0",
      "model_name": "DescriptionStyleModel",
      "state": {
       "description_width": ""
      }
     },
     "cf2e01f46e4648719127f85aa3cc9857": {
      "model_module": "@jupyter-widgets/base",
      "model_module_version": "1.2.0",
      "model_name": "LayoutModel",
      "state": {}
     },
     "d433ec3ab57445959373132679e4a7de": {
      "model_module": "@jupyter-widgets/base",
      "model_module_version": "1.2.0",
      "model_name": "LayoutModel",
      "state": {}
     },
     "d4c925fe864448f3b3b6b1c829021618": {
      "model_module": "@jupyter-widgets/controls",
      "model_module_version": "1.5.0",
      "model_name": "ProgressStyleModel",
      "state": {
       "description_width": "initial"
      }
     },
     "d92bf18225aa4456be58160b521f607f": {
      "model_module": "@jupyter-widgets/base",
      "model_module_version": "1.2.0",
      "model_name": "LayoutModel",
      "state": {}
     },
     "dd953a20354a43cd92f2e445d5394dbf": {
      "model_module": "@jupyter-widgets/base",
      "model_module_version": "1.2.0",
      "model_name": "LayoutModel",
      "state": {}
     },
     "dfcfb5b728e64d50938fb47cda7c18dd": {
      "model_module": "@jupyter-widgets/base",
      "model_module_version": "1.2.0",
      "model_name": "LayoutModel",
      "state": {}
     },
     "e1ecdd903368458c972bd552e14a2664": {
      "model_module": "@jupyter-widgets/controls",
      "model_module_version": "1.5.0",
      "model_name": "HTMLModel",
      "state": {
       "layout": "IPY_MODEL_e7fa4dffcfe9416582dd66c2fc9b9785",
       "style": "IPY_MODEL_e783ed588e524b9abf889f85634e96d5",
       "value": " 1080/1080 [03:31&lt;00:00,  5.10it/s]"
      }
     },
     "e213006180a442b2af5d8284633ddfef": {
      "model_module": "@jupyter-widgets/controls",
      "model_module_version": "1.5.0",
      "model_name": "ProgressStyleModel",
      "state": {
       "description_width": "initial"
      }
     },
     "e267c04e84be44409271ece8c0e4c19a": {
      "model_module": "@jupyter-widgets/base",
      "model_module_version": "1.2.0",
      "model_name": "LayoutModel",
      "state": {}
     },
     "e454c6c2890c4084acc85983dce47fc4": {
      "model_module": "@jupyter-widgets/controls",
      "model_module_version": "1.5.0",
      "model_name": "FloatProgressModel",
      "state": {
       "bar_style": "success",
       "description": "100%",
       "layout": "IPY_MODEL_366d29ede43645aba4c8946cd9553dca",
       "max": 1080,
       "style": "IPY_MODEL_c1711f38c0f649ea93f0455ddcee731f",
       "value": 1080
      }
     },
     "e614c7eaf1a04d999c8d84c258c24a91": {
      "model_module": "@jupyter-widgets/controls",
      "model_module_version": "1.5.0",
      "model_name": "DescriptionStyleModel",
      "state": {
       "description_width": ""
      }
     },
     "e783ed588e524b9abf889f85634e96d5": {
      "model_module": "@jupyter-widgets/controls",
      "model_module_version": "1.5.0",
      "model_name": "DescriptionStyleModel",
      "state": {
       "description_width": ""
      }
     },
     "e7fa4dffcfe9416582dd66c2fc9b9785": {
      "model_module": "@jupyter-widgets/base",
      "model_module_version": "1.2.0",
      "model_name": "LayoutModel",
      "state": {}
     },
     "e900bb482cdf4ca38dbf1adf057790be": {
      "model_module": "@jupyter-widgets/controls",
      "model_module_version": "1.5.0",
      "model_name": "HTMLModel",
      "state": {
       "layout": "IPY_MODEL_67c2f837fd494a209cd1149005350c08",
       "style": "IPY_MODEL_c14d02e408e64ec49cfb25d075018c82",
       "value": " 54404/54404 [01:14&lt;00:00, 726.27it/s]"
      }
     },
     "ea85ab1c5e99411c8b72c69f140fcf63": {
      "model_module": "@jupyter-widgets/controls",
      "model_module_version": "1.5.0",
      "model_name": "ProgressStyleModel",
      "state": {
       "description_width": "initial"
      }
     },
     "eaae4616cb964353ae71d232acaf04a5": {
      "model_module": "@jupyter-widgets/controls",
      "model_module_version": "1.5.0",
      "model_name": "HBoxModel",
      "state": {
       "children": [
        "IPY_MODEL_8ab41df5d90d45fbbb292d7d052e94c2",
        "IPY_MODEL_6f00736114674d6fa4235fab7ea66987"
       ],
       "layout": "IPY_MODEL_ed2264d38f794ccfaa7373cf282e12e7"
      }
     },
     "eae6a738366042a48364ea05b6d99522": {
      "model_module": "@jupyter-widgets/controls",
      "model_module_version": "1.5.0",
      "model_name": "FloatProgressModel",
      "state": {
       "bar_style": "success",
       "description": "100%",
       "layout": "IPY_MODEL_05cd2d8f5b15457fbeb14dda0bfc2e46",
       "max": 54404,
       "style": "IPY_MODEL_b7f930c9c92946cd81d7d70cd4769616",
       "value": 54404
      }
     },
     "ecc71ceb48c249ca9735b32b3fae40c9": {
      "model_module": "@jupyter-widgets/controls",
      "model_module_version": "1.5.0",
      "model_name": "HBoxModel",
      "state": {
       "children": [
        "IPY_MODEL_f61bc90e20114d0c97eb08ddeb057ad6",
        "IPY_MODEL_4e5cc1bc2777405dbd8829fce162fca1"
       ],
       "layout": "IPY_MODEL_d433ec3ab57445959373132679e4a7de"
      }
     },
     "ed2264d38f794ccfaa7373cf282e12e7": {
      "model_module": "@jupyter-widgets/base",
      "model_module_version": "1.2.0",
      "model_name": "LayoutModel",
      "state": {}
     },
     "f201d480ab45492894affaa7dacc71e6": {
      "model_module": "@jupyter-widgets/controls",
      "model_module_version": "1.5.0",
      "model_name": "FloatProgressModel",
      "state": {
       "bar_style": "success",
       "description": "100%",
       "layout": "IPY_MODEL_ae719a9e1d1144b88977c2ca24524149",
       "max": 1080,
       "style": "IPY_MODEL_d4c925fe864448f3b3b6b1c829021618",
       "value": 1080
      }
     },
     "f2d2ce28af8445e6b6997326e9585282": {
      "model_module": "@jupyter-widgets/controls",
      "model_module_version": "1.5.0",
      "model_name": "DescriptionStyleModel",
      "state": {
       "description_width": ""
      }
     },
     "f336973b98114fd991c9159dea600047": {
      "model_module": "@jupyter-widgets/base",
      "model_module_version": "1.2.0",
      "model_name": "LayoutModel",
      "state": {}
     },
     "f61bc90e20114d0c97eb08ddeb057ad6": {
      "model_module": "@jupyter-widgets/controls",
      "model_module_version": "1.5.0",
      "model_name": "FloatProgressModel",
      "state": {
       "bar_style": "success",
       "description": "100%",
       "layout": "IPY_MODEL_f99856ae41ee4d53aab555edf95cb659",
       "max": 1080,
       "style": "IPY_MODEL_401964b01792439f923bfad8b3a96923",
       "value": 1080
      }
     },
     "f74323266cd5439e8889fca892c515cd": {
      "model_module": "@jupyter-widgets/controls",
      "model_module_version": "1.5.0",
      "model_name": "DescriptionStyleModel",
      "state": {
       "description_width": ""
      }
     },
     "f766ce281f2b439c9f477a1fd9375542": {
      "model_module": "@jupyter-widgets/controls",
      "model_module_version": "1.5.0",
      "model_name": "HTMLModel",
      "state": {
       "layout": "IPY_MODEL_606d96232d354b0fa8b740c7ea160fb8",
       "style": "IPY_MODEL_30ecdd1e161145f3b0cea2da2b5ed087",
       "value": " 54404/54404 [01:20&lt;00:00, 671.68it/s]"
      }
     },
     "f99856ae41ee4d53aab555edf95cb659": {
      "model_module": "@jupyter-widgets/base",
      "model_module_version": "1.2.0",
      "model_name": "LayoutModel",
      "state": {}
     },
     "f9ad36f7b07b41559ec3fa99d3a27589": {
      "model_module": "@jupyter-widgets/controls",
      "model_module_version": "1.5.0",
      "model_name": "HBoxModel",
      "state": {
       "children": [
        "IPY_MODEL_28a919f2abbc48fcaf8b76eed040e97f",
        "IPY_MODEL_9f19ffec020c4fd6ad815eac4ad621f1"
       ],
       "layout": "IPY_MODEL_aa038197b9ea48078ee208b4866cc9b2"
      }
     }
    },
    "version_major": 2,
    "version_minor": 0
   }
  }
 },
 "nbformat": 4,
 "nbformat_minor": 4
}
