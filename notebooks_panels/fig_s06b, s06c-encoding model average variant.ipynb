{
 "cells": [
  {
   "cell_type": "code",
   "execution_count": 1,
   "metadata": {},
   "outputs": [],
   "source": [
    "%load_ext autoreload\n",
    "%autoreload 2\n",
    "%matplotlib inline"
   ]
  },
  {
   "cell_type": "code",
   "execution_count": 2,
   "metadata": {},
   "outputs": [],
   "source": [
    "from tqdm.auto import tqdm\n",
    "from rl_analysis.plotting import (\n",
    "    setup_plotting_env,\n",
    "    clean_plot_labels,\n",
    "    savefig,\n",
    "    clean_ticks,\n",
    "    plot_pval,\n",
    "    format_pval,\n",
    "    geno_palette,\n",
    ")\n",
    "from sklearn import model_selection\n",
    "from copy import deepcopy\n",
    "from rl_analysis.util import whiten, pd_zscore\n",
    "from rl_analysis.photometry.encoding_average.util import (\n",
    "    run_inference_and_ppc,\n",
    "    run_inference,\n",
    ")\n",
    "import pandas as pd\n",
    "import natsort as ns\n",
    "import matplotlib.pyplot as plt\n",
    "import numpy as np\n",
    "import os\n",
    "import seaborn as sns\n",
    "from jax import random\n",
    "from sklearn import preprocessing\n",
    "import multiprocessing as mp\n",
    "import numpyro\n",
    "\n",
    "numpyro.set_host_device_count(mp.cpu_count())\n",
    "numpyro.set_platform(\"cpu\")\n",
    "\n",
    "from rl_analysis.photometry.encoding_average import models\n",
    "\n",
    "from scipy.stats import zscore\n",
    "from joblib import Parallel, delayed\n",
    "from scipy.stats import mannwhitneyu"
   ]
  },
  {
   "cell_type": "markdown",
   "metadata": {},
   "source": [
    "# Model functions"
   ]
  },
  {
   "cell_type": "markdown",
   "metadata": {},
   "source": [
    "# Parameters"
   ]
  },
  {
   "cell_type": "code",
   "execution_count": 3,
   "metadata": {},
   "outputs": [],
   "source": [
    "import toml\n",
    "\n",
    "with open(\"../analysis_configuration.toml\", \"r\") as f:\n",
    "    analysis_config = toml.load(f)"
   ]
  },
  {
   "cell_type": "code",
   "execution_count": 4,
   "metadata": {},
   "outputs": [],
   "source": [
    "raw_dirs = analysis_config[\"raw_data\"]\n",
    "proc_dirs = analysis_config[\"intermediate_results\"]\n",
    "lagged_cfg = analysis_config[\"dlight_lagged_correlations\"]\n",
    "encoding_cfg = analysis_config[\"dlight_encoding_features\"]\n",
    "figure_cfg = analysis_config[\"figures\"]"
   ]
  },
  {
   "cell_type": "code",
   "execution_count": 5,
   "metadata": {},
   "outputs": [],
   "source": [
    "file_suffix = \"offline\" if lagged_cfg[\"use_offline\"] else \"online\"\n",
    "load_file = os.path.join(raw_dirs[\"dlight\"], f\"dlight_snippets_{file_suffix}.parquet\")"
   ]
  },
  {
   "cell_type": "code",
   "execution_count": 6,
   "metadata": {},
   "outputs": [],
   "source": [
    "file, ext = os.path.splitext(load_file)\n",
    "features_save_file = f\"{file}_features{ext}\"\n",
    "\n",
    "if lagged_cfg[\"use_renormalized\"]:\n",
    "    file, ext = os.path.splitext(features_save_file)\n",
    "    features_save_file = f\"{file}_renormalize{ext}\"\n",
    "\n",
    "rle_save_file = features_save_file.replace(\"snippet\", \"usage\")\n",
    "dirname, filename = os.path.split(features_save_file)\n",
    "file, ext = os.path.splitext(filename)\n",
    "file = os.path.join(proc_dirs[\"dlight\"], file)\n",
    "if lagged_cfg[\"estimate_within_bin\"]:\n",
    "    file = f\"{file}_withinbin\"\n",
    "\n",
    "results_features_file = f\"{file}_encoding_model_average_features.parquet\""
   ]
  },
  {
   "cell_type": "code",
   "execution_count": 7,
   "metadata": {},
   "outputs": [],
   "source": [
    "use_features = []\n",
    "for _use_win in lagged_cfg[\"use_windows\"]:\n",
    "    use_features += [f\"{_}_{_use_win}\" for _ in lagged_cfg[\"use_neural_features\"]]\n",
    "scalar_keys = lagged_cfg[\"usage_and_scalars\"][\"scalars\"]"
   ]
  },
  {
   "cell_type": "markdown",
   "metadata": {},
   "source": [
    "### Or use 'em all"
   ]
  },
  {
   "cell_type": "code",
   "execution_count": 8,
   "metadata": {},
   "outputs": [],
   "source": [
    "model_features = pd.read_parquet(results_features_file)\n",
    "all_lags = [int(_.split(\"_\")[1]) for _ in model_features.filter(regex=\"count\").columns]\n",
    "include_lags = all_lags\n",
    "\n",
    "neural_keys = use_features\n",
    "y = [use_features[0]]\n",
    "y = [\"signal_reref_dff_z_max_(0.0, 0.3)\"]\n",
    "\n",
    "# just for correlation\n",
    "include_features = [\"count\", \"entropy\", \"velocity_2d_mm_global_bin\"]\n",
    "include_features += [f\"{y[0]}_global_bin\"]\n",
    "\n",
    "# put in features and lags\n",
    "select_cols = ns.natsorted(\n",
    "    [f\"{_feature}_{_lag}\" for _feature in include_features for _lag in include_lags]\n",
    ")"
   ]
  },
  {
   "cell_type": "markdown",
   "metadata": {},
   "source": [
    "## Run model"
   ]
  },
  {
   "cell_type": "markdown",
   "metadata": {},
   "source": [
    "### Fit model to separate lags (individually whitened)"
   ]
  },
  {
   "cell_type": "code",
   "execution_count": 9,
   "metadata": {},
   "outputs": [],
   "source": [
    "whiten_data = True\n",
    "use_model = models.simple_regression"
   ]
  },
  {
   "cell_type": "code",
   "execution_count": 10,
   "metadata": {},
   "outputs": [],
   "source": [
    "use_model_features = model_features[select_cols + y].copy()\n",
    "use_model_features[select_cols] = use_model_features[select_cols].transform(pd_zscore)"
   ]
  },
  {
   "cell_type": "code",
   "execution_count": 11,
   "metadata": {},
   "outputs": [],
   "source": [
    "_tmp = use_model_features[select_cols].melt(ignore_index=False)\n",
    "_tmp[\"feature\"] = _tmp[\"variable\"].str.extract(\"(.*)_[0-9]*\")\n",
    "_tmp[\"lag\"] = _tmp[\"variable\"].str.extract(\".*_([0-9]*)\").astype(\"int\")"
   ]
  },
  {
   "cell_type": "code",
   "execution_count": 12,
   "metadata": {},
   "outputs": [],
   "source": [
    "dfs = []\n",
    "for _lag in _tmp[\"lag\"].unique():\n",
    "    _df = (\n",
    "        _tmp.loc[_tmp[\"lag\"] == _lag]\n",
    "        .set_index(\"feature\", append=True)[\"value\"]\n",
    "        .unstack()\n",
    "    )\n",
    "    _df[\"lag\"] = _lag\n",
    "    dfs.append(_df)"
   ]
  },
  {
   "cell_type": "code",
   "execution_count": 13,
   "metadata": {},
   "outputs": [],
   "source": [
    "use_model_features = pd.concat(dfs).join(use_model_features[y])\n",
    "use_model_features = use_model_features.set_index(\"lag\", append=True)"
   ]
  },
  {
   "cell_type": "code",
   "execution_count": 14,
   "metadata": {},
   "outputs": [],
   "source": [
    "X_base = use_model_features.iloc[:, :-1]\n",
    "Y_base = use_model_features.iloc[:, -1:]\n",
    "\n",
    "nans = np.isnan(X_base).any(axis=1) | np.isnan(Y_base).any(axis=1)\n",
    "X_base = X_base[~nans]\n",
    "Y_base = Y_base[~nans]\n",
    "powers = 1\n",
    "new_x = [X_base]\n",
    "for _power in range(2, powers + 1):\n",
    "    _new_x = X_base**_power\n",
    "    _new_x.columns = [f\"{_} ** {_power}\" for _ in _new_x.columns]\n",
    "    new_x.append(_new_x)\n",
    "X_base = pd.concat(new_x, axis=1)\n",
    "feature_indicator = pd.factorize(\n",
    "    use_model_features.index.get_level_values(\"lag\").values\n",
    ")[0]"
   ]
  },
  {
   "cell_type": "code",
   "execution_count": 15,
   "metadata": {},
   "outputs": [],
   "source": [
    "whiten_group_by = \"lag\"\n",
    "if whiten_data:\n",
    "    if whiten_group_by is None:\n",
    "        X_base.values[:], W, _ = whiten(X_base.values, method=\"zca\")\n",
    "    else:\n",
    "        dfs = []\n",
    "        for k, grp in X_base.groupby(whiten_group_by):\n",
    "            grp.values[:], W, _ = whiten(grp.values, method=\"zca\")\n",
    "            dfs.append(grp)\n",
    "        X_base = pd.concat(dfs)"
   ]
  },
  {
   "cell_type": "code",
   "execution_count": 16,
   "metadata": {},
   "outputs": [],
   "source": [
    "use_cols = X_base.columns[~X_base.columns.str.contains(\"dff\")]"
   ]
  },
  {
   "cell_type": "code",
   "execution_count": 17,
   "metadata": {},
   "outputs": [],
   "source": [
    "X_base = X_base[use_cols]"
   ]
  },
  {
   "cell_type": "code",
   "execution_count": 18,
   "metadata": {},
   "outputs": [],
   "source": [
    "indicator_map = {\"dls\": 0, \"dms\": 1}\n",
    "indicator_map = {\n",
    "    k: v for k, v in indicator_map.items() if k in X_base.index.get_level_values(\"area\")\n",
    "}"
   ]
  },
  {
   "cell_type": "code",
   "execution_count": 19,
   "metadata": {
    "tags": []
   },
   "outputs": [
    {
     "data": {
      "application/vnd.jupyter.widget-view+json": {
       "model_id": "84e09a1ede254fe89b245c93292011be",
       "version_major": 2,
       "version_minor": 0
      },
      "text/plain": [
       "  0%|          | 0/10 [00:00<?, ?it/s]"
      ]
     },
     "metadata": {},
     "output_type": "display_data"
    }
   ],
   "source": [
    "samples = {}\n",
    "ppc = {}\n",
    "\n",
    "for _lag in tqdm(X_base.index.get_level_values(\"lag\").unique()):\n",
    "    feature_indicator = (\n",
    "        X_base.xs(_lag, level=\"lag\").index.get_level_values(\"area\").map(indicator_map)\n",
    "    ).values\n",
    "\n",
    "    X = X_base.xs(_lag, level=\"lag\").values\n",
    "    Y = Y_base.xs(_lag, level=\"lag\").values\n",
    "\n",
    "    rng_key = random.PRNGKey(0)\n",
    "    rng_key, rng_key_ = random.split(rng_key)\n",
    "\n",
    "    samples[_lag] = run_inference(\n",
    "        X,\n",
    "        Y.ravel(),\n",
    "        use_model,\n",
    "        feature_indicator=feature_indicator,\n",
    "        rng_key=rng_key_,\n",
    "        standardize=True,\n",
    "        ncpus=1,\n",
    "    )"
   ]
  },
  {
   "cell_type": "code",
   "execution_count": 20,
   "metadata": {},
   "outputs": [],
   "source": [
    "setup_plotting_env()\n",
    "sns.set_context(\"paper\")"
   ]
  },
  {
   "cell_type": "code",
   "execution_count": 21,
   "metadata": {},
   "outputs": [],
   "source": [
    "ci = 0.95"
   ]
  },
  {
   "cell_type": "code",
   "execution_count": 22,
   "metadata": {},
   "outputs": [],
   "source": [
    "lo_bound = np.round((1 - ci) / 2, 3)\n",
    "hi_bound = np.round(1 - lo_bound, 3)"
   ]
  },
  {
   "cell_type": "code",
   "execution_count": 23,
   "metadata": {},
   "outputs": [],
   "source": [
    "features = X_base.columns"
   ]
  },
  {
   "cell_type": "code",
   "execution_count": 24,
   "metadata": {},
   "outputs": [],
   "source": [
    "lo_ci = np.array([np.quantile(_[\"w\"], lo_bound, axis=0) for _ in samples.values()]).T\n",
    "mid_ci = np.array([np.quantile(_[\"w\"], 0.5, axis=0) for _ in samples.values()]).T\n",
    "hi_ci = np.array([np.quantile(_[\"w\"], hi_bound, axis=0) for _ in samples.values()]).T"
   ]
  },
  {
   "cell_type": "code",
   "execution_count": 25,
   "metadata": {},
   "outputs": [],
   "source": [
    "plt_lags = [10, 800]\n",
    "use_w = np.array([_[\"w\"].squeeze() for _ in samples.values()])\n",
    "setup_plotting_env()\n",
    "lags = list(samples.keys())"
   ]
  },
  {
   "cell_type": "code",
   "execution_count": 26,
   "metadata": {},
   "outputs": [],
   "source": [
    "colors = {\n",
    "    \"velocity_2d_mm_global_bin\": sns.color_palette()[0],\n",
    "    \"entropy\": sns.color_palette()[1],\n",
    "    \"count\": sns.color_palette()[7],\n",
    "}"
   ]
  },
  {
   "cell_type": "code",
   "execution_count": 27,
   "metadata": {},
   "outputs": [],
   "source": [
    "dcts = []\n",
    "for i, _lag in enumerate(lags):\n",
    "    for j, _col in enumerate(use_cols):\n",
    "        for _indicator_key, _indicator in indicator_map.items():\n",
    "            pval_l = (use_w[i, :, _indicator, j].squeeze() >= 0).mean()\n",
    "            pval_r = (use_w[i, :, _indicator, j].squeeze() <= 0).mean()\n",
    "            dct = {}\n",
    "            dct[\"feature\"] = _col\n",
    "            dct[\"indicator\"] = _indicator_key\n",
    "            dct[\"pval\"] = pval_l\n",
    "            dct[\"tail\"] = \"left\"\n",
    "            dct[\"lag\"] = _lag\n",
    "            dcts.append(dct)\n",
    "\n",
    "            dct = {}\n",
    "            dct[\"feature\"] = _col\n",
    "            dct[\"indicator\"] = _indicator_key\n",
    "            dct[\"pval\"] = pval_r\n",
    "            dct[\"tail\"] = \"right\"\n",
    "            dct[\"lag\"] = _lag\n",
    "            dcts.append(dct)"
   ]
  },
  {
   "cell_type": "code",
   "execution_count": 28,
   "metadata": {},
   "outputs": [],
   "source": [
    "pval_df = pd.DataFrame(dcts)"
   ]
  },
  {
   "cell_type": "code",
   "execution_count": 29,
   "metadata": {},
   "outputs": [],
   "source": [
    "pval_df = pval_df.set_index([\"tail\", \"indicator\", \"feature\", \"lag\"])"
   ]
  },
  {
   "cell_type": "code",
   "execution_count": 30,
   "metadata": {},
   "outputs": [],
   "source": [
    "from statsmodels.stats.multitest import multipletests\n",
    "\n",
    "pval_df.values[:] = multipletests(pval_df.values.ravel(), method=\"holm\")[1].reshape(\n",
    "    pval_df.values.shape\n",
    ")"
   ]
  },
  {
   "cell_type": "code",
   "execution_count": 31,
   "metadata": {},
   "outputs": [
    {
     "data": {
      "image/png": "[encoded data removed]",
      "text/plain": [
       "<Figure size 480x380 with 2 Axes>"
      ]
     },
     "metadata": {},
     "output_type": "display_data"
    }
   ],
   "source": [
    "fig, ax = plt.subplots(1, 2, figsize=(2.4, 1.9), sharey=False, sharex=True)\n",
    "handles = []\n",
    "zorder = 0\n",
    "for i, (_area, _ax) in enumerate(zip(indicator_map.keys(), ax)):\n",
    "    for j, _feature in enumerate(features):\n",
    "        _handle = _ax.fill_between(\n",
    "            lags,\n",
    "            lo_ci[j, i],\n",
    "            hi_ci[j, i],\n",
    "            alpha=0.75,\n",
    "            fc=colors[_feature],\n",
    "            ec=\"k\",\n",
    "            lw=1,\n",
    "            zorder=zorder,\n",
    "        )\n",
    "        zorder += 1\n",
    "        handles.append(_handle)\n",
    "        _ax.plot(lags, mid_ci[j, i], color=colors[_feature], zorder=zorder)\n",
    "        zorder += 1\n",
    "    for _lag in plt_lags:\n",
    "        _ax.annotate(\"*\", (_lag, 0.4), fontsize=12)\n",
    "\n",
    "ax[0].set_ylim(-0.6, 0.5)\n",
    "ax[1].set_ylim(-0.7, 0.5)\n",
    "\n",
    "for i, (_area, _ax) in enumerate(zip(indicator_map.keys(), ax)):\n",
    "    use_pval_df = pval_df.xs((\"right\", _area), level=(\"tail\", \"indicator\"))\n",
    "    keys = features\n",
    "    key_level = \"feature\"\n",
    "    use_colors = [colors[_feature] for _feature in features]\n",
    "    plot_pval(use_pval_df[\"pval\"], keys, key_level, ax=_ax, colors=use_colors, offset=1)\n",
    "\n",
    "    use_pval_df = pval_df.xs((\"left\", _area), level=(\"tail\", \"indicator\"))\n",
    "    keys = features\n",
    "    key_level = \"feature\"\n",
    "    use_colors = [colors[_feature] for _feature in features]\n",
    "    plot_pval(\n",
    "        use_pval_df[\"pval\"],\n",
    "        keys,\n",
    "        key_level,\n",
    "        ax=_ax,\n",
    "        colors=use_colors,\n",
    "        position=\"bottom\",\n",
    "        offset=0.9,\n",
    "    )\n",
    "    _ax.set_title(_area, pad=10)\n",
    "\n",
    "\n",
    "sns.despine()\n",
    "clean_ticks(ax[0], \"y\", precision=2, zero_symmetry=False)\n",
    "clean_ticks(ax[1], \"y\", precision=2, zero_symmetry=False)\n",
    "\n",
    "for _ax in ax:\n",
    "    _ax.set_xscale(\"log\")\n",
    "    _ax.axhline(y=0, color=plt.rcParams[\"axes.edgecolor\"])\n",
    "fig.supxlabel(\"Bin size (syllables)\")\n",
    "ax[0].set_ylabel(\"Beta\")\n",
    "fig.tight_layout()\n",
    "savefig(\n",
    "    fig,\n",
    "    os.path.join(figure_cfg[\"store_dir\"], \"encoding_model_average_lag_scan\"),\n",
    "    bbox_inches=\"tight\",\n",
    "    dpi=900,\n",
    ")"
   ]
  },
  {
   "cell_type": "code",
   "execution_count": 32,
   "metadata": {},
   "outputs": [],
   "source": [
    "use_samples = deepcopy(samples)"
   ]
  },
  {
   "cell_type": "code",
   "execution_count": 33,
   "metadata": {},
   "outputs": [],
   "source": [
    "dfs = []\n",
    "for i, _area in enumerate(indicator_map.keys()):\n",
    "    for _lag in plt_lags:\n",
    "        plt_samples = deepcopy(use_samples[_lag])\n",
    "        plt_samples[\"w\"] = plt_samples[\"w\"][:, i, :].squeeze()\n",
    "        plt_samples[\"area\"] = _area\n",
    "        ny_cis = numpyro.diagnostics.hpdi(plt_samples[\"w\"], prob=0.99)\n",
    "        ny_cis = [ny_cis[0], np.quantile(plt_samples[\"w\"], 0.5, axis=0), ny_cis[1]]\n",
    "\n",
    "        cis = pd.DataFrame(ny_cis, index=[\"low\", \"mid\", \"high\"], columns=X_base.columns)\n",
    "        cis.index.name = \"ci\"\n",
    "        cis[\"lag\"] = _lag\n",
    "        cis[\"area\"] = _area\n",
    "        dfs.append(cis)"
   ]
  },
  {
   "cell_type": "code",
   "execution_count": 34,
   "metadata": {},
   "outputs": [],
   "source": [
    "ci_df = pd.concat(dfs).set_index([\"lag\", \"area\"], append=True)"
   ]
  },
  {
   "cell_type": "code",
   "execution_count": 35,
   "metadata": {},
   "outputs": [],
   "source": [
    "cis = ci_df.melt(ignore_index=False, var_name=\"feature\")\n",
    "cis = cis.set_index(\"feature\", append=True)"
   ]
  },
  {
   "cell_type": "code",
   "execution_count": 36,
   "metadata": {},
   "outputs": [],
   "source": [
    "plt_features = cis.index.get_level_values(\"feature\").unique().tolist()\n",
    "plt_features = [_ for _ in plt_features if \"dff\" not in _]"
   ]
  },
  {
   "cell_type": "code",
   "execution_count": 37,
   "metadata": {},
   "outputs": [
    {
     "data": {
      "text/plain": [
       "['count', 'entropy', 'velocity_2d_mm_global_bin']"
      ]
     },
     "execution_count": 37,
     "metadata": {},
     "output_type": "execute_result"
    }
   ],
   "source": [
    "plt_features"
   ]
  },
  {
   "cell_type": "code",
   "execution_count": 38,
   "metadata": {},
   "outputs": [],
   "source": [
    "label_map = {\n",
    "    \"velocity_2d_mm_global_bin\": \"velocity\",\n",
    "    \"entropy\": \"entropy\",\n",
    "    \"count\": \"syllable\\ncounts\",\n",
    "}"
   ]
  },
  {
   "cell_type": "code",
   "execution_count": 39,
   "metadata": {},
   "outputs": [],
   "source": [
    "setup_plotting_env()"
   ]
  },
  {
   "cell_type": "code",
   "execution_count": 40,
   "metadata": {},
   "outputs": [],
   "source": [
    "print_features = np.unique([_[:3] for _ in plt_features])\n",
    "suffix = f\"lags-{plt_lags}_feature-{print_features}\"\n",
    "features = cis.index.get_level_values(\"feature\").unique()\n",
    "nfeatures = list(samples.values())[0][\"w\"].shape[1]\n",
    "plt_areas = [\"dls\", \"dms\"]"
   ]
  },
  {
   "cell_type": "markdown",
   "metadata": {
    "tags": []
   },
   "source": [
    "##  Held-out (separate fits on all lags)"
   ]
  },
  {
   "cell_type": "code",
   "execution_count": 41,
   "metadata": {},
   "outputs": [],
   "source": [
    "whiten_data = True\n",
    "use_model = models.simple_regression\n",
    "select_cols = [\"count_100\", \"entropy_10\", \"velocity_2d_mm_global_bin_5\"]\n",
    "\n",
    "use_model_features = model_features[select_cols + y].copy()"
   ]
  },
  {
   "cell_type": "code",
   "execution_count": 42,
   "metadata": {},
   "outputs": [],
   "source": [
    "use_model_features[select_cols] = use_model_features[select_cols].transform(pd_zscore)"
   ]
  },
  {
   "cell_type": "code",
   "execution_count": 43,
   "metadata": {},
   "outputs": [],
   "source": [
    "X_base = use_model_features.iloc[:, :-1]\n",
    "Y_base = use_model_features.iloc[:, -1:]\n",
    "\n",
    "nans = np.isnan(X_base).any(axis=1) | np.isnan(Y_base).any(axis=1)\n",
    "X_base = X_base[~nans]\n",
    "Y_base = Y_base[~nans]\n",
    "powers = 1\n",
    "new_x = [X_base]\n",
    "for _power in range(2, powers + 1):\n",
    "    _new_x = X_base**_power\n",
    "    _new_x.columns = [f\"{_} ** {_power}\" for _ in _new_x.columns]\n",
    "    new_x.append(_new_x)\n",
    "X_base = pd.concat(new_x, axis=1)\n",
    "\n",
    "indicator_variables = [\"area\", \"mouse_id\"]\n",
    "feature_indicator, indicator_map = pd.factorize(\n",
    "    list(\n",
    "        zip(\n",
    "            use_model_features.index.get_level_values(\"area\").values,\n",
    "            use_model_features.index.get_level_values(\"mouse_id\").values,\n",
    "        )\n",
    "    )\n",
    ")\n",
    "indicator_map = pd.Series(indicator_map)"
   ]
  },
  {
   "cell_type": "code",
   "execution_count": 44,
   "metadata": {},
   "outputs": [],
   "source": [
    "if whiten_data:\n",
    "    from rl_analysis.util import whiten\n",
    "\n",
    "    X_base.values[:], W, _ = whiten(X_base.values, method=\"zca_cor\")"
   ]
  },
  {
   "cell_type": "code",
   "execution_count": 45,
   "metadata": {},
   "outputs": [],
   "source": [
    "syllable_cols = X_base.filter(regex=(\"duration|syllable|entropy|count|tm\")).columns\n",
    "scalars_cols = X_base.filter(regex=\"bin\").columns.difference(syllable_cols)"
   ]
  },
  {
   "cell_type": "code",
   "execution_count": 46,
   "metadata": {},
   "outputs": [],
   "source": [
    "syllable_idx = [X_base.columns.get_loc(c) for c in syllable_cols]\n",
    "scalar_idx = [X_base.columns.get_loc(c) for c in scalars_cols]"
   ]
  },
  {
   "cell_type": "code",
   "execution_count": 47,
   "metadata": {},
   "outputs": [],
   "source": [
    "splits = model_selection.RepeatedKFold(n_splits=5, n_repeats=50)"
   ]
  },
  {
   "cell_type": "code",
   "execution_count": 48,
   "metadata": {},
   "outputs": [],
   "source": [
    "X = X_base.copy().values\n",
    "Y = Y_base.copy().values"
   ]
  },
  {
   "cell_type": "code",
   "execution_count": 49,
   "metadata": {},
   "outputs": [],
   "source": [
    "preproc = preprocessing.StandardScaler()"
   ]
  },
  {
   "cell_type": "code",
   "execution_count": 50,
   "metadata": {
    "tags": []
   },
   "outputs": [
    {
     "data": {
      "application/vnd.jupyter.widget-view+json": {
       "model_id": "25ab7ada0bc64ca19bd2f6aae6ab567a",
       "version_major": 2,
       "version_minor": 0
      },
      "text/plain": [
       "  0%|          | 0/250 [00:00<?, ?it/s]"
      ]
     },
     "metadata": {},
     "output_type": "display_data"
    },
    {
     "name": "stdout",
     "output_type": "stream",
     "text": [
      "750\n"
     ]
    },
    {
     "name": "stderr",
     "output_type": "stream",
     "text": [
      "[Parallel(n_jobs=-1)]: Using backend LokyBackend with 128 concurrent workers.\n",
      "No GPU/TPU found, falling back to CPU. (Set TF_CPP_MIN_LOG_LEVEL=0 and rerun for more info.)\n",
      "No GPU/TPU found, falling back to CPU. (Set TF_CPP_MIN_LOG_LEVEL=0 and rerun for more info.)\n",
      "No GPU/TPU found, falling back to CPU. (Set TF_CPP_MIN_LOG_LEVEL=0 and rerun for more info.)\n",
      "No GPU/TPU found, falling back to CPU. (Set TF_CPP_MIN_LOG_LEVEL=0 and rerun for more info.)\n",
      "No GPU/TPU found, falling back to CPU. (Set TF_CPP_MIN_LOG_LEVEL=0 and rerun for more info.)\n",
      "No GPU/TPU found, falling back to CPU. (Set TF_CPP_MIN_LOG_LEVEL=0 and rerun for more info.)\n",
      "No GPU/TPU found, falling back to CPU. (Set TF_CPP_MIN_LOG_LEVEL=0 and rerun for more info.)\n",
      "No GPU/TPU found, falling back to CPU. (Set TF_CPP_MIN_LOG_LEVEL=0 and rerun for more info.)\n",
      "No GPU/TPU found, falling back to CPU. (Set TF_CPP_MIN_LOG_LEVEL=0 and rerun for more info.)\n",
      "No GPU/TPU found, falling back to CPU. (Set TF_CPP_MIN_LOG_LEVEL=0 and rerun for more info.)\n",
      "No GPU/TPU found, falling back to CPU. (Set TF_CPP_MIN_LOG_LEVEL=0 and rerun for more info.)\n",
      "No GPU/TPU found, falling back to CPU. (Set TF_CPP_MIN_LOG_LEVEL=0 and rerun for more info.)\n",
      "No GPU/TPU found, falling back to CPU. (Set TF_CPP_MIN_LOG_LEVEL=0 and rerun for more info.)\n",
      "No GPU/TPU found, falling back to CPU. (Set TF_CPP_MIN_LOG_LEVEL=0 and rerun for more info.)\n",
      "No GPU/TPU found, falling back to CPU. (Set TF_CPP_MIN_LOG_LEVEL=0 and rerun for more info.)\n",
      "No GPU/TPU found, falling back to CPU. (Set TF_CPP_MIN_LOG_LEVEL=0 and rerun for more info.)\n",
      "No GPU/TPU found, falling back to CPU. (Set TF_CPP_MIN_LOG_LEVEL=0 and rerun for more info.)\n",
      "No GPU/TPU found, falling back to CPU. (Set TF_CPP_MIN_LOG_LEVEL=0 and rerun for more info.)\n",
      "No GPU/TPU found, falling back to CPU. (Set TF_CPP_MIN_LOG_LEVEL=0 and rerun for more info.)\n",
      "No GPU/TPU found, falling back to CPU. (Set TF_CPP_MIN_LOG_LEVEL=0 and rerun for more info.)\n",
      "No GPU/TPU found, falling back to CPU. (Set TF_CPP_MIN_LOG_LEVEL=0 and rerun for more info.)\n",
      "No GPU/TPU found, falling back to CPU. (Set TF_CPP_MIN_LOG_LEVEL=0 and rerun for more info.)\n",
      "No GPU/TPU found, falling back to CPU. (Set TF_CPP_MIN_LOG_LEVEL=0 and rerun for more info.)\n",
      "No GPU/TPU found, falling back to CPU. (Set TF_CPP_MIN_LOG_LEVEL=0 and rerun for more info.)\n",
      "No GPU/TPU found, falling back to CPU. (Set TF_CPP_MIN_LOG_LEVEL=0 and rerun for more info.)\n",
      "No GPU/TPU found, falling back to CPU. (Set TF_CPP_MIN_LOG_LEVEL=0 and rerun for more info.)\n",
      "No GPU/TPU found, falling back to CPU. (Set TF_CPP_MIN_LOG_LEVEL=0 and rerun for more info.)\n",
      "No GPU/TPU found, falling back to CPU. (Set TF_CPP_MIN_LOG_LEVEL=0 and rerun for more info.)\n",
      "No GPU/TPU found, falling back to CPU. (Set TF_CPP_MIN_LOG_LEVEL=0 and rerun for more info.)\n",
      "No GPU/TPU found, falling back to CPU. (Set TF_CPP_MIN_LOG_LEVEL=0 and rerun for more info.)\n",
      "No GPU/TPU found, falling back to CPU. (Set TF_CPP_MIN_LOG_LEVEL=0 and rerun for more info.)\n",
      "No GPU/TPU found, falling back to CPU. (Set TF_CPP_MIN_LOG_LEVEL=0 and rerun for more info.)\n",
      "No GPU/TPU found, falling back to CPU. (Set TF_CPP_MIN_LOG_LEVEL=0 and rerun for more info.)\n",
      "No GPU/TPU found, falling back to CPU. (Set TF_CPP_MIN_LOG_LEVEL=0 and rerun for more info.)\n",
      "No GPU/TPU found, falling back to CPU. (Set TF_CPP_MIN_LOG_LEVEL=0 and rerun for more info.)\n",
      "No GPU/TPU found, falling back to CPU. (Set TF_CPP_MIN_LOG_LEVEL=0 and rerun for more info.)\n",
      "No GPU/TPU found, falling back to CPU. (Set TF_CPP_MIN_LOG_LEVEL=0 and rerun for more info.)\n",
      "No GPU/TPU found, falling back to CPU. (Set TF_CPP_MIN_LOG_LEVEL=0 and rerun for more info.)\n",
      "No GPU/TPU found, falling back to CPU. (Set TF_CPP_MIN_LOG_LEVEL=0 and rerun for more info.)\n",
      "No GPU/TPU found, falling back to CPU. (Set TF_CPP_MIN_LOG_LEVEL=0 and rerun for more info.)\n",
      "No GPU/TPU found, falling back to CPU. (Set TF_CPP_MIN_LOG_LEVEL=0 and rerun for more info.)\n",
      "No GPU/TPU found, falling back to CPU. (Set TF_CPP_MIN_LOG_LEVEL=0 and rerun for more info.)\n",
      "No GPU/TPU found, falling back to CPU. (Set TF_CPP_MIN_LOG_LEVEL=0 and rerun for more info.)\n",
      "No GPU/TPU found, falling back to CPU. (Set TF_CPP_MIN_LOG_LEVEL=0 and rerun for more info.)\n",
      "No GPU/TPU found, falling back to CPU. (Set TF_CPP_MIN_LOG_LEVEL=0 and rerun for more info.)\n",
      "No GPU/TPU found, falling back to CPU. (Set TF_CPP_MIN_LOG_LEVEL=0 and rerun for more info.)\n",
      "No GPU/TPU found, falling back to CPU. (Set TF_CPP_MIN_LOG_LEVEL=0 and rerun for more info.)\n",
      "No GPU/TPU found, falling back to CPU. (Set TF_CPP_MIN_LOG_LEVEL=0 and rerun for more info.)\n",
      "No GPU/TPU found, falling back to CPU. (Set TF_CPP_MIN_LOG_LEVEL=0 and rerun for more info.)\n",
      "No GPU/TPU found, falling back to CPU. (Set TF_CPP_MIN_LOG_LEVEL=0 and rerun for more info.)\n",
      "No GPU/TPU found, falling back to CPU. (Set TF_CPP_MIN_LOG_LEVEL=0 and rerun for more info.)\n",
      "No GPU/TPU found, falling back to CPU. (Set TF_CPP_MIN_LOG_LEVEL=0 and rerun for more info.)\n",
      "No GPU/TPU found, falling back to CPU. (Set TF_CPP_MIN_LOG_LEVEL=0 and rerun for more info.)\n",
      "No GPU/TPU found, falling back to CPU. (Set TF_CPP_MIN_LOG_LEVEL=0 and rerun for more info.)\n",
      "No GPU/TPU found, falling back to CPU. (Set TF_CPP_MIN_LOG_LEVEL=0 and rerun for more info.)\n",
      "No GPU/TPU found, falling back to CPU. (Set TF_CPP_MIN_LOG_LEVEL=0 and rerun for more info.)\n",
      "No GPU/TPU found, falling back to CPU. (Set TF_CPP_MIN_LOG_LEVEL=0 and rerun for more info.)\n",
      "No GPU/TPU found, falling back to CPU. (Set TF_CPP_MIN_LOG_LEVEL=0 and rerun for more info.)\n",
      "No GPU/TPU found, falling back to CPU. (Set TF_CPP_MIN_LOG_LEVEL=0 and rerun for more info.)\n",
      "No GPU/TPU found, falling back to CPU. (Set TF_CPP_MIN_LOG_LEVEL=0 and rerun for more info.)\n",
      "No GPU/TPU found, falling back to CPU. (Set TF_CPP_MIN_LOG_LEVEL=0 and rerun for more info.)\n",
      "No GPU/TPU found, falling back to CPU. (Set TF_CPP_MIN_LOG_LEVEL=0 and rerun for more info.)\n",
      "No GPU/TPU found, falling back to CPU. (Set TF_CPP_MIN_LOG_LEVEL=0 and rerun for more info.)\n",
      "No GPU/TPU found, falling back to CPU. (Set TF_CPP_MIN_LOG_LEVEL=0 and rerun for more info.)\n",
      "No GPU/TPU found, falling back to CPU. (Set TF_CPP_MIN_LOG_LEVEL=0 and rerun for more info.)\n",
      "No GPU/TPU found, falling back to CPU. (Set TF_CPP_MIN_LOG_LEVEL=0 and rerun for more info.)\n",
      "No GPU/TPU found, falling back to CPU. (Set TF_CPP_MIN_LOG_LEVEL=0 and rerun for more info.)\n",
      "No GPU/TPU found, falling back to CPU. (Set TF_CPP_MIN_LOG_LEVEL=0 and rerun for more info.)\n",
      "No GPU/TPU found, falling back to CPU. (Set TF_CPP_MIN_LOG_LEVEL=0 and rerun for more info.)\n",
      "No GPU/TPU found, falling back to CPU. (Set TF_CPP_MIN_LOG_LEVEL=0 and rerun for more info.)\n",
      "No GPU/TPU found, falling back to CPU. (Set TF_CPP_MIN_LOG_LEVEL=0 and rerun for more info.)\n",
      "No GPU/TPU found, falling back to CPU. (Set TF_CPP_MIN_LOG_LEVEL=0 and rerun for more info.)\n",
      "No GPU/TPU found, falling back to CPU. (Set TF_CPP_MIN_LOG_LEVEL=0 and rerun for more info.)\n",
      "No GPU/TPU found, falling back to CPU. (Set TF_CPP_MIN_LOG_LEVEL=0 and rerun for more info.)\n",
      "No GPU/TPU found, falling back to CPU. (Set TF_CPP_MIN_LOG_LEVEL=0 and rerun for more info.)\n",
      "No GPU/TPU found, falling back to CPU. (Set TF_CPP_MIN_LOG_LEVEL=0 and rerun for more info.)\n",
      "No GPU/TPU found, falling back to CPU. (Set TF_CPP_MIN_LOG_LEVEL=0 and rerun for more info.)\n",
      "No GPU/TPU found, falling back to CPU. (Set TF_CPP_MIN_LOG_LEVEL=0 and rerun for more info.)\n",
      "No GPU/TPU found, falling back to CPU. (Set TF_CPP_MIN_LOG_LEVEL=0 and rerun for more info.)\n",
      "No GPU/TPU found, falling back to CPU. (Set TF_CPP_MIN_LOG_LEVEL=0 and rerun for more info.)\n",
      "No GPU/TPU found, falling back to CPU. (Set TF_CPP_MIN_LOG_LEVEL=0 and rerun for more info.)\n",
      "No GPU/TPU found, falling back to CPU. (Set TF_CPP_MIN_LOG_LEVEL=0 and rerun for more info.)\n",
      "No GPU/TPU found, falling back to CPU. (Set TF_CPP_MIN_LOG_LEVEL=0 and rerun for more info.)\n",
      "No GPU/TPU found, falling back to CPU. (Set TF_CPP_MIN_LOG_LEVEL=0 and rerun for more info.)\n",
      "No GPU/TPU found, falling back to CPU. (Set TF_CPP_MIN_LOG_LEVEL=0 and rerun for more info.)\n",
      "No GPU/TPU found, falling back to CPU. (Set TF_CPP_MIN_LOG_LEVEL=0 and rerun for more info.)\n",
      "No GPU/TPU found, falling back to CPU. (Set TF_CPP_MIN_LOG_LEVEL=0 and rerun for more info.)\n",
      "No GPU/TPU found, falling back to CPU. (Set TF_CPP_MIN_LOG_LEVEL=0 and rerun for more info.)\n",
      "No GPU/TPU found, falling back to CPU. (Set TF_CPP_MIN_LOG_LEVEL=0 and rerun for more info.)\n",
      "No GPU/TPU found, falling back to CPU. (Set TF_CPP_MIN_LOG_LEVEL=0 and rerun for more info.)\n",
      "No GPU/TPU found, falling back to CPU. (Set TF_CPP_MIN_LOG_LEVEL=0 and rerun for more info.)\n",
      "No GPU/TPU found, falling back to CPU. (Set TF_CPP_MIN_LOG_LEVEL=0 and rerun for more info.)\n",
      "No GPU/TPU found, falling back to CPU. (Set TF_CPP_MIN_LOG_LEVEL=0 and rerun for more info.)\n",
      "No GPU/TPU found, falling back to CPU. (Set TF_CPP_MIN_LOG_LEVEL=0 and rerun for more info.)\n",
      "No GPU/TPU found, falling back to CPU. (Set TF_CPP_MIN_LOG_LEVEL=0 and rerun for more info.)\n",
      "No GPU/TPU found, falling back to CPU. (Set TF_CPP_MIN_LOG_LEVEL=0 and rerun for more info.)\n",
      "No GPU/TPU found, falling back to CPU. (Set TF_CPP_MIN_LOG_LEVEL=0 and rerun for more info.)\n",
      "No GPU/TPU found, falling back to CPU. (Set TF_CPP_MIN_LOG_LEVEL=0 and rerun for more info.)\n",
      "No GPU/TPU found, falling back to CPU. (Set TF_CPP_MIN_LOG_LEVEL=0 and rerun for more info.)\n",
      "No GPU/TPU found, falling back to CPU. (Set TF_CPP_MIN_LOG_LEVEL=0 and rerun for more info.)\n",
      "No GPU/TPU found, falling back to CPU. (Set TF_CPP_MIN_LOG_LEVEL=0 and rerun for more info.)\n",
      "No GPU/TPU found, falling back to CPU. (Set TF_CPP_MIN_LOG_LEVEL=0 and rerun for more info.)\n",
      "No GPU/TPU found, falling back to CPU. (Set TF_CPP_MIN_LOG_LEVEL=0 and rerun for more info.)\n",
      "No GPU/TPU found, falling back to CPU. (Set TF_CPP_MIN_LOG_LEVEL=0 and rerun for more info.)\n",
      "No GPU/TPU found, falling back to CPU. (Set TF_CPP_MIN_LOG_LEVEL=0 and rerun for more info.)\n",
      "No GPU/TPU found, falling back to CPU. (Set TF_CPP_MIN_LOG_LEVEL=0 and rerun for more info.)\n",
      "No GPU/TPU found, falling back to CPU. (Set TF_CPP_MIN_LOG_LEVEL=0 and rerun for more info.)\n",
      "No GPU/TPU found, falling back to CPU. (Set TF_CPP_MIN_LOG_LEVEL=0 and rerun for more info.)\n",
      "No GPU/TPU found, falling back to CPU. (Set TF_CPP_MIN_LOG_LEVEL=0 and rerun for more info.)\n",
      "No GPU/TPU found, falling back to CPU. (Set TF_CPP_MIN_LOG_LEVEL=0 and rerun for more info.)\n",
      "No GPU/TPU found, falling back to CPU. (Set TF_CPP_MIN_LOG_LEVEL=0 and rerun for more info.)\n",
      "No GPU/TPU found, falling back to CPU. (Set TF_CPP_MIN_LOG_LEVEL=0 and rerun for more info.)\n",
      "No GPU/TPU found, falling back to CPU. (Set TF_CPP_MIN_LOG_LEVEL=0 and rerun for more info.)\n",
      "No GPU/TPU found, falling back to CPU. (Set TF_CPP_MIN_LOG_LEVEL=0 and rerun for more info.)\n",
      "No GPU/TPU found, falling back to CPU. (Set TF_CPP_MIN_LOG_LEVEL=0 and rerun for more info.)\n",
      "No GPU/TPU found, falling back to CPU. (Set TF_CPP_MIN_LOG_LEVEL=0 and rerun for more info.)\n",
      "No GPU/TPU found, falling back to CPU. (Set TF_CPP_MIN_LOG_LEVEL=0 and rerun for more info.)\n",
      "No GPU/TPU found, falling back to CPU. (Set TF_CPP_MIN_LOG_LEVEL=0 and rerun for more info.)\n",
      "No GPU/TPU found, falling back to CPU. (Set TF_CPP_MIN_LOG_LEVEL=0 and rerun for more info.)\n",
      "No GPU/TPU found, falling back to CPU. (Set TF_CPP_MIN_LOG_LEVEL=0 and rerun for more info.)\n",
      "No GPU/TPU found, falling back to CPU. (Set TF_CPP_MIN_LOG_LEVEL=0 and rerun for more info.)\n",
      "No GPU/TPU found, falling back to CPU. (Set TF_CPP_MIN_LOG_LEVEL=0 and rerun for more info.)\n",
      "No GPU/TPU found, falling back to CPU. (Set TF_CPP_MIN_LOG_LEVEL=0 and rerun for more info.)\n",
      "No GPU/TPU found, falling back to CPU. (Set TF_CPP_MIN_LOG_LEVEL=0 and rerun for more info.)\n",
      "No GPU/TPU found, falling back to CPU. (Set TF_CPP_MIN_LOG_LEVEL=0 and rerun for more info.)\n",
      "No GPU/TPU found, falling back to CPU. (Set TF_CPP_MIN_LOG_LEVEL=0 and rerun for more info.)\n",
      "No GPU/TPU found, falling back to CPU. (Set TF_CPP_MIN_LOG_LEVEL=0 and rerun for more info.)\n",
      "No GPU/TPU found, falling back to CPU. (Set TF_CPP_MIN_LOG_LEVEL=0 and rerun for more info.)\n",
      "[Parallel(n_jobs=-1)]: Done   9 tasks      | elapsed:   12.6s\n",
      "[Parallel(n_jobs=-1)]: Done  32 tasks      | elapsed:   13.1s\n",
      "[Parallel(n_jobs=-1)]: Done  57 tasks      | elapsed:   14.0s\n",
      "[Parallel(n_jobs=-1)]: Done  82 tasks      | elapsed:   14.6s\n",
      "[Parallel(n_jobs=-1)]: Done 109 tasks      | elapsed:   15.2s\n",
      "[Parallel(n_jobs=-1)]: Done 136 tasks      | elapsed:   19.2s\n",
      "[Parallel(n_jobs=-1)]: Done 165 tasks      | elapsed:   21.8s\n",
      "[Parallel(n_jobs=-1)]: Done 194 tasks      | elapsed:   22.5s\n",
      "[Parallel(n_jobs=-1)]: Done 225 tasks      | elapsed:   23.5s\n",
      "[Parallel(n_jobs=-1)]: Done 256 tasks      | elapsed:   24.7s\n",
      "[Parallel(n_jobs=-1)]: Done 289 tasks      | elapsed:   28.6s\n",
      "[Parallel(n_jobs=-1)]: Done 322 tasks      | elapsed:   30.4s\n",
      "[Parallel(n_jobs=-1)]: Done 357 tasks      | elapsed:   31.7s\n",
      "[Parallel(n_jobs=-1)]: Done 392 tasks      | elapsed:   33.6s\n",
      "[Parallel(n_jobs=-1)]: Done 429 tasks      | elapsed:   36.9s\n",
      "[Parallel(n_jobs=-1)]: Done 466 tasks      | elapsed:   38.4s\n",
      "[Parallel(n_jobs=-1)]: Done 571 out of 750 | elapsed:   45.1s remaining:   14.1s\n",
      "[Parallel(n_jobs=-1)]: Done 647 out of 750 | elapsed:   47.9s remaining:    7.6s\n",
      "[Parallel(n_jobs=-1)]: Done 723 out of 750 | elapsed:   51.1s remaining:    1.9s\n",
      "[Parallel(n_jobs=-1)]: Done 750 out of 750 | elapsed:   52.4s finished\n"
     ]
    }
   ],
   "source": [
    "actual_values_store = []\n",
    "delays = []\n",
    "rng_key = random.PRNGKey(0)\n",
    "\n",
    "for train_idx, test_idx in tqdm(splits.split(X, Y), total=splits.get_n_splits()):\n",
    "    test_y = preproc.fit_transform(Y[test_idx]).ravel()\n",
    "    train_x, train_y = zscore(X[train_idx]), zscore(Y[train_idx]).ravel()\n",
    "    test_x = zscore(X[test_idx])\n",
    "    if feature_indicator is not None:\n",
    "        train_ind, test_ind = feature_indicator[train_idx], feature_indicator[test_idx]\n",
    "    else:\n",
    "        train_ind, test_ind = None, None\n",
    "\n",
    "    rng_key, rng_key_ = random.split(rng_key)\n",
    "\n",
    "    delays.append(\n",
    "        delayed(run_inference_and_ppc)(\n",
    "            train_x,\n",
    "            train_y,\n",
    "            test_x,\n",
    "            train_ind,\n",
    "            test_ind,\n",
    "            use_model,\n",
    "            ncpus=1,\n",
    "            preproc=preproc,\n",
    "            rng_key=rng_key_,\n",
    "        )\n",
    "    )\n",
    "    delays.append(\n",
    "        delayed(run_inference_and_ppc)(\n",
    "            train_x[:, syllable_idx],\n",
    "            train_y,\n",
    "            test_x[:, syllable_idx],\n",
    "            train_ind,\n",
    "            test_ind,\n",
    "            use_model,\n",
    "            ncpus=1,\n",
    "            preproc=preproc,\n",
    "            rng_key=rng_key_,\n",
    "        )\n",
    "    )\n",
    "    delays.append(\n",
    "        delayed(run_inference_and_ppc)(\n",
    "            train_x[:, scalar_idx],\n",
    "            train_y,\n",
    "            test_x[:, scalar_idx],\n",
    "            train_ind,\n",
    "            test_ind,\n",
    "            use_model,\n",
    "            ncpus=1,\n",
    "            preproc=preproc,\n",
    "            rng_key=rng_key_,\n",
    "        )\n",
    "    )\n",
    "    actual_values_store.append(preproc.inverse_transform(test_y[:, None]))\n",
    "print(len(delays))\n",
    "results = Parallel(verbose=10, n_jobs=-1)(delays)"
   ]
  },
  {
   "cell_type": "code",
   "execution_count": 51,
   "metadata": {},
   "outputs": [],
   "source": [
    "all_variables, syllables_only, scalars_only = results[::3], results[1::3], results[2::3]"
   ]
  },
  {
   "cell_type": "code",
   "execution_count": 52,
   "metadata": {},
   "outputs": [],
   "source": [
    "indicator_arr = [indicator_map.loc[_[1][\"indicator\"]].values for _ in all_variables]"
   ]
  },
  {
   "cell_type": "code",
   "execution_count": 53,
   "metadata": {},
   "outputs": [
    {
     "data": {
      "application/vnd.jupyter.widget-view+json": {
       "model_id": "5756c8c3bae849988ea586ee27c40510",
       "version_major": 2,
       "version_minor": 0
      },
      "text/plain": [
       "  0%|          | 0/22 [00:00<?, ?it/s]"
      ]
     },
     "metadata": {},
     "output_type": "display_data"
    }
   ],
   "source": [
    "predictions = {}\n",
    "predictions_scalars = {}\n",
    "predictions_syllables = {}\n",
    "actual_values = {}\n",
    "for _indicator in tqdm(indicator_map.values):\n",
    "    idx = [(pd.Series(_) == _indicator).values for _ in indicator_arr]\n",
    "    predictions[_indicator] = [\n",
    "        _[1][\"y\"].mean(axis=0)[_idx] for _idx, _ in zip(idx, all_variables)\n",
    "    ]\n",
    "    predictions_scalars[_indicator] = [\n",
    "        _[1][\"y\"].mean(axis=0)[_idx] for _idx, _ in zip(idx, scalars_only)\n",
    "    ]\n",
    "    predictions_syllables[_indicator] = [\n",
    "        _[1][\"y\"].mean(axis=0)[_idx] for _idx, _ in zip(idx, syllables_only)\n",
    "    ]\n",
    "    actual_values[_indicator] = [_[_idx] for _idx, _ in zip(idx, actual_values_store)]"
   ]
  },
  {
   "cell_type": "code",
   "execution_count": 54,
   "metadata": {},
   "outputs": [],
   "source": [
    "nshuffles = len(predictions_scalars[_indicator])"
   ]
  },
  {
   "cell_type": "code",
   "execution_count": 55,
   "metadata": {},
   "outputs": [],
   "source": [
    "from scipy.stats import pearsonr"
   ]
  },
  {
   "cell_type": "code",
   "execution_count": 56,
   "metadata": {},
   "outputs": [],
   "source": [
    "dcts = []\n",
    "for _indicator in indicator_map.values:\n",
    "    for i in range(nshuffles):\n",
    "        try:\n",
    "            r_scalar, _ = pearsonr(\n",
    "                (predictions_scalars[_indicator][i]).ravel(),\n",
    "                (actual_values[_indicator][i]).ravel(),\n",
    "            )\n",
    "            r_syllables, _ = pearsonr(\n",
    "                (predictions_syllables[_indicator][i]).ravel(),\n",
    "                (actual_values[_indicator][i]).ravel(),\n",
    "            )\n",
    "            r_all, _ = pearsonr(\n",
    "                predictions[_indicator][i].ravel(), actual_values[_indicator][i].ravel()\n",
    "            )\n",
    "        except ValueError:\n",
    "            continue\n",
    "        dct = {\"variable\": \"scalars\", \"r\": r_scalar, \"indicator\": _indicator, \"fold\": i}\n",
    "        dcts.append(dct)\n",
    "        dct = {\n",
    "            \"variable\": \"syllables\",\n",
    "            \"r\": r_syllables,\n",
    "            \"indicator\": _indicator,\n",
    "            \"fold\": i,\n",
    "        }\n",
    "        dcts.append(dct)\n",
    "        dct = {\"variable\": \"all\", \"r\": r_all, \"indicator\": _indicator, \"fold\": i}\n",
    "        dcts.append(dct)"
   ]
  },
  {
   "cell_type": "code",
   "execution_count": 57,
   "metadata": {},
   "outputs": [],
   "source": [
    "setup_plotting_env()"
   ]
  },
  {
   "cell_type": "code",
   "execution_count": 58,
   "metadata": {},
   "outputs": [],
   "source": [
    "plt_df = pd.DataFrame(dcts)\n",
    "plt_df_expand_indicator = (\n",
    "    plt_df[\"indicator\"]\n",
    "    .apply(pd.Series)\n",
    "    .rename(\n",
    "        columns=dict(\n",
    "            list(zip(np.arange(len(indicator_variables)), indicator_variables))\n",
    "        )\n",
    "    )\n",
    ")\n",
    "plt_df = plt_df.drop(\"indicator\", axis=1).join(plt_df_expand_indicator)"
   ]
  },
  {
   "cell_type": "code",
   "execution_count": 59,
   "metadata": {},
   "outputs": [],
   "source": [
    "plt_df[\"repeat\"] = np.floor(plt_df[\"fold\"] / splits.cvargs[\"n_splits\"]).astype(\"int\")"
   ]
  },
  {
   "cell_type": "code",
   "execution_count": 60,
   "metadata": {},
   "outputs": [
    {
     "data": {
      "image/png": "[encoded data removed]",
      "text/plain": [
       "<Figure size 262.5x700 with 2 Axes>"
      ]
     },
     "metadata": {},
     "output_type": "display_data"
    }
   ],
   "source": [
    "g = sns.catplot(\n",
    "    data=plt_df.groupby([\"variable\", \"area\", \"mouse_id\"]).mean().reset_index(),\n",
    "    x=\"variable\",\n",
    "    order=[\"scalars\", \"syllables\", \"all\"],\n",
    "    row=\"area\",\n",
    "    height=1.75,\n",
    "    aspect=0.75,\n",
    "    kind=\"box\",\n",
    "    showcaps=False,\n",
    "    showfliers=False,\n",
    "    sharey=True,\n",
    "    y=\"r\",\n",
    ")\n",
    "for _ax in g.axes.flat:\n",
    "    _ax.tick_params(\"x\", rotation=45)\n",
    "    _ax.set_xlabel(\"\")\n",
    "g.set_titles(col_template=\"{col_name}\")\n",
    "g.set(ylim=(-0.3, 0.7))\n",
    "g.refline(y=0)\n",
    "clean_ticks(g.axes.flat[0], \"y\", precision=2, zero_symmetry=False)\n",
    "savefig(\n",
    "    g.fig,\n",
    "    os.path.join(\n",
    "        figure_cfg[\"store_dir\"], f\"encoding_model_average_syllable_v_scalars_{suffix}\"\n",
    "    ),\n",
    "    bbox_inches=\"tight\",\n",
    ")"
   ]
  },
  {
   "cell_type": "code",
   "execution_count": 61,
   "metadata": {},
   "outputs": [],
   "source": [
    "dump_data = (\n",
    "    plt_df.groupby([\"area\", \"variable\", \"repeat\"])[\"r\"]\n",
    "    .mean()\n",
    "    .groupby([\"area\", \"variable\"])\n",
    "    .describe()\n",
    ")"
   ]
  },
  {
   "cell_type": "code",
   "execution_count": 62,
   "metadata": {},
   "outputs": [],
   "source": [
    "grouped_data = plt_df.groupby([\"area\", \"variable\", \"repeat\"])[\"r\"].mean()"
   ]
  },
  {
   "cell_type": "code",
   "execution_count": 63,
   "metadata": {},
   "outputs": [],
   "source": [
    "use_test = mannwhitneyu"
   ]
  },
  {
   "cell_type": "code",
   "execution_count": 64,
   "metadata": {},
   "outputs": [],
   "source": [
    "stats = {}\n",
    "stats[\"compare_r\"] = {}\n",
    "variables = grouped_data.index.get_level_values(\"variable\").unique()\n",
    "for _area in grouped_data.index.get_level_values(\"area\").unique():\n",
    "    stats[\"compare_r\"][_area] = {}\n",
    "\n",
    "    for _var1 in variables:\n",
    "        for _var2 in variables:\n",
    "            stat, p = use_test(\n",
    "                grouped_data.loc[_area, _var1], grouped_data.loc[_area, _var2]\n",
    "            )\n",
    "            comparison = f\"{_var1}-{_var2}\"\n",
    "            stats[\"compare_r\"][_area][comparison] = {}\n",
    "            stats[\"compare_r\"][_area][comparison][\"stat\"] = stat\n",
    "            stats[\"compare_r\"][_area][comparison][\"p\"] = p\n",
    "            stats[\"compare_r\"][_area][comparison][\"test\"] = str(use_test.__name__)\n",
    "            stats[\"compare_r\"][_area][comparison][\"n\"] = (\n",
    "                splits.get_n_splits() / splits.cvargs[\"n_splits\"]\n",
    "            )\n",
    "            stats[\"compare_r\"][_area][comparison][\n",
    "                \"n_definition\"\n",
    "            ] = \"Average r over repeated k-fold splits\""
   ]
  },
  {
   "cell_type": "code",
   "execution_count": 65,
   "metadata": {},
   "outputs": [],
   "source": [
    "concat_predictions_all = {k: np.concatenate(v) for k, v in predictions.items()}\n",
    "concat_predictions_scalars = {\n",
    "    k: np.concatenate(v) for k, v in predictions_scalars.items()\n",
    "}\n",
    "concat_predictions_syllables = {\n",
    "    k: np.concatenate(v) for k, v in predictions_syllables.items()\n",
    "}\n",
    "concat_actual_values = {k: np.concatenate(v) for k, v in actual_values.items()}"
   ]
  },
  {
   "cell_type": "code",
   "execution_count": 67,
   "metadata": {},
   "outputs": [],
   "source": [
    "dfs = []\n",
    "for k, v in concat_predictions_all.items():\n",
    "    _df = pd.DataFrame(data=v, columns=[\"prediction\"])\n",
    "    _df[\"indicator\"] = [k] * len(v)\n",
    "    _df[\"actual_value\"] = concat_actual_values[k]\n",
    "    _df[\"type\"] = \"all\"\n",
    "    dfs.append(_df)\n",
    "\n",
    "for k, v in concat_predictions_syllables.items():\n",
    "    _df = pd.DataFrame(data=v, columns=[\"prediction\"])\n",
    "    _df[\"indicator\"] = [k] * len(v)\n",
    "    _df[\"actual_value\"] = concat_actual_values[k]\n",
    "    _df[\"type\"] = \"syllable\"\n",
    "    dfs.append(_df)\n",
    "\n",
    "for k, v in concat_predictions_scalars.items():\n",
    "    _df = pd.DataFrame(data=v, columns=[\"prediction\"])\n",
    "    _df[\"indicator\"] = [k] * len(v)\n",
    "    _df[\"actual_value\"] = concat_actual_values[k]\n",
    "    _df[\"type\"] = \"scalar\"\n",
    "    dfs.append(_df)"
   ]
  },
  {
   "cell_type": "code",
   "execution_count": 68,
   "metadata": {},
   "outputs": [],
   "source": [
    "prediction_df = pd.concat(dfs).reset_index(drop=True)\n",
    "prediction_df_expand_indicator = (\n",
    "    prediction_df[\"indicator\"]\n",
    "    .apply(pd.Series)\n",
    "    .rename(\n",
    "        columns=dict(\n",
    "            list(zip(np.arange(len(indicator_variables)), indicator_variables))\n",
    "        )\n",
    "    )\n",
    ")\n",
    "prediction_df = prediction_df.drop(\"indicator\", axis=1).join(\n",
    "    prediction_df_expand_indicator\n",
    ")"
   ]
  },
  {
   "cell_type": "code",
   "execution_count": 69,
   "metadata": {},
   "outputs": [],
   "source": [
    "shuffle_by = [\"area\", \"mouse_id\", \"type\"]"
   ]
  },
  {
   "cell_type": "code",
   "execution_count": 70,
   "metadata": {},
   "outputs": [],
   "source": [
    "overall_r = (\n",
    "    prediction_df.groupby(shuffle_by).corr().xs(\"actual_value\", level=-1)[\"prediction\"]\n",
    ")\n",
    "indicators = list(overall_r.index)"
   ]
  },
  {
   "cell_type": "code",
   "execution_count": 71,
   "metadata": {},
   "outputs": [
    {
     "data": {
      "text/plain": [
       "area  type    \n",
       "dls   all         0.462067\n",
       "      scalar      0.394343\n",
       "      syllable    0.216737\n",
       "dms   all         0.289860\n",
       "      scalar      0.349807\n",
       "      syllable   -0.154077\n",
       "Name: prediction, dtype: float64"
      ]
     },
     "execution_count": 71,
     "metadata": {},
     "output_type": "execute_result"
    }
   ],
   "source": [
    "overall_r.groupby([\"area\", \"type\"]).mean()"
   ]
  },
  {
   "cell_type": "code",
   "execution_count": 72,
   "metadata": {},
   "outputs": [],
   "source": [
    "rng = np.random.default_rng(0)"
   ]
  },
  {
   "cell_type": "code",
   "execution_count": 73,
   "metadata": {},
   "outputs": [],
   "source": [
    "use_prediction_df = prediction_df.set_index(overall_r.index.names)\n",
    "types = use_prediction_df.index.get_level_values(\"type\").unique()"
   ]
  },
  {
   "cell_type": "code",
   "execution_count": 74,
   "metadata": {},
   "outputs": [],
   "source": [
    "nshuffles = 1000"
   ]
  },
  {
   "cell_type": "code",
   "execution_count": 75,
   "metadata": {},
   "outputs": [
    {
     "data": {
      "application/vnd.jupyter.widget-view+json": {
       "model_id": "c911f6f967c24f6db2ddbe902208b9a2",
       "version_major": 2,
       "version_minor": 0
      },
      "text/plain": [
       "  0%|          | 0/66 [00:00<?, ?it/s]"
      ]
     },
     "metadata": {},
     "output_type": "display_data"
    },
    {
     "name": "stderr",
     "output_type": "stream",
     "text": [
      "/tmp/ipykernel_1443209/342572105.py:6: PerformanceWarning: indexing past lexsort depth may impact performance.\n",
      "  use_vals = use_prediction_df.xs(_indicator)\n"
     ]
    }
   ],
   "source": [
    "dcts = []\n",
    "shuffles = {}\n",
    "for _indicator in tqdm(indicators):\n",
    "    shuffles[_area] = []\n",
    "    for _shuffle in range(nshuffles):\n",
    "        use_vals = use_prediction_df.xs(_indicator)\n",
    "        x = use_vals[\"actual_value\"]\n",
    "        y = use_vals[\"prediction\"]\n",
    "        r, p = pearsonr(x, rng.permutation(y))\n",
    "        dct = {\"indicator\": _indicator, \"r\": r, \"shuffle\": _shuffle}\n",
    "        dcts.append(dct)"
   ]
  },
  {
   "cell_type": "code",
   "execution_count": 76,
   "metadata": {},
   "outputs": [],
   "source": [
    "shuffle_df = pd.DataFrame(dcts)\n",
    "shuffle_df_expand_indicator = (\n",
    "    shuffle_df[\"indicator\"]\n",
    "    .apply(pd.Series)\n",
    "    .rename(\n",
    "        columns=dict(list(zip(np.arange(len(overall_r.index)), overall_r.index.names)))\n",
    "    )\n",
    ")\n",
    "shuffle_df = shuffle_df.drop(\"indicator\", axis=1).join(shuffle_df_expand_indicator)"
   ]
  },
  {
   "cell_type": "code",
   "execution_count": 77,
   "metadata": {},
   "outputs": [],
   "source": [
    "shuffle_bins = np.linspace(-0.2, 0.2, 100)"
   ]
  },
  {
   "cell_type": "code",
   "execution_count": 78,
   "metadata": {},
   "outputs": [],
   "source": [
    "def get_z(x, y, bw_adjust=1):\n",
    "    from scipy.stats import gaussian_kde\n",
    "\n",
    "    xy = np.vstack([x, y])\n",
    "    kernel = gaussian_kde(xy)\n",
    "    kernel.set_bandwidth(kernel.scotts_factor() * bw_adjust)\n",
    "    z = kernel(xy)\n",
    "    return z"
   ]
  },
  {
   "cell_type": "code",
   "execution_count": 79,
   "metadata": {},
   "outputs": [],
   "source": [
    "area_r = overall_r.groupby([\"type\", \"area\"]).mean()"
   ]
  },
  {
   "cell_type": "code",
   "execution_count": 80,
   "metadata": {},
   "outputs": [
    {
     "name": "stderr",
     "output_type": "stream",
     "text": [
      "/tmp/ipykernel_1443209/2505686104.py:1: FutureWarning: The default value of numeric_only in DataFrameGroupBy.mean is deprecated. In a future version, numeric_only will default to False. Either specify numeric_only or select only columns which should be valid for the function.\n",
      "  area_shuffle_r = shuffle_df.groupby([\"type\", \"area\", \"shuffle\"]).mean()[\"r\"]\n"
     ]
    }
   ],
   "source": [
    "area_shuffle_r = shuffle_df.groupby([\"type\", \"area\", \"shuffle\"]).mean()[\"r\"]"
   ]
  },
  {
   "cell_type": "code",
   "execution_count": 81,
   "metadata": {},
   "outputs": [
    {
     "data": {
      "image/png": "[encoded data removed]",
      "text/plain": [
       "<Figure size 500x680 with 4 Axes>"
      ]
     },
     "metadata": {},
     "output_type": "display_data"
    }
   ],
   "source": [
    "fig, ax = plt.subplots(\n",
    "    2,\n",
    "    2,\n",
    "    figsize=(2.5, 3.4),\n",
    "    gridspec_kw={\"width_ratios\": [2, 1]},\n",
    "    sharex=\"col\",\n",
    "    sharey=\"col\",\n",
    ")\n",
    "for _area, rax in zip([\"dls\", \"dms\"], ax):\n",
    "\n",
    "    data = prediction_df.loc[\n",
    "        (prediction_df[\"area\"] == _area) & (prediction_df[\"type\"] == \"all\")\n",
    "    ]\n",
    "    x = data[\"prediction\"].values\n",
    "    y = data[\"actual_value\"].values\n",
    "\n",
    "    z = get_z(x, y, 1)\n",
    "    z /= z.max()\n",
    "\n",
    "    rax[0].scatter(\n",
    "        x,\n",
    "        y,\n",
    "        c=z,\n",
    "        s=5,\n",
    "        cmap=\"inferno\",\n",
    "        alpha=np.clip(z, 0.15, 0.8),\n",
    "        rasterized=True,\n",
    "        clip_on=True,\n",
    "    )\n",
    "\n",
    "    sns.regplot(\n",
    "        data=data,\n",
    "        x=\"prediction\",\n",
    "        y=\"actual_value\",\n",
    "        scatter=False,\n",
    "        ax=rax[0],\n",
    "    )\n",
    "\n",
    "    rax[0].axhline(y=0, zorder=-300, color=plt.rcParams[\"axes.edgecolor\"])\n",
    "    rax[0].set_title(_area)\n",
    "    rax[0].set_ylabel(\"Actual dF/F0\")\n",
    "    rax[0].set_xlabel(\"Predicted dF/F0\")\n",
    "    r = area_r.loc[\"all\", _area]\n",
    "    p = (r < area_shuffle_r.loc[\"all\", _area]).mean()\n",
    "\n",
    "    rax[0].text(0.3, -0.5, f\"r={r:.02f}\\n{format_pval(p)[0]}\", fontsize=7)\n",
    "    sns.histplot(\n",
    "        area_shuffle_r.loc[\"all\", _area],\n",
    "        ax=rax[1],\n",
    "        bins=shuffle_bins,\n",
    "        color=[0.4, 0.4, 0.4],\n",
    "        element=\"step\",\n",
    "        fill=True,\n",
    "        ec=None,\n",
    "        lw=0,\n",
    "    )\n",
    "\n",
    "    rax[1].axvline(x=area_r.loc[\"all\", _area])\n",
    "    rax[1].set_ylabel(rax[1].get_ylabel(), labelpad=-15)\n",
    "    rax[1].set_xlim(-0.2, 0.55)\n",
    "rax[0].set_xlim(-0.75, 0.75)\n",
    "rax[0].set_ylim(-0.75, 0.75)\n",
    "\n",
    "ax[0][0].set_xlabel(\"\")\n",
    "clean_ticks(rax[0], \"x\", precision=1, dtype=float, zero_symmetry=True)\n",
    "clean_ticks(rax[0], \"y\", precision=1, dtype=float, zero_symmetry=True)\n",
    "clean_ticks(rax[1], \"y\", precision=-1, dtype=int)\n",
    "clean_ticks(rax[1], \"x\", precision=1, dtype=float, zero_symmetry=False)\n",
    "fig.tight_layout()\n",
    "sns.despine()\n",
    "savefig(\n",
    "    fig,\n",
    "    os.path.join(\n",
    "        figure_cfg[\"store_dir\"],\n",
    "        f\"encoding_model_average_predictions_scatter_{suffix}_inverse\",\n",
    "    ),\n",
    "    bbox_inches=\"tight\",\n",
    "    dpi=900,\n",
    ")"
   ]
  },
  {
   "cell_type": "code",
   "execution_count": 82,
   "metadata": {},
   "outputs": [
    {
     "data": {
      "text/plain": [
       "type      area\n",
       "all       dls     0.462067\n",
       "          dms     0.289860\n",
       "scalar    dls     0.394343\n",
       "          dms     0.349807\n",
       "syllable  dls     0.216737\n",
       "          dms    -0.154077\n",
       "Name: prediction, dtype: float64"
      ]
     },
     "execution_count": 82,
     "metadata": {},
     "output_type": "execute_result"
    }
   ],
   "source": [
    "area_r"
   ]
  },
  {
   "cell_type": "code",
   "execution_count": 83,
   "metadata": {},
   "outputs": [
    {
     "data": {
      "text/plain": [
       "[(('all', 'dls'), 0.4620674944869442),\n",
       " (('all', 'dms'), 0.2898602224223845),\n",
       " (('scalar', 'dls'), 0.39434304272306914),\n",
       " (('scalar', 'dms'), 0.3498067312230658),\n",
       " (('syllable', 'dls'), 0.21673695362416043),\n",
       " (('syllable', 'dms'), -0.1540766606336678)]"
      ]
     },
     "execution_count": 83,
     "metadata": {},
     "output_type": "execute_result"
    }
   ],
   "source": [
    "list(area_r.items())"
   ]
  },
  {
   "cell_type": "code",
   "execution_count": 84,
   "metadata": {},
   "outputs": [],
   "source": [
    "# stats[\"grand_r\"] = {}\n",
    "stats[\"n\"] = {}\n",
    "\n",
    "for k, v in area_r.items():\n",
    "    _type, _area = k\n",
    "    r = v\n",
    "    use_key = f\"grand_r_{_type}_{_area}\"\n",
    "    stats[use_key] = {}\n",
    "    stats[use_key][\"r\"] = r\n",
    "    stats[use_key][\"p\"] = (r < area_shuffle_r.loc[k]).mean()\n",
    "    stats[use_key][\"test\"] = \"Comparison to shuffle\"\n",
    "    stats[\"n\"] = len(use_model_features.xs(_area, level=\"area\"))\n",
    "    stats[\"n_definition\"] = \"Mouse/syllable pairs per time bin\""
   ]
  },
  {
   "cell_type": "code",
   "execution_count": 85,
   "metadata": {},
   "outputs": [],
   "source": [
    "with open(\n",
    "    os.path.join(proc_dirs[\"dlight\"], \"stats_encoding_model_average_variant.toml\"), \"w\"\n",
    ") as f:\n",
    "    toml.dump(stats, f)"
   ]
  },
  {
   "cell_type": "code",
   "execution_count": 86,
   "metadata": {},
   "outputs": [],
   "source": [
    "plt_df.to_parquet(\n",
    "    os.path.join(proc_dirs[\"dlight\"], \"encoding_model_average_variant_results.parquet\")\n",
    ")"
   ]
  },
  {
   "cell_type": "code",
   "execution_count": null,
   "metadata": {},
   "outputs": [],
   "source": []
  },
  {
   "cell_type": "code",
   "execution_count": null,
   "metadata": {},
   "outputs": [],
   "source": []
  }
 ],
 "metadata": {
  "kernelspec": {
   "display_name": "Python [conda env:spont-da]",
   "language": "python",
   "name": "conda-env-spont-da-py"
  },
  "language_info": {
   "codemirror_mode": {
    "name": "ipython",
    "version": 3
   },
   "file_extension": ".py",
   "mimetype": "text/x-python",
   "name": "python",
   "nbconvert_exporter": "python",
   "pygments_lexer": "ipython3",
   "version": "3.10.8"
  },
  "widgets": {
   "application/vnd.jupyter.widget-state+json": {
    "state": {
     "015bf6f85aa04633a7dda0daff5612bd": {
      "model_module": "@jupyter-widgets/controls",
      "model_module_version": "1.5.0",
      "model_name": "ProgressStyleModel",
      "state": {
       "description_width": "initial"
      }
     },
     "0188fa3b32884bd58c54d1a0dcfd94c6": {
      "model_module": "@jupyter-widgets/controls",
      "model_module_version": "1.5.0",
      "model_name": "HBoxModel",
      "state": {
       "children": [
        "IPY_MODEL_e454c6c2890c4084acc85983dce47fc4",
        "IPY_MODEL_9cbd5d01284748c49f2a5bfe4ae97d31"
       ],
       "layout": "IPY_MODEL_74ffb9908c62431bb196de0795f6645a"
      }
     },
     "026a1bcdae5346699365e48aa6cace58": {
      "model_module": "@jupyter-widgets/controls",
      "model_module_version": "1.5.0",
      "model_name": "HBoxModel",
      "state": {
       "children": [
        "IPY_MODEL_45956762fdd24175b0bd279598057b39",
        "IPY_MODEL_bb4fd7b1f691458b81bf0e582f236f4f"
       ],
       "layout": "IPY_MODEL_6d0eb327a9884d028714d4f9f799cc9c"
      }
     },
     "05cd2d8f5b15457fbeb14dda0bfc2e46": {
      "model_module": "@jupyter-widgets/base",
      "model_module_version": "1.2.0",
      "model_name": "LayoutModel",
      "state": {}
     },
     "0b132e4db48a4409bd54ed95b919c314": {
      "model_module": "@jupyter-widgets/base",
      "model_module_version": "1.2.0",
      "model_name": "LayoutModel",
      "state": {}
     },
     "0e4df3dad9214540af92b992cd72eeea": {
      "model_module": "@jupyter-widgets/controls",
      "model_module_version": "1.5.0",
      "model_name": "DescriptionStyleModel",
      "state": {
       "description_width": ""
      }
     },
     "116a29c654a74edf82fb4dd362d55764": {
      "model_module": "@jupyter-widgets/controls",
      "model_module_version": "1.5.0",
      "model_name": "DescriptionStyleModel",
      "state": {
       "description_width": ""
      }
     },
     "1628a141025c4f8aadb39d8ecfb72d73": {
      "model_module": "@jupyter-widgets/base",
      "model_module_version": "1.2.0",
      "model_name": "LayoutModel",
      "state": {}
     },
     "1d5cb71772c0454fa805233742191477": {
      "model_module": "@jupyter-widgets/base",
      "model_module_version": "1.2.0",
      "model_name": "LayoutModel",
      "state": {}
     },
     "1fd56e9ad55a4f1499e43591c86fcc66": {
      "model_module": "@jupyter-widgets/controls",
      "model_module_version": "1.5.0",
      "model_name": "HBoxModel",
      "state": {
       "children": [
        "IPY_MODEL_31d89422cbd44fe99dd87f02d05710f8",
        "IPY_MODEL_b1b0f0d12602417e9f2576ec69a9ce43"
       ],
       "layout": "IPY_MODEL_b0c404ba9e534008a062bc1df73e00e2"
      }
     },
     "28a919f2abbc48fcaf8b76eed040e97f": {
      "model_module": "@jupyter-widgets/controls",
      "model_module_version": "1.5.0",
      "model_name": "FloatProgressModel",
      "state": {
       "bar_style": "success",
       "description": "100%",
       "layout": "IPY_MODEL_930f1462cb034ad8baf8752382ec8eab",
       "max": 54404,
       "style": "IPY_MODEL_015bf6f85aa04633a7dda0daff5612bd",
       "value": 54404
      }
     },
     "2a05def7df604aefb1063c42a442a9cc": {
      "model_module": "@jupyter-widgets/controls",
      "model_module_version": "1.5.0",
      "model_name": "HTMLModel",
      "state": {
       "layout": "IPY_MODEL_6d904ec8d96a4c6c8e816d5d6a4b7222",
       "style": "IPY_MODEL_116a29c654a74edf82fb4dd362d55764",
       "value": " 1080/1080 [01:05&lt;00:00, 16.42it/s]"
      }
     },
     "2d52003cf5e64a319d8b3f8395672374": {
      "model_module": "@jupyter-widgets/controls",
      "model_module_version": "1.5.0",
      "model_name": "FloatProgressModel",
      "state": {
       "bar_style": "success",
       "description": "100%",
       "layout": "IPY_MODEL_5398069d757043e0b218cd9540132242",
       "max": 54404,
       "style": "IPY_MODEL_ea85ab1c5e99411c8b72c69f140fcf63",
       "value": 54404
      }
     },
     "30ecdd1e161145f3b0cea2da2b5ed087": {
      "model_module": "@jupyter-widgets/controls",
      "model_module_version": "1.5.0",
      "model_name": "DescriptionStyleModel",
      "state": {
       "description_width": ""
      }
     },
     "3111470fa018471d94ccda8b2b65e951": {
      "model_module": "@jupyter-widgets/controls",
      "model_module_version": "1.5.0",
      "model_name": "HBoxModel",
      "state": {
       "children": [
        "IPY_MODEL_b88c6de73384477abb6afd2e93eed85d",
        "IPY_MODEL_89a07ff193214c5d9374f03786bd1c98"
       ],
       "layout": "IPY_MODEL_dfcfb5b728e64d50938fb47cda7c18dd"
      }
     },
     "3181571a0f5d4473b487a05a5b0d229e": {
      "model_module": "@jupyter-widgets/controls",
      "model_module_version": "1.5.0",
      "model_name": "HBoxModel",
      "state": {
       "children": [
        "IPY_MODEL_2d52003cf5e64a319d8b3f8395672374",
        "IPY_MODEL_f766ce281f2b439c9f477a1fd9375542"
       ],
       "layout": "IPY_MODEL_3b2d57676262459690f598d5808383eb"
      }
     },
     "31d89422cbd44fe99dd87f02d05710f8": {
      "model_module": "@jupyter-widgets/controls",
      "model_module_version": "1.5.0",
      "model_name": "FloatProgressModel",
      "state": {
       "bar_style": "success",
       "description": "100%",
       "layout": "IPY_MODEL_d92bf18225aa4456be58160b521f607f",
       "max": 54404,
       "style": "IPY_MODEL_601bdf1dea7f4c58b70d501d27d161b2",
       "value": 54404
      }
     },
     "339b4b8e25d94e36bf24c329900ca9dd": {
      "model_module": "@jupyter-widgets/controls",
      "model_module_version": "1.5.0",
      "model_name": "HBoxModel",
      "state": {
       "children": [
        "IPY_MODEL_f201d480ab45492894affaa7dacc71e6",
        "IPY_MODEL_2a05def7df604aefb1063c42a442a9cc"
       ],
       "layout": "IPY_MODEL_cf2e01f46e4648719127f85aa3cc9857"
      }
     },
     "3509b38326ff44d9880d3c56978a67b1": {
      "model_module": "@jupyter-widgets/controls",
      "model_module_version": "1.5.0",
      "model_name": "ProgressStyleModel",
      "state": {
       "description_width": "initial"
      }
     },
     "366d29ede43645aba4c8946cd9553dca": {
      "model_module": "@jupyter-widgets/base",
      "model_module_version": "1.2.0",
      "model_name": "LayoutModel",
      "state": {}
     },
     "3b2d57676262459690f598d5808383eb": {
      "model_module": "@jupyter-widgets/base",
      "model_module_version": "1.2.0",
      "model_name": "LayoutModel",
      "state": {}
     },
     "3c845b383ebb400a8870b7723735df43": {
      "model_module": "@jupyter-widgets/controls",
      "model_module_version": "1.5.0",
      "model_name": "FloatProgressModel",
      "state": {
       "bar_style": "success",
       "description": "100%",
       "layout": "IPY_MODEL_1628a141025c4f8aadb39d8ecfb72d73",
       "max": 1080,
       "style": "IPY_MODEL_3509b38326ff44d9880d3c56978a67b1",
       "value": 1080
      }
     },
     "401964b01792439f923bfad8b3a96923": {
      "model_module": "@jupyter-widgets/controls",
      "model_module_version": "1.5.0",
      "model_name": "ProgressStyleModel",
      "state": {
       "description_width": "initial"
      }
     },
     "45956762fdd24175b0bd279598057b39": {
      "model_module": "@jupyter-widgets/controls",
      "model_module_version": "1.5.0",
      "model_name": "FloatProgressModel",
      "state": {
       "bar_style": "success",
       "description": "100%",
       "layout": "IPY_MODEL_1d5cb71772c0454fa805233742191477",
       "max": 54404,
       "style": "IPY_MODEL_8ef6d764628f4e64b399545ab6527759",
       "value": 54404
      }
     },
     "4b0431f5fd4d4122b15c6a719d4cbe2a": {
      "model_module": "@jupyter-widgets/controls",
      "model_module_version": "1.5.0",
      "model_name": "DescriptionStyleModel",
      "state": {
       "description_width": ""
      }
     },
     "4e5cc1bc2777405dbd8829fce162fca1": {
      "model_module": "@jupyter-widgets/controls",
      "model_module_version": "1.5.0",
      "model_name": "HTMLModel",
      "state": {
       "layout": "IPY_MODEL_5c89955369cb4da2b1b4cceaf9ce2ccb",
       "style": "IPY_MODEL_c654f16f8c2143b7a45125b4b8b6f7b6",
       "value": " 1080/1080 [00:12&lt;00:00, 88.77it/s]"
      }
     },
     "5398069d757043e0b218cd9540132242": {
      "model_module": "@jupyter-widgets/base",
      "model_module_version": "1.2.0",
      "model_name": "LayoutModel",
      "state": {}
     },
     "56f1fdaa4d0a45ef903bdd0c2934fa96": {
      "model_module": "@jupyter-widgets/base",
      "model_module_version": "1.2.0",
      "model_name": "LayoutModel",
      "state": {}
     },
     "5c89955369cb4da2b1b4cceaf9ce2ccb": {
      "model_module": "@jupyter-widgets/base",
      "model_module_version": "1.2.0",
      "model_name": "LayoutModel",
      "state": {}
     },
     "601bdf1dea7f4c58b70d501d27d161b2": {
      "model_module": "@jupyter-widgets/controls",
      "model_module_version": "1.5.0",
      "model_name": "ProgressStyleModel",
      "state": {
       "description_width": "initial"
      }
     },
     "606d96232d354b0fa8b740c7ea160fb8": {
      "model_module": "@jupyter-widgets/base",
      "model_module_version": "1.2.0",
      "model_name": "LayoutModel",
      "state": {}
     },
     "67c2f837fd494a209cd1149005350c08": {
      "model_module": "@jupyter-widgets/base",
      "model_module_version": "1.2.0",
      "model_name": "LayoutModel",
      "state": {}
     },
     "6ae9d298b1944e37ac0ac7760c4454bd": {
      "model_module": "@jupyter-widgets/base",
      "model_module_version": "1.2.0",
      "model_name": "LayoutModel",
      "state": {}
     },
     "6d0eb327a9884d028714d4f9f799cc9c": {
      "model_module": "@jupyter-widgets/base",
      "model_module_version": "1.2.0",
      "model_name": "LayoutModel",
      "state": {}
     },
     "6d904ec8d96a4c6c8e816d5d6a4b7222": {
      "model_module": "@jupyter-widgets/base",
      "model_module_version": "1.2.0",
      "model_name": "LayoutModel",
      "state": {}
     },
     "6f00736114674d6fa4235fab7ea66987": {
      "model_module": "@jupyter-widgets/controls",
      "model_module_version": "1.5.0",
      "model_name": "HTMLModel",
      "state": {
       "layout": "IPY_MODEL_0b132e4db48a4409bd54ed95b919c314",
       "style": "IPY_MODEL_f2d2ce28af8445e6b6997326e9585282",
       "value": " 54404/54404 [01:12&lt;00:00, 747.23it/s]"
      }
     },
     "72865a63c24b4e6c957091bd4f17ff36": {
      "model_module": "@jupyter-widgets/controls",
      "model_module_version": "1.5.0",
      "model_name": "FloatProgressModel",
      "state": {
       "bar_style": "success",
       "description": "100%",
       "layout": "IPY_MODEL_dd953a20354a43cd92f2e445d5394dbf",
       "max": 1080,
       "style": "IPY_MODEL_b757ed952a9d486fa7a37bc574536832",
       "value": 1080
      }
     },
     "72e679171ac746b08570af95b76fd259": {
      "model_module": "@jupyter-widgets/controls",
      "model_module_version": "1.5.0",
      "model_name": "HBoxModel",
      "state": {
       "children": [
        "IPY_MODEL_72865a63c24b4e6c957091bd4f17ff36",
        "IPY_MODEL_9fb7a3e3bddb4a6e8575c0f84be76682"
       ],
       "layout": "IPY_MODEL_bb8945d47283432184c4bb9ec975abfc"
      }
     },
     "736c15b2871647a2a556f64f4277a4d4": {
      "model_module": "@jupyter-widgets/base",
      "model_module_version": "1.2.0",
      "model_name": "LayoutModel",
      "state": {}
     },
     "74ffb9908c62431bb196de0795f6645a": {
      "model_module": "@jupyter-widgets/base",
      "model_module_version": "1.2.0",
      "model_name": "LayoutModel",
      "state": {}
     },
     "78e8e4b82eaf466bafdd8e7d39b1010c": {
      "model_module": "@jupyter-widgets/base",
      "model_module_version": "1.2.0",
      "model_name": "LayoutModel",
      "state": {}
     },
     "89a07ff193214c5d9374f03786bd1c98": {
      "model_module": "@jupyter-widgets/controls",
      "model_module_version": "1.5.0",
      "model_name": "HTMLModel",
      "state": {
       "layout": "IPY_MODEL_e267c04e84be44409271ece8c0e4c19a",
       "style": "IPY_MODEL_0e4df3dad9214540af92b992cd72eeea",
       "value": " 54404/54404 [01:19&lt;00:00, 687.67it/s]"
      }
     },
     "8ab41df5d90d45fbbb292d7d052e94c2": {
      "model_module": "@jupyter-widgets/controls",
      "model_module_version": "1.5.0",
      "model_name": "FloatProgressModel",
      "state": {
       "bar_style": "success",
       "description": "100%",
       "layout": "IPY_MODEL_ac8002e8ac0d43f5984985f22a70f7b4",
       "max": 54404,
       "style": "IPY_MODEL_e213006180a442b2af5d8284633ddfef",
       "value": 54404
      }
     },
     "8ef6d764628f4e64b399545ab6527759": {
      "model_module": "@jupyter-widgets/controls",
      "model_module_version": "1.5.0",
      "model_name": "ProgressStyleModel",
      "state": {
       "description_width": "initial"
      }
     },
     "930f1462cb034ad8baf8752382ec8eab": {
      "model_module": "@jupyter-widgets/base",
      "model_module_version": "1.2.0",
      "model_name": "LayoutModel",
      "state": {}
     },
     "9cbd5d01284748c49f2a5bfe4ae97d31": {
      "model_module": "@jupyter-widgets/controls",
      "model_module_version": "1.5.0",
      "model_name": "HTMLModel",
      "state": {
       "layout": "IPY_MODEL_56f1fdaa4d0a45ef903bdd0c2934fa96",
       "style": "IPY_MODEL_f74323266cd5439e8889fca892c515cd",
       "value": " 1080/1080 [00:53&lt;00:00, 20.12it/s]"
      }
     },
     "9f19ffec020c4fd6ad815eac4ad621f1": {
      "model_module": "@jupyter-widgets/controls",
      "model_module_version": "1.5.0",
      "model_name": "HTMLModel",
      "state": {
       "layout": "IPY_MODEL_6ae9d298b1944e37ac0ac7760c4454bd",
       "style": "IPY_MODEL_e614c7eaf1a04d999c8d84c258c24a91",
       "value": " 54404/54404 [01:13&lt;00:00, 736.24it/s]"
      }
     },
     "9fb7a3e3bddb4a6e8575c0f84be76682": {
      "model_module": "@jupyter-widgets/controls",
      "model_module_version": "1.5.0",
      "model_name": "HTMLModel",
      "state": {
       "layout": "IPY_MODEL_af95d8679dfc4241a5595af6b78fb191",
       "style": "IPY_MODEL_cacd6c27bf0140d29288188068ba36c8",
       "value": " 1080/1080 [00:41&lt;00:00, 25.99it/s]"
      }
     },
     "a8d5cb51111245dc852cf6d82ec65af3": {
      "model_module": "@jupyter-widgets/controls",
      "model_module_version": "1.5.0",
      "model_name": "ProgressStyleModel",
      "state": {
       "description_width": "initial"
      }
     },
     "a9aac78aa4e1403a88722f19bbaf3736": {
      "model_module": "@jupyter-widgets/base",
      "model_module_version": "1.2.0",
      "model_name": "LayoutModel",
      "state": {}
     },
     "aa038197b9ea48078ee208b4866cc9b2": {
      "model_module": "@jupyter-widgets/base",
      "model_module_version": "1.2.0",
      "model_name": "LayoutModel",
      "state": {}
     },
     "ac8002e8ac0d43f5984985f22a70f7b4": {
      "model_module": "@jupyter-widgets/base",
      "model_module_version": "1.2.0",
      "model_name": "LayoutModel",
      "state": {}
     },
     "ae719a9e1d1144b88977c2ca24524149": {
      "model_module": "@jupyter-widgets/base",
      "model_module_version": "1.2.0",
      "model_name": "LayoutModel",
      "state": {}
     },
     "af95d8679dfc4241a5595af6b78fb191": {
      "model_module": "@jupyter-widgets/base",
      "model_module_version": "1.2.0",
      "model_name": "LayoutModel",
      "state": {}
     },
     "b0c404ba9e534008a062bc1df73e00e2": {
      "model_module": "@jupyter-widgets/base",
      "model_module_version": "1.2.0",
      "model_name": "LayoutModel",
      "state": {}
     },
     "b1b0f0d12602417e9f2576ec69a9ce43": {
      "model_module": "@jupyter-widgets/controls",
      "model_module_version": "1.5.0",
      "model_name": "HTMLModel",
      "state": {
       "layout": "IPY_MODEL_a9aac78aa4e1403a88722f19bbaf3736",
       "style": "IPY_MODEL_4b0431f5fd4d4122b15c6a719d4cbe2a",
       "value": " 54404/54404 [01:13&lt;00:00, 735.43it/s]"
      }
     },
     "b757ed952a9d486fa7a37bc574536832": {
      "model_module": "@jupyter-widgets/controls",
      "model_module_version": "1.5.0",
      "model_name": "ProgressStyleModel",
      "state": {
       "description_width": "initial"
      }
     },
     "b789ad9feeb9492abd21750cbf13485d": {
      "model_module": "@jupyter-widgets/controls",
      "model_module_version": "1.5.0",
      "model_name": "HBoxModel",
      "state": {
       "children": [
        "IPY_MODEL_eae6a738366042a48364ea05b6d99522",
        "IPY_MODEL_e900bb482cdf4ca38dbf1adf057790be"
       ],
       "layout": "IPY_MODEL_78e8e4b82eaf466bafdd8e7d39b1010c"
      }
     },
     "b7f930c9c92946cd81d7d70cd4769616": {
      "model_module": "@jupyter-widgets/controls",
      "model_module_version": "1.5.0",
      "model_name": "ProgressStyleModel",
      "state": {
       "description_width": "initial"
      }
     },
     "b88c6de73384477abb6afd2e93eed85d": {
      "model_module": "@jupyter-widgets/controls",
      "model_module_version": "1.5.0",
      "model_name": "FloatProgressModel",
      "state": {
       "bar_style": "success",
       "description": "100%",
       "layout": "IPY_MODEL_736c15b2871647a2a556f64f4277a4d4",
       "max": 54404,
       "style": "IPY_MODEL_a8d5cb51111245dc852cf6d82ec65af3",
       "value": 54404
      }
     },
     "bb4fd7b1f691458b81bf0e582f236f4f": {
      "model_module": "@jupyter-widgets/controls",
      "model_module_version": "1.5.0",
      "model_name": "HTMLModel",
      "state": {
       "layout": "IPY_MODEL_c99f6e30edb44f4f8f1c2c3a09ec9a3c",
       "style": "IPY_MODEL_ca52366a77e84ba2bdfbf81ad09dd976",
       "value": " 54404/54404 [01:13&lt;00:00, 739.45it/s]"
      }
     },
     "bb8945d47283432184c4bb9ec975abfc": {
      "model_module": "@jupyter-widgets/base",
      "model_module_version": "1.2.0",
      "model_name": "LayoutModel",
      "state": {}
     },
     "c13b400ad0c04eeeb4b58492d35f1613": {
      "model_module": "@jupyter-widgets/controls",
      "model_module_version": "1.5.0",
      "model_name": "HBoxModel",
      "state": {
       "children": [
        "IPY_MODEL_3c845b383ebb400a8870b7723735df43",
        "IPY_MODEL_e1ecdd903368458c972bd552e14a2664"
       ],
       "layout": "IPY_MODEL_f336973b98114fd991c9159dea600047"
      }
     },
     "c14d02e408e64ec49cfb25d075018c82": {
      "model_module": "@jupyter-widgets/controls",
      "model_module_version": "1.5.0",
      "model_name": "DescriptionStyleModel",
      "state": {
       "description_width": ""
      }
     },
     "c1711f38c0f649ea93f0455ddcee731f": {
      "model_module": "@jupyter-widgets/controls",
      "model_module_version": "1.5.0",
      "model_name": "ProgressStyleModel",
      "state": {
       "description_width": "initial"
      }
     },
     "c654f16f8c2143b7a45125b4b8b6f7b6": {
      "model_module": "@jupyter-widgets/controls",
      "model_module_version": "1.5.0",
      "model_name": "DescriptionStyleModel",
      "state": {
       "description_width": ""
      }
     },
     "c99f6e30edb44f4f8f1c2c3a09ec9a3c": {
      "model_module": "@jupyter-widgets/base",
      "model_module_version": "1.2.0",
      "model_name": "LayoutModel",
      "state": {}
     },
     "ca52366a77e84ba2bdfbf81ad09dd976": {
      "model_module": "@jupyter-widgets/controls",
      "model_module_version": "1.5.0",
      "model_name": "DescriptionStyleModel",
      "state": {
       "description_width": ""
      }
     },
     "cacd6c27bf0140d29288188068ba36c8": {
      "model_module": "@jupyter-widgets/controls",
      "model_module_version": "1.5.0",
      "model_name": "DescriptionStyleModel",
      "state": {
       "description_width": ""
      }
     },
     "cf2e01f46e4648719127f85aa3cc9857": {
      "model_module": "@jupyter-widgets/base",
      "model_module_version": "1.2.0",
      "model_name": "LayoutModel",
      "state": {}
     },
     "d433ec3ab57445959373132679e4a7de": {
      "model_module": "@jupyter-widgets/base",
      "model_module_version": "1.2.0",
      "model_name": "LayoutModel",
      "state": {}
     },
     "d4c925fe864448f3b3b6b1c829021618": {
      "model_module": "@jupyter-widgets/controls",
      "model_module_version": "1.5.0",
      "model_name": "ProgressStyleModel",
      "state": {
       "description_width": "initial"
      }
     },
     "d92bf18225aa4456be58160b521f607f": {
      "model_module": "@jupyter-widgets/base",
      "model_module_version": "1.2.0",
      "model_name": "LayoutModel",
      "state": {}
     },
     "dd953a20354a43cd92f2e445d5394dbf": {
      "model_module": "@jupyter-widgets/base",
      "model_module_version": "1.2.0",
      "model_name": "LayoutModel",
      "state": {}
     },
     "dfcfb5b728e64d50938fb47cda7c18dd": {
      "model_module": "@jupyter-widgets/base",
      "model_module_version": "1.2.0",
      "model_name": "LayoutModel",
      "state": {}
     },
     "e1ecdd903368458c972bd552e14a2664": {
      "model_module": "@jupyter-widgets/controls",
      "model_module_version": "1.5.0",
      "model_name": "HTMLModel",
      "state": {
       "layout": "IPY_MODEL_e7fa4dffcfe9416582dd66c2fc9b9785",
       "style": "IPY_MODEL_e783ed588e524b9abf889f85634e96d5",
       "value": " 1080/1080 [03:31&lt;00:00,  5.10it/s]"
      }
     },
     "e213006180a442b2af5d8284633ddfef": {
      "model_module": "@jupyter-widgets/controls",
      "model_module_version": "1.5.0",
      "model_name": "ProgressStyleModel",
      "state": {
       "description_width": "initial"
      }
     },
     "e267c04e84be44409271ece8c0e4c19a": {
      "model_module": "@jupyter-widgets/base",
      "model_module_version": "1.2.0",
      "model_name": "LayoutModel",
      "state": {}
     },
     "e454c6c2890c4084acc85983dce47fc4": {
      "model_module": "@jupyter-widgets/controls",
      "model_module_version": "1.5.0",
      "model_name": "FloatProgressModel",
      "state": {
       "bar_style": "success",
       "description": "100%",
       "layout": "IPY_MODEL_366d29ede43645aba4c8946cd9553dca",
       "max": 1080,
       "style": "IPY_MODEL_c1711f38c0f649ea93f0455ddcee731f",
       "value": 1080
      }
     },
     "e614c7eaf1a04d999c8d84c258c24a91": {
      "model_module": "@jupyter-widgets/controls",
      "model_module_version": "1.5.0",
      "model_name": "DescriptionStyleModel",
      "state": {
       "description_width": ""
      }
     },
     "e783ed588e524b9abf889f85634e96d5": {
      "model_module": "@jupyter-widgets/controls",
      "model_module_version": "1.5.0",
      "model_name": "DescriptionStyleModel",
      "state": {
       "description_width": ""
      }
     },
     "e7fa4dffcfe9416582dd66c2fc9b9785": {
      "model_module": "@jupyter-widgets/base",
      "model_module_version": "1.2.0",
      "model_name": "LayoutModel",
      "state": {}
     },
     "e900bb482cdf4ca38dbf1adf057790be": {
      "model_module": "@jupyter-widgets/controls",
      "model_module_version": "1.5.0",
      "model_name": "HTMLModel",
      "state": {
       "layout": "IPY_MODEL_67c2f837fd494a209cd1149005350c08",
       "style": "IPY_MODEL_c14d02e408e64ec49cfb25d075018c82",
       "value": " 54404/54404 [01:14&lt;00:00, 726.27it/s]"
      }
     },
     "ea85ab1c5e99411c8b72c69f140fcf63": {
      "model_module": "@jupyter-widgets/controls",
      "model_module_version": "1.5.0",
      "model_name": "ProgressStyleModel",
      "state": {
       "description_width": "initial"
      }
     },
     "eaae4616cb964353ae71d232acaf04a5": {
      "model_module": "@jupyter-widgets/controls",
      "model_module_version": "1.5.0",
      "model_name": "HBoxModel",
      "state": {
       "children": [
        "IPY_MODEL_8ab41df5d90d45fbbb292d7d052e94c2",
        "IPY_MODEL_6f00736114674d6fa4235fab7ea66987"
       ],
       "layout": "IPY_MODEL_ed2264d38f794ccfaa7373cf282e12e7"
      }
     },
     "eae6a738366042a48364ea05b6d99522": {
      "model_module": "@jupyter-widgets/controls",
      "model_module_version": "1.5.0",
      "model_name": "FloatProgressModel",
      "state": {
       "bar_style": "success",
       "description": "100%",
       "layout": "IPY_MODEL_05cd2d8f5b15457fbeb14dda0bfc2e46",
       "max": 54404,
       "style": "IPY_MODEL_b7f930c9c92946cd81d7d70cd4769616",
       "value": 54404
      }
     },
     "ecc71ceb48c249ca9735b32b3fae40c9": {
      "model_module": "@jupyter-widgets/controls",
      "model_module_version": "1.5.0",
      "model_name": "HBoxModel",
      "state": {
       "children": [
        "IPY_MODEL_f61bc90e20114d0c97eb08ddeb057ad6",
        "IPY_MODEL_4e5cc1bc2777405dbd8829fce162fca1"
       ],
       "layout": "IPY_MODEL_d433ec3ab57445959373132679e4a7de"
      }
     },
     "ed2264d38f794ccfaa7373cf282e12e7": {
      "model_module": "@jupyter-widgets/base",
      "model_module_version": "1.2.0",
      "model_name": "LayoutModel",
      "state": {}
     },
     "f201d480ab45492894affaa7dacc71e6": {
      "model_module": "@jupyter-widgets/controls",
      "model_module_version": "1.5.0",
      "model_name": "FloatProgressModel",
      "state": {
       "bar_style": "success",
       "description": "100%",
       "layout": "IPY_MODEL_ae719a9e1d1144b88977c2ca24524149",
       "max": 1080,
       "style": "IPY_MODEL_d4c925fe864448f3b3b6b1c829021618",
       "value": 1080
      }
     },
     "f2d2ce28af8445e6b6997326e9585282": {
      "model_module": "@jupyter-widgets/controls",
      "model_module_version": "1.5.0",
      "model_name": "DescriptionStyleModel",
      "state": {
       "description_width": ""
      }
     },
     "f336973b98114fd991c9159dea600047": {
      "model_module": "@jupyter-widgets/base",
      "model_module_version": "1.2.0",
      "model_name": "LayoutModel",
      "state": {}
     },
     "f61bc90e20114d0c97eb08ddeb057ad6": {
      "model_module": "@jupyter-widgets/controls",
      "model_module_version": "1.5.0",
      "model_name": "FloatProgressModel",
      "state": {
       "bar_style": "success",
       "description": "100%",
       "layout": "IPY_MODEL_f99856ae41ee4d53aab555edf95cb659",
       "max": 1080,
       "style": "IPY_MODEL_401964b01792439f923bfad8b3a96923",
       "value": 1080
      }
     },
     "f74323266cd5439e8889fca892c515cd": {
      "model_module": "@jupyter-widgets/controls",
      "model_module_version": "1.5.0",
      "model_name": "DescriptionStyleModel",
      "state": {
       "description_width": ""
      }
     },
     "f766ce281f2b439c9f477a1fd9375542": {
      "model_module": "@jupyter-widgets/controls",
      "model_module_version": "1.5.0",
      "model_name": "HTMLModel",
      "state": {
       "layout": "IPY_MODEL_606d96232d354b0fa8b740c7ea160fb8",
       "style": "IPY_MODEL_30ecdd1e161145f3b0cea2da2b5ed087",
       "value": " 54404/54404 [01:20&lt;00:00, 671.68it/s]"
      }
     },
     "f99856ae41ee4d53aab555edf95cb659": {
      "model_module": "@jupyter-widgets/base",
      "model_module_version": "1.2.0",
      "model_name": "LayoutModel",
      "state": {}
     },
     "f9ad36f7b07b41559ec3fa99d3a27589": {
      "model_module": "@jupyter-widgets/controls",
      "model_module_version": "1.5.0",
      "model_name": "HBoxModel",
      "state": {
       "children": [
        "IPY_MODEL_28a919f2abbc48fcaf8b76eed040e97f",
        "IPY_MODEL_9f19ffec020c4fd6ad815eac4ad621f1"
       ],
       "layout": "IPY_MODEL_aa038197b9ea48078ee208b4866cc9b2"
      }
     }
    },
    "version_major": 2,
    "version_minor": 0
   }
  }
 },
 "nbformat": 4,
 "nbformat_minor": 4
}
