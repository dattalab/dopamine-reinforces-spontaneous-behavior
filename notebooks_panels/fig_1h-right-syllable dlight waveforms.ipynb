{
 "cells": [
  {
   "cell_type": "markdown",
   "id": "a0cdfa50-ac6b-426b-90d3-3f8ee33db855",
   "metadata": {},
   "source": [
    "# Plot syllable waveforms"
   ]
  },
  {
   "cell_type": "code",
   "execution_count": 1,
   "id": "160d37d6-69ac-4b38-9ef1-006b1e6fd917",
   "metadata": {},
   "outputs": [],
   "source": [
    "import toml\n",
    "import numba\n",
    "import joblib\n",
    "import random\n",
    "import warnings\n",
    "import numpy as np\n",
    "import pandas as pd\n",
    "import seaborn as sns\n",
    "import matplotlib.pyplot as plt\n",
    "\n",
    "from os.path import join\n",
    "from toolz import partial\n",
    "from tqdm.auto import tqdm\n",
    "from scipy import stats, signal\n",
    "from tqdm.contrib.concurrent import process_map\n",
    "from rl_analysis.behavior.moseq import syll_onset\n",
    "from rl_analysis.io.df import dlight_exclude_toml, NONSYLL_COLS\n",
    "from rl_analysis.photometry.windowing import window_trials_as_mtx\n",
    "from rl_analysis.plotting import setup_plotting_env, save_factory, fg\n",
    "\n",
    "warnings.simplefilter('ignore')\n",
    "numba.set_num_threads(6)"
   ]
  },
  {
   "cell_type": "markdown",
   "id": "d61939d0-3a06-4ab8-b015-548ae1739905",
   "metadata": {
    "tags": []
   },
   "source": [
    "## Loading and setup"
   ]
  },
  {
   "cell_type": "code",
   "execution_count": 2,
   "id": "11f8df72-54aa-46e7-8708-2e905f4a385c",
   "metadata": {},
   "outputs": [],
   "source": [
    "def dlight_filter(ser):\n",
    "    soscoeffs = signal.bessel(1, 1 / (30 / 2.), btype=\"high\", output=\"sos\")\n",
    "    sig = ser.dropna()\n",
    "    new_ser = pd.Series(index=ser.index)\n",
    "    new_ser.loc[sig.index] = signal.sosfiltfilt(soscoeffs, sig)\n",
    "    return new_ser"
   ]
  },
  {
   "cell_type": "code",
   "execution_count": 3,
   "id": "3304df8f-1f8a-408e-a9b4-e4f3632a1929",
   "metadata": {},
   "outputs": [],
   "source": [
    "with open(\"../analysis_configuration.toml\", \"r\") as f:\n",
    "    config = toml.load(f)"
   ]
  },
  {
   "cell_type": "code",
   "execution_count": 4,
   "id": "ff27c7a0-4f7c-42e8-a8da-1979b3491c71",
   "metadata": {},
   "outputs": [],
   "source": [
    "setup_plotting_env()\n",
    "\n",
    "saver = save_factory(join(config['figures']['store_dir'], 'fig-01'), tight_layout=False)"
   ]
  },
  {
   "cell_type": "code",
   "execution_count": 5,
   "id": "d7071448-0c73-4733-8f8f-66634875977b",
   "metadata": {},
   "outputs": [],
   "source": [
    "# use prev sorting for comparison\n",
    "sorting = joblib.load(join(config['intermediate_results']['dlight'], 'fig1-syllable-sorting.p'))"
   ]
  },
  {
   "cell_type": "code",
   "execution_count": 6,
   "id": "110f6fd4-3513-48f0-8f87-912912ff8383",
   "metadata": {},
   "outputs": [],
   "source": [
    "use_dct = dlight_exclude_toml(\n",
    "    join(config['raw_data']['dlight'], 'dlight_photometry_processed_full.toml'),\n",
    "    **config[\"dlight_common\"]\n",
    ")\n",
    "\n",
    "df = pd.read_parquet(\n",
    "    join(config['raw_data']['dlight'], 'dlight_photometry_processed_full.parquet'),\n",
    "    filters=[(\"uuid\", \"in\", list(use_dct)), (\"area\", \"=\", \"dls\")],\n",
    ")\n",
    "\n",
    "df = df[~df[\"session_number\"].isin([3, 4])]\n",
    "df = df.drop(columns=NONSYLL_COLS)\n",
    "df = df.sort_index()\n",
    "\n",
    "df[\"offline onset\"] = False\n",
    "df.loc[df.index[syll_onset(df[\"predicted_syllable (offline)\"])], \"offline onset\"] = True\n",
    "\n",
    "df[\"dlight filtered\"] = df.groupby(\"uuid\", sort=False, observed=True)[\n",
    "    \"signal_reref_dff_z\"\n",
    "].transform(dlight_filter)"
   ]
  },
  {
   "cell_type": "code",
   "execution_count": 7,
   "id": "a74660e8-3e42-4206-bf50-0011fc897039",
   "metadata": {},
   "outputs": [],
   "source": [
    "time_window = (-1.5, 1.5)"
   ]
  },
  {
   "cell_type": "code",
   "execution_count": 8,
   "id": "62b07fec-ff21-476b-be0b-157d8f69b07d",
   "metadata": {},
   "outputs": [],
   "source": [
    "def compute_waveforms(df, dlight_key, shuffle=False, syll_key=\"predicted_syllable (offline)\"):\n",
    "    out = {}\n",
    "    for syll in sorting:\n",
    "        inds = np.where(df[\"offline onset\"] & (df[syll_key] == syll))[0]\n",
    "        if shuffle:\n",
    "            inds = inds + np.array(list(map(lambda v: random.randint(-60, 60), range(len(inds)))))\n",
    "        time, trials = window_trials_as_mtx(\n",
    "            df, inds, dlight_key, truncation_window=time_window, zscore_signal=True\n",
    "        )\n",
    "        out[syll] = pd.Series(np.nanmean(trials, axis=0), index=pd.Index(time, name=\"time\"))\n",
    "    return pd.DataFrame(out)\n",
    "\n",
    "\n",
    "def compute_shuffle(i, df):\n",
    "    df = df.copy()\n",
    "    result = compute_waveforms(df, dlight_key, shuffle=True)\n",
    "    return result"
   ]
  },
  {
   "cell_type": "markdown",
   "id": "63d4d587-f1c7-42f5-b990-77e63a89a918",
   "metadata": {},
   "source": [
    "## Panel - onset aligned syllable waveforms"
   ]
  },
  {
   "cell_type": "code",
   "execution_count": 9,
   "id": "e5a1d75e-0ea6-4ef4-a295-3e551fc07381",
   "metadata": {},
   "outputs": [],
   "source": [
    "dlight_key = \"dlight filtered\"\n",
    "syll_key = \"predicted_syllable (offline)\"\n",
    "waveforms = compute_waveforms(df, dlight_key)"
   ]
  },
  {
   "cell_type": "markdown",
   "id": "6b954567-d702-4da5-ba7c-5d577d80b46a",
   "metadata": {
    "tags": []
   },
   "source": [
    "### Z-scored re: shuffle version"
   ]
  },
  {
   "cell_type": "code",
   "execution_count": 10,
   "id": "ed933cb3-1c29-4f69-bca5-8c23ac29e84e",
   "metadata": {},
   "outputs": [
    {
     "data": {
      "application/vnd.jupyter.widget-view+json": {
       "model_id": "b37bd6be6fdf4dc1a432c5ced47cc6d9",
       "version_major": 2,
       "version_minor": 0
      },
      "text/plain": [
       "  0%|          | 0/1000 [00:00<?, ?it/s]"
      ]
     },
     "metadata": {},
     "output_type": "display_data"
    },
    {
     "data": {
      "text/plain": [
       "['/n/groups/datta/win/dopamine-data-release/zenodo-test/dlight_intermediate_results/fig1-filtered-waveform-shuffles-de-phasing.p']"
      ]
     },
     "execution_count": 10,
     "metadata": {},
     "output_type": "execute_result"
    }
   ],
   "source": [
    "n_shuffles = 1_000\n",
    "\n",
    "results = process_map(\n",
    "    partial(compute_shuffle, df=df[[syll_key, dlight_key, \"offline onset\"]]),\n",
    "    range(n_shuffles),\n",
    "    max_workers=4,  # number of CPUs on your machine\n",
    ")\n",
    "\n",
    "# SAVE SHUFFLES\n",
    "joblib.dump(\n",
    "    results,\n",
    "    join(config[\"intermediate_results\"][\"dlight\"], \"fig1-filtered-waveform-shuffles-de-phasing.p\"),\n",
    ")"
   ]
  },
  {
   "cell_type": "code",
   "execution_count": 11,
   "id": "31f4ed41-59c6-4c38-94c0-f084a77376e5",
   "metadata": {},
   "outputs": [],
   "source": [
    "# comment out if you want to run the shuffles yourself\n",
    "# results = joblib.load(\n",
    "#     join(config[\"intermediate_results\"][\"dlight\"], \"fig1-filtered-waveform-shuffles-de-phasing.p\"),\n",
    "# )"
   ]
  },
  {
   "cell_type": "code",
   "execution_count": 12,
   "id": "614459a7-48a3-4b46-9cd6-3db4ccc561c5",
   "metadata": {},
   "outputs": [],
   "source": [
    "shuff_waveforms = {k: pd.DataFrame([r[k] for r in results]) for k in sorting}\n",
    "\n",
    "z_waveforms = {}\n",
    "for k in sorting:\n",
    "    v = waveforms[k]\n",
    "    shuff = shuff_waveforms[k]\n",
    "    z_waveforms[k] = (v - shuff.mean()) / shuff.std()\n",
    "\n",
    "z_avg_waveforms = np.array(list(z_waveforms.values()))"
   ]
  },
  {
   "cell_type": "code",
   "execution_count": 13,
   "id": "2b3c9181-b9b9-47f7-b30e-1cd67d800a12",
   "metadata": {},
   "outputs": [
    {
     "data": {
      "image/png": "[encoded data removed]",
      "text/plain": [
       "<Figure size 200x400 with 2 Axes>"
      ]
     },
     "metadata": {
      "image/png": {
       "height": 414,
       "width": 324
      }
     },
     "output_type": "display_data"
    }
   ],
   "source": [
    "lims = 15\n",
    "fig = fg(1, 2)\n",
    "fig.dpi = 200\n",
    "plt.imshow(\n",
    "    z_avg_waveforms,\n",
    "    aspect=\"auto\",\n",
    "    cmap=\"RdBu_r\",\n",
    "    vmin=-lims,\n",
    "    vmax=lims,\n",
    "    interpolation='none',\n",
    "    extent=(v.index[0], v.index[-1], len(z_avg_waveforms), 0),\n",
    ")\n",
    "cb = plt.colorbar()\n",
    "cb.set_ticks([-lims, 0, lims])\n",
    "cb.set_label('dF/F0 (z to shuffle)')\n",
    "plt.xticks([time_window[0], 0, time_window[-1]])\n",
    "plt.yticks([0.5, len(z_avg_waveforms) - 0.5], [1, len(z_avg_waveforms)])\n",
    "plt.ylabel('Syllables')\n",
    "plt.xlabel('Time from syllable onset (s)')\n",
    "plt.xlim(*time_window)\n",
    "\n",
    "sns.despine()\n",
    "saver(fig, 'syllable-aligned-filtered-dlight-waveforms-z-re-shuffle');"
   ]
  },
  {
   "cell_type": "code",
   "execution_count": 14,
   "id": "eefff611-c46f-4383-9b86-5d5e9a248d45",
   "metadata": {},
   "outputs": [
    {
     "data": {
      "application/vnd.jupyter.widget-view+json": {
       "model_id": "1f384eafedd84a14b8766895d02a04fa",
       "version_major": 2,
       "version_minor": 0
      },
      "text/plain": [
       "  0%|          | 0/37 [00:00<?, ?it/s]"
      ]
     },
     "metadata": {},
     "output_type": "display_data"
    }
   ],
   "source": [
    "kruskal_waveforms = {}\n",
    "\n",
    "gb = df.groupby(\"mouse_id\", observed=True, sort=False)\n",
    "\n",
    "for syll in tqdm(sorting):\n",
    "    mouse_waveforms = []\n",
    "    for mouse, _df in gb:\n",
    "        inds = np.where(_df[\"offline onset\"] & (_df[syll_key] == syll))[0]\n",
    "        time, mtx = window_trials_as_mtx(\n",
    "            _df, inds, dlight_key, truncation_window=(0, 0.3), zscore_signal=True\n",
    "        )\n",
    "        mouse_waveforms.append(np.nanmean(mtx, axis=0))\n",
    "    kruskal_waveforms[syll] = np.array(mouse_waveforms)"
   ]
  },
  {
   "cell_type": "code",
   "execution_count": 15,
   "id": "38f81dae-8174-49e6-a1b8-96df2b4da8ce",
   "metadata": {},
   "outputs": [
    {
     "data": {
      "text/plain": [
       "KruskalResult(statistic=209.49020720614408, pvalue=2.382112659115839e-26)"
      ]
     },
     "execution_count": 15,
     "metadata": {},
     "output_type": "execute_result"
    }
   ],
   "source": [
    "stats.kruskal(*[x.mean(1) for x in kruskal_waveforms.values()])"
   ]
  },
  {
   "cell_type": "code",
   "execution_count": 16,
   "id": "ad30cd06-db1b-4cbf-b6d1-6abe7d531fcf",
   "metadata": {},
   "outputs": [
    {
     "data": {
      "text/plain": [
       "KruskalResult(statistic=193.85673156936582, pvalue=1.6060955097122372e-23)"
      ]
     },
     "execution_count": 16,
     "metadata": {},
     "output_type": "execute_result"
    }
   ],
   "source": [
    "stats.kruskal(*[x.max(1) for x in kruskal_waveforms.values()])"
   ]
  },
  {
   "cell_type": "code",
   "execution_count": null,
   "id": "a026dc2c-c0c0-4b0b-80b5-fdf5739e65f4",
   "metadata": {},
   "outputs": [],
   "source": []
  }
 ],
 "metadata": {
  "kernelspec": {
   "display_name": "dopamine-paper",
   "language": "python",
   "name": "dopamine-paper"
  },
  "language_info": {
   "codemirror_mode": {
    "name": "ipython",
    "version": 3
   },
   "file_extension": ".py",
   "mimetype": "text/x-python",
   "name": "python",
   "nbconvert_exporter": "python",
   "pygments_lexer": "ipython3",
   "version": "3.9.13"
  },
  "widgets": {
   "application/vnd.jupyter.widget-state+json": {
    "state": {
     "049aca2193d04f1fa21909bb5681145d": {
      "model_module": "@jupyter-widgets/base",
      "model_module_version": "2.0.0",
      "model_name": "LayoutModel",
      "state": {}
     },
     "1f384eafedd84a14b8766895d02a04fa": {
      "model_module": "@jupyter-widgets/controls",
      "model_module_version": "2.0.0",
      "model_name": "HBoxModel",
      "state": {
       "children": [
        "IPY_MODEL_a92744c2c55a40488ac3d322d1685505",
        "IPY_MODEL_ac413b28afb147c5b432d292db605e7b",
        "IPY_MODEL_74d32d66984f4ccd90cfe88cbf8baeba"
       ],
       "layout": "IPY_MODEL_8f5e2b7845854caea85bd8680817d0fb"
      }
     },
     "428752b462494e09baee32d24d5d0d84": {
      "model_module": "@jupyter-widgets/controls",
      "model_module_version": "2.0.0",
      "model_name": "HTMLStyleModel",
      "state": {
       "description_width": "",
       "font_size": null,
       "text_color": null
      }
     },
     "469ffa9ad49547598345e5f25283e375": {
      "model_module": "@jupyter-widgets/controls",
      "model_module_version": "2.0.0",
      "model_name": "ProgressStyleModel",
      "state": {
       "description_width": ""
      }
     },
     "506c8344df5a4b6fa4a3eef04f54c5b9": {
      "model_module": "@jupyter-widgets/controls",
      "model_module_version": "2.0.0",
      "model_name": "HTMLModel",
      "state": {
       "layout": "IPY_MODEL_cbcbcfc11282405fa6e04e994b4ef742",
       "style": "IPY_MODEL_428752b462494e09baee32d24d5d0d84",
       "value": "100%"
      }
     },
     "514d0ec684a44c7eb7769e4e8264235e": {
      "model_module": "@jupyter-widgets/controls",
      "model_module_version": "2.0.0",
      "model_name": "HTMLStyleModel",
      "state": {
       "description_width": "",
       "font_size": null,
       "text_color": null
      }
     },
     "675ad7fdbef1490bade25ea8e8977328": {
      "model_module": "@jupyter-widgets/controls",
      "model_module_version": "2.0.0",
      "model_name": "HTMLStyleModel",
      "state": {
       "description_width": "",
       "font_size": null,
       "text_color": null
      }
     },
     "71d8e82975e24452b13bb4e68e07c49b": {
      "model_module": "@jupyter-widgets/base",
      "model_module_version": "2.0.0",
      "model_name": "LayoutModel",
      "state": {}
     },
     "72dc63726a9a49438f85c1376dee3f90": {
      "model_module": "@jupyter-widgets/controls",
      "model_module_version": "2.0.0",
      "model_name": "HTMLModel",
      "state": {
       "layout": "IPY_MODEL_9830041ecadf450d89d21bc28c5cb44f",
       "style": "IPY_MODEL_675ad7fdbef1490bade25ea8e8977328",
       "value": " 1000/1000 [43:36&lt;00:00,  1.84s/it]"
      }
     },
     "74d32d66984f4ccd90cfe88cbf8baeba": {
      "model_module": "@jupyter-widgets/controls",
      "model_module_version": "2.0.0",
      "model_name": "HTMLModel",
      "state": {
       "layout": "IPY_MODEL_dc642b1c23bf4c12927b82a33d6716f0",
       "style": "IPY_MODEL_514d0ec684a44c7eb7769e4e8264235e",
       "value": " 37/37 [03:06&lt;00:00,  4.93s/it]"
      }
     },
     "8d41aed0d7dc4081a004fb0b561c9820": {
      "model_module": "@jupyter-widgets/base",
      "model_module_version": "2.0.0",
      "model_name": "LayoutModel",
      "state": {}
     },
     "8f5e2b7845854caea85bd8680817d0fb": {
      "model_module": "@jupyter-widgets/base",
      "model_module_version": "2.0.0",
      "model_name": "LayoutModel",
      "state": {}
     },
     "9830041ecadf450d89d21bc28c5cb44f": {
      "model_module": "@jupyter-widgets/base",
      "model_module_version": "2.0.0",
      "model_name": "LayoutModel",
      "state": {}
     },
     "a416d5cac1634eb1976a77b4949bac80": {
      "model_module": "@jupyter-widgets/controls",
      "model_module_version": "2.0.0",
      "model_name": "HTMLStyleModel",
      "state": {
       "description_width": "",
       "font_size": null,
       "text_color": null
      }
     },
     "a92744c2c55a40488ac3d322d1685505": {
      "model_module": "@jupyter-widgets/controls",
      "model_module_version": "2.0.0",
      "model_name": "HTMLModel",
      "state": {
       "layout": "IPY_MODEL_049aca2193d04f1fa21909bb5681145d",
       "style": "IPY_MODEL_a416d5cac1634eb1976a77b4949bac80",
       "value": "100%"
      }
     },
     "ac413b28afb147c5b432d292db605e7b": {
      "model_module": "@jupyter-widgets/controls",
      "model_module_version": "2.0.0",
      "model_name": "FloatProgressModel",
      "state": {
       "bar_style": "success",
       "layout": "IPY_MODEL_d43c6da40d9648e1a79f6e7a8f74a932",
       "max": 37,
       "style": "IPY_MODEL_469ffa9ad49547598345e5f25283e375",
       "value": 37
      }
     },
     "b37bd6be6fdf4dc1a432c5ced47cc6d9": {
      "model_module": "@jupyter-widgets/controls",
      "model_module_version": "2.0.0",
      "model_name": "HBoxModel",
      "state": {
       "children": [
        "IPY_MODEL_506c8344df5a4b6fa4a3eef04f54c5b9",
        "IPY_MODEL_c6c5723bb099488ea8b7171b8ff62a97",
        "IPY_MODEL_72dc63726a9a49438f85c1376dee3f90"
       ],
       "layout": "IPY_MODEL_71d8e82975e24452b13bb4e68e07c49b"
      }
     },
     "c6c5723bb099488ea8b7171b8ff62a97": {
      "model_module": "@jupyter-widgets/controls",
      "model_module_version": "2.0.0",
      "model_name": "FloatProgressModel",
      "state": {
       "bar_style": "success",
       "layout": "IPY_MODEL_8d41aed0d7dc4081a004fb0b561c9820",
       "max": 1000,
       "style": "IPY_MODEL_cb443289229243e298fa26223650db4a",
       "value": 1000
      }
     },
     "cb443289229243e298fa26223650db4a": {
      "model_module": "@jupyter-widgets/controls",
      "model_module_version": "2.0.0",
      "model_name": "ProgressStyleModel",
      "state": {
       "description_width": ""
      }
     },
     "cbcbcfc11282405fa6e04e994b4ef742": {
      "model_module": "@jupyter-widgets/base",
      "model_module_version": "2.0.0",
      "model_name": "LayoutModel",
      "state": {}
     },
     "d43c6da40d9648e1a79f6e7a8f74a932": {
      "model_module": "@jupyter-widgets/base",
      "model_module_version": "2.0.0",
      "model_name": "LayoutModel",
      "state": {}
     },
     "dc642b1c23bf4c12927b82a33d6716f0": {
      "model_module": "@jupyter-widgets/base",
      "model_module_version": "2.0.0",
      "model_name": "LayoutModel",
      "state": {}
     }
    },
    "version_major": 2,
    "version_minor": 0
   }
  }
 },
 "nbformat": 4,
 "nbformat_minor": 5
}
