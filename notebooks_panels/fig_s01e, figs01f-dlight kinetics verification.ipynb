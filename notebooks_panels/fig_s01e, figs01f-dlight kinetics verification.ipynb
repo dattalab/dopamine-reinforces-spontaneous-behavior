{
 "cells": [
  {
   "cell_type": "code",
   "execution_count": 1,
   "metadata": {
    "scrolled": true
   },
   "outputs": [],
   "source": [
    "%load_ext autoreload\n",
    "%autoreload 2\n",
    "%matplotlib inline"
   ]
  },
  {
   "cell_type": "code",
   "execution_count": 2,
   "metadata": {},
   "outputs": [],
   "source": [
    "from tqdm.auto import tqdm\n",
    "from rl_analysis.plotting import setup_plotting_env, clean_ticks, savefig\n",
    "from rl_analysis.io.df import dlight_exclude_toml\n",
    "\n",
    "import pandas as pd\n",
    "import os\n",
    "import numpy as np\n",
    "import matplotlib.pyplot as plt"
   ]
  },
  {
   "cell_type": "markdown",
   "metadata": {},
   "source": [
    "## Let's plot out dopamine AUC to go with our plots"
   ]
  },
  {
   "cell_type": "code",
   "execution_count": 3,
   "metadata": {},
   "outputs": [],
   "source": [
    "import toml\n",
    "\n",
    "with open(\"../analysis_configuration.toml\", \"r\") as f:\n",
    "    analysis_config = toml.load(f)"
   ]
  },
  {
   "cell_type": "code",
   "execution_count": 4,
   "metadata": {},
   "outputs": [],
   "source": [
    "raw_dirs = analysis_config[\"raw_data\"]\n",
    "proc_dirs = analysis_config[\"intermediate_results\"]\n",
    "transition_cfg = analysis_config[\"dlight_transition_features\"]\n",
    "dlight_cfg = analysis_config[\"dlight_common\"]\n",
    "figure_cfg = analysis_config[\"figures\"]"
   ]
  },
  {
   "cell_type": "code",
   "execution_count": 5,
   "metadata": {},
   "outputs": [],
   "source": [
    "# merge dlight stim features here...\n",
    "from rl_analysis.util import get_snippets_vec"
   ]
  },
  {
   "cell_type": "code",
   "execution_count": 6,
   "metadata": {},
   "outputs": [],
   "source": [
    "use_dct = dlight_exclude_toml(\n",
    "    os.path.join(raw_dirs[\"dlight\"], \"dlight_photometry_processed_full.toml\"),\n",
    "    **analysis_config[\"dlight_common\"],\n",
    "    exclude_stim=False\n",
    ")"
   ]
  },
  {
   "cell_type": "code",
   "execution_count": 7,
   "metadata": {},
   "outputs": [],
   "source": [
    "use_dct = {k: v for k, v in use_dct.items() if v.get(\"session_number\", 0) in [1, 2]}"
   ]
  },
  {
   "cell_type": "code",
   "execution_count": 8,
   "metadata": {},
   "outputs": [],
   "source": [
    "dlight_df = pd.read_parquet(\n",
    "    os.path.join(raw_dirs[\"dlight\"], \"dlight_photometry_processed_full.parquet\"),\n",
    "    filters=[(\"uuid\", \"in\", list(use_dct.keys())), (\"area\", \"=\", \"dls\")],\n",
    ").sort_index()\n",
    "dlight_df = dlight_df.loc[dlight_df[\"stim_duration\"] == 0.25].copy()"
   ]
  },
  {
   "cell_type": "code",
   "execution_count": 9,
   "metadata": {},
   "outputs": [],
   "source": [
    "tqdm.pandas()"
   ]
  },
  {
   "cell_type": "code",
   "execution_count": 10,
   "metadata": {},
   "outputs": [],
   "source": [
    "dlight_df[\"timestamps\"] = dlight_df[\"timestamp\"]"
   ]
  },
  {
   "cell_type": "code",
   "execution_count": 11,
   "metadata": {},
   "outputs": [
    {
     "data": {
      "application/vnd.jupyter.widget-view+json": {
       "model_id": "076cbde1e2cb40bf924d3311a8e76835",
       "version_major": 2,
       "version_minor": 0
      },
      "text/plain": [
       "  0%|          | 0/100 [00:00<?, ?it/s]"
      ]
     },
     "metadata": {},
     "output_type": "display_data"
    }
   ],
   "source": [
    "snippets = (\n",
    "    dlight_df.groupby(\"uuid\", observed=True, group_keys=True)\n",
    "    .progress_apply(\n",
    "        lambda x: get_snippets_vec(\n",
    "            x,\n",
    "            targets=[1.0],\n",
    "            win=[5, 10],\n",
    "            label_key=\"feedback_status\",\n",
    "            data_keys=[\"signal_reref_dff_z\", \"frame_index\", \"timestamps\"],\n",
    "            meta_keys=[\"mouse_id\", \"stim_duration\"],\n",
    "        )\n",
    "    )\n",
    "    .reset_index()\n",
    ")"
   ]
  },
  {
   "cell_type": "code",
   "execution_count": 12,
   "metadata": {},
   "outputs": [],
   "source": [
    "snippets = snippets.dropna(subset=[\"x\"])"
   ]
  },
  {
   "cell_type": "code",
   "execution_count": 13,
   "metadata": {},
   "outputs": [],
   "source": [
    "snippets[\"x_sample\"] = (snippets[\"x\"] * 30.0).round().astype(\"int16\")"
   ]
  },
  {
   "cell_type": "code",
   "execution_count": 14,
   "metadata": {},
   "outputs": [],
   "source": [
    "uniq_idx = pd.factorize(list(zip(snippets[\"uuid\"], snippets[\"snippet\"])))[0]\n",
    "snippets[\"uniq_idx\"] = uniq_idx"
   ]
  },
  {
   "cell_type": "code",
   "execution_count": 15,
   "metadata": {},
   "outputs": [],
   "source": [
    "time_frames = {\"fast\": (0, 0.3), \"slow\": (0.1, 5)}\n",
    "stats = [\"mean\", \"max\", \"min\"]"
   ]
  },
  {
   "cell_type": "code",
   "execution_count": 16,
   "metadata": {},
   "outputs": [
    {
     "data": {
      "application/vnd.jupyter.widget-view+json": {
       "model_id": "740be575b46d4295b2489c775446bf11",
       "version_major": 2,
       "version_minor": 0
      },
      "text/plain": [
       "  0%|          | 0/2 [00:00<?, ?it/s]"
      ]
     },
     "metadata": {},
     "output_type": "display_data"
    }
   ],
   "source": [
    "lst = []\n",
    "for _col_name, _time_frame in tqdm(time_frames.items()):\n",
    "    _tmp = snippets.groupby(\"uniq_idx\", observed=True).apply(\n",
    "        lambda x: x.loc[x[\"x\"].between(*_time_frame, inclusive=\"both\")][\n",
    "            \"signal_reref_dff_z\"\n",
    "        ].agg(stats)\n",
    "    )\n",
    "    _tmp[\"range\"] = _tmp[\"max\"] - _tmp[\"min\"]\n",
    "    _tmp.columns = [f\"{_col_name}_{_}\" for _ in _tmp.columns]\n",
    "    lst.append(_tmp)"
   ]
  },
  {
   "cell_type": "code",
   "execution_count": 17,
   "metadata": {},
   "outputs": [],
   "source": [
    "new_features = pd.concat(lst, axis=1)"
   ]
  },
  {
   "cell_type": "code",
   "execution_count": 18,
   "metadata": {},
   "outputs": [],
   "source": [
    "snippets = snippets.drop(new_features.columns.intersection(snippets.columns), axis=1)\n",
    "snippets = pd.merge(snippets, new_features, on=\"uniq_idx\", how=\"left\")"
   ]
  },
  {
   "cell_type": "code",
   "execution_count": 19,
   "metadata": {},
   "outputs": [],
   "source": [
    "bins = pd.qcut(snippets[\"slow_mean\"], ([0, 0.33, 0.66, 1]), labels=False)\n",
    "snippets[\"bins\"] = bins"
   ]
  },
  {
   "cell_type": "code",
   "execution_count": 20,
   "metadata": {},
   "outputs": [],
   "source": [
    "custom_dlight_features = snippets.groupby(\"uuid\")[new_features.columns].mean()"
   ]
  },
  {
   "cell_type": "code",
   "execution_count": 21,
   "metadata": {},
   "outputs": [],
   "source": [
    "snippets[\"signal_reref_dff_z_diff\"] = snippets.groupby(\"uniq_idx\")[\n",
    "    \"signal_reref_dff_z\"\n",
    "].transform(lambda x: x.diff())"
   ]
  },
  {
   "cell_type": "code",
   "execution_count": 45,
   "metadata": {},
   "outputs": [],
   "source": [
    "# RUN ONCE WITH EACH OF THESE FEATURES\n",
    "use_signal = \"signal_reref_dff_z_diff\"\n",
    "# use_signal = \"signal_reref_dff_z\"\n",
    "\n",
    "pre_z = [-5, 0]"
   ]
  },
  {
   "cell_type": "code",
   "execution_count": 46,
   "metadata": {},
   "outputs": [],
   "source": [
    "snippets[\"bins\"] = 0"
   ]
  },
  {
   "cell_type": "code",
   "execution_count": 47,
   "metadata": {},
   "outputs": [],
   "source": [
    "mus = snippets.loc[snippets[\"x\"].between(*pre_z)].groupby(\"uniq_idx\")[use_signal].mean()\n",
    "sigs = snippets.loc[snippets[\"x\"].between(*pre_z)].groupby(\"uniq_idx\")[use_signal].std()"
   ]
  },
  {
   "cell_type": "code",
   "execution_count": 48,
   "metadata": {},
   "outputs": [],
   "source": [
    "# any smoothing?\n",
    "snippets = snippets.set_index(\"uniq_idx\")\n",
    "snippets[f\"{use_signal}_z\"] = (snippets[use_signal] - mus) / sigs\n",
    "snippets = snippets.reset_index()"
   ]
  },
  {
   "cell_type": "code",
   "execution_count": 49,
   "metadata": {},
   "outputs": [],
   "source": [
    "use_signal = f\"{use_signal}_z\""
   ]
  },
  {
   "cell_type": "code",
   "execution_count": 50,
   "metadata": {},
   "outputs": [
    {
     "data": {
      "application/vnd.jupyter.widget-view+json": {
       "model_id": "94b07562f10d4f62989db06351271929",
       "version_major": 2,
       "version_minor": 0
      },
      "text/plain": [
       "  0%|          | 0/1000 [00:00<?, ?it/s]"
      ]
     },
     "metadata": {},
     "output_type": "display_data"
    }
   ],
   "source": [
    "# do we want to bootstrap for each bin?\n",
    "use_duration = 0.25\n",
    "nboots = 1000\n",
    "boot_field = \"uuid\"\n",
    "\n",
    "pre_snippets = snippets.loc[(snippets[\"x\"] < 0) & (snippets[\"stim_duration\"] == 0.25)][\n",
    "    [boot_field, use_signal, \"x\", \"bins\"]\n",
    "]\n",
    "post_snippets = snippets.loc[(snippets[\"stim_duration\"] == 0.25)][\n",
    "    [boot_field, use_signal, \"x\", \"bins\"]\n",
    "]\n",
    "\n",
    "pool = pre_snippets[boot_field].unique()\n",
    "\n",
    "pre_ci = []\n",
    "ci = []\n",
    "for _boot in tqdm(range(nboots)):\n",
    "    indices = np.random.choice(pool, len(pool), replace=True)\n",
    "    pre_ci.append(\n",
    "        pre_snippets.loc[pre_snippets[boot_field].isin(indices)]\n",
    "        .groupby([\"bins\", \"x\"])[use_signal]\n",
    "        .mean()\n",
    "        .groupby(\"bins\")\n",
    "        .apply(lambda x: x.abs().max())\n",
    "    )\n",
    "    ci.append(\n",
    "        post_snippets.loc[post_snippets[boot_field].isin(indices)]\n",
    "        .groupby([\"bins\", \"x\"])[use_signal]\n",
    "        .mean()\n",
    "    )"
   ]
  },
  {
   "cell_type": "code",
   "execution_count": 51,
   "metadata": {},
   "outputs": [],
   "source": [
    "pre_ci = pd.concat(pre_ci, axis=1)\n",
    "ci = pd.concat(ci)"
   ]
  },
  {
   "cell_type": "code",
   "execution_count": 52,
   "metadata": {},
   "outputs": [],
   "source": [
    "use_sem = [0.025, 0.975]\n",
    "use_pre = [0.025, 0.975]"
   ]
  },
  {
   "cell_type": "code",
   "execution_count": 53,
   "metadata": {},
   "outputs": [],
   "source": [
    "plt_pre_ci = pre_ci.quantile([*use_pre], axis=1)\n",
    "plt_pre_ci = plt_pre_ci.unstack().unstack()\n",
    "plt_pre_ci.columns = [\"low\", \"high\"]\n",
    "plt_pre_ci[\"low\"] = -plt_pre_ci[\"high\"]\n",
    "plt_ci = ci.groupby([\"bins\", \"x\"]).quantile([*use_sem]).unstack()\n",
    "plt_ci.columns = [\"low\", \"high\"]"
   ]
  },
  {
   "cell_type": "code",
   "execution_count": 54,
   "metadata": {},
   "outputs": [],
   "source": [
    "plt_vals = post_snippets.groupby([\"bins\", \"x\"])[use_signal].mean()"
   ]
  },
  {
   "cell_type": "code",
   "execution_count": 55,
   "metadata": {},
   "outputs": [],
   "source": [
    "setup_plotting_env()"
   ]
  },
  {
   "cell_type": "code",
   "execution_count": 56,
   "metadata": {},
   "outputs": [
    {
     "data": {
      "image/png": "[encoded data removed]",
      "text/plain": [
       "<Figure size 240x250 with 1 Axes>"
      ]
     },
     "metadata": {},
     "output_type": "display_data"
    }
   ],
   "source": [
    "# make a separate plot for each bin\n",
    "uniq_bins = snippets[\"bins\"].dropna().unique()\n",
    "fig, ax = plt.subplots(len(uniq_bins), 1, figsize=(1.2, 1.25), sharex=True, sharey=True)\n",
    "try:\n",
    "    iter(ax)\n",
    "except:\n",
    "    ax = np.array([ax])\n",
    "\n",
    "line_kwargs = {\"linestyle\": \"-\", \"marker\": \"o\", \"ms\": 2.5, \"color\": \"g\"}\n",
    "\n",
    "err_kwargs = {\"alpha\": 0.25, \"color\": \"k\", \"zorder\": -300, \"edgecolor\": None, \"lw\": 0}\n",
    "\n",
    "ci_kwargs = {\"alpha\": 0.5, \"color\": \"g\", \"edgecolor\": None, \"lw\": 0}\n",
    "\n",
    "for _bin, _ax in zip(uniq_bins, ax):\n",
    "    # show full waveform\n",
    "    _vals = plt_vals.loc[_bin]\n",
    "    _ci = plt_ci.loc[_bin]\n",
    "    _idx = _vals.index\n",
    "    _ax.fill_between(\n",
    "        _idx, plt_pre_ci.loc[_bin, \"low\"], plt_pre_ci.loc[_bin, \"high\"], **err_kwargs\n",
    "    )\n",
    "    _ax.fill_between(\n",
    "        _idx, plt_ci.loc[_bin, \"low\"], plt_ci.loc[_bin, \"high\"], **ci_kwargs\n",
    "    )\n",
    "    _ax.plot(\n",
    "        _idx, _vals.values, color=line_kwargs[\"color\"], ls=line_kwargs[\"linestyle\"]\n",
    "    )\n",
    "    _ax.set_xlim(-0.5, 3)\n",
    "    if \"diff\" in use_signal:\n",
    "        _ax.set_ylim(-1, 1.5)\n",
    "    else:\n",
    "        _ax.set_ylim(-1, 3)\n",
    "    _ax.set_ylabel(\"dF/F0 (z)\")\n",
    "    _ax.set_xlabel(\"Time from opto-stim. (s)\")\n",
    "    ylimits = _ax.get_ylim()\n",
    "    _ax.fill_between([0, 0.25], *ylimits, fc=\"b\", alpha=0.2, zorder=-300)\n",
    "\n",
    "    # zoom-in inset\n",
    "    axins = _ax.inset_axes([0.55, 0.58, 0.4, 0.4])\n",
    "    axins.fill_between(\n",
    "        _idx, plt_pre_ci.loc[_bin, \"low\"], plt_pre_ci.loc[_bin, \"high\"], **err_kwargs\n",
    "    )\n",
    "    axins.fill_between(\n",
    "        _idx, plt_ci.loc[_bin, \"low\"], plt_ci.loc[_bin, \"high\"], **ci_kwargs\n",
    "    )\n",
    "    axins.plot(_idx, _vals.values, **line_kwargs)\n",
    "    axins.set_xlim([-0.05, 0.2])\n",
    "    axins.set_ylim([-0.2, 0.6])\n",
    "\n",
    "    ylimits = axins.get_ylim()\n",
    "    axins.fill_between([0, 0.25], *ylimits, fc=\"b\", alpha=0.2, zorder=-300)\n",
    "\n",
    "\n",
    "clean_ticks(_ax, \"y\", precision=1, zero_symmetry=False)\n",
    "clean_ticks(_ax, \"x\", precision=0, dtype=int, zero_symmetry=False)\n",
    "\n",
    "savefig(\n",
    "    fig,\n",
    "    os.path.join(figure_cfg[\"store_dir\"], f\"optostim_response_{use_signal}\"),\n",
    "    bbox_inches=\"tight\",\n",
    ")"
   ]
  },
  {
   "cell_type": "code",
   "execution_count": 57,
   "metadata": {},
   "outputs": [
    {
     "name": "stderr",
     "output_type": "stream",
     "text": [
      "/tmp/ipykernel_1437869/2864558806.py:2: FutureWarning: The default value of numeric_only in DataFrameGroupBy.mean is deprecated. In a future version, numeric_only will default to False. Either specify numeric_only or select only columns which should be valid for the function.\n",
      "  snippets.loc[snippets[\"x\"].between(*pre_z)].groupby(\"uuid\").mean()\n"
     ]
    }
   ],
   "source": [
    "pre_session_amplitudes = (\n",
    "    snippets.loc[snippets[\"x\"].between(*pre_z)].groupby(\"uuid\").mean()\n",
    ")"
   ]
  },
  {
   "cell_type": "code",
   "execution_count": 58,
   "metadata": {},
   "outputs": [
    {
     "name": "stderr",
     "output_type": "stream",
     "text": [
      "/tmp/ipykernel_1437869/793294521.py:2: FutureWarning: The default value of numeric_only in DataFrameGroupBy.mean is deprecated. In a future version, numeric_only will default to False. Either specify numeric_only or select only columns which should be valid for the function.\n",
      "  snippets.loc[snippets[\"x\"] >= 0].groupby([\"x_sample\", \"uuid\"]).mean()\n"
     ]
    }
   ],
   "source": [
    "post_session_amplitudes = (\n",
    "    snippets.loc[snippets[\"x\"] >= 0].groupby([\"x_sample\", \"uuid\"]).mean()\n",
    ")"
   ]
  },
  {
   "cell_type": "code",
   "execution_count": 59,
   "metadata": {},
   "outputs": [],
   "source": [
    "sample_to_time_map = post_session_amplitudes[\"x\"]\n",
    "sample_to_time_map = sample_to_time_map.loc[\n",
    "    ~sample_to_time_map.index.duplicated(keep=\"first\")\n",
    "].dropna()"
   ]
  },
  {
   "cell_type": "code",
   "execution_count": 60,
   "metadata": {},
   "outputs": [],
   "source": [
    "check_bins = post_session_amplitudes.index.get_level_values(\"x_sample\").unique()"
   ]
  },
  {
   "cell_type": "code",
   "execution_count": 61,
   "metadata": {},
   "outputs": [],
   "source": [
    "from scipy.stats import mannwhitneyu\n",
    "from statsmodels.stats import multitest"
   ]
  },
  {
   "cell_type": "code",
   "execution_count": 62,
   "metadata": {},
   "outputs": [],
   "source": [
    "use_test = mannwhitneyu"
   ]
  },
  {
   "cell_type": "code",
   "execution_count": 63,
   "metadata": {},
   "outputs": [],
   "source": [
    "dcts = []\n",
    "# convert bin number to string\n",
    "for _bin in check_bins:\n",
    "\n",
    "    dat1 = pre_session_amplitudes[use_signal].dropna().values\n",
    "    dat2 = post_session_amplitudes.loc[_bin][use_signal].dropna().values\n",
    "\n",
    "    stat, pval = use_test(\n",
    "        dat1,\n",
    "        dat2,\n",
    "        alternative=\"less\",\n",
    "    )\n",
    "\n",
    "    timepoint = str(np.around(sample_to_time_map.loc[_bin].iat[0], 3))\n",
    "    dct = {}\n",
    "    dct[\"stat\"] = stat\n",
    "    dct[\"p\"] = pval\n",
    "    dct[\"t\"] = timepoint\n",
    "    dct[\"test\"] = str(use_test.__name__)\n",
    "    dct[\"n1\"] = len(dat1)\n",
    "    dct[\"n2\"] = len(dat2)\n",
    "    dcts.append(dct)"
   ]
  },
  {
   "cell_type": "code",
   "execution_count": 64,
   "metadata": {},
   "outputs": [],
   "source": [
    "pval_df = pd.DataFrame(dcts)\n",
    "pval_df[\"p\"] = multitest.multipletests(pval_df[\"p\"], method=\"holm\")[1]"
   ]
  },
  {
   "cell_type": "code",
   "execution_count": 65,
   "metadata": {},
   "outputs": [],
   "source": [
    "import json"
   ]
  },
  {
   "cell_type": "code",
   "execution_count": 66,
   "metadata": {},
   "outputs": [],
   "source": [
    "with open(\n",
    "    os.path.join(proc_dirs[\"dlight\"], f\"opto_da_stim_timing_stats_{use_signal}.toml\"),\n",
    "    \"w\",\n",
    ") as f:\n",
    "    toml.dump(json.loads(json.dumps(pval_df.to_dict())), f)"
   ]
  },
  {
   "cell_type": "code",
   "execution_count": 67,
   "metadata": {},
   "outputs": [
    {
     "data": {
      "text/html": [
       "<div>\n",
       "<style scoped>\n",
       "    .dataframe tbody tr th:only-of-type {\n",
       "        vertical-align: middle;\n",
       "    }\n",
       "\n",
       "    .dataframe tbody tr th {\n",
       "        vertical-align: top;\n",
       "    }\n",
       "\n",
       "    .dataframe thead th {\n",
       "        text-align: right;\n",
       "    }\n",
       "</style>\n",
       "<table border=\"1\" class=\"dataframe\">\n",
       "  <thead>\n",
       "    <tr style=\"text-align: right;\">\n",
       "      <th></th>\n",
       "      <th>stat</th>\n",
       "      <th>p</th>\n",
       "      <th>t</th>\n",
       "      <th>test</th>\n",
       "      <th>n1</th>\n",
       "      <th>n2</th>\n",
       "    </tr>\n",
       "  </thead>\n",
       "  <tbody>\n",
       "    <tr>\n",
       "      <th>0</th>\n",
       "      <td>4590.0</td>\n",
       "      <td>1.000000e+00</td>\n",
       "      <td>0.0</td>\n",
       "      <td>mannwhitneyu</td>\n",
       "      <td>90</td>\n",
       "      <td>90</td>\n",
       "    </tr>\n",
       "    <tr>\n",
       "      <th>1</th>\n",
       "      <td>5220.0</td>\n",
       "      <td>1.000000e+00</td>\n",
       "      <td>0.033</td>\n",
       "      <td>mannwhitneyu</td>\n",
       "      <td>90</td>\n",
       "      <td>90</td>\n",
       "    </tr>\n",
       "    <tr>\n",
       "      <th>2</th>\n",
       "      <td>2610.0</td>\n",
       "      <td>5.629111e-03</td>\n",
       "      <td>0.067</td>\n",
       "      <td>mannwhitneyu</td>\n",
       "      <td>90</td>\n",
       "      <td>90</td>\n",
       "    </tr>\n",
       "    <tr>\n",
       "      <th>3</th>\n",
       "      <td>360.0</td>\n",
       "      <td>7.118505e-24</td>\n",
       "      <td>0.1</td>\n",
       "      <td>mannwhitneyu</td>\n",
       "      <td>90</td>\n",
       "      <td>90</td>\n",
       "    </tr>\n",
       "    <tr>\n",
       "      <th>4</th>\n",
       "      <td>630.0</td>\n",
       "      <td>1.971573e-20</td>\n",
       "      <td>0.133</td>\n",
       "      <td>mannwhitneyu</td>\n",
       "      <td>90</td>\n",
       "      <td>90</td>\n",
       "    </tr>\n",
       "    <tr>\n",
       "      <th>...</th>\n",
       "      <td>...</td>\n",
       "      <td>...</td>\n",
       "      <td>...</td>\n",
       "      <td>...</td>\n",
       "      <td>...</td>\n",
       "      <td>...</td>\n",
       "    </tr>\n",
       "    <tr>\n",
       "      <th>295</th>\n",
       "      <td>3420.0</td>\n",
       "      <td>1.000000e+00</td>\n",
       "      <td>9.833</td>\n",
       "      <td>mannwhitneyu</td>\n",
       "      <td>90</td>\n",
       "      <td>90</td>\n",
       "    </tr>\n",
       "    <tr>\n",
       "      <th>296</th>\n",
       "      <td>4410.0</td>\n",
       "      <td>1.000000e+00</td>\n",
       "      <td>9.867</td>\n",
       "      <td>mannwhitneyu</td>\n",
       "      <td>90</td>\n",
       "      <td>90</td>\n",
       "    </tr>\n",
       "    <tr>\n",
       "      <th>297</th>\n",
       "      <td>4230.0</td>\n",
       "      <td>1.000000e+00</td>\n",
       "      <td>9.9</td>\n",
       "      <td>mannwhitneyu</td>\n",
       "      <td>90</td>\n",
       "      <td>90</td>\n",
       "    </tr>\n",
       "    <tr>\n",
       "      <th>298</th>\n",
       "      <td>4230.0</td>\n",
       "      <td>1.000000e+00</td>\n",
       "      <td>9.933</td>\n",
       "      <td>mannwhitneyu</td>\n",
       "      <td>90</td>\n",
       "      <td>90</td>\n",
       "    </tr>\n",
       "    <tr>\n",
       "      <th>299</th>\n",
       "      <td>3690.0</td>\n",
       "      <td>1.000000e+00</td>\n",
       "      <td>9.967</td>\n",
       "      <td>mannwhitneyu</td>\n",
       "      <td>90</td>\n",
       "      <td>90</td>\n",
       "    </tr>\n",
       "  </tbody>\n",
       "</table>\n",
       "<p>300 rows × 6 columns</p>\n",
       "</div>"
      ],
      "text/plain": [
       "       stat             p      t          test  n1  n2\n",
       "0    4590.0  1.000000e+00    0.0  mannwhitneyu  90  90\n",
       "1    5220.0  1.000000e+00  0.033  mannwhitneyu  90  90\n",
       "2    2610.0  5.629111e-03  0.067  mannwhitneyu  90  90\n",
       "3     360.0  7.118505e-24    0.1  mannwhitneyu  90  90\n",
       "4     630.0  1.971573e-20  0.133  mannwhitneyu  90  90\n",
       "..      ...           ...    ...           ...  ..  ..\n",
       "295  3420.0  1.000000e+00  9.833  mannwhitneyu  90  90\n",
       "296  4410.0  1.000000e+00  9.867  mannwhitneyu  90  90\n",
       "297  4230.0  1.000000e+00    9.9  mannwhitneyu  90  90\n",
       "298  4230.0  1.000000e+00  9.933  mannwhitneyu  90  90\n",
       "299  3690.0  1.000000e+00  9.967  mannwhitneyu  90  90\n",
       "\n",
       "[300 rows x 6 columns]"
      ]
     },
     "execution_count": 67,
     "metadata": {},
     "output_type": "execute_result"
    }
   ],
   "source": [
    "pval_df"
   ]
  },
  {
   "cell_type": "code",
   "execution_count": null,
   "metadata": {},
   "outputs": [],
   "source": []
  },
  {
   "cell_type": "code",
   "execution_count": null,
   "metadata": {},
   "outputs": [],
   "source": []
  },
  {
   "cell_type": "code",
   "execution_count": null,
   "metadata": {},
   "outputs": [],
   "source": []
  },
  {
   "cell_type": "code",
   "execution_count": null,
   "metadata": {},
   "outputs": [],
   "source": []
  }
 ],
 "metadata": {
  "kernelspec": {
   "display_name": "Python [conda env:spont-da]",
   "language": "python",
   "name": "conda-env-spont-da-py"
  },
  "language_info": {
   "codemirror_mode": {
    "name": "ipython",
    "version": 3
   },
   "file_extension": ".py",
   "mimetype": "text/x-python",
   "name": "python",
   "nbconvert_exporter": "python",
   "pygments_lexer": "ipython3",
   "version": "3.10.8"
  },
  "toc": {
   "base_numbering": 1,
   "nav_menu": {},
   "number_sections": true,
   "sideBar": true,
   "skip_h1_title": false,
   "title_cell": "Table of Contents",
   "title_sidebar": "Contents",
   "toc_cell": false,
   "toc_position": {
    "height": "calc(100% - 180px)",
    "left": "10px",
    "top": "150px",
    "width": "287px"
   },
   "toc_section_display": true,
   "toc_window_display": true
  }
 },
 "nbformat": 4,
 "nbformat_minor": 4
}
