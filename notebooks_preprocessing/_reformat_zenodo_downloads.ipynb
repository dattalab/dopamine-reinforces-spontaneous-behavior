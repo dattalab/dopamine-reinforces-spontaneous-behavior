{
 "cells": [
  {
   "cell_type": "markdown",
   "metadata": {},
   "source": [
    "# Reformat dataframes to be memory-efficient\n",
    "\n",
    "**NOTE**: you need at least 160GB of RAM to reformat the data"
   ]
  },
  {
   "cell_type": "code",
   "execution_count": 2,
   "metadata": {},
   "outputs": [],
   "source": [
    "from tqdm.auto import tqdm\n",
    "import pyarrow as pa\n",
    "import pandas as pd\n",
    "import toml\n",
    "import os"
   ]
  },
  {
   "cell_type": "markdown",
   "metadata": {},
   "source": [
    "## Replace BASEDIR in `analysis_configuration.toml` with path to zenodo data download"
   ]
  },
  {
   "cell_type": "code",
   "execution_count": 2,
   "metadata": {},
   "outputs": [],
   "source": [
    "# folder where data was downloaded\n",
    "DATA_DIR = os.path.expanduser(\"~/zenodo_download/\")\n",
    "\n",
    "\n",
    "with open(\n",
    "    \"../analysis_configuration.TEMPLATE\",\n",
    "    \"r\",\n",
    ") as f:\n",
    "    config_str = f.read()\n",
    "\n",
    "config_str = config_str.replace(\"/BASEDIR\", DATA_DIR)\n",
    "\n",
    "with open(\n",
    "    \"../analysis_configuration.toml\",\n",
    "    \"w\",\n",
    ") as f:\n",
    "    f.write(config_str)"
   ]
  },
  {
   "cell_type": "code",
   "execution_count": 3,
   "metadata": {},
   "outputs": [],
   "source": [
    "with open(\n",
    "    \"../analysis_configuration.toml\",\n",
    "    \"r\",\n",
    ") as f:\n",
    "    analysis_config = toml.load(f)"
   ]
  },
  {
   "cell_type": "code",
   "execution_count": 4,
   "metadata": {},
   "outputs": [],
   "source": [
    "raw_dirs = analysis_config[\"raw_data\"]\n",
    "proc_dirs = analysis_config[\"intermediate_results\"]\n",
    "closed_loop_cfg = analysis_config[\"closed_loop_behavior\"]\n",
    "dlight_cfg = analysis_config[\"dlight_common\"]"
   ]
  },
  {
   "cell_type": "code",
   "execution_count": 5,
   "metadata": {},
   "outputs": [],
   "source": [
    "files_to_reformat = {\n",
    "    os.path.join(raw_dirs[\"closed_loop_behavior\"], \"closed_loop_behavior.parquet\"): {\n",
    "        \"partition_cols\": closed_loop_cfg[\"partition_cols\"],\n",
    "        \"compression\": \"brotli\",\n",
    "    },\n",
    "    os.path.join(\n",
    "        raw_dirs[\"closed_loop_behavior\"],\n",
    "        \"closed_loop_behavior_with_simulated_triggers.parquet\",\n",
    "    ): {\n",
    "        \"partition_cols\": closed_loop_cfg[\"partition_cols\"],\n",
    "        \"compression\": \"brotli\",\n",
    "    },\n",
    "    os.path.join(raw_dirs[\"dlight\"], \"dlight_photometry_processed_full.parquet\"): {\n",
    "        \"partition_cols\": [\"area\", \"mouse_id\", \"uuid\"],\n",
    "        \"compression\": \"brotli\",\n",
    "    },\n",
    "}"
   ]
  },
  {
   "cell_type": "code",
   "execution_count": 6,
   "metadata": {},
   "outputs": [
    {
     "data": {
      "text/plain": [
       "{'/n/groups/datta/win/dopamine-data-release/zenodo-test/optoda_raw_data/closed_loop_behavior.parquet': {'partition_cols': ['experiment_type',\n",
       "   'area',\n",
       "   'mouse_id']},\n",
       " '/n/groups/datta/win/dopamine-data-release/zenodo-test/optoda_raw_data/closed_loop_behavior_with_simulated_triggers.parquet': {'partition_cols': ['experiment_type',\n",
       "   'area',\n",
       "   'mouse_id']},\n",
       " '/n/groups/datta/win/dopamine-data-release/zenodo-test/dlight_raw_data/dlight_photometry_processed_full.parquet': {'partition_cols': ['area',\n",
       "   'mouse_id',\n",
       "   'uuid']}}"
      ]
     },
     "execution_count": 6,
     "metadata": {},
     "output_type": "execute_result"
    }
   ],
   "source": [
    "files_to_reformat"
   ]
  },
  {
   "cell_type": "code",
   "execution_count": 7,
   "metadata": {},
   "outputs": [],
   "source": [
    "# set to number of CPUs your machine has\n",
    "pa.set_cpu_count(4)"
   ]
  },
  {
   "cell_type": "code",
   "execution_count": 8,
   "metadata": {},
   "outputs": [
    {
     "data": {
      "application/vnd.jupyter.widget-view+json": {
       "model_id": "fdb8865951df47d48b9743c150065b8e",
       "version_major": 2,
       "version_minor": 0
      },
      "text/plain": [
       "  0%|          | 0/3 [00:00<?, ?it/s]"
      ]
     },
     "metadata": {},
     "output_type": "display_data"
    },
    {
     "name": "stdout",
     "output_type": "stream",
     "text": [
      "Reformating /n/groups/datta/win/dopamine-data-release/zenodo-test/optoda_raw_data/closed_loop_behavior_transfer.parquet to /n/groups/datta/win/dopamine-data-release/zenodo-test/optoda_raw_data/closed_loop_behavior.parquet\n",
      "Reformating /n/groups/datta/win/dopamine-data-release/zenodo-test/optoda_raw_data/closed_loop_behavior_with_simulated_triggers_transfer.parquet to /n/groups/datta/win/dopamine-data-release/zenodo-test/optoda_raw_data/closed_loop_behavior_with_simulated_triggers.parquet\n",
      "Reformating /n/groups/datta/win/dopamine-data-release/zenodo-test/dlight_raw_data/dlight_photometry_processed_full_transfer.parquet to /n/groups/datta/win/dopamine-data-release/zenodo-test/dlight_raw_data/dlight_photometry_processed_full.parquet\n"
     ]
    }
   ],
   "source": [
    "for new_file, kwargs in tqdm(files_to_reformat.items()):\n",
    "    fname, ext = os.path.splitext(new_file)\n",
    "    old_file = f\"{fname}_transfer{ext}\"\n",
    "    print(f\"Reformating {old_file} to {new_file}\")\n",
    "    _reformat_df = pd.read_parquet(old_file)\n",
    "    _reformat_df.to_parquet(new_file, **kwargs)"
   ]
  },
  {
   "cell_type": "code",
   "execution_count": null,
   "metadata": {},
   "outputs": [],
   "source": []
  }
 ],
 "metadata": {
  "kernelspec": {
   "display_name": "Python [conda env:spont-da]",
   "language": "python",
   "name": "conda-env-spont-da-py"
  },
  "language_info": {
   "codemirror_mode": {
    "name": "ipython",
    "version": 3
   },
   "file_extension": ".py",
   "mimetype": "text/x-python",
   "name": "python",
   "nbconvert_exporter": "python",
   "pygments_lexer": "ipython3",
   "version": "3.10.8"
  },
  "toc": {
   "base_numbering": 1,
   "nav_menu": {},
   "number_sections": true,
   "sideBar": true,
   "skip_h1_title": false,
   "title_cell": "Table of Contents",
   "title_sidebar": "Contents",
   "toc_cell": false,
   "toc_position": {
    "height": "calc(100% - 180px)",
    "left": "10px",
    "top": "150px",
    "width": "287px"
   },
   "toc_section_display": true,
   "toc_window_display": true
  },
  "widgets": {
   "application/vnd.jupyter.widget-state+json": {
    "state": {},
    "version_major": 2,
    "version_minor": 0
   }
  }
 },
 "nbformat": 4,
 "nbformat_minor": 4
}
