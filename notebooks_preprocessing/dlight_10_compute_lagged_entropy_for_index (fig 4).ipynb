{
 "cells": [
  {
   "cell_type": "markdown",
   "metadata": {},
   "source": [
    "# Compute syllable sequences and entropy in an expanding window after syllable onset (for fig. 4)\n",
    "\n",
    "1. Note that you can use a dask scheduler by setting `dask_address` to the address of the scheduler (see `../analysis_configuration.toml`)\n",
    "1. Note that you must compute `syllable_stats_offline.toml` via `all_behavior_00_statemap_and_syllable_stats.ipynb` first!"
   ]
  },
  {
   "cell_type": "code",
   "execution_count": 1,
   "metadata": {},
   "outputs": [],
   "source": [
    "%load_ext autoreload\n",
    "%autoreload 2\n",
    "%matplotlib inline"
   ]
  },
  {
   "cell_type": "code",
   "execution_count": 2,
   "metadata": {},
   "outputs": [],
   "source": [
    "from tqdm.auto import tqdm\n",
    "from rl_analysis.batch import (\n",
    "    apply_parallel_joblib,\n",
    ")\n",
    "from rl_analysis.photometry.lagged import get_syllable_sequence_stats\n",
    "from rl_analysis.io.df import dlight_exclude\n",
    "from rl_analysis.info.util import dm_entropy\n",
    "from rl_analysis.util import randomize_cols\n",
    "from functools import partial\n",
    "\n",
    "import tempfile\n",
    "import pandas as pd\n",
    "import numpy as np\n",
    "import os"
   ]
  },
  {
   "cell_type": "code",
   "execution_count": 3,
   "metadata": {},
   "outputs": [],
   "source": [
    "# note that we're using observed TRUE for downstream groupby so whatever is a categorical will get dropped\n",
    "# if it's not observed\n",
    "convs = {\n",
    "    \"timestamp\": \"float32\",\n",
    "    \"snippet\": \"int64\",\n",
    "    \"syllable\": \"category\",\n",
    "    \"next_syllable\": \"uint8\",\n",
    "    \"bin\": \"category\",\n",
    "    \"time_bin\": \"float32\",\n",
    "    \"dlight_bin\": \"category\",\n",
    "    \"mouse_id\": \"category\",\n",
    "    \"uuid\": \"category\",\n",
    "    \"counts\": \"uint16\",\n",
    "}"
   ]
  },
  {
   "cell_type": "code",
   "execution_count": 4,
   "metadata": {},
   "outputs": [],
   "source": [
    "force = True\n",
    "# dask_address = None"
   ]
  },
  {
   "cell_type": "code",
   "execution_count": 5,
   "metadata": {},
   "outputs": [],
   "source": [
    "import toml\n",
    "\n",
    "with open(\"../analysis_configuration.toml\", \"r\") as f:\n",
    "    analysis_config = toml.load(f)"
   ]
  },
  {
   "cell_type": "code",
   "execution_count": 6,
   "metadata": {},
   "outputs": [],
   "source": [
    "raw_dirs = analysis_config[\"raw_data\"]\n",
    "proc_dirs = analysis_config[\"intermediate_results\"]\n",
    "lagged_cfg = analysis_config[\"dlight_lagged_correlations\"]\n",
    "dlight_cfg = analysis_config[\"dlight_common\"]\n",
    "dask_address = analysis_config[\"dask\"].get(\"address\")"
   ]
  },
  {
   "cell_type": "code",
   "execution_count": 7,
   "metadata": {},
   "outputs": [],
   "source": [
    "file_suffix = \"offline\" if lagged_cfg[\"use_offline\"] else \"online\"\n",
    "load_file = os.path.join(raw_dirs[\"dlight\"], f\"dlight_snippets_{file_suffix}.parquet\")"
   ]
  },
  {
   "cell_type": "code",
   "execution_count": 9,
   "metadata": {},
   "outputs": [],
   "source": [
    "file, ext = os.path.splitext(load_file)\n",
    "features_save_file = f\"{file}_features{ext}\"\n",
    "\n",
    "if lagged_cfg[\"use_renormalized\"]:\n",
    "    file, ext = os.path.splitext(features_save_file)\n",
    "    features_save_file = f\"{file}_renormalize{ext}\"\n",
    "\n",
    "rle_save_file = features_save_file.replace(\"snippet\", \"usage\")\n",
    "\n",
    "dirname, filename = os.path.split(features_save_file)\n",
    "file, ext = os.path.splitext(filename)\n",
    "file = os.path.join(proc_dirs[\"dlight\"], file)\n",
    "\n",
    "if lagged_cfg[\"estimate_within_bin\"]:\n",
    "    file = f\"{file}_withinbin\"\n",
    "\n",
    "results_file = f\"{file}_lag_global_entropy_for_index.parquet\"\n",
    "results_tm_file = f\"{file}_lag_global_entropy_tms_for_index.npy\"\n",
    "corr_file = f\"{file}_lag_global_entropy_correlations_for_index_per_mouse.parquet\"\n",
    "shuffle_file = f\"{file}_lag_global_entropy_shuffle_for_index_per_mouse.parquet\"\n",
    "ents_file = f\"{file}_lag_global_entropy_ents_for_index.parquet\""
   ]
  },
  {
   "cell_type": "code",
   "execution_count": 10,
   "metadata": {},
   "outputs": [],
   "source": [
    "use_features = []\n",
    "for _use_win in lagged_cfg[\"use_windows\"]:\n",
    "    use_features += [f\"{_}_{_use_win}\" for _ in lagged_cfg[\"use_neural_features\"]]\n",
    "scalar_keys = lagged_cfg[\"usage_and_scalars\"][\"scalars\"]"
   ]
  },
  {
   "cell_type": "markdown",
   "metadata": {
    "tags": []
   },
   "source": [
    "## Load in pre-processed data"
   ]
  },
  {
   "cell_type": "code",
   "execution_count": 11,
   "metadata": {},
   "outputs": [],
   "source": [
    "feature_df = pd.read_parquet(features_save_file)\n",
    "rle_df = pd.read_parquet(rle_save_file)"
   ]
  },
  {
   "cell_type": "code",
   "execution_count": 12,
   "metadata": {},
   "outputs": [],
   "source": [
    "use_area = \"dls\"\n",
    "# we can only exclude sessions since these calculations depend on contiguity, remove specific trials later\n",
    "feature_df = feature_df.loc[\n",
    "    (feature_df[\"area\"] == use_area) & (~feature_df[\"session_number\"].isin([1, 2]))\n",
    "].copy()"
   ]
  },
  {
   "cell_type": "code",
   "execution_count": 13,
   "metadata": {},
   "outputs": [],
   "source": [
    "with open(\n",
    "    os.path.join(proc_dirs[\"dlight\"], \"lagged_analysis_session_bins.toml\"), \"r\"\n",
    ") as f:\n",
    "    use_session_bins = toml.load(f)[\"session_bins\"]\n",
    "\n",
    "syllable_stats = toml.load(\n",
    "    os.path.join(proc_dirs[\"dlight\"], f\"syllable_stats_photometry_{file_suffix}.toml\")\n",
    ")\n",
    "usage = syllable_stats[\"usages\"]\n",
    "mapping = {int(k): int(v) for k, v in syllable_stats[\"syllable_to_sorted_idx\"].items()}\n",
    "reverse_mapping = {\n",
    "    int(k): int(v) for k, v in syllable_stats[\"sorted_idx_to_syllable\"].items()\n",
    "}\n",
    "\n",
    "use_syllables = np.array(list(mapping.keys()))\n",
    "use_syllables = use_syllables[use_syllables >= 0]"
   ]
  },
  {
   "cell_type": "code",
   "execution_count": 14,
   "metadata": {},
   "outputs": [],
   "source": [
    "feature_df[\"syllable\"] = feature_df[\"syllable\"].map(mapping)\n",
    "rle_df[\"syllable\"] = rle_df[\"syllable\"].map(mapping)"
   ]
  },
  {
   "cell_type": "markdown",
   "metadata": {
    "tags": []
   },
   "source": [
    "# Stage data for downstream computation"
   ]
  },
  {
   "cell_type": "code",
   "execution_count": 15,
   "metadata": {},
   "outputs": [],
   "source": [
    "feature_df[\"time_bin\"] = pd.cut(feature_df[\"timestamp\"], use_session_bins, labels=False)"
   ]
  },
  {
   "cell_type": "code",
   "execution_count": 16,
   "metadata": {},
   "outputs": [],
   "source": [
    "try:\n",
    "    feature_df = feature_df.set_index(\"window_tup\", append=True)\n",
    "except KeyError:\n",
    "    pass"
   ]
  },
  {
   "cell_type": "code",
   "execution_count": 17,
   "metadata": {},
   "outputs": [],
   "source": [
    "wins = feature_df.index.get_level_values(-1).unique()"
   ]
  },
  {
   "cell_type": "code",
   "execution_count": 18,
   "metadata": {},
   "outputs": [],
   "source": [
    "idx = pd.IndexSlice"
   ]
  },
  {
   "cell_type": "code",
   "execution_count": 19,
   "metadata": {},
   "outputs": [
    {
     "data": {
      "application/vnd.jupyter.widget-view+json": {
       "model_id": "254d4785f6c145c2b407d92b81c5a800",
       "version_major": 2,
       "version_minor": 0
      },
      "text/plain": [
       "  0%|          | 0/8 [00:00<?, ?it/s]"
      ]
     },
     "metadata": {},
     "output_type": "display_data"
    }
   ],
   "source": [
    "dfs = []\n",
    "for _idx in tqdm(wins):\n",
    "    use_vals = feature_df.loc[idx[:, _idx], lagged_cfg[\"use_neural_features\"]]\n",
    "    use_vals.columns = [f\"{_}_{_idx}\" for _ in use_vals.columns]\n",
    "    use_vals.index = use_vals.index.droplevel(-1)\n",
    "    dfs.append(use_vals)"
   ]
  },
  {
   "cell_type": "code",
   "execution_count": 20,
   "metadata": {},
   "outputs": [],
   "source": [
    "meta_cols = feature_df.columns.difference(feature_df.filter(regex=\"dff\").columns)"
   ]
  },
  {
   "cell_type": "code",
   "execution_count": 21,
   "metadata": {},
   "outputs": [],
   "source": [
    "meta_df = feature_df[meta_cols].loc[idx[:, _idx], :]\n",
    "meta_df.index = meta_df.index.droplevel(-1)"
   ]
  },
  {
   "cell_type": "code",
   "execution_count": 22,
   "metadata": {},
   "outputs": [],
   "source": [
    "feature_df = pd.concat(dfs, axis=1).join(meta_df)"
   ]
  },
  {
   "cell_type": "code",
   "execution_count": 23,
   "metadata": {},
   "outputs": [],
   "source": [
    "rle_df[\"duration\"] = rle_df.groupby(\"uuid\")[\"timestamp\"].shift(-1) - rle_df[\"timestamp\"]"
   ]
  },
  {
   "cell_type": "code",
   "execution_count": 24,
   "metadata": {},
   "outputs": [],
   "source": [
    "feature_df = feature_df.reset_index()"
   ]
  },
  {
   "cell_type": "code",
   "execution_count": 25,
   "metadata": {},
   "outputs": [],
   "source": [
    "rle_df[\"syllable_num\"] = rle_df.groupby([\"uuid\"])[\"syllable\"].transform(\n",
    "    lambda x: np.arange(len(x))\n",
    ")\n",
    "feature_df = feature_df.sort_values([\"timestamp\", \"uuid\"]).dropna(subset=[\"timestamp\"])\n",
    "rle_df = rle_df.sort_values([\"timestamp\", \"uuid\"])\n",
    "rle_df[\"timestamp\"] = rle_df[\"timestamp\"].astype(\"float32\")\n",
    "\n",
    "feature_df[\"uuid\"] = feature_df[\"uuid\"].astype(\"str\")\n",
    "feature_df = pd.merge_asof(\n",
    "    feature_df, rle_df[[\"timestamp\", \"uuid\", \"syllable_num\"]], on=\"timestamp\", by=\"uuid\"\n",
    ")\n",
    "feature_df = feature_df.sort_values([\"uuid\", \"timestamp\"])\n",
    "rle_df = rle_df.sort_values([\"uuid\", \"timestamp\"])"
   ]
  },
  {
   "cell_type": "markdown",
   "metadata": {
    "tags": []
   },
   "source": [
    "# Now we compute values triggered on syllable instances, storing features we want to split by downstream (dLight, scalars, etc.)"
   ]
  },
  {
   "cell_type": "code",
   "execution_count": 26,
   "metadata": {},
   "outputs": [],
   "source": [
    "usage_bins = np.arange(5, 61, 5)"
   ]
  },
  {
   "cell_type": "code",
   "execution_count": 27,
   "metadata": {},
   "outputs": [],
   "source": [
    "truncate = syllable_stats[\"truncate\"]"
   ]
  },
  {
   "cell_type": "code",
   "execution_count": 28,
   "metadata": {},
   "outputs": [],
   "source": [
    "idx = pd.IndexSlice"
   ]
  },
  {
   "cell_type": "code",
   "execution_count": 29,
   "metadata": {},
   "outputs": [],
   "source": [
    "if lagged_cfg[\"estimate_within_bin\"]:\n",
    "    group_keys = [\"uuid\", \"time_bin\"]\n",
    "else:\n",
    "    group_keys = [\"uuid\"]\n",
    "group_obj = feature_df.groupby(group_keys)"
   ]
  },
  {
   "cell_type": "code",
   "execution_count": 30,
   "metadata": {},
   "outputs": [],
   "source": [
    "use_syllables = [int(_) for _ in use_syllables]"
   ]
  },
  {
   "cell_type": "code",
   "execution_count": 31,
   "metadata": {
    "tags": []
   },
   "outputs": [
    {
     "name": "stdout",
     "output_type": "stream",
     "text": [
      "2500\n"
     ]
    },
    {
     "name": "stderr",
     "output_type": "stream",
     "text": [
      "[Parallel(n_jobs=-10)]: Using backend LokyBackend with 119 concurrent workers.\n",
      "[Parallel(n_jobs=-10)]: Done   4 tasks      | elapsed:    4.4s\n",
      "[Parallel(n_jobs=-10)]: Done  27 tasks      | elapsed:    5.1s\n",
      "[Parallel(n_jobs=-10)]: Done  50 tasks      | elapsed:    6.0s\n",
      "[Parallel(n_jobs=-10)]: Done  75 tasks      | elapsed:    6.9s\n",
      "[Parallel(n_jobs=-10)]: Done 100 tasks      | elapsed:    7.9s\n",
      "[Parallel(n_jobs=-10)]: Done 127 tasks      | elapsed:    9.1s\n",
      "[Parallel(n_jobs=-10)]: Done 154 tasks      | elapsed:   10.6s\n",
      "[Parallel(n_jobs=-10)]: Done 183 tasks      | elapsed:   12.6s\n",
      "[Parallel(n_jobs=-10)]: Done 212 tasks      | elapsed:   14.0s\n",
      "[Parallel(n_jobs=-10)]: Done 243 tasks      | elapsed:   15.6s\n",
      "[Parallel(n_jobs=-10)]: Done 274 tasks      | elapsed:   17.0s\n",
      "[Parallel(n_jobs=-10)]: Done 307 tasks      | elapsed:   18.4s\n",
      "[Parallel(n_jobs=-10)]: Done 340 tasks      | elapsed:   19.8s\n",
      "[Parallel(n_jobs=-10)]: Done 375 tasks      | elapsed:   21.3s\n",
      "[Parallel(n_jobs=-10)]: Done 410 tasks      | elapsed:   22.8s\n",
      "[Parallel(n_jobs=-10)]: Done 447 tasks      | elapsed:   24.4s\n",
      "[Parallel(n_jobs=-10)]: Done 484 tasks      | elapsed:   26.0s\n",
      "[Parallel(n_jobs=-10)]: Done 523 tasks      | elapsed:   27.6s\n",
      "[Parallel(n_jobs=-10)]: Done 562 tasks      | elapsed:   29.2s\n",
      "[Parallel(n_jobs=-10)]: Done 603 tasks      | elapsed:   31.1s\n",
      "[Parallel(n_jobs=-10)]: Done 644 tasks      | elapsed:   33.1s\n",
      "[Parallel(n_jobs=-10)]: Done 687 tasks      | elapsed:   35.0s\n",
      "[Parallel(n_jobs=-10)]: Done 730 tasks      | elapsed:   36.9s\n",
      "[Parallel(n_jobs=-10)]: Done 775 tasks      | elapsed:   39.2s\n",
      "[Parallel(n_jobs=-10)]: Done 820 tasks      | elapsed:   41.1s\n",
      "[Parallel(n_jobs=-10)]: Done 867 tasks      | elapsed:   43.2s\n",
      "[Parallel(n_jobs=-10)]: Done 914 tasks      | elapsed:   45.4s\n",
      "[Parallel(n_jobs=-10)]: Done 963 tasks      | elapsed:   47.4s\n",
      "[Parallel(n_jobs=-10)]: Done 1012 tasks      | elapsed:   49.4s\n",
      "[Parallel(n_jobs=-10)]: Done 1063 tasks      | elapsed:   51.7s\n",
      "[Parallel(n_jobs=-10)]: Done 1114 tasks      | elapsed:   53.9s\n",
      "[Parallel(n_jobs=-10)]: Done 1167 tasks      | elapsed:   56.1s\n",
      "[Parallel(n_jobs=-10)]: Done 1220 tasks      | elapsed:   58.3s\n",
      "[Parallel(n_jobs=-10)]: Done 1275 tasks      | elapsed:  1.0min\n",
      "[Parallel(n_jobs=-10)]: Done 1330 tasks      | elapsed:  1.1min\n",
      "[Parallel(n_jobs=-10)]: Done 1387 tasks      | elapsed:  1.1min\n",
      "[Parallel(n_jobs=-10)]: Done 1444 tasks      | elapsed:  1.1min\n",
      "[Parallel(n_jobs=-10)]: Done 1503 tasks      | elapsed:  1.2min\n",
      "[Parallel(n_jobs=-10)]: Done 1562 tasks      | elapsed:  1.2min\n",
      "[Parallel(n_jobs=-10)]: Done 1623 tasks      | elapsed:  1.3min\n",
      "[Parallel(n_jobs=-10)]: Done 1684 tasks      | elapsed:  1.3min\n",
      "[Parallel(n_jobs=-10)]: Done 1747 tasks      | elapsed:  1.4min\n",
      "[Parallel(n_jobs=-10)]: Done 1810 tasks      | elapsed:  1.4min\n",
      "[Parallel(n_jobs=-10)]: Done 1875 tasks      | elapsed:  1.5min\n",
      "[Parallel(n_jobs=-10)]: Done 1940 tasks      | elapsed:  1.5min\n",
      "[Parallel(n_jobs=-10)]: Done 2007 tasks      | elapsed:  1.6min\n",
      "[Parallel(n_jobs=-10)]: Done 2074 tasks      | elapsed:  1.6min\n",
      "[Parallel(n_jobs=-10)]: Done 2143 tasks      | elapsed:  1.7min\n",
      "[Parallel(n_jobs=-10)]: Done 2212 tasks      | elapsed:  1.7min\n",
      "[Parallel(n_jobs=-10)]: Done 2500 out of 2500 | elapsed:  1.9min finished\n"
     ]
    },
    {
     "data": {
      "application/vnd.jupyter.widget-view+json": {
       "model_id": "473038c75c0e4fca938a06c9481c5bc0",
       "version_major": 2,
       "version_minor": 0
      },
      "text/plain": [
       "  0%|          | 0/10 [00:00<?, ?it/s]"
      ]
     },
     "metadata": {},
     "output_type": "display_data"
    },
    {
     "name": "stderr",
     "output_type": "stream",
     "text": [
      "/tmp/ipykernel_1379181/3494670117.py:33: SettingWithCopyWarning: \n",
      "A value is trying to be set on a copy of a slice from a DataFrame.\n",
      "Try using .loc[row_indexer,col_indexer] = value instead\n",
      "\n",
      "See the caveats in the documentation: https://pandas.pydata.org/pandas-docs/stable/user_guide/indexing.html#returning-a-view-versus-a-copy\n",
      "  save_rates[\"tm\"] = tm_list\n"
     ]
    }
   ],
   "source": [
    "if not os.path.exists(results_file) or force:\n",
    "    func = partial(\n",
    "        get_syllable_sequence_stats,\n",
    "        chk_syllables=np.arange(100),\n",
    "        truncate=syllable_stats[\"truncate\"],\n",
    "        usage_bins=usage_bins,\n",
    "        dlight_features=use_features,\n",
    "        K=len(usage),\n",
    "    )\n",
    "    print(group_obj.ngroups)\n",
    "    syllable_rates = apply_parallel_joblib(group_obj, func, n_jobs=-10, backend=\"loky\")\n",
    "    syllable_rates = syllable_rates.reset_index()\n",
    "\n",
    "    for k, v in tqdm(convs.items()):\n",
    "        try:\n",
    "            syllable_rates[k] = syllable_rates[k].astype(v)\n",
    "        except KeyError:\n",
    "            pass\n",
    "\n",
    "    save_rates = syllable_rates[syllable_rates.columns.difference([\"tm\"])]\n",
    "    tm_list = syllable_rates[\"tm\"].to_list()\n",
    "\n",
    "    syllable_rates[\"total_duration\"] = (\n",
    "        syllable_rates[\"count\"] * syllable_rates[\"duration\"]\n",
    "    )\n",
    "    save_rates.to_parquet(results_file)\n",
    "    np.save(results_tm_file, tm_list)\n",
    "else:\n",
    "    save_rates = pd.read_parquet(results_file)\n",
    "    # tm_mat = np.load(results_tm_file)\n",
    "    tm_mat = np.load(results_tm_file)[:, :truncate, :truncate]\n",
    "    tm_list = list(tm_mat)\n",
    "save_rates[\"tm\"] = tm_list"
   ]
  },
  {
   "cell_type": "markdown",
   "metadata": {
    "tags": []
   },
   "source": [
    "# Compute correlations"
   ]
  },
  {
   "cell_type": "code",
   "execution_count": 32,
   "metadata": {},
   "outputs": [],
   "source": [
    "from copy import deepcopy\n",
    "import gc"
   ]
  },
  {
   "cell_type": "code",
   "execution_count": 33,
   "metadata": {},
   "outputs": [
    {
     "data": {
      "text/plain": [
       "0"
      ]
     },
     "execution_count": 33,
     "metadata": {},
     "output_type": "execute_result"
    }
   ],
   "source": [
    "del feature_df, rle_df\n",
    "gc.collect()"
   ]
  },
  {
   "cell_type": "code",
   "execution_count": 35,
   "metadata": {},
   "outputs": [],
   "source": [
    "use_syllable_rates = save_rates.copy()\n",
    "use_syllable_rates = use_syllable_rates.loc[use_syllable_rates[\"area\"] == \"dls\"].copy()\n",
    "use_syllable_rates = dlight_exclude(\n",
    "    use_syllable_rates, exclude_3s=False, syllable_key=\"syllable\", **dlight_cfg\n",
    ")"
   ]
  },
  {
   "cell_type": "code",
   "execution_count": 36,
   "metadata": {},
   "outputs": [],
   "source": [
    "idx = pd.IndexSlice\n"
   ]
  },
  {
   "cell_type": "code",
   "execution_count": 37,
   "metadata": {},
   "outputs": [],
   "source": [
    "ndlight_bins = 20\n",
    "bin_column = use_features[0]\n",
    "dlight_bin_keys = [\"mouse_id\", \"syllable\"]\n",
    "bin_data = True\n",
    "\n",
    "pre_agg_keys = deepcopy(lagged_cfg[\"entropy\"][\"pre_agg_keys\"]) + [\"syllable\"]\n",
    "agg_keys = deepcopy(lagged_cfg[\"entropy\"][\"agg_keys\"]) + [\"syllable\"]\n",
    "correlation_keys = deepcopy(lagged_cfg[\"entropy\"][\"correlation_keys\"])\n",
    "correlation_keys = [\"dlight_bin_feature\", \"bin\", \"mouse_id\", \"syllable\"]\n",
    "\n",
    "if lagged_cfg[\"estimate_within_bin\"]:\n",
    "    pre_agg_keys = [\"time_bin\"] + pre_agg_keys\n",
    "    agg_keys = [\"time_bin\"] + agg_keys\n",
    "    correlation_keys = [\"time_bin\"] + correlation_keys\n",
    "\n",
    "# what features are we correlating? (dlight_bin, entropy and number of transitions in bin)\n",
    "corr_cols = [\"dlight_bin\", \"entropy\"]"
   ]
  },
  {
   "cell_type": "code",
   "execution_count": 38,
   "metadata": {},
   "outputs": [],
   "source": [
    "def get_bins(x, ndlight_bins):\n",
    "    try:\n",
    "        results = pd.qcut(x, ndlight_bins, labels=False, duplicates=\"drop\")\n",
    "    except IndexError:\n",
    "        results = np.ones((len(x),))\n",
    "        results[:] = np.nan\n",
    "        results = pd.Series(data=results, index=x.index)\n",
    "    return results"
   ]
  },
  {
   "cell_type": "code",
   "execution_count": 39,
   "metadata": {},
   "outputs": [
    {
     "data": {
      "application/vnd.jupyter.widget-view+json": {
       "model_id": "5dc0e8e55de64b1fba45cd6f0a6c8ce7",
       "version_major": 2,
       "version_minor": 0
      },
      "text/plain": [
       "  0%|          | 0/1 [00:00<?, ?it/s]"
      ]
     },
     "metadata": {},
     "output_type": "display_data"
    }
   ],
   "source": [
    "# dlight binning\n",
    "# NOTE PREVIOUSLY BINNED BY UUID\n",
    "if bin_data:\n",
    "    cat_rates = []\n",
    "    for _feature in tqdm(use_features):\n",
    "        _tmp_rates = use_syllable_rates.copy()\n",
    "        if dlight_bin_keys is not None:\n",
    "            _tmp_rates[\"dlight_bin\"] = (\n",
    "                _tmp_rates.groupby(dlight_bin_keys)[_feature].transform(\n",
    "                    lambda x: get_bins(x, ndlight_bins)\n",
    "                )\n",
    "                # .transform(lambda x: pd.qcut(x, ndlight_bins, labels=False, duplicates=\"drop\"))\n",
    "            ).astype(\"category\")\n",
    "        else:\n",
    "            _tmp_rates[\"dlight_bin\"] = get_bins(_tmp_rates[_feature], ndlight_bins)\n",
    "        _tmp_rates[\"dlight_bin_feature\"] = _feature\n",
    "        cat_rates.append(_tmp_rates.dropna(subset=[\"dlight_bin\"]))\n",
    "        use_syllable_rates = pd.concat(cat_rates, axis=0).reset_index(drop=True)\n",
    "else:\n",
    "    pass"
   ]
  },
  {
   "cell_type": "code",
   "execution_count": 40,
   "metadata": {},
   "outputs": [],
   "source": [
    "use_syllable_rates[\"syllable\"] = use_syllable_rates[\"syllable\"].astype(\"int\")\n",
    "\n",
    "# aggregation one\n",
    "agg_rates = (\n",
    "    use_syllable_rates.groupby(pre_agg_keys, observed=True)[\"tm\"].sum().sort_index()\n",
    ")\n",
    "agg_rates = agg_rates.reset_index()"
   ]
  },
  {
   "cell_type": "code",
   "execution_count": 41,
   "metadata": {},
   "outputs": [
    {
     "data": {
      "application/vnd.jupyter.widget-view+json": {
       "model_id": "16841b0cc48a45e6bfb26cf3e6b938df",
       "version_major": 2,
       "version_minor": 0
      },
      "text/plain": [
       "  0%|          | 0/10 [00:00<?, ?it/s]"
      ]
     },
     "metadata": {},
     "output_type": "display_data"
    }
   ],
   "source": [
    "# need to reconvert data types to conserve memory\n",
    "for k, v in tqdm(convs.items()):\n",
    "    try:\n",
    "        agg_rates[k] = agg_rates[k].astype(v)\n",
    "    except KeyError:\n",
    "        pass"
   ]
  },
  {
   "cell_type": "code",
   "execution_count": 42,
   "metadata": {},
   "outputs": [],
   "source": [
    "# aggregation 2\n",
    "ave_rates = agg_rates.groupby(agg_keys, observed=True)[\"tm\"].sum().dropna()"
   ]
  },
  {
   "cell_type": "code",
   "execution_count": 43,
   "metadata": {},
   "outputs": [],
   "source": [
    "tqdm.pandas()"
   ]
  },
  {
   "cell_type": "code",
   "execution_count": 44,
   "metadata": {},
   "outputs": [
    {
     "data": {
      "application/vnd.jupyter.widget-view+json": {
       "model_id": "19ece1a087b84cf18e550bd0708d3a11",
       "version_major": 2,
       "version_minor": 0
      },
      "text/plain": [
       "  0%|          | 0/770325 [00:00<?, ?it/s]"
      ]
     },
     "metadata": {},
     "output_type": "display_data"
    }
   ],
   "source": [
    "totals = ave_rates.progress_apply(lambda x: x.sum())"
   ]
  },
  {
   "cell_type": "code",
   "execution_count": 45,
   "metadata": {},
   "outputs": [],
   "source": [
    "# count transitions in each bin and threshold\n",
    "totals = ave_rates.groupby(agg_keys, observed=True).apply(lambda x: x.sum().sum())\n",
    "use_syllables = totals[totals > 100].index"
   ]
  },
  {
   "cell_type": "code",
   "execution_count": 46,
   "metadata": {},
   "outputs": [],
   "source": [
    "# ensure we have all bins\n",
    "use_rates = ave_rates.loc[use_syllables]\n",
    "chk_keys = list(set(agg_keys[:-1]) - set([\"dlight_bin\"]))"
   ]
  },
  {
   "cell_type": "code",
   "execution_count": 47,
   "metadata": {},
   "outputs": [
    {
     "data": {
      "application/vnd.jupyter.widget-view+json": {
       "model_id": "5ebdfc17ce404a9fb3e8cdadab8ae71e",
       "version_major": 2,
       "version_minor": 0
      },
      "text/plain": [
       "  0%|          | 0/494817 [00:00<?, ?it/s]"
      ]
     },
     "metadata": {},
     "output_type": "display_data"
    }
   ],
   "source": [
    "ents = use_rates.progress_apply(\n",
    "    lambda x: dm_entropy(\n",
    "        x[:truncate, :truncate], alpha=\"perks\", marginalize=False, axis=1\n",
    "    )\n",
    ")\n",
    "ents.to_frame().to_parquet(os.path.join(proc_dirs[\"dlight\"], ents_file))"
   ]
  },
  {
   "cell_type": "code",
   "execution_count": 48,
   "metadata": {},
   "outputs": [],
   "source": [
    "use_rates = pd.concat([use_rates, ents.rename(\"entropy\")], axis=1)\n",
    "\n",
    "if bin_data:\n",
    "    use_rates = use_rates.reset_index()\n",
    "    use_rates[\"dlight_bin\"] = use_rates[\"dlight_bin\"].astype(\"float\")\n",
    "    use_rates[\"bin\"] = use_rates[\"bin\"].astype(\"uint16\")\n",
    "else:\n",
    "    neural_ave = save_rates.groupby(ave_rates.index.names)[use_features].mean()\n",
    "    neural_ave = neural_ave.groupby([\"bin\"]).transform(\n",
    "        lambda x: (x - x.mean()) / x.std()\n",
    "    )\n",
    "    use_rates = pd.concat([use_rates, neural_ave], axis=1).dropna()"
   ]
  },
  {
   "cell_type": "code",
   "execution_count": 50,
   "metadata": {},
   "outputs": [
    {
     "name": "stdout",
     "output_type": "stream",
     "text": [
      "CPU times: user 8.01 s, sys: 272 ms, total: 8.28 s\n",
      "Wall time: 8.29 s\n"
     ]
    }
   ],
   "source": [
    "%%time\n",
    "if not os.path.exists(corr_file) or force:\n",
    "    obs_corrs = use_rates.groupby(correlation_keys, observed=True)[corr_cols].corr(\n",
    "        **lagged_cfg[\"entropy\"][\"corr_kwargs\"]\n",
    "    )\n",
    "    obs_corrs.index = obs_corrs.index.set_names(\"feature\", level=-1)\n",
    "    obs_corrs.to_parquet(corr_file)\n",
    "else:\n",
    "    obs_corrs = pd.read_parquet(corr_file)"
   ]
  },
  {
   "cell_type": "code",
   "execution_count": 51,
   "metadata": {},
   "outputs": [],
   "source": [
    "use_correlation_keys = [\"time_bin\", \"dlight_bin_feature\", \"bin\", \"mouse_id\"]\n",
    "# use_correlation_keys = correlation_keys\n",
    "use_agg_keys = use_correlation_keys + [\"dlight_bin\"]"
   ]
  },
  {
   "cell_type": "code",
   "execution_count": 52,
   "metadata": {},
   "outputs": [],
   "source": [
    "from copy import deepcopy\n",
    "\n",
    "\n",
    "def shuffler_corr(\n",
    "    df,\n",
    "    # tm_mat,\n",
    "    tm_list,\n",
    "    # col_marginals,\n",
    "    idx,\n",
    "    group_by=use_correlation_keys,\n",
    "    pre_agg_group_by=use_agg_keys,\n",
    "    pre_agg_func=\"sum\",\n",
    "    compute_cols=corr_cols,\n",
    "    corr_kwargs=lagged_cfg[\"entropy\"][\"corr_kwargs\"],\n",
    "    truncate=truncate,\n",
    "):\n",
    "\n",
    "    use_df = df.copy()\n",
    "    use_tms = deepcopy(tm_list)\n",
    "    _ = [randomize_cols(_tm) for _tm in use_tms]\n",
    "\n",
    "    use_df[\"tm\"] = list(use_tms)\n",
    "\n",
    "    use_agg_df = use_df.groupby(pre_agg_group_by, observed=True)[\"tm\"].sum()\n",
    "    use_agg_df = use_agg_df.reset_index()\n",
    "\n",
    "    ents = (\n",
    "        use_agg_df[\"tm\"].apply(\n",
    "            lambda x: (\n",
    "                dm_entropy(\n",
    "                    x[:truncate, :truncate], alpha=\"perks\", marginalize=False, axis=1\n",
    "                )\n",
    "            )\n",
    "        )\n",
    "    ).rename(\"entropy\")\n",
    "    use_agg_df[\"entropy\"] = ents\n",
    "    use_agg_df[\"dlight_bin\"] = use_agg_df[\"dlight_bin\"].astype(\"float\")\n",
    "    use_agg_df[\"bin\"] = use_agg_df[\"bin\"].astype(\"uint16\")\n",
    "\n",
    "    shuffle_df = use_agg_df.groupby(group_by, observed=True)[compute_cols].corr(\n",
    "        **lagged_cfg[\"entropy\"][\"corr_kwargs\"]\n",
    "    )\n",
    "    shuffle_df.index = shuffle_df.index.set_names(\"feature\", level=-1)\n",
    "    shuffle_df[\"idx\"] = idx\n",
    "    return shuffle_df"
   ]
  },
  {
   "cell_type": "code",
   "execution_count": 53,
   "metadata": {},
   "outputs": [],
   "source": [
    "features = agg_rates[\"dlight_bin_feature\"].unique()"
   ]
  },
  {
   "cell_type": "code",
   "execution_count": 54,
   "metadata": {},
   "outputs": [],
   "source": [
    "nshuffles = 100"
   ]
  },
  {
   "cell_type": "code",
   "execution_count": 55,
   "metadata": {},
   "outputs": [],
   "source": [
    "from joblib import Parallel, delayed"
   ]
  },
  {
   "cell_type": "code",
   "execution_count": null,
   "metadata": {},
   "outputs": [
    {
     "name": "stdout",
     "output_type": "stream",
     "text": [
      "100\n"
     ]
    },
    {
     "name": "stderr",
     "output_type": "stream",
     "text": [
      "[Parallel(n_jobs=45)]: Using backend LokyBackend with 45 concurrent workers.\n",
      "[Parallel(n_jobs=45)]: Done   8 tasks      | elapsed:  8.4min\n",
      "[Parallel(n_jobs=45)]: Done  22 out of 100 | elapsed:  8.6min remaining: 30.5min\n",
      "[Parallel(n_jobs=45)]: Done  33 out of 100 | elapsed:  8.7min remaining: 17.7min\n",
      "[Parallel(n_jobs=45)]: Done  44 out of 100 | elapsed:  8.9min remaining: 11.3min\n",
      "[Parallel(n_jobs=45)]: Done  55 out of 100 | elapsed: 16.2min remaining: 13.3min\n",
      "[Parallel(n_jobs=45)]: Done  66 out of 100 | elapsed: 16.4min remaining:  8.5min\n",
      "[Parallel(n_jobs=45)]: Done  77 out of 100 | elapsed: 16.6min remaining:  5.0min\n",
      "[Parallel(n_jobs=45)]: Done  88 out of 100 | elapsed: 16.8min remaining:  2.3min\n"
     ]
    }
   ],
   "source": [
    "%%time\n",
    "if not os.path.exists(shuffle_file) or force:\n",
    "    delays = []\n",
    "    for _feature in features:\n",
    "        proc_rates = agg_rates.loc[agg_rates[\"dlight_bin_feature\"] == _feature].copy()\n",
    "        proc_rates = proc_rates.set_index(use_syllables.names)\n",
    "        proc_rates = proc_rates.loc[\n",
    "            use_syllables.intersection(proc_rates.index)\n",
    "        ].reset_index()\n",
    "        copy_rates = proc_rates[proc_rates.columns.difference([\"tm\"])].copy()\n",
    "        tm_list = np.stack(proc_rates[\"tm\"])\n",
    "\n",
    "        if not np.any((tm_list > 256)):\n",
    "            tm_list = tm_list.astype(\"uint8\")\n",
    "\n",
    "        delays += [\n",
    "            delayed(shuffler_corr)(copy_rates, tm_list, sidx)\n",
    "            for sidx in range(nshuffles)\n",
    "        ]\n",
    "\n",
    "    print(len(delays))\n",
    "    ret_list = Parallel(n_jobs=45, verbose=10, temp_folder=tempfile.gettempdir())(delays)\n",
    "    shuffle_df = pd.concat(ret_list, axis=0)\n",
    "    shuffle_df.to_parquet(shuffle_file)"
   ]
  },
  {
   "cell_type": "code",
   "execution_count": 58,
   "metadata": {},
   "outputs": [
    {
     "name": "stdout",
     "output_type": "stream",
     "text": [
      "/home/markowitzmeister_gmail_com/jeff_win_share/reinforcement_data/_final_test/_data/dlight_intermediate_results/dlight_snippets_offline_features_withinbin_lag_global_entropy_shuffle_for_index_per_mouse.parquet\n"
     ]
    }
   ],
   "source": [
    "print(shuffle_file)"
   ]
  },
  {
   "cell_type": "code",
   "execution_count": null,
   "metadata": {},
   "outputs": [],
   "source": []
  }
 ],
 "metadata": {
  "kernelspec": {
   "display_name": "Python [conda env:spont-da]",
   "language": "python",
   "name": "conda-env-spont-da-py"
  },
  "language_info": {
   "codemirror_mode": {
    "name": "ipython",
    "version": 3
   },
   "file_extension": ".py",
   "mimetype": "text/x-python",
   "name": "python",
   "nbconvert_exporter": "python",
   "pygments_lexer": "ipython3",
   "version": "3.10.8"
  },
  "widgets": {
   "application/vnd.jupyter.widget-state+json": {
    "state": {
     "015bf6f85aa04633a7dda0daff5612bd": {
      "model_module": "@jupyter-widgets/controls",
      "model_module_version": "1.5.0",
      "model_name": "ProgressStyleModel",
      "state": {
       "description_width": "initial"
      }
     },
     "0188fa3b32884bd58c54d1a0dcfd94c6": {
      "model_module": "@jupyter-widgets/controls",
      "model_module_version": "1.5.0",
      "model_name": "HBoxModel",
      "state": {
       "children": [
        "IPY_MODEL_e454c6c2890c4084acc85983dce47fc4",
        "IPY_MODEL_9cbd5d01284748c49f2a5bfe4ae97d31"
       ],
       "layout": "IPY_MODEL_74ffb9908c62431bb196de0795f6645a"
      }
     },
     "026a1bcdae5346699365e48aa6cace58": {
      "model_module": "@jupyter-widgets/controls",
      "model_module_version": "1.5.0",
      "model_name": "HBoxModel",
      "state": {
       "children": [
        "IPY_MODEL_45956762fdd24175b0bd279598057b39",
        "IPY_MODEL_bb4fd7b1f691458b81bf0e582f236f4f"
       ],
       "layout": "IPY_MODEL_6d0eb327a9884d028714d4f9f799cc9c"
      }
     },
     "05cd2d8f5b15457fbeb14dda0bfc2e46": {
      "model_module": "@jupyter-widgets/base",
      "model_module_version": "1.2.0",
      "model_name": "LayoutModel",
      "state": {}
     },
     "0b132e4db48a4409bd54ed95b919c314": {
      "model_module": "@jupyter-widgets/base",
      "model_module_version": "1.2.0",
      "model_name": "LayoutModel",
      "state": {}
     },
     "0e4df3dad9214540af92b992cd72eeea": {
      "model_module": "@jupyter-widgets/controls",
      "model_module_version": "1.5.0",
      "model_name": "DescriptionStyleModel",
      "state": {
       "description_width": ""
      }
     },
     "116a29c654a74edf82fb4dd362d55764": {
      "model_module": "@jupyter-widgets/controls",
      "model_module_version": "1.5.0",
      "model_name": "DescriptionStyleModel",
      "state": {
       "description_width": ""
      }
     },
     "1628a141025c4f8aadb39d8ecfb72d73": {
      "model_module": "@jupyter-widgets/base",
      "model_module_version": "1.2.0",
      "model_name": "LayoutModel",
      "state": {}
     },
     "1d5cb71772c0454fa805233742191477": {
      "model_module": "@jupyter-widgets/base",
      "model_module_version": "1.2.0",
      "model_name": "LayoutModel",
      "state": {}
     },
     "1fd56e9ad55a4f1499e43591c86fcc66": {
      "model_module": "@jupyter-widgets/controls",
      "model_module_version": "1.5.0",
      "model_name": "HBoxModel",
      "state": {
       "children": [
        "IPY_MODEL_31d89422cbd44fe99dd87f02d05710f8",
        "IPY_MODEL_b1b0f0d12602417e9f2576ec69a9ce43"
       ],
       "layout": "IPY_MODEL_b0c404ba9e534008a062bc1df73e00e2"
      }
     },
     "28a919f2abbc48fcaf8b76eed040e97f": {
      "model_module": "@jupyter-widgets/controls",
      "model_module_version": "1.5.0",
      "model_name": "FloatProgressModel",
      "state": {
       "bar_style": "success",
       "description": "100%",
       "layout": "IPY_MODEL_930f1462cb034ad8baf8752382ec8eab",
       "max": 54404,
       "style": "IPY_MODEL_015bf6f85aa04633a7dda0daff5612bd",
       "value": 54404
      }
     },
     "2a05def7df604aefb1063c42a442a9cc": {
      "model_module": "@jupyter-widgets/controls",
      "model_module_version": "1.5.0",
      "model_name": "HTMLModel",
      "state": {
       "layout": "IPY_MODEL_6d904ec8d96a4c6c8e816d5d6a4b7222",
       "style": "IPY_MODEL_116a29c654a74edf82fb4dd362d55764",
       "value": " 1080/1080 [01:05&lt;00:00, 16.42it/s]"
      }
     },
     "2d52003cf5e64a319d8b3f8395672374": {
      "model_module": "@jupyter-widgets/controls",
      "model_module_version": "1.5.0",
      "model_name": "FloatProgressModel",
      "state": {
       "bar_style": "success",
       "description": "100%",
       "layout": "IPY_MODEL_5398069d757043e0b218cd9540132242",
       "max": 54404,
       "style": "IPY_MODEL_ea85ab1c5e99411c8b72c69f140fcf63",
       "value": 54404
      }
     },
     "30ecdd1e161145f3b0cea2da2b5ed087": {
      "model_module": "@jupyter-widgets/controls",
      "model_module_version": "1.5.0",
      "model_name": "DescriptionStyleModel",
      "state": {
       "description_width": ""
      }
     },
     "3111470fa018471d94ccda8b2b65e951": {
      "model_module": "@jupyter-widgets/controls",
      "model_module_version": "1.5.0",
      "model_name": "HBoxModel",
      "state": {
       "children": [
        "IPY_MODEL_b88c6de73384477abb6afd2e93eed85d",
        "IPY_MODEL_89a07ff193214c5d9374f03786bd1c98"
       ],
       "layout": "IPY_MODEL_dfcfb5b728e64d50938fb47cda7c18dd"
      }
     },
     "3181571a0f5d4473b487a05a5b0d229e": {
      "model_module": "@jupyter-widgets/controls",
      "model_module_version": "1.5.0",
      "model_name": "HBoxModel",
      "state": {
       "children": [
        "IPY_MODEL_2d52003cf5e64a319d8b3f8395672374",
        "IPY_MODEL_f766ce281f2b439c9f477a1fd9375542"
       ],
       "layout": "IPY_MODEL_3b2d57676262459690f598d5808383eb"
      }
     },
     "31d89422cbd44fe99dd87f02d05710f8": {
      "model_module": "@jupyter-widgets/controls",
      "model_module_version": "1.5.0",
      "model_name": "FloatProgressModel",
      "state": {
       "bar_style": "success",
       "description": "100%",
       "layout": "IPY_MODEL_d92bf18225aa4456be58160b521f607f",
       "max": 54404,
       "style": "IPY_MODEL_601bdf1dea7f4c58b70d501d27d161b2",
       "value": 54404
      }
     },
     "339b4b8e25d94e36bf24c329900ca9dd": {
      "model_module": "@jupyter-widgets/controls",
      "model_module_version": "1.5.0",
      "model_name": "HBoxModel",
      "state": {
       "children": [
        "IPY_MODEL_f201d480ab45492894affaa7dacc71e6",
        "IPY_MODEL_2a05def7df604aefb1063c42a442a9cc"
       ],
       "layout": "IPY_MODEL_cf2e01f46e4648719127f85aa3cc9857"
      }
     },
     "3509b38326ff44d9880d3c56978a67b1": {
      "model_module": "@jupyter-widgets/controls",
      "model_module_version": "1.5.0",
      "model_name": "ProgressStyleModel",
      "state": {
       "description_width": "initial"
      }
     },
     "366d29ede43645aba4c8946cd9553dca": {
      "model_module": "@jupyter-widgets/base",
      "model_module_version": "1.2.0",
      "model_name": "LayoutModel",
      "state": {}
     },
     "3b2d57676262459690f598d5808383eb": {
      "model_module": "@jupyter-widgets/base",
      "model_module_version": "1.2.0",
      "model_name": "LayoutModel",
      "state": {}
     },
     "3c845b383ebb400a8870b7723735df43": {
      "model_module": "@jupyter-widgets/controls",
      "model_module_version": "1.5.0",
      "model_name": "FloatProgressModel",
      "state": {
       "bar_style": "success",
       "description": "100%",
       "layout": "IPY_MODEL_1628a141025c4f8aadb39d8ecfb72d73",
       "max": 1080,
       "style": "IPY_MODEL_3509b38326ff44d9880d3c56978a67b1",
       "value": 1080
      }
     },
     "401964b01792439f923bfad8b3a96923": {
      "model_module": "@jupyter-widgets/controls",
      "model_module_version": "1.5.0",
      "model_name": "ProgressStyleModel",
      "state": {
       "description_width": "initial"
      }
     },
     "45956762fdd24175b0bd279598057b39": {
      "model_module": "@jupyter-widgets/controls",
      "model_module_version": "1.5.0",
      "model_name": "FloatProgressModel",
      "state": {
       "bar_style": "success",
       "description": "100%",
       "layout": "IPY_MODEL_1d5cb71772c0454fa805233742191477",
       "max": 54404,
       "style": "IPY_MODEL_8ef6d764628f4e64b399545ab6527759",
       "value": 54404
      }
     },
     "4b0431f5fd4d4122b15c6a719d4cbe2a": {
      "model_module": "@jupyter-widgets/controls",
      "model_module_version": "1.5.0",
      "model_name": "DescriptionStyleModel",
      "state": {
       "description_width": ""
      }
     },
     "4e5cc1bc2777405dbd8829fce162fca1": {
      "model_module": "@jupyter-widgets/controls",
      "model_module_version": "1.5.0",
      "model_name": "HTMLModel",
      "state": {
       "layout": "IPY_MODEL_5c89955369cb4da2b1b4cceaf9ce2ccb",
       "style": "IPY_MODEL_c654f16f8c2143b7a45125b4b8b6f7b6",
       "value": " 1080/1080 [00:12&lt;00:00, 88.77it/s]"
      }
     },
     "5398069d757043e0b218cd9540132242": {
      "model_module": "@jupyter-widgets/base",
      "model_module_version": "1.2.0",
      "model_name": "LayoutModel",
      "state": {}
     },
     "56f1fdaa4d0a45ef903bdd0c2934fa96": {
      "model_module": "@jupyter-widgets/base",
      "model_module_version": "1.2.0",
      "model_name": "LayoutModel",
      "state": {}
     },
     "5c89955369cb4da2b1b4cceaf9ce2ccb": {
      "model_module": "@jupyter-widgets/base",
      "model_module_version": "1.2.0",
      "model_name": "LayoutModel",
      "state": {}
     },
     "601bdf1dea7f4c58b70d501d27d161b2": {
      "model_module": "@jupyter-widgets/controls",
      "model_module_version": "1.5.0",
      "model_name": "ProgressStyleModel",
      "state": {
       "description_width": "initial"
      }
     },
     "606d96232d354b0fa8b740c7ea160fb8": {
      "model_module": "@jupyter-widgets/base",
      "model_module_version": "1.2.0",
      "model_name": "LayoutModel",
      "state": {}
     },
     "67c2f837fd494a209cd1149005350c08": {
      "model_module": "@jupyter-widgets/base",
      "model_module_version": "1.2.0",
      "model_name": "LayoutModel",
      "state": {}
     },
     "6ae9d298b1944e37ac0ac7760c4454bd": {
      "model_module": "@jupyter-widgets/base",
      "model_module_version": "1.2.0",
      "model_name": "LayoutModel",
      "state": {}
     },
     "6d0eb327a9884d028714d4f9f799cc9c": {
      "model_module": "@jupyter-widgets/base",
      "model_module_version": "1.2.0",
      "model_name": "LayoutModel",
      "state": {}
     },
     "6d904ec8d96a4c6c8e816d5d6a4b7222": {
      "model_module": "@jupyter-widgets/base",
      "model_module_version": "1.2.0",
      "model_name": "LayoutModel",
      "state": {}
     },
     "6f00736114674d6fa4235fab7ea66987": {
      "model_module": "@jupyter-widgets/controls",
      "model_module_version": "1.5.0",
      "model_name": "HTMLModel",
      "state": {
       "layout": "IPY_MODEL_0b132e4db48a4409bd54ed95b919c314",
       "style": "IPY_MODEL_f2d2ce28af8445e6b6997326e9585282",
       "value": " 54404/54404 [01:12&lt;00:00, 747.23it/s]"
      }
     },
     "72865a63c24b4e6c957091bd4f17ff36": {
      "model_module": "@jupyter-widgets/controls",
      "model_module_version": "1.5.0",
      "model_name": "FloatProgressModel",
      "state": {
       "bar_style": "success",
       "description": "100%",
       "layout": "IPY_MODEL_dd953a20354a43cd92f2e445d5394dbf",
       "max": 1080,
       "style": "IPY_MODEL_b757ed952a9d486fa7a37bc574536832",
       "value": 1080
      }
     },
     "72e679171ac746b08570af95b76fd259": {
      "model_module": "@jupyter-widgets/controls",
      "model_module_version": "1.5.0",
      "model_name": "HBoxModel",
      "state": {
       "children": [
        "IPY_MODEL_72865a63c24b4e6c957091bd4f17ff36",
        "IPY_MODEL_9fb7a3e3bddb4a6e8575c0f84be76682"
       ],
       "layout": "IPY_MODEL_bb8945d47283432184c4bb9ec975abfc"
      }
     },
     "736c15b2871647a2a556f64f4277a4d4": {
      "model_module": "@jupyter-widgets/base",
      "model_module_version": "1.2.0",
      "model_name": "LayoutModel",
      "state": {}
     },
     "74ffb9908c62431bb196de0795f6645a": {
      "model_module": "@jupyter-widgets/base",
      "model_module_version": "1.2.0",
      "model_name": "LayoutModel",
      "state": {}
     },
     "78e8e4b82eaf466bafdd8e7d39b1010c": {
      "model_module": "@jupyter-widgets/base",
      "model_module_version": "1.2.0",
      "model_name": "LayoutModel",
      "state": {}
     },
     "89a07ff193214c5d9374f03786bd1c98": {
      "model_module": "@jupyter-widgets/controls",
      "model_module_version": "1.5.0",
      "model_name": "HTMLModel",
      "state": {
       "layout": "IPY_MODEL_e267c04e84be44409271ece8c0e4c19a",
       "style": "IPY_MODEL_0e4df3dad9214540af92b992cd72eeea",
       "value": " 54404/54404 [01:19&lt;00:00, 687.67it/s]"
      }
     },
     "8ab41df5d90d45fbbb292d7d052e94c2": {
      "model_module": "@jupyter-widgets/controls",
      "model_module_version": "1.5.0",
      "model_name": "FloatProgressModel",
      "state": {
       "bar_style": "success",
       "description": "100%",
       "layout": "IPY_MODEL_ac8002e8ac0d43f5984985f22a70f7b4",
       "max": 54404,
       "style": "IPY_MODEL_e213006180a442b2af5d8284633ddfef",
       "value": 54404
      }
     },
     "8ef6d764628f4e64b399545ab6527759": {
      "model_module": "@jupyter-widgets/controls",
      "model_module_version": "1.5.0",
      "model_name": "ProgressStyleModel",
      "state": {
       "description_width": "initial"
      }
     },
     "930f1462cb034ad8baf8752382ec8eab": {
      "model_module": "@jupyter-widgets/base",
      "model_module_version": "1.2.0",
      "model_name": "LayoutModel",
      "state": {}
     },
     "9cbd5d01284748c49f2a5bfe4ae97d31": {
      "model_module": "@jupyter-widgets/controls",
      "model_module_version": "1.5.0",
      "model_name": "HTMLModel",
      "state": {
       "layout": "IPY_MODEL_56f1fdaa4d0a45ef903bdd0c2934fa96",
       "style": "IPY_MODEL_f74323266cd5439e8889fca892c515cd",
       "value": " 1080/1080 [00:53&lt;00:00, 20.12it/s]"
      }
     },
     "9f19ffec020c4fd6ad815eac4ad621f1": {
      "model_module": "@jupyter-widgets/controls",
      "model_module_version": "1.5.0",
      "model_name": "HTMLModel",
      "state": {
       "layout": "IPY_MODEL_6ae9d298b1944e37ac0ac7760c4454bd",
       "style": "IPY_MODEL_e614c7eaf1a04d999c8d84c258c24a91",
       "value": " 54404/54404 [01:13&lt;00:00, 736.24it/s]"
      }
     },
     "9fb7a3e3bddb4a6e8575c0f84be76682": {
      "model_module": "@jupyter-widgets/controls",
      "model_module_version": "1.5.0",
      "model_name": "HTMLModel",
      "state": {
       "layout": "IPY_MODEL_af95d8679dfc4241a5595af6b78fb191",
       "style": "IPY_MODEL_cacd6c27bf0140d29288188068ba36c8",
       "value": " 1080/1080 [00:41&lt;00:00, 25.99it/s]"
      }
     },
     "a8d5cb51111245dc852cf6d82ec65af3": {
      "model_module": "@jupyter-widgets/controls",
      "model_module_version": "1.5.0",
      "model_name": "ProgressStyleModel",
      "state": {
       "description_width": "initial"
      }
     },
     "a9aac78aa4e1403a88722f19bbaf3736": {
      "model_module": "@jupyter-widgets/base",
      "model_module_version": "1.2.0",
      "model_name": "LayoutModel",
      "state": {}
     },
     "aa038197b9ea48078ee208b4866cc9b2": {
      "model_module": "@jupyter-widgets/base",
      "model_module_version": "1.2.0",
      "model_name": "LayoutModel",
      "state": {}
     },
     "ac8002e8ac0d43f5984985f22a70f7b4": {
      "model_module": "@jupyter-widgets/base",
      "model_module_version": "1.2.0",
      "model_name": "LayoutModel",
      "state": {}
     },
     "ae719a9e1d1144b88977c2ca24524149": {
      "model_module": "@jupyter-widgets/base",
      "model_module_version": "1.2.0",
      "model_name": "LayoutModel",
      "state": {}
     },
     "af95d8679dfc4241a5595af6b78fb191": {
      "model_module": "@jupyter-widgets/base",
      "model_module_version": "1.2.0",
      "model_name": "LayoutModel",
      "state": {}
     },
     "b0c404ba9e534008a062bc1df73e00e2": {
      "model_module": "@jupyter-widgets/base",
      "model_module_version": "1.2.0",
      "model_name": "LayoutModel",
      "state": {}
     },
     "b1b0f0d12602417e9f2576ec69a9ce43": {
      "model_module": "@jupyter-widgets/controls",
      "model_module_version": "1.5.0",
      "model_name": "HTMLModel",
      "state": {
       "layout": "IPY_MODEL_a9aac78aa4e1403a88722f19bbaf3736",
       "style": "IPY_MODEL_4b0431f5fd4d4122b15c6a719d4cbe2a",
       "value": " 54404/54404 [01:13&lt;00:00, 735.43it/s]"
      }
     },
     "b757ed952a9d486fa7a37bc574536832": {
      "model_module": "@jupyter-widgets/controls",
      "model_module_version": "1.5.0",
      "model_name": "ProgressStyleModel",
      "state": {
       "description_width": "initial"
      }
     },
     "b789ad9feeb9492abd21750cbf13485d": {
      "model_module": "@jupyter-widgets/controls",
      "model_module_version": "1.5.0",
      "model_name": "HBoxModel",
      "state": {
       "children": [
        "IPY_MODEL_eae6a738366042a48364ea05b6d99522",
        "IPY_MODEL_e900bb482cdf4ca38dbf1adf057790be"
       ],
       "layout": "IPY_MODEL_78e8e4b82eaf466bafdd8e7d39b1010c"
      }
     },
     "b7f930c9c92946cd81d7d70cd4769616": {
      "model_module": "@jupyter-widgets/controls",
      "model_module_version": "1.5.0",
      "model_name": "ProgressStyleModel",
      "state": {
       "description_width": "initial"
      }
     },
     "b88c6de73384477abb6afd2e93eed85d": {
      "model_module": "@jupyter-widgets/controls",
      "model_module_version": "1.5.0",
      "model_name": "FloatProgressModel",
      "state": {
       "bar_style": "success",
       "description": "100%",
       "layout": "IPY_MODEL_736c15b2871647a2a556f64f4277a4d4",
       "max": 54404,
       "style": "IPY_MODEL_a8d5cb51111245dc852cf6d82ec65af3",
       "value": 54404
      }
     },
     "bb4fd7b1f691458b81bf0e582f236f4f": {
      "model_module": "@jupyter-widgets/controls",
      "model_module_version": "1.5.0",
      "model_name": "HTMLModel",
      "state": {
       "layout": "IPY_MODEL_c99f6e30edb44f4f8f1c2c3a09ec9a3c",
       "style": "IPY_MODEL_ca52366a77e84ba2bdfbf81ad09dd976",
       "value": " 54404/54404 [01:13&lt;00:00, 739.45it/s]"
      }
     },
     "bb8945d47283432184c4bb9ec975abfc": {
      "model_module": "@jupyter-widgets/base",
      "model_module_version": "1.2.0",
      "model_name": "LayoutModel",
      "state": {}
     },
     "c13b400ad0c04eeeb4b58492d35f1613": {
      "model_module": "@jupyter-widgets/controls",
      "model_module_version": "1.5.0",
      "model_name": "HBoxModel",
      "state": {
       "children": [
        "IPY_MODEL_3c845b383ebb400a8870b7723735df43",
        "IPY_MODEL_e1ecdd903368458c972bd552e14a2664"
       ],
       "layout": "IPY_MODEL_f336973b98114fd991c9159dea600047"
      }
     },
     "c14d02e408e64ec49cfb25d075018c82": {
      "model_module": "@jupyter-widgets/controls",
      "model_module_version": "1.5.0",
      "model_name": "DescriptionStyleModel",
      "state": {
       "description_width": ""
      }
     },
     "c1711f38c0f649ea93f0455ddcee731f": {
      "model_module": "@jupyter-widgets/controls",
      "model_module_version": "1.5.0",
      "model_name": "ProgressStyleModel",
      "state": {
       "description_width": "initial"
      }
     },
     "c654f16f8c2143b7a45125b4b8b6f7b6": {
      "model_module": "@jupyter-widgets/controls",
      "model_module_version": "1.5.0",
      "model_name": "DescriptionStyleModel",
      "state": {
       "description_width": ""
      }
     },
     "c99f6e30edb44f4f8f1c2c3a09ec9a3c": {
      "model_module": "@jupyter-widgets/base",
      "model_module_version": "1.2.0",
      "model_name": "LayoutModel",
      "state": {}
     },
     "ca52366a77e84ba2bdfbf81ad09dd976": {
      "model_module": "@jupyter-widgets/controls",
      "model_module_version": "1.5.0",
      "model_name": "DescriptionStyleModel",
      "state": {
       "description_width": ""
      }
     },
     "cacd6c27bf0140d29288188068ba36c8": {
      "model_module": "@jupyter-widgets/controls",
      "model_module_version": "1.5.0",
      "model_name": "DescriptionStyleModel",
      "state": {
       "description_width": ""
      }
     },
     "cf2e01f46e4648719127f85aa3cc9857": {
      "model_module": "@jupyter-widgets/base",
      "model_module_version": "1.2.0",
      "model_name": "LayoutModel",
      "state": {}
     },
     "d433ec3ab57445959373132679e4a7de": {
      "model_module": "@jupyter-widgets/base",
      "model_module_version": "1.2.0",
      "model_name": "LayoutModel",
      "state": {}
     },
     "d4c925fe864448f3b3b6b1c829021618": {
      "model_module": "@jupyter-widgets/controls",
      "model_module_version": "1.5.0",
      "model_name": "ProgressStyleModel",
      "state": {
       "description_width": "initial"
      }
     },
     "d92bf18225aa4456be58160b521f607f": {
      "model_module": "@jupyter-widgets/base",
      "model_module_version": "1.2.0",
      "model_name": "LayoutModel",
      "state": {}
     },
     "dd953a20354a43cd92f2e445d5394dbf": {
      "model_module": "@jupyter-widgets/base",
      "model_module_version": "1.2.0",
      "model_name": "LayoutModel",
      "state": {}
     },
     "dfcfb5b728e64d50938fb47cda7c18dd": {
      "model_module": "@jupyter-widgets/base",
      "model_module_version": "1.2.0",
      "model_name": "LayoutModel",
      "state": {}
     },
     "e1ecdd903368458c972bd552e14a2664": {
      "model_module": "@jupyter-widgets/controls",
      "model_module_version": "1.5.0",
      "model_name": "HTMLModel",
      "state": {
       "layout": "IPY_MODEL_e7fa4dffcfe9416582dd66c2fc9b9785",
       "style": "IPY_MODEL_e783ed588e524b9abf889f85634e96d5",
       "value": " 1080/1080 [03:31&lt;00:00,  5.10it/s]"
      }
     },
     "e213006180a442b2af5d8284633ddfef": {
      "model_module": "@jupyter-widgets/controls",
      "model_module_version": "1.5.0",
      "model_name": "ProgressStyleModel",
      "state": {
       "description_width": "initial"
      }
     },
     "e267c04e84be44409271ece8c0e4c19a": {
      "model_module": "@jupyter-widgets/base",
      "model_module_version": "1.2.0",
      "model_name": "LayoutModel",
      "state": {}
     },
     "e454c6c2890c4084acc85983dce47fc4": {
      "model_module": "@jupyter-widgets/controls",
      "model_module_version": "1.5.0",
      "model_name": "FloatProgressModel",
      "state": {
       "bar_style": "success",
       "description": "100%",
       "layout": "IPY_MODEL_366d29ede43645aba4c8946cd9553dca",
       "max": 1080,
       "style": "IPY_MODEL_c1711f38c0f649ea93f0455ddcee731f",
       "value": 1080
      }
     },
     "e614c7eaf1a04d999c8d84c258c24a91": {
      "model_module": "@jupyter-widgets/controls",
      "model_module_version": "1.5.0",
      "model_name": "DescriptionStyleModel",
      "state": {
       "description_width": ""
      }
     },
     "e783ed588e524b9abf889f85634e96d5": {
      "model_module": "@jupyter-widgets/controls",
      "model_module_version": "1.5.0",
      "model_name": "DescriptionStyleModel",
      "state": {
       "description_width": ""
      }
     },
     "e7fa4dffcfe9416582dd66c2fc9b9785": {
      "model_module": "@jupyter-widgets/base",
      "model_module_version": "1.2.0",
      "model_name": "LayoutModel",
      "state": {}
     },
     "e900bb482cdf4ca38dbf1adf057790be": {
      "model_module": "@jupyter-widgets/controls",
      "model_module_version": "1.5.0",
      "model_name": "HTMLModel",
      "state": {
       "layout": "IPY_MODEL_67c2f837fd494a209cd1149005350c08",
       "style": "IPY_MODEL_c14d02e408e64ec49cfb25d075018c82",
       "value": " 54404/54404 [01:14&lt;00:00, 726.27it/s]"
      }
     },
     "ea85ab1c5e99411c8b72c69f140fcf63": {
      "model_module": "@jupyter-widgets/controls",
      "model_module_version": "1.5.0",
      "model_name": "ProgressStyleModel",
      "state": {
       "description_width": "initial"
      }
     },
     "eaae4616cb964353ae71d232acaf04a5": {
      "model_module": "@jupyter-widgets/controls",
      "model_module_version": "1.5.0",
      "model_name": "HBoxModel",
      "state": {
       "children": [
        "IPY_MODEL_8ab41df5d90d45fbbb292d7d052e94c2",
        "IPY_MODEL_6f00736114674d6fa4235fab7ea66987"
       ],
       "layout": "IPY_MODEL_ed2264d38f794ccfaa7373cf282e12e7"
      }
     },
     "eae6a738366042a48364ea05b6d99522": {
      "model_module": "@jupyter-widgets/controls",
      "model_module_version": "1.5.0",
      "model_name": "FloatProgressModel",
      "state": {
       "bar_style": "success",
       "description": "100%",
       "layout": "IPY_MODEL_05cd2d8f5b15457fbeb14dda0bfc2e46",
       "max": 54404,
       "style": "IPY_MODEL_b7f930c9c92946cd81d7d70cd4769616",
       "value": 54404
      }
     },
     "ecc71ceb48c249ca9735b32b3fae40c9": {
      "model_module": "@jupyter-widgets/controls",
      "model_module_version": "1.5.0",
      "model_name": "HBoxModel",
      "state": {
       "children": [
        "IPY_MODEL_f61bc90e20114d0c97eb08ddeb057ad6",
        "IPY_MODEL_4e5cc1bc2777405dbd8829fce162fca1"
       ],
       "layout": "IPY_MODEL_d433ec3ab57445959373132679e4a7de"
      }
     },
     "ed2264d38f794ccfaa7373cf282e12e7": {
      "model_module": "@jupyter-widgets/base",
      "model_module_version": "1.2.0",
      "model_name": "LayoutModel",
      "state": {}
     },
     "f201d480ab45492894affaa7dacc71e6": {
      "model_module": "@jupyter-widgets/controls",
      "model_module_version": "1.5.0",
      "model_name": "FloatProgressModel",
      "state": {
       "bar_style": "success",
       "description": "100%",
       "layout": "IPY_MODEL_ae719a9e1d1144b88977c2ca24524149",
       "max": 1080,
       "style": "IPY_MODEL_d4c925fe864448f3b3b6b1c829021618",
       "value": 1080
      }
     },
     "f2d2ce28af8445e6b6997326e9585282": {
      "model_module": "@jupyter-widgets/controls",
      "model_module_version": "1.5.0",
      "model_name": "DescriptionStyleModel",
      "state": {
       "description_width": ""
      }
     },
     "f336973b98114fd991c9159dea600047": {
      "model_module": "@jupyter-widgets/base",
      "model_module_version": "1.2.0",
      "model_name": "LayoutModel",
      "state": {}
     },
     "f61bc90e20114d0c97eb08ddeb057ad6": {
      "model_module": "@jupyter-widgets/controls",
      "model_module_version": "1.5.0",
      "model_name": "FloatProgressModel",
      "state": {
       "bar_style": "success",
       "description": "100%",
       "layout": "IPY_MODEL_f99856ae41ee4d53aab555edf95cb659",
       "max": 1080,
       "style": "IPY_MODEL_401964b01792439f923bfad8b3a96923",
       "value": 1080
      }
     },
     "f74323266cd5439e8889fca892c515cd": {
      "model_module": "@jupyter-widgets/controls",
      "model_module_version": "1.5.0",
      "model_name": "DescriptionStyleModel",
      "state": {
       "description_width": ""
      }
     },
     "f766ce281f2b439c9f477a1fd9375542": {
      "model_module": "@jupyter-widgets/controls",
      "model_module_version": "1.5.0",
      "model_name": "HTMLModel",
      "state": {
       "layout": "IPY_MODEL_606d96232d354b0fa8b740c7ea160fb8",
       "style": "IPY_MODEL_30ecdd1e161145f3b0cea2da2b5ed087",
       "value": " 54404/54404 [01:20&lt;00:00, 671.68it/s]"
      }
     },
     "f99856ae41ee4d53aab555edf95cb659": {
      "model_module": "@jupyter-widgets/base",
      "model_module_version": "1.2.0",
      "model_name": "LayoutModel",
      "state": {}
     },
     "f9ad36f7b07b41559ec3fa99d3a27589": {
      "model_module": "@jupyter-widgets/controls",
      "model_module_version": "1.5.0",
      "model_name": "HBoxModel",
      "state": {
       "children": [
        "IPY_MODEL_28a919f2abbc48fcaf8b76eed040e97f",
        "IPY_MODEL_9f19ffec020c4fd6ad815eac4ad621f1"
       ],
       "layout": "IPY_MODEL_aa038197b9ea48078ee208b4866cc9b2"
      }
     }
    },
    "version_major": 2,
    "version_minor": 0
   }
  }
 },
 "nbformat": 4,
 "nbformat_minor": 4
}
