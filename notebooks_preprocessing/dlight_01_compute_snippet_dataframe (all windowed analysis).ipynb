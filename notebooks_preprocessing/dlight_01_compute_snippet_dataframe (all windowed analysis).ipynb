{
 "cells": [
  {
   "cell_type": "markdown",
   "metadata": {},
   "source": [
    "# Align dLight data (plus other features) to syllable onset within a window\n",
    "\n",
    "Each window is then concatenated together to create one (very large) dataframe.\n",
    "Useful for computing syllable-triggered averages and syllable averages.\n",
    "\n",
    "Note that you'll need to re-run to get online, offline, and movement-initiation aligned syllables. Change the appropriate flags in `../analysis_configuration.toml` . Most analysis uses -3 to +3 re: onset, and a small subset of figures uses -10 to +10 re: onset . \n",
    "\n",
    "1. Run with `window_bounds=[-3, 3]` , `snippet_grab.label_key = \"predicted_syllable\"` , and data keys under `SHORT WIN KEYS`\n",
    "1. Run with `window_bounds=[-3, 3]` , `snippet_grab.label_key = \"predicted_syllable (offline)\"` , and data keys under `SHORT WIN KEYS`\n",
    "1. Run with `window_bounds=[-10, 10]` , `snippet_grab.label_key = \"predicted_syllable (offline)\"` , and data keys under `LONG WIN KEYS`\n",
    "1. Run with `window_bounds=[-10, 10]` , `snippet_grab.label_key = \"movement_initiations\"` , and data keys under `LONG WIN KEYS`"
   ]
  },
  {
   "cell_type": "code",
   "execution_count": 1,
   "metadata": {},
   "outputs": [],
   "source": [
    "%load_ext autoreload\n",
    "%autoreload 2\n",
    "%matplotlib inline"
   ]
  },
  {
   "cell_type": "code",
   "execution_count": 2,
   "metadata": {},
   "outputs": [],
   "source": [
    "from rl_analysis.photometry.util import align_window_to_label\n",
    "from rl_analysis.batch import apply_parallel_joblib\n",
    "from tqdm.auto import tqdm\n",
    "from contextlib import redirect_stderr\n",
    "\n",
    "import numpy as np\n",
    "import pandas as pd\n",
    "import os\n",
    "import toml\n",
    "import sys\n",
    "\n",
    "terminal = sys.__stderr__"
   ]
  },
  {
   "cell_type": "code",
   "execution_count": 3,
   "metadata": {},
   "outputs": [],
   "source": [
    "with open(\"../analysis_configuration.toml\", \"r\") as f:\n",
    "    analysis_config = toml.load(f)"
   ]
  },
  {
   "cell_type": "code",
   "execution_count": 4,
   "metadata": {},
   "outputs": [],
   "source": [
    "data_dirs = analysis_config[\"data_dirs\"]\n",
    "raw_dirs = analysis_config[\"raw_data\"]\n",
    "proc_dirs = analysis_config[\"intermediate_results\"]\n",
    "snippet_cfg = analysis_config[\"dlight_snippet\"]"
   ]
  },
  {
   "cell_type": "markdown",
   "metadata": {},
   "source": [
    "## Data loading"
   ]
  },
  {
   "cell_type": "code",
   "execution_count": 5,
   "metadata": {},
   "outputs": [],
   "source": [
    "df_filtered = pd.read_parquet(\n",
    "    os.path.join(raw_dirs[\"dlight\"], \"dlight_photometry_processed_full.parquet\"),\n",
    ").sort_index()"
   ]
  },
  {
   "cell_type": "code",
   "execution_count": 6,
   "metadata": {},
   "outputs": [],
   "source": [
    "quality_keys = [\"signal_reference_corr\", \"reference_max\", \"signal_max\"]"
   ]
  },
  {
   "cell_type": "code",
   "execution_count": 7,
   "metadata": {},
   "outputs": [],
   "source": [
    "all_data_keys = df_filtered.columns.intersection(snippet_cfg[\"data_keys\"]).to_list()\n",
    "all_meta_keys = df_filtered.columns.intersection(snippet_cfg[\"meta_keys\"] + quality_keys).to_list()"
   ]
  },
  {
   "cell_type": "code",
   "execution_count": 8,
   "metadata": {},
   "outputs": [],
   "source": [
    "# do some conversions to save memory..."
   ]
  },
  {
   "cell_type": "code",
   "execution_count": 9,
   "metadata": {},
   "outputs": [
    {
     "data": {
      "application/vnd.jupyter.widget-view+json": {
       "model_id": "01cf023c60ed473e9bb27d9bf59c3d00",
       "version_major": 2,
       "version_minor": 0
      },
      "text/plain": [
       "  0%|          | 0/24 [00:00<?, ?it/s]"
      ]
     },
     "metadata": {},
     "output_type": "display_data"
    },
    {
     "data": {
      "application/vnd.jupyter.widget-view+json": {
       "model_id": "dbf09a9878de400fa5c758e243d8b24e",
       "version_major": 2,
       "version_minor": 0
      },
      "text/plain": [
       "  0%|          | 0/8 [00:00<?, ?it/s]"
      ]
     },
     "metadata": {},
     "output_type": "display_data"
    }
   ],
   "source": [
    "for k, v in tqdm(df_filtered[all_data_keys].dtypes.items(), total=len(all_data_keys)):\n",
    "    if v == \"float64\":\n",
    "        df_filtered[k] = df_filtered[k].astype(\"float32\")\n",
    "\n",
    "for k, v in tqdm(snippet_cfg[\"convs\"].items()):\n",
    "    df_filtered[k] = df_filtered[k].astype(v)"
   ]
  },
  {
   "cell_type": "code",
   "execution_count": 10,
   "metadata": {},
   "outputs": [
    {
     "data": {
      "text/plain": [
       "{'window_bounds': [-3, 3], 'label_key': 'predicted_syllable'}"
      ]
     },
     "execution_count": 10,
     "metadata": {},
     "output_type": "execute_result"
    }
   ],
   "source": [
    "snippet_cfg[\"snippet_grab\"]"
   ]
  },
  {
   "cell_type": "code",
   "execution_count": 11,
   "metadata": {},
   "outputs": [
    {
     "name": "stdout",
     "output_type": "stream",
     "text": [
      "['pc00', 'pc01', 'pc02', 'pc03', 'pc04', 'pc05', 'pc06', 'pc07', 'pc08', 'pc09', 'centroid_x_mm', 'centroid_y_mm', 'velocity_2d_mm', 'height_ave_mm', 'feedback_status', 'timestamp', 'angle', 'acceleration_2d_mm', 'jerk_2d_mm', 'angle_unwrapped', 'velocity_angle', 'velocity_height', 'signal_reref_dff', 'signal_reref_dff_z']\n"
     ]
    }
   ],
   "source": [
    "print(all_data_keys)"
   ]
  },
  {
   "cell_type": "markdown",
   "metadata": {},
   "source": [
    "## Get snippets"
   ]
  },
  {
   "cell_type": "code",
   "execution_count": 12,
   "metadata": {},
   "outputs": [],
   "source": [
    "func = align_window_to_label(\n",
    "    **snippet_cfg[\"snippet_grab\"],\n",
    "    fs=analysis_config[\"common\"][\"fs\"],\n",
    "    data_keys=all_data_keys,\n",
    "    meta_keys=all_meta_keys,\n",
    ")"
   ]
  },
  {
   "cell_type": "code",
   "execution_count": 13,
   "metadata": {},
   "outputs": [],
   "source": [
    "group_obj = df_filtered.groupby(\"uuid\")"
   ]
  },
  {
   "cell_type": "code",
   "execution_count": 14,
   "metadata": {},
   "outputs": [],
   "source": [
    "njobs = group_obj.ngroups"
   ]
  },
  {
   "cell_type": "code",
   "execution_count": 15,
   "metadata": {},
   "outputs": [
    {
     "name": "stderr",
     "output_type": "stream",
     "text": [
      "898 jobs to process\n",
      "[Parallel(n_jobs=-20)]: Using backend LokyBackend with 109 concurrent workers.\n",
      "[Parallel(n_jobs=-20)]: Done   3 tasks      | elapsed:   40.8s\n",
      "[Parallel(n_jobs=-20)]: Done  24 tasks      | elapsed:   48.6s\n",
      "[Parallel(n_jobs=-20)]: Done  47 tasks      | elapsed:   55.5s\n",
      "[Parallel(n_jobs=-20)]: Done  70 tasks      | elapsed:  1.0min\n",
      "[Parallel(n_jobs=-20)]: Done  95 tasks      | elapsed:  1.2min\n",
      "[Parallel(n_jobs=-20)]: Done 120 tasks      | elapsed:  1.3min\n",
      "[Parallel(n_jobs=-20)]: Done 147 tasks      | elapsed:  1.4min\n",
      "[Parallel(n_jobs=-20)]: Done 174 tasks      | elapsed:  1.5min\n",
      "[Parallel(n_jobs=-20)]: Done 203 tasks      | elapsed:  1.7min\n",
      "[Parallel(n_jobs=-20)]: Done 232 tasks      | elapsed:  1.8min\n",
      "[Parallel(n_jobs=-20)]: Done 263 tasks      | elapsed:  1.9min\n",
      "[Parallel(n_jobs=-20)]: Done 294 tasks      | elapsed:  2.1min\n",
      "[Parallel(n_jobs=-20)]: Done 327 tasks      | elapsed:  2.2min\n",
      "[Parallel(n_jobs=-20)]: Done 360 tasks      | elapsed:  2.4min\n",
      "[Parallel(n_jobs=-20)]: Done 395 tasks      | elapsed:  2.6min\n",
      "[Parallel(n_jobs=-20)]: Done 430 tasks      | elapsed:  2.8min\n",
      "[Parallel(n_jobs=-20)]: Done 467 tasks      | elapsed:  2.9min\n",
      "[Parallel(n_jobs=-20)]: Done 504 tasks      | elapsed:  3.1min\n",
      "[Parallel(n_jobs=-20)]: Done 543 tasks      | elapsed:  3.3min\n",
      "[Parallel(n_jobs=-20)]: Done 582 tasks      | elapsed:  3.5min\n",
      "[Parallel(n_jobs=-20)]: Done 623 tasks      | elapsed:  3.7min\n",
      "[Parallel(n_jobs=-20)]: Done 664 tasks      | elapsed:  3.9min\n",
      "[Parallel(n_jobs=-20)]: Done 771 out of 898 | elapsed:  4.4min remaining:   43.7s\n",
      "[Parallel(n_jobs=-20)]: Done 861 out of 898 | elapsed:  4.8min remaining:   12.4s\n",
      "[Parallel(n_jobs=-20)]: Done 898 out of 898 | elapsed:  5.0min finished\n"
     ]
    }
   ],
   "source": [
    "with redirect_stderr(terminal):\n",
    "    print(f\"{njobs} jobs to process\", file=terminal)\n",
    "    snippet_df = apply_parallel_joblib(group_obj, func, n_jobs=-20)"
   ]
  },
  {
   "cell_type": "markdown",
   "metadata": {},
   "source": [
    "### Saving"
   ]
  },
  {
   "cell_type": "code",
   "execution_count": 16,
   "metadata": {},
   "outputs": [
    {
     "data": {
      "application/vnd.jupyter.widget-view+json": {
       "model_id": "859c42505b0844cca2e55700d47f9b75",
       "version_major": 2,
       "version_minor": 0
      },
      "text/plain": [
       "  0%|          | 0/8 [00:00<?, ?it/s]"
      ]
     },
     "metadata": {},
     "output_type": "display_data"
    }
   ],
   "source": [
    "for k, v in tqdm(snippet_cfg[\"convs\"].items()):\n",
    "    snippet_df[k] = snippet_df[k].astype(v)"
   ]
  },
  {
   "cell_type": "code",
   "execution_count": 17,
   "metadata": {},
   "outputs": [],
   "source": [
    "snippet_df.index = range(len(snippet_df))"
   ]
  },
  {
   "cell_type": "code",
   "execution_count": 18,
   "metadata": {},
   "outputs": [],
   "source": [
    "try:\n",
    "    codes = pd.factorize(\n",
    "        pd._libs.lib.fast_zip([snippet_df[\"snippet\"].values, snippet_df[\"uuid\"].cat.codes.values])\n",
    "    )[0]\n",
    "except AttributeError as e:\n",
    "    print(e)\n",
    "    codes = pd.factorize(\n",
    "        list(zip(snippet_df[\"snippet\"].tolist(), snippet_df[\"uuid\"].tolist()))\n",
    "    )[0]\n",
    "\n",
    "snippet_df[\"snippet\"] = codes"
   ]
  },
  {
   "cell_type": "code",
   "execution_count": 19,
   "metadata": {},
   "outputs": [],
   "source": [
    "import pyarrow as pa\n",
    "pa.set_cpu_count(10)"
   ]
  },
  {
   "cell_type": "code",
   "execution_count": 20,
   "metadata": {},
   "outputs": [],
   "source": [
    "if np.diff(snippet_cfg[\"snippet_grab\"][\"window_bounds\"]) > 10:\n",
    "    file_suffix = \"_longwin\"\n",
    "else:\n",
    "    file_suffix = \"\"\n",
    "\n",
    "if snippet_cfg[\"snippet_grab\"][\"label_key\"] == \"predicted_syllable\":\n",
    "    save_file = os.path.join(raw_dirs[\"dlight\"], f\"dlight_snippets_online{file_suffix}.parquet\")\n",
    "elif snippet_cfg[\"snippet_grab\"][\"label_key\"] == \"predicted_syllable (offline)\":\n",
    "    save_file = os.path.join(raw_dirs[\"dlight\"], f\"dlight_snippets_offline{file_suffix}.parquet\")\n",
    "elif snippet_cfg[\"snippet_grab\"][\"label_key\"] == \"movement_initiations\":\n",
    "    save_file = os.path.join(raw_dirs[\"dlight\"], f\"dlight_snippets_movements{file_suffix}.parquet\")\n",
    "else:\n",
    "    RuntimeError(\"label key not recognized\")\n",
    "\n",
    "snippet_df.to_parquet(\n",
    "    save_file,\n",
    "    allow_truncated_timestamps=True,\n",
    "    partition_cols=[\"area\", \"mouse_id\", \"uuid\"],\n",
    "    existing_data_behavior=\"delete_matching\",\n",
    ")"
   ]
  },
  {
   "cell_type": "code",
   "execution_count": 21,
   "metadata": {},
   "outputs": [
    {
     "name": "stdout",
     "output_type": "stream",
     "text": [
      "/home/markowitzmeister_gmail_com/jeff_win_share/reinforcement_data/_final_test/_data/dlight_raw_data/dlight_snippets_online.parquet\n"
     ]
    }
   ],
   "source": [
    "print(save_file)"
   ]
  },
  {
   "cell_type": "code",
   "execution_count": null,
   "metadata": {},
   "outputs": [],
   "source": []
  },
  {
   "cell_type": "code",
   "execution_count": null,
   "metadata": {},
   "outputs": [],
   "source": []
  }
 ],
 "metadata": {
  "kernelspec": {
   "display_name": "Python [conda env:spont-da]",
   "language": "python",
   "name": "conda-env-spont-da-py"
  },
  "language_info": {
   "codemirror_mode": {
    "name": "ipython",
    "version": 3
   },
   "file_extension": ".py",
   "mimetype": "text/x-python",
   "name": "python",
   "nbconvert_exporter": "python",
   "pygments_lexer": "ipython3",
   "version": "3.10.8"
  },
  "widgets": {
   "application/vnd.jupyter.widget-state+json": {
    "state": {
     "0c2fdf7cc8b041b28ad6f775feb9e1b2": {
      "model_module": "@jupyter-widgets/base",
      "model_module_version": "1.2.0",
      "model_name": "LayoutModel",
      "state": {}
     },
     "1001a27c0c074ac198bd468374323a2e": {
      "model_module": "@jupyter-widgets/controls",
      "model_module_version": "1.5.0",
      "model_name": "HBoxModel",
      "state": {
       "children": [
        "IPY_MODEL_39ea6a6a3b094af8892ed29f09468e8e",
        "IPY_MODEL_3becade9c77a4841aaf71a133ff0c716"
       ],
       "layout": "IPY_MODEL_904831def6f4458d84d03d520d49017e"
      }
     },
     "11e5f855cc134b13a37770ba162b56d3": {
      "model_module": "@jupyter-widgets/base",
      "model_module_version": "1.2.0",
      "model_name": "LayoutModel",
      "state": {}
     },
     "135886efb36e4b1891e7b9595f5a69a7": {
      "model_module": "@jupyter-widgets/base",
      "model_module_version": "1.2.0",
      "model_name": "LayoutModel",
      "state": {}
     },
     "151fb3f16202474089e6685841e0f11c": {
      "model_module": "@jupyter-widgets/controls",
      "model_module_version": "1.5.0",
      "model_name": "HTMLModel",
      "state": {
       "layout": "IPY_MODEL_edae40b144fd469ca3fd80efbeff1b8d",
       "style": "IPY_MODEL_6a61457647284def89edcb0c334b4724",
       "value": " 19/19 [29:27&lt;00:00, 93.03s/it]"
      }
     },
     "23b37c61bbc24d62a47bece85cc92bdc": {
      "model_module": "@jupyter-widgets/base",
      "model_module_version": "1.2.0",
      "model_name": "LayoutModel",
      "state": {}
     },
     "3157ef96fb9c407798033e0c971c0b91": {
      "model_module": "@jupyter-widgets/base",
      "model_module_version": "1.2.0",
      "model_name": "LayoutModel",
      "state": {}
     },
     "3320c6d509d744e6a5fbc0ef152785a7": {
      "model_module": "@jupyter-widgets/base",
      "model_module_version": "1.2.0",
      "model_name": "LayoutModel",
      "state": {}
     },
     "39ea6a6a3b094af8892ed29f09468e8e": {
      "model_module": "@jupyter-widgets/controls",
      "model_module_version": "1.5.0",
      "model_name": "FloatProgressModel",
      "state": {
       "description": "  5%",
       "layout": "IPY_MODEL_135886efb36e4b1891e7b9595f5a69a7",
       "max": 19,
       "style": "IPY_MODEL_f383eee0318f40ad9695f8f30d353fc7",
       "value": 1
      }
     },
     "3becade9c77a4841aaf71a133ff0c716": {
      "model_module": "@jupyter-widgets/controls",
      "model_module_version": "1.5.0",
      "model_name": "HTMLModel",
      "state": {
       "layout": "IPY_MODEL_11e5f855cc134b13a37770ba162b56d3",
       "style": "IPY_MODEL_85a2ae049da942199e8ae571f375f5be",
       "value": " 1/19 [00:01&lt;00:35,  1.95s/it]"
      }
     },
     "3cb5141450ed40cb8ea4ae55f5d079e8": {
      "model_module": "@jupyter-widgets/controls",
      "model_module_version": "1.5.0",
      "model_name": "HBoxModel",
      "state": {
       "children": [
        "IPY_MODEL_563568b1258a41539b00a82d58d9a760",
        "IPY_MODEL_eb693443923b4849910c81c3e234ea0a"
       ],
       "layout": "IPY_MODEL_cfec1c73705645c09cf30a8e9eff64fa"
      }
     },
     "563568b1258a41539b00a82d58d9a760": {
      "model_module": "@jupyter-widgets/controls",
      "model_module_version": "1.5.0",
      "model_name": "FloatProgressModel",
      "state": {
       "bar_style": "success",
       "description": "100%",
       "layout": "IPY_MODEL_23b37c61bbc24d62a47bece85cc92bdc",
       "max": 19,
       "style": "IPY_MODEL_a34d88c02f764beba35e1c6f25c14088",
       "value": 19
      }
     },
     "67dea0179ff34a1d9cd1e2afb6be40bb": {
      "model_module": "@jupyter-widgets/controls",
      "model_module_version": "1.5.0",
      "model_name": "FloatProgressModel",
      "state": {
       "bar_style": "success",
       "description": "100%",
       "layout": "IPY_MODEL_ccdc1ce02d84438ba5837323959ac392",
       "max": 19,
       "style": "IPY_MODEL_d1236fd48fbe4a86b88f7e57a30a254e",
       "value": 19
      }
     },
     "6a61457647284def89edcb0c334b4724": {
      "model_module": "@jupyter-widgets/controls",
      "model_module_version": "1.5.0",
      "model_name": "DescriptionStyleModel",
      "state": {
       "description_width": ""
      }
     },
     "85a2ae049da942199e8ae571f375f5be": {
      "model_module": "@jupyter-widgets/controls",
      "model_module_version": "1.5.0",
      "model_name": "DescriptionStyleModel",
      "state": {
       "description_width": ""
      }
     },
     "904831def6f4458d84d03d520d49017e": {
      "model_module": "@jupyter-widgets/base",
      "model_module_version": "1.2.0",
      "model_name": "LayoutModel",
      "state": {}
     },
     "91b950b97f9f49179ac41fba04bef6ec": {
      "model_module": "@jupyter-widgets/controls",
      "model_module_version": "1.5.0",
      "model_name": "HBoxModel",
      "state": {
       "children": [
        "IPY_MODEL_c09802e74cbf465e89e98d12451db80b",
        "IPY_MODEL_b67bba143dc149aca75d6b19f991f40b"
       ],
       "layout": "IPY_MODEL_ef408cf36bf64dc5981e43291d864254"
      }
     },
     "a318aec2eccc4d5a888cd77c1d83de58": {
      "model_module": "@jupyter-widgets/controls",
      "model_module_version": "1.5.0",
      "model_name": "HBoxModel",
      "state": {
       "children": [
        "IPY_MODEL_67dea0179ff34a1d9cd1e2afb6be40bb",
        "IPY_MODEL_151fb3f16202474089e6685841e0f11c"
       ],
       "layout": "IPY_MODEL_0c2fdf7cc8b041b28ad6f775feb9e1b2"
      }
     },
     "a34d88c02f764beba35e1c6f25c14088": {
      "model_module": "@jupyter-widgets/controls",
      "model_module_version": "1.5.0",
      "model_name": "ProgressStyleModel",
      "state": {
       "description_width": "initial"
      }
     },
     "b67bba143dc149aca75d6b19f991f40b": {
      "model_module": "@jupyter-widgets/controls",
      "model_module_version": "1.5.0",
      "model_name": "HTMLModel",
      "state": {
       "layout": "IPY_MODEL_3157ef96fb9c407798033e0c971c0b91",
       "style": "IPY_MODEL_d11fa8243b2e41ce9b2c2b0d76dfa8e0",
       "value": " 19/19 [02:00&lt;00:00,  6.34s/it]"
      }
     },
     "c09802e74cbf465e89e98d12451db80b": {
      "model_module": "@jupyter-widgets/controls",
      "model_module_version": "1.5.0",
      "model_name": "FloatProgressModel",
      "state": {
       "bar_style": "success",
       "description": "100%",
       "layout": "IPY_MODEL_3320c6d509d744e6a5fbc0ef152785a7",
       "max": 19,
       "style": "IPY_MODEL_ccbab5b38c564ff2be813f668ace192f",
       "value": 19
      }
     },
     "ccbab5b38c564ff2be813f668ace192f": {
      "model_module": "@jupyter-widgets/controls",
      "model_module_version": "1.5.0",
      "model_name": "ProgressStyleModel",
      "state": {
       "description_width": "initial"
      }
     },
     "ccdc1ce02d84438ba5837323959ac392": {
      "model_module": "@jupyter-widgets/base",
      "model_module_version": "1.2.0",
      "model_name": "LayoutModel",
      "state": {}
     },
     "cfec1c73705645c09cf30a8e9eff64fa": {
      "model_module": "@jupyter-widgets/base",
      "model_module_version": "1.2.0",
      "model_name": "LayoutModel",
      "state": {}
     },
     "d11fa8243b2e41ce9b2c2b0d76dfa8e0": {
      "model_module": "@jupyter-widgets/controls",
      "model_module_version": "1.5.0",
      "model_name": "DescriptionStyleModel",
      "state": {
       "description_width": ""
      }
     },
     "d1236fd48fbe4a86b88f7e57a30a254e": {
      "model_module": "@jupyter-widgets/controls",
      "model_module_version": "1.5.0",
      "model_name": "ProgressStyleModel",
      "state": {
       "description_width": "initial"
      }
     },
     "eb693443923b4849910c81c3e234ea0a": {
      "model_module": "@jupyter-widgets/controls",
      "model_module_version": "1.5.0",
      "model_name": "HTMLModel",
      "state": {
       "layout": "IPY_MODEL_f164a9b92dc74eb2a9495833b2758d82",
       "style": "IPY_MODEL_ebe3845f08e44758b963aa320dd46522",
       "value": " 19/19 [00:14&lt;00:00,  1.36it/s]"
      }
     },
     "ebe3845f08e44758b963aa320dd46522": {
      "model_module": "@jupyter-widgets/controls",
      "model_module_version": "1.5.0",
      "model_name": "DescriptionStyleModel",
      "state": {
       "description_width": ""
      }
     },
     "edae40b144fd469ca3fd80efbeff1b8d": {
      "model_module": "@jupyter-widgets/base",
      "model_module_version": "1.2.0",
      "model_name": "LayoutModel",
      "state": {}
     },
     "ef408cf36bf64dc5981e43291d864254": {
      "model_module": "@jupyter-widgets/base",
      "model_module_version": "1.2.0",
      "model_name": "LayoutModel",
      "state": {}
     },
     "f164a9b92dc74eb2a9495833b2758d82": {
      "model_module": "@jupyter-widgets/base",
      "model_module_version": "1.2.0",
      "model_name": "LayoutModel",
      "state": {}
     },
     "f383eee0318f40ad9695f8f30d353fc7": {
      "model_module": "@jupyter-widgets/controls",
      "model_module_version": "1.5.0",
      "model_name": "ProgressStyleModel",
      "state": {
       "description_width": "initial"
      }
     }
    },
    "version_major": 2,
    "version_minor": 0
   }
  }
 },
 "nbformat": 4,
 "nbformat_minor": 4
}
