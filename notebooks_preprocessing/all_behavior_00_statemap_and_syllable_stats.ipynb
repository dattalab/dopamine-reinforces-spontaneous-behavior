{
 "cells": [
  {
   "cell_type": "code",
   "execution_count": 1,
   "metadata": {
    "scrolled": true
   },
   "outputs": [],
   "source": [
    "%load_ext autoreload\n",
    "%autoreload 2\n",
    "%matplotlib inline"
   ]
  },
  {
   "cell_type": "code",
   "execution_count": 2,
   "metadata": {},
   "outputs": [],
   "source": [
    "from rl_analysis.plotting import syllable_aliases, setup_plotting_env, savefig\n",
    "from rl_analysis.util import rle, count_transitions\n",
    "from rl_analysis.io.df import dlight_exclude\n",
    "import pandas as pd\n",
    "import os\n",
    "import seaborn as sns\n",
    "import numpy as np\n",
    "import matplotlib.pyplot as plt"
   ]
  },
  {
   "cell_type": "code",
   "execution_count": 3,
   "metadata": {},
   "outputs": [],
   "source": [
    "import toml\n",
    "\n",
    "with open(\"../analysis_configuration.toml\", \"r\") as f:\n",
    "    analysis_config = toml.load(f)"
   ]
  },
  {
   "cell_type": "code",
   "execution_count": 4,
   "metadata": {},
   "outputs": [],
   "source": [
    "data_dirs = analysis_config[\"data_dirs\"]\n",
    "raw_dirs = analysis_config[\"raw_data\"]\n",
    "proc_dirs = analysis_config[\"intermediate_results\"]\n",
    "closed_loop_cfg = analysis_config[\"closed_loop_behavior\"]\n",
    "figure_cfg = analysis_config[\"figures\"]\n",
    "dlight_common_cfg = analysis_config[\"dlight_common\"]"
   ]
  },
  {
   "cell_type": "markdown",
   "metadata": {},
   "source": [
    "to generate all needed toml files\n",
    "\n",
    "1. `use_photometry=True label_key=predicted_syllable`\n",
    "2. `use_photometry=True, label_key=predicted_syllable (offline)`\n",
    "3. `use_photometry=False label_key=predicted_syllable`\n"
   ]
  },
  {
   "cell_type": "code",
   "execution_count": 5,
   "metadata": {},
   "outputs": [],
   "source": [
    "use_photometry = False\n",
    "control_only = False\n",
    "# label_key = \"predicted_syllable (offline)\"\n",
    "label_key = \"predicted_syllable\"\n",
    "highlight_targets = False\n",
    "show_labels = False"
   ]
  },
  {
   "cell_type": "code",
   "execution_count": 6,
   "metadata": {},
   "outputs": [],
   "source": [
    "if use_photometry and control_only:\n",
    "    suffix = \"photometry_control_\"\n",
    "elif control_only:\n",
    "    suffix = \"control_\"\n",
    "elif use_photometry:\n",
    "    suffix = \"photometry_\"\n",
    "else:\n",
    "    suffix = \"\"\n",
    "\n",
    "if \"offline\" in label_key:\n",
    "    save_file = f\"syllable_stats_{suffix}offline.toml\"\n",
    "else:\n",
    "    save_file = f\"syllable_stats_{suffix}online.toml\"\n",
    "\n",
    "if use_photometry:\n",
    "    save_file = os.path.join(proc_dirs[\"dlight\"], save_file)\n",
    "else:\n",
    "    save_file = os.path.join(proc_dirs[\"closed_loop_behavior\"], save_file)"
   ]
  },
  {
   "cell_type": "markdown",
   "metadata": {
    "tags": []
   },
   "source": [
    "# Load in raw data and normalize"
   ]
  },
  {
   "cell_type": "code",
   "execution_count": 7,
   "metadata": {},
   "outputs": [],
   "source": [
    "if use_photometry:\n",
    "    rle_df = pd.read_parquet(\n",
    "        os.path.join(raw_dirs[\"dlight\"], \"dlight_usages_offline_features.parquet\")\n",
    "    )\n",
    "    rle_df = rle_df.loc[(rle_df[\"area\"] == \"dls\")].copy()\n",
    "    rle_df.loc[rle_df[\"mouse_id\"].str.contains(\"chrimson\"), \"opsin\"] = \"chrimson\"\n",
    "    rle_df = dlight_exclude(\n",
    "        rle_df, syllable_key=\"syllable\", exclude_3s=False, exclude_target=False\n",
    "    )\n",
    "    rle_df = rle_df.loc[~rle_df[\"session_number\"].isin([1, 2, 3, 4])].copy()\n",
    "    rle_df[\"uniq_id\"] = pd.factorize(\n",
    "        list(zip(rle_df[\"uuid\"], rle_df[\"session_number\"]))\n",
    "    )[0]\n",
    "\n",
    "else:\n",
    "\n",
    "    feedback_df = pd.read_parquet(\n",
    "        os.path.join(raw_dirs[\"closed_loop_behavior\"], \"closed_loop_behavior.parquet\"),\n",
    "        filters=[\n",
    "            (\"experiment_type\", \"in\", [\"reinforcement\"]),\n",
    "            (\"area\", \"in\", [\"snc (axon)\", \"ctrl\"]),\n",
    "        ],\n",
    "    ).sort_index()\n",
    "    if control_only:\n",
    "        feedback_df = feedback_df.loc[\n",
    "            (feedback_df[\"area\"].isin([\"ctrl\"]))\n",
    "            & (feedback_df[\"stim_duration\"] == 0.25)\n",
    "        ].copy()\n",
    "    else:\n",
    "\n",
    "        feedback_df = feedback_df.loc[\n",
    "            (feedback_df[\"area\"].isin([\"snc (axon)\", \"ctrl\"]))\n",
    "            & (feedback_df[\"stim_duration\"] == 0.25)\n",
    "            & (feedback_df[\"opsin\"].isin([\"chr2\", \"ctrl\"]))\n",
    "            & (feedback_df[\"session_number\"].isin([-1, 0]))\n",
    "            & (feedback_df[\"syllable_group\"] == 1)\n",
    "        ].copy()\n",
    "\n",
    "\n",
    "    feedback_df[\"syllable\"] = feedback_df[label_key]\n",
    "\n",
    "    rle_df = feedback_df.groupby(\"uniq_id\")[\"syllable\"].apply(rle)\n",
    "    rle_df.index = rle_df.index.droplevel(0)\n",
    "    rle_df = feedback_df.loc[rle_df.index]"
   ]
  },
  {
   "cell_type": "markdown",
   "metadata": {},
   "source": [
    "# Make some graphs"
   ]
  },
  {
   "cell_type": "code",
   "execution_count": 8,
   "metadata": {},
   "outputs": [],
   "source": [
    "usages = rle_df.groupby([\"mouse_id\", \"uniq_id\"])[\"syllable\"].value_counts()"
   ]
  },
  {
   "cell_type": "code",
   "execution_count": 10,
   "metadata": {},
   "outputs": [],
   "source": [
    "total_usages = usages.groupby(\"syllable\").mean().sort_values()[::-1]\n",
    "total_usages /= total_usages.sum()"
   ]
  },
  {
   "cell_type": "code",
   "execution_count": 11,
   "metadata": {},
   "outputs": [],
   "source": [
    "per_mouse_usages = usages.groupby([\"mouse_id\", \"syllable\"]).mean().rename(\"usage\")\n",
    "per_mouse_average = per_mouse_usages.groupby(\"syllable\").mean().sort_values()[::-1]\n",
    "per_mouse_average.loc[-5] = 0\n",
    "per_mouse_average /= per_mouse_average.sum()\n",
    "mapping = {_: i for i, _ in enumerate(per_mouse_average.index)}\n",
    "mapping_flip = {v: k for k, v in mapping.items()}"
   ]
  },
  {
   "cell_type": "code",
   "execution_count": 12,
   "metadata": {},
   "outputs": [],
   "source": [
    "per_mouse_usages = per_mouse_usages.reset_index()\n",
    "per_mouse_usages[\"syllable\"] = per_mouse_usages[\"syllable\"].map(mapping)"
   ]
  },
  {
   "cell_type": "code",
   "execution_count": 13,
   "metadata": {},
   "outputs": [],
   "source": [
    "truncate = len(per_mouse_average.loc[per_mouse_average > 0.01])"
   ]
  },
  {
   "cell_type": "code",
   "execution_count": 14,
   "metadata": {},
   "outputs": [],
   "source": [
    "durations = rle_df.groupby(\"uuid\")[\"timestamp\"].shift(-1) - rle_df[\"timestamp\"]\n",
    "duration_stats = durations.describe()"
   ]
  },
  {
   "cell_type": "code",
   "execution_count": 15,
   "metadata": {},
   "outputs": [],
   "source": [
    "setup_plotting_env()"
   ]
  },
  {
   "cell_type": "code",
   "execution_count": 16,
   "metadata": {},
   "outputs": [
    {
     "data": {
      "image/png": "[encoded data removed]",
      "text/plain": [
       "<Figure size 300x300 with 1 Axes>"
      ]
     },
     "metadata": {},
     "output_type": "display_data"
    }
   ],
   "source": [
    "fig, ax = plt.subplots(1, figsize=(1.5, 1.5))\n",
    "sns.histplot(\n",
    "    durations,\n",
    "    bins=np.linspace(0, 5, 40),\n",
    "    stat=\"percent\",\n",
    "    # label=\"model-based\",\n",
    "    legend=False,\n",
    "    element=\"step\",\n",
    "    ec=None,\n",
    "    lw=0,\n",
    ")\n",
    "# plt.legend()\n",
    "plt.xlabel(\"Block duration (s)\")\n",
    "plt.xlim(0, 3)\n",
    "sns.despine()\n",
    "savefig(\n",
    "    fig,\n",
    "    os.path.join(\n",
    "        figure_cfg[\"store_dir\"], f\"moseq_{suffix}duration\"\n",
    "    ),\n",
    "    bbox_inches=\"tight\",\n",
    ")"
   ]
  },
  {
   "cell_type": "code",
   "execution_count": 17,
   "metadata": {},
   "outputs": [],
   "source": [
    "save_dct = {}\n",
    "save_dct[\"syllable_to_sorted_idx\"] = {str(k): v for k, v in mapping.items()}\n",
    "save_dct[\"sorted_idx_to_syllable\"] = {str(k): v for k, v in mapping_flip.items()}\n",
    "save_dct[\"truncate\"] = truncate\n",
    "save_dct[\"usages\"] = {str(k): v for k, v in per_mouse_average.to_dict().items()}\n",
    "save_dct[\"duration\"] = {}\n",
    "save_dct[\"duration\"][\"mean\"] = duration_stats.loc[\"mean\"]\n",
    "save_dct[\"duration\"][\"median\"] = duration_stats.loc[\"50%\"]\n",
    "save_dct[\"duration\"][\"std\"] = duration_stats.loc[\"std\"]"
   ]
  },
  {
   "cell_type": "code",
   "execution_count": 18,
   "metadata": {},
   "outputs": [],
   "source": [
    "with open(save_file, \"w\") as f:\n",
    "    toml.dump(save_dct, f)"
   ]
  },
  {
   "cell_type": "code",
   "execution_count": 19,
   "metadata": {},
   "outputs": [],
   "source": [
    "setup_plotting_env()"
   ]
  },
  {
   "cell_type": "code",
   "execution_count": 20,
   "metadata": {},
   "outputs": [],
   "source": [
    "kwargs = {\"scale\": 0.5, \"errwidth\": 1, \"join\": False}"
   ]
  },
  {
   "cell_type": "code",
   "execution_count": 21,
   "metadata": {},
   "outputs": [],
   "source": [
    "targets_sorted = [mapping[_] for _ in syllable_aliases.keys()]"
   ]
  },
  {
   "cell_type": "code",
   "execution_count": 22,
   "metadata": {},
   "outputs": [],
   "source": [
    "per_mouse_usages[\"target\"] = per_mouse_usages[\"syllable\"].isin(targets_sorted)"
   ]
  },
  {
   "cell_type": "code",
   "execution_count": 23,
   "metadata": {},
   "outputs": [],
   "source": [
    "if highlight_targets:\n",
    "    kwargs[\"palette\"] = [\"b\", \"r\"]\n",
    "    kwargs[\"hue_order\"] = [False, True]\n",
    "    kwargs[\"hue\"] = \"target\"\n",
    "else:\n",
    "    kwargs[\"palette\"] = [\"b\"]"
   ]
  },
  {
   "cell_type": "code",
   "execution_count": 24,
   "metadata": {},
   "outputs": [],
   "source": [
    "per_mouse_usages[\"usage_norm\"] = per_mouse_usages.groupby(\"mouse_id\")[\n",
    "    \"usage\"\n",
    "].transform(lambda x: x / x.sum())"
   ]
  },
  {
   "cell_type": "code",
   "execution_count": 25,
   "metadata": {},
   "outputs": [],
   "source": [
    "setup_plotting_env()"
   ]
  },
  {
   "cell_type": "code",
   "execution_count": 26,
   "metadata": {},
   "outputs": [
    {
     "data": {
      "image/png": "[encoded data removed]",
      "text/plain": [
       "<Figure size 400x250 with 1 Axes>"
      ]
     },
     "metadata": {},
     "output_type": "display_data"
    }
   ],
   "source": [
    "g = sns.catplot(\n",
    "    data=per_mouse_usages.loc[per_mouse_usages[\"syllable\"] < truncate],\n",
    "    x=\"syllable\",\n",
    "    y=\"usage_norm\",\n",
    "    kind=\"point\",\n",
    "    legend=False,\n",
    "    **kwargs,\n",
    ")\n",
    "if highlight_targets:\n",
    "    for _target in targets_sorted:\n",
    "        x = _target\n",
    "        y = per_mouse_usages.groupby(\"syllable\").mean(numeric_only=True).loc[_target][\"usage_norm\"]\n",
    "        # plt.text(x + .5, y + .005, str(mapping_flip[_target]))\n",
    "        plt.text(\n",
    "            x + 0.5,\n",
    "            y + 0.01,\n",
    "            syllable_aliases[mapping_flip[_target]],\n",
    "            rotation=45,\n",
    "            fontsize=5,\n",
    "        )\n",
    "\n",
    "g.fig.set_size_inches(2, 1.25)\n",
    "plt.ylabel(\"Usage (fraction)\")\n",
    "plt.xlim(0, save_dct[\"truncate\"])\n",
    "plt.xticks(np.arange(0, 37, 5))\n",
    "# clean_ticks(g.axes.flat[0], \"x\", zero_symmetry=False, dtype=int)\n",
    "sns.despine(offset=5)\n",
    "# plt.xticks([])\n",
    "# need to label with aliases if we're highlighting the target\n",
    "savefig(\n",
    "    g.fig,\n",
    "    os.path.join(\n",
    "        figure_cfg[\"store_dir\"], f\"moseq_{suffix}usages_highlight-{highlight_targets}\"\n",
    "    ),\n",
    "    bbox_inches=\"tight\",\n",
    ")"
   ]
  },
  {
   "cell_type": "code",
   "execution_count": 27,
   "metadata": {},
   "outputs": [],
   "source": [
    "rle_df[\"syllable_sorted\"] = rle_df[\"syllable\"].map(mapping)"
   ]
  },
  {
   "cell_type": "code",
   "execution_count": 28,
   "metadata": {},
   "outputs": [],
   "source": [
    "grand_tm = rle_df.groupby(\"uuid\")[\"syllable_sorted\"].apply(\n",
    "    lambda x: count_transitions(x.dropna(), K=100)\n",
    ")\n",
    "grand_tm = np.sum(grand_tm)"
   ]
  },
  {
   "cell_type": "code",
   "execution_count": 29,
   "metadata": {},
   "outputs": [],
   "source": [
    "trans = {}\n",
    "trans[\"grand_ave\"] = grand_tm[:truncate, :truncate]"
   ]
  },
  {
   "cell_type": "code",
   "execution_count": 30,
   "metadata": {},
   "outputs": [],
   "source": [
    "from collections import defaultdict\n",
    "import networkx as nx\n",
    "\n",
    "g = defaultdict(list)\n",
    "weights = defaultdict(list)\n",
    "ebunch = defaultdict(list)\n",
    "threshold = 0.1  # don't plot outgoing transition probabilities above this\n",
    "eps = 0\n",
    "\n",
    "for k, _trans in trans.items():\n",
    "\n",
    "    _trans += eps\n",
    "    _trans /= _trans.sum(axis=1, keepdims=True)\n",
    "\n",
    "    r, c = np.where(_trans > threshold)\n",
    "    degree = (_trans > threshold).sum(axis=1) + (_trans > threshold).sum(axis=0)\n",
    "    outdegree = (_trans > threshold).sum(axis=1)\n",
    "    indegree = (_trans > threshold).sum(axis=1)\n",
    "\n",
    "    for _r, _c in zip(r, c):\n",
    "        ebunch[k] += [(_r, _c, _trans[_r, _c])]\n",
    "    g[k] = nx.MultiDiGraph()\n",
    "\n",
    "    # add nodes in degree order\n",
    "    g[k].add_nodes_from(np.argsort(outdegree)[::-1])\n",
    "    g[k].add_weighted_edges_from(ebunch[k])\n",
    "    weights[k] = np.array([_trans[u, v] for u, v in g[k].edges()])\n",
    "    edge_list = list(g[k].edges(keys=True))"
   ]
  },
  {
   "cell_type": "code",
   "execution_count": 31,
   "metadata": {},
   "outputs": [],
   "source": [
    "pos = nx.layout.circular_layout(list(g.values())[0])"
   ]
  },
  {
   "cell_type": "code",
   "execution_count": 32,
   "metadata": {},
   "outputs": [],
   "source": [
    "compare_key = list(g.keys())[0]\n",
    "# pos = nx.nx_agraph.graphviz_layout(list(g.values())[0], prog=\"circo\")"
   ]
  },
  {
   "cell_type": "code",
   "execution_count": 33,
   "metadata": {},
   "outputs": [],
   "source": [
    "if highlight_targets:\n",
    "    node_colors = [\n",
    "        \"r\" if mapping_flip[_] in syllable_aliases.keys() else \"b\" for _ in pos.keys()\n",
    "    ]\n",
    "    node_sizes = [\n",
    "        55 if mapping_flip[_] in syllable_aliases.keys() else 20 for _ in pos.keys()\n",
    "    ]\n",
    "else:\n",
    "    node_colors = \"b\"\n",
    "    node_sizes = 5"
   ]
  },
  {
   "cell_type": "code",
   "execution_count": 34,
   "metadata": {},
   "outputs": [],
   "source": [
    "setup_plotting_env()"
   ]
  },
  {
   "cell_type": "code",
   "execution_count": 35,
   "metadata": {},
   "outputs": [],
   "source": [
    "weight_transform = lambda x: (x**3) * 25"
   ]
  },
  {
   "cell_type": "markdown",
   "metadata": {},
   "source": [
    "# Can only run this after we get the joint map"
   ]
  },
  {
   "cell_type": "code",
   "execution_count": 36,
   "metadata": {},
   "outputs": [],
   "source": [
    "joint_syllable_map = toml.load(\n",
    "    os.path.join(proc_dirs[\"closed_loop_behavior\"], \"joint_syllable_map.toml\")\n",
    ")\n",
    "joint_syllable_map = {int(k): v for k, v in joint_syllable_map.items()}"
   ]
  },
  {
   "cell_type": "code",
   "execution_count": 37,
   "metadata": {},
   "outputs": [
    {
     "ename": "KeyError",
     "evalue": "35.0",
     "output_type": "error",
     "traceback": [
      "\u001b[0;31m---------------------------------------------------------------------------\u001b[0m",
      "\u001b[0;31mKeyError\u001b[0m                                  Traceback (most recent call last)",
      "Cell \u001b[0;32mIn[37], line 1\u001b[0m\n\u001b[0;32m----> 1\u001b[0m pos \u001b[38;5;241m=\u001b[39m {joint_syllable_map[mapping_flip[k]]: v \u001b[38;5;28;01mfor\u001b[39;00m k, v \u001b[38;5;129;01min\u001b[39;00m pos\u001b[38;5;241m.\u001b[39mitems()}\n",
      "Cell \u001b[0;32mIn[37], line 1\u001b[0m, in \u001b[0;36m<dictcomp>\u001b[0;34m(.0)\u001b[0m\n\u001b[0;32m----> 1\u001b[0m pos \u001b[38;5;241m=\u001b[39m {\u001b[43mjoint_syllable_map\u001b[49m\u001b[43m[\u001b[49m\u001b[43mmapping_flip\u001b[49m\u001b[43m[\u001b[49m\u001b[43mk\u001b[49m\u001b[43m]\u001b[49m\u001b[43m]\u001b[49m: v \u001b[38;5;28;01mfor\u001b[39;00m k, v \u001b[38;5;129;01min\u001b[39;00m pos\u001b[38;5;241m.\u001b[39mitems()}\n",
      "\u001b[0;31mKeyError\u001b[0m: 35.0"
     ]
    }
   ],
   "source": [
    "pos = {joint_syllable_map[mapping_flip[k]]: v for k, v in pos.items()}"
   ]
  },
  {
   "cell_type": "code",
   "execution_count": null,
   "metadata": {},
   "outputs": [],
   "source": [
    "g[\"grand_ave\"] = nx.relabel_nodes(g[\"grand_ave\"], mapping_flip)\n",
    "g[\"grand_ave\"] = nx.relabel_nodes(g[\"grand_ave\"], joint_syllable_map)"
   ]
  },
  {
   "cell_type": "code",
   "execution_count": null,
   "metadata": {},
   "outputs": [],
   "source": [
    "node_sizes = 55\n",
    "show_labels = True"
   ]
  },
  {
   "cell_type": "code",
   "execution_count": null,
   "metadata": {},
   "outputs": [],
   "source": [
    "fig, ax = plt.subplots(1, len(g), figsize=(2.75, 2.75), sharex=True, sharey=True)\n",
    "ax = [ax]\n",
    "for _ax, (_k, _g) in zip(ax, g.items()):\n",
    "    nx.draw(\n",
    "        _g,\n",
    "        pos,\n",
    "        with_labels=show_labels,\n",
    "        node_color=\"w\",\n",
    "        edge_color=\"k\" if show_labels else None,\n",
    "        width=np.maximum(weight_transform(weights[_k]), 0),\n",
    "        node_size=node_sizes,\n",
    "        font_size=5,\n",
    "        ax=_ax,\n",
    "        arrows=True,\n",
    "        arrowsize=0.1,\n",
    "        connectionstyle=\"arc3, rad=.2\",\n",
    "    )\n",
    "\n",
    "    nx.draw_networkx_nodes(\n",
    "        _g,\n",
    "        pos,\n",
    "        # node_color=node_colors,\n",
    "        node_color=\"w\" if show_labels else node_colors,\n",
    "        edgecolors=\"k\" if show_labels else None,\n",
    "        node_size=node_sizes,\n",
    "        ax=_ax,\n",
    "    )\n",
    "\n",
    "    _ax.axis(\"off\")\n",
    "\n",
    "# make a legend\n",
    "ylimits = _ax.get_ylim()\n",
    "xlimits = _ax.get_xlim()\n",
    "\n",
    "# show levels\n",
    "levels = [0.25, 0.5]\n",
    "\n",
    "xedge = xlimits[1] * 0.9\n",
    "xlen = xlimits[1] - xedge\n",
    "\n",
    "ypos = ylimits[0] + (ylimits[1] - ylimits[0]) * 0.05\n",
    "yinc = 0.2\n",
    "\n",
    "for _level in levels:\n",
    "    _ax.plot(\n",
    "        [xedge, xedge + xlen],\n",
    "        [ypos, ypos],\n",
    "        lw=weight_transform(_level),\n",
    "        clip_on=False,\n",
    "        color=\"k\",\n",
    "    )\n",
    "    ypos += yinc\n",
    "\n",
    "plt.show()\n",
    "savefig(\n",
    "    fig,\n",
    "    os.path.join(\n",
    "        figure_cfg[\"store_dir\"],\n",
    "        f\"moseq_{suffix}grand_ave_statemap_highlight-{highlight_targets}_nodelabels-{show_labels}\",\n",
    "    ),\n",
    "    bbox_inches=\"tight\",\n",
    "    fmts=[\"png\", \"pdf\"],\n",
    ")"
   ]
  },
  {
   "cell_type": "code",
   "execution_count": null,
   "metadata": {},
   "outputs": [],
   "source": [
    "joint_syllable_map[7]"
   ]
  },
  {
   "cell_type": "code",
   "execution_count": null,
   "metadata": {},
   "outputs": [],
   "source": []
  }
 ],
 "metadata": {
  "kernelspec": {
   "display_name": "Python [conda env:spont-da]",
   "language": "python",
   "name": "conda-env-spont-da-py"
  },
  "language_info": {
   "codemirror_mode": {
    "name": "ipython",
    "version": 3
   },
   "file_extension": ".py",
   "mimetype": "text/x-python",
   "name": "python",
   "nbconvert_exporter": "python",
   "pygments_lexer": "ipython3",
   "version": "3.10.8"
  }
 },
 "nbformat": 4,
 "nbformat_minor": 4
}
