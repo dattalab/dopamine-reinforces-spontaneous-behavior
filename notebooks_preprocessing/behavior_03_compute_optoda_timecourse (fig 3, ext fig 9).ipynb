{
 "cells": [
  {
   "cell_type": "markdown",
   "metadata": {},
   "source": [
    "# Compute the timecourse of cumulative syllable counts"
   ]
  },
  {
   "cell_type": "code",
   "execution_count": null,
   "metadata": {
    "scrolled": true
   },
   "outputs": [],
   "source": [
    "%load_ext autoreload\n",
    "%autoreload 2\n",
    "%matplotlib inline"
   ]
  },
  {
   "cell_type": "code",
   "execution_count": 2,
   "metadata": {},
   "outputs": [],
   "source": [
    "from tqdm.auto import tqdm\n",
    "from collections import defaultdict\n",
    "\n",
    "import pandas as pd\n",
    "\n",
    "import os\n",
    "import numpy as np"
   ]
  },
  {
   "cell_type": "code",
   "execution_count": 3,
   "metadata": {},
   "outputs": [],
   "source": [
    "import toml\n",
    "\n",
    "with open(\"../analysis_configuration.toml\", \"r\") as f:\n",
    "    analysis_config = toml.load(f)"
   ]
  },
  {
   "cell_type": "code",
   "execution_count": 4,
   "metadata": {},
   "outputs": [],
   "source": [
    "raw_dirs = analysis_config[\"raw_data\"]\n",
    "proc_dirs = analysis_config[\"intermediate_results\"]\n",
    "closed_loop_cfg = analysis_config[\"closed_loop_behavior\"]\n",
    "figure_cfg = analysis_config[\"figures\"]"
   ]
  },
  {
   "cell_type": "code",
   "execution_count": 5,
   "metadata": {},
   "outputs": [],
   "source": [
    "test_statistics_file = os.path.join(\n",
    "    proc_dirs[\"closed_loop_behavior\"], \"stats_closed_loop_behavior.toml\"\n",
    ")"
   ]
  },
  {
   "cell_type": "code",
   "execution_count": 6,
   "metadata": {},
   "outputs": [],
   "source": [
    "bin_size = closed_loop_cfg[\"learning_timecourse\"][\"bin_size\"]"
   ]
  },
  {
   "cell_type": "code",
   "execution_count": 7,
   "metadata": {},
   "outputs": [],
   "source": [
    "save_file = os.path.join(\n",
    "    raw_dirs[\"closed_loop_behavior\"], f\"learning_timecourse_binsize-{bin_size}.parquet\"\n",
    ")"
   ]
  },
  {
   "cell_type": "code",
   "execution_count": 8,
   "metadata": {},
   "outputs": [],
   "source": [
    "test_stats = defaultdict(dict)"
   ]
  },
  {
   "cell_type": "markdown",
   "metadata": {},
   "source": [
    "# Load in data"
   ]
  },
  {
   "cell_type": "code",
   "execution_count": 9,
   "metadata": {},
   "outputs": [],
   "source": [
    "from rl_analysis.util import hampel_filter"
   ]
  },
  {
   "cell_type": "code",
   "execution_count": 10,
   "metadata": {},
   "outputs": [],
   "source": [
    "hampel_kwargs = {\"threshold\": 6, \"window\": 7, \"min_periods\": 1, \"center\": True}"
   ]
  },
  {
   "cell_type": "code",
   "execution_count": 11,
   "metadata": {},
   "outputs": [],
   "source": [
    "use_df = pd.read_parquet(save_file)"
   ]
  },
  {
   "cell_type": "code",
   "execution_count": 12,
   "metadata": {},
   "outputs": [],
   "source": [
    "use_df = use_df.loc[(use_df[\"syllable\"] == use_df[\"target_syllable\"])].copy()"
   ]
  },
  {
   "cell_type": "code",
   "execution_count": 13,
   "metadata": {},
   "outputs": [],
   "source": [
    "use_df = use_df.sort_values(\n",
    "    [\n",
    "        \"syllable_group_unique\",\n",
    "        \"session_number\",\n",
    "        \"syllable\",\n",
    "        \"bin_start\",\n",
    "    ]\n",
    ")"
   ]
  },
  {
   "cell_type": "code",
   "execution_count": 14,
   "metadata": {},
   "outputs": [],
   "source": [
    "use_df[\"log2_fold_change_usage\"] = np.log2(use_df[\"fold_change_usage\"])\n",
    "use_df[\"log2_fold_change_count\"] = np.log2(use_df[\"fold_change_count\"])"
   ]
  },
  {
   "cell_type": "code",
   "execution_count": 15,
   "metadata": {},
   "outputs": [],
   "source": [
    "use_df.loc[use_df[\"genotype\"].isin([\"snc-dls-eyfp\"]), \"opsin\"] = \"eyfp\""
   ]
  },
  {
   "cell_type": "code",
   "execution_count": 16,
   "metadata": {},
   "outputs": [],
   "source": [
    "filter_columns = [\n",
    "    \"change_count\",\n",
    "    \"change_usage\",\n",
    "    \"log2_fold_change_count\",\n",
    "    \"log2_fold_change_usage\",\n",
    "    \"count\",\n",
    "    \"usage\",\n",
    "    \"baseline_count\",\n",
    "    \"baseline_usage\",\n",
    "]\n",
    "use_filtered_counts = False"
   ]
  },
  {
   "cell_type": "code",
   "execution_count": 17,
   "metadata": {},
   "outputs": [],
   "source": [
    "group_keys = [\"session_type\", \"syllable_group_unique\", \"syllable\", \"rle\"]"
   ]
  },
  {
   "cell_type": "code",
   "execution_count": 18,
   "metadata": {},
   "outputs": [],
   "source": [
    "if use_filtered_counts:\n",
    "    for _col in tqdm(filter_columns):\n",
    "        use_df[f\"{_col}_filtered\"] = use_df.groupby(group_keys, dropna=False)[\n",
    "            _col\n",
    "        ].transform(lambda x: hampel_filter(x, **hampel_kwargs))\n",
    "    formatter = \"{}_filtered\"\n",
    "else:\n",
    "    formatter = \"{}\""
   ]
  },
  {
   "cell_type": "code",
   "execution_count": 19,
   "metadata": {},
   "outputs": [
    {
     "data": {
      "application/vnd.jupyter.widget-view+json": {
       "model_id": "ca768c4d384d41ef8fea5cc4d3eb4904",
       "version_major": 2,
       "version_minor": 0
      },
      "text/plain": [
       "  0%|          | 0/8 [00:00<?, ?it/s]"
      ]
     },
     "metadata": {},
     "output_type": "display_data"
    }
   ],
   "source": [
    "for _col in tqdm(filter_columns):\n",
    "    use_df[f\"{_col}_cumulative\"] = use_df.groupby(group_keys, dropna=False)[\n",
    "        formatter.format(_col)\n",
    "    ].transform(lambda x: x.cumsum())\n",
    "    use_df[f\"{_col}_cumulative_within_session\"] = use_df.groupby(\n",
    "        group_keys + [\"session_number\"], dropna=False\n",
    "    )[formatter.format(_col)].transform(lambda x: x.cumsum())"
   ]
  },
  {
   "cell_type": "code",
   "execution_count": 20,
   "metadata": {},
   "outputs": [],
   "source": [
    "normalize_cols = [\"count\", \"usage\"]\n",
    "eps = {\"count\": 2, \"usage\": 1e-2}"
   ]
  },
  {
   "cell_type": "code",
   "execution_count": 21,
   "metadata": {},
   "outputs": [
    {
     "data": {
      "application/vnd.jupyter.widget-view+json": {
       "model_id": "d0b8f172312b4899a77d7673cbd8a5e3",
       "version_major": 2,
       "version_minor": 0
      },
      "text/plain": [
       "  0%|          | 0/2 [00:00<?, ?it/s]"
      ]
     },
     "metadata": {},
     "output_type": "display_data"
    }
   ],
   "source": [
    "for _col in tqdm(normalize_cols):\n",
    "    group_key = f\"{_col}_cumulative\"\n",
    "    session_key = f\"{_col}_cumulative_within_session\"\n",
    "\n",
    "    for _use_key in [group_key, session_key]:\n",
    "        use_df[f\"change_{_use_key}_v2\"] = (\n",
    "            use_df[_use_key] - use_df[f\"baseline_{_use_key}\"]\n",
    "        )\n",
    "        use_df[f\"log2_fold_change_{_use_key}_v2\"] = np.log2(\n",
    "            (use_df[_use_key] + eps[_col])\n",
    "            / (use_df[f\"baseline_{_use_key}\"] + eps[_col])\n",
    "        )"
   ]
  },
  {
   "cell_type": "code",
   "execution_count": 22,
   "metadata": {},
   "outputs": [],
   "source": [
    "cum_df = use_df.loc[\n",
    "    (use_df[\"stim_duration\"] == 0.25)\n",
    "    & (use_df[\"opsin\"].isin([\"chr2\", \"ctrl\", \"halo\", \"chrimson\", \"eyfp\"]))\n",
    "].copy()"
   ]
  },
  {
   "cell_type": "code",
   "execution_count": 23,
   "metadata": {},
   "outputs": [],
   "source": [
    "session_count = (\n",
    "    cum_df.loc[cum_df[\"session_number\"].isin([1, 2])]\n",
    "    .drop_duplicates([\"mouse_id\", \"cohort\", \"target_syllable\", \"session_number\"])\n",
    "    .groupby([\"mouse_id\", \"cohort\", \"target_syllable\"])\n",
    "    .size()\n",
    ")\n",
    "include_tups = session_count[session_count >= 2].index\n",
    "cum_df = cum_df.set_index(include_tups.names).loc[include_tups].reset_index()\n",
    "\n",
    "mouse_count = (\n",
    "    cum_df.drop_duplicates([\"mouse_id\", \"cohort\", \"target_syllable\"])\n",
    "    .groupby([\"mouse_id\", \"cohort\"])\n",
    "    .size()\n",
    ")\n",
    "include_mice = mouse_count[mouse_count >= 2].index.tolist()\n",
    "cum_df = cum_df.set_index([\"mouse_id\", \"cohort\"]).loc[include_mice].reset_index()"
   ]
  },
  {
   "cell_type": "code",
   "execution_count": 24,
   "metadata": {},
   "outputs": [],
   "source": [
    "cum_df.index = range(len(cum_df))"
   ]
  },
  {
   "cell_type": "code",
   "execution_count": 25,
   "metadata": {},
   "outputs": [],
   "source": [
    "cum_df.to_parquet(\n",
    "    os.path.join(\n",
    "        raw_dirs[\"closed_loop_behavior\"], \"learning_timecourse_processed.parquet\"\n",
    "    )\n",
    ")"
   ]
  },
  {
   "cell_type": "markdown",
   "metadata": {},
   "source": [
    "# Compute summary learning and save"
   ]
  },
  {
   "cell_type": "code",
   "execution_count": 26,
   "metadata": {},
   "outputs": [],
   "source": [
    "summary_df = cum_df.copy()\n",
    "max_bin = summary_df[\"bin_start\"].unique().max()\n",
    "summary_df = summary_df.loc[summary_df[\"bin_start\"] == max_bin].copy()"
   ]
  },
  {
   "cell_type": "code",
   "execution_count": 27,
   "metadata": {},
   "outputs": [],
   "source": [
    "summary_df.index = range(len(summary_df))"
   ]
  },
  {
   "cell_type": "code",
   "execution_count": 28,
   "metadata": {},
   "outputs": [],
   "source": [
    "summary_df.to_parquet(\n",
    "    os.path.join(\n",
    "        raw_dirs[\"closed_loop_behavior\"],\n",
    "        \"learning_timecourse_processed_summary.parquet\",\n",
    "    )\n",
    ")"
   ]
  },
  {
   "cell_type": "code",
   "execution_count": null,
   "metadata": {},
   "outputs": [],
   "source": []
  },
  {
   "cell_type": "code",
   "execution_count": null,
   "metadata": {},
   "outputs": [],
   "source": []
  }
 ],
 "metadata": {
  "kernelspec": {
   "display_name": "Python [conda env:spont-da]",
   "language": "python",
   "name": "conda-env-spont-da-py"
  },
  "language_info": {
   "codemirror_mode": {
    "name": "ipython",
    "version": 3
   },
   "file_extension": ".py",
   "mimetype": "text/x-python",
   "name": "python",
   "nbconvert_exporter": "python",
   "pygments_lexer": "ipython3",
   "version": "3.10.8"
  },
  "toc": {
   "base_numbering": 1,
   "nav_menu": {},
   "number_sections": true,
   "sideBar": true,
   "skip_h1_title": false,
   "title_cell": "Table of Contents",
   "title_sidebar": "Contents",
   "toc_cell": false,
   "toc_position": {
    "height": "calc(100% - 180px)",
    "left": "10px",
    "top": "150px",
    "width": "287px"
   },
   "toc_section_display": true,
   "toc_window_display": true
  }
 },
 "nbformat": 4,
 "nbformat_minor": 4
}
