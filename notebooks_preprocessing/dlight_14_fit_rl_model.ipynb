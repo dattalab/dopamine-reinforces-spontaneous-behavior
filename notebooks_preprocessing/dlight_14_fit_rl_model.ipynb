{
 "cells": [
  {
   "cell_type": "markdown",
   "metadata": {},
   "source": [
    "# Find the best parameters for the RL model and fit"
   ]
  },
  {
   "cell_type": "code",
   "execution_count": 1,
   "metadata": {},
   "outputs": [],
   "source": [
    "%load_ext autoreload\n",
    "%autoreload 2\n",
    "%matplotlib inline"
   ]
  },
  {
   "cell_type": "code",
   "execution_count": 2,
   "metadata": {},
   "outputs": [],
   "source": [
    "from tqdm.auto import tqdm\n",
    "from rl_analysis.util import count_transitions\n",
    "from rl_analysis.io.df import dlight_exclude\n",
    "from rl_analysis.models_rl.models import simulate\n",
    "from rl_analysis.models_rl.loss import rl_loss\n",
    "from rl_analysis.models_rl.util import (\n",
    "    shuffle_rows_copy,\n",
    "    zscore_missing_data,\n",
    "    compare_tms,\n",
    ")\n",
    "from copy import deepcopy\n",
    "from sklearn import model_selection\n",
    "\n",
    "import joblib\n",
    "import pandas as pd\n",
    "import numpy as np\n",
    "import os"
   ]
  },
  {
   "cell_type": "code",
   "execution_count": 3,
   "metadata": {},
   "outputs": [],
   "source": [
    "# use the numpyro helpers to set the device count\n",
    "import numpyro\n",
    "import multiprocessing as mp\n",
    "\n",
    "numpyro.set_host_device_count(mp.cpu_count() * 10)\n",
    "numpyro.set_platform(\"cpu\")\n",
    "\n",
    "import jax\n",
    "from jax.experimental.maps import Mesh, xmap"
   ]
  },
  {
   "cell_type": "code",
   "execution_count": 4,
   "metadata": {},
   "outputs": [],
   "source": [
    "import toml\n",
    "\n",
    "with open(\"../analysis_configuration.toml\", \"r\") as f:\n",
    "    analysis_config = toml.load(f)"
   ]
  },
  {
   "cell_type": "code",
   "execution_count": 5,
   "metadata": {},
   "outputs": [],
   "source": [
    "raw_dirs = analysis_config[\"raw_data\"]\n",
    "dlight_cfg = analysis_config[\"dlight_common\"]\n",
    "proc_dirs = analysis_config[\"intermediate_results\"]\n",
    "lagged_cfg = analysis_config[\"dlight_lagged_correlations\"]\n",
    "encoding_cfg = analysis_config[\"dlight_encoding_features\"]\n",
    "figure_cfg = analysis_config[\"figures\"]"
   ]
  },
  {
   "cell_type": "markdown",
   "metadata": {
    "tags": []
   },
   "source": [
    "## Pre-process data"
   ]
  },
  {
   "cell_type": "markdown",
   "metadata": {
    "tags": []
   },
   "source": [
    "### Split into train/test by session"
   ]
  },
  {
   "cell_type": "code",
   "execution_count": 6,
   "metadata": {},
   "outputs": [],
   "source": [
    "use_data = pd.read_parquet(\n",
    "    os.path.join(raw_dirs[\"rl_modeling\"], \"rl_modeling_dlight_data_offline.parquet\")\n",
    ")\n",
    "use_data = dlight_exclude(\n",
    "    use_data, exclude_3s=False, exclude_target=False, **dlight_cfg\n",
    ")\n",
    "use_data = use_data[~use_data[\"session_number\"].isin([1, 2, 3, 4])].copy()\n",
    "use_data = use_data.loc[use_data[\"area\"] == \"dls\"].copy()\n",
    "use_data = use_data.dropna(subset=[\"signal_reref_dff_z_max\"])"
   ]
  },
  {
   "cell_type": "code",
   "execution_count": 7,
   "metadata": {},
   "outputs": [],
   "source": [
    "syllable_key = \"syllable\"\n",
    "feature_key = \"signal_reref_dff_z_max\" # reref'd dlight, max per transition\n",
    "reference_key = \"reference_dff_z_max\" # reference alone"
   ]
  },
  {
   "cell_type": "code",
   "execution_count": 8,
   "metadata": {},
   "outputs": [],
   "source": [
    "# use equal amount of data for all sessions (2500 syllables in this case)\n",
    "cutoff_uuid = 2500\n",
    "cutoff_date = cutoff_uuid\n",
    "test_size = 0.5\n",
    "truncate = 10\n",
    "\n",
    "group_obj = use_data.groupby([\"mouse_id\", \"uuid\"])\n",
    "use_data = group_obj.filter(lambda x: len(x) >= cutoff_uuid)\n",
    "group_obj = use_data.groupby([\"mouse_id\", \"uuid\"])\n",
    "\n",
    "# gather data, split off training data for optimizing hyperparameters\n",
    "seqs = np.array([df[syllable_key].values[:cutoff_date] for k, df in group_obj])\n",
    "features = np.array([df[feature_key].values[:cutoff_date] for k, df in group_obj])\n",
    "timestamps = np.array([df[\"timestamp\"].values[:cutoff_date] for k, df in group_obj])\n",
    "keys = [k for k, _ in group_obj]"
   ]
  },
  {
   "cell_type": "code",
   "execution_count": 9,
   "metadata": {},
   "outputs": [],
   "source": [
    "nsyllables = use_data[\"syllable\"].max()"
   ]
  },
  {
   "cell_type": "code",
   "execution_count": 10,
   "metadata": {},
   "outputs": [],
   "source": [
    "base_q_table = np.ones((nsyllables, nsyllables))\n",
    "np.fill_diagonal(base_q_table, 0)"
   ]
  },
  {
   "cell_type": "code",
   "execution_count": 11,
   "metadata": {},
   "outputs": [],
   "source": [
    "ref_tms = [count_transitions(_, K=57).astype(\"float\") for _ in seqs]\n",
    "[np.fill_diagonal(_, np.nan) for _ in ref_tms]\n",
    "ref_tms = np.array(ref_tms)[:, :truncate, :truncate]"
   ]
  },
  {
   "cell_type": "code",
   "execution_count": 12,
   "metadata": {},
   "outputs": [],
   "source": [
    "ref_tms_clip = [count_transitions(_[:], K=57).astype(\"float\") for _ in seqs]\n",
    "[np.fill_diagonal(_, np.nan) for _ in ref_tms_clip]\n",
    "ref_tms_clip = np.array(ref_tms)[:, :truncate, :truncate]"
   ]
  },
  {
   "cell_type": "code",
   "execution_count": 13,
   "metadata": {},
   "outputs": [],
   "source": [
    "splits = model_selection.KFold(n_splits=2, shuffle=False)\n",
    "splits = list(splits.split(range(len(seqs))))\n",
    "n_splits = len(splits)"
   ]
  },
  {
   "cell_type": "code",
   "execution_count": 14,
   "metadata": {},
   "outputs": [],
   "source": [
    "train_ref_tms = {}\n",
    "test_ref_tms = {}\n",
    "for i, _split in enumerate(splits):\n",
    "    train_ref_tms[i] = np.nan_to_num(\n",
    "        zscore_missing_data(ref_tms_clip[_split[0]], axis=-1), 0\n",
    "    ).mean(axis=0)\n",
    "    test_ref_tms[i] = np.nan_to_num(\n",
    "        zscore_missing_data(ref_tms_clip[_split[1]], axis=-1), 0\n",
    "    ).mean(axis=0)"
   ]
  },
  {
   "cell_type": "code",
   "execution_count": 15,
   "metadata": {},
   "outputs": [],
   "source": [
    "mask_threshold = 0  # note results were acceptable with 1 testing with 0"
   ]
  },
  {
   "cell_type": "code",
   "execution_count": 16,
   "metadata": {},
   "outputs": [],
   "source": [
    "# here we set to nan any q-table entries below a pre-specified threshold\n",
    "training_nan_mask = np.ones((truncate, truncate), dtype=\"float\")\n",
    "training_nan_mask[ref_tms.mean(axis=0) <= mask_threshold] = np.nan\n",
    "np.fill_diagonal(training_nan_mask, np.nan)"
   ]
  },
  {
   "cell_type": "code",
   "execution_count": 17,
   "metadata": {},
   "outputs": [],
   "source": [
    "# zscore features per session\n",
    "z_features = features - features.mean(axis=1, keepdims=True)\n",
    "z_features /= z_features.std(axis=1, keepdims=True)"
   ]
  },
  {
   "cell_type": "markdown",
   "metadata": {},
   "source": [
    "At this point our data per session is organized by:\n",
    "\n",
    "1. train/test transition matrices `train_ref_tms` and `test_ref_tms`.\n",
    "   1. These variables are dicts containing the average TM per fold\n",
    "2. DA per syllable is stored in `z_features`, which is z-scored per session."
   ]
  },
  {
   "cell_type": "markdown",
   "metadata": {
    "tags": []
   },
   "source": [
    "# Parameter grid-search"
   ]
  },
  {
   "cell_type": "code",
   "execution_count": 18,
   "metadata": {},
   "outputs": [],
   "source": [
    "# specify scan as a dict\n",
    "parameter_dct = {\n",
    "    \"gamma\": np.around(np.arange(0.5, 0.95, 0.1), 2),\n",
    "    \"alpha\": np.around(np.arange(0.1, 0.9, 0.1), 2),\n",
    "    \"temperature_baseline\": [\n",
    "        0.1,\n",
    "        0.2,\n",
    "        0.3,\n",
    "        0.4,\n",
    "    ], \n",
    "    \"temperature_alpha\": [0.1], # tau ~ 10 syllables\n",
    "    \"temperature_peak\": [0.25, 0.5, 0.75, 1],\n",
    "    \"temperature_threshold1\": [1.0, 2.0],\n",
    "    \"temperature_threshold2\": [-np.inf],\n",
    "}\n",
    "\n",
    "repeats = 10"
   ]
  },
  {
   "cell_type": "code",
   "execution_count": 19,
   "metadata": {},
   "outputs": [],
   "source": [
    "param_names = list(parameter_dct.keys())"
   ]
  },
  {
   "cell_type": "code",
   "execution_count": 20,
   "metadata": {},
   "outputs": [],
   "source": [
    "in_axes = [\n",
    "    [...],\n",
    "    [\"dataset\", ...],\n",
    "    [\"dataset\", ...],\n",
    "    [\"dataset\", ...],\n",
    "    [\"dataset\", ...],\n",
    "]"
   ]
  },
  {
   "cell_type": "code",
   "execution_count": 21,
   "metadata": {},
   "outputs": [],
   "source": [
    "# parallelize our simulations\n",
    "loss_xmap = xmap(\n",
    "    rl_loss, in_axes=in_axes, out_axes=[\"dataset\", ...], axis_resources={\"dataset\": \"x\"}\n",
    ")"
   ]
  },
  {
   "cell_type": "code",
   "execution_count": 22,
   "metadata": {},
   "outputs": [],
   "source": [
    "# assume lag 0 to start\n",
    "# For parameter optimization we're using the following objective:\n",
    "# LL of using original DA data - LL of using DA data shifted by 5 syllables\n",
    "lag_func = lambda x: np.roll(x, 0, axis=1)\n",
    "shifted_lag_func = lambda x: np.roll(x, -5, axis=1)"
   ]
  },
  {
   "cell_type": "code",
   "execution_count": 23,
   "metadata": {},
   "outputs": [],
   "source": [
    "param_grid = model_selection.ParameterGrid(parameter_dct)"
   ]
  },
  {
   "cell_type": "markdown",
   "metadata": {},
   "source": [
    "The input data for the simulations:\n",
    "\n",
    "TIMESTEP X (CURRENT_SYLLABLE, NEXT_SYLLABLE, DA_PEAK_VALUE)\n",
    "\n",
    "Each timestep is a syllable (i.e. the data is run-length-encoded)\n",
    "\n",
    "Overall, we're testing if DA, acting as reward in a q-learning model, produces a q-table similar to the empirical TM\n",
    "\n",
    "1. The state is the current syllable, and the action is the next syllable, thus $s_t, a_t$ is simply $syll_t, syll_{t_1}$\n",
    "1. Policy is simulated as a softmax, though this doesn't matter since we're only looking at the q-table\n",
    "1. We assume that $r_t$ is $\\text{DA}_t$, or the peak dLight during $syll_t$\n",
    "1. Temperature increases if $\\text{DA}_t\\gt\\beta_1$ and decreases if $\\text{DA}_t\\lt\\beta_2$.  DA relaxes back to the baseline temperature exponentially viz. $\\tau_{t+1} =  \\alpha * \\tau_{baseline} + (1 - \\alpha) * \\tau_{t}$ \n",
    "1. At the end of the simulation we measure the Pearson correlation between the model's final q-table and the mouse's empirical TM\n",
    "1. To ensure the model isn't cheating compare to trial-shuffled data, or even better data where DA is shifted in time by a fixed amount per trial (here trial is a 30 minute session)"
   ]
  },
  {
   "cell_type": "code",
   "execution_count": 24,
   "metadata": {},
   "outputs": [],
   "source": [
    "# the input data for the simulation:CURRENT SYLLABLE, NEXT SYLLABLE, DA FEATURE\n",
    "input_data = np.stack([seqs[:, :-1], seqs[:, 1:], lag_func(z_features[:, :-1])], axis=2)\n",
    "shifted_input_data = np.stack(\n",
    "    [seqs[:, :-1], seqs[:, 1:], shifted_lag_func(z_features[:, :-1])], axis=2\n",
    ")"
   ]
  },
  {
   "cell_type": "code",
   "execution_count": 25,
   "metadata": {},
   "outputs": [],
   "source": [
    "# build repeats and splits into the grid search\n",
    "param_grid = list(param_grid)\n",
    "param_names = list(parameter_dct.keys())\n",
    "\n",
    "new_grid = []\n",
    "for dct in param_grid:\n",
    "    for _repeat in range(repeats):\n",
    "        for _split in range(n_splits):\n",
    "            append_dct = deepcopy(dct)\n",
    "            append_dct[\"repeat\"] = _repeat\n",
    "            append_dct[\"fold\"] = _split\n",
    "            new_grid.append(append_dct)"
   ]
  },
  {
   "cell_type": "code",
   "execution_count": 26,
   "metadata": {},
   "outputs": [],
   "source": [
    "# initialize the q_table to base\n",
    "def init_q_table(base=base_q_table, truncate=truncate, nmats=1):\n",
    "    return np.array([base[:truncate, :truncate]] * nmats, dtype=\"float\")"
   ]
  },
  {
   "cell_type": "code",
   "execution_count": 27,
   "metadata": {
    "tags": []
   },
   "outputs": [
    {
     "data": {
      "application/vnd.jupyter.widget-view+json": {
       "model_id": "17710649c1854072b7473332cfb448cd",
       "version_major": 2,
       "version_minor": 0
      },
      "text/plain": [
       "  0%|          | 0/25600 [00:00<?, ?it/s]"
      ]
     },
     "metadata": {},
     "output_type": "display_data"
    }
   ],
   "source": [
    "# simulate each parameter set and store results\n",
    "dcts = []\n",
    "for dct in tqdm(new_grid):\n",
    "    use_dct = deepcopy(dct)\n",
    "    repeat_num = use_dct.pop(\"repeat\")\n",
    "    use_split = use_dct.pop(\"fold\")\n",
    "    train_idx, test_idx = splits[use_split]\n",
    "\n",
    "    for use_devices in range(len(jax.devices()), 0, -1):\n",
    "        if len(train_idx) % use_devices == 0:\n",
    "            break\n",
    "\n",
    "    with Mesh(np.array(jax.devices()[:use_devices]), (\"x\",)):\n",
    "        prng_keys = np.array(\n",
    "            [jax.random.PRNGKey(repeat_num) for _ in range(len(train_idx))]\n",
    "        )\n",
    "\n",
    "        q_table = init_q_table(base=training_nan_mask, nmats=len(train_idx))\n",
    "        results, shifted_results = loss_xmap(\n",
    "            use_dct,\n",
    "            q_table,\n",
    "            input_data[train_idx],\n",
    "            shifted_input_data[train_idx],\n",
    "            prng_keys,\n",
    "        )\n",
    "\n",
    "        # multi-lag?\n",
    "        loss, (lls, ps, actions), q_table = results\n",
    "        (\n",
    "            shifted_loss,\n",
    "            (shifted_lls, shifted_ps, shifted_actions),\n",
    "            shifted_q_table,\n",
    "        ) = shifted_results\n",
    "\n",
    "        mean_q_table = np.nan_to_num(\n",
    "            zscore_missing_data(np.array(q_table), axis=-1), 0\n",
    "        ).mean(axis=0)\n",
    "        mean_shifted_q_table = np.nan_to_num(\n",
    "            zscore_missing_data(np.array(shifted_q_table), axis=-1), 0\n",
    "        ).mean(axis=0)\n",
    "\n",
    "        mean_q_table[np.isnan(training_nan_mask)] = np.nan\n",
    "        mean_shifted_q_table[np.isnan(training_nan_mask)] = np.nan\n",
    "\n",
    "        _dct = {\n",
    "            \"q_table\": mean_q_table,\n",
    "            \"shifted_q_table\": mean_shifted_q_table,\n",
    "            \"repeat\": repeat_num,\n",
    "            \"fold\": use_split,\n",
    "            \"loss\": loss.mean(),\n",
    "            \"shifted_loss\": shifted_loss.mean(),\n",
    "        }\n",
    "        dcts.append(_dct)"
   ]
  },
  {
   "cell_type": "code",
   "execution_count": 28,
   "metadata": {},
   "outputs": [],
   "source": [
    "# q_table"
   ]
  },
  {
   "cell_type": "code",
   "execution_count": 29,
   "metadata": {},
   "outputs": [],
   "source": [
    "new_dcts = deepcopy(new_grid)\n",
    "for _dct, _results in zip(new_dcts, dcts):\n",
    "    for k, v in _results.items():\n",
    "        _dct[k] = v"
   ]
  },
  {
   "cell_type": "code",
   "execution_count": 30,
   "metadata": {},
   "outputs": [],
   "source": [
    "loss_df = pd.DataFrame(new_dcts)\n",
    "loss_df[\"loss\"] = loss_df[\"loss\"].astype(\"float\")\n",
    "# loss_df[\"shifted_loss\"] = loss_df[\"shifted_loss\"].astype(\"float\")"
   ]
  },
  {
   "cell_type": "code",
   "execution_count": 31,
   "metadata": {},
   "outputs": [
    {
     "name": "stderr",
     "output_type": "stream",
     "text": [
      "/tmp/ipykernel_1320816/3183511658.py:5: FutureWarning: The default value of numeric_only in DataFrameGroupBy.mean is deprecated. In a future version, numeric_only will default to False. Either specify numeric_only or select only columns which should be valid for the function.\n",
      "  ave_loss_df = loss_df.groupby(group_keys).mean()\n"
     ]
    }
   ],
   "source": [
    "loss_df[\"ref_tm\"] = loss_df[\"fold\"].map(train_ref_tms)\n",
    "\n",
    "group_keys = param_names + [\"fold\"]\n",
    "\n",
    "ave_loss_df = loss_df.groupby(group_keys).mean()\n",
    "ave_loss_df[\"q_table\"] = loss_df.groupby(group_keys)[\"q_table\"].mean()\n",
    "ave_loss_df[\"shifted_q_table\"] = loss_df.groupby(group_keys)[\"shifted_q_table\"].mean()\n",
    "ave_loss_df[\"ref_tm\"] = loss_df.groupby(group_keys)[\"ref_tm\"].mean()"
   ]
  },
  {
   "cell_type": "code",
   "execution_count": 32,
   "metadata": {},
   "outputs": [],
   "source": [
    "ave_loss_df[\"r_tm\"] = ave_loss_df.apply(\n",
    "    lambda x: compare_tms(x[\"ref_tm\"], x[\"q_table\"]), axis=1\n",
    ")\n",
    "ave_loss_df[\"shifted_r_tm\"] = ave_loss_df.apply(\n",
    "    lambda x: compare_tms(x[\"ref_tm\"], x[\"shifted_q_table\"]), axis=1\n",
    ")\n",
    "\n",
    "ave_loss_df[\"diff_r_tm\"] = ave_loss_df[\"r_tm\"].values - np.maximum(\n",
    "    ave_loss_df[\"shifted_r_tm\"], 0\n",
    ")\n",
    "\n",
    "ave_loss_df[\"raw_loss\"] = ave_loss_df[\"loss\"]\n",
    "ave_loss_df[\"total_r_tm\"] = 2 * ave_loss_df[\"diff_r_tm\"] + ave_loss_df[\"r_tm\"]"
   ]
  },
  {
   "cell_type": "code",
   "execution_count": 33,
   "metadata": {},
   "outputs": [],
   "source": [
    "# sns.heatmap(ave_loss_df.xs(0,level=\"fold\").groupby([\"alpha\",\"temperature_peak\"])[\"r_tm\"].mean().unstack())"
   ]
  },
  {
   "cell_type": "markdown",
   "metadata": {
    "tags": []
   },
   "source": [
    "# Collect optimal parameters"
   ]
  },
  {
   "cell_type": "code",
   "execution_count": 35,
   "metadata": {},
   "outputs": [],
   "source": [
    "param_order = [\n",
    "    \"temperature_baseline\",\n",
    "    \"temperature_peak\",\n",
    "    \"gamma\",\n",
    "    \"alpha\",\n",
    "    \"temperature_threshold1\",\n",
    "    \"temperature_threshold2\",\n",
    "    \"temperature_alpha\",\n",
    "]"
   ]
  },
  {
   "cell_type": "code",
   "execution_count": 36,
   "metadata": {},
   "outputs": [],
   "source": [
    "use_params = {}\n",
    "for _fold in range(n_splits):\n",
    "    use_params[_fold] = {}\n",
    "    use_loss_df = ave_loss_df.xs(_fold, level=\"fold\")\n",
    "    use_params[_fold][param_order[0]] = (\n",
    "        use_loss_df.groupby(param_order[0])[\"diff_r_tm\"].mean().idxmax()\n",
    "    )\n",
    "    for _param in param_order[1:]:\n",
    "        use_params[_fold][_param] = (\n",
    "            use_loss_df.xs(\n",
    "                tuple(use_params[_fold].values()), level=tuple(use_params[_fold].keys())\n",
    "            )\n",
    "            .groupby(_param)[\"diff_r_tm\"]\n",
    "            .mean()\n",
    "            .idxmax()\n",
    "        )"
   ]
  },
  {
   "cell_type": "code",
   "execution_count": 37,
   "metadata": {},
   "outputs": [],
   "source": [
    "savename = os.path.join(proc_dirs[\"rl_modeling\"], \"rl_model_parameters.toml\")"
   ]
  },
  {
   "cell_type": "code",
   "execution_count": 38,
   "metadata": {},
   "outputs": [],
   "source": [
    "with open(savename, \"w\") as f:\n",
    "    toml.dump({str(k): v for k, v in use_params.items()}, f)"
   ]
  },
  {
   "cell_type": "markdown",
   "metadata": {
    "tags": []
   },
   "source": [
    "# Next scan over DA-->behavior lags"
   ]
  },
  {
   "cell_type": "code",
   "execution_count": 39,
   "metadata": {},
   "outputs": [],
   "source": [
    "with open(os.path.join(proc_dirs[\"rl_modeling\"], \"rl_model_parameters.toml\"), \"r\") as f:\n",
    "    fit_params = toml.load(f)"
   ]
  },
  {
   "cell_type": "code",
   "execution_count": 40,
   "metadata": {},
   "outputs": [],
   "source": [
    "new_fit_params = {}\n",
    "for _fold, _params in fit_params.items():\n",
    "    _params = {k: pd.to_numeric(v, errors=\"ignore\") for k, v in _params.items()}\n",
    "    new_fit_params[pd.to_numeric(_fold, errors=\"ignore\")] = _params"
   ]
  },
  {
   "cell_type": "code",
   "execution_count": 41,
   "metadata": {},
   "outputs": [],
   "source": [
    "use_params = new_fit_params"
   ]
  },
  {
   "cell_type": "code",
   "execution_count": 42,
   "metadata": {},
   "outputs": [],
   "source": [
    "in_axes = [\n",
    "    [...],\n",
    "    [\"dataset\", ...],\n",
    "    [\"dataset\", ...],\n",
    "    [\"dataset\", ...],\n",
    "]"
   ]
  },
  {
   "cell_type": "code",
   "execution_count": 43,
   "metadata": {},
   "outputs": [],
   "source": [
    "loss_xmap = xmap(\n",
    "    simulate,\n",
    "    in_axes=in_axes,\n",
    "    out_axes=[\"dataset\", ...],\n",
    "    axis_resources={\"dataset\": \"x\"},\n",
    ")"
   ]
  },
  {
   "cell_type": "code",
   "execution_count": 44,
   "metadata": {},
   "outputs": [],
   "source": [
    "sim_funcs = {\n",
    "    \"reward\": loss_xmap,\n",
    "}"
   ]
  },
  {
   "cell_type": "code",
   "execution_count": 45,
   "metadata": {},
   "outputs": [],
   "source": [
    "# CURRENT SETTINGS\n",
    "lags = np.arange(-10, 11)\n",
    "repeats = 50\n",
    "batches = 50"
   ]
  },
  {
   "cell_type": "code",
   "execution_count": 46,
   "metadata": {},
   "outputs": [],
   "source": [
    "import itertools"
   ]
  },
  {
   "cell_type": "code",
   "execution_count": 47,
   "metadata": {},
   "outputs": [],
   "source": [
    "save_file_basename = \"rl_model_heldout_results\"\n",
    "save_file = os.path.join(proc_dirs[\"rl_modeling\"], f\"{save_file_basename}_lags.parquet\")"
   ]
  },
  {
   "cell_type": "code",
   "execution_count": 48,
   "metadata": {},
   "outputs": [],
   "source": [
    "force = False"
   ]
  },
  {
   "cell_type": "code",
   "execution_count": 49,
   "metadata": {},
   "outputs": [
    {
     "data": {
      "application/vnd.jupyter.widget-view+json": {
       "model_id": "74e1492ba26f469cb241bc7afc9fd5fc",
       "version_major": 2,
       "version_minor": 0
      },
      "text/plain": [
       "  0%|          | 0/105000 [00:00<?, ?it/s]"
      ]
     },
     "metadata": {},
     "output_type": "display_data"
    },
    {
     "name": "stderr",
     "output_type": "stream",
     "text": [
      "/tmp/ipykernel_1320816/1128505470.py:42: RuntimeWarning: Mean of empty slice\n",
      "  mean_q_table_raw = np.nanmean(q_table, axis=0)\n",
      "/tmp/ipykernel_1320816/1128505470.py:42: RuntimeWarning: Mean of empty slice\n",
      "  mean_q_table_raw = np.nanmean(q_table, axis=0)\n"
     ]
    },
    {
     "data": {
      "application/vnd.jupyter.widget-view+json": {
       "model_id": "5c80ccf44de442589aa4f686372701dc",
       "version_major": 2,
       "version_minor": 0
      },
      "text/plain": [
       "  0%|          | 0/105000 [00:00<?, ?it/s]"
      ]
     },
     "metadata": {},
     "output_type": "display_data"
    }
   ],
   "source": [
    "dcts = []\n",
    "inner_loop = list(\n",
    "    itertools.product([\"dynamic\", \"static\"], lags, range(repeats), range(batches))\n",
    ")\n",
    "use_seed = 0\n",
    "if not os.path.exists(save_file) or force:\n",
    "    for _fold, (train_idx, test_idx) in enumerate(splits):\n",
    "        for use_devices in range(len(jax.devices()), 0, -1):\n",
    "            if len(test_idx) % use_devices == 0:\n",
    "                break\n",
    "        for k, v in sim_funcs.items():\n",
    "            for _model, _lag, _repeat, _batch in tqdm(inner_loop):\n",
    "                fold_params = deepcopy(use_params[_fold])\n",
    "\n",
    "                if _model == \"static\":\n",
    "                    fold_params[\"temperature_peak\"] = 0\n",
    "\n",
    "                with Mesh(np.array(jax.devices()[:use_devices]), (\"x\",)):\n",
    "\n",
    "                    q_table = init_q_table(base=training_nan_mask, nmats=len(test_idx))\n",
    "                    input_data = np.stack(\n",
    "                        [\n",
    "                            seqs[:, :-1],\n",
    "                            seqs[:, 1:],\n",
    "                            np.roll((z_features[:, :-1]), _lag, axis=1),\n",
    "                        ],\n",
    "                        axis=2,\n",
    "                    )\n",
    "                    prng_keys = np.array(\n",
    "                        [jax.random.PRNGKey(use_seed) for _ in range(len(test_idx))]\n",
    "                    )\n",
    "                    use_seed += 1\n",
    "                    loss, lls, q_table = v(\n",
    "                        fold_params, q_table, input_data[test_idx], prng_keys\n",
    "                    )\n",
    "\n",
    "                    mean_q_table = np.nan_to_num(\n",
    "                        zscore_missing_data(np.array(q_table), axis=-1), 0\n",
    "                    ).mean(axis=0)\n",
    "                    mean_q_table[np.isnan(training_nan_mask)] = np.nan\n",
    "                    mean_q_table_raw = np.nanmean(q_table, axis=0)\n",
    "                    mean_q_table_raw[np.isnan(training_nan_mask)] = np.nan\n",
    "\n",
    "                    _dct = {\n",
    "                        \"loss\": loss.mean(),\n",
    "                        # \"tm_loss\": tm_loss,\n",
    "                        \"func\": v.__name__,\n",
    "                        \"lag\": _lag,\n",
    "                        \"fold\": _fold,\n",
    "                        \"repeat\": _repeat,\n",
    "                        \"batch\": _batch,\n",
    "                        \"model\": _model,\n",
    "                        \"q_table\": mean_q_table,\n",
    "                        \"q_table_raw\": mean_q_table_raw,\n",
    "                    }\n",
    "                    dcts.append(_dct)\n",
    "\n",
    "    time_df = pd.DataFrame(dcts)\n",
    "    time_df[\"ref_tm\"] = time_df[\"fold\"].map(test_ref_tms)\n",
    "    time_df[\"r_tm\"] = time_df.apply(\n",
    "        lambda x: compare_tms(x[\"ref_tm\"], x[\"q_table\"]), axis=1\n",
    "    )\n",
    "\n",
    "    tm_dct = {}\n",
    "    tm_dct[\"ref_tm\"] = time_df[\"ref_tm\"].to_list()\n",
    "    tm_dct[\"q_table\"] = time_df[\"q_table\"].to_list()\n",
    "    tm_dct[\"q_table_raw\"] = time_df[\"q_table_raw\"].to_list()\n",
    "\n",
    "    time_df[\"loss\"] = time_df[\"loss\"].astype(\"float\")\n",
    "    time_df.drop(list(tm_dct.keys()), axis=1, errors=\"ignore\").to_parquet(save_file)\n",
    "    joblib.dump(tm_dct, save_file.replace(\"parquet\", \"p\"))\n",
    "else:\n",
    "    time_df = pd.read_parquet(save_file)\n",
    "    tm_dct = joblib.load(save_file.replace(\"parquet\", \"p\"))\n",
    "    for k, v in tm_dct.items():\n",
    "        time_df[k] = v"
   ]
  },
  {
   "cell_type": "code",
   "execution_count": 50,
   "metadata": {},
   "outputs": [],
   "source": [
    "group_keys = [\"lag\", \"fold\", \"batch\", \"model\"]"
   ]
  },
  {
   "cell_type": "code",
   "execution_count": 51,
   "metadata": {},
   "outputs": [
    {
     "name": "stderr",
     "output_type": "stream",
     "text": [
      "/tmp/ipykernel_1320816/2964452773.py:1: FutureWarning: The default value of numeric_only in DataFrameGroupBy.mean is deprecated. In a future version, numeric_only will default to False. Either specify numeric_only or select only columns which should be valid for the function.\n",
      "  ave_time_df = time_df.groupby(group_keys).mean()\n"
     ]
    }
   ],
   "source": [
    "ave_time_df = time_df.groupby(group_keys).mean()\n",
    "ave_time_df[\"q_table\"] = time_df.groupby(group_keys)[\"q_table\"].mean()\n",
    "ave_time_df[\"q_table_raw\"] = time_df.groupby(group_keys)[\"q_table_raw\"].mean()\n",
    "ave_time_df[\"ref_tm\"] = time_df.groupby(group_keys)[\"ref_tm\"].mean()\n",
    "ave_time_df[\"ave_r_tm\"] = ave_time_df.apply(\n",
    "    lambda x: compare_tms(x[\"ref_tm\"], x[\"q_table\"]), axis=1\n",
    ")"
   ]
  },
  {
   "cell_type": "code",
   "execution_count": 52,
   "metadata": {},
   "outputs": [
    {
     "data": {
      "text/plain": [
       "lag  model  \n",
       "-10  dynamic   -0.016271\n",
       "     static    -0.390744\n",
       "-9   dynamic   -0.013490\n",
       "     static    -0.421764\n",
       "-8   dynamic    0.046994\n",
       "     static    -0.413248\n",
       "-7   dynamic    0.056691\n",
       "     static    -0.388023\n",
       "-6   dynamic    0.008396\n",
       "     static    -0.442007\n",
       "-5   dynamic    0.049587\n",
       "     static    -0.383897\n",
       "-4   dynamic    0.089757\n",
       "     static    -0.365063\n",
       "-3   dynamic   -0.046379\n",
       "     static    -0.428004\n",
       "-2   dynamic   -0.013731\n",
       "     static    -0.417210\n",
       "-1   dynamic   -0.067664\n",
       "     static    -0.391930\n",
       " 0   dynamic    0.272956\n",
       "     static     0.163235\n",
       " 1   dynamic    0.340368\n",
       "     static     0.007984\n",
       " 2   dynamic    0.197415\n",
       "     static    -0.221188\n",
       " 3   dynamic    0.105905\n",
       "     static    -0.232961\n",
       " 4   dynamic    0.091233\n",
       "     static    -0.329570\n",
       " 5   dynamic    0.032321\n",
       "     static    -0.359427\n",
       " 6   dynamic    0.018275\n",
       "     static    -0.341908\n",
       " 7   dynamic    0.073129\n",
       "     static    -0.368829\n",
       " 8   dynamic    0.019334\n",
       "     static    -0.384257\n",
       " 9   dynamic   -0.061409\n",
       "     static    -0.441573\n",
       " 10  dynamic    0.050457\n",
       "     static    -0.433297\n",
       "Name: ave_r_tm, dtype: float64"
      ]
     },
     "execution_count": 52,
     "metadata": {},
     "output_type": "execute_result"
    }
   ],
   "source": [
    "ave_time_df[\"ave_r_tm\"].groupby([\"lag\", \"model\"]).mean()"
   ]
  },
  {
   "cell_type": "code",
   "execution_count": 53,
   "metadata": {},
   "outputs": [
    {
     "data": {
      "text/plain": [
       "lag  fold  batch  model  \n",
       "-10  0     0      dynamic    0.877019\n",
       "                  static    -0.080402\n",
       "           1      dynamic    0.885933\n",
       "                  static    -0.083562\n",
       "           2      dynamic    0.886810\n",
       "                               ...   \n",
       " 10  1     47     static     0.073161\n",
       "           48     dynamic    0.672214\n",
       "                  static     0.071606\n",
       "           49     dynamic    0.671364\n",
       "                  static     0.071270\n",
       "Name: q_table_raw, Length: 4200, dtype: float64"
      ]
     },
     "execution_count": 53,
     "metadata": {},
     "output_type": "execute_result"
    }
   ],
   "source": [
    "ave_time_df[\"q_table_raw\"].apply(lambda x: np.quantile(np.nanmin(x, axis=1), 0.5))"
   ]
  },
  {
   "cell_type": "code",
   "execution_count": 54,
   "metadata": {},
   "outputs": [],
   "source": [
    "best_lag = (\n",
    "    ave_time_df.groupby([\"model\", \"lag\"])[\"ave_r_tm\"]\n",
    "    .mean()\n",
    "    .groupby(\"model\")\n",
    "    .idxmax()\n",
    "    .apply(lambda x: x[-1])\n",
    ")"
   ]
  },
  {
   "cell_type": "code",
   "execution_count": 55,
   "metadata": {},
   "outputs": [],
   "source": [
    "lag_func = lambda x: np.roll(x, best_lag.loc[\"dynamic\"], axis=1)"
   ]
  },
  {
   "cell_type": "code",
   "execution_count": 56,
   "metadata": {},
   "outputs": [],
   "source": [
    "nrands = 100"
   ]
  },
  {
   "cell_type": "code",
   "execution_count": 57,
   "metadata": {},
   "outputs": [],
   "source": [
    "# can add lag to the inner loop, then we subtract off the surround like with others..."
   ]
  },
  {
   "cell_type": "code",
   "execution_count": 58,
   "metadata": {},
   "outputs": [],
   "source": [
    "save_file = os.path.join(\n",
    "    proc_dirs[\"rl_modeling\"], f\"{save_file_basename}_best_lag_rands.parquet\"\n",
    ")"
   ]
  },
  {
   "cell_type": "code",
   "execution_count": 59,
   "metadata": {},
   "outputs": [
    {
     "data": {
      "application/vnd.jupyter.widget-view+json": {
       "model_id": "f40b59f2626a40aca479df2b15d5944b",
       "version_major": 2,
       "version_minor": 0
      },
      "text/plain": [
       "  0%|          | 0/5000 [00:00<?, ?it/s]"
      ]
     },
     "metadata": {},
     "output_type": "display_data"
    },
    {
     "name": "stderr",
     "output_type": "stream",
     "text": [
      "/tmp/ipykernel_1320816/3611393561.py:39: RuntimeWarning: Mean of empty slice\n",
      "  mean_q_table_raw = np.nanmean(q_table, axis=0)\n"
     ]
    },
    {
     "data": {
      "application/vnd.jupyter.widget-view+json": {
       "model_id": "548a28af7b87455f950c876c3700f4a2",
       "version_major": 2,
       "version_minor": 0
      },
      "text/plain": [
       "  0%|          | 0/5000 [00:00<?, ?it/s]"
      ]
     },
     "metadata": {},
     "output_type": "display_data"
    }
   ],
   "source": [
    "# time_losses = defaultdict(list)\n",
    "inner_loop = list(\n",
    "    itertools.product([best_lag.loc[\"dynamic\"]], range(repeats), range(nrands))\n",
    ")\n",
    "dcts = []\n",
    "use_seed = 0\n",
    "if not os.path.exists(save_file) or force:\n",
    "    for _fold, (train_idx, test_idx) in enumerate(splits):\n",
    "        # fold_params = dict(zip(param_names, use_params[_fold]))\n",
    "        fold_params = use_params[_fold]\n",
    "\n",
    "        for use_devices in range(len(jax.devices()), 0, -1):\n",
    "            if len(test_idx) % use_devices == 0:\n",
    "                break\n",
    "        for k, v in sim_funcs.items():\n",
    "            for _lag, _repeat, _rand in tqdm(inner_loop):\n",
    "                with Mesh(np.array(jax.devices()[:use_devices]), (\"x\",)):\n",
    "\n",
    "                    q_table = np.array([training_nan_mask] * len(test_idx))\n",
    "                    features_rand = shuffle_rows_copy(z_features.copy())\n",
    "                    rand_input_data = np.stack(\n",
    "                        [seqs[:, :-1], seqs[:, 1:], lag_func(features_rand[:, :-1])],\n",
    "                        axis=2,\n",
    "                    )\n",
    "\n",
    "                    prng_keys = np.array(\n",
    "                        [jax.random.PRNGKey(use_seed) for _ in range(len(test_idx))]\n",
    "                    )\n",
    "                    use_seed += 1\n",
    "                    loss, lls, q_table = v(\n",
    "                        fold_params, q_table, rand_input_data[test_idx], prng_keys\n",
    "                    )\n",
    "\n",
    "                    mean_q_table = np.nan_to_num(\n",
    "                        zscore_missing_data(np.array(q_table), axis=-1), 0\n",
    "                    ).mean(axis=0)\n",
    "                    mean_q_table[np.isnan(training_nan_mask)] = np.nan\n",
    "                    mean_q_table_raw = np.nanmean(q_table, axis=0)\n",
    "                    mean_q_table_raw[np.isnan(training_nan_mask)] = np.nan\n",
    "\n",
    "                    _dct = {\n",
    "                        \"loss\": loss.mean(),\n",
    "                        \"func\": v.__name__,\n",
    "                        \"fold\": _fold,\n",
    "                        \"batch\": _rand,\n",
    "                        \"repeat\": _repeat,\n",
    "                        \"lag\": _lag,\n",
    "                        \"q_table\": mean_q_table,\n",
    "                        \"q_table_raw\": mean_q_table_raw,\n",
    "                    }\n",
    "                    dcts.append(_dct)\n",
    "\n",
    "    rand_df = pd.DataFrame(dcts)\n",
    "    rand_df[\"ref_tm\"] = rand_df[\"fold\"].map(test_ref_tms)\n",
    "    rand_df[\"r_tm\"] = rand_df.apply(\n",
    "        lambda x: compare_tms(x[\"ref_tm\"], x[\"q_table\"]), axis=1\n",
    "    )\n",
    "\n",
    "    tm_dct = {}\n",
    "    tm_dct[\"ref_tm\"] = rand_df[\"ref_tm\"].to_list()\n",
    "    tm_dct[\"q_table\"] = rand_df[\"q_table\"].to_list()\n",
    "    tm_dct[\"q_table_raw\"] = rand_df[\"q_table_raw\"].to_list()\n",
    "\n",
    "    if \"loss\" in rand_df.columns:\n",
    "        rand_df[\"loss\"] = rand_df[\"loss\"].astype(\"float\")\n",
    "    rand_df.drop(list(tm_dct.keys()), axis=1, errors=\"ignore\").to_parquet(save_file)\n",
    "    joblib.dump(tm_dct, save_file.replace(\"parquet\", \"p\"))\n",
    "else:\n",
    "    rand_df = pd.read_parquet(save_file)\n",
    "    tm_dct = joblib.load(save_file.replace(\"parquet\", \"p\"))\n",
    "    for k, v in tm_dct.items():\n",
    "        rand_df[k] = v"
   ]
  },
  {
   "cell_type": "code",
   "execution_count": 60,
   "metadata": {},
   "outputs": [],
   "source": [
    "group_keys = [\"lag\", \"fold\", \"batch\"]"
   ]
  },
  {
   "cell_type": "code",
   "execution_count": 61,
   "metadata": {},
   "outputs": [
    {
     "name": "stderr",
     "output_type": "stream",
     "text": [
      "/tmp/ipykernel_1320816/460268098.py:1: FutureWarning: The default value of numeric_only in DataFrameGroupBy.mean is deprecated. In a future version, numeric_only will default to False. Either specify numeric_only or select only columns which should be valid for the function.\n",
      "  ave_rand_df = rand_df.groupby(group_keys).mean()\n"
     ]
    }
   ],
   "source": [
    "ave_rand_df = rand_df.groupby(group_keys).mean()\n",
    "ave_rand_df[\"q_table\"] = rand_df.groupby(group_keys)[\"q_table\"].mean()\n",
    "ave_rand_df[\"q_table_raw\"] = rand_df.groupby(group_keys)[\"q_table_raw\"].mean()\n",
    "ave_rand_df[\"ref_tm\"] = rand_df.groupby(group_keys)[\"ref_tm\"].mean()\n",
    "ave_rand_df[\"ave_r_tm\"] = ave_rand_df.apply(\n",
    "    lambda x: compare_tms(x[\"q_table\"], x[\"ref_tm\"]), axis=1\n",
    ")"
   ]
  }
 ],
 "metadata": {
  "kernelspec": {
   "display_name": "Python [conda env:spont-da]",
   "language": "python",
   "name": "conda-env-spont-da-py"
  },
  "language_info": {
   "codemirror_mode": {
    "name": "ipython",
    "version": 3
   },
   "file_extension": ".py",
   "mimetype": "text/x-python",
   "name": "python",
   "nbconvert_exporter": "python",
   "pygments_lexer": "ipython3",
   "version": "3.10.8"
  },
  "widgets": {
   "application/vnd.jupyter.widget-state+json": {
    "state": {
     "015bf6f85aa04633a7dda0daff5612bd": {
      "model_module": "@jupyter-widgets/controls",
      "model_module_version": "1.5.0",
      "model_name": "ProgressStyleModel",
      "state": {
       "description_width": "initial"
      }
     },
     "0188fa3b32884bd58c54d1a0dcfd94c6": {
      "model_module": "@jupyter-widgets/controls",
      "model_module_version": "1.5.0",
      "model_name": "HBoxModel",
      "state": {
       "children": [
        "IPY_MODEL_e454c6c2890c4084acc85983dce47fc4",
        "IPY_MODEL_9cbd5d01284748c49f2a5bfe4ae97d31"
       ],
       "layout": "IPY_MODEL_74ffb9908c62431bb196de0795f6645a"
      }
     },
     "026a1bcdae5346699365e48aa6cace58": {
      "model_module": "@jupyter-widgets/controls",
      "model_module_version": "1.5.0",
      "model_name": "HBoxModel",
      "state": {
       "children": [
        "IPY_MODEL_45956762fdd24175b0bd279598057b39",
        "IPY_MODEL_bb4fd7b1f691458b81bf0e582f236f4f"
       ],
       "layout": "IPY_MODEL_6d0eb327a9884d028714d4f9f799cc9c"
      }
     },
     "05cd2d8f5b15457fbeb14dda0bfc2e46": {
      "model_module": "@jupyter-widgets/base",
      "model_module_version": "1.2.0",
      "model_name": "LayoutModel",
      "state": {}
     },
     "0b132e4db48a4409bd54ed95b919c314": {
      "model_module": "@jupyter-widgets/base",
      "model_module_version": "1.2.0",
      "model_name": "LayoutModel",
      "state": {}
     },
     "0e4df3dad9214540af92b992cd72eeea": {
      "model_module": "@jupyter-widgets/controls",
      "model_module_version": "1.5.0",
      "model_name": "DescriptionStyleModel",
      "state": {
       "description_width": ""
      }
     },
     "116a29c654a74edf82fb4dd362d55764": {
      "model_module": "@jupyter-widgets/controls",
      "model_module_version": "1.5.0",
      "model_name": "DescriptionStyleModel",
      "state": {
       "description_width": ""
      }
     },
     "1628a141025c4f8aadb39d8ecfb72d73": {
      "model_module": "@jupyter-widgets/base",
      "model_module_version": "1.2.0",
      "model_name": "LayoutModel",
      "state": {}
     },
     "1d5cb71772c0454fa805233742191477": {
      "model_module": "@jupyter-widgets/base",
      "model_module_version": "1.2.0",
      "model_name": "LayoutModel",
      "state": {}
     },
     "1fd56e9ad55a4f1499e43591c86fcc66": {
      "model_module": "@jupyter-widgets/controls",
      "model_module_version": "1.5.0",
      "model_name": "HBoxModel",
      "state": {
       "children": [
        "IPY_MODEL_31d89422cbd44fe99dd87f02d05710f8",
        "IPY_MODEL_b1b0f0d12602417e9f2576ec69a9ce43"
       ],
       "layout": "IPY_MODEL_b0c404ba9e534008a062bc1df73e00e2"
      }
     },
     "28a919f2abbc48fcaf8b76eed040e97f": {
      "model_module": "@jupyter-widgets/controls",
      "model_module_version": "1.5.0",
      "model_name": "FloatProgressModel",
      "state": {
       "bar_style": "success",
       "description": "100%",
       "layout": "IPY_MODEL_930f1462cb034ad8baf8752382ec8eab",
       "max": 54404,
       "style": "IPY_MODEL_015bf6f85aa04633a7dda0daff5612bd",
       "value": 54404
      }
     },
     "2a05def7df604aefb1063c42a442a9cc": {
      "model_module": "@jupyter-widgets/controls",
      "model_module_version": "1.5.0",
      "model_name": "HTMLModel",
      "state": {
       "layout": "IPY_MODEL_6d904ec8d96a4c6c8e816d5d6a4b7222",
       "style": "IPY_MODEL_116a29c654a74edf82fb4dd362d55764",
       "value": " 1080/1080 [01:05&lt;00:00, 16.42it/s]"
      }
     },
     "2d52003cf5e64a319d8b3f8395672374": {
      "model_module": "@jupyter-widgets/controls",
      "model_module_version": "1.5.0",
      "model_name": "FloatProgressModel",
      "state": {
       "bar_style": "success",
       "description": "100%",
       "layout": "IPY_MODEL_5398069d757043e0b218cd9540132242",
       "max": 54404,
       "style": "IPY_MODEL_ea85ab1c5e99411c8b72c69f140fcf63",
       "value": 54404
      }
     },
     "30ecdd1e161145f3b0cea2da2b5ed087": {
      "model_module": "@jupyter-widgets/controls",
      "model_module_version": "1.5.0",
      "model_name": "DescriptionStyleModel",
      "state": {
       "description_width": ""
      }
     },
     "3111470fa018471d94ccda8b2b65e951": {
      "model_module": "@jupyter-widgets/controls",
      "model_module_version": "1.5.0",
      "model_name": "HBoxModel",
      "state": {
       "children": [
        "IPY_MODEL_b88c6de73384477abb6afd2e93eed85d",
        "IPY_MODEL_89a07ff193214c5d9374f03786bd1c98"
       ],
       "layout": "IPY_MODEL_dfcfb5b728e64d50938fb47cda7c18dd"
      }
     },
     "3181571a0f5d4473b487a05a5b0d229e": {
      "model_module": "@jupyter-widgets/controls",
      "model_module_version": "1.5.0",
      "model_name": "HBoxModel",
      "state": {
       "children": [
        "IPY_MODEL_2d52003cf5e64a319d8b3f8395672374",
        "IPY_MODEL_f766ce281f2b439c9f477a1fd9375542"
       ],
       "layout": "IPY_MODEL_3b2d57676262459690f598d5808383eb"
      }
     },
     "31d89422cbd44fe99dd87f02d05710f8": {
      "model_module": "@jupyter-widgets/controls",
      "model_module_version": "1.5.0",
      "model_name": "FloatProgressModel",
      "state": {
       "bar_style": "success",
       "description": "100%",
       "layout": "IPY_MODEL_d92bf18225aa4456be58160b521f607f",
       "max": 54404,
       "style": "IPY_MODEL_601bdf1dea7f4c58b70d501d27d161b2",
       "value": 54404
      }
     },
     "339b4b8e25d94e36bf24c329900ca9dd": {
      "model_module": "@jupyter-widgets/controls",
      "model_module_version": "1.5.0",
      "model_name": "HBoxModel",
      "state": {
       "children": [
        "IPY_MODEL_f201d480ab45492894affaa7dacc71e6",
        "IPY_MODEL_2a05def7df604aefb1063c42a442a9cc"
       ],
       "layout": "IPY_MODEL_cf2e01f46e4648719127f85aa3cc9857"
      }
     },
     "3509b38326ff44d9880d3c56978a67b1": {
      "model_module": "@jupyter-widgets/controls",
      "model_module_version": "1.5.0",
      "model_name": "ProgressStyleModel",
      "state": {
       "description_width": "initial"
      }
     },
     "366d29ede43645aba4c8946cd9553dca": {
      "model_module": "@jupyter-widgets/base",
      "model_module_version": "1.2.0",
      "model_name": "LayoutModel",
      "state": {}
     },
     "3b2d57676262459690f598d5808383eb": {
      "model_module": "@jupyter-widgets/base",
      "model_module_version": "1.2.0",
      "model_name": "LayoutModel",
      "state": {}
     },
     "3c845b383ebb400a8870b7723735df43": {
      "model_module": "@jupyter-widgets/controls",
      "model_module_version": "1.5.0",
      "model_name": "FloatProgressModel",
      "state": {
       "bar_style": "success",
       "description": "100%",
       "layout": "IPY_MODEL_1628a141025c4f8aadb39d8ecfb72d73",
       "max": 1080,
       "style": "IPY_MODEL_3509b38326ff44d9880d3c56978a67b1",
       "value": 1080
      }
     },
     "401964b01792439f923bfad8b3a96923": {
      "model_module": "@jupyter-widgets/controls",
      "model_module_version": "1.5.0",
      "model_name": "ProgressStyleModel",
      "state": {
       "description_width": "initial"
      }
     },
     "45956762fdd24175b0bd279598057b39": {
      "model_module": "@jupyter-widgets/controls",
      "model_module_version": "1.5.0",
      "model_name": "FloatProgressModel",
      "state": {
       "bar_style": "success",
       "description": "100%",
       "layout": "IPY_MODEL_1d5cb71772c0454fa805233742191477",
       "max": 54404,
       "style": "IPY_MODEL_8ef6d764628f4e64b399545ab6527759",
       "value": 54404
      }
     },
     "4b0431f5fd4d4122b15c6a719d4cbe2a": {
      "model_module": "@jupyter-widgets/controls",
      "model_module_version": "1.5.0",
      "model_name": "DescriptionStyleModel",
      "state": {
       "description_width": ""
      }
     },
     "4e5cc1bc2777405dbd8829fce162fca1": {
      "model_module": "@jupyter-widgets/controls",
      "model_module_version": "1.5.0",
      "model_name": "HTMLModel",
      "state": {
       "layout": "IPY_MODEL_5c89955369cb4da2b1b4cceaf9ce2ccb",
       "style": "IPY_MODEL_c654f16f8c2143b7a45125b4b8b6f7b6",
       "value": " 1080/1080 [00:12&lt;00:00, 88.77it/s]"
      }
     },
     "5398069d757043e0b218cd9540132242": {
      "model_module": "@jupyter-widgets/base",
      "model_module_version": "1.2.0",
      "model_name": "LayoutModel",
      "state": {}
     },
     "56f1fdaa4d0a45ef903bdd0c2934fa96": {
      "model_module": "@jupyter-widgets/base",
      "model_module_version": "1.2.0",
      "model_name": "LayoutModel",
      "state": {}
     },
     "5c89955369cb4da2b1b4cceaf9ce2ccb": {
      "model_module": "@jupyter-widgets/base",
      "model_module_version": "1.2.0",
      "model_name": "LayoutModel",
      "state": {}
     },
     "601bdf1dea7f4c58b70d501d27d161b2": {
      "model_module": "@jupyter-widgets/controls",
      "model_module_version": "1.5.0",
      "model_name": "ProgressStyleModel",
      "state": {
       "description_width": "initial"
      }
     },
     "606d96232d354b0fa8b740c7ea160fb8": {
      "model_module": "@jupyter-widgets/base",
      "model_module_version": "1.2.0",
      "model_name": "LayoutModel",
      "state": {}
     },
     "67c2f837fd494a209cd1149005350c08": {
      "model_module": "@jupyter-widgets/base",
      "model_module_version": "1.2.0",
      "model_name": "LayoutModel",
      "state": {}
     },
     "6ae9d298b1944e37ac0ac7760c4454bd": {
      "model_module": "@jupyter-widgets/base",
      "model_module_version": "1.2.0",
      "model_name": "LayoutModel",
      "state": {}
     },
     "6d0eb327a9884d028714d4f9f799cc9c": {
      "model_module": "@jupyter-widgets/base",
      "model_module_version": "1.2.0",
      "model_name": "LayoutModel",
      "state": {}
     },
     "6d904ec8d96a4c6c8e816d5d6a4b7222": {
      "model_module": "@jupyter-widgets/base",
      "model_module_version": "1.2.0",
      "model_name": "LayoutModel",
      "state": {}
     },
     "6f00736114674d6fa4235fab7ea66987": {
      "model_module": "@jupyter-widgets/controls",
      "model_module_version": "1.5.0",
      "model_name": "HTMLModel",
      "state": {
       "layout": "IPY_MODEL_0b132e4db48a4409bd54ed95b919c314",
       "style": "IPY_MODEL_f2d2ce28af8445e6b6997326e9585282",
       "value": " 54404/54404 [01:12&lt;00:00, 747.23it/s]"
      }
     },
     "72865a63c24b4e6c957091bd4f17ff36": {
      "model_module": "@jupyter-widgets/controls",
      "model_module_version": "1.5.0",
      "model_name": "FloatProgressModel",
      "state": {
       "bar_style": "success",
       "description": "100%",
       "layout": "IPY_MODEL_dd953a20354a43cd92f2e445d5394dbf",
       "max": 1080,
       "style": "IPY_MODEL_b757ed952a9d486fa7a37bc574536832",
       "value": 1080
      }
     },
     "72e679171ac746b08570af95b76fd259": {
      "model_module": "@jupyter-widgets/controls",
      "model_module_version": "1.5.0",
      "model_name": "HBoxModel",
      "state": {
       "children": [
        "IPY_MODEL_72865a63c24b4e6c957091bd4f17ff36",
        "IPY_MODEL_9fb7a3e3bddb4a6e8575c0f84be76682"
       ],
       "layout": "IPY_MODEL_bb8945d47283432184c4bb9ec975abfc"
      }
     },
     "736c15b2871647a2a556f64f4277a4d4": {
      "model_module": "@jupyter-widgets/base",
      "model_module_version": "1.2.0",
      "model_name": "LayoutModel",
      "state": {}
     },
     "74ffb9908c62431bb196de0795f6645a": {
      "model_module": "@jupyter-widgets/base",
      "model_module_version": "1.2.0",
      "model_name": "LayoutModel",
      "state": {}
     },
     "78e8e4b82eaf466bafdd8e7d39b1010c": {
      "model_module": "@jupyter-widgets/base",
      "model_module_version": "1.2.0",
      "model_name": "LayoutModel",
      "state": {}
     },
     "89a07ff193214c5d9374f03786bd1c98": {
      "model_module": "@jupyter-widgets/controls",
      "model_module_version": "1.5.0",
      "model_name": "HTMLModel",
      "state": {
       "layout": "IPY_MODEL_e267c04e84be44409271ece8c0e4c19a",
       "style": "IPY_MODEL_0e4df3dad9214540af92b992cd72eeea",
       "value": " 54404/54404 [01:19&lt;00:00, 687.67it/s]"
      }
     },
     "8ab41df5d90d45fbbb292d7d052e94c2": {
      "model_module": "@jupyter-widgets/controls",
      "model_module_version": "1.5.0",
      "model_name": "FloatProgressModel",
      "state": {
       "bar_style": "success",
       "description": "100%",
       "layout": "IPY_MODEL_ac8002e8ac0d43f5984985f22a70f7b4",
       "max": 54404,
       "style": "IPY_MODEL_e213006180a442b2af5d8284633ddfef",
       "value": 54404
      }
     },
     "8ef6d764628f4e64b399545ab6527759": {
      "model_module": "@jupyter-widgets/controls",
      "model_module_version": "1.5.0",
      "model_name": "ProgressStyleModel",
      "state": {
       "description_width": "initial"
      }
     },
     "930f1462cb034ad8baf8752382ec8eab": {
      "model_module": "@jupyter-widgets/base",
      "model_module_version": "1.2.0",
      "model_name": "LayoutModel",
      "state": {}
     },
     "9cbd5d01284748c49f2a5bfe4ae97d31": {
      "model_module": "@jupyter-widgets/controls",
      "model_module_version": "1.5.0",
      "model_name": "HTMLModel",
      "state": {
       "layout": "IPY_MODEL_56f1fdaa4d0a45ef903bdd0c2934fa96",
       "style": "IPY_MODEL_f74323266cd5439e8889fca892c515cd",
       "value": " 1080/1080 [00:53&lt;00:00, 20.12it/s]"
      }
     },
     "9f19ffec020c4fd6ad815eac4ad621f1": {
      "model_module": "@jupyter-widgets/controls",
      "model_module_version": "1.5.0",
      "model_name": "HTMLModel",
      "state": {
       "layout": "IPY_MODEL_6ae9d298b1944e37ac0ac7760c4454bd",
       "style": "IPY_MODEL_e614c7eaf1a04d999c8d84c258c24a91",
       "value": " 54404/54404 [01:13&lt;00:00, 736.24it/s]"
      }
     },
     "9fb7a3e3bddb4a6e8575c0f84be76682": {
      "model_module": "@jupyter-widgets/controls",
      "model_module_version": "1.5.0",
      "model_name": "HTMLModel",
      "state": {
       "layout": "IPY_MODEL_af95d8679dfc4241a5595af6b78fb191",
       "style": "IPY_MODEL_cacd6c27bf0140d29288188068ba36c8",
       "value": " 1080/1080 [00:41&lt;00:00, 25.99it/s]"
      }
     },
     "a8d5cb51111245dc852cf6d82ec65af3": {
      "model_module": "@jupyter-widgets/controls",
      "model_module_version": "1.5.0",
      "model_name": "ProgressStyleModel",
      "state": {
       "description_width": "initial"
      }
     },
     "a9aac78aa4e1403a88722f19bbaf3736": {
      "model_module": "@jupyter-widgets/base",
      "model_module_version": "1.2.0",
      "model_name": "LayoutModel",
      "state": {}
     },
     "aa038197b9ea48078ee208b4866cc9b2": {
      "model_module": "@jupyter-widgets/base",
      "model_module_version": "1.2.0",
      "model_name": "LayoutModel",
      "state": {}
     },
     "ac8002e8ac0d43f5984985f22a70f7b4": {
      "model_module": "@jupyter-widgets/base",
      "model_module_version": "1.2.0",
      "model_name": "LayoutModel",
      "state": {}
     },
     "ae719a9e1d1144b88977c2ca24524149": {
      "model_module": "@jupyter-widgets/base",
      "model_module_version": "1.2.0",
      "model_name": "LayoutModel",
      "state": {}
     },
     "af95d8679dfc4241a5595af6b78fb191": {
      "model_module": "@jupyter-widgets/base",
      "model_module_version": "1.2.0",
      "model_name": "LayoutModel",
      "state": {}
     },
     "b0c404ba9e534008a062bc1df73e00e2": {
      "model_module": "@jupyter-widgets/base",
      "model_module_version": "1.2.0",
      "model_name": "LayoutModel",
      "state": {}
     },
     "b1b0f0d12602417e9f2576ec69a9ce43": {
      "model_module": "@jupyter-widgets/controls",
      "model_module_version": "1.5.0",
      "model_name": "HTMLModel",
      "state": {
       "layout": "IPY_MODEL_a9aac78aa4e1403a88722f19bbaf3736",
       "style": "IPY_MODEL_4b0431f5fd4d4122b15c6a719d4cbe2a",
       "value": " 54404/54404 [01:13&lt;00:00, 735.43it/s]"
      }
     },
     "b757ed952a9d486fa7a37bc574536832": {
      "model_module": "@jupyter-widgets/controls",
      "model_module_version": "1.5.0",
      "model_name": "ProgressStyleModel",
      "state": {
       "description_width": "initial"
      }
     },
     "b789ad9feeb9492abd21750cbf13485d": {
      "model_module": "@jupyter-widgets/controls",
      "model_module_version": "1.5.0",
      "model_name": "HBoxModel",
      "state": {
       "children": [
        "IPY_MODEL_eae6a738366042a48364ea05b6d99522",
        "IPY_MODEL_e900bb482cdf4ca38dbf1adf057790be"
       ],
       "layout": "IPY_MODEL_78e8e4b82eaf466bafdd8e7d39b1010c"
      }
     },
     "b7f930c9c92946cd81d7d70cd4769616": {
      "model_module": "@jupyter-widgets/controls",
      "model_module_version": "1.5.0",
      "model_name": "ProgressStyleModel",
      "state": {
       "description_width": "initial"
      }
     },
     "b88c6de73384477abb6afd2e93eed85d": {
      "model_module": "@jupyter-widgets/controls",
      "model_module_version": "1.5.0",
      "model_name": "FloatProgressModel",
      "state": {
       "bar_style": "success",
       "description": "100%",
       "layout": "IPY_MODEL_736c15b2871647a2a556f64f4277a4d4",
       "max": 54404,
       "style": "IPY_MODEL_a8d5cb51111245dc852cf6d82ec65af3",
       "value": 54404
      }
     },
     "bb4fd7b1f691458b81bf0e582f236f4f": {
      "model_module": "@jupyter-widgets/controls",
      "model_module_version": "1.5.0",
      "model_name": "HTMLModel",
      "state": {
       "layout": "IPY_MODEL_c99f6e30edb44f4f8f1c2c3a09ec9a3c",
       "style": "IPY_MODEL_ca52366a77e84ba2bdfbf81ad09dd976",
       "value": " 54404/54404 [01:13&lt;00:00, 739.45it/s]"
      }
     },
     "bb8945d47283432184c4bb9ec975abfc": {
      "model_module": "@jupyter-widgets/base",
      "model_module_version": "1.2.0",
      "model_name": "LayoutModel",
      "state": {}
     },
     "c13b400ad0c04eeeb4b58492d35f1613": {
      "model_module": "@jupyter-widgets/controls",
      "model_module_version": "1.5.0",
      "model_name": "HBoxModel",
      "state": {
       "children": [
        "IPY_MODEL_3c845b383ebb400a8870b7723735df43",
        "IPY_MODEL_e1ecdd903368458c972bd552e14a2664"
       ],
       "layout": "IPY_MODEL_f336973b98114fd991c9159dea600047"
      }
     },
     "c14d02e408e64ec49cfb25d075018c82": {
      "model_module": "@jupyter-widgets/controls",
      "model_module_version": "1.5.0",
      "model_name": "DescriptionStyleModel",
      "state": {
       "description_width": ""
      }
     },
     "c1711f38c0f649ea93f0455ddcee731f": {
      "model_module": "@jupyter-widgets/controls",
      "model_module_version": "1.5.0",
      "model_name": "ProgressStyleModel",
      "state": {
       "description_width": "initial"
      }
     },
     "c654f16f8c2143b7a45125b4b8b6f7b6": {
      "model_module": "@jupyter-widgets/controls",
      "model_module_version": "1.5.0",
      "model_name": "DescriptionStyleModel",
      "state": {
       "description_width": ""
      }
     },
     "c99f6e30edb44f4f8f1c2c3a09ec9a3c": {
      "model_module": "@jupyter-widgets/base",
      "model_module_version": "1.2.0",
      "model_name": "LayoutModel",
      "state": {}
     },
     "ca52366a77e84ba2bdfbf81ad09dd976": {
      "model_module": "@jupyter-widgets/controls",
      "model_module_version": "1.5.0",
      "model_name": "DescriptionStyleModel",
      "state": {
       "description_width": ""
      }
     },
     "cacd6c27bf0140d29288188068ba36c8": {
      "model_module": "@jupyter-widgets/controls",
      "model_module_version": "1.5.0",
      "model_name": "DescriptionStyleModel",
      "state": {
       "description_width": ""
      }
     },
     "cf2e01f46e4648719127f85aa3cc9857": {
      "model_module": "@jupyter-widgets/base",
      "model_module_version": "1.2.0",
      "model_name": "LayoutModel",
      "state": {}
     },
     "d433ec3ab57445959373132679e4a7de": {
      "model_module": "@jupyter-widgets/base",
      "model_module_version": "1.2.0",
      "model_name": "LayoutModel",
      "state": {}
     },
     "d4c925fe864448f3b3b6b1c829021618": {
      "model_module": "@jupyter-widgets/controls",
      "model_module_version": "1.5.0",
      "model_name": "ProgressStyleModel",
      "state": {
       "description_width": "initial"
      }
     },
     "d92bf18225aa4456be58160b521f607f": {
      "model_module": "@jupyter-widgets/base",
      "model_module_version": "1.2.0",
      "model_name": "LayoutModel",
      "state": {}
     },
     "dd953a20354a43cd92f2e445d5394dbf": {
      "model_module": "@jupyter-widgets/base",
      "model_module_version": "1.2.0",
      "model_name": "LayoutModel",
      "state": {}
     },
     "dfcfb5b728e64d50938fb47cda7c18dd": {
      "model_module": "@jupyter-widgets/base",
      "model_module_version": "1.2.0",
      "model_name": "LayoutModel",
      "state": {}
     },
     "e1ecdd903368458c972bd552e14a2664": {
      "model_module": "@jupyter-widgets/controls",
      "model_module_version": "1.5.0",
      "model_name": "HTMLModel",
      "state": {
       "layout": "IPY_MODEL_e7fa4dffcfe9416582dd66c2fc9b9785",
       "style": "IPY_MODEL_e783ed588e524b9abf889f85634e96d5",
       "value": " 1080/1080 [03:31&lt;00:00,  5.10it/s]"
      }
     },
     "e213006180a442b2af5d8284633ddfef": {
      "model_module": "@jupyter-widgets/controls",
      "model_module_version": "1.5.0",
      "model_name": "ProgressStyleModel",
      "state": {
       "description_width": "initial"
      }
     },
     "e267c04e84be44409271ece8c0e4c19a": {
      "model_module": "@jupyter-widgets/base",
      "model_module_version": "1.2.0",
      "model_name": "LayoutModel",
      "state": {}
     },
     "e454c6c2890c4084acc85983dce47fc4": {
      "model_module": "@jupyter-widgets/controls",
      "model_module_version": "1.5.0",
      "model_name": "FloatProgressModel",
      "state": {
       "bar_style": "success",
       "description": "100%",
       "layout": "IPY_MODEL_366d29ede43645aba4c8946cd9553dca",
       "max": 1080,
       "style": "IPY_MODEL_c1711f38c0f649ea93f0455ddcee731f",
       "value": 1080
      }
     },
     "e614c7eaf1a04d999c8d84c258c24a91": {
      "model_module": "@jupyter-widgets/controls",
      "model_module_version": "1.5.0",
      "model_name": "DescriptionStyleModel",
      "state": {
       "description_width": ""
      }
     },
     "e783ed588e524b9abf889f85634e96d5": {
      "model_module": "@jupyter-widgets/controls",
      "model_module_version": "1.5.0",
      "model_name": "DescriptionStyleModel",
      "state": {
       "description_width": ""
      }
     },
     "e7fa4dffcfe9416582dd66c2fc9b9785": {
      "model_module": "@jupyter-widgets/base",
      "model_module_version": "1.2.0",
      "model_name": "LayoutModel",
      "state": {}
     },
     "e900bb482cdf4ca38dbf1adf057790be": {
      "model_module": "@jupyter-widgets/controls",
      "model_module_version": "1.5.0",
      "model_name": "HTMLModel",
      "state": {
       "layout": "IPY_MODEL_67c2f837fd494a209cd1149005350c08",
       "style": "IPY_MODEL_c14d02e408e64ec49cfb25d075018c82",
       "value": " 54404/54404 [01:14&lt;00:00, 726.27it/s]"
      }
     },
     "ea85ab1c5e99411c8b72c69f140fcf63": {
      "model_module": "@jupyter-widgets/controls",
      "model_module_version": "1.5.0",
      "model_name": "ProgressStyleModel",
      "state": {
       "description_width": "initial"
      }
     },
     "eaae4616cb964353ae71d232acaf04a5": {
      "model_module": "@jupyter-widgets/controls",
      "model_module_version": "1.5.0",
      "model_name": "HBoxModel",
      "state": {
       "children": [
        "IPY_MODEL_8ab41df5d90d45fbbb292d7d052e94c2",
        "IPY_MODEL_6f00736114674d6fa4235fab7ea66987"
       ],
       "layout": "IPY_MODEL_ed2264d38f794ccfaa7373cf282e12e7"
      }
     },
     "eae6a738366042a48364ea05b6d99522": {
      "model_module": "@jupyter-widgets/controls",
      "model_module_version": "1.5.0",
      "model_name": "FloatProgressModel",
      "state": {
       "bar_style": "success",
       "description": "100%",
       "layout": "IPY_MODEL_05cd2d8f5b15457fbeb14dda0bfc2e46",
       "max": 54404,
       "style": "IPY_MODEL_b7f930c9c92946cd81d7d70cd4769616",
       "value": 54404
      }
     },
     "ecc71ceb48c249ca9735b32b3fae40c9": {
      "model_module": "@jupyter-widgets/controls",
      "model_module_version": "1.5.0",
      "model_name": "HBoxModel",
      "state": {
       "children": [
        "IPY_MODEL_f61bc90e20114d0c97eb08ddeb057ad6",
        "IPY_MODEL_4e5cc1bc2777405dbd8829fce162fca1"
       ],
       "layout": "IPY_MODEL_d433ec3ab57445959373132679e4a7de"
      }
     },
     "ed2264d38f794ccfaa7373cf282e12e7": {
      "model_module": "@jupyter-widgets/base",
      "model_module_version": "1.2.0",
      "model_name": "LayoutModel",
      "state": {}
     },
     "f201d480ab45492894affaa7dacc71e6": {
      "model_module": "@jupyter-widgets/controls",
      "model_module_version": "1.5.0",
      "model_name": "FloatProgressModel",
      "state": {
       "bar_style": "success",
       "description": "100%",
       "layout": "IPY_MODEL_ae719a9e1d1144b88977c2ca24524149",
       "max": 1080,
       "style": "IPY_MODEL_d4c925fe864448f3b3b6b1c829021618",
       "value": 1080
      }
     },
     "f2d2ce28af8445e6b6997326e9585282": {
      "model_module": "@jupyter-widgets/controls",
      "model_module_version": "1.5.0",
      "model_name": "DescriptionStyleModel",
      "state": {
       "description_width": ""
      }
     },
     "f336973b98114fd991c9159dea600047": {
      "model_module": "@jupyter-widgets/base",
      "model_module_version": "1.2.0",
      "model_name": "LayoutModel",
      "state": {}
     },
     "f61bc90e20114d0c97eb08ddeb057ad6": {
      "model_module": "@jupyter-widgets/controls",
      "model_module_version": "1.5.0",
      "model_name": "FloatProgressModel",
      "state": {
       "bar_style": "success",
       "description": "100%",
       "layout": "IPY_MODEL_f99856ae41ee4d53aab555edf95cb659",
       "max": 1080,
       "style": "IPY_MODEL_401964b01792439f923bfad8b3a96923",
       "value": 1080
      }
     },
     "f74323266cd5439e8889fca892c515cd": {
      "model_module": "@jupyter-widgets/controls",
      "model_module_version": "1.5.0",
      "model_name": "DescriptionStyleModel",
      "state": {
       "description_width": ""
      }
     },
     "f766ce281f2b439c9f477a1fd9375542": {
      "model_module": "@jupyter-widgets/controls",
      "model_module_version": "1.5.0",
      "model_name": "HTMLModel",
      "state": {
       "layout": "IPY_MODEL_606d96232d354b0fa8b740c7ea160fb8",
       "style": "IPY_MODEL_30ecdd1e161145f3b0cea2da2b5ed087",
       "value": " 54404/54404 [01:20&lt;00:00, 671.68it/s]"
      }
     },
     "f99856ae41ee4d53aab555edf95cb659": {
      "model_module": "@jupyter-widgets/base",
      "model_module_version": "1.2.0",
      "model_name": "LayoutModel",
      "state": {}
     },
     "f9ad36f7b07b41559ec3fa99d3a27589": {
      "model_module": "@jupyter-widgets/controls",
      "model_module_version": "1.5.0",
      "model_name": "HBoxModel",
      "state": {
       "children": [
        "IPY_MODEL_28a919f2abbc48fcaf8b76eed040e97f",
        "IPY_MODEL_9f19ffec020c4fd6ad815eac4ad621f1"
       ],
       "layout": "IPY_MODEL_aa038197b9ea48078ee208b4866cc9b2"
      }
     }
    },
    "version_major": 2,
    "version_minor": 0
   }
  }
 },
 "nbformat": 4,
 "nbformat_minor": 4
}
