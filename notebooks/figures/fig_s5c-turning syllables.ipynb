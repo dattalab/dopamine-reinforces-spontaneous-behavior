{
 "cells": [
  {
   "cell_type": "code",
   "execution_count": 1,
   "id": "bf2d8062-4ce8-4a72-b712-ec43d6b19f63",
   "metadata": {},
   "outputs": [],
   "source": [
    "import toml\n",
    "import numba\n",
    "import joblib\n",
    "import random\n",
    "import warnings\n",
    "import numpy as np\n",
    "import pandas as pd\n",
    "import colorcet as cc\n",
    "import seaborn as sns\n",
    "import matplotlib.pyplot as plt\n",
    "\n",
    "from scipy import signal\n",
    "from toolz import get, partial\n",
    "from os.path import join\n",
    "from tqdm.auto import tqdm\n",
    "from rl_analysis import ANALYSIS_CONFIG\n",
    "from rl_analysis.bootstraps import bootstrap_ci\n",
    "from tqdm.contrib.concurrent import process_map\n",
    "from rl_analysis.io.df import NONSYLL_COLS, dlight_exclude_toml\n",
    "from rl_analysis.behavior.moseq import syll_onset, add_onset_and_duration\n",
    "from rl_analysis.photometry.windowing import (\n",
    "    window_trials_as_df,\n",
    "    window_trials_as_mtx,\n",
    "    window_trials_for_decoder,\n",
    ")\n",
    "from rl_analysis.plotting import (\n",
    "    save_factory,\n",
    "    add_legend,\n",
    "    bootstrap_lineplot,\n",
    "    setup_plotting_env,\n",
    "    clean_ticks,\n",
    "    COLORS,\n",
    "    fg,\n",
    ")\n",
    "from sklearn.svm import LinearSVC\n",
    "from sklearn.model_selection import StratifiedKFold\n",
    "from sklearn.metrics import accuracy_score, f1_score\n",
    "\n",
    "numba.set_num_threads(7)\n",
    "warnings.simplefilter(\"ignore\")"
   ]
  },
  {
   "cell_type": "code",
   "execution_count": 2,
   "id": "d4e9818d-a32f-49e6-b61e-7118d370e8c5",
   "metadata": {},
   "outputs": [],
   "source": [
    "with open(ANALYSIS_CONFIG, 'r') as f:\n",
    "    config = toml.load(f)\n",
    "\n",
    "setup_plotting_env()\n",
    "\n",
    "saver = save_factory(join(config['figures']['dir_wg'], 'turning-syllables'), tight_layout=False)"
   ]
  },
  {
   "cell_type": "code",
   "execution_count": 3,
   "id": "ede4c662-c187-4296-bd0a-263668c93190",
   "metadata": {},
   "outputs": [],
   "source": [
    "color_map = {\n",
    "    \"Turn right\": cc.glasbey[3],\n",
    "    \"Turn left 2\": cc.glasbey[6],\n",
    "}\n",
    "\n",
    "syllable_map = {\n",
    "    \"Turn right\": 25,\n",
    "    \"Turn left 2\": 72,\n",
    "}\n",
    "dlight_key = config['dlight_basic_analysis']['dlight_key']"
   ]
  },
  {
   "cell_type": "markdown",
   "id": "fd7b5b9c-8869-49ce-9ea3-0d30ef352952",
   "metadata": {
    "tags": []
   },
   "source": [
    "## Load data"
   ]
  },
  {
   "cell_type": "code",
   "execution_count": 4,
   "id": "13c2e2ea-2a2d-4360-8d8f-947b50ea47b8",
   "metadata": {},
   "outputs": [],
   "source": [
    "def dlight_filter(ser):\n",
    "    soscoeffs = signal.bessel(1, 1 / (30 / 2.), btype=\"high\", output=\"sos\")\n",
    "    sig = ser.dropna()\n",
    "    new_ser = pd.Series(index=ser.index)\n",
    "    new_ser.loc[sig.index] = signal.sosfiltfilt(soscoeffs, sig)\n",
    "    return new_ser"
   ]
  },
  {
   "cell_type": "code",
   "execution_count": 5,
   "id": "2df23f44-229e-4985-a8a7-46d4d8017500",
   "metadata": {},
   "outputs": [],
   "source": [
    "use_dct = dlight_exclude_toml(\n",
    "    \"/home/wg41/reinforcement_data/_proc_photometry_dlight/dlight_photometry_processed_full.toml\",\n",
    "    **config[\"dlight_common\"]\n",
    ")\n",
    "\n",
    "df = pd.read_parquet(\n",
    "    join(config[\"data_dirs\"][\"root_wg\"], config[\"intermediate_results\"][\"dlight_wg\"]),\n",
    "    filters=[(\"uuid\", \"in\", list(use_dct)), (\"area\", \"=\", \"dls\")],\n",
    ")\n",
    "\n",
    "df = df[~df['session_number'].isin([3, 4])]\n",
    "df = df.drop(columns=NONSYLL_COLS[3:])\n",
    "df = df.sort_index()\n",
    "\n",
    "df['offline onset'] = False\n",
    "df.loc[df.index[syll_onset(df['predicted_syllable (offline)'])], 'offline onset'] = True\n",
    "df['velocity_2d_mm'] = df['velocity_2d_mm'].astype(float)\n",
    "df = add_onset_and_duration(df, syll_key='predicted_syllable (offline)')\n",
    "\n",
    "df[\"dlight filtered\"] = df.groupby(\"uuid\", sort=False, observed=True)[\n",
    "    \"signal_reref_dff_z\"\n",
    "].transform(dlight_filter)"
   ]
  },
  {
   "cell_type": "code",
   "execution_count": 6,
   "id": "f21c9c78-a5ec-42e4-8545-bbba5bc01bea",
   "metadata": {},
   "outputs": [],
   "source": [
    "time_window = (-1.5, 1.5)"
   ]
  },
  {
   "cell_type": "code",
   "execution_count": 7,
   "id": "12988415-dbce-40d7-8824-9b952e2adb73",
   "metadata": {},
   "outputs": [],
   "source": [
    "def shuffle(i, val, inds):\n",
    "    time, trials = window_trials_as_mtx(\n",
    "        pd.DataFrame(val, columns=[dlight_key]),\n",
    "        inds + np.array(list(map(lambda v: random.randint(-60, 60), range(len(inds))))),\n",
    "        dlight_key,\n",
    "        truncation_window=time_window,\n",
    "    )\n",
    "    return np.nanmean(trials, axis=0)\n",
    "\n",
    "\n",
    "def zscore_re_shuffle(trial_df, shuffle):\n",
    "    mu = np.nanmean(shuffle, axis=0)\n",
    "    sig = np.nanstd(shuffle, axis=0)\n",
    "\n",
    "    trial_df[\"z_dlight\"] = trial_df.groupby(\"trials\")[\"dlight\"].transform(lambda d: (d - mu) / sig)\n",
    "    return trial_df"
   ]
  },
  {
   "cell_type": "code",
   "execution_count": 8,
   "id": "69ea2f6e-f76d-4447-99a1-f0fa28ac0a55",
   "metadata": {},
   "outputs": [],
   "source": [
    "n_shuffles = 1_000\n",
    "syll_key = \"predicted_syllable (offline)\"\n",
    "dlight_key = \"dlight filtered\""
   ]
  },
  {
   "cell_type": "code",
   "execution_count": 9,
   "id": "2c4a3d67-fef3-4857-a243-a4c95c80c03a",
   "metadata": {},
   "outputs": [
    {
     "data": {
      "application/vnd.jupyter.widget-view+json": {
       "model_id": "861449b58ed24fa78cba6f76dc245ea3",
       "version_major": 2,
       "version_minor": 0
      },
      "text/plain": [
       "  0%|          | 0/2 [00:00<?, ?it/s]"
      ]
     },
     "metadata": {},
     "output_type": "display_data"
    },
    {
     "data": {
      "application/vnd.jupyter.widget-view+json": {
       "model_id": "e245da0ae5264b1287772f8b0a32db4a",
       "version_major": 2,
       "version_minor": 0
      },
      "text/plain": [
       "  0%|          | 0/1000 [00:00<?, ?it/s]"
      ]
     },
     "metadata": {},
     "output_type": "display_data"
    },
    {
     "data": {
      "application/vnd.jupyter.widget-view+json": {
       "model_id": "16a012943dd14abea25bfdfc6acb6f63",
       "version_major": 2,
       "version_minor": 0
      },
      "text/plain": [
       "  0%|          | 0/1000 [00:00<?, ?it/s]"
      ]
     },
     "metadata": {},
     "output_type": "display_data"
    },
    {
     "data": {
      "text/plain": [
       "['/home/wg41/reinforcement_data/processed-dfs/turning-syllable-filtered-waveforms-panel.p']"
      ]
     },
     "execution_count": 9,
     "metadata": {},
     "output_type": "execute_result"
    }
   ],
   "source": [
    "datas = {}\n",
    "\n",
    "for syll_name, syll in tqdm(syllable_map.items()):\n",
    "    inds = np.where(df[\"offline onset\"] & (df[syll_key] == syll))[0]\n",
    "\n",
    "    shuff = np.array(process_map(\n",
    "        partial(shuffle, val=df[dlight_key], inds=inds),\n",
    "        range(n_shuffles),\n",
    "        max_workers=7,\n",
    "    ))\n",
    "\n",
    "    # dLight\n",
    "    _, trial_df = window_trials_as_df(\n",
    "        df,\n",
    "        inds,\n",
    "        dlight_key,\n",
    "        truncation_window=time_window,\n",
    "    )\n",
    "    trial_df = zscore_re_shuffle(trial_df, shuff)\n",
    "    trial_df[\"type\"] = syll_name\n",
    "\n",
    "    # velocity\n",
    "    _, vel_trial_df = window_trials_as_df(\n",
    "        df,\n",
    "        np.where(df[\"offline onset\"] & (df[syll_key] == syll))[0],\n",
    "        \"velocity_2d_mm\",\n",
    "        syll_key,\n",
    "        truncation_window=time_window,\n",
    "    )\n",
    "\n",
    "    bootstraps = {}\n",
    "    # bootstrap\n",
    "    for key in (\"dlight\", \"z_dlight\"):\n",
    "        b1 = trial_df.pivot_table(index=\"trials\", columns=\"time\", values=key)\n",
    "        mu = b1.mean()\n",
    "        b1 = bootstrap_ci(b1.to_numpy(), n_shuffles)\n",
    "        b1 = pd.DataFrame(b1.T, index=mu.index)\n",
    "        b1 = b1.reset_index().melt(var_name=\"boot\", id_vars=\"time\", value_name=\"dlight\")\n",
    "        b1[\"type\"] = syll_name\n",
    "        prefix = \"z_\" if \"z_\" in key else \"\"\n",
    "        bootstraps[f\"{prefix}bootstrap\"] = b1\n",
    "        bootstraps[f\"{prefix}mean\"] = mu\n",
    "\n",
    "    v = vel_trial_df.pivot_table(index=\"trials\", columns=\"time\", values=\"dlight\")\n",
    "    v = bootstrap_ci(v.to_numpy(), n_shuffles)\n",
    "    v = pd.DataFrame(v.T, index=mu.index)\n",
    "    v = v.reset_index().melt(var_name=\"boot\", id_vars=\"time\", value_name=\"velocity\")\n",
    "    v[\"type\"] = syll_name\n",
    "\n",
    "    # save output\n",
    "    datas[syll] = {\n",
    "        \"syllable name\": syll_name,\n",
    "        \"syllable id\": syll,\n",
    "        \"shuffles\": shuff,\n",
    "        \"aligned dlight\": trial_df,\n",
    "        \"aligned velocity\": vel_trial_df,\n",
    "        \"n_shuffs\": n_shuffles,\n",
    "        \"velocity_bootstrap\": v,\n",
    "        **bootstraps,\n",
    "    }\n",
    "\n",
    "joblib.dump(\n",
    "    datas,\n",
    "    \"/home/wg41/reinforcement_data/processed-dfs/turning-syllable-filtered-waveforms-panel.p\",\n",
    ")"
   ]
  },
  {
   "cell_type": "code",
   "execution_count": 10,
   "id": "2eae056c-efcf-456d-831a-2b09b62929f1",
   "metadata": {},
   "outputs": [],
   "source": [
    "# instead of re-running calculation above, load in previous one\n",
    "# datas = joblib.load(\n",
    "#     \"/home/wg41/reinforcement_data/processed-dfs/turning-syllable-filtered-waveforms-panel.p\",\n",
    "# )"
   ]
  },
  {
   "cell_type": "code",
   "execution_count": 11,
   "id": "9a569aa9-b152-4aac-a5c5-48d3bbbd3dcb",
   "metadata": {},
   "outputs": [
    {
     "data": {
      "text/plain": [
       "[('Turn right', 25), ('Turn left 2', 72)]"
      ]
     },
     "execution_count": 11,
     "metadata": {},
     "output_type": "execute_result"
    }
   ],
   "source": [
    "list((x['syllable name'], x['syllable id']) for x in datas.values())"
   ]
  },
  {
   "cell_type": "markdown",
   "id": "b3c923e2-851f-4a37-80f6-f207525b6ff3",
   "metadata": {},
   "source": [
    "## Panel: different dLight similar kinematics - dLight"
   ]
  },
  {
   "cell_type": "code",
   "execution_count": 12,
   "id": "1d4878cc-4550-49b8-b646-f12c173999e1",
   "metadata": {},
   "outputs": [],
   "source": [
    "different_da_sylls = [25, 72]"
   ]
  },
  {
   "cell_type": "code",
   "execution_count": 13,
   "id": "d3e9809d-937e-441f-83d0-efce53b4433a",
   "metadata": {},
   "outputs": [],
   "source": [
    "shuff_line = []\n",
    "for _data in get(different_da_sylls, datas):\n",
    "    shuffs = _data['shuffles']\n",
    "    shuff_line.append(\n",
    "        (shuffs - np.nanmean(shuffs, 0, keepdims=True)) / np.nanstd(shuffs, 0, keepdims=True)\n",
    "    )\n",
    "shuff_line = pd.DataFrame(np.concatenate(shuff_line, axis=0).T, index=_data['mean'].index)\n",
    "shuff_line = shuff_line.reset_index().melt(var_name='boot', id_vars='time', value_name='dlight')"
   ]
  },
  {
   "cell_type": "code",
   "execution_count": 14,
   "id": "f4d7a91a-575f-48df-abfc-4c43c29dde0a",
   "metadata": {},
   "outputs": [
    {
     "data": {
      "image/png": "[encoded data removed]",
      "text/plain": [
       "<Figure size 150x150 with 1 Axes>"
      ]
     },
     "metadata": {
      "image/png": {
       "height": 222,
       "width": 344
      }
     },
     "output_type": "display_data"
    }
   ],
   "source": [
    "fig = fg(0.75, 0.75)\n",
    "fig.dpi = 200\n",
    "for _data in get(different_da_sylls, datas):\n",
    "    ax = bootstrap_lineplot(\n",
    "        _data[\"z_bootstrap\"],\n",
    "        \"time\",\n",
    "        \"dlight\",\n",
    "        ci=95,\n",
    "        color=color_map[_data[\"syllable name\"]],\n",
    "        label=_data[\"syllable name\"],\n",
    "        alpha=0.4,\n",
    "    )\n",
    "\n",
    "bootstrap_lineplot(\n",
    "    shuff_line, \"time\", \"dlight\", ci=95, color=(0.4,) * 3, label=\"Shuffle\", alpha=0.4, zorder=-2\n",
    ")\n",
    "\n",
    "add_legend(ax)\n",
    "plt.ylabel(\"dF/F0 (z re: shuff.)\")\n",
    "plt.xlabel(\"Time from onset (s)\")\n",
    "plt.xlim(-1.5, 1.5)\n",
    "plt.ylim(-25, 15)\n",
    "clean_ticks(ax, \"y\", dtype=int, precision=0, zero_symmetry=False)\n",
    "clean_ticks(ax, \"x\", dtype=float)\n",
    "sns.despine()\n",
    "saver(fig, \"turning-syllables-z-re-shuffle\");"
   ]
  },
  {
   "cell_type": "markdown",
   "id": "9c8d8142-e4e5-4dec-aadd-98247d7f154f",
   "metadata": {},
   "source": [
    "## TODO: add variability across instances"
   ]
  },
  {
   "cell_type": "code",
   "execution_count": 15,
   "id": "4171ec02-c488-4d86-9224-42a4a2391bef",
   "metadata": {},
   "outputs": [
    {
     "data": {
      "image/png": "[encoded data removed]",
      "text/plain": [
       "<Figure size 800x200 with 1 Axes>"
      ]
     },
     "metadata": {
      "image/png": {
       "height": 204,
       "width": 670
      }
     },
     "output_type": "display_data"
    }
   ],
   "source": [
    "cmap = sns.blend_palette(['#fff', COLORS['green'], '#000'], 10)\n",
    "cmap = np.array(cmap)[[2, 3, 5, 7]]\n",
    "\n",
    "sns.palplot(cmap)"
   ]
  },
  {
   "cell_type": "code",
   "execution_count": 17,
   "id": "c0170653-f8a0-49b3-bb6f-31b04ae7bdfb",
   "metadata": {},
   "outputs": [
    {
     "data": {
      "application/vnd.jupyter.widget-view+json": {
       "model_id": "e7e13833dc0c4b09b73790dd914063cc",
       "version_major": 2,
       "version_minor": 0
      },
      "text/plain": [
       "  0%|          | 0/2 [00:00<?, ?it/s]"
      ]
     },
     "metadata": {},
     "output_type": "display_data"
    },
    {
     "data": {
      "image/png": "[encoded data removed]",
      "text/plain": [
       "<Figure size 150x150 with 1 Axes>"
      ]
     },
     "metadata": {
      "image/png": {
       "height": 222,
       "width": 241
      }
     },
     "output_type": "display_data"
    },
    {
     "data": {
      "image/png": "[encoded data removed]",
      "text/plain": [
       "<Figure size 150x150 with 1 Axes>"
      ]
     },
     "metadata": {
      "image/png": {
       "height": 222,
       "width": 241
      }
     },
     "output_type": "display_data"
    }
   ],
   "source": [
    "for _data in tqdm(get(different_da_sylls, datas)):\n",
    "    pos_dlight = (\n",
    "        _data[\"aligned dlight\"]\n",
    "        .groupby(\"trials\", sort=False)\n",
    "        .apply(lambda v: v.query(\"time > 0 & time < 0.3\")[\"z_dlight\"].max())\n",
    "    )\n",
    "    qs = pd.qcut(pos_dlight, 4, labels=False).astype(\"Int8\")\n",
    "\n",
    "    fig = fg(0.75, 0.75)\n",
    "    fig.dpi = 200\n",
    "\n",
    "    for q, _df in _data[\"aligned dlight\"].groupby(\n",
    "        _data[\"aligned dlight\"][\"trials\"].map(qs), sort=False, dropna=True\n",
    "    ):\n",
    "        b1 = _df.query(\"time >= -1.5 & time <= 1.5\").pivot_table(\n",
    "            index=\"trials\", columns=\"time\", values='z_dlight'\n",
    "        )\n",
    "        mu = b1.mean()\n",
    "        b1 = bootstrap_ci(b1.to_numpy(), n_shuffles)\n",
    "        b1 = pd.DataFrame(b1.T, index=mu.index)\n",
    "        b1 = b1.reset_index().melt(var_name=\"boot\", id_vars=\"time\", value_name=\"dlight\")\n",
    "        ax = bootstrap_lineplot(\n",
    "            b1, \"time\", \"dlight\", ci=95, color=cmap[q], label=_data[\"syllable name\"], alpha=0.4\n",
    "        )\n",
    "    sns.despine()\n",
    "    plt.ylabel(\"dF/F0 (z re: shuff.)\")\n",
    "    plt.xlabel(\"Time from onset (s)\")\n",
    "    plt.xlim(-1.5, 1.5)\n",
    "    plt.ylim(-115, 115)\n",
    "    clean_ticks(ax, \"y\", dtype=int, precision=0, zero_symmetry=False)\n",
    "    clean_ticks(ax, \"x\", dtype=float)\n",
    "    sns.despine()\n",
    "    saver(fig, f\"turning-syllable-{_data['syllable id']}-quartiles\");"
   ]
  },
  {
   "cell_type": "markdown",
   "id": "d1345c84-0f8c-4eb3-ad41-3a58f55ef79d",
   "metadata": {},
   "source": [
    "## Decode turning?"
   ]
  },
  {
   "cell_type": "code",
   "execution_count": 18,
   "id": "b555be4f-ff66-491d-aaf4-386dcbc7b74a",
   "metadata": {},
   "outputs": [],
   "source": [
    "turning_sylls = {\n",
    "    95: \"left\",\n",
    "    72: \"left\",\n",
    "    71: \"left\",\n",
    "    22: \"left\",\n",
    "    19: \"right\",\n",
    "    8:  \"right\",\n",
    "    25: \"right\",\n",
    "    33: \"right\",\n",
    "}"
   ]
  },
  {
   "cell_type": "code",
   "execution_count": 19,
   "id": "c156e294-22fc-42c6-85a6-7f15c23f168b",
   "metadata": {},
   "outputs": [],
   "source": [
    "dlight_key = \"signal_reref_dff_z\"\n",
    "\n",
    "trial_df = window_trials_for_decoder(\n",
    "    df,\n",
    "    np.where(\n",
    "        df[\"offline onset\"]\n",
    "        & (df[\"predicted_syllable (offline)\"].isin(list(turning_sylls)))\n",
    "        & (df[\"dur\"] > 4)\n",
    "    )[0],\n",
    "    dlight_key,\n",
    "    \"predicted_syllable (offline)\",\n",
    "    truncation_window=(0, 0.3),\n",
    ")\n",
    "trial_df[\"syllable\"] = trial_df[\"syllable\"].map(turning_sylls)\n",
    "trial_df = trial_df.dropna()"
   ]
  },
  {
   "cell_type": "code",
   "execution_count": 20,
   "id": "a57ceafd-ff8c-4eb1-9437-8e9a64609414",
   "metadata": {},
   "outputs": [],
   "source": [
    "max_sample_size = trial_df['syllable'].value_counts().min() // 3"
   ]
  },
  {
   "cell_type": "code",
   "execution_count": 21,
   "id": "7f1207c8-fc21-48eb-8df1-15595d02b18d",
   "metadata": {},
   "outputs": [
    {
     "data": {
      "application/vnd.jupyter.widget-view+json": {
       "model_id": "7fa2f40e71354112bf1c84f820f98298",
       "version_major": 2,
       "version_minor": 0
      },
      "text/plain": [
       "  0%|          | 0/10 [00:00<?, ?it/s]"
      ]
     },
     "metadata": {},
     "output_type": "display_data"
    }
   ],
   "source": [
    "n_splits = 5\n",
    "folds = StratifiedKFold(n_splits=n_splits)\n",
    "\n",
    "metrics = []\n",
    "\n",
    "pbar = tqdm(range(10))\n",
    "for i in pbar:\n",
    "    sample = trial_df.groupby(\"syllable\").apply(\n",
    "        lambda v: v.sample(n=max_sample_size, replace=False)\n",
    "    )\n",
    "    for j, (train_idx, test_idx) in enumerate(folds.split(sample, sample[\"syllable\"])):\n",
    "        train = sample.iloc[train_idx]\n",
    "        test = sample.iloc[test_idx]\n",
    "\n",
    "        mdl = LinearSVC()\n",
    "        mdl.fit(train.drop(columns=[\"syllable\"]), train[\"syllable\"])\n",
    "        pred = mdl.predict(test.drop(columns=[\"syllable\"]))\n",
    "\n",
    "        metrics.append(\n",
    "            {\n",
    "                \"accuracy\": accuracy_score(test[\"syllable\"], pred),\n",
    "                \"f1\": f1_score(test[\"syllable\"], pred, average=\"macro\"),\n",
    "                \"fold\": j,\n",
    "                \"repeat\": i,\n",
    "            }\n",
    "        )\n",
    "    tmp = pd.DataFrame(metrics)[\"accuracy\"].mean()\n",
    "    pbar.set_description(f\"accuracy: {tmp:0.2f}\")"
   ]
  },
  {
   "cell_type": "code",
   "execution_count": 22,
   "id": "b707176b-e4bf-40af-ad2c-c89a67a9c52b",
   "metadata": {},
   "outputs": [
    {
     "data": {
      "text/html": [
       "<div>\n",
       "<style scoped>\n",
       "    .dataframe tbody tr th:only-of-type {\n",
       "        vertical-align: middle;\n",
       "    }\n",
       "\n",
       "    .dataframe tbody tr th {\n",
       "        vertical-align: top;\n",
       "    }\n",
       "\n",
       "    .dataframe thead th {\n",
       "        text-align: right;\n",
       "    }\n",
       "</style>\n",
       "<table border=\"1\" class=\"dataframe\">\n",
       "  <thead>\n",
       "    <tr style=\"text-align: right;\">\n",
       "      <th></th>\n",
       "      <th>accuracy</th>\n",
       "      <th>f1</th>\n",
       "      <th>fold</th>\n",
       "      <th>repeat</th>\n",
       "    </tr>\n",
       "  </thead>\n",
       "  <tbody>\n",
       "    <tr>\n",
       "      <th>0</th>\n",
       "      <td>0.515594</td>\n",
       "      <td>0.515141</td>\n",
       "      <td>0</td>\n",
       "      <td>0</td>\n",
       "    </tr>\n",
       "    <tr>\n",
       "      <th>1</th>\n",
       "      <td>0.509052</td>\n",
       "      <td>0.507704</td>\n",
       "      <td>1</td>\n",
       "      <td>0</td>\n",
       "    </tr>\n",
       "    <tr>\n",
       "      <th>2</th>\n",
       "      <td>0.514303</td>\n",
       "      <td>0.513577</td>\n",
       "      <td>2</td>\n",
       "      <td>0</td>\n",
       "    </tr>\n",
       "    <tr>\n",
       "      <th>3</th>\n",
       "      <td>0.504869</td>\n",
       "      <td>0.503849</td>\n",
       "      <td>3</td>\n",
       "      <td>0</td>\n",
       "    </tr>\n",
       "    <tr>\n",
       "      <th>4</th>\n",
       "      <td>0.520390</td>\n",
       "      <td>0.519649</td>\n",
       "      <td>4</td>\n",
       "      <td>0</td>\n",
       "    </tr>\n",
       "  </tbody>\n",
       "</table>\n",
       "</div>"
      ],
      "text/plain": [
       "   accuracy        f1  fold  repeat\n",
       "0  0.515594  0.515141     0       0\n",
       "1  0.509052  0.507704     1       0\n",
       "2  0.514303  0.513577     2       0\n",
       "3  0.504869  0.503849     3       0\n",
       "4  0.520390  0.519649     4       0"
      ]
     },
     "execution_count": 22,
     "metadata": {},
     "output_type": "execute_result"
    }
   ],
   "source": [
    "metrics = pd.DataFrame(metrics)\n",
    "metrics.head()"
   ]
  },
  {
   "cell_type": "code",
   "execution_count": 23,
   "id": "dfdcbcb6-696c-4854-99a5-26a74b3f5f3b",
   "metadata": {},
   "outputs": [
    {
     "data": {
      "application/vnd.jupyter.widget-view+json": {
       "model_id": "3dfc2b35d3c9479fb2d7a3ae5801bcf2",
       "version_major": 2,
       "version_minor": 0
      },
      "text/plain": [
       "  0%|          | 0/100 [00:00<?, ?it/s]"
      ]
     },
     "metadata": {},
     "output_type": "display_data"
    }
   ],
   "source": [
    "# shuffle\n",
    "n_splits = 5\n",
    "folds = StratifiedKFold(n_splits=n_splits)\n",
    "\n",
    "shuff_metrics = []\n",
    "\n",
    "pbar = tqdm(range(100))\n",
    "for i in pbar:\n",
    "    sample = trial_df.groupby(\"syllable\").apply(\n",
    "        lambda v: v.sample(n=max_sample_size, replace=False)\n",
    "    )\n",
    "    sample[\"syllable\"] = np.random.permutation(sample[\"syllable\"])\n",
    "    for j, (train_idx, test_idx) in enumerate(folds.split(sample, sample[\"syllable\"])):\n",
    "        train = sample.iloc[train_idx]\n",
    "        test = sample.iloc[test_idx]\n",
    "\n",
    "        mdl = LinearSVC()\n",
    "        mdl.fit(train.drop(columns=[\"syllable\"]), train[\"syllable\"])\n",
    "        pred = mdl.predict(test.drop(columns=[\"syllable\"]))\n",
    "\n",
    "        shuff_metrics.append(\n",
    "            {\n",
    "                \"accuracy\": accuracy_score(test[\"syllable\"], pred),\n",
    "                \"f1\": f1_score(test[\"syllable\"], pred, average=\"macro\"),\n",
    "                \"fold\": j,\n",
    "                \"repeat\": i,\n",
    "            }\n",
    "        )\n",
    "    tmp = pd.DataFrame(shuff_metrics)[\"accuracy\"].mean()\n",
    "    pbar.set_description(f\"accuracy: {tmp:0.2f}\")"
   ]
  },
  {
   "cell_type": "code",
   "execution_count": 24,
   "id": "3f95e623-296a-44b7-acf9-de8d8400c020",
   "metadata": {},
   "outputs": [
    {
     "data": {
      "text/html": [
       "<div>\n",
       "<style scoped>\n",
       "    .dataframe tbody tr th:only-of-type {\n",
       "        vertical-align: middle;\n",
       "    }\n",
       "\n",
       "    .dataframe tbody tr th {\n",
       "        vertical-align: top;\n",
       "    }\n",
       "\n",
       "    .dataframe thead th {\n",
       "        text-align: right;\n",
       "    }\n",
       "</style>\n",
       "<table border=\"1\" class=\"dataframe\">\n",
       "  <thead>\n",
       "    <tr style=\"text-align: right;\">\n",
       "      <th></th>\n",
       "      <th>accuracy</th>\n",
       "      <th>f1</th>\n",
       "      <th>fold</th>\n",
       "      <th>repeat</th>\n",
       "    </tr>\n",
       "  </thead>\n",
       "  <tbody>\n",
       "    <tr>\n",
       "      <th>0</th>\n",
       "      <td>0.506466</td>\n",
       "      <td>0.506450</td>\n",
       "      <td>0</td>\n",
       "      <td>0</td>\n",
       "    </tr>\n",
       "    <tr>\n",
       "      <th>1</th>\n",
       "      <td>0.497490</td>\n",
       "      <td>0.497137</td>\n",
       "      <td>1</td>\n",
       "      <td>0</td>\n",
       "    </tr>\n",
       "    <tr>\n",
       "      <th>2</th>\n",
       "      <td>0.497261</td>\n",
       "      <td>0.497099</td>\n",
       "      <td>2</td>\n",
       "      <td>0</td>\n",
       "    </tr>\n",
       "    <tr>\n",
       "      <th>3</th>\n",
       "      <td>0.492392</td>\n",
       "      <td>0.492334</td>\n",
       "      <td>3</td>\n",
       "      <td>0</td>\n",
       "    </tr>\n",
       "    <tr>\n",
       "      <th>4</th>\n",
       "      <td>0.502282</td>\n",
       "      <td>0.502169</td>\n",
       "      <td>4</td>\n",
       "      <td>0</td>\n",
       "    </tr>\n",
       "  </tbody>\n",
       "</table>\n",
       "</div>"
      ],
      "text/plain": [
       "   accuracy        f1  fold  repeat\n",
       "0  0.506466  0.506450     0       0\n",
       "1  0.497490  0.497137     1       0\n",
       "2  0.497261  0.497099     2       0\n",
       "3  0.492392  0.492334     3       0\n",
       "4  0.502282  0.502169     4       0"
      ]
     },
     "execution_count": 24,
     "metadata": {},
     "output_type": "execute_result"
    }
   ],
   "source": [
    "shuff_metrics = pd.DataFrame(shuff_metrics)\n",
    "shuff_metrics.head()"
   ]
  },
  {
   "cell_type": "code",
   "execution_count": 25,
   "id": "735cc381-18ac-4d49-b8cf-1a3b77251eeb",
   "metadata": {},
   "outputs": [
    {
     "data": {
      "image/png": "[encoded data removed]",
      "text/plain": [
       "<Figure size 100x160 with 1 Axes>"
      ]
     },
     "metadata": {
      "image/png": {
       "height": 248,
       "width": 174
      }
     },
     "output_type": "display_data"
    }
   ],
   "source": [
    "fig = fg(0.5, 0.8)\n",
    "fig.dpi = 200\n",
    "ax = sns.boxplot(\n",
    "    data=[metrics[\"accuracy\"], shuff_metrics[\"accuracy\"]], showfliers=False, showcaps=False\n",
    ")\n",
    "ax.set(ylabel=\"Accuracy\", xticklabels=[\"Observed\", \"Shuffle\"], ylim=(0, 1))\n",
    "clean_ticks(ax, axis=\"y\", dtype=int)\n",
    "plt.xticks(rotation=90)\n",
    "sns.despine()\n",
    "saver(fig, \"turning-classifier\");"
   ]
  },
  {
   "cell_type": "code",
   "execution_count": null,
   "id": "f47b0078-f67c-4ef8-a64a-411ecea8d31c",
   "metadata": {},
   "outputs": [],
   "source": []
  }
 ],
 "metadata": {
  "kernelspec": {
   "display_name": "dopamine-paper",
   "language": "python",
   "name": "dopamine-paper"
  },
  "language_info": {
   "codemirror_mode": {
    "name": "ipython",
    "version": 3
   },
   "file_extension": ".py",
   "mimetype": "text/x-python",
   "name": "python",
   "nbconvert_exporter": "python",
   "pygments_lexer": "ipython3",
   "version": "3.9.13"
  },
  "widgets": {
   "application/vnd.jupyter.widget-state+json": {
    "state": {
     "0d56c6fb90134da698ea9522e50fb63b": {
      "model_module": "@jupyter-widgets/controls",
      "model_module_version": "2.0.0",
      "model_name": "ProgressStyleModel",
      "state": {
       "description_width": ""
      }
     },
     "0d923af8293c4bbaabc9cde072571f6b": {
      "model_module": "@jupyter-widgets/controls",
      "model_module_version": "2.0.0",
      "model_name": "HTMLModel",
      "state": {
       "layout": "IPY_MODEL_16b7db6bb4404011ba6f090ad07e1c58",
       "style": "IPY_MODEL_afe4bfe0572e4f6ba053a95a4c5cd938",
       "value": "accuracy: 0.50: 100%"
      }
     },
     "12317961f4624620a7f1096d92abb044": {
      "model_module": "@jupyter-widgets/controls",
      "model_module_version": "2.0.0",
      "model_name": "HTMLModel",
      "state": {
       "layout": "IPY_MODEL_ca366a6b264d49cbacd2d5fbd8b2fb08",
       "style": "IPY_MODEL_9542c5ccd6244ec4a3d1d4244dc5b266",
       "value": "accuracy: 0.52: 100%"
      }
     },
     "134ec5cd1a36404d8ef74d7f4d875a64": {
      "model_module": "@jupyter-widgets/base",
      "model_module_version": "2.0.0",
      "model_name": "LayoutModel",
      "state": {}
     },
     "163b8147380a4f4f9cff7bfcd43e7375": {
      "model_module": "@jupyter-widgets/base",
      "model_module_version": "2.0.0",
      "model_name": "LayoutModel",
      "state": {}
     },
     "16a012943dd14abea25bfdfc6acb6f63": {
      "model_module": "@jupyter-widgets/controls",
      "model_module_version": "2.0.0",
      "model_name": "HBoxModel",
      "state": {
       "children": [
        "IPY_MODEL_a7b89e0d8a5a44e093f72a82778e658f",
        "IPY_MODEL_89d5c0bc9dbd4b0ea557eb35c5b44328",
        "IPY_MODEL_fd258693c00f463f95b8b3a3873822ee"
       ],
       "layout": "IPY_MODEL_720cfaa0756c4e1cae2901868bbda9e0"
      }
     },
     "16b7db6bb4404011ba6f090ad07e1c58": {
      "model_module": "@jupyter-widgets/base",
      "model_module_version": "2.0.0",
      "model_name": "LayoutModel",
      "state": {}
     },
     "19f80d83a6fd4f0895ed9a27507a16ad": {
      "model_module": "@jupyter-widgets/controls",
      "model_module_version": "2.0.0",
      "model_name": "HTMLModel",
      "state": {
       "layout": "IPY_MODEL_7e51d1219a214138ac71a7abac2f4e45",
       "style": "IPY_MODEL_78c136a014c446d591871ad486bd7bed",
       "value": "100%"
      }
     },
     "1c15bac82d3c4ce0b450c6a4c83260b8": {
      "model_module": "@jupyter-widgets/base",
      "model_module_version": "2.0.0",
      "model_name": "LayoutModel",
      "state": {}
     },
     "255e21516c5b445db4cc343dc988e658": {
      "model_module": "@jupyter-widgets/controls",
      "model_module_version": "2.0.0",
      "model_name": "HTMLModel",
      "state": {
       "layout": "IPY_MODEL_6bbaa1de88e645d38a3737f71fad31fe",
       "style": "IPY_MODEL_25b3d2e871984bc29c72c74f2035c894",
       "value": "100%"
      }
     },
     "25b3d2e871984bc29c72c74f2035c894": {
      "model_module": "@jupyter-widgets/controls",
      "model_module_version": "2.0.0",
      "model_name": "HTMLStyleModel",
      "state": {
       "description_width": "",
       "font_size": null,
       "text_color": null
      }
     },
     "25ee38ae99614d779b5ee8770092c631": {
      "model_module": "@jupyter-widgets/base",
      "model_module_version": "2.0.0",
      "model_name": "LayoutModel",
      "state": {}
     },
     "3252e603cb974203ae4a2f01faf579e9": {
      "model_module": "@jupyter-widgets/controls",
      "model_module_version": "2.0.0",
      "model_name": "HTMLStyleModel",
      "state": {
       "description_width": "",
       "font_size": null,
       "text_color": null
      }
     },
     "35b81830a1b54bbba276b2d4ce47d5c6": {
      "model_module": "@jupyter-widgets/base",
      "model_module_version": "2.0.0",
      "model_name": "LayoutModel",
      "state": {}
     },
     "3c80fad6c7e9482ba4330854d4d08319": {
      "model_module": "@jupyter-widgets/controls",
      "model_module_version": "2.0.0",
      "model_name": "HTMLStyleModel",
      "state": {
       "description_width": "",
       "font_size": null,
       "text_color": null
      }
     },
     "3dfc2b35d3c9479fb2d7a3ae5801bcf2": {
      "model_module": "@jupyter-widgets/controls",
      "model_module_version": "2.0.0",
      "model_name": "HBoxModel",
      "state": {
       "children": [
        "IPY_MODEL_0d923af8293c4bbaabc9cde072571f6b",
        "IPY_MODEL_f9d044fa4e444091ba11795d9047c6a3",
        "IPY_MODEL_605da9ef6f814bdc889f28373fe59734"
       ],
       "layout": "IPY_MODEL_95e1105170a8449a9b5331d2dfab3f92"
      }
     },
     "40ad68350a264d67b9fbbff5ec6f4487": {
      "model_module": "@jupyter-widgets/controls",
      "model_module_version": "2.0.0",
      "model_name": "HTMLModel",
      "state": {
       "layout": "IPY_MODEL_ffab51b483434248930cebf57ee8d9c4",
       "style": "IPY_MODEL_abb18335b5ac44b89994bb08bf3b3085",
       "value": " 10/10 [03:07&lt;00:00, 18.87s/it]"
      }
     },
     "44d8ba3ae6294de289bc0fa9ebd13103": {
      "model_module": "@jupyter-widgets/controls",
      "model_module_version": "2.0.0",
      "model_name": "HTMLModel",
      "state": {
       "layout": "IPY_MODEL_25ee38ae99614d779b5ee8770092c631",
       "style": "IPY_MODEL_a63e3e47004241e9970695387b5cadb7",
       "value": " 2/2 [01:29&lt;00:00, 42.40s/it]"
      }
     },
     "52e8fee7918a4ea6a0aa6a8a41e0f970": {
      "model_module": "@jupyter-widgets/base",
      "model_module_version": "2.0.0",
      "model_name": "LayoutModel",
      "state": {}
     },
     "5c46d088444b494e991b333468ac26a5": {
      "model_module": "@jupyter-widgets/base",
      "model_module_version": "2.0.0",
      "model_name": "LayoutModel",
      "state": {}
     },
     "605da9ef6f814bdc889f28373fe59734": {
      "model_module": "@jupyter-widgets/controls",
      "model_module_version": "2.0.0",
      "model_name": "HTMLModel",
      "state": {
       "layout": "IPY_MODEL_bda446781b7740a89fd684b04baac7d7",
       "style": "IPY_MODEL_3252e603cb974203ae4a2f01faf579e9",
       "value": " 100/100 [31:22&lt;00:00, 18.82s/it]"
      }
     },
     "6975728d04fb4d7d9c0e5ab72d5be53a": {
      "model_module": "@jupyter-widgets/controls",
      "model_module_version": "2.0.0",
      "model_name": "HTMLStyleModel",
      "state": {
       "description_width": "",
       "font_size": null,
       "text_color": null
      }
     },
     "6bbaa1de88e645d38a3737f71fad31fe": {
      "model_module": "@jupyter-widgets/base",
      "model_module_version": "2.0.0",
      "model_name": "LayoutModel",
      "state": {}
     },
     "720cfaa0756c4e1cae2901868bbda9e0": {
      "model_module": "@jupyter-widgets/base",
      "model_module_version": "2.0.0",
      "model_name": "LayoutModel",
      "state": {}
     },
     "75468d1fdcf04f88a232b439da9c5637": {
      "model_module": "@jupyter-widgets/controls",
      "model_module_version": "2.0.0",
      "model_name": "HTMLStyleModel",
      "state": {
       "description_width": "",
       "font_size": null,
       "text_color": null
      }
     },
     "755968cec6294a91b8a3934749ebdfb2": {
      "model_module": "@jupyter-widgets/base",
      "model_module_version": "2.0.0",
      "model_name": "LayoutModel",
      "state": {}
     },
     "78298d596c444d3b84c819f2ca4ef10b": {
      "model_module": "@jupyter-widgets/controls",
      "model_module_version": "2.0.0",
      "model_name": "ProgressStyleModel",
      "state": {
       "description_width": ""
      }
     },
     "78c136a014c446d591871ad486bd7bed": {
      "model_module": "@jupyter-widgets/controls",
      "model_module_version": "2.0.0",
      "model_name": "HTMLStyleModel",
      "state": {
       "description_width": "",
       "font_size": null,
       "text_color": null
      }
     },
     "7e51d1219a214138ac71a7abac2f4e45": {
      "model_module": "@jupyter-widgets/base",
      "model_module_version": "2.0.0",
      "model_name": "LayoutModel",
      "state": {}
     },
     "7fa2f40e71354112bf1c84f820f98298": {
      "model_module": "@jupyter-widgets/controls",
      "model_module_version": "2.0.0",
      "model_name": "HBoxModel",
      "state": {
       "children": [
        "IPY_MODEL_12317961f4624620a7f1096d92abb044",
        "IPY_MODEL_f71cc6360d3645198a8fa8d743300400",
        "IPY_MODEL_40ad68350a264d67b9fbbff5ec6f4487"
       ],
       "layout": "IPY_MODEL_908ad15a1f1a4e4095d6b19a16f2ff8b"
      }
     },
     "80033c5c1bf34a4faa428bcf02cb5f51": {
      "model_module": "@jupyter-widgets/controls",
      "model_module_version": "2.0.0",
      "model_name": "HTMLStyleModel",
      "state": {
       "description_width": "",
       "font_size": null,
       "text_color": null
      }
     },
     "838fc7c616fd4f84a6502a53b61f37ad": {
      "model_module": "@jupyter-widgets/controls",
      "model_module_version": "2.0.0",
      "model_name": "FloatProgressModel",
      "state": {
       "bar_style": "success",
       "layout": "IPY_MODEL_be8c989f03a045f3b9760a66131d1894",
       "max": 2,
       "style": "IPY_MODEL_b8963ff12c164674a4d67a4ed68ae736",
       "value": 2
      }
     },
     "861449b58ed24fa78cba6f76dc245ea3": {
      "model_module": "@jupyter-widgets/controls",
      "model_module_version": "2.0.0",
      "model_name": "HBoxModel",
      "state": {
       "children": [
        "IPY_MODEL_d96c2d91be864afd836936fbd0fc451b",
        "IPY_MODEL_dab295076a6548f1b167fdd9fbc75cfb",
        "IPY_MODEL_c14a423608074a52819a58f7d8796e87"
       ],
       "layout": "IPY_MODEL_755968cec6294a91b8a3934749ebdfb2"
      }
     },
     "89d5c0bc9dbd4b0ea557eb35c5b44328": {
      "model_module": "@jupyter-widgets/controls",
      "model_module_version": "2.0.0",
      "model_name": "FloatProgressModel",
      "state": {
       "bar_style": "success",
       "layout": "IPY_MODEL_e79eafd4815f4518b0ac08c44dca79bc",
       "max": 1000,
       "style": "IPY_MODEL_eca3d8fcd9a3485da771a1861aabccbd",
       "value": 1000
      }
     },
     "8ab5bdc22ade488288d8d4b601b93e61": {
      "model_module": "@jupyter-widgets/controls",
      "model_module_version": "2.0.0",
      "model_name": "FloatProgressModel",
      "state": {
       "bar_style": "success",
       "layout": "IPY_MODEL_9fa601bdaac34ea0939585a42c17ed94",
       "max": 1000,
       "style": "IPY_MODEL_ed202a1f0994495bbc434d48d21591e3",
       "value": 1000
      }
     },
     "908ad15a1f1a4e4095d6b19a16f2ff8b": {
      "model_module": "@jupyter-widgets/base",
      "model_module_version": "2.0.0",
      "model_name": "LayoutModel",
      "state": {}
     },
     "9542c5ccd6244ec4a3d1d4244dc5b266": {
      "model_module": "@jupyter-widgets/controls",
      "model_module_version": "2.0.0",
      "model_name": "HTMLStyleModel",
      "state": {
       "description_width": "",
       "font_size": null,
       "text_color": null
      }
     },
     "95e1105170a8449a9b5331d2dfab3f92": {
      "model_module": "@jupyter-widgets/base",
      "model_module_version": "2.0.0",
      "model_name": "LayoutModel",
      "state": {}
     },
     "99f322a44ee44c51b16ea0f58620edfb": {
      "model_module": "@jupyter-widgets/controls",
      "model_module_version": "2.0.0",
      "model_name": "ProgressStyleModel",
      "state": {
       "description_width": ""
      }
     },
     "9cfb600d44834b98a8c89813eee33721": {
      "model_module": "@jupyter-widgets/base",
      "model_module_version": "2.0.0",
      "model_name": "LayoutModel",
      "state": {}
     },
     "9fa601bdaac34ea0939585a42c17ed94": {
      "model_module": "@jupyter-widgets/base",
      "model_module_version": "2.0.0",
      "model_name": "LayoutModel",
      "state": {}
     },
     "a07f91183aec4a9493ce149dee7e8302": {
      "model_module": "@jupyter-widgets/controls",
      "model_module_version": "2.0.0",
      "model_name": "HBoxModel",
      "state": {
       "children": [
        "IPY_MODEL_19f80d83a6fd4f0895ed9a27507a16ad",
        "IPY_MODEL_838fc7c616fd4f84a6502a53b61f37ad",
        "IPY_MODEL_ff975843d94a4860a0f161e559e3c253"
       ],
       "layout": "IPY_MODEL_52e8fee7918a4ea6a0aa6a8a41e0f970"
      }
     },
     "a349b1720e8546e194023632e5308990": {
      "model_module": "@jupyter-widgets/base",
      "model_module_version": "2.0.0",
      "model_name": "LayoutModel",
      "state": {}
     },
     "a3f323415d3149baa76e2223f58e242f": {
      "model_module": "@jupyter-widgets/base",
      "model_module_version": "2.0.0",
      "model_name": "LayoutModel",
      "state": {}
     },
     "a63e3e47004241e9970695387b5cadb7": {
      "model_module": "@jupyter-widgets/controls",
      "model_module_version": "2.0.0",
      "model_name": "HTMLStyleModel",
      "state": {
       "description_width": "",
       "font_size": null,
       "text_color": null
      }
     },
     "a7b89e0d8a5a44e093f72a82778e658f": {
      "model_module": "@jupyter-widgets/controls",
      "model_module_version": "2.0.0",
      "model_name": "HTMLModel",
      "state": {
       "layout": "IPY_MODEL_c52ebb7a819646289fc55eefdaa9347e",
       "style": "IPY_MODEL_6975728d04fb4d7d9c0e5ab72d5be53a",
       "value": "100%"
      }
     },
     "abb18335b5ac44b89994bb08bf3b3085": {
      "model_module": "@jupyter-widgets/controls",
      "model_module_version": "2.0.0",
      "model_name": "HTMLStyleModel",
      "state": {
       "description_width": "",
       "font_size": null,
       "text_color": null
      }
     },
     "abe8645db7dc41fe8b4f357a1236be58": {
      "model_module": "@jupyter-widgets/controls",
      "model_module_version": "2.0.0",
      "model_name": "HTMLStyleModel",
      "state": {
       "description_width": "",
       "font_size": null,
       "text_color": null
      }
     },
     "afe4bfe0572e4f6ba053a95a4c5cd938": {
      "model_module": "@jupyter-widgets/controls",
      "model_module_version": "2.0.0",
      "model_name": "HTMLStyleModel",
      "state": {
       "description_width": "",
       "font_size": null,
       "text_color": null
      }
     },
     "b1e4d7fcb53c414faccdd8f1ceaca15d": {
      "model_module": "@jupyter-widgets/base",
      "model_module_version": "2.0.0",
      "model_name": "LayoutModel",
      "state": {}
     },
     "b8963ff12c164674a4d67a4ed68ae736": {
      "model_module": "@jupyter-widgets/controls",
      "model_module_version": "2.0.0",
      "model_name": "ProgressStyleModel",
      "state": {
       "description_width": ""
      }
     },
     "bda446781b7740a89fd684b04baac7d7": {
      "model_module": "@jupyter-widgets/base",
      "model_module_version": "2.0.0",
      "model_name": "LayoutModel",
      "state": {}
     },
     "be8c989f03a045f3b9760a66131d1894": {
      "model_module": "@jupyter-widgets/base",
      "model_module_version": "2.0.0",
      "model_name": "LayoutModel",
      "state": {}
     },
     "c14a423608074a52819a58f7d8796e87": {
      "model_module": "@jupyter-widgets/controls",
      "model_module_version": "2.0.0",
      "model_name": "HTMLModel",
      "state": {
       "layout": "IPY_MODEL_9cfb600d44834b98a8c89813eee33721",
       "style": "IPY_MODEL_abe8645db7dc41fe8b4f357a1236be58",
       "value": " 2/2 [30:06&lt;00:00, 896.47s/it]"
      }
     },
     "c52ebb7a819646289fc55eefdaa9347e": {
      "model_module": "@jupyter-widgets/base",
      "model_module_version": "2.0.0",
      "model_name": "LayoutModel",
      "state": {}
     },
     "c6bb8ba04e154916bc6fc47bd87a44fa": {
      "model_module": "@jupyter-widgets/controls",
      "model_module_version": "2.0.0",
      "model_name": "HTMLModel",
      "state": {
       "layout": "IPY_MODEL_35b81830a1b54bbba276b2d4ce47d5c6",
       "style": "IPY_MODEL_e8ae80d52c174b958f8faf93794c95a7",
       "value": " 1000/1000 [14:21&lt;00:00,  1.12it/s]"
      }
     },
     "ca366a6b264d49cbacd2d5fbd8b2fb08": {
      "model_module": "@jupyter-widgets/base",
      "model_module_version": "2.0.0",
      "model_name": "LayoutModel",
      "state": {}
     },
     "d0c2af93e05e42a387c3fa7601875748": {
      "model_module": "@jupyter-widgets/controls",
      "model_module_version": "2.0.0",
      "model_name": "FloatProgressModel",
      "state": {
       "bar_style": "success",
       "layout": "IPY_MODEL_163b8147380a4f4f9cff7bfcd43e7375",
       "max": 2,
       "style": "IPY_MODEL_78298d596c444d3b84c819f2ca4ef10b",
       "value": 2
      }
     },
     "d21d8dfef96540ef91802802fd0bc338": {
      "model_module": "@jupyter-widgets/base",
      "model_module_version": "2.0.0",
      "model_name": "LayoutModel",
      "state": {}
     },
     "d2d9477ff1a744c8b312a1fc588776cd": {
      "model_module": "@jupyter-widgets/controls",
      "model_module_version": "2.0.0",
      "model_name": "HTMLModel",
      "state": {
       "layout": "IPY_MODEL_134ec5cd1a36404d8ef74d7f4d875a64",
       "style": "IPY_MODEL_e607a055bf65463fbd113408b7f488cc",
       "value": "100%"
      }
     },
     "d96c2d91be864afd836936fbd0fc451b": {
      "model_module": "@jupyter-widgets/controls",
      "model_module_version": "2.0.0",
      "model_name": "HTMLModel",
      "state": {
       "layout": "IPY_MODEL_a349b1720e8546e194023632e5308990",
       "style": "IPY_MODEL_3c80fad6c7e9482ba4330854d4d08319",
       "value": "100%"
      }
     },
     "dab295076a6548f1b167fdd9fbc75cfb": {
      "model_module": "@jupyter-widgets/controls",
      "model_module_version": "2.0.0",
      "model_name": "FloatProgressModel",
      "state": {
       "bar_style": "success",
       "layout": "IPY_MODEL_a3f323415d3149baa76e2223f58e242f",
       "max": 2,
       "style": "IPY_MODEL_0d56c6fb90134da698ea9522e50fb63b",
       "value": 2
      }
     },
     "dc6d141d6d25484cb3cb8b5845a37b36": {
      "model_module": "@jupyter-widgets/base",
      "model_module_version": "2.0.0",
      "model_name": "LayoutModel",
      "state": {}
     },
     "e245da0ae5264b1287772f8b0a32db4a": {
      "model_module": "@jupyter-widgets/controls",
      "model_module_version": "2.0.0",
      "model_name": "HBoxModel",
      "state": {
       "children": [
        "IPY_MODEL_255e21516c5b445db4cc343dc988e658",
        "IPY_MODEL_8ab5bdc22ade488288d8d4b601b93e61",
        "IPY_MODEL_c6bb8ba04e154916bc6fc47bd87a44fa"
       ],
       "layout": "IPY_MODEL_5c46d088444b494e991b333468ac26a5"
      }
     },
     "e607a055bf65463fbd113408b7f488cc": {
      "model_module": "@jupyter-widgets/controls",
      "model_module_version": "2.0.0",
      "model_name": "HTMLStyleModel",
      "state": {
       "description_width": "",
       "font_size": null,
       "text_color": null
      }
     },
     "e79eafd4815f4518b0ac08c44dca79bc": {
      "model_module": "@jupyter-widgets/base",
      "model_module_version": "2.0.0",
      "model_name": "LayoutModel",
      "state": {}
     },
     "e7e13833dc0c4b09b73790dd914063cc": {
      "model_module": "@jupyter-widgets/controls",
      "model_module_version": "2.0.0",
      "model_name": "HBoxModel",
      "state": {
       "children": [
        "IPY_MODEL_d2d9477ff1a744c8b312a1fc588776cd",
        "IPY_MODEL_d0c2af93e05e42a387c3fa7601875748",
        "IPY_MODEL_44d8ba3ae6294de289bc0fa9ebd13103"
       ],
       "layout": "IPY_MODEL_eab19e1865ac4c499bead57ca08a3ad3"
      }
     },
     "e897fccb44584371abdec8ae0f7d0f1b": {
      "model_module": "@jupyter-widgets/controls",
      "model_module_version": "2.0.0",
      "model_name": "ProgressStyleModel",
      "state": {
       "description_width": ""
      }
     },
     "e8ae80d52c174b958f8faf93794c95a7": {
      "model_module": "@jupyter-widgets/controls",
      "model_module_version": "2.0.0",
      "model_name": "HTMLStyleModel",
      "state": {
       "description_width": "",
       "font_size": null,
       "text_color": null
      }
     },
     "eab19e1865ac4c499bead57ca08a3ad3": {
      "model_module": "@jupyter-widgets/base",
      "model_module_version": "2.0.0",
      "model_name": "LayoutModel",
      "state": {}
     },
     "eca3d8fcd9a3485da771a1861aabccbd": {
      "model_module": "@jupyter-widgets/controls",
      "model_module_version": "2.0.0",
      "model_name": "ProgressStyleModel",
      "state": {
       "description_width": ""
      }
     },
     "ed202a1f0994495bbc434d48d21591e3": {
      "model_module": "@jupyter-widgets/controls",
      "model_module_version": "2.0.0",
      "model_name": "ProgressStyleModel",
      "state": {
       "description_width": ""
      }
     },
     "f71cc6360d3645198a8fa8d743300400": {
      "model_module": "@jupyter-widgets/controls",
      "model_module_version": "2.0.0",
      "model_name": "FloatProgressModel",
      "state": {
       "bar_style": "success",
       "layout": "IPY_MODEL_dc6d141d6d25484cb3cb8b5845a37b36",
       "max": 10,
       "style": "IPY_MODEL_99f322a44ee44c51b16ea0f58620edfb",
       "value": 10
      }
     },
     "f9d044fa4e444091ba11795d9047c6a3": {
      "model_module": "@jupyter-widgets/controls",
      "model_module_version": "2.0.0",
      "model_name": "FloatProgressModel",
      "state": {
       "bar_style": "success",
       "layout": "IPY_MODEL_1c15bac82d3c4ce0b450c6a4c83260b8",
       "style": "IPY_MODEL_e897fccb44584371abdec8ae0f7d0f1b",
       "value": 100
      }
     },
     "fd258693c00f463f95b8b3a3873822ee": {
      "model_module": "@jupyter-widgets/controls",
      "model_module_version": "2.0.0",
      "model_name": "HTMLModel",
      "state": {
       "layout": "IPY_MODEL_b1e4d7fcb53c414faccdd8f1ceaca15d",
       "style": "IPY_MODEL_75468d1fdcf04f88a232b439da9c5637",
       "value": " 1000/1000 [14:08&lt;00:00,  1.25it/s]"
      }
     },
     "ff975843d94a4860a0f161e559e3c253": {
      "model_module": "@jupyter-widgets/controls",
      "model_module_version": "2.0.0",
      "model_name": "HTMLModel",
      "state": {
       "layout": "IPY_MODEL_d21d8dfef96540ef91802802fd0bc338",
       "style": "IPY_MODEL_80033c5c1bf34a4faa428bcf02cb5f51",
       "value": " 2/2 [01:32&lt;00:00, 44.31s/it]"
      }
     },
     "ffab51b483434248930cebf57ee8d9c4": {
      "model_module": "@jupyter-widgets/base",
      "model_module_version": "2.0.0",
      "model_name": "LayoutModel",
      "state": {}
     }
    },
    "version_major": 2,
    "version_minor": 0
   }
  }
 },
 "nbformat": 4,
 "nbformat_minor": 5
}
