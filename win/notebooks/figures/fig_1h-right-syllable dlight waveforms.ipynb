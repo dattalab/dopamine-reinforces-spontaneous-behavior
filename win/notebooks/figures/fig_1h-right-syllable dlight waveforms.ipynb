{
 "cells": [
  {
   "cell_type": "markdown",
   "id": "a0cdfa50-ac6b-426b-90d3-3f8ee33db855",
   "metadata": {},
   "source": [
    "# Plot syllable waveforms"
   ]
  },
  {
   "cell_type": "code",
   "execution_count": 1,
   "id": "160d37d6-69ac-4b38-9ef1-006b1e6fd917",
   "metadata": {},
   "outputs": [],
   "source": [
    "import toml\n",
    "import numba\n",
    "import joblib\n",
    "import random\n",
    "import warnings\n",
    "import numpy as np\n",
    "import pandas as pd\n",
    "import seaborn as sns\n",
    "import matplotlib.pyplot as plt\n",
    "\n",
    "from os.path import join\n",
    "from toolz import partial\n",
    "from tqdm.auto import tqdm\n",
    "from scipy import stats, signal\n",
    "from rl_analysis import ANALYSIS_CONFIG\n",
    "from tqdm.contrib.concurrent import process_map\n",
    "from rl_analysis.behavior.moseq import syll_onset\n",
    "from rl_analysis.io.df import dlight_exclude_toml, NONSYLL_COLS\n",
    "from rl_analysis.photometry.windowing import window_trials_as_mtx\n",
    "from rl_analysis.plotting import setup_plotting_env, save_factory, fg\n",
    "\n",
    "warnings.simplefilter('ignore')\n",
    "numba.set_num_threads(7)"
   ]
  },
  {
   "cell_type": "markdown",
   "id": "d61939d0-3a06-4ab8-b015-548ae1739905",
   "metadata": {
    "tags": []
   },
   "source": [
    "## Loading and setup"
   ]
  },
  {
   "cell_type": "code",
   "execution_count": 2,
   "id": "11f8df72-54aa-46e7-8708-2e905f4a385c",
   "metadata": {},
   "outputs": [],
   "source": [
    "def dlight_filter(ser):\n",
    "    soscoeffs = signal.bessel(1, 1 / (30 / 2.), btype=\"high\", output=\"sos\")\n",
    "    sig = ser.dropna()\n",
    "    new_ser = pd.Series(index=ser.index)\n",
    "    new_ser.loc[sig.index] = signal.sosfiltfilt(soscoeffs, sig)\n",
    "    return new_ser"
   ]
  },
  {
   "cell_type": "code",
   "execution_count": 3,
   "id": "3304df8f-1f8a-408e-a9b4-e4f3632a1929",
   "metadata": {},
   "outputs": [],
   "source": [
    "with open(ANALYSIS_CONFIG, 'r') as f:\n",
    "    config = toml.load(f)"
   ]
  },
  {
   "cell_type": "code",
   "execution_count": 4,
   "id": "ff27c7a0-4f7c-42e8-a8da-1979b3491c71",
   "metadata": {},
   "outputs": [],
   "source": [
    "setup_plotting_env()\n",
    "\n",
    "saver = save_factory(join(config['figures']['dir_wg'], 'fig-01'), tight_layout=False)"
   ]
  },
  {
   "cell_type": "code",
   "execution_count": 6,
   "id": "d7071448-0c73-4733-8f8f-66634875977b",
   "metadata": {},
   "outputs": [],
   "source": [
    "# use prev sorting for comparison\n",
    "sorting = joblib.load(\"/home/wg41/reinforcement_data/dlight_photometry/fig1-syllable-sorting.p\")"
   ]
  },
  {
   "cell_type": "code",
   "execution_count": 7,
   "id": "110f6fd4-3513-48f0-8f87-912912ff8383",
   "metadata": {},
   "outputs": [],
   "source": [
    "use_dct = dlight_exclude_toml(\n",
    "    \"/home/wg41/reinforcement_data/_proc_photometry_dlight/dlight_photometry_processed_full.toml\",\n",
    "    **config[\"dlight_common\"]\n",
    ")\n",
    "\n",
    "df = pd.read_parquet(\n",
    "    config['intermediate_results']['dlight_public'],\n",
    "    filters=[(\"uuid\", \"in\", list(use_dct)), (\"area\", \"=\", \"dls\")],\n",
    ")\n",
    "\n",
    "df = df[~df[\"session_number\"].isin([3, 4])]\n",
    "df = df.drop(columns=NONSYLL_COLS)\n",
    "df = df.sort_index()\n",
    "\n",
    "df[\"offline onset\"] = False\n",
    "df.loc[df.index[syll_onset(df[\"predicted_syllable (offline)\"])], \"offline onset\"] = True\n",
    "\n",
    "df[\"dlight filtered\"] = df.groupby(\"uuid\", sort=False, observed=True)[\n",
    "    \"signal_reref_dff_z\"\n",
    "].transform(dlight_filter)"
   ]
  },
  {
   "cell_type": "code",
   "execution_count": 8,
   "id": "a74660e8-3e42-4206-bf50-0011fc897039",
   "metadata": {},
   "outputs": [],
   "source": [
    "time_window = (-1.5, 1.5)"
   ]
  },
  {
   "cell_type": "code",
   "execution_count": 11,
   "id": "62b07fec-ff21-476b-be0b-157d8f69b07d",
   "metadata": {},
   "outputs": [],
   "source": [
    "def compute_waveforms(df, dlight_key, shuffle=False, syll_key=\"predicted_syllable (offline)\"):\n",
    "    out = {}\n",
    "    for syll in sorting:\n",
    "        inds = np.where(df[\"offline onset\"] & (df[syll_key] == syll))[0]\n",
    "        if shuffle:\n",
    "            inds = inds + np.array(list(map(lambda v: random.randint(-60, 60), range(len(inds)))))\n",
    "        time, trials = window_trials_as_mtx(\n",
    "            df, inds, dlight_key, truncation_window=time_window, zscore_signal=True\n",
    "        )\n",
    "        out[syll] = pd.Series(np.nanmean(trials, axis=0), index=pd.Index(time, name=\"time\"))\n",
    "    return pd.DataFrame(out)\n",
    "\n",
    "\n",
    "def compute_shuffle(i, df):\n",
    "    df = df.copy()\n",
    "    result = compute_waveforms(df, dlight_key, shuffle=True)\n",
    "    return result"
   ]
  },
  {
   "cell_type": "markdown",
   "id": "63d4d587-f1c7-42f5-b990-77e63a89a918",
   "metadata": {},
   "source": [
    "## Panel - onset aligned syllable waveforms"
   ]
  },
  {
   "cell_type": "code",
   "execution_count": 22,
   "id": "e5a1d75e-0ea6-4ef4-a295-3e551fc07381",
   "metadata": {},
   "outputs": [],
   "source": [
    "dlight_key = \"dlight filtered\"\n",
    "syll_key = \"predicted_syllable (offline)\"\n",
    "waveforms = compute_waveforms(df, dlight_key)"
   ]
  },
  {
   "cell_type": "markdown",
   "id": "6b954567-d702-4da5-ba7c-5d577d80b46a",
   "metadata": {
    "tags": []
   },
   "source": [
    "### Z-scored re: shuffle version"
   ]
  },
  {
   "cell_type": "code",
   "execution_count": 17,
   "id": "ed933cb3-1c29-4f69-bca5-8c23ac29e84e",
   "metadata": {},
   "outputs": [
    {
     "data": {
      "application/vnd.jupyter.widget-view+json": {
       "model_id": "001ef80d490a4b40b3e55a1c8ace554a",
       "version_major": 2,
       "version_minor": 0
      },
      "text/plain": [
       "  0%|          | 0/1000 [00:00<?, ?it/s]"
      ]
     },
     "metadata": {},
     "output_type": "display_data"
    },
    {
     "data": {
      "text/plain": [
       "['/home/wg41/reinforcement_data/processed-dfs/fig1-filtered-waveform-shuffles-de-phasing.p']"
      ]
     },
     "execution_count": 17,
     "metadata": {},
     "output_type": "execute_result"
    }
   ],
   "source": [
    "n_shuffles = 1_000\n",
    "\n",
    "results = process_map(\n",
    "    partial(compute_shuffle, df=df[[syll_key, dlight_key, \"offline onset\"]]),\n",
    "    range(n_shuffles),\n",
    "    max_workers=7,\n",
    ")\n",
    "\n",
    "# SAVE SHUFFLES\n",
    "joblib.dump(\n",
    "    results,\n",
    "    \"/home/wg41/reinforcement_data/processed-dfs/fig1-filtered-waveform-shuffles-de-phasing.p\",\n",
    ")"
   ]
  },
  {
   "cell_type": "code",
   "execution_count": null,
   "id": "31f4ed41-59c6-4c38-94c0-f084a77376e5",
   "metadata": {},
   "outputs": [],
   "source": [
    "# comment out if you want to run the shuffles yourself\n",
    "# results = joblib.load(\n",
    "#     \"/home/wg41/reinforcement_data/processed-dfs/fig1-filtered-waveform-shuffles-de-phasing.p\"\n",
    "# )"
   ]
  },
  {
   "cell_type": "code",
   "execution_count": 20,
   "id": "614459a7-48a3-4b46-9cd6-3db4ccc561c5",
   "metadata": {},
   "outputs": [],
   "source": [
    "shuff_waveforms = {k: pd.DataFrame([r[k] for r in results]) for k in sorting}\n",
    "\n",
    "z_waveforms = {}\n",
    "for k in sorting:\n",
    "    v = waveforms[k]\n",
    "    shuff = shuff_waveforms[k]\n",
    "    z_waveforms[k] = (v - shuff.mean()) / shuff.std()\n",
    "\n",
    "z_avg_waveforms = np.array(list(z_waveforms.values()))"
   ]
  },
  {
   "cell_type": "code",
   "execution_count": 27,
   "id": "2b3c9181-b9b9-47f7-b30e-1cd67d800a12",
   "metadata": {},
   "outputs": [
    {
     "data": {
      "image/png": "[encoded data removed]",
      "text/plain": [
       "<Figure size 200x400 with 2 Axes>"
      ]
     },
     "metadata": {
      "image/png": {
       "height": 414,
       "width": 324
      }
     },
     "output_type": "display_data"
    }
   ],
   "source": [
    "lims = 15\n",
    "fig = fg(1, 2)\n",
    "fig.dpi = 200\n",
    "plt.imshow(\n",
    "    z_avg_waveforms,\n",
    "    aspect=\"auto\",\n",
    "    cmap=\"RdBu_r\",\n",
    "    vmin=-lims,\n",
    "    vmax=lims,\n",
    "    interpolation='none',\n",
    "    extent=(v.index[0], v.index[-1], len(z_avg_waveforms), 0),\n",
    ")\n",
    "cb = plt.colorbar()\n",
    "cb.set_ticks([-lims, 0, lims])\n",
    "cb.set_label('dF/F0 (z to shuffle)')\n",
    "plt.xticks([time_window[0], 0, time_window[-1]])\n",
    "plt.yticks([0.5, len(z_avg_waveforms) - 0.5], [1, len(z_avg_waveforms)])\n",
    "plt.ylabel('Syllables')\n",
    "plt.xlabel('Time from syllable onset (s)')\n",
    "plt.xlim(*time_window)\n",
    "\n",
    "sns.despine()\n",
    "saver(fig, 'syllable-aligned-filtered-dlight-waveforms-z-re-shuffle');"
   ]
  },
  {
   "cell_type": "code",
   "execution_count": 24,
   "id": "eefff611-c46f-4383-9b86-5d5e9a248d45",
   "metadata": {},
   "outputs": [
    {
     "data": {
      "application/vnd.jupyter.widget-view+json": {
       "model_id": "6a7d0048563c40eab8e482219e3ec43a",
       "version_major": 2,
       "version_minor": 0
      },
      "text/plain": [
       "  0%|          | 0/37 [00:00<?, ?it/s]"
      ]
     },
     "metadata": {},
     "output_type": "display_data"
    }
   ],
   "source": [
    "kruskal_waveforms = {}\n",
    "\n",
    "gb = df.groupby(\"mouse_id\", observed=True, sort=False)\n",
    "\n",
    "for syll in tqdm(sorting):\n",
    "    mouse_waveforms = []\n",
    "    for mouse, _df in gb:\n",
    "        inds = np.where(_df[\"offline onset\"] & (_df[syll_key] == syll))[0]\n",
    "        time, mtx = window_trials_as_mtx(\n",
    "            _df, inds, dlight_key, truncation_window=(0, 0.3), zscore_signal=True\n",
    "        )\n",
    "        mouse_waveforms.append(np.nanmean(mtx, axis=0))\n",
    "    kruskal_waveforms[syll] = np.array(mouse_waveforms)"
   ]
  },
  {
   "cell_type": "code",
   "execution_count": 25,
   "id": "38f81dae-8174-49e6-a1b8-96df2b4da8ce",
   "metadata": {},
   "outputs": [
    {
     "data": {
      "text/plain": [
       "KruskalResult(statistic=209.2901300498329, pvalue=2.590790009107372e-26)"
      ]
     },
     "execution_count": 25,
     "metadata": {},
     "output_type": "execute_result"
    }
   ],
   "source": [
    "stats.kruskal(*[x.mean(1) for x in kruskal_waveforms.values()])"
   ]
  },
  {
   "cell_type": "code",
   "execution_count": 26,
   "id": "ad30cd06-db1b-4cbf-b6d1-6abe7d531fcf",
   "metadata": {},
   "outputs": [
    {
     "data": {
      "text/plain": [
       "KruskalResult(statistic=193.0876616855146, pvalue=2.206896675740649e-23)"
      ]
     },
     "execution_count": 26,
     "metadata": {},
     "output_type": "execute_result"
    }
   ],
   "source": [
    "stats.kruskal(*[x.max(1) for x in kruskal_waveforms.values()])"
   ]
  },
  {
   "cell_type": "code",
   "execution_count": null,
   "id": "a026dc2c-c0c0-4b0b-80b5-fdf5739e65f4",
   "metadata": {},
   "outputs": [],
   "source": []
  }
 ],
 "metadata": {
  "kernelspec": {
   "display_name": "dopamine-paper",
   "language": "python",
   "name": "dopamine-paper"
  },
  "language_info": {
   "codemirror_mode": {
    "name": "ipython",
    "version": 3
   },
   "file_extension": ".py",
   "mimetype": "text/x-python",
   "name": "python",
   "nbconvert_exporter": "python",
   "pygments_lexer": "ipython3",
   "version": "3.9.13"
  },
  "widgets": {
   "application/vnd.jupyter.widget-state+json": {
    "state": {
     "001ef80d490a4b40b3e55a1c8ace554a": {
      "model_module": "@jupyter-widgets/controls",
      "model_module_version": "2.0.0",
      "model_name": "HBoxModel",
      "state": {
       "children": [
        "IPY_MODEL_208abe1da5d84d6aa0c2674c323e5426",
        "IPY_MODEL_4277206724394c2298dfd8f013412d22",
        "IPY_MODEL_bd33463cf9b74afdaad166b1d31b1350"
       ],
       "layout": "IPY_MODEL_bce18a6fb583406c9570b7c3655144d8"
      }
     },
     "065b5b801d0549909ba4eb5b6582bcab": {
      "model_module": "@jupyter-widgets/controls",
      "model_module_version": "2.0.0",
      "model_name": "HTMLStyleModel",
      "state": {
       "description_width": "",
       "font_size": null,
       "text_color": null
      }
     },
     "08aab8993f364c3a96c4753bac19d91e": {
      "model_module": "@jupyter-widgets/base",
      "model_module_version": "2.0.0",
      "model_name": "LayoutModel",
      "state": {}
     },
     "208abe1da5d84d6aa0c2674c323e5426": {
      "model_module": "@jupyter-widgets/controls",
      "model_module_version": "2.0.0",
      "model_name": "HTMLModel",
      "state": {
       "layout": "IPY_MODEL_9ad0ad50c67a4370894236f65dfe8183",
       "style": "IPY_MODEL_4bf3920d387d4f2e97473ac29387ef31",
       "value": "100%"
      }
     },
     "2d3385d633614e968fbbcf9891ce9b41": {
      "model_module": "@jupyter-widgets/controls",
      "model_module_version": "2.0.0",
      "model_name": "HTMLStyleModel",
      "state": {
       "description_width": "",
       "font_size": null,
       "text_color": null
      }
     },
     "30660a1ef4524620828bd1dff66c53fc": {
      "model_module": "@jupyter-widgets/base",
      "model_module_version": "2.0.0",
      "model_name": "LayoutModel",
      "state": {}
     },
     "36ec3b21bf8a45f5870e61a4e1812fbe": {
      "model_module": "@jupyter-widgets/controls",
      "model_module_version": "2.0.0",
      "model_name": "HTMLStyleModel",
      "state": {
       "description_width": "",
       "font_size": null,
       "text_color": null
      }
     },
     "4277206724394c2298dfd8f013412d22": {
      "model_module": "@jupyter-widgets/controls",
      "model_module_version": "2.0.0",
      "model_name": "FloatProgressModel",
      "state": {
       "bar_style": "success",
       "layout": "IPY_MODEL_30660a1ef4524620828bd1dff66c53fc",
       "max": 1000,
       "style": "IPY_MODEL_8d91474366064afdb6a1edffc8d02b60",
       "value": 1000
      }
     },
     "4bf3920d387d4f2e97473ac29387ef31": {
      "model_module": "@jupyter-widgets/controls",
      "model_module_version": "2.0.0",
      "model_name": "HTMLStyleModel",
      "state": {
       "description_width": "",
       "font_size": null,
       "text_color": null
      }
     },
     "656309c3768d42dba2c20e39407e139a": {
      "model_module": "@jupyter-widgets/controls",
      "model_module_version": "2.0.0",
      "model_name": "FloatProgressModel",
      "state": {
       "bar_style": "danger",
       "layout": "IPY_MODEL_921dea496a054ab299cb5cabb0f7104c",
       "max": 37,
       "style": "IPY_MODEL_ab8aa59c702549ef9286250632105884"
      }
     },
     "68bdef18d4ce409ab1a07b8c54ff941d": {
      "model_module": "@jupyter-widgets/base",
      "model_module_version": "2.0.0",
      "model_name": "LayoutModel",
      "state": {}
     },
     "6a7d0048563c40eab8e482219e3ec43a": {
      "model_module": "@jupyter-widgets/controls",
      "model_module_version": "2.0.0",
      "model_name": "HBoxModel",
      "state": {
       "children": [
        "IPY_MODEL_ce6bcafce04e49589b7f5095f228b867",
        "IPY_MODEL_fbdc0552d8d142f88d4e0dc108d789e8",
        "IPY_MODEL_774bc66353dd4763b7fa68bd435764c4"
       ],
       "layout": "IPY_MODEL_958c56c0215f4c458babc53de36088f8"
      }
     },
     "731daa6d92f84998917aa13e879790a9": {
      "model_module": "@jupyter-widgets/controls",
      "model_module_version": "2.0.0",
      "model_name": "HTMLModel",
      "state": {
       "layout": "IPY_MODEL_88f7403f9ba5445782cf8050dc3afce2",
       "style": "IPY_MODEL_065b5b801d0549909ba4eb5b6582bcab",
       "value": " 0/37 [00:16&lt;?, ?it/s]"
      }
     },
     "774bc66353dd4763b7fa68bd435764c4": {
      "model_module": "@jupyter-widgets/controls",
      "model_module_version": "2.0.0",
      "model_name": "HTMLModel",
      "state": {
       "layout": "IPY_MODEL_f81127499a5a42d1a0d509bfca892652",
       "style": "IPY_MODEL_2d3385d633614e968fbbcf9891ce9b41",
       "value": " 37/37 [03:39&lt;00:00,  5.54s/it]"
      }
     },
     "799a073be45a4a71886f51de80743d47": {
      "model_module": "@jupyter-widgets/base",
      "model_module_version": "2.0.0",
      "model_name": "LayoutModel",
      "state": {}
     },
     "88f7403f9ba5445782cf8050dc3afce2": {
      "model_module": "@jupyter-widgets/base",
      "model_module_version": "2.0.0",
      "model_name": "LayoutModel",
      "state": {}
     },
     "8d91474366064afdb6a1edffc8d02b60": {
      "model_module": "@jupyter-widgets/controls",
      "model_module_version": "2.0.0",
      "model_name": "ProgressStyleModel",
      "state": {
       "description_width": ""
      }
     },
     "921dea496a054ab299cb5cabb0f7104c": {
      "model_module": "@jupyter-widgets/base",
      "model_module_version": "2.0.0",
      "model_name": "LayoutModel",
      "state": {}
     },
     "958c56c0215f4c458babc53de36088f8": {
      "model_module": "@jupyter-widgets/base",
      "model_module_version": "2.0.0",
      "model_name": "LayoutModel",
      "state": {}
     },
     "9ad0ad50c67a4370894236f65dfe8183": {
      "model_module": "@jupyter-widgets/base",
      "model_module_version": "2.0.0",
      "model_name": "LayoutModel",
      "state": {}
     },
     "9ef7e91d2c8e421fbd403dc6fd4170c7": {
      "model_module": "@jupyter-widgets/base",
      "model_module_version": "2.0.0",
      "model_name": "LayoutModel",
      "state": {}
     },
     "a1f66066bed548cc8b2ab5dc1dd75dfb": {
      "model_module": "@jupyter-widgets/controls",
      "model_module_version": "2.0.0",
      "model_name": "HBoxModel",
      "state": {
       "children": [
        "IPY_MODEL_f3e624d5ae794c638ed3fe38345c44cb",
        "IPY_MODEL_656309c3768d42dba2c20e39407e139a",
        "IPY_MODEL_731daa6d92f84998917aa13e879790a9"
       ],
       "layout": "IPY_MODEL_9ef7e91d2c8e421fbd403dc6fd4170c7"
      }
     },
     "ab8aa59c702549ef9286250632105884": {
      "model_module": "@jupyter-widgets/controls",
      "model_module_version": "2.0.0",
      "model_name": "ProgressStyleModel",
      "state": {
       "description_width": ""
      }
     },
     "b108ead1c2bb4ce091811fa87cfdfc97": {
      "model_module": "@jupyter-widgets/base",
      "model_module_version": "2.0.0",
      "model_name": "LayoutModel",
      "state": {}
     },
     "bce18a6fb583406c9570b7c3655144d8": {
      "model_module": "@jupyter-widgets/base",
      "model_module_version": "2.0.0",
      "model_name": "LayoutModel",
      "state": {}
     },
     "bd33463cf9b74afdaad166b1d31b1350": {
      "model_module": "@jupyter-widgets/controls",
      "model_module_version": "2.0.0",
      "model_name": "HTMLModel",
      "state": {
       "layout": "IPY_MODEL_68bdef18d4ce409ab1a07b8c54ff941d",
       "style": "IPY_MODEL_d9809599320244b5a6b4f1f1366c627e",
       "value": " 1000/1000 [31:24&lt;00:00,  1.05s/it]"
      }
     },
     "ce6bcafce04e49589b7f5095f228b867": {
      "model_module": "@jupyter-widgets/controls",
      "model_module_version": "2.0.0",
      "model_name": "HTMLModel",
      "state": {
       "layout": "IPY_MODEL_b108ead1c2bb4ce091811fa87cfdfc97",
       "style": "IPY_MODEL_fcc6fd5156054a1fa1b7f1d5635f8c98",
       "value": "100%"
      }
     },
     "d9809599320244b5a6b4f1f1366c627e": {
      "model_module": "@jupyter-widgets/controls",
      "model_module_version": "2.0.0",
      "model_name": "HTMLStyleModel",
      "state": {
       "description_width": "",
       "font_size": null,
       "text_color": null
      }
     },
     "ec0ac623c826407db6566b95e36e1970": {
      "model_module": "@jupyter-widgets/controls",
      "model_module_version": "2.0.0",
      "model_name": "ProgressStyleModel",
      "state": {
       "description_width": ""
      }
     },
     "f3e624d5ae794c638ed3fe38345c44cb": {
      "model_module": "@jupyter-widgets/controls",
      "model_module_version": "2.0.0",
      "model_name": "HTMLModel",
      "state": {
       "layout": "IPY_MODEL_799a073be45a4a71886f51de80743d47",
       "style": "IPY_MODEL_36ec3b21bf8a45f5870e61a4e1812fbe",
       "value": "  0%"
      }
     },
     "f81127499a5a42d1a0d509bfca892652": {
      "model_module": "@jupyter-widgets/base",
      "model_module_version": "2.0.0",
      "model_name": "LayoutModel",
      "state": {}
     },
     "fbdc0552d8d142f88d4e0dc108d789e8": {
      "model_module": "@jupyter-widgets/controls",
      "model_module_version": "2.0.0",
      "model_name": "FloatProgressModel",
      "state": {
       "bar_style": "success",
       "layout": "IPY_MODEL_08aab8993f364c3a96c4753bac19d91e",
       "max": 37,
       "style": "IPY_MODEL_ec0ac623c826407db6566b95e36e1970",
       "value": 37
      }
     },
     "fcc6fd5156054a1fa1b7f1d5635f8c98": {
      "model_module": "@jupyter-widgets/controls",
      "model_module_version": "2.0.0",
      "model_name": "HTMLStyleModel",
      "state": {
       "description_width": "",
       "font_size": null,
       "text_color": null
      }
     }
    },
    "version_major": 2,
    "version_minor": 0
   }
  }
 },
 "nbformat": 4,
 "nbformat_minor": 5
}
