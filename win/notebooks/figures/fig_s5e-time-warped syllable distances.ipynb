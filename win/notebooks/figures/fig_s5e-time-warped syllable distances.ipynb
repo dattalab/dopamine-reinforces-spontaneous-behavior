{
 "cells": [
  {
   "cell_type": "markdown",
   "id": "ce728a15-6794-4fc5-af84-c3fb239a728d",
   "metadata": {},
   "source": [
    "# Correlated dLight with time-warped PC distances"
   ]
  },
  {
   "cell_type": "code",
   "execution_count": 1,
   "id": "0f128e89-c567-4915-b75c-c6365d8e9243",
   "metadata": {},
   "outputs": [],
   "source": [
    "import toml\n",
    "import numpy as np\n",
    "import pandas as pd\n",
    "import seaborn as sns\n",
    "import matplotlib.pyplot as plt\n",
    "\n",
    "from os.path import join\n",
    "from tqdm.auto import tqdm\n",
    "from rl_analysis.util import zscore\n",
    "from rl_analysis import ANALYSIS_CONFIG\n",
    "from sklearn.linear_model import LinearRegression\n",
    "from rl_analysis.plotting import save_factory, setup_plotting_env, fg"
   ]
  },
  {
   "cell_type": "code",
   "execution_count": 2,
   "id": "ff12888f-2386-4a6c-a766-704b1d294bb8",
   "metadata": {},
   "outputs": [],
   "source": [
    "with open(ANALYSIS_CONFIG, 'r') as f:\n",
    "    config = toml.load(f)\n",
    "\n",
    "setup_plotting_env()\n",
    "\n",
    "saver = save_factory(join(config['figures']['dir_wg'], 'ppe-fig'), tight_layout=False)\n",
    "\n",
    "plt.rcParams['figure.dpi'] = 300"
   ]
  },
  {
   "cell_type": "markdown",
   "id": "10a212e8-a23a-43df-8008-c546d0986e37",
   "metadata": {
    "tags": []
   },
   "source": [
    "## Loading and setup"
   ]
  },
  {
   "cell_type": "code",
   "execution_count": 3,
   "id": "302d07e7-fe21-42c8-ba55-b91015eb3764",
   "metadata": {},
   "outputs": [],
   "source": [
    "# load instead of recompute\n",
    "out = pd.read_parquet('~/reinforcement_data/processed-dfs/time-warping/performance-prediction-error-distances-and-dopamine.parquet')"
   ]
  },
  {
   "cell_type": "code",
   "execution_count": 4,
   "id": "ebeefde7-e00c-412a-8fd6-9b4e78cc5da0",
   "metadata": {},
   "outputs": [
    {
     "data": {
      "text/plain": [
       "array(['dls-dlight-1', 'dls-dlight-2', 'dls-dlight-3', 'dls-dlight-4',\n",
       "       'dls-dlight-5', 'dls-dlight-7', 'dlight-chrimson-1',\n",
       "       'dlight-chrimson-3', 'dlight-chrimson-5', 'dlight-chrimson-2',\n",
       "       'dlight-chrimson-4', 'dlight-chrimson-6', 'dlight-chrimson-8',\n",
       "       'dlight-chrimson-9'], dtype=object)"
      ]
     },
     "execution_count": 4,
     "metadata": {},
     "output_type": "execute_result"
    }
   ],
   "source": [
    "out['mouse'].unique()"
   ]
  },
  {
   "cell_type": "code",
   "execution_count": 5,
   "id": "046e76a1-52e6-4909-b75b-2c67e789f5e4",
   "metadata": {},
   "outputs": [
    {
     "name": "stderr",
     "output_type": "stream",
     "text": [
      "/home/wg41/miniconda3/envs/dopamine-paper/lib/python3.9/site-packages/pandas/core/internals/blocks.py:352: RuntimeWarning: divide by zero encountered in log\n",
      "  result = func(self.values, **kwargs)\n",
      "/home/wg41/miniconda3/envs/dopamine-paper/lib/python3.9/site-packages/pandas/core/internals/blocks.py:352: RuntimeWarning: invalid value encountered in log\n",
      "  result = func(self.values, **kwargs)\n"
     ]
    }
   ],
   "source": [
    "dist_cols = [c for c in out.columns if 'dist' in c]\n",
    "log_dist_cols = [f'log_{d}' for d in dist_cols]\n",
    "\n",
    "out[log_dist_cols] = np.log(out[dist_cols])"
   ]
  },
  {
   "cell_type": "markdown",
   "id": "3c744129-3bdf-4569-a336-04a543e3bf7b",
   "metadata": {},
   "source": [
    "## Run linear regression on all the output to predict DA"
   ]
  },
  {
   "cell_type": "code",
   "execution_count": 6,
   "id": "2eeb78ec-611d-4c51-aec8-a686ba5dc697",
   "metadata": {},
   "outputs": [],
   "source": [
    "keys = [\n",
    "    \"velocity_2d_mm\",\n",
    "    \"acceleration_2d_mm\",\n",
    "    \"jerk_2d_mm\",\n",
    "    \"velocity_angle\",\n",
    "    \"velocity_height\",\n",
    "    \"z_dist_from_mean_soft_dtw\",\n",
    "] + [\"da\"]"
   ]
  },
  {
   "cell_type": "code",
   "execution_count": 7,
   "id": "5496cf0e-51ea-49dd-8242-3e72dae0b70f",
   "metadata": {},
   "outputs": [],
   "source": [
    "# zscore by mouse and syllable\n",
    "z_mouse_syllable = []\n",
    "for mouse, mouse_df in out.groupby(['mouse', 'uuid', 'syllable'], sort=False):\n",
    "    mouse_df = mouse_df.copy()\n",
    "    mouse_df[keys] = zscore(mouse_df[keys])\n",
    "    z_mouse_syllable.append(mouse_df)\n",
    "z_mouse_syllable = pd.concat(z_mouse_syllable)\n",
    "z_mouse_syllable = z_mouse_syllable.dropna(subset=keys)\n",
    "avg_vals = z_mouse_syllable.groupby(['mouse', 'uuid', 'syllable']).mean()"
   ]
  },
  {
   "cell_type": "code",
   "execution_count": 8,
   "id": "01c8f2d2-73b3-4fe0-bb2e-359b864c1b9c",
   "metadata": {},
   "outputs": [
    {
     "data": {
      "application/vnd.jupyter.widget-view+json": {
       "model_id": "53952509099c432a813d4f610f3cd6c9",
       "version_major": 2,
       "version_minor": 0
      },
      "text/plain": [
       "  0%|          | 0/1000 [00:00<?, ?it/s]"
      ]
     },
     "metadata": {},
     "output_type": "display_data"
    }
   ],
   "source": [
    "n_boots = 1_000\n",
    "coefs = []\n",
    "for i in tqdm(range(n_boots)):\n",
    "    sample = avg_vals.sample(frac=1, replace=True)\n",
    "    sample[keys] = zscore(sample[keys])\n",
    "    sample = sample.dropna(subset=keys)\n",
    "    mdl = LinearRegression()\n",
    "\n",
    "    mdl.fit(sample[keys[:-1]], sample[keys[-1:]])\n",
    "    coefs.append(mdl.coef_[0])\n",
    "coefs = np.array(coefs)"
   ]
  },
  {
   "cell_type": "code",
   "execution_count": 9,
   "id": "0058aec6-d104-4f17-9e6f-c3d1818bf029",
   "metadata": {},
   "outputs": [
    {
     "data": {
      "text/plain": [
       "0.00595361083475876"
      ]
     },
     "execution_count": 9,
     "metadata": {},
     "output_type": "execute_result"
    }
   ],
   "source": [
    "mdl.score(sample[keys[:-1]], sample[keys[-1:]])"
   ]
  },
  {
   "cell_type": "code",
   "execution_count": 10,
   "id": "808dd885-d052-451d-9144-d24bdd91caf5",
   "metadata": {},
   "outputs": [
    {
     "data": {
      "text/plain": [
       "array([[-0.05142287, -0.01883468, -0.00912761, -0.0021477 , -0.02389292,\n",
       "        -0.02117742],\n",
       "       [-0.00728016,  0.10086687,  0.01919214,  0.0248782 ,  0.03125423,\n",
       "         0.03339123]])"
      ]
     },
     "execution_count": 10,
     "metadata": {},
     "output_type": "execute_result"
    }
   ],
   "source": [
    "np.quantile(coefs, [0.025, 0.975], axis=0)"
   ]
  },
  {
   "cell_type": "code",
   "execution_count": 11,
   "id": "b0456dbc-5dea-4c89-9b4e-8301b413fb9d",
   "metadata": {},
   "outputs": [
    {
     "data": {
      "image/png": "[encoded data removed]",
      "text/plain": [
       "<Figure size 300x300 with 1 Axes>"
      ]
     },
     "metadata": {
      "image/png": {
       "height": 454,
       "width": 418
      }
     },
     "output_type": "display_data"
    }
   ],
   "source": [
    "mu = np.mean(coefs, axis=0)\n",
    "fig = fg(1, 1)\n",
    "fig.dpi = 300\n",
    "ax = fig.gca()\n",
    "ax.errorbar(\n",
    "    range(coefs.shape[1]),\n",
    "    mu,\n",
    "    yerr=[mu - np.quantile(coefs, 0.025, axis=0), np.quantile(coefs, 0.975, axis=0) - mu],\n",
    "    fmt=\"o\",\n",
    "    markeredgewidth=0,\n",
    "    markersize=4,\n",
    "    elinewidth=1.5,\n",
    "    ecolor=\"gray\",\n",
    "    color=\"k\",\n",
    ")\n",
    "ax.axhline(0, color=\"k\", ls=\"--\", lw=1)\n",
    "ax.set(\n",
    "    xticks=range(len(mu)),\n",
    "    xticklabels=[\"Velocity\", \"Acceleration\", \"Jerk\", \"Angular speed\", \"dHeight\", \"PPE\"],\n",
    "    ylabel=\"Beta\",\n",
    ")\n",
    "plt.xticks(rotation=90)\n",
    "sns.despine()\n",
    "saver(fig, 'ppe-linear-regression');"
   ]
  },
  {
   "cell_type": "code",
   "execution_count": null,
   "id": "ffcdb220-eb4f-419b-b2dc-27408e1359c7",
   "metadata": {},
   "outputs": [],
   "source": []
  }
 ],
 "metadata": {
  "kernelspec": {
   "display_name": "dopamine-paper",
   "language": "python",
   "name": "dopamine-paper"
  },
  "language_info": {
   "codemirror_mode": {
    "name": "ipython",
    "version": 3
   },
   "file_extension": ".py",
   "mimetype": "text/x-python",
   "name": "python",
   "nbconvert_exporter": "python",
   "pygments_lexer": "ipython3",
   "version": "3.9.13"
  },
  "widgets": {
   "application/vnd.jupyter.widget-state+json": {
    "state": {
     "09c9b50aa6ee4f9aa6150412906104d8": {
      "model_module": "@jupyter-widgets/controls",
      "model_module_version": "2.0.0",
      "model_name": "ProgressStyleModel",
      "state": {
       "description_width": ""
      }
     },
     "0faf67ee884c4821ac5ea72363adfef9": {
      "model_module": "@jupyter-widgets/controls",
      "model_module_version": "2.0.0",
      "model_name": "HTMLModel",
      "state": {
       "layout": "IPY_MODEL_a531454a2a314105ad721918de20c2f8",
       "style": "IPY_MODEL_452fc1b2e88947c8ab8abe25d03a569f",
       "value": "100%"
      }
     },
     "2322ec8663ca4cf1bbb9e09aae60fd16": {
      "model_module": "@jupyter-widgets/base",
      "model_module_version": "2.0.0",
      "model_name": "LayoutModel",
      "state": {}
     },
     "452fc1b2e88947c8ab8abe25d03a569f": {
      "model_module": "@jupyter-widgets/controls",
      "model_module_version": "2.0.0",
      "model_name": "HTMLStyleModel",
      "state": {
       "description_width": "",
       "font_size": null,
       "text_color": null
      }
     },
     "53952509099c432a813d4f610f3cd6c9": {
      "model_module": "@jupyter-widgets/controls",
      "model_module_version": "2.0.0",
      "model_name": "HBoxModel",
      "state": {
       "children": [
        "IPY_MODEL_0faf67ee884c4821ac5ea72363adfef9",
        "IPY_MODEL_7706bb68a1f04c33b580295a4ac3f83a",
        "IPY_MODEL_fee0a7957f93425d87a482d31b018947"
       ],
       "layout": "IPY_MODEL_b4c612d451684685b58561711a914035"
      }
     },
     "53ffdcc00ecc43b590deb23f89b94c49": {
      "model_module": "@jupyter-widgets/base",
      "model_module_version": "2.0.0",
      "model_name": "LayoutModel",
      "state": {}
     },
     "7706bb68a1f04c33b580295a4ac3f83a": {
      "model_module": "@jupyter-widgets/controls",
      "model_module_version": "2.0.0",
      "model_name": "FloatProgressModel",
      "state": {
       "bar_style": "success",
       "layout": "IPY_MODEL_2322ec8663ca4cf1bbb9e09aae60fd16",
       "max": 1000,
       "style": "IPY_MODEL_09c9b50aa6ee4f9aa6150412906104d8",
       "value": 1000
      }
     },
     "a531454a2a314105ad721918de20c2f8": {
      "model_module": "@jupyter-widgets/base",
      "model_module_version": "2.0.0",
      "model_name": "LayoutModel",
      "state": {}
     },
     "b4c612d451684685b58561711a914035": {
      "model_module": "@jupyter-widgets/base",
      "model_module_version": "2.0.0",
      "model_name": "LayoutModel",
      "state": {}
     },
     "dbb86de0aec449f6add9a74720186171": {
      "model_module": "@jupyter-widgets/controls",
      "model_module_version": "2.0.0",
      "model_name": "HTMLStyleModel",
      "state": {
       "description_width": "",
       "font_size": null,
       "text_color": null
      }
     },
     "fee0a7957f93425d87a482d31b018947": {
      "model_module": "@jupyter-widgets/controls",
      "model_module_version": "2.0.0",
      "model_name": "HTMLModel",
      "state": {
       "layout": "IPY_MODEL_53ffdcc00ecc43b590deb23f89b94c49",
       "style": "IPY_MODEL_dbb86de0aec449f6add9a74720186171",
       "value": " 1000/1000 [00:13&lt;00:00, 73.82it/s]"
      }
     }
    },
    "version_major": 2,
    "version_minor": 0
   }
  }
 },
 "nbformat": 4,
 "nbformat_minor": 5
}
